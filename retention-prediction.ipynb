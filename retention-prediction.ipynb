{
 "cells": [
  {
   "cell_type": "markdown",
   "metadata": {},
   "source": [
    "# Retention Prediction with Tensorflow\n",
    "Ref : https://www.digitalocean.com/community/tutorials/how-to-build-a-deep-learning-model-to-predict-employee-retention-using-keras-and-tensorflow"
   ]
  },
  {
   "cell_type": "markdown",
   "metadata": {},
   "source": [
    "# Load Dataset"
   ]
  },
  {
   "cell_type": "code",
   "execution_count": 49,
   "metadata": {},
   "outputs": [],
   "source": [
    "import pandas as pd\n",
    "import numpy as np\n",
    "from sklearn.model_selection import train_test_split\n",
    "from sklearn.preprocessing import StandardScaler\n",
    "df = pd.read_csv(\"https://raw.githubusercontent.com/mwitiderrick/kerasDO/master/HR_comma_sep.csv\")"
   ]
  },
  {
   "cell_type": "code",
   "execution_count": 50,
   "metadata": {},
   "outputs": [
    {
     "data": {
      "text/html": [
       "<div>\n",
       "<style scoped>\n",
       "    .dataframe tbody tr th:only-of-type {\n",
       "        vertical-align: middle;\n",
       "    }\n",
       "\n",
       "    .dataframe tbody tr th {\n",
       "        vertical-align: top;\n",
       "    }\n",
       "\n",
       "    .dataframe thead th {\n",
       "        text-align: right;\n",
       "    }\n",
       "</style>\n",
       "<table border=\"1\" class=\"dataframe\">\n",
       "  <thead>\n",
       "    <tr style=\"text-align: right;\">\n",
       "      <th></th>\n",
       "      <th>satisfaction_level</th>\n",
       "      <th>last_evaluation</th>\n",
       "      <th>number_project</th>\n",
       "      <th>average_montly_hours</th>\n",
       "      <th>time_spend_company</th>\n",
       "      <th>work_accident</th>\n",
       "      <th>left</th>\n",
       "      <th>promotion_last_5years</th>\n",
       "      <th>department</th>\n",
       "      <th>salary_level</th>\n",
       "    </tr>\n",
       "  </thead>\n",
       "  <tbody>\n",
       "    <tr>\n",
       "      <th>0</th>\n",
       "      <td>0.38</td>\n",
       "      <td>0.53</td>\n",
       "      <td>2</td>\n",
       "      <td>157</td>\n",
       "      <td>3</td>\n",
       "      <td>0</td>\n",
       "      <td>1</td>\n",
       "      <td>0</td>\n",
       "      <td>sales</td>\n",
       "      <td>low</td>\n",
       "    </tr>\n",
       "    <tr>\n",
       "      <th>1</th>\n",
       "      <td>0.80</td>\n",
       "      <td>0.86</td>\n",
       "      <td>5</td>\n",
       "      <td>262</td>\n",
       "      <td>6</td>\n",
       "      <td>0</td>\n",
       "      <td>1</td>\n",
       "      <td>0</td>\n",
       "      <td>sales</td>\n",
       "      <td>medium</td>\n",
       "    </tr>\n",
       "    <tr>\n",
       "      <th>2</th>\n",
       "      <td>0.11</td>\n",
       "      <td>0.88</td>\n",
       "      <td>7</td>\n",
       "      <td>272</td>\n",
       "      <td>4</td>\n",
       "      <td>0</td>\n",
       "      <td>1</td>\n",
       "      <td>0</td>\n",
       "      <td>sales</td>\n",
       "      <td>medium</td>\n",
       "    </tr>\n",
       "    <tr>\n",
       "      <th>3</th>\n",
       "      <td>0.72</td>\n",
       "      <td>0.87</td>\n",
       "      <td>5</td>\n",
       "      <td>223</td>\n",
       "      <td>5</td>\n",
       "      <td>0</td>\n",
       "      <td>1</td>\n",
       "      <td>0</td>\n",
       "      <td>sales</td>\n",
       "      <td>low</td>\n",
       "    </tr>\n",
       "    <tr>\n",
       "      <th>4</th>\n",
       "      <td>0.37</td>\n",
       "      <td>0.52</td>\n",
       "      <td>2</td>\n",
       "      <td>159</td>\n",
       "      <td>3</td>\n",
       "      <td>0</td>\n",
       "      <td>1</td>\n",
       "      <td>0</td>\n",
       "      <td>sales</td>\n",
       "      <td>low</td>\n",
       "    </tr>\n",
       "  </tbody>\n",
       "</table>\n",
       "</div>"
      ],
      "text/plain": [
       "   satisfaction_level  last_evaluation  number_project  average_montly_hours  \\\n",
       "0                0.38             0.53               2                   157   \n",
       "1                0.80             0.86               5                   262   \n",
       "2                0.11             0.88               7                   272   \n",
       "3                0.72             0.87               5                   223   \n",
       "4                0.37             0.52               2                   159   \n",
       "\n",
       "   time_spend_company  work_accident  left  promotion_last_5years department  \\\n",
       "0                   3              0     1                      0      sales   \n",
       "1                   6              0     1                      0      sales   \n",
       "2                   4              0     1                      0      sales   \n",
       "3                   5              0     1                      0      sales   \n",
       "4                   3              0     1                      0      sales   \n",
       "\n",
       "  salary_level  \n",
       "0          low  \n",
       "1       medium  \n",
       "2       medium  \n",
       "3          low  \n",
       "4          low  "
      ]
     },
     "execution_count": 50,
     "metadata": {},
     "output_type": "execute_result"
    }
   ],
   "source": [
    "df.rename(columns={\"Work_accident\": \"work_accident\", \"salary\": \"salary_level\"}, inplace=True)\n",
    "df.head()"
   ]
  },
  {
   "cell_type": "code",
   "execution_count": 51,
   "metadata": {},
   "outputs": [],
   "source": [
    "feats = ['department','salary_level']\n",
    "df_final = pd.get_dummies(df,columns=feats,drop_first=False)"
   ]
  },
  {
   "cell_type": "code",
   "execution_count": 52,
   "metadata": {},
   "outputs": [
    {
     "name": "stdout",
     "output_type": "stream",
     "text": [
      "['sales' 'accounting' 'hr' 'technical' 'support' 'management' 'IT'\n",
      " 'product_mng' 'marketing' 'RandD']\n",
      "10\n"
     ]
    }
   ],
   "source": [
    "print(df[\"department\"].unique())\n",
    "print(df[\"department\"].nunique())"
   ]
  },
  {
   "cell_type": "code",
   "execution_count": 53,
   "metadata": {},
   "outputs": [
    {
     "data": {
      "text/plain": [
       "Index(['satisfaction_level', 'last_evaluation', 'number_project',\n",
       "       'average_montly_hours', 'time_spend_company', 'work_accident', 'left',\n",
       "       'promotion_last_5years', 'department_IT', 'department_RandD',\n",
       "       'department_accounting', 'department_hr', 'department_management',\n",
       "       'department_marketing', 'department_product_mng', 'department_sales',\n",
       "       'department_support', 'department_technical', 'salary_level_high',\n",
       "       'salary_level_low', 'salary_level_medium'],\n",
       "      dtype='object')"
      ]
     },
     "execution_count": 53,
     "metadata": {},
     "output_type": "execute_result"
    }
   ],
   "source": [
    "df_final.columns"
   ]
  },
  {
   "cell_type": "markdown",
   "metadata": {},
   "source": [
    "## Separating Train and Test Dataset"
   ]
  },
  {
   "cell_type": "code",
   "execution_count": 54,
   "metadata": {},
   "outputs": [],
   "source": [
    "X = df_final.drop(['left'],axis=1).values\n",
    "y = df_final['left'].values\n",
    "\n",
    "X_train, X_test, y_train, y_test = train_test_split(X, y, test_size=0.3)"
   ]
  },
  {
   "cell_type": "code",
   "execution_count": 55,
   "metadata": {},
   "outputs": [],
   "source": [
    "sc = StandardScaler()\n",
    "X_train = sc.fit_transform(X_train)\n",
    "X_test = sc.transform(X_test)"
   ]
  },
  {
   "cell_type": "markdown",
   "metadata": {},
   "source": [
    "# Train Model"
   ]
  },
  {
   "cell_type": "code",
   "execution_count": 61,
   "metadata": {},
   "outputs": [],
   "source": [
    "from tensorflow.python.keras.models import Sequential\n",
    "from tensorflow.python.keras.layers import Dense\n",
    "from tensorflow.python.keras.layers import Dropout\n",
    "from tensorflow.python.keras.wrappers.scikit_learn import KerasClassifier\n",
    "from sklearn.model_selection import GridSearchCV\n",
    "from sklearn.model_selection import cross_val_score\n",
    "\n",
    "def make_classifier(optimizer):\n",
    "    classifier = Sequential()\n",
    "    classifier.add(Dense(10, kernel_initializer = \"uniform\", activation = \"relu\", input_dim=20))\n",
    "    classifier.add(Dropout(rate = 0.1))\n",
    "    classifier.add(Dense(1, kernel_initializer = \"uniform\", activation = \"sigmoid\"))\n",
    "    classifier.compile(optimizer= optimizer,loss = \"binary_crossentropy\",metrics = [\"accuracy\"])\n",
    "    return classifier"
   ]
  },
  {
   "cell_type": "code",
   "execution_count": 62,
   "metadata": {},
   "outputs": [],
   "source": [
    "classifier = KerasClassifier(build_fn = make_classifier)"
   ]
  },
  {
   "cell_type": "code",
   "execution_count": 63,
   "metadata": {},
   "outputs": [],
   "source": [
    "params = {\n",
    "    'batch_size':[10,20,30],\n",
    "    'epochs':[2,4,6,8,10],\n",
    "    'optimizer':['adam','rmsprop']\n",
    "}"
   ]
  },
  {
   "cell_type": "code",
   "execution_count": 64,
   "metadata": {},
   "outputs": [],
   "source": [
    "grid_search = GridSearchCV(estimator=classifier,\n",
    "                           param_grid=params,\n",
    "                           scoring=\"accuracy\",\n",
    "                           cv=10)"
   ]
  },
  {
   "cell_type": "code",
   "execution_count": 65,
   "metadata": {},
   "outputs": [
    {
     "name": "stdout",
     "output_type": "stream",
     "text": [
      "Epoch 1/2\n",
      "945/945 [==============================] - 2s 1ms/step - loss: 0.4478 - accuracy: 0.7852\n",
      "Epoch 2/2\n",
      "945/945 [==============================] - 1s 1ms/step - loss: 0.3048 - accuracy: 0.8256\n"
     ]
    },
    {
     "name": "stderr",
     "output_type": "stream",
     "text": [
      "/Users/husni.zuhdi/Documents/Codes/1-Python-Workshop/retention-prediction-demo/retention-prediction/lib/python3.10/site-packages/tensorflow/python/keras/engine/sequential.py:454: UserWarning: `model.predict_classes()` is deprecated and will be removed after 2021-01-01. Please use instead:* `np.argmax(model.predict(x), axis=-1)`,   if your model does multi-class classification   (e.g. if it uses a `softmax` last-layer activation).* `(model.predict(x) > 0.5).astype(\"int32\")`,   if your model does binary classification   (e.g. if it uses a `sigmoid` last-layer activation).\n",
      "  warnings.warn('`model.predict_classes()` is deprecated and '\n"
     ]
    },
    {
     "name": "stdout",
     "output_type": "stream",
     "text": [
      "Epoch 1/2\n",
      "945/945 [==============================] - 2s 1ms/step - loss: 0.4365 - accuracy: 0.7911\n",
      "Epoch 2/2\n",
      "945/945 [==============================] - 1s 1ms/step - loss: 0.2961 - accuracy: 0.8299\n",
      "Epoch 1/2\n"
     ]
    },
    {
     "name": "stderr",
     "output_type": "stream",
     "text": [
      "/Users/husni.zuhdi/Documents/Codes/1-Python-Workshop/retention-prediction-demo/retention-prediction/lib/python3.10/site-packages/tensorflow/python/keras/engine/sequential.py:454: UserWarning: `model.predict_classes()` is deprecated and will be removed after 2021-01-01. Please use instead:* `np.argmax(model.predict(x), axis=-1)`,   if your model does multi-class classification   (e.g. if it uses a `softmax` last-layer activation).* `(model.predict(x) > 0.5).astype(\"int32\")`,   if your model does binary classification   (e.g. if it uses a `sigmoid` last-layer activation).\n",
      "  warnings.warn('`model.predict_classes()` is deprecated and '\n"
     ]
    },
    {
     "name": "stdout",
     "output_type": "stream",
     "text": [
      "945/945 [==============================] - 2s 1ms/step - loss: 0.4360 - accuracy: 0.8147\n",
      "Epoch 2/2\n",
      "945/945 [==============================] - 1s 1ms/step - loss: 0.2551 - accuracy: 0.9043\n"
     ]
    },
    {
     "name": "stderr",
     "output_type": "stream",
     "text": [
      "/Users/husni.zuhdi/Documents/Codes/1-Python-Workshop/retention-prediction-demo/retention-prediction/lib/python3.10/site-packages/tensorflow/python/keras/engine/sequential.py:454: UserWarning: `model.predict_classes()` is deprecated and will be removed after 2021-01-01. Please use instead:* `np.argmax(model.predict(x), axis=-1)`,   if your model does multi-class classification   (e.g. if it uses a `softmax` last-layer activation).* `(model.predict(x) > 0.5).astype(\"int32\")`,   if your model does binary classification   (e.g. if it uses a `sigmoid` last-layer activation).\n",
      "  warnings.warn('`model.predict_classes()` is deprecated and '\n"
     ]
    },
    {
     "name": "stdout",
     "output_type": "stream",
     "text": [
      "Epoch 1/2\n",
      "945/945 [==============================] - 2s 1ms/step - loss: 0.4381 - accuracy: 0.7899\n",
      "Epoch 2/2\n",
      "945/945 [==============================] - 1s 1ms/step - loss: 0.2843 - accuracy: 0.8349\n"
     ]
    },
    {
     "name": "stderr",
     "output_type": "stream",
     "text": [
      "/Users/husni.zuhdi/Documents/Codes/1-Python-Workshop/retention-prediction-demo/retention-prediction/lib/python3.10/site-packages/tensorflow/python/keras/engine/sequential.py:454: UserWarning: `model.predict_classes()` is deprecated and will be removed after 2021-01-01. Please use instead:* `np.argmax(model.predict(x), axis=-1)`,   if your model does multi-class classification   (e.g. if it uses a `softmax` last-layer activation).* `(model.predict(x) > 0.5).astype(\"int32\")`,   if your model does binary classification   (e.g. if it uses a `sigmoid` last-layer activation).\n",
      "  warnings.warn('`model.predict_classes()` is deprecated and '\n"
     ]
    },
    {
     "name": "stdout",
     "output_type": "stream",
     "text": [
      "Epoch 1/2\n",
      "945/945 [==============================] - 2s 1ms/step - loss: 0.4289 - accuracy: 0.7930\n",
      "Epoch 2/2\n",
      "945/945 [==============================] - 1s 1ms/step - loss: 0.2820 - accuracy: 0.8405\n"
     ]
    },
    {
     "name": "stderr",
     "output_type": "stream",
     "text": [
      "/Users/husni.zuhdi/Documents/Codes/1-Python-Workshop/retention-prediction-demo/retention-prediction/lib/python3.10/site-packages/tensorflow/python/keras/engine/sequential.py:454: UserWarning: `model.predict_classes()` is deprecated and will be removed after 2021-01-01. Please use instead:* `np.argmax(model.predict(x), axis=-1)`,   if your model does multi-class classification   (e.g. if it uses a `softmax` last-layer activation).* `(model.predict(x) > 0.5).astype(\"int32\")`,   if your model does binary classification   (e.g. if it uses a `sigmoid` last-layer activation).\n",
      "  warnings.warn('`model.predict_classes()` is deprecated and '\n"
     ]
    },
    {
     "name": "stdout",
     "output_type": "stream",
     "text": [
      "Epoch 1/2\n",
      "945/945 [==============================] - 2s 1ms/step - loss: 0.4451 - accuracy: 0.7942\n",
      "Epoch 2/2\n",
      "945/945 [==============================] - 1s 1ms/step - loss: 0.2753 - accuracy: 0.8957\n",
      "Epoch 1/2\n"
     ]
    },
    {
     "name": "stderr",
     "output_type": "stream",
     "text": [
      "/Users/husni.zuhdi/Documents/Codes/1-Python-Workshop/retention-prediction-demo/retention-prediction/lib/python3.10/site-packages/tensorflow/python/keras/engine/sequential.py:454: UserWarning: `model.predict_classes()` is deprecated and will be removed after 2021-01-01. Please use instead:* `np.argmax(model.predict(x), axis=-1)`,   if your model does multi-class classification   (e.g. if it uses a `softmax` last-layer activation).* `(model.predict(x) > 0.5).astype(\"int32\")`,   if your model does binary classification   (e.g. if it uses a `sigmoid` last-layer activation).\n",
      "  warnings.warn('`model.predict_classes()` is deprecated and '\n"
     ]
    },
    {
     "name": "stdout",
     "output_type": "stream",
     "text": [
      "945/945 [==============================] - 2s 1ms/step - loss: 0.4550 - accuracy: 0.7835\n",
      "Epoch 2/2\n",
      "945/945 [==============================] - 1s 1ms/step - loss: 0.3229 - accuracy: 0.8473\n"
     ]
    },
    {
     "name": "stderr",
     "output_type": "stream",
     "text": [
      "/Users/husni.zuhdi/Documents/Codes/1-Python-Workshop/retention-prediction-demo/retention-prediction/lib/python3.10/site-packages/tensorflow/python/keras/engine/sequential.py:454: UserWarning: `model.predict_classes()` is deprecated and will be removed after 2021-01-01. Please use instead:* `np.argmax(model.predict(x), axis=-1)`,   if your model does multi-class classification   (e.g. if it uses a `softmax` last-layer activation).* `(model.predict(x) > 0.5).astype(\"int32\")`,   if your model does binary classification   (e.g. if it uses a `sigmoid` last-layer activation).\n",
      "  warnings.warn('`model.predict_classes()` is deprecated and '\n"
     ]
    },
    {
     "name": "stdout",
     "output_type": "stream",
     "text": [
      "Epoch 1/2\n",
      "945/945 [==============================] - 2s 1ms/step - loss: 0.4407 - accuracy: 0.7848\n",
      "Epoch 2/2\n",
      "945/945 [==============================] - 1s 1ms/step - loss: 0.2979 - accuracy: 0.8324\n"
     ]
    },
    {
     "name": "stderr",
     "output_type": "stream",
     "text": [
      "/Users/husni.zuhdi/Documents/Codes/1-Python-Workshop/retention-prediction-demo/retention-prediction/lib/python3.10/site-packages/tensorflow/python/keras/engine/sequential.py:454: UserWarning: `model.predict_classes()` is deprecated and will be removed after 2021-01-01. Please use instead:* `np.argmax(model.predict(x), axis=-1)`,   if your model does multi-class classification   (e.g. if it uses a `softmax` last-layer activation).* `(model.predict(x) > 0.5).astype(\"int32\")`,   if your model does binary classification   (e.g. if it uses a `sigmoid` last-layer activation).\n",
      "  warnings.warn('`model.predict_classes()` is deprecated and '\n"
     ]
    },
    {
     "name": "stdout",
     "output_type": "stream",
     "text": [
      "Epoch 1/2\n",
      "945/945 [==============================] - 2s 1ms/step - loss: 0.4541 - accuracy: 0.7649\n",
      "Epoch 2/2\n",
      "945/945 [==============================] - 1s 1ms/step - loss: 0.3346 - accuracy: 0.8151\n",
      "Epoch 1/2\n"
     ]
    },
    {
     "name": "stderr",
     "output_type": "stream",
     "text": [
      "/Users/husni.zuhdi/Documents/Codes/1-Python-Workshop/retention-prediction-demo/retention-prediction/lib/python3.10/site-packages/tensorflow/python/keras/engine/sequential.py:454: UserWarning: `model.predict_classes()` is deprecated and will be removed after 2021-01-01. Please use instead:* `np.argmax(model.predict(x), axis=-1)`,   if your model does multi-class classification   (e.g. if it uses a `softmax` last-layer activation).* `(model.predict(x) > 0.5).astype(\"int32\")`,   if your model does binary classification   (e.g. if it uses a `sigmoid` last-layer activation).\n",
      "  warnings.warn('`model.predict_classes()` is deprecated and '\n"
     ]
    },
    {
     "name": "stdout",
     "output_type": "stream",
     "text": [
      "945/945 [==============================] - 2s 1ms/step - loss: 0.4469 - accuracy: 0.7835\n",
      "Epoch 2/2\n",
      "945/945 [==============================] - 1s 1ms/step - loss: 0.2948 - accuracy: 0.8326\n",
      "Epoch 1/2\n"
     ]
    },
    {
     "name": "stderr",
     "output_type": "stream",
     "text": [
      "/Users/husni.zuhdi/Documents/Codes/1-Python-Workshop/retention-prediction-demo/retention-prediction/lib/python3.10/site-packages/tensorflow/python/keras/engine/sequential.py:454: UserWarning: `model.predict_classes()` is deprecated and will be removed after 2021-01-01. Please use instead:* `np.argmax(model.predict(x), axis=-1)`,   if your model does multi-class classification   (e.g. if it uses a `softmax` last-layer activation).* `(model.predict(x) > 0.5).astype(\"int32\")`,   if your model does binary classification   (e.g. if it uses a `sigmoid` last-layer activation).\n",
      "  warnings.warn('`model.predict_classes()` is deprecated and '\n"
     ]
    },
    {
     "name": "stdout",
     "output_type": "stream",
     "text": [
      "945/945 [==============================] - 2s 1ms/step - loss: 0.4594 - accuracy: 0.7982\n",
      "Epoch 2/2\n",
      "945/945 [==============================] - 1s 1ms/step - loss: 0.2813 - accuracy: 0.8950\n",
      "Epoch 1/2\n"
     ]
    },
    {
     "name": "stderr",
     "output_type": "stream",
     "text": [
      "/Users/husni.zuhdi/Documents/Codes/1-Python-Workshop/retention-prediction-demo/retention-prediction/lib/python3.10/site-packages/tensorflow/python/keras/engine/sequential.py:454: UserWarning: `model.predict_classes()` is deprecated and will be removed after 2021-01-01. Please use instead:* `np.argmax(model.predict(x), axis=-1)`,   if your model does multi-class classification   (e.g. if it uses a `softmax` last-layer activation).* `(model.predict(x) > 0.5).astype(\"int32\")`,   if your model does binary classification   (e.g. if it uses a `sigmoid` last-layer activation).\n",
      "  warnings.warn('`model.predict_classes()` is deprecated and '\n"
     ]
    },
    {
     "name": "stdout",
     "output_type": "stream",
     "text": [
      "945/945 [==============================] - 2s 1ms/step - loss: 0.4689 - accuracy: 0.7779\n",
      "Epoch 2/2\n",
      "945/945 [==============================] - 1s 1ms/step - loss: 0.3263 - accuracy: 0.8211\n"
     ]
    },
    {
     "name": "stderr",
     "output_type": "stream",
     "text": [
      "/Users/husni.zuhdi/Documents/Codes/1-Python-Workshop/retention-prediction-demo/retention-prediction/lib/python3.10/site-packages/tensorflow/python/keras/engine/sequential.py:454: UserWarning: `model.predict_classes()` is deprecated and will be removed after 2021-01-01. Please use instead:* `np.argmax(model.predict(x), axis=-1)`,   if your model does multi-class classification   (e.g. if it uses a `softmax` last-layer activation).* `(model.predict(x) > 0.5).astype(\"int32\")`,   if your model does binary classification   (e.g. if it uses a `sigmoid` last-layer activation).\n",
      "  warnings.warn('`model.predict_classes()` is deprecated and '\n"
     ]
    },
    {
     "name": "stdout",
     "output_type": "stream",
     "text": [
      "Epoch 1/2\n",
      "945/945 [==============================] - 2s 1ms/step - loss: 0.4721 - accuracy: 0.7962\n",
      "Epoch 2/2\n",
      "945/945 [==============================] - 1s 1ms/step - loss: 0.2823 - accuracy: 0.8919\n",
      "Epoch 1/2\n"
     ]
    },
    {
     "name": "stderr",
     "output_type": "stream",
     "text": [
      "/Users/husni.zuhdi/Documents/Codes/1-Python-Workshop/retention-prediction-demo/retention-prediction/lib/python3.10/site-packages/tensorflow/python/keras/engine/sequential.py:454: UserWarning: `model.predict_classes()` is deprecated and will be removed after 2021-01-01. Please use instead:* `np.argmax(model.predict(x), axis=-1)`,   if your model does multi-class classification   (e.g. if it uses a `softmax` last-layer activation).* `(model.predict(x) > 0.5).astype(\"int32\")`,   if your model does binary classification   (e.g. if it uses a `sigmoid` last-layer activation).\n",
      "  warnings.warn('`model.predict_classes()` is deprecated and '\n"
     ]
    },
    {
     "name": "stdout",
     "output_type": "stream",
     "text": [
      "945/945 [==============================] - 2s 1ms/step - loss: 0.4684 - accuracy: 0.7887\n",
      "Epoch 2/2\n",
      "945/945 [==============================] - 1s 1ms/step - loss: 0.2898 - accuracy: 0.8837\n",
      "Epoch 1/2\n"
     ]
    },
    {
     "name": "stderr",
     "output_type": "stream",
     "text": [
      "/Users/husni.zuhdi/Documents/Codes/1-Python-Workshop/retention-prediction-demo/retention-prediction/lib/python3.10/site-packages/tensorflow/python/keras/engine/sequential.py:454: UserWarning: `model.predict_classes()` is deprecated and will be removed after 2021-01-01. Please use instead:* `np.argmax(model.predict(x), axis=-1)`,   if your model does multi-class classification   (e.g. if it uses a `softmax` last-layer activation).* `(model.predict(x) > 0.5).astype(\"int32\")`,   if your model does binary classification   (e.g. if it uses a `sigmoid` last-layer activation).\n",
      "  warnings.warn('`model.predict_classes()` is deprecated and '\n"
     ]
    },
    {
     "name": "stdout",
     "output_type": "stream",
     "text": [
      "945/945 [==============================] - 1s 1ms/step - loss: 0.4728 - accuracy: 0.7646\n",
      "Epoch 2/2\n",
      "945/945 [==============================] - 1s 1ms/step - loss: 0.3522 - accuracy: 0.8062\n",
      "Epoch 1/2\n"
     ]
    },
    {
     "name": "stderr",
     "output_type": "stream",
     "text": [
      "/Users/husni.zuhdi/Documents/Codes/1-Python-Workshop/retention-prediction-demo/retention-prediction/lib/python3.10/site-packages/tensorflow/python/keras/engine/sequential.py:454: UserWarning: `model.predict_classes()` is deprecated and will be removed after 2021-01-01. Please use instead:* `np.argmax(model.predict(x), axis=-1)`,   if your model does multi-class classification   (e.g. if it uses a `softmax` last-layer activation).* `(model.predict(x) > 0.5).astype(\"int32\")`,   if your model does binary classification   (e.g. if it uses a `sigmoid` last-layer activation).\n",
      "  warnings.warn('`model.predict_classes()` is deprecated and '\n"
     ]
    },
    {
     "name": "stdout",
     "output_type": "stream",
     "text": [
      "945/945 [==============================] - 2s 1ms/step - loss: 0.4671 - accuracy: 0.7778\n",
      "Epoch 2/2\n",
      "945/945 [==============================] - 1s 1ms/step - loss: 0.3213 - accuracy: 0.8198\n"
     ]
    },
    {
     "name": "stderr",
     "output_type": "stream",
     "text": [
      "/Users/husni.zuhdi/Documents/Codes/1-Python-Workshop/retention-prediction-demo/retention-prediction/lib/python3.10/site-packages/tensorflow/python/keras/engine/sequential.py:454: UserWarning: `model.predict_classes()` is deprecated and will be removed after 2021-01-01. Please use instead:* `np.argmax(model.predict(x), axis=-1)`,   if your model does multi-class classification   (e.g. if it uses a `softmax` last-layer activation).* `(model.predict(x) > 0.5).astype(\"int32\")`,   if your model does binary classification   (e.g. if it uses a `sigmoid` last-layer activation).\n",
      "  warnings.warn('`model.predict_classes()` is deprecated and '\n"
     ]
    },
    {
     "name": "stdout",
     "output_type": "stream",
     "text": [
      "Epoch 1/2\n",
      "945/945 [==============================] - 2s 1ms/step - loss: 0.4726 - accuracy: 0.7765\n",
      "Epoch 2/2\n",
      "945/945 [==============================] - 1s 1ms/step - loss: 0.3293 - accuracy: 0.8191\n"
     ]
    },
    {
     "name": "stderr",
     "output_type": "stream",
     "text": [
      "/Users/husni.zuhdi/Documents/Codes/1-Python-Workshop/retention-prediction-demo/retention-prediction/lib/python3.10/site-packages/tensorflow/python/keras/engine/sequential.py:454: UserWarning: `model.predict_classes()` is deprecated and will be removed after 2021-01-01. Please use instead:* `np.argmax(model.predict(x), axis=-1)`,   if your model does multi-class classification   (e.g. if it uses a `softmax` last-layer activation).* `(model.predict(x) > 0.5).astype(\"int32\")`,   if your model does binary classification   (e.g. if it uses a `sigmoid` last-layer activation).\n",
      "  warnings.warn('`model.predict_classes()` is deprecated and '\n"
     ]
    },
    {
     "name": "stdout",
     "output_type": "stream",
     "text": [
      "Epoch 1/2\n",
      "945/945 [==============================] - 2s 1ms/step - loss: 0.4674 - accuracy: 0.7835\n",
      "Epoch 2/2\n",
      "945/945 [==============================] - 2s 2ms/step - loss: 0.2983 - accuracy: 0.8770\n"
     ]
    },
    {
     "name": "stderr",
     "output_type": "stream",
     "text": [
      "/Users/husni.zuhdi/Documents/Codes/1-Python-Workshop/retention-prediction-demo/retention-prediction/lib/python3.10/site-packages/tensorflow/python/keras/engine/sequential.py:454: UserWarning: `model.predict_classes()` is deprecated and will be removed after 2021-01-01. Please use instead:* `np.argmax(model.predict(x), axis=-1)`,   if your model does multi-class classification   (e.g. if it uses a `softmax` last-layer activation).* `(model.predict(x) > 0.5).astype(\"int32\")`,   if your model does binary classification   (e.g. if it uses a `sigmoid` last-layer activation).\n",
      "  warnings.warn('`model.predict_classes()` is deprecated and '\n"
     ]
    },
    {
     "name": "stdout",
     "output_type": "stream",
     "text": [
      "Epoch 1/2\n",
      "945/945 [==============================] - 2s 1ms/step - loss: 0.4551 - accuracy: 0.7832\n",
      "Epoch 2/2\n",
      "945/945 [==============================] - 1s 1ms/step - loss: 0.3294 - accuracy: 0.8141\n",
      "Epoch 1/2\n"
     ]
    },
    {
     "name": "stderr",
     "output_type": "stream",
     "text": [
      "/Users/husni.zuhdi/Documents/Codes/1-Python-Workshop/retention-prediction-demo/retention-prediction/lib/python3.10/site-packages/tensorflow/python/keras/engine/sequential.py:454: UserWarning: `model.predict_classes()` is deprecated and will be removed after 2021-01-01. Please use instead:* `np.argmax(model.predict(x), axis=-1)`,   if your model does multi-class classification   (e.g. if it uses a `softmax` last-layer activation).* `(model.predict(x) > 0.5).astype(\"int32\")`,   if your model does binary classification   (e.g. if it uses a `sigmoid` last-layer activation).\n",
      "  warnings.warn('`model.predict_classes()` is deprecated and '\n"
     ]
    },
    {
     "name": "stdout",
     "output_type": "stream",
     "text": [
      "945/945 [==============================] - 2s 1ms/step - loss: 0.4686 - accuracy: 0.7769\n",
      "Epoch 2/2\n",
      "945/945 [==============================] - 1s 1ms/step - loss: 0.3357 - accuracy: 0.8188\n"
     ]
    },
    {
     "name": "stderr",
     "output_type": "stream",
     "text": [
      "/Users/husni.zuhdi/Documents/Codes/1-Python-Workshop/retention-prediction-demo/retention-prediction/lib/python3.10/site-packages/tensorflow/python/keras/engine/sequential.py:454: UserWarning: `model.predict_classes()` is deprecated and will be removed after 2021-01-01. Please use instead:* `np.argmax(model.predict(x), axis=-1)`,   if your model does multi-class classification   (e.g. if it uses a `softmax` last-layer activation).* `(model.predict(x) > 0.5).astype(\"int32\")`,   if your model does binary classification   (e.g. if it uses a `sigmoid` last-layer activation).\n",
      "  warnings.warn('`model.predict_classes()` is deprecated and '\n"
     ]
    },
    {
     "name": "stdout",
     "output_type": "stream",
     "text": [
      "Epoch 1/4\n",
      "945/945 [==============================] - 2s 1ms/step - loss: 0.4459 - accuracy: 0.7930\n",
      "Epoch 2/4\n",
      "945/945 [==============================] - 1s 1ms/step - loss: 0.3055 - accuracy: 0.8275\n",
      "Epoch 3/4\n",
      "945/945 [==============================] - 1s 1ms/step - loss: 0.2666 - accuracy: 0.8835\n",
      "Epoch 4/4\n",
      "945/945 [==============================] - 1s 1ms/step - loss: 0.2484 - accuracy: 0.9148\n",
      "Epoch 1/4\n"
     ]
    },
    {
     "name": "stderr",
     "output_type": "stream",
     "text": [
      "/Users/husni.zuhdi/Documents/Codes/1-Python-Workshop/retention-prediction-demo/retention-prediction/lib/python3.10/site-packages/tensorflow/python/keras/engine/sequential.py:454: UserWarning: `model.predict_classes()` is deprecated and will be removed after 2021-01-01. Please use instead:* `np.argmax(model.predict(x), axis=-1)`,   if your model does multi-class classification   (e.g. if it uses a `softmax` last-layer activation).* `(model.predict(x) > 0.5).astype(\"int32\")`,   if your model does binary classification   (e.g. if it uses a `sigmoid` last-layer activation).\n",
      "  warnings.warn('`model.predict_classes()` is deprecated and '\n"
     ]
    },
    {
     "name": "stdout",
     "output_type": "stream",
     "text": [
      "945/945 [==============================] - 2s 1ms/step - loss: 0.4388 - accuracy: 0.7947\n",
      "Epoch 2/4\n",
      "945/945 [==============================] - 1s 1ms/step - loss: 0.2963 - accuracy: 0.8320\n",
      "Epoch 3/4\n",
      "945/945 [==============================] - 1s 1ms/step - loss: 0.2614 - accuracy: 0.8963\n",
      "Epoch 4/4\n",
      "945/945 [==============================] - 1s 1ms/step - loss: 0.2436 - accuracy: 0.9131\n"
     ]
    },
    {
     "name": "stderr",
     "output_type": "stream",
     "text": [
      "/Users/husni.zuhdi/Documents/Codes/1-Python-Workshop/retention-prediction-demo/retention-prediction/lib/python3.10/site-packages/tensorflow/python/keras/engine/sequential.py:454: UserWarning: `model.predict_classes()` is deprecated and will be removed after 2021-01-01. Please use instead:* `np.argmax(model.predict(x), axis=-1)`,   if your model does multi-class classification   (e.g. if it uses a `softmax` last-layer activation).* `(model.predict(x) > 0.5).astype(\"int32\")`,   if your model does binary classification   (e.g. if it uses a `sigmoid` last-layer activation).\n",
      "  warnings.warn('`model.predict_classes()` is deprecated and '\n"
     ]
    },
    {
     "name": "stdout",
     "output_type": "stream",
     "text": [
      "Epoch 1/4\n",
      "945/945 [==============================] - 1s 1ms/step - loss: 0.4445 - accuracy: 0.7918\n",
      "Epoch 2/4\n",
      "945/945 [==============================] - 1s 1ms/step - loss: 0.2915 - accuracy: 0.8424\n",
      "Epoch 3/4\n",
      "945/945 [==============================] - 1s 1ms/step - loss: 0.2521 - accuracy: 0.8577\n",
      "Epoch 4/4\n",
      "945/945 [==============================] - 1s 1ms/step - loss: 0.2322 - accuracy: 0.9222\n"
     ]
    },
    {
     "name": "stderr",
     "output_type": "stream",
     "text": [
      "/Users/husni.zuhdi/Documents/Codes/1-Python-Workshop/retention-prediction-demo/retention-prediction/lib/python3.10/site-packages/tensorflow/python/keras/engine/sequential.py:454: UserWarning: `model.predict_classes()` is deprecated and will be removed after 2021-01-01. Please use instead:* `np.argmax(model.predict(x), axis=-1)`,   if your model does multi-class classification   (e.g. if it uses a `softmax` last-layer activation).* `(model.predict(x) > 0.5).astype(\"int32\")`,   if your model does binary classification   (e.g. if it uses a `sigmoid` last-layer activation).\n",
      "  warnings.warn('`model.predict_classes()` is deprecated and '\n"
     ]
    },
    {
     "name": "stdout",
     "output_type": "stream",
     "text": [
      "Epoch 1/4\n",
      "945/945 [==============================] - 2s 1ms/step - loss: 0.4415 - accuracy: 0.8070\n",
      "Epoch 2/4\n",
      "945/945 [==============================] - 1s 1ms/step - loss: 0.2491 - accuracy: 0.9104\n",
      "Epoch 3/4\n",
      "945/945 [==============================] - 1s 1ms/step - loss: 0.2107 - accuracy: 0.9258\n",
      "Epoch 4/4\n",
      "945/945 [==============================] - 1s 1ms/step - loss: 0.1953 - accuracy: 0.9337\n"
     ]
    },
    {
     "name": "stderr",
     "output_type": "stream",
     "text": [
      "/Users/husni.zuhdi/Documents/Codes/1-Python-Workshop/retention-prediction-demo/retention-prediction/lib/python3.10/site-packages/tensorflow/python/keras/engine/sequential.py:454: UserWarning: `model.predict_classes()` is deprecated and will be removed after 2021-01-01. Please use instead:* `np.argmax(model.predict(x), axis=-1)`,   if your model does multi-class classification   (e.g. if it uses a `softmax` last-layer activation).* `(model.predict(x) > 0.5).astype(\"int32\")`,   if your model does binary classification   (e.g. if it uses a `sigmoid` last-layer activation).\n",
      "  warnings.warn('`model.predict_classes()` is deprecated and '\n"
     ]
    },
    {
     "name": "stdout",
     "output_type": "stream",
     "text": [
      "Epoch 1/4\n",
      "945/945 [==============================] - 2s 1ms/step - loss: 0.4273 - accuracy: 0.8196\n",
      "Epoch 2/4\n",
      "945/945 [==============================] - 1s 1ms/step - loss: 0.2601 - accuracy: 0.8996\n",
      "Epoch 3/4\n",
      "945/945 [==============================] - 1s 2ms/step - loss: 0.2163 - accuracy: 0.9214\n",
      "Epoch 4/4\n",
      "945/945 [==============================] - 1s 1ms/step - loss: 0.2039 - accuracy: 0.9263\n"
     ]
    },
    {
     "name": "stderr",
     "output_type": "stream",
     "text": [
      "/Users/husni.zuhdi/Documents/Codes/1-Python-Workshop/retention-prediction-demo/retention-prediction/lib/python3.10/site-packages/tensorflow/python/keras/engine/sequential.py:454: UserWarning: `model.predict_classes()` is deprecated and will be removed after 2021-01-01. Please use instead:* `np.argmax(model.predict(x), axis=-1)`,   if your model does multi-class classification   (e.g. if it uses a `softmax` last-layer activation).* `(model.predict(x) > 0.5).astype(\"int32\")`,   if your model does binary classification   (e.g. if it uses a `sigmoid` last-layer activation).\n",
      "  warnings.warn('`model.predict_classes()` is deprecated and '\n"
     ]
    },
    {
     "name": "stdout",
     "output_type": "stream",
     "text": [
      "Epoch 1/4\n",
      "945/945 [==============================] - 2s 2ms/step - loss: 0.4570 - accuracy: 0.7627\n",
      "Epoch 2/4\n",
      "945/945 [==============================] - 1s 2ms/step - loss: 0.3361 - accuracy: 0.8117\n",
      "Epoch 3/4\n",
      "945/945 [==============================] - 1s 1ms/step - loss: 0.2952 - accuracy: 0.8908\n",
      "Epoch 4/4\n",
      "945/945 [==============================] - 1s 2ms/step - loss: 0.2696 - accuracy: 0.9106\n"
     ]
    },
    {
     "name": "stderr",
     "output_type": "stream",
     "text": [
      "/Users/husni.zuhdi/Documents/Codes/1-Python-Workshop/retention-prediction-demo/retention-prediction/lib/python3.10/site-packages/tensorflow/python/keras/engine/sequential.py:454: UserWarning: `model.predict_classes()` is deprecated and will be removed after 2021-01-01. Please use instead:* `np.argmax(model.predict(x), axis=-1)`,   if your model does multi-class classification   (e.g. if it uses a `softmax` last-layer activation).* `(model.predict(x) > 0.5).astype(\"int32\")`,   if your model does binary classification   (e.g. if it uses a `sigmoid` last-layer activation).\n",
      "  warnings.warn('`model.predict_classes()` is deprecated and '\n"
     ]
    },
    {
     "name": "stdout",
     "output_type": "stream",
     "text": [
      "Epoch 1/4\n",
      "945/945 [==============================] - 2s 1ms/step - loss: 0.4458 - accuracy: 0.7854\n",
      "Epoch 2/4\n",
      "945/945 [==============================] - 1s 1ms/step - loss: 0.3006 - accuracy: 0.8315\n",
      "Epoch 3/4\n",
      "945/945 [==============================] - 1s 1ms/step - loss: 0.2605 - accuracy: 0.8828\n",
      "Epoch 4/4\n",
      "945/945 [==============================] - 1s 1ms/step - loss: 0.2417 - accuracy: 0.9226\n",
      "Epoch 1/4\n"
     ]
    },
    {
     "name": "stderr",
     "output_type": "stream",
     "text": [
      "/Users/husni.zuhdi/Documents/Codes/1-Python-Workshop/retention-prediction-demo/retention-prediction/lib/python3.10/site-packages/tensorflow/python/keras/engine/sequential.py:454: UserWarning: `model.predict_classes()` is deprecated and will be removed after 2021-01-01. Please use instead:* `np.argmax(model.predict(x), axis=-1)`,   if your model does multi-class classification   (e.g. if it uses a `softmax` last-layer activation).* `(model.predict(x) > 0.5).astype(\"int32\")`,   if your model does binary classification   (e.g. if it uses a `sigmoid` last-layer activation).\n",
      "  warnings.warn('`model.predict_classes()` is deprecated and '\n"
     ]
    },
    {
     "name": "stdout",
     "output_type": "stream",
     "text": [
      "945/945 [==============================] - 2s 1ms/step - loss: 0.4596 - accuracy: 0.7602\n",
      "Epoch 2/4\n",
      "945/945 [==============================] - 1s 1ms/step - loss: 0.3319 - accuracy: 0.8204\n",
      "Epoch 3/4\n",
      "945/945 [==============================] - 1s 1ms/step - loss: 0.2892 - accuracy: 0.9016\n",
      "Epoch 4/4\n",
      "945/945 [==============================] - 1s 1ms/step - loss: 0.2671 - accuracy: 0.9144\n",
      "Epoch 1/4\n"
     ]
    },
    {
     "name": "stderr",
     "output_type": "stream",
     "text": [
      "/Users/husni.zuhdi/Documents/Codes/1-Python-Workshop/retention-prediction-demo/retention-prediction/lib/python3.10/site-packages/tensorflow/python/keras/engine/sequential.py:454: UserWarning: `model.predict_classes()` is deprecated and will be removed after 2021-01-01. Please use instead:* `np.argmax(model.predict(x), axis=-1)`,   if your model does multi-class classification   (e.g. if it uses a `softmax` last-layer activation).* `(model.predict(x) > 0.5).astype(\"int32\")`,   if your model does binary classification   (e.g. if it uses a `sigmoid` last-layer activation).\n",
      "  warnings.warn('`model.predict_classes()` is deprecated and '\n"
     ]
    },
    {
     "name": "stdout",
     "output_type": "stream",
     "text": [
      "945/945 [==============================] - 2s 1ms/step - loss: 0.4503 - accuracy: 0.7647\n",
      "Epoch 2/4\n",
      "945/945 [==============================] - 1s 1ms/step - loss: 0.3204 - accuracy: 0.8327\n",
      "Epoch 3/4\n",
      "945/945 [==============================] - 1s 1ms/step - loss: 0.2795 - accuracy: 0.9062\n",
      "Epoch 4/4\n",
      "945/945 [==============================] - 1s 1ms/step - loss: 0.2616 - accuracy: 0.9137\n"
     ]
    },
    {
     "name": "stderr",
     "output_type": "stream",
     "text": [
      "/Users/husni.zuhdi/Documents/Codes/1-Python-Workshop/retention-prediction-demo/retention-prediction/lib/python3.10/site-packages/tensorflow/python/keras/engine/sequential.py:454: UserWarning: `model.predict_classes()` is deprecated and will be removed after 2021-01-01. Please use instead:* `np.argmax(model.predict(x), axis=-1)`,   if your model does multi-class classification   (e.g. if it uses a `softmax` last-layer activation).* `(model.predict(x) > 0.5).astype(\"int32\")`,   if your model does binary classification   (e.g. if it uses a `sigmoid` last-layer activation).\n",
      "  warnings.warn('`model.predict_classes()` is deprecated and '\n"
     ]
    },
    {
     "name": "stdout",
     "output_type": "stream",
     "text": [
      "Epoch 1/4\n",
      "945/945 [==============================] - 1s 1ms/step - loss: 0.4331 - accuracy: 0.8171\n",
      "Epoch 2/4\n",
      "945/945 [==============================] - 1s 968us/step - loss: 0.2529 - accuracy: 0.9040\n",
      "Epoch 3/4\n",
      "945/945 [==============================] - 1s 1ms/step - loss: 0.2125 - accuracy: 0.9223\n",
      "Epoch 4/4\n",
      "945/945 [==============================] - 1s 1ms/step - loss: 0.2000 - accuracy: 0.9255\n",
      "Epoch 1/4\n"
     ]
    },
    {
     "name": "stderr",
     "output_type": "stream",
     "text": [
      "/Users/husni.zuhdi/Documents/Codes/1-Python-Workshop/retention-prediction-demo/retention-prediction/lib/python3.10/site-packages/tensorflow/python/keras/engine/sequential.py:454: UserWarning: `model.predict_classes()` is deprecated and will be removed after 2021-01-01. Please use instead:* `np.argmax(model.predict(x), axis=-1)`,   if your model does multi-class classification   (e.g. if it uses a `softmax` last-layer activation).* `(model.predict(x) > 0.5).astype(\"int32\")`,   if your model does binary classification   (e.g. if it uses a `sigmoid` last-layer activation).\n",
      "  warnings.warn('`model.predict_classes()` is deprecated and '\n"
     ]
    },
    {
     "name": "stdout",
     "output_type": "stream",
     "text": [
      "945/945 [==============================] - 1s 983us/step - loss: 0.4540 - accuracy: 0.7934\n",
      "Epoch 2/4\n",
      "945/945 [==============================] - 1s 979us/step - loss: 0.2909 - accuracy: 0.8809\n",
      "Epoch 3/4\n",
      "945/945 [==============================] - 1s 1ms/step - loss: 0.2382 - accuracy: 0.9073\n",
      "Epoch 4/4\n",
      "945/945 [==============================] - 1s 1ms/step - loss: 0.2147 - accuracy: 0.9182\n",
      "Epoch 1/4\n"
     ]
    },
    {
     "name": "stderr",
     "output_type": "stream",
     "text": [
      "/Users/husni.zuhdi/Documents/Codes/1-Python-Workshop/retention-prediction-demo/retention-prediction/lib/python3.10/site-packages/tensorflow/python/keras/engine/sequential.py:454: UserWarning: `model.predict_classes()` is deprecated and will be removed after 2021-01-01. Please use instead:* `np.argmax(model.predict(x), axis=-1)`,   if your model does multi-class classification   (e.g. if it uses a `softmax` last-layer activation).* `(model.predict(x) > 0.5).astype(\"int32\")`,   if your model does binary classification   (e.g. if it uses a `sigmoid` last-layer activation).\n",
      "  warnings.warn('`model.predict_classes()` is deprecated and '\n"
     ]
    },
    {
     "name": "stdout",
     "output_type": "stream",
     "text": [
      "945/945 [==============================] - 1s 1ms/step - loss: 0.4440 - accuracy: 0.8069\n",
      "Epoch 2/4\n",
      "945/945 [==============================] - 1s 997us/step - loss: 0.2766 - accuracy: 0.8940\n",
      "Epoch 3/4\n",
      "945/945 [==============================] - 1s 1ms/step - loss: 0.2232 - accuracy: 0.9183\n",
      "Epoch 4/4\n",
      "945/945 [==============================] - 1s 2ms/step - loss: 0.2043 - accuracy: 0.9286\n"
     ]
    },
    {
     "name": "stderr",
     "output_type": "stream",
     "text": [
      "/Users/husni.zuhdi/Documents/Codes/1-Python-Workshop/retention-prediction-demo/retention-prediction/lib/python3.10/site-packages/tensorflow/python/keras/engine/sequential.py:454: UserWarning: `model.predict_classes()` is deprecated and will be removed after 2021-01-01. Please use instead:* `np.argmax(model.predict(x), axis=-1)`,   if your model does multi-class classification   (e.g. if it uses a `softmax` last-layer activation).* `(model.predict(x) > 0.5).astype(\"int32\")`,   if your model does binary classification   (e.g. if it uses a `sigmoid` last-layer activation).\n",
      "  warnings.warn('`model.predict_classes()` is deprecated and '\n"
     ]
    },
    {
     "name": "stdout",
     "output_type": "stream",
     "text": [
      "Epoch 1/4\n",
      "945/945 [==============================] - 2s 1ms/step - loss: 0.4682 - accuracy: 0.7896\n",
      "Epoch 2/4\n",
      "945/945 [==============================] - 1s 1ms/step - loss: 0.2919 - accuracy: 0.8865\n",
      "Epoch 3/4\n",
      "945/945 [==============================] - 1s 1ms/step - loss: 0.2299 - accuracy: 0.9162\n",
      "Epoch 4/4\n",
      "945/945 [==============================] - 1s 1ms/step - loss: 0.2080 - accuracy: 0.9249\n"
     ]
    },
    {
     "name": "stderr",
     "output_type": "stream",
     "text": [
      "/Users/husni.zuhdi/Documents/Codes/1-Python-Workshop/retention-prediction-demo/retention-prediction/lib/python3.10/site-packages/tensorflow/python/keras/engine/sequential.py:454: UserWarning: `model.predict_classes()` is deprecated and will be removed after 2021-01-01. Please use instead:* `np.argmax(model.predict(x), axis=-1)`,   if your model does multi-class classification   (e.g. if it uses a `softmax` last-layer activation).* `(model.predict(x) > 0.5).astype(\"int32\")`,   if your model does binary classification   (e.g. if it uses a `sigmoid` last-layer activation).\n",
      "  warnings.warn('`model.predict_classes()` is deprecated and '\n"
     ]
    },
    {
     "name": "stdout",
     "output_type": "stream",
     "text": [
      "Epoch 1/4\n",
      "945/945 [==============================] - 2s 1ms/step - loss: 0.4612 - accuracy: 0.7877\n",
      "Epoch 2/4\n",
      "945/945 [==============================] - 1s 1ms/step - loss: 0.3068 - accuracy: 0.8332\n",
      "Epoch 3/4\n",
      "945/945 [==============================] - 1s 1ms/step - loss: 0.2631 - accuracy: 0.8484\n",
      "Epoch 4/4\n",
      "945/945 [==============================] - 1s 1ms/step - loss: 0.2432 - accuracy: 0.9125\n"
     ]
    },
    {
     "name": "stderr",
     "output_type": "stream",
     "text": [
      "/Users/husni.zuhdi/Documents/Codes/1-Python-Workshop/retention-prediction-demo/retention-prediction/lib/python3.10/site-packages/tensorflow/python/keras/engine/sequential.py:454: UserWarning: `model.predict_classes()` is deprecated and will be removed after 2021-01-01. Please use instead:* `np.argmax(model.predict(x), axis=-1)`,   if your model does multi-class classification   (e.g. if it uses a `softmax` last-layer activation).* `(model.predict(x) > 0.5).astype(\"int32\")`,   if your model does binary classification   (e.g. if it uses a `sigmoid` last-layer activation).\n",
      "  warnings.warn('`model.predict_classes()` is deprecated and '\n"
     ]
    },
    {
     "name": "stdout",
     "output_type": "stream",
     "text": [
      "Epoch 1/4\n",
      "945/945 [==============================] - 3s 1ms/step - loss: 0.4583 - accuracy: 0.7820\n",
      "Epoch 2/4\n",
      "945/945 [==============================] - 1s 1ms/step - loss: 0.3145 - accuracy: 0.8217\n",
      "Epoch 3/4\n",
      "945/945 [==============================] - 1s 1ms/step - loss: 0.2695 - accuracy: 0.8969\n",
      "Epoch 4/4\n",
      "945/945 [==============================] - 1s 1ms/step - loss: 0.2439 - accuracy: 0.9239\n",
      "Epoch 1/4\n"
     ]
    },
    {
     "name": "stderr",
     "output_type": "stream",
     "text": [
      "/Users/husni.zuhdi/Documents/Codes/1-Python-Workshop/retention-prediction-demo/retention-prediction/lib/python3.10/site-packages/tensorflow/python/keras/engine/sequential.py:454: UserWarning: `model.predict_classes()` is deprecated and will be removed after 2021-01-01. Please use instead:* `np.argmax(model.predict(x), axis=-1)`,   if your model does multi-class classification   (e.g. if it uses a `softmax` last-layer activation).* `(model.predict(x) > 0.5).astype(\"int32\")`,   if your model does binary classification   (e.g. if it uses a `sigmoid` last-layer activation).\n",
      "  warnings.warn('`model.predict_classes()` is deprecated and '\n"
     ]
    },
    {
     "name": "stdout",
     "output_type": "stream",
     "text": [
      "945/945 [==============================] - 2s 1ms/step - loss: 0.4487 - accuracy: 0.7970\n",
      "Epoch 2/4\n",
      "945/945 [==============================] - 1s 1ms/step - loss: 0.2831 - accuracy: 0.8875\n",
      "Epoch 3/4\n",
      "945/945 [==============================] - 1s 1ms/step - loss: 0.2348 - accuracy: 0.9094\n",
      "Epoch 4/4\n",
      "945/945 [==============================] - 1s 1ms/step - loss: 0.2122 - accuracy: 0.9238\n",
      "Epoch 1/4\n"
     ]
    },
    {
     "name": "stderr",
     "output_type": "stream",
     "text": [
      "/Users/husni.zuhdi/Documents/Codes/1-Python-Workshop/retention-prediction-demo/retention-prediction/lib/python3.10/site-packages/tensorflow/python/keras/engine/sequential.py:454: UserWarning: `model.predict_classes()` is deprecated and will be removed after 2021-01-01. Please use instead:* `np.argmax(model.predict(x), axis=-1)`,   if your model does multi-class classification   (e.g. if it uses a `softmax` last-layer activation).* `(model.predict(x) > 0.5).astype(\"int32\")`,   if your model does binary classification   (e.g. if it uses a `sigmoid` last-layer activation).\n",
      "  warnings.warn('`model.predict_classes()` is deprecated and '\n"
     ]
    },
    {
     "name": "stdout",
     "output_type": "stream",
     "text": [
      "945/945 [==============================] - 2s 1ms/step - loss: 0.4675 - accuracy: 0.7781\n",
      "Epoch 2/4\n",
      "945/945 [==============================] - 1s 1ms/step - loss: 0.3235 - accuracy: 0.8132\n",
      "Epoch 3/4\n",
      "945/945 [==============================] - 1s 1ms/step - loss: 0.2720 - accuracy: 0.8835\n",
      "Epoch 4/4\n",
      "945/945 [==============================] - 1s 1ms/step - loss: 0.2514 - accuracy: 0.9218\n"
     ]
    },
    {
     "name": "stderr",
     "output_type": "stream",
     "text": [
      "/Users/husni.zuhdi/Documents/Codes/1-Python-Workshop/retention-prediction-demo/retention-prediction/lib/python3.10/site-packages/tensorflow/python/keras/engine/sequential.py:454: UserWarning: `model.predict_classes()` is deprecated and will be removed after 2021-01-01. Please use instead:* `np.argmax(model.predict(x), axis=-1)`,   if your model does multi-class classification   (e.g. if it uses a `softmax` last-layer activation).* `(model.predict(x) > 0.5).astype(\"int32\")`,   if your model does binary classification   (e.g. if it uses a `sigmoid` last-layer activation).\n",
      "  warnings.warn('`model.predict_classes()` is deprecated and '\n"
     ]
    },
    {
     "name": "stdout",
     "output_type": "stream",
     "text": [
      "Epoch 1/4\n",
      "945/945 [==============================] - 2s 1ms/step - loss: 0.4671 - accuracy: 0.7612\n",
      "Epoch 2/4\n",
      "945/945 [==============================] - 1s 1ms/step - loss: 0.3443 - accuracy: 0.8179\n",
      "Epoch 3/4\n",
      "945/945 [==============================] - 1s 2ms/step - loss: 0.3052 - accuracy: 0.8974\n",
      "Epoch 4/4\n",
      "945/945 [==============================] - 2s 2ms/step - loss: 0.2805 - accuracy: 0.9070\n"
     ]
    },
    {
     "name": "stderr",
     "output_type": "stream",
     "text": [
      "/Users/husni.zuhdi/Documents/Codes/1-Python-Workshop/retention-prediction-demo/retention-prediction/lib/python3.10/site-packages/tensorflow/python/keras/engine/sequential.py:454: UserWarning: `model.predict_classes()` is deprecated and will be removed after 2021-01-01. Please use instead:* `np.argmax(model.predict(x), axis=-1)`,   if your model does multi-class classification   (e.g. if it uses a `softmax` last-layer activation).* `(model.predict(x) > 0.5).astype(\"int32\")`,   if your model does binary classification   (e.g. if it uses a `sigmoid` last-layer activation).\n",
      "  warnings.warn('`model.predict_classes()` is deprecated and '\n"
     ]
    },
    {
     "name": "stdout",
     "output_type": "stream",
     "text": [
      "Epoch 1/4\n",
      "945/945 [==============================] - 2s 1ms/step - loss: 0.4677 - accuracy: 0.7653\n",
      "Epoch 2/4\n",
      "945/945 [==============================] - 1s 1ms/step - loss: 0.3509 - accuracy: 0.8058\n",
      "Epoch 3/4\n",
      "945/945 [==============================] - 2s 2ms/step - loss: 0.3078 - accuracy: 0.8805\n",
      "Epoch 4/4\n",
      "945/945 [==============================] - 1s 1ms/step - loss: 0.2808 - accuracy: 0.9028\n"
     ]
    },
    {
     "name": "stderr",
     "output_type": "stream",
     "text": [
      "/Users/husni.zuhdi/Documents/Codes/1-Python-Workshop/retention-prediction-demo/retention-prediction/lib/python3.10/site-packages/tensorflow/python/keras/engine/sequential.py:454: UserWarning: `model.predict_classes()` is deprecated and will be removed after 2021-01-01. Please use instead:* `np.argmax(model.predict(x), axis=-1)`,   if your model does multi-class classification   (e.g. if it uses a `softmax` last-layer activation).* `(model.predict(x) > 0.5).astype(\"int32\")`,   if your model does binary classification   (e.g. if it uses a `sigmoid` last-layer activation).\n",
      "  warnings.warn('`model.predict_classes()` is deprecated and '\n"
     ]
    },
    {
     "name": "stdout",
     "output_type": "stream",
     "text": [
      "Epoch 1/4\n",
      "945/945 [==============================] - 2s 2ms/step - loss: 0.4771 - accuracy: 0.7623\n",
      "Epoch 2/4\n",
      "945/945 [==============================] - 1s 2ms/step - loss: 0.3589 - accuracy: 0.7928\n",
      "Epoch 3/4\n",
      "945/945 [==============================] - 1s 1ms/step - loss: 0.3172 - accuracy: 0.8803\n",
      "Epoch 4/4\n",
      "945/945 [==============================] - 1s 1ms/step - loss: 0.2871 - accuracy: 0.9030\n"
     ]
    },
    {
     "name": "stderr",
     "output_type": "stream",
     "text": [
      "/Users/husni.zuhdi/Documents/Codes/1-Python-Workshop/retention-prediction-demo/retention-prediction/lib/python3.10/site-packages/tensorflow/python/keras/engine/sequential.py:454: UserWarning: `model.predict_classes()` is deprecated and will be removed after 2021-01-01. Please use instead:* `np.argmax(model.predict(x), axis=-1)`,   if your model does multi-class classification   (e.g. if it uses a `softmax` last-layer activation).* `(model.predict(x) > 0.5).astype(\"int32\")`,   if your model does binary classification   (e.g. if it uses a `sigmoid` last-layer activation).\n",
      "  warnings.warn('`model.predict_classes()` is deprecated and '\n"
     ]
    },
    {
     "name": "stdout",
     "output_type": "stream",
     "text": [
      "Epoch 1/6\n",
      "945/945 [==============================] - 2s 2ms/step - loss: 0.4381 - accuracy: 0.7894\n",
      "Epoch 2/6\n",
      "945/945 [==============================] - 1s 1ms/step - loss: 0.3068 - accuracy: 0.8272\n",
      "Epoch 3/6\n",
      "945/945 [==============================] - 1s 1ms/step - loss: 0.2714 - accuracy: 0.8862\n",
      "Epoch 4/6\n",
      "945/945 [==============================] - 2s 2ms/step - loss: 0.2471 - accuracy: 0.9169\n",
      "Epoch 5/6\n",
      "945/945 [==============================] - 2s 2ms/step - loss: 0.2351 - accuracy: 0.9270\n",
      "Epoch 6/6\n",
      "945/945 [==============================] - 1s 1ms/step - loss: 0.2250 - accuracy: 0.9327\n"
     ]
    },
    {
     "name": "stderr",
     "output_type": "stream",
     "text": [
      "/Users/husni.zuhdi/Documents/Codes/1-Python-Workshop/retention-prediction-demo/retention-prediction/lib/python3.10/site-packages/tensorflow/python/keras/engine/sequential.py:454: UserWarning: `model.predict_classes()` is deprecated and will be removed after 2021-01-01. Please use instead:* `np.argmax(model.predict(x), axis=-1)`,   if your model does multi-class classification   (e.g. if it uses a `softmax` last-layer activation).* `(model.predict(x) > 0.5).astype(\"int32\")`,   if your model does binary classification   (e.g. if it uses a `sigmoid` last-layer activation).\n",
      "  warnings.warn('`model.predict_classes()` is deprecated and '\n"
     ]
    },
    {
     "name": "stdout",
     "output_type": "stream",
     "text": [
      "Epoch 1/6\n",
      "945/945 [==============================] - 2s 2ms/step - loss: 0.4442 - accuracy: 0.7858\n",
      "Epoch 2/6\n",
      "945/945 [==============================] - 2s 2ms/step - loss: 0.3033 - accuracy: 0.8294\n",
      "Epoch 3/6\n",
      "945/945 [==============================] - 2s 2ms/step - loss: 0.2654 - accuracy: 0.8886\n",
      "Epoch 4/6\n",
      "945/945 [==============================] - 2s 2ms/step - loss: 0.2476 - accuracy: 0.9099\n",
      "Epoch 5/6\n",
      "945/945 [==============================] - 2s 2ms/step - loss: 0.2347 - accuracy: 0.9219\n",
      "Epoch 6/6\n",
      "945/945 [==============================] - 1s 1ms/step - loss: 0.2283 - accuracy: 0.9256\n"
     ]
    },
    {
     "name": "stderr",
     "output_type": "stream",
     "text": [
      "/Users/husni.zuhdi/Documents/Codes/1-Python-Workshop/retention-prediction-demo/retention-prediction/lib/python3.10/site-packages/tensorflow/python/keras/engine/sequential.py:454: UserWarning: `model.predict_classes()` is deprecated and will be removed after 2021-01-01. Please use instead:* `np.argmax(model.predict(x), axis=-1)`,   if your model does multi-class classification   (e.g. if it uses a `softmax` last-layer activation).* `(model.predict(x) > 0.5).astype(\"int32\")`,   if your model does binary classification   (e.g. if it uses a `sigmoid` last-layer activation).\n",
      "  warnings.warn('`model.predict_classes()` is deprecated and '\n"
     ]
    },
    {
     "name": "stdout",
     "output_type": "stream",
     "text": [
      "Epoch 1/6\n",
      "945/945 [==============================] - 2s 2ms/step - loss: 0.4683 - accuracy: 0.7611\n",
      "Epoch 2/6\n",
      "945/945 [==============================] - 2s 2ms/step - loss: 0.3473 - accuracy: 0.7939\n",
      "Epoch 3/6\n",
      "945/945 [==============================] - 2s 2ms/step - loss: 0.3082 - accuracy: 0.8756\n",
      "Epoch 4/6\n",
      "945/945 [==============================] - 2s 2ms/step - loss: 0.2804 - accuracy: 0.9073\n",
      "Epoch 5/6\n",
      "945/945 [==============================] - 2s 2ms/step - loss: 0.2636 - accuracy: 0.9145\n",
      "Epoch 6/6\n",
      "945/945 [==============================] - 2s 2ms/step - loss: 0.2528 - accuracy: 0.9163\n"
     ]
    },
    {
     "name": "stderr",
     "output_type": "stream",
     "text": [
      "/Users/husni.zuhdi/Documents/Codes/1-Python-Workshop/retention-prediction-demo/retention-prediction/lib/python3.10/site-packages/tensorflow/python/keras/engine/sequential.py:454: UserWarning: `model.predict_classes()` is deprecated and will be removed after 2021-01-01. Please use instead:* `np.argmax(model.predict(x), axis=-1)`,   if your model does multi-class classification   (e.g. if it uses a `softmax` last-layer activation).* `(model.predict(x) > 0.5).astype(\"int32\")`,   if your model does binary classification   (e.g. if it uses a `sigmoid` last-layer activation).\n",
      "  warnings.warn('`model.predict_classes()` is deprecated and '\n"
     ]
    },
    {
     "name": "stdout",
     "output_type": "stream",
     "text": [
      "Epoch 1/6\n",
      "945/945 [==============================] - 2s 1ms/step - loss: 0.4337 - accuracy: 0.8110\n",
      "Epoch 2/6\n",
      "945/945 [==============================] - 1s 1ms/step - loss: 0.2589 - accuracy: 0.9016\n",
      "Epoch 3/6\n",
      "945/945 [==============================] - 1s 1ms/step - loss: 0.2188 - accuracy: 0.9191\n",
      "Epoch 4/6\n",
      "945/945 [==============================] - 1s 1ms/step - loss: 0.2028 - accuracy: 0.9300\n",
      "Epoch 5/6\n",
      "945/945 [==============================] - 1s 1ms/step - loss: 0.1973 - accuracy: 0.9331\n",
      "Epoch 6/6\n",
      "945/945 [==============================] - 1s 1ms/step - loss: 0.1911 - accuracy: 0.9339\n",
      "Epoch 1/6\n"
     ]
    },
    {
     "name": "stderr",
     "output_type": "stream",
     "text": [
      "/Users/husni.zuhdi/Documents/Codes/1-Python-Workshop/retention-prediction-demo/retention-prediction/lib/python3.10/site-packages/tensorflow/python/keras/engine/sequential.py:454: UserWarning: `model.predict_classes()` is deprecated and will be removed after 2021-01-01. Please use instead:* `np.argmax(model.predict(x), axis=-1)`,   if your model does multi-class classification   (e.g. if it uses a `softmax` last-layer activation).* `(model.predict(x) > 0.5).astype(\"int32\")`,   if your model does binary classification   (e.g. if it uses a `sigmoid` last-layer activation).\n",
      "  warnings.warn('`model.predict_classes()` is deprecated and '\n"
     ]
    },
    {
     "name": "stdout",
     "output_type": "stream",
     "text": [
      "945/945 [==============================] - 1s 1ms/step - loss: 0.4368 - accuracy: 0.7924\n",
      "Epoch 2/6\n",
      "945/945 [==============================] - 1s 1ms/step - loss: 0.2948 - accuracy: 0.8327\n",
      "Epoch 3/6\n",
      "945/945 [==============================] - 1s 1ms/step - loss: 0.2582 - accuracy: 0.8963\n",
      "Epoch 4/6\n",
      "945/945 [==============================] - 1s 998us/step - loss: 0.2433 - accuracy: 0.9149\n",
      "Epoch 5/6\n",
      "945/945 [==============================] - 1s 1ms/step - loss: 0.2323 - accuracy: 0.9270\n",
      "Epoch 6/6\n",
      "945/945 [==============================] - 1s 1ms/step - loss: 0.2239 - accuracy: 0.9274\n"
     ]
    },
    {
     "name": "stderr",
     "output_type": "stream",
     "text": [
      "/Users/husni.zuhdi/Documents/Codes/1-Python-Workshop/retention-prediction-demo/retention-prediction/lib/python3.10/site-packages/tensorflow/python/keras/engine/sequential.py:454: UserWarning: `model.predict_classes()` is deprecated and will be removed after 2021-01-01. Please use instead:* `np.argmax(model.predict(x), axis=-1)`,   if your model does multi-class classification   (e.g. if it uses a `softmax` last-layer activation).* `(model.predict(x) > 0.5).astype(\"int32\")`,   if your model does binary classification   (e.g. if it uses a `sigmoid` last-layer activation).\n",
      "  warnings.warn('`model.predict_classes()` is deprecated and '\n"
     ]
    },
    {
     "name": "stdout",
     "output_type": "stream",
     "text": [
      "Epoch 1/6\n",
      "945/945 [==============================] - 2s 1ms/step - loss: 0.4645 - accuracy: 0.7622\n",
      "Epoch 2/6\n",
      "945/945 [==============================] - 1s 1ms/step - loss: 0.3352 - accuracy: 0.8221\n",
      "Epoch 3/6\n",
      "945/945 [==============================] - 1s 1ms/step - loss: 0.2913 - accuracy: 0.9006\n",
      "Epoch 4/6\n",
      "945/945 [==============================] - 1s 1ms/step - loss: 0.2684 - accuracy: 0.9145\n",
      "Epoch 5/6\n",
      "945/945 [==============================] - 1s 1ms/step - loss: 0.2515 - accuracy: 0.9199\n",
      "Epoch 6/6\n",
      "945/945 [==============================] - 1s 1ms/step - loss: 0.2430 - accuracy: 0.9231\n",
      "Epoch 1/6\n"
     ]
    },
    {
     "name": "stderr",
     "output_type": "stream",
     "text": [
      "/Users/husni.zuhdi/Documents/Codes/1-Python-Workshop/retention-prediction-demo/retention-prediction/lib/python3.10/site-packages/tensorflow/python/keras/engine/sequential.py:454: UserWarning: `model.predict_classes()` is deprecated and will be removed after 2021-01-01. Please use instead:* `np.argmax(model.predict(x), axis=-1)`,   if your model does multi-class classification   (e.g. if it uses a `softmax` last-layer activation).* `(model.predict(x) > 0.5).astype(\"int32\")`,   if your model does binary classification   (e.g. if it uses a `sigmoid` last-layer activation).\n",
      "  warnings.warn('`model.predict_classes()` is deprecated and '\n"
     ]
    },
    {
     "name": "stdout",
     "output_type": "stream",
     "text": [
      "945/945 [==============================] - 1s 1ms/step - loss: 0.4463 - accuracy: 0.7910\n",
      "Epoch 2/6\n",
      "945/945 [==============================] - 1s 1ms/step - loss: 0.2947 - accuracy: 0.8369\n",
      "Epoch 3/6\n",
      "945/945 [==============================] - 1s 1ms/step - loss: 0.2531 - accuracy: 0.8794\n",
      "Epoch 4/6\n",
      "945/945 [==============================] - 1s 1ms/step - loss: 0.2322 - accuracy: 0.9330\n",
      "Epoch 5/6\n",
      "945/945 [==============================] - 1s 1ms/step - loss: 0.2224 - accuracy: 0.9329\n",
      "Epoch 6/6\n",
      "945/945 [==============================] - 1s 1ms/step - loss: 0.2132 - accuracy: 0.9404\n"
     ]
    },
    {
     "name": "stderr",
     "output_type": "stream",
     "text": [
      "/Users/husni.zuhdi/Documents/Codes/1-Python-Workshop/retention-prediction-demo/retention-prediction/lib/python3.10/site-packages/tensorflow/python/keras/engine/sequential.py:454: UserWarning: `model.predict_classes()` is deprecated and will be removed after 2021-01-01. Please use instead:* `np.argmax(model.predict(x), axis=-1)`,   if your model does multi-class classification   (e.g. if it uses a `softmax` last-layer activation).* `(model.predict(x) > 0.5).astype(\"int32\")`,   if your model does binary classification   (e.g. if it uses a `sigmoid` last-layer activation).\n",
      "  warnings.warn('`model.predict_classes()` is deprecated and '\n"
     ]
    },
    {
     "name": "stdout",
     "output_type": "stream",
     "text": [
      "Epoch 1/6\n",
      "945/945 [==============================] - 2s 1ms/step - loss: 0.4567 - accuracy: 0.7614\n",
      "Epoch 2/6\n",
      "945/945 [==============================] - 1s 1ms/step - loss: 0.3456 - accuracy: 0.8132\n",
      "Epoch 3/6\n",
      "945/945 [==============================] - 1s 1ms/step - loss: 0.3063 - accuracy: 0.8817\n",
      "Epoch 4/6\n",
      "945/945 [==============================] - 1s 1ms/step - loss: 0.2793 - accuracy: 0.9068\n",
      "Epoch 5/6\n",
      "945/945 [==============================] - 1s 1ms/step - loss: 0.2612 - accuracy: 0.9141\n",
      "Epoch 6/6\n",
      "945/945 [==============================] - 1s 1ms/step - loss: 0.2497 - accuracy: 0.9176\n"
     ]
    },
    {
     "name": "stderr",
     "output_type": "stream",
     "text": [
      "/Users/husni.zuhdi/Documents/Codes/1-Python-Workshop/retention-prediction-demo/retention-prediction/lib/python3.10/site-packages/tensorflow/python/keras/engine/sequential.py:454: UserWarning: `model.predict_classes()` is deprecated and will be removed after 2021-01-01. Please use instead:* `np.argmax(model.predict(x), axis=-1)`,   if your model does multi-class classification   (e.g. if it uses a `softmax` last-layer activation).* `(model.predict(x) > 0.5).astype(\"int32\")`,   if your model does binary classification   (e.g. if it uses a `sigmoid` last-layer activation).\n",
      "  warnings.warn('`model.predict_classes()` is deprecated and '\n"
     ]
    },
    {
     "name": "stdout",
     "output_type": "stream",
     "text": [
      "Epoch 1/6\n",
      "945/945 [==============================] - 1s 1ms/step - loss: 0.4317 - accuracy: 0.8177\n",
      "Epoch 2/6\n",
      "945/945 [==============================] - 1s 1ms/step - loss: 0.2590 - accuracy: 0.9028\n",
      "Epoch 3/6\n",
      "945/945 [==============================] - 1s 1ms/step - loss: 0.2156 - accuracy: 0.9270\n",
      "Epoch 4/6\n",
      "945/945 [==============================] - 1s 1ms/step - loss: 0.2011 - accuracy: 0.9310\n",
      "Epoch 5/6\n",
      "945/945 [==============================] - 1s 1ms/step - loss: 0.1955 - accuracy: 0.9310\n",
      "Epoch 6/6\n",
      "945/945 [==============================] - 1s 1ms/step - loss: 0.1864 - accuracy: 0.9391\n",
      "Epoch 1/6\n"
     ]
    },
    {
     "name": "stderr",
     "output_type": "stream",
     "text": [
      "/Users/husni.zuhdi/Documents/Codes/1-Python-Workshop/retention-prediction-demo/retention-prediction/lib/python3.10/site-packages/tensorflow/python/keras/engine/sequential.py:454: UserWarning: `model.predict_classes()` is deprecated and will be removed after 2021-01-01. Please use instead:* `np.argmax(model.predict(x), axis=-1)`,   if your model does multi-class classification   (e.g. if it uses a `softmax` last-layer activation).* `(model.predict(x) > 0.5).astype(\"int32\")`,   if your model does binary classification   (e.g. if it uses a `sigmoid` last-layer activation).\n",
      "  warnings.warn('`model.predict_classes()` is deprecated and '\n"
     ]
    },
    {
     "name": "stdout",
     "output_type": "stream",
     "text": [
      "945/945 [==============================] - 2s 1ms/step - loss: 0.4429 - accuracy: 0.8097\n",
      "Epoch 2/6\n",
      "945/945 [==============================] - 1s 1ms/step - loss: 0.2683 - accuracy: 0.8953\n",
      "Epoch 3/6\n",
      "945/945 [==============================] - 2s 2ms/step - loss: 0.2228 - accuracy: 0.9244\n",
      "Epoch 4/6\n",
      "945/945 [==============================] - 2s 2ms/step - loss: 0.2080 - accuracy: 0.9274\n",
      "Epoch 5/6\n",
      "945/945 [==============================] - 1s 2ms/step - loss: 0.1977 - accuracy: 0.9310\n",
      "Epoch 6/6\n",
      "945/945 [==============================] - 1s 1ms/step - loss: 0.1933 - accuracy: 0.9344\n"
     ]
    },
    {
     "name": "stderr",
     "output_type": "stream",
     "text": [
      "/Users/husni.zuhdi/Documents/Codes/1-Python-Workshop/retention-prediction-demo/retention-prediction/lib/python3.10/site-packages/tensorflow/python/keras/engine/sequential.py:454: UserWarning: `model.predict_classes()` is deprecated and will be removed after 2021-01-01. Please use instead:* `np.argmax(model.predict(x), axis=-1)`,   if your model does multi-class classification   (e.g. if it uses a `softmax` last-layer activation).* `(model.predict(x) > 0.5).astype(\"int32\")`,   if your model does binary classification   (e.g. if it uses a `sigmoid` last-layer activation).\n",
      "  warnings.warn('`model.predict_classes()` is deprecated and '\n"
     ]
    },
    {
     "name": "stdout",
     "output_type": "stream",
     "text": [
      "Epoch 1/6\n",
      "945/945 [==============================] - 2s 2ms/step - loss: 0.4711 - accuracy: 0.7627\n",
      "Epoch 2/6\n",
      "945/945 [==============================] - 1s 1ms/step - loss: 0.3545 - accuracy: 0.8064\n",
      "Epoch 3/6\n",
      "945/945 [==============================] - 2s 2ms/step - loss: 0.3147 - accuracy: 0.8726\n",
      "Epoch 4/6\n",
      "945/945 [==============================] - 2s 2ms/step - loss: 0.2873 - accuracy: 0.8984\n",
      "Epoch 5/6\n",
      "945/945 [==============================] - 2s 2ms/step - loss: 0.2706 - accuracy: 0.9084\n",
      "Epoch 6/6\n",
      "945/945 [==============================] - 3s 3ms/step - loss: 0.2556 - accuracy: 0.9145\n"
     ]
    },
    {
     "name": "stderr",
     "output_type": "stream",
     "text": [
      "/Users/husni.zuhdi/Documents/Codes/1-Python-Workshop/retention-prediction-demo/retention-prediction/lib/python3.10/site-packages/tensorflow/python/keras/engine/sequential.py:454: UserWarning: `model.predict_classes()` is deprecated and will be removed after 2021-01-01. Please use instead:* `np.argmax(model.predict(x), axis=-1)`,   if your model does multi-class classification   (e.g. if it uses a `softmax` last-layer activation).* `(model.predict(x) > 0.5).astype(\"int32\")`,   if your model does binary classification   (e.g. if it uses a `sigmoid` last-layer activation).\n",
      "  warnings.warn('`model.predict_classes()` is deprecated and '\n"
     ]
    },
    {
     "name": "stdout",
     "output_type": "stream",
     "text": [
      "Epoch 1/6\n",
      "945/945 [==============================] - 3s 2ms/step - loss: 0.4640 - accuracy: 0.7840\n",
      "Epoch 2/6\n",
      "945/945 [==============================] - 1s 2ms/step - loss: 0.3232 - accuracy: 0.8181\n",
      "Epoch 3/6\n",
      "945/945 [==============================] - 2s 2ms/step - loss: 0.2780 - accuracy: 0.8765\n",
      "Epoch 4/6\n",
      "945/945 [==============================] - 2s 2ms/step - loss: 0.2568 - accuracy: 0.9126\n",
      "Epoch 5/6\n",
      "945/945 [==============================] - 1s 1ms/step - loss: 0.2406 - accuracy: 0.9225\n",
      "Epoch 6/6\n",
      "945/945 [==============================] - 2s 2ms/step - loss: 0.2319 - accuracy: 0.9260\n"
     ]
    },
    {
     "name": "stderr",
     "output_type": "stream",
     "text": [
      "/Users/husni.zuhdi/Documents/Codes/1-Python-Workshop/retention-prediction-demo/retention-prediction/lib/python3.10/site-packages/tensorflow/python/keras/engine/sequential.py:454: UserWarning: `model.predict_classes()` is deprecated and will be removed after 2021-01-01. Please use instead:* `np.argmax(model.predict(x), axis=-1)`,   if your model does multi-class classification   (e.g. if it uses a `softmax` last-layer activation).* `(model.predict(x) > 0.5).astype(\"int32\")`,   if your model does binary classification   (e.g. if it uses a `sigmoid` last-layer activation).\n",
      "  warnings.warn('`model.predict_classes()` is deprecated and '\n"
     ]
    },
    {
     "name": "stdout",
     "output_type": "stream",
     "text": [
      "Epoch 1/6\n",
      "945/945 [==============================] - 2s 1ms/step - loss: 0.4481 - accuracy: 0.7993\n",
      "Epoch 2/6\n",
      "945/945 [==============================] - 1s 1ms/step - loss: 0.2847 - accuracy: 0.8861\n",
      "Epoch 3/6\n",
      "945/945 [==============================] - 1s 1ms/step - loss: 0.2306 - accuracy: 0.9135\n",
      "Epoch 4/6\n",
      "945/945 [==============================] - 1s 1ms/step - loss: 0.2135 - accuracy: 0.9212\n",
      "Epoch 5/6\n",
      "945/945 [==============================] - 1s 1ms/step - loss: 0.2082 - accuracy: 0.9219\n",
      "Epoch 6/6\n",
      "945/945 [==============================] - 1s 1ms/step - loss: 0.1967 - accuracy: 0.9302\n",
      "Epoch 1/6\n"
     ]
    },
    {
     "name": "stderr",
     "output_type": "stream",
     "text": [
      "/Users/husni.zuhdi/Documents/Codes/1-Python-Workshop/retention-prediction-demo/retention-prediction/lib/python3.10/site-packages/tensorflow/python/keras/engine/sequential.py:454: UserWarning: `model.predict_classes()` is deprecated and will be removed after 2021-01-01. Please use instead:* `np.argmax(model.predict(x), axis=-1)`,   if your model does multi-class classification   (e.g. if it uses a `softmax` last-layer activation).* `(model.predict(x) > 0.5).astype(\"int32\")`,   if your model does binary classification   (e.g. if it uses a `sigmoid` last-layer activation).\n",
      "  warnings.warn('`model.predict_classes()` is deprecated and '\n"
     ]
    },
    {
     "name": "stdout",
     "output_type": "stream",
     "text": [
      "945/945 [==============================] - 1s 1ms/step - loss: 0.4656 - accuracy: 0.7805\n",
      "Epoch 2/6\n",
      "945/945 [==============================] - 1s 1ms/step - loss: 0.3178 - accuracy: 0.8162\n",
      "Epoch 3/6\n",
      "945/945 [==============================] - 1s 1ms/step - loss: 0.2712 - accuracy: 0.8877\n",
      "Epoch 4/6\n",
      "945/945 [==============================] - 1s 1ms/step - loss: 0.2437 - accuracy: 0.9212\n",
      "Epoch 5/6\n",
      "945/945 [==============================] - 1s 1ms/step - loss: 0.2320 - accuracy: 0.9243\n",
      "Epoch 6/6\n",
      "945/945 [==============================] - 1s 1ms/step - loss: 0.2258 - accuracy: 0.9290\n",
      "Epoch 1/6\n"
     ]
    },
    {
     "name": "stderr",
     "output_type": "stream",
     "text": [
      "/Users/husni.zuhdi/Documents/Codes/1-Python-Workshop/retention-prediction-demo/retention-prediction/lib/python3.10/site-packages/tensorflow/python/keras/engine/sequential.py:454: UserWarning: `model.predict_classes()` is deprecated and will be removed after 2021-01-01. Please use instead:* `np.argmax(model.predict(x), axis=-1)`,   if your model does multi-class classification   (e.g. if it uses a `softmax` last-layer activation).* `(model.predict(x) > 0.5).astype(\"int32\")`,   if your model does binary classification   (e.g. if it uses a `sigmoid` last-layer activation).\n",
      "  warnings.warn('`model.predict_classes()` is deprecated and '\n"
     ]
    },
    {
     "name": "stdout",
     "output_type": "stream",
     "text": [
      "945/945 [==============================] - 2s 1ms/step - loss: 0.4587 - accuracy: 0.7812\n",
      "Epoch 2/6\n",
      "945/945 [==============================] - 1s 1ms/step - loss: 0.3178 - accuracy: 0.8184\n",
      "Epoch 3/6\n",
      "945/945 [==============================] - 1s 1ms/step - loss: 0.2739 - accuracy: 0.8887\n",
      "Epoch 4/6\n",
      "945/945 [==============================] - 1s 1ms/step - loss: 0.2455 - accuracy: 0.9196\n",
      "Epoch 5/6\n",
      "945/945 [==============================] - 1s 1ms/step - loss: 0.2319 - accuracy: 0.9282\n",
      "Epoch 6/6\n",
      "945/945 [==============================] - 1s 1ms/step - loss: 0.2216 - accuracy: 0.9310\n",
      "Epoch 1/6\n"
     ]
    },
    {
     "name": "stderr",
     "output_type": "stream",
     "text": [
      "/Users/husni.zuhdi/Documents/Codes/1-Python-Workshop/retention-prediction-demo/retention-prediction/lib/python3.10/site-packages/tensorflow/python/keras/engine/sequential.py:454: UserWarning: `model.predict_classes()` is deprecated and will be removed after 2021-01-01. Please use instead:* `np.argmax(model.predict(x), axis=-1)`,   if your model does multi-class classification   (e.g. if it uses a `softmax` last-layer activation).* `(model.predict(x) > 0.5).astype(\"int32\")`,   if your model does binary classification   (e.g. if it uses a `sigmoid` last-layer activation).\n",
      "  warnings.warn('`model.predict_classes()` is deprecated and '\n"
     ]
    },
    {
     "name": "stdout",
     "output_type": "stream",
     "text": [
      "945/945 [==============================] - 2s 1ms/step - loss: 0.4647 - accuracy: 0.7911\n",
      "Epoch 2/6\n",
      "945/945 [==============================] - 1s 1ms/step - loss: 0.2931 - accuracy: 0.8809\n",
      "Epoch 3/6\n",
      "945/945 [==============================] - 1s 1ms/step - loss: 0.2335 - accuracy: 0.9105\n",
      "Epoch 4/6\n",
      "945/945 [==============================] - 1s 1ms/step - loss: 0.2133 - accuracy: 0.9186\n",
      "Epoch 5/6\n",
      "945/945 [==============================] - 1s 1ms/step - loss: 0.2047 - accuracy: 0.9264\n",
      "Epoch 6/6\n",
      "945/945 [==============================] - 1s 1ms/step - loss: 0.1988 - accuracy: 0.9276\n",
      "Epoch 1/6\n"
     ]
    },
    {
     "name": "stderr",
     "output_type": "stream",
     "text": [
      "/Users/husni.zuhdi/Documents/Codes/1-Python-Workshop/retention-prediction-demo/retention-prediction/lib/python3.10/site-packages/tensorflow/python/keras/engine/sequential.py:454: UserWarning: `model.predict_classes()` is deprecated and will be removed after 2021-01-01. Please use instead:* `np.argmax(model.predict(x), axis=-1)`,   if your model does multi-class classification   (e.g. if it uses a `softmax` last-layer activation).* `(model.predict(x) > 0.5).astype(\"int32\")`,   if your model does binary classification   (e.g. if it uses a `sigmoid` last-layer activation).\n",
      "  warnings.warn('`model.predict_classes()` is deprecated and '\n"
     ]
    },
    {
     "name": "stdout",
     "output_type": "stream",
     "text": [
      "945/945 [==============================] - 2s 1ms/step - loss: 0.4670 - accuracy: 0.7793\n",
      "Epoch 2/6\n",
      "945/945 [==============================] - 1s 1ms/step - loss: 0.3268 - accuracy: 0.8162\n",
      "Epoch 3/6\n",
      "945/945 [==============================] - 1s 1ms/step - loss: 0.2818 - accuracy: 0.8695\n",
      "Epoch 4/6\n",
      "945/945 [==============================] - 1s 1ms/step - loss: 0.2578 - accuracy: 0.9129\n",
      "Epoch 5/6\n",
      "945/945 [==============================] - 1s 1ms/step - loss: 0.2403 - accuracy: 0.9249\n",
      "Epoch 6/6\n",
      "945/945 [==============================] - 1s 1ms/step - loss: 0.2308 - accuracy: 0.9305\n",
      "Epoch 1/6\n"
     ]
    },
    {
     "name": "stderr",
     "output_type": "stream",
     "text": [
      "/Users/husni.zuhdi/Documents/Codes/1-Python-Workshop/retention-prediction-demo/retention-prediction/lib/python3.10/site-packages/tensorflow/python/keras/engine/sequential.py:454: UserWarning: `model.predict_classes()` is deprecated and will be removed after 2021-01-01. Please use instead:* `np.argmax(model.predict(x), axis=-1)`,   if your model does multi-class classification   (e.g. if it uses a `softmax` last-layer activation).* `(model.predict(x) > 0.5).astype(\"int32\")`,   if your model does binary classification   (e.g. if it uses a `sigmoid` last-layer activation).\n",
      "  warnings.warn('`model.predict_classes()` is deprecated and '\n"
     ]
    },
    {
     "name": "stdout",
     "output_type": "stream",
     "text": [
      "945/945 [==============================] - 1s 969us/step - loss: 0.4720 - accuracy: 0.7735\n",
      "Epoch 2/6\n",
      "945/945 [==============================] - 1s 1ms/step - loss: 0.3344 - accuracy: 0.8174\n",
      "Epoch 3/6\n",
      "945/945 [==============================] - 1s 1ms/step - loss: 0.2940 - accuracy: 0.8548\n",
      "Epoch 4/6\n",
      "945/945 [==============================] - 1s 1ms/step - loss: 0.2689 - accuracy: 0.8973\n",
      "Epoch 5/6\n",
      "945/945 [==============================] - 1s 1ms/step - loss: 0.2522 - accuracy: 0.9110\n",
      "Epoch 6/6\n",
      "945/945 [==============================] - 1s 1ms/step - loss: 0.2426 - accuracy: 0.9198\n",
      "Epoch 1/6\n"
     ]
    },
    {
     "name": "stderr",
     "output_type": "stream",
     "text": [
      "/Users/husni.zuhdi/Documents/Codes/1-Python-Workshop/retention-prediction-demo/retention-prediction/lib/python3.10/site-packages/tensorflow/python/keras/engine/sequential.py:454: UserWarning: `model.predict_classes()` is deprecated and will be removed after 2021-01-01. Please use instead:* `np.argmax(model.predict(x), axis=-1)`,   if your model does multi-class classification   (e.g. if it uses a `softmax` last-layer activation).* `(model.predict(x) > 0.5).astype(\"int32\")`,   if your model does binary classification   (e.g. if it uses a `sigmoid` last-layer activation).\n",
      "  warnings.warn('`model.predict_classes()` is deprecated and '\n"
     ]
    },
    {
     "name": "stdout",
     "output_type": "stream",
     "text": [
      "945/945 [==============================] - 2s 1ms/step - loss: 0.4613 - accuracy: 0.7654\n",
      "Epoch 2/6\n",
      "945/945 [==============================] - 1s 1ms/step - loss: 0.3433 - accuracy: 0.8132\n",
      "Epoch 3/6\n",
      "945/945 [==============================] - 1s 1ms/step - loss: 0.3030 - accuracy: 0.8887\n",
      "Epoch 4/6\n",
      "945/945 [==============================] - 1s 1ms/step - loss: 0.2751 - accuracy: 0.9044\n",
      "Epoch 5/6\n",
      "945/945 [==============================] - 1s 1ms/step - loss: 0.2613 - accuracy: 0.9143\n",
      "Epoch 6/6\n",
      "945/945 [==============================] - 1s 1ms/step - loss: 0.2501 - accuracy: 0.9180\n"
     ]
    },
    {
     "name": "stderr",
     "output_type": "stream",
     "text": [
      "/Users/husni.zuhdi/Documents/Codes/1-Python-Workshop/retention-prediction-demo/retention-prediction/lib/python3.10/site-packages/tensorflow/python/keras/engine/sequential.py:454: UserWarning: `model.predict_classes()` is deprecated and will be removed after 2021-01-01. Please use instead:* `np.argmax(model.predict(x), axis=-1)`,   if your model does multi-class classification   (e.g. if it uses a `softmax` last-layer activation).* `(model.predict(x) > 0.5).astype(\"int32\")`,   if your model does binary classification   (e.g. if it uses a `sigmoid` last-layer activation).\n",
      "  warnings.warn('`model.predict_classes()` is deprecated and '\n"
     ]
    },
    {
     "name": "stdout",
     "output_type": "stream",
     "text": [
      "Epoch 1/6\n",
      "945/945 [==============================] - 2s 1ms/step - loss: 0.4752 - accuracy: 0.7788\n",
      "Epoch 2/6\n",
      "945/945 [==============================] - 1s 1ms/step - loss: 0.3264 - accuracy: 0.8190\n",
      "Epoch 3/6\n",
      "945/945 [==============================] - 1s 1ms/step - loss: 0.2794 - accuracy: 0.8721\n",
      "Epoch 4/6\n",
      "945/945 [==============================] - 1s 972us/step - loss: 0.2532 - accuracy: 0.9185\n",
      "Epoch 5/6\n",
      "945/945 [==============================] - 1s 976us/step - loss: 0.2416 - accuracy: 0.9270\n",
      "Epoch 6/6\n",
      "945/945 [==============================] - 1s 1ms/step - loss: 0.2316 - accuracy: 0.9286\n",
      "Epoch 1/8\n"
     ]
    },
    {
     "name": "stderr",
     "output_type": "stream",
     "text": [
      "/Users/husni.zuhdi/Documents/Codes/1-Python-Workshop/retention-prediction-demo/retention-prediction/lib/python3.10/site-packages/tensorflow/python/keras/engine/sequential.py:454: UserWarning: `model.predict_classes()` is deprecated and will be removed after 2021-01-01. Please use instead:* `np.argmax(model.predict(x), axis=-1)`,   if your model does multi-class classification   (e.g. if it uses a `softmax` last-layer activation).* `(model.predict(x) > 0.5).astype(\"int32\")`,   if your model does binary classification   (e.g. if it uses a `sigmoid` last-layer activation).\n",
      "  warnings.warn('`model.predict_classes()` is deprecated and '\n"
     ]
    },
    {
     "name": "stdout",
     "output_type": "stream",
     "text": [
      "945/945 [==============================] - 2s 1ms/step - loss: 0.4510 - accuracy: 0.7888\n",
      "Epoch 2/8\n",
      "945/945 [==============================] - 1s 1ms/step - loss: 0.3241 - accuracy: 0.8440\n",
      "Epoch 3/8\n",
      "945/945 [==============================] - 1s 1ms/step - loss: 0.2819 - accuracy: 0.8590\n",
      "Epoch 4/8\n",
      "945/945 [==============================] - 1s 1ms/step - loss: 0.2628 - accuracy: 0.8892\n",
      "Epoch 5/8\n",
      "945/945 [==============================] - 1s 1ms/step - loss: 0.2490 - accuracy: 0.9057\n",
      "Epoch 6/8\n",
      "945/945 [==============================] - 1s 1ms/step - loss: 0.2395 - accuracy: 0.9158\n",
      "Epoch 7/8\n",
      "945/945 [==============================] - 1s 1ms/step - loss: 0.2304 - accuracy: 0.9214\n",
      "Epoch 8/8\n",
      "945/945 [==============================] - 1s 1ms/step - loss: 0.2297 - accuracy: 0.9236\n"
     ]
    },
    {
     "name": "stderr",
     "output_type": "stream",
     "text": [
      "/Users/husni.zuhdi/Documents/Codes/1-Python-Workshop/retention-prediction-demo/retention-prediction/lib/python3.10/site-packages/tensorflow/python/keras/engine/sequential.py:454: UserWarning: `model.predict_classes()` is deprecated and will be removed after 2021-01-01. Please use instead:* `np.argmax(model.predict(x), axis=-1)`,   if your model does multi-class classification   (e.g. if it uses a `softmax` last-layer activation).* `(model.predict(x) > 0.5).astype(\"int32\")`,   if your model does binary classification   (e.g. if it uses a `sigmoid` last-layer activation).\n",
      "  warnings.warn('`model.predict_classes()` is deprecated and '\n"
     ]
    },
    {
     "name": "stdout",
     "output_type": "stream",
     "text": [
      "Epoch 1/8\n",
      "945/945 [==============================] - 2s 1ms/step - loss: 0.4439 - accuracy: 0.8146\n",
      "Epoch 2/8\n",
      "945/945 [==============================] - 1s 1ms/step - loss: 0.2667 - accuracy: 0.9002\n",
      "Epoch 3/8\n",
      "945/945 [==============================] - 1s 1ms/step - loss: 0.2216 - accuracy: 0.9218\n",
      "Epoch 4/8\n",
      "945/945 [==============================] - 1s 1ms/step - loss: 0.2067 - accuracy: 0.9304\n",
      "Epoch 5/8\n",
      "945/945 [==============================] - 1s 1ms/step - loss: 0.1946 - accuracy: 0.9336\n",
      "Epoch 6/8\n",
      "945/945 [==============================] - 1s 1ms/step - loss: 0.1899 - accuracy: 0.9324\n",
      "Epoch 7/8\n",
      "945/945 [==============================] - 1s 1ms/step - loss: 0.1863 - accuracy: 0.9393\n",
      "Epoch 8/8\n",
      "945/945 [==============================] - 1s 1ms/step - loss: 0.1860 - accuracy: 0.9365\n"
     ]
    },
    {
     "name": "stderr",
     "output_type": "stream",
     "text": [
      "/Users/husni.zuhdi/Documents/Codes/1-Python-Workshop/retention-prediction-demo/retention-prediction/lib/python3.10/site-packages/tensorflow/python/keras/engine/sequential.py:454: UserWarning: `model.predict_classes()` is deprecated and will be removed after 2021-01-01. Please use instead:* `np.argmax(model.predict(x), axis=-1)`,   if your model does multi-class classification   (e.g. if it uses a `softmax` last-layer activation).* `(model.predict(x) > 0.5).astype(\"int32\")`,   if your model does binary classification   (e.g. if it uses a `sigmoid` last-layer activation).\n",
      "  warnings.warn('`model.predict_classes()` is deprecated and '\n"
     ]
    },
    {
     "name": "stdout",
     "output_type": "stream",
     "text": [
      "Epoch 1/8\n",
      "945/945 [==============================] - 1s 1ms/step - loss: 0.4462 - accuracy: 0.8010\n",
      "Epoch 2/8\n",
      "945/945 [==============================] - 1s 989us/step - loss: 0.2750 - accuracy: 0.8924\n",
      "Epoch 3/8\n",
      "945/945 [==============================] - 1s 997us/step - loss: 0.2273 - accuracy: 0.9162\n",
      "Epoch 4/8\n",
      "945/945 [==============================] - 1s 1ms/step - loss: 0.2073 - accuracy: 0.9259\n",
      "Epoch 5/8\n",
      "945/945 [==============================] - 1s 1ms/step - loss: 0.1995 - accuracy: 0.9306\n",
      "Epoch 6/8\n",
      "945/945 [==============================] - 1s 1ms/step - loss: 0.1923 - accuracy: 0.9340\n",
      "Epoch 7/8\n",
      "945/945 [==============================] - 1s 1ms/step - loss: 0.1925 - accuracy: 0.9310\n",
      "Epoch 8/8\n",
      "945/945 [==============================] - 1s 1ms/step - loss: 0.1888 - accuracy: 0.9333\n",
      "Epoch 1/8\n"
     ]
    },
    {
     "name": "stderr",
     "output_type": "stream",
     "text": [
      "/Users/husni.zuhdi/Documents/Codes/1-Python-Workshop/retention-prediction-demo/retention-prediction/lib/python3.10/site-packages/tensorflow/python/keras/engine/sequential.py:454: UserWarning: `model.predict_classes()` is deprecated and will be removed after 2021-01-01. Please use instead:* `np.argmax(model.predict(x), axis=-1)`,   if your model does multi-class classification   (e.g. if it uses a `softmax` last-layer activation).* `(model.predict(x) > 0.5).astype(\"int32\")`,   if your model does binary classification   (e.g. if it uses a `sigmoid` last-layer activation).\n",
      "  warnings.warn('`model.predict_classes()` is deprecated and '\n"
     ]
    },
    {
     "name": "stdout",
     "output_type": "stream",
     "text": [
      "945/945 [==============================] - 2s 1ms/step - loss: 0.4374 - accuracy: 0.8099\n",
      "Epoch 2/8\n",
      "945/945 [==============================] - 1s 1ms/step - loss: 0.2606 - accuracy: 0.9010\n",
      "Epoch 3/8\n",
      "945/945 [==============================] - 1s 1ms/step - loss: 0.2185 - accuracy: 0.9191\n",
      "Epoch 4/8\n",
      "945/945 [==============================] - 1s 1ms/step - loss: 0.2022 - accuracy: 0.9272\n",
      "Epoch 5/8\n",
      "945/945 [==============================] - 1s 1ms/step - loss: 0.1976 - accuracy: 0.9310\n",
      "Epoch 6/8\n",
      "945/945 [==============================] - 1s 1ms/step - loss: 0.1918 - accuracy: 0.9320\n",
      "Epoch 7/8\n",
      "945/945 [==============================] - 1s 1ms/step - loss: 0.1941 - accuracy: 0.9295\n",
      "Epoch 8/8\n",
      "945/945 [==============================] - 1s 1ms/step - loss: 0.1862 - accuracy: 0.9332\n",
      "Epoch 1/8\n"
     ]
    },
    {
     "name": "stderr",
     "output_type": "stream",
     "text": [
      "/Users/husni.zuhdi/Documents/Codes/1-Python-Workshop/retention-prediction-demo/retention-prediction/lib/python3.10/site-packages/tensorflow/python/keras/engine/sequential.py:454: UserWarning: `model.predict_classes()` is deprecated and will be removed after 2021-01-01. Please use instead:* `np.argmax(model.predict(x), axis=-1)`,   if your model does multi-class classification   (e.g. if it uses a `softmax` last-layer activation).* `(model.predict(x) > 0.5).astype(\"int32\")`,   if your model does binary classification   (e.g. if it uses a `sigmoid` last-layer activation).\n",
      "  warnings.warn('`model.predict_classes()` is deprecated and '\n"
     ]
    },
    {
     "name": "stdout",
     "output_type": "stream",
     "text": [
      "945/945 [==============================] - 1s 1ms/step - loss: 0.4396 - accuracy: 0.7920\n",
      "Epoch 2/8\n",
      "945/945 [==============================] - 1s 1ms/step - loss: 0.2993 - accuracy: 0.8305\n",
      "Epoch 3/8\n",
      "945/945 [==============================] - 1s 1ms/step - loss: 0.2660 - accuracy: 0.8788\n",
      "Epoch 4/8\n",
      "945/945 [==============================] - 1s 1ms/step - loss: 0.2528 - accuracy: 0.9071\n",
      "Epoch 5/8\n",
      "945/945 [==============================] - 1s 1ms/step - loss: 0.2403 - accuracy: 0.9147\n",
      "Epoch 6/8\n",
      "945/945 [==============================] - 1s 1ms/step - loss: 0.2288 - accuracy: 0.9242\n",
      "Epoch 7/8\n",
      "945/945 [==============================] - 1s 1ms/step - loss: 0.2283 - accuracy: 0.9226\n",
      "Epoch 8/8\n",
      "945/945 [==============================] - 1s 1ms/step - loss: 0.2211 - accuracy: 0.9235\n",
      "Epoch 1/8\n"
     ]
    },
    {
     "name": "stderr",
     "output_type": "stream",
     "text": [
      "/Users/husni.zuhdi/Documents/Codes/1-Python-Workshop/retention-prediction-demo/retention-prediction/lib/python3.10/site-packages/tensorflow/python/keras/engine/sequential.py:454: UserWarning: `model.predict_classes()` is deprecated and will be removed after 2021-01-01. Please use instead:* `np.argmax(model.predict(x), axis=-1)`,   if your model does multi-class classification   (e.g. if it uses a `softmax` last-layer activation).* `(model.predict(x) > 0.5).astype(\"int32\")`,   if your model does binary classification   (e.g. if it uses a `sigmoid` last-layer activation).\n",
      "  warnings.warn('`model.predict_classes()` is deprecated and '\n"
     ]
    },
    {
     "name": "stdout",
     "output_type": "stream",
     "text": [
      "945/945 [==============================] - 2s 1ms/step - loss: 0.4442 - accuracy: 0.8022\n",
      "Epoch 2/8\n",
      "945/945 [==============================] - 1s 1ms/step - loss: 0.3005 - accuracy: 0.8622\n",
      "Epoch 3/8\n",
      "945/945 [==============================] - 1s 1ms/step - loss: 0.2594 - accuracy: 0.8710\n",
      "Epoch 4/8\n",
      "945/945 [==============================] - 1s 1ms/step - loss: 0.2417 - accuracy: 0.8897\n",
      "Epoch 5/8\n",
      "945/945 [==============================] - 1s 1ms/step - loss: 0.2340 - accuracy: 0.9107\n",
      "Epoch 6/8\n",
      "945/945 [==============================] - 1s 1ms/step - loss: 0.2241 - accuracy: 0.9205\n",
      "Epoch 7/8\n",
      "945/945 [==============================] - 1s 2ms/step - loss: 0.2205 - accuracy: 0.9241\n",
      "Epoch 8/8\n",
      "945/945 [==============================] - 1s 1ms/step - loss: 0.2124 - accuracy: 0.9305\n"
     ]
    },
    {
     "name": "stderr",
     "output_type": "stream",
     "text": [
      "/Users/husni.zuhdi/Documents/Codes/1-Python-Workshop/retention-prediction-demo/retention-prediction/lib/python3.10/site-packages/tensorflow/python/keras/engine/sequential.py:454: UserWarning: `model.predict_classes()` is deprecated and will be removed after 2021-01-01. Please use instead:* `np.argmax(model.predict(x), axis=-1)`,   if your model does multi-class classification   (e.g. if it uses a `softmax` last-layer activation).* `(model.predict(x) > 0.5).astype(\"int32\")`,   if your model does binary classification   (e.g. if it uses a `sigmoid` last-layer activation).\n",
      "  warnings.warn('`model.predict_classes()` is deprecated and '\n"
     ]
    },
    {
     "name": "stdout",
     "output_type": "stream",
     "text": [
      "Epoch 1/8\n",
      "945/945 [==============================] - 2s 2ms/step - loss: 0.4397 - accuracy: 0.7914\n",
      "Epoch 2/8\n",
      "945/945 [==============================] - 2s 2ms/step - loss: 0.2933 - accuracy: 0.8391\n",
      "Epoch 3/8\n",
      "945/945 [==============================] - 1s 1ms/step - loss: 0.2537 - accuracy: 0.8698\n",
      "Epoch 4/8\n",
      "945/945 [==============================] - 2s 2ms/step - loss: 0.2348 - accuracy: 0.9294\n",
      "Epoch 5/8\n",
      "945/945 [==============================] - 2s 2ms/step - loss: 0.2259 - accuracy: 0.9352\n",
      "Epoch 6/8\n",
      "945/945 [==============================] - 2s 2ms/step - loss: 0.2185 - accuracy: 0.9399\n",
      "Epoch 7/8\n",
      "945/945 [==============================] - 1s 1ms/step - loss: 0.2149 - accuracy: 0.9378\n",
      "Epoch 8/8\n",
      "945/945 [==============================] - 1s 1ms/step - loss: 0.2140 - accuracy: 0.9396\n"
     ]
    },
    {
     "name": "stderr",
     "output_type": "stream",
     "text": [
      "/Users/husni.zuhdi/Documents/Codes/1-Python-Workshop/retention-prediction-demo/retention-prediction/lib/python3.10/site-packages/tensorflow/python/keras/engine/sequential.py:454: UserWarning: `model.predict_classes()` is deprecated and will be removed after 2021-01-01. Please use instead:* `np.argmax(model.predict(x), axis=-1)`,   if your model does multi-class classification   (e.g. if it uses a `softmax` last-layer activation).* `(model.predict(x) > 0.5).astype(\"int32\")`,   if your model does binary classification   (e.g. if it uses a `sigmoid` last-layer activation).\n",
      "  warnings.warn('`model.predict_classes()` is deprecated and '\n"
     ]
    },
    {
     "name": "stdout",
     "output_type": "stream",
     "text": [
      "Epoch 1/8\n",
      "945/945 [==============================] - 2s 1ms/step - loss: 0.4474 - accuracy: 0.7607\n",
      "Epoch 2/8\n",
      "945/945 [==============================] - 1s 1ms/step - loss: 0.3232 - accuracy: 0.8375\n",
      "Epoch 3/8\n",
      "945/945 [==============================] - 1s 2ms/step - loss: 0.2866 - accuracy: 0.8977\n",
      "Epoch 4/8\n",
      "945/945 [==============================] - 1s 1ms/step - loss: 0.2701 - accuracy: 0.9093\n",
      "Epoch 5/8\n",
      "945/945 [==============================] - 1s 1ms/step - loss: 0.2547 - accuracy: 0.9154\n",
      "Epoch 6/8\n",
      "945/945 [==============================] - 1s 1ms/step - loss: 0.2476 - accuracy: 0.9165\n",
      "Epoch 7/8\n",
      "945/945 [==============================] - 2s 2ms/step - loss: 0.2392 - accuracy: 0.9202\n",
      "Epoch 8/8\n",
      "945/945 [==============================] - 1s 1ms/step - loss: 0.2345 - accuracy: 0.9197\n"
     ]
    },
    {
     "name": "stderr",
     "output_type": "stream",
     "text": [
      "/Users/husni.zuhdi/Documents/Codes/1-Python-Workshop/retention-prediction-demo/retention-prediction/lib/python3.10/site-packages/tensorflow/python/keras/engine/sequential.py:454: UserWarning: `model.predict_classes()` is deprecated and will be removed after 2021-01-01. Please use instead:* `np.argmax(model.predict(x), axis=-1)`,   if your model does multi-class classification   (e.g. if it uses a `softmax` last-layer activation).* `(model.predict(x) > 0.5).astype(\"int32\")`,   if your model does binary classification   (e.g. if it uses a `sigmoid` last-layer activation).\n",
      "  warnings.warn('`model.predict_classes()` is deprecated and '\n"
     ]
    },
    {
     "name": "stdout",
     "output_type": "stream",
     "text": [
      "Epoch 1/8\n",
      "945/945 [==============================] - 2s 1ms/step - loss: 0.4306 - accuracy: 0.7901\n",
      "Epoch 2/8\n",
      "945/945 [==============================] - 1s 1ms/step - loss: 0.2929 - accuracy: 0.8326\n",
      "Epoch 3/8\n",
      "945/945 [==============================] - 1s 1ms/step - loss: 0.2524 - accuracy: 0.9014\n",
      "Epoch 4/8\n",
      "945/945 [==============================] - 1s 1ms/step - loss: 0.2313 - accuracy: 0.9315\n",
      "Epoch 5/8\n",
      "945/945 [==============================] - 1s 1ms/step - loss: 0.2229 - accuracy: 0.9330\n",
      "Epoch 6/8\n",
      "945/945 [==============================] - 1s 1ms/step - loss: 0.2173 - accuracy: 0.9348\n",
      "Epoch 7/8\n",
      "945/945 [==============================] - 1s 1ms/step - loss: 0.2094 - accuracy: 0.9388\n",
      "Epoch 8/8\n",
      "945/945 [==============================] - 1s 1ms/step - loss: 0.2044 - accuracy: 0.9387\n",
      "Epoch 1/8\n"
     ]
    },
    {
     "name": "stderr",
     "output_type": "stream",
     "text": [
      "/Users/husni.zuhdi/Documents/Codes/1-Python-Workshop/retention-prediction-demo/retention-prediction/lib/python3.10/site-packages/tensorflow/python/keras/engine/sequential.py:454: UserWarning: `model.predict_classes()` is deprecated and will be removed after 2021-01-01. Please use instead:* `np.argmax(model.predict(x), axis=-1)`,   if your model does multi-class classification   (e.g. if it uses a `softmax` last-layer activation).* `(model.predict(x) > 0.5).astype(\"int32\")`,   if your model does binary classification   (e.g. if it uses a `sigmoid` last-layer activation).\n",
      "  warnings.warn('`model.predict_classes()` is deprecated and '\n"
     ]
    },
    {
     "name": "stdout",
     "output_type": "stream",
     "text": [
      "945/945 [==============================] - 1s 1ms/step - loss: 0.4423 - accuracy: 0.7928\n",
      "Epoch 2/8\n",
      "945/945 [==============================] - 1s 1ms/step - loss: 0.3006 - accuracy: 0.8570\n",
      "Epoch 3/8\n",
      "945/945 [==============================] - 1s 978us/step - loss: 0.2663 - accuracy: 0.8803\n",
      "Epoch 4/8\n",
      "945/945 [==============================] - 1s 835us/step - loss: 0.2529 - accuracy: 0.8999\n",
      "Epoch 5/8\n",
      "945/945 [==============================] - 1s 986us/step - loss: 0.2446 - accuracy: 0.9057\n",
      "Epoch 6/8\n",
      "945/945 [==============================] - 1s 1ms/step - loss: 0.2394 - accuracy: 0.9165\n",
      "Epoch 7/8\n",
      "945/945 [==============================] - 1s 937us/step - loss: 0.2353 - accuracy: 0.9165\n",
      "Epoch 8/8\n",
      "945/945 [==============================] - 1s 1ms/step - loss: 0.2299 - accuracy: 0.9205\n"
     ]
    },
    {
     "name": "stderr",
     "output_type": "stream",
     "text": [
      "/Users/husni.zuhdi/Documents/Codes/1-Python-Workshop/retention-prediction-demo/retention-prediction/lib/python3.10/site-packages/tensorflow/python/keras/engine/sequential.py:454: UserWarning: `model.predict_classes()` is deprecated and will be removed after 2021-01-01. Please use instead:* `np.argmax(model.predict(x), axis=-1)`,   if your model does multi-class classification   (e.g. if it uses a `softmax` last-layer activation).* `(model.predict(x) > 0.5).astype(\"int32\")`,   if your model does binary classification   (e.g. if it uses a `sigmoid` last-layer activation).\n",
      "  warnings.warn('`model.predict_classes()` is deprecated and '\n"
     ]
    },
    {
     "name": "stdout",
     "output_type": "stream",
     "text": [
      "Epoch 1/8\n",
      "945/945 [==============================] - 1s 1ms/step - loss: 0.4786 - accuracy: 0.7950\n",
      "Epoch 2/8\n",
      "945/945 [==============================] - 2s 2ms/step - loss: 0.2979 - accuracy: 0.8869\n",
      "Epoch 3/8\n",
      "945/945 [==============================] - 2s 2ms/step - loss: 0.2391 - accuracy: 0.9148\n",
      "Epoch 4/8\n",
      "945/945 [==============================] - 2s 2ms/step - loss: 0.2190 - accuracy: 0.9231\n",
      "Epoch 5/8\n",
      "945/945 [==============================] - 2s 2ms/step - loss: 0.2124 - accuracy: 0.9277\n",
      "Epoch 6/8\n",
      "945/945 [==============================] - 1s 1ms/step - loss: 0.2011 - accuracy: 0.9315\n",
      "Epoch 7/8\n",
      "945/945 [==============================] - 1s 1ms/step - loss: 0.2010 - accuracy: 0.9359\n",
      "Epoch 8/8\n",
      "945/945 [==============================] - 1s 979us/step - loss: 0.2000 - accuracy: 0.9354\n"
     ]
    },
    {
     "name": "stderr",
     "output_type": "stream",
     "text": [
      "/Users/husni.zuhdi/Documents/Codes/1-Python-Workshop/retention-prediction-demo/retention-prediction/lib/python3.10/site-packages/tensorflow/python/keras/engine/sequential.py:454: UserWarning: `model.predict_classes()` is deprecated and will be removed after 2021-01-01. Please use instead:* `np.argmax(model.predict(x), axis=-1)`,   if your model does multi-class classification   (e.g. if it uses a `softmax` last-layer activation).* `(model.predict(x) > 0.5).astype(\"int32\")`,   if your model does binary classification   (e.g. if it uses a `sigmoid` last-layer activation).\n",
      "  warnings.warn('`model.predict_classes()` is deprecated and '\n"
     ]
    },
    {
     "name": "stdout",
     "output_type": "stream",
     "text": [
      "Epoch 1/8\n",
      "945/945 [==============================] - 2s 2ms/step - loss: 0.4645 - accuracy: 0.7885\n",
      "Epoch 2/8\n",
      "945/945 [==============================] - 1s 1ms/step - loss: 0.2935 - accuracy: 0.8839\n",
      "Epoch 3/8\n",
      "945/945 [==============================] - 1s 1ms/step - loss: 0.2299 - accuracy: 0.9163\n",
      "Epoch 4/8\n",
      "945/945 [==============================] - 1s 1ms/step - loss: 0.2133 - accuracy: 0.9245\n",
      "Epoch 5/8\n",
      "945/945 [==============================] - 2s 2ms/step - loss: 0.2013 - accuracy: 0.9324\n",
      "Epoch 6/8\n",
      "945/945 [==============================] - 3s 3ms/step - loss: 0.1928 - accuracy: 0.9366\n",
      "Epoch 7/8\n",
      "945/945 [==============================] - 3s 3ms/step - loss: 0.1892 - accuracy: 0.9386\n",
      "Epoch 8/8\n",
      "945/945 [==============================] - 2s 2ms/step - loss: 0.1919 - accuracy: 0.9367\n"
     ]
    },
    {
     "name": "stderr",
     "output_type": "stream",
     "text": [
      "/Users/husni.zuhdi/Documents/Codes/1-Python-Workshop/retention-prediction-demo/retention-prediction/lib/python3.10/site-packages/tensorflow/python/keras/engine/sequential.py:454: UserWarning: `model.predict_classes()` is deprecated and will be removed after 2021-01-01. Please use instead:* `np.argmax(model.predict(x), axis=-1)`,   if your model does multi-class classification   (e.g. if it uses a `softmax` last-layer activation).* `(model.predict(x) > 0.5).astype(\"int32\")`,   if your model does binary classification   (e.g. if it uses a `sigmoid` last-layer activation).\n",
      "  warnings.warn('`model.predict_classes()` is deprecated and '\n"
     ]
    },
    {
     "name": "stdout",
     "output_type": "stream",
     "text": [
      "Epoch 1/8\n",
      "945/945 [==============================] - 3s 2ms/step - loss: 0.4711 - accuracy: 0.7934\n",
      "Epoch 2/8\n",
      "945/945 [==============================] - 1s 1ms/step - loss: 0.2856 - accuracy: 0.8915\n",
      "Epoch 3/8\n",
      "945/945 [==============================] - 1s 1ms/step - loss: 0.2339 - accuracy: 0.9098\n",
      "Epoch 4/8\n",
      "945/945 [==============================] - 1s 2ms/step - loss: 0.2084 - accuracy: 0.9255\n",
      "Epoch 5/8\n",
      "945/945 [==============================] - 1s 1ms/step - loss: 0.1991 - accuracy: 0.9331\n",
      "Epoch 6/8\n",
      "945/945 [==============================] - 1s 1ms/step - loss: 0.1968 - accuracy: 0.9327\n",
      "Epoch 7/8\n",
      "945/945 [==============================] - 1s 1ms/step - loss: 0.1908 - accuracy: 0.9346\n",
      "Epoch 8/8\n",
      "945/945 [==============================] - 1s 1ms/step - loss: 0.1917 - accuracy: 0.9364\n",
      "Epoch 1/8\n"
     ]
    },
    {
     "name": "stderr",
     "output_type": "stream",
     "text": [
      "/Users/husni.zuhdi/Documents/Codes/1-Python-Workshop/retention-prediction-demo/retention-prediction/lib/python3.10/site-packages/tensorflow/python/keras/engine/sequential.py:454: UserWarning: `model.predict_classes()` is deprecated and will be removed after 2021-01-01. Please use instead:* `np.argmax(model.predict(x), axis=-1)`,   if your model does multi-class classification   (e.g. if it uses a `softmax` last-layer activation).* `(model.predict(x) > 0.5).astype(\"int32\")`,   if your model does binary classification   (e.g. if it uses a `sigmoid` last-layer activation).\n",
      "  warnings.warn('`model.predict_classes()` is deprecated and '\n"
     ]
    },
    {
     "name": "stdout",
     "output_type": "stream",
     "text": [
      "945/945 [==============================] - 1s 952us/step - loss: 0.4753 - accuracy: 0.7781\n",
      "Epoch 2/8\n",
      "945/945 [==============================] - 1s 1ms/step - loss: 0.3244 - accuracy: 0.8232\n",
      "Epoch 3/8\n",
      "945/945 [==============================] - 1s 2ms/step - loss: 0.2709 - accuracy: 0.8595\n",
      "Epoch 4/8\n",
      "945/945 [==============================] - 1s 1ms/step - loss: 0.2441 - accuracy: 0.9214\n",
      "Epoch 5/8\n",
      "945/945 [==============================] - 1s 1ms/step - loss: 0.2273 - accuracy: 0.9310\n",
      "Epoch 6/8\n",
      "945/945 [==============================] - 1s 1ms/step - loss: 0.2183 - accuracy: 0.9362\n",
      "Epoch 7/8\n",
      "945/945 [==============================] - 1s 1ms/step - loss: 0.2126 - accuracy: 0.9377\n",
      "Epoch 8/8\n",
      "945/945 [==============================] - 1s 1ms/step - loss: 0.2062 - accuracy: 0.9382\n",
      "Epoch 1/8\n"
     ]
    },
    {
     "name": "stderr",
     "output_type": "stream",
     "text": [
      "/Users/husni.zuhdi/Documents/Codes/1-Python-Workshop/retention-prediction-demo/retention-prediction/lib/python3.10/site-packages/tensorflow/python/keras/engine/sequential.py:454: UserWarning: `model.predict_classes()` is deprecated and will be removed after 2021-01-01. Please use instead:* `np.argmax(model.predict(x), axis=-1)`,   if your model does multi-class classification   (e.g. if it uses a `softmax` last-layer activation).* `(model.predict(x) > 0.5).astype(\"int32\")`,   if your model does binary classification   (e.g. if it uses a `sigmoid` last-layer activation).\n",
      "  warnings.warn('`model.predict_classes()` is deprecated and '\n"
     ]
    },
    {
     "name": "stdout",
     "output_type": "stream",
     "text": [
      "945/945 [==============================] - 2s 1ms/step - loss: 0.4763 - accuracy: 0.8025\n",
      "Epoch 2/8\n",
      "945/945 [==============================] - 1s 1ms/step - loss: 0.3013 - accuracy: 0.8807\n",
      "Epoch 3/8\n",
      "945/945 [==============================] - 1s 1ms/step - loss: 0.2481 - accuracy: 0.9097\n",
      "Epoch 4/8\n",
      "945/945 [==============================] - 1s 999us/step - loss: 0.2252 - accuracy: 0.9206\n",
      "Epoch 5/8\n",
      "945/945 [==============================] - 1s 1ms/step - loss: 0.2163 - accuracy: 0.9248\n",
      "Epoch 6/8\n",
      "945/945 [==============================] - 1s 1ms/step - loss: 0.2040 - accuracy: 0.9295\n",
      "Epoch 7/8\n",
      "945/945 [==============================] - 2s 2ms/step - loss: 0.1963 - accuracy: 0.9341\n",
      "Epoch 8/8\n",
      "945/945 [==============================] - 1s 1ms/step - loss: 0.1952 - accuracy: 0.9349\n",
      "Epoch 1/8\n"
     ]
    },
    {
     "name": "stderr",
     "output_type": "stream",
     "text": [
      "/Users/husni.zuhdi/Documents/Codes/1-Python-Workshop/retention-prediction-demo/retention-prediction/lib/python3.10/site-packages/tensorflow/python/keras/engine/sequential.py:454: UserWarning: `model.predict_classes()` is deprecated and will be removed after 2021-01-01. Please use instead:* `np.argmax(model.predict(x), axis=-1)`,   if your model does multi-class classification   (e.g. if it uses a `softmax` last-layer activation).* `(model.predict(x) > 0.5).astype(\"int32\")`,   if your model does binary classification   (e.g. if it uses a `sigmoid` last-layer activation).\n",
      "  warnings.warn('`model.predict_classes()` is deprecated and '\n"
     ]
    },
    {
     "name": "stdout",
     "output_type": "stream",
     "text": [
      "945/945 [==============================] - 2s 1ms/step - loss: 0.4849 - accuracy: 0.7619\n",
      "Epoch 2/8\n",
      "945/945 [==============================] - 1s 997us/step - loss: 0.3574 - accuracy: 0.7908\n",
      "Epoch 3/8\n",
      "945/945 [==============================] - 1s 1ms/step - loss: 0.3203 - accuracy: 0.8716\n",
      "Epoch 4/8\n",
      "945/945 [==============================] - 1s 993us/step - loss: 0.2931 - accuracy: 0.8940\n",
      "Epoch 5/8\n",
      "945/945 [==============================] - 1s 990us/step - loss: 0.2762 - accuracy: 0.9071\n",
      "Epoch 6/8\n",
      "945/945 [==============================] - 1s 1ms/step - loss: 0.2603 - accuracy: 0.9155\n",
      "Epoch 7/8\n",
      "945/945 [==============================] - 1s 1ms/step - loss: 0.2514 - accuracy: 0.9166\n",
      "Epoch 8/8\n",
      "945/945 [==============================] - 2s 2ms/step - loss: 0.2433 - accuracy: 0.9195\n",
      "Epoch 1/8\n"
     ]
    },
    {
     "name": "stderr",
     "output_type": "stream",
     "text": [
      "/Users/husni.zuhdi/Documents/Codes/1-Python-Workshop/retention-prediction-demo/retention-prediction/lib/python3.10/site-packages/tensorflow/python/keras/engine/sequential.py:454: UserWarning: `model.predict_classes()` is deprecated and will be removed after 2021-01-01. Please use instead:* `np.argmax(model.predict(x), axis=-1)`,   if your model does multi-class classification   (e.g. if it uses a `softmax` last-layer activation).* `(model.predict(x) > 0.5).astype(\"int32\")`,   if your model does binary classification   (e.g. if it uses a `sigmoid` last-layer activation).\n",
      "  warnings.warn('`model.predict_classes()` is deprecated and '\n"
     ]
    },
    {
     "name": "stdout",
     "output_type": "stream",
     "text": [
      "945/945 [==============================] - 2s 1ms/step - loss: 0.4681 - accuracy: 0.7817\n",
      "Epoch 2/8\n",
      "945/945 [==============================] - 1s 1ms/step - loss: 0.3104 - accuracy: 0.8654\n",
      "Epoch 3/8\n",
      "945/945 [==============================] - 1s 1ms/step - loss: 0.2488 - accuracy: 0.9071\n",
      "Epoch 4/8\n",
      "945/945 [==============================] - 1s 1ms/step - loss: 0.2224 - accuracy: 0.9173\n",
      "Epoch 5/8\n",
      "945/945 [==============================] - 1s 1ms/step - loss: 0.2140 - accuracy: 0.9224\n",
      "Epoch 6/8\n",
      "945/945 [==============================] - 1s 1ms/step - loss: 0.2118 - accuracy: 0.9222\n",
      "Epoch 7/8\n",
      "945/945 [==============================] - 1s 1ms/step - loss: 0.2017 - accuracy: 0.9278\n",
      "Epoch 8/8\n",
      "945/945 [==============================] - 1s 1ms/step - loss: 0.2003 - accuracy: 0.9297\n"
     ]
    },
    {
     "name": "stderr",
     "output_type": "stream",
     "text": [
      "/Users/husni.zuhdi/Documents/Codes/1-Python-Workshop/retention-prediction-demo/retention-prediction/lib/python3.10/site-packages/tensorflow/python/keras/engine/sequential.py:454: UserWarning: `model.predict_classes()` is deprecated and will be removed after 2021-01-01. Please use instead:* `np.argmax(model.predict(x), axis=-1)`,   if your model does multi-class classification   (e.g. if it uses a `softmax` last-layer activation).* `(model.predict(x) > 0.5).astype(\"int32\")`,   if your model does binary classification   (e.g. if it uses a `sigmoid` last-layer activation).\n",
      "  warnings.warn('`model.predict_classes()` is deprecated and '\n"
     ]
    },
    {
     "name": "stdout",
     "output_type": "stream",
     "text": [
      "Epoch 1/8\n",
      "945/945 [==============================] - 2s 1ms/step - loss: 0.4695 - accuracy: 0.7858\n",
      "Epoch 2/8\n",
      "945/945 [==============================] - 1s 1ms/step - loss: 0.2918 - accuracy: 0.8872\n",
      "Epoch 3/8\n",
      "945/945 [==============================] - 1s 2ms/step - loss: 0.2332 - accuracy: 0.9149\n",
      "Epoch 4/8\n",
      "945/945 [==============================] - 1s 1ms/step - loss: 0.2126 - accuracy: 0.9245\n",
      "Epoch 5/8\n",
      "945/945 [==============================] - 1s 1ms/step - loss: 0.1980 - accuracy: 0.9320\n",
      "Epoch 6/8\n",
      "945/945 [==============================] - 1s 1ms/step - loss: 0.1953 - accuracy: 0.9332\n",
      "Epoch 7/8\n",
      "945/945 [==============================] - 2s 2ms/step - loss: 0.1952 - accuracy: 0.9344\n",
      "Epoch 8/8\n",
      "945/945 [==============================] - 1s 1ms/step - loss: 0.1874 - accuracy: 0.9388\n",
      "Epoch 1/8\n"
     ]
    },
    {
     "name": "stderr",
     "output_type": "stream",
     "text": [
      "/Users/husni.zuhdi/Documents/Codes/1-Python-Workshop/retention-prediction-demo/retention-prediction/lib/python3.10/site-packages/tensorflow/python/keras/engine/sequential.py:454: UserWarning: `model.predict_classes()` is deprecated and will be removed after 2021-01-01. Please use instead:* `np.argmax(model.predict(x), axis=-1)`,   if your model does multi-class classification   (e.g. if it uses a `softmax` last-layer activation).* `(model.predict(x) > 0.5).astype(\"int32\")`,   if your model does binary classification   (e.g. if it uses a `sigmoid` last-layer activation).\n",
      "  warnings.warn('`model.predict_classes()` is deprecated and '\n"
     ]
    },
    {
     "name": "stdout",
     "output_type": "stream",
     "text": [
      "945/945 [==============================] - 2s 1ms/step - loss: 0.4764 - accuracy: 0.7781\n",
      "Epoch 2/8\n",
      "945/945 [==============================] - 1s 1ms/step - loss: 0.3428 - accuracy: 0.8081\n",
      "Epoch 3/8\n",
      "945/945 [==============================] - 1s 1ms/step - loss: 0.2971 - accuracy: 0.8315\n",
      "Epoch 4/8\n",
      "945/945 [==============================] - 1s 984us/step - loss: 0.2646 - accuracy: 0.8985\n",
      "Epoch 5/8\n",
      "945/945 [==============================] - 1s 1ms/step - loss: 0.2420 - accuracy: 0.9246\n",
      "Epoch 6/8\n",
      "945/945 [==============================] - 1s 987us/step - loss: 0.2329 - accuracy: 0.9279\n",
      "Epoch 7/8\n",
      "945/945 [==============================] - 1s 1ms/step - loss: 0.2218 - accuracy: 0.9320\n",
      "Epoch 8/8\n",
      "945/945 [==============================] - 1s 1ms/step - loss: 0.2190 - accuracy: 0.9322\n",
      "Epoch 1/8\n"
     ]
    },
    {
     "name": "stderr",
     "output_type": "stream",
     "text": [
      "/Users/husni.zuhdi/Documents/Codes/1-Python-Workshop/retention-prediction-demo/retention-prediction/lib/python3.10/site-packages/tensorflow/python/keras/engine/sequential.py:454: UserWarning: `model.predict_classes()` is deprecated and will be removed after 2021-01-01. Please use instead:* `np.argmax(model.predict(x), axis=-1)`,   if your model does multi-class classification   (e.g. if it uses a `softmax` last-layer activation).* `(model.predict(x) > 0.5).astype(\"int32\")`,   if your model does binary classification   (e.g. if it uses a `sigmoid` last-layer activation).\n",
      "  warnings.warn('`model.predict_classes()` is deprecated and '\n"
     ]
    },
    {
     "name": "stdout",
     "output_type": "stream",
     "text": [
      "945/945 [==============================] - 1s 894us/step - loss: 0.4722 - accuracy: 0.7761\n",
      "Epoch 2/8\n",
      "945/945 [==============================] - 1s 870us/step - loss: 0.3336 - accuracy: 0.8123\n",
      "Epoch 3/8\n",
      "945/945 [==============================] - 1s 1ms/step - loss: 0.2836 - accuracy: 0.8620\n",
      "Epoch 4/8\n",
      "945/945 [==============================] - 1s 904us/step - loss: 0.2568 - accuracy: 0.9111\n",
      "Epoch 5/8\n",
      "945/945 [==============================] - 1s 943us/step - loss: 0.2456 - accuracy: 0.9203\n",
      "Epoch 6/8\n",
      "945/945 [==============================] - 1s 921us/step - loss: 0.2337 - accuracy: 0.9301\n",
      "Epoch 7/8\n",
      "945/945 [==============================] - 1s 926us/step - loss: 0.2283 - accuracy: 0.9290\n",
      "Epoch 8/8\n",
      "945/945 [==============================] - 1s 950us/step - loss: 0.2191 - accuracy: 0.9354\n",
      "Epoch 1/10\n"
     ]
    },
    {
     "name": "stderr",
     "output_type": "stream",
     "text": [
      "/Users/husni.zuhdi/Documents/Codes/1-Python-Workshop/retention-prediction-demo/retention-prediction/lib/python3.10/site-packages/tensorflow/python/keras/engine/sequential.py:454: UserWarning: `model.predict_classes()` is deprecated and will be removed after 2021-01-01. Please use instead:* `np.argmax(model.predict(x), axis=-1)`,   if your model does multi-class classification   (e.g. if it uses a `softmax` last-layer activation).* `(model.predict(x) > 0.5).astype(\"int32\")`,   if your model does binary classification   (e.g. if it uses a `sigmoid` last-layer activation).\n",
      "  warnings.warn('`model.predict_classes()` is deprecated and '\n"
     ]
    },
    {
     "name": "stdout",
     "output_type": "stream",
     "text": [
      "945/945 [==============================] - 1s 1ms/step - loss: 0.4339 - accuracy: 0.7908\n",
      "Epoch 2/10\n",
      "945/945 [==============================] - 1s 1ms/step - loss: 0.2975 - accuracy: 0.8385\n",
      "Epoch 3/10\n",
      "945/945 [==============================] - 1s 967us/step - loss: 0.2592 - accuracy: 0.8577\n",
      "Epoch 4/10\n",
      "945/945 [==============================] - 1s 970us/step - loss: 0.2423 - accuracy: 0.9183\n",
      "Epoch 5/10\n",
      "945/945 [==============================] - 1s 1ms/step - loss: 0.2318 - accuracy: 0.9322\n",
      "Epoch 6/10\n",
      "945/945 [==============================] - 1s 1ms/step - loss: 0.2205 - accuracy: 0.9364\n",
      "Epoch 7/10\n",
      "945/945 [==============================] - 1s 950us/step - loss: 0.2173 - accuracy: 0.9340\n",
      "Epoch 8/10\n",
      "945/945 [==============================] - 1s 965us/step - loss: 0.2137 - accuracy: 0.9363\n",
      "Epoch 9/10\n",
      "945/945 [==============================] - 1s 1ms/step - loss: 0.2141 - accuracy: 0.9366\n",
      "Epoch 10/10\n",
      "945/945 [==============================] - 1s 993us/step - loss: 0.2068 - accuracy: 0.9378\n",
      "Epoch 1/10\n"
     ]
    },
    {
     "name": "stderr",
     "output_type": "stream",
     "text": [
      "/Users/husni.zuhdi/Documents/Codes/1-Python-Workshop/retention-prediction-demo/retention-prediction/lib/python3.10/site-packages/tensorflow/python/keras/engine/sequential.py:454: UserWarning: `model.predict_classes()` is deprecated and will be removed after 2021-01-01. Please use instead:* `np.argmax(model.predict(x), axis=-1)`,   if your model does multi-class classification   (e.g. if it uses a `softmax` last-layer activation).* `(model.predict(x) > 0.5).astype(\"int32\")`,   if your model does binary classification   (e.g. if it uses a `sigmoid` last-layer activation).\n",
      "  warnings.warn('`model.predict_classes()` is deprecated and '\n"
     ]
    },
    {
     "name": "stdout",
     "output_type": "stream",
     "text": [
      "945/945 [==============================] - 1s 997us/step - loss: 0.4360 - accuracy: 0.7873\n",
      "Epoch 2/10\n",
      "945/945 [==============================] - 1s 1ms/step - loss: 0.2981 - accuracy: 0.8298\n",
      "Epoch 3/10\n",
      "945/945 [==============================] - 1s 1ms/step - loss: 0.2548 - accuracy: 0.8966\n",
      "Epoch 4/10\n",
      "945/945 [==============================] - 1s 977us/step - loss: 0.2425 - accuracy: 0.9246\n",
      "Epoch 5/10\n",
      "945/945 [==============================] - 1s 989us/step - loss: 0.2257 - accuracy: 0.9294\n",
      "Epoch 6/10\n",
      "945/945 [==============================] - 1s 984us/step - loss: 0.2158 - accuracy: 0.9328\n",
      "Epoch 7/10\n",
      "945/945 [==============================] - 1s 1ms/step - loss: 0.2137 - accuracy: 0.9345\n",
      "Epoch 8/10\n",
      "945/945 [==============================] - 1s 964us/step - loss: 0.2095 - accuracy: 0.9351\n",
      "Epoch 9/10\n",
      "945/945 [==============================] - 1s 954us/step - loss: 0.2059 - accuracy: 0.9354\n",
      "Epoch 10/10\n",
      "945/945 [==============================] - 1s 971us/step - loss: 0.2079 - accuracy: 0.9339\n",
      "Epoch 1/10\n"
     ]
    },
    {
     "name": "stderr",
     "output_type": "stream",
     "text": [
      "/Users/husni.zuhdi/Documents/Codes/1-Python-Workshop/retention-prediction-demo/retention-prediction/lib/python3.10/site-packages/tensorflow/python/keras/engine/sequential.py:454: UserWarning: `model.predict_classes()` is deprecated and will be removed after 2021-01-01. Please use instead:* `np.argmax(model.predict(x), axis=-1)`,   if your model does multi-class classification   (e.g. if it uses a `softmax` last-layer activation).* `(model.predict(x) > 0.5).astype(\"int32\")`,   if your model does binary classification   (e.g. if it uses a `sigmoid` last-layer activation).\n",
      "  warnings.warn('`model.predict_classes()` is deprecated and '\n"
     ]
    },
    {
     "name": "stdout",
     "output_type": "stream",
     "text": [
      "945/945 [==============================] - 1s 1ms/step - loss: 0.4416 - accuracy: 0.7865\n",
      "Epoch 2/10\n",
      "945/945 [==============================] - 1s 1ms/step - loss: 0.2999 - accuracy: 0.8305\n",
      "Epoch 3/10\n",
      "945/945 [==============================] - 1s 945us/step - loss: 0.2595 - accuracy: 0.8776\n",
      "Epoch 4/10\n",
      "945/945 [==============================] - 1s 994us/step - loss: 0.2418 - accuracy: 0.9183\n",
      "Epoch 5/10\n",
      "945/945 [==============================] - 1s 986us/step - loss: 0.2307 - accuracy: 0.9270\n",
      "Epoch 6/10\n",
      "945/945 [==============================] - 1s 982us/step - loss: 0.2182 - accuracy: 0.9324\n",
      "Epoch 7/10\n",
      "945/945 [==============================] - 1s 955us/step - loss: 0.2137 - accuracy: 0.9350\n",
      "Epoch 8/10\n",
      "945/945 [==============================] - 1s 984us/step - loss: 0.2096 - accuracy: 0.9350\n",
      "Epoch 9/10\n",
      "945/945 [==============================] - 1s 963us/step - loss: 0.2065 - accuracy: 0.9363\n",
      "Epoch 10/10\n",
      "945/945 [==============================] - 1s 949us/step - loss: 0.2051 - accuracy: 0.9327\n",
      "Epoch 1/10\n"
     ]
    },
    {
     "name": "stderr",
     "output_type": "stream",
     "text": [
      "/Users/husni.zuhdi/Documents/Codes/1-Python-Workshop/retention-prediction-demo/retention-prediction/lib/python3.10/site-packages/tensorflow/python/keras/engine/sequential.py:454: UserWarning: `model.predict_classes()` is deprecated and will be removed after 2021-01-01. Please use instead:* `np.argmax(model.predict(x), axis=-1)`,   if your model does multi-class classification   (e.g. if it uses a `softmax` last-layer activation).* `(model.predict(x) > 0.5).astype(\"int32\")`,   if your model does binary classification   (e.g. if it uses a `sigmoid` last-layer activation).\n",
      "  warnings.warn('`model.predict_classes()` is deprecated and '\n"
     ]
    },
    {
     "name": "stdout",
     "output_type": "stream",
     "text": [
      "945/945 [==============================] - 1s 1ms/step - loss: 0.4537 - accuracy: 0.7602\n",
      "Epoch 2/10\n",
      "945/945 [==============================] - 1s 1ms/step - loss: 0.3335 - accuracy: 0.8227\n",
      "Epoch 3/10\n",
      "945/945 [==============================] - 1s 1ms/step - loss: 0.2955 - accuracy: 0.8907\n",
      "Epoch 4/10\n",
      "945/945 [==============================] - 1s 1ms/step - loss: 0.2768 - accuracy: 0.9049\n",
      "Epoch 5/10\n",
      "945/945 [==============================] - 1s 949us/step - loss: 0.2621 - accuracy: 0.9101\n",
      "Epoch 6/10\n",
      "945/945 [==============================] - 1s 969us/step - loss: 0.2519 - accuracy: 0.9136\n",
      "Epoch 7/10\n",
      "945/945 [==============================] - 1s 1ms/step - loss: 0.2405 - accuracy: 0.9198\n",
      "Epoch 8/10\n",
      "945/945 [==============================] - 1s 984us/step - loss: 0.2332 - accuracy: 0.9253\n",
      "Epoch 9/10\n",
      "945/945 [==============================] - 1s 1ms/step - loss: 0.2263 - accuracy: 0.9284\n",
      "Epoch 10/10\n",
      "945/945 [==============================] - 1s 1ms/step - loss: 0.2264 - accuracy: 0.9272\n",
      "Epoch 1/10\n"
     ]
    },
    {
     "name": "stderr",
     "output_type": "stream",
     "text": [
      "/Users/husni.zuhdi/Documents/Codes/1-Python-Workshop/retention-prediction-demo/retention-prediction/lib/python3.10/site-packages/tensorflow/python/keras/engine/sequential.py:454: UserWarning: `model.predict_classes()` is deprecated and will be removed after 2021-01-01. Please use instead:* `np.argmax(model.predict(x), axis=-1)`,   if your model does multi-class classification   (e.g. if it uses a `softmax` last-layer activation).* `(model.predict(x) > 0.5).astype(\"int32\")`,   if your model does binary classification   (e.g. if it uses a `sigmoid` last-layer activation).\n",
      "  warnings.warn('`model.predict_classes()` is deprecated and '\n"
     ]
    },
    {
     "name": "stdout",
     "output_type": "stream",
     "text": [
      "945/945 [==============================] - 1s 990us/step - loss: 0.4376 - accuracy: 0.7933\n",
      "Epoch 2/10\n",
      "945/945 [==============================] - 1s 1ms/step - loss: 0.2907 - accuracy: 0.8366\n",
      "Epoch 3/10\n",
      "945/945 [==============================] - 1s 1ms/step - loss: 0.2507 - accuracy: 0.8854\n",
      "Epoch 4/10\n",
      "945/945 [==============================] - 1s 1ms/step - loss: 0.2266 - accuracy: 0.9336\n",
      "Epoch 5/10\n",
      "945/945 [==============================] - 1s 1ms/step - loss: 0.2180 - accuracy: 0.9402\n",
      "Epoch 6/10\n",
      "945/945 [==============================] - 1s 1ms/step - loss: 0.2096 - accuracy: 0.9403\n",
      "Epoch 7/10\n",
      "945/945 [==============================] - 1s 1ms/step - loss: 0.2082 - accuracy: 0.9423\n",
      "Epoch 8/10\n",
      "945/945 [==============================] - 1s 1ms/step - loss: 0.2005 - accuracy: 0.9408\n",
      "Epoch 9/10\n",
      "945/945 [==============================] - 1s 1ms/step - loss: 0.2008 - accuracy: 0.9427\n",
      "Epoch 10/10\n",
      "945/945 [==============================] - 2s 2ms/step - loss: 0.1988 - accuracy: 0.9424\n"
     ]
    },
    {
     "name": "stderr",
     "output_type": "stream",
     "text": [
      "/Users/husni.zuhdi/Documents/Codes/1-Python-Workshop/retention-prediction-demo/retention-prediction/lib/python3.10/site-packages/tensorflow/python/keras/engine/sequential.py:454: UserWarning: `model.predict_classes()` is deprecated and will be removed after 2021-01-01. Please use instead:* `np.argmax(model.predict(x), axis=-1)`,   if your model does multi-class classification   (e.g. if it uses a `softmax` last-layer activation).* `(model.predict(x) > 0.5).astype(\"int32\")`,   if your model does binary classification   (e.g. if it uses a `sigmoid` last-layer activation).\n",
      "  warnings.warn('`model.predict_classes()` is deprecated and '\n"
     ]
    },
    {
     "name": "stdout",
     "output_type": "stream",
     "text": [
      "Epoch 1/10\n",
      "945/945 [==============================] - 2s 2ms/step - loss: 0.4555 - accuracy: 0.7850\n",
      "Epoch 2/10\n",
      "945/945 [==============================] - 2s 2ms/step - loss: 0.2926 - accuracy: 0.8364\n",
      "Epoch 3/10\n",
      "945/945 [==============================] - 2s 2ms/step - loss: 0.2485 - accuracy: 0.8839\n",
      "Epoch 4/10\n",
      "945/945 [==============================] - 1s 2ms/step - loss: 0.2294 - accuracy: 0.9331\n",
      "Epoch 5/10\n",
      "945/945 [==============================] - 2s 2ms/step - loss: 0.2203 - accuracy: 0.9367\n",
      "Epoch 6/10\n",
      "945/945 [==============================] - 1s 2ms/step - loss: 0.2145 - accuracy: 0.9376\n",
      "Epoch 7/10\n",
      "945/945 [==============================] - 1s 2ms/step - loss: 0.2039 - accuracy: 0.9409\n",
      "Epoch 8/10\n",
      "945/945 [==============================] - 1s 1ms/step - loss: 0.1979 - accuracy: 0.9424\n",
      "Epoch 9/10\n",
      "945/945 [==============================] - 1s 1ms/step - loss: 0.1965 - accuracy: 0.9404\n",
      "Epoch 10/10\n",
      "945/945 [==============================] - 2s 2ms/step - loss: 0.1952 - accuracy: 0.9408\n"
     ]
    },
    {
     "name": "stderr",
     "output_type": "stream",
     "text": [
      "/Users/husni.zuhdi/Documents/Codes/1-Python-Workshop/retention-prediction-demo/retention-prediction/lib/python3.10/site-packages/tensorflow/python/keras/engine/sequential.py:454: UserWarning: `model.predict_classes()` is deprecated and will be removed after 2021-01-01. Please use instead:* `np.argmax(model.predict(x), axis=-1)`,   if your model does multi-class classification   (e.g. if it uses a `softmax` last-layer activation).* `(model.predict(x) > 0.5).astype(\"int32\")`,   if your model does binary classification   (e.g. if it uses a `sigmoid` last-layer activation).\n",
      "  warnings.warn('`model.predict_classes()` is deprecated and '\n"
     ]
    },
    {
     "name": "stdout",
     "output_type": "stream",
     "text": [
      "Epoch 1/10\n",
      "945/945 [==============================] - 1s 1ms/step - loss: 0.4254 - accuracy: 0.8260\n",
      "Epoch 2/10\n",
      "945/945 [==============================] - 1s 1ms/step - loss: 0.2414 - accuracy: 0.9167\n",
      "Epoch 3/10\n",
      "945/945 [==============================] - 1s 889us/step - loss: 0.2058 - accuracy: 0.9272\n",
      "Epoch 4/10\n",
      "945/945 [==============================] - 1s 1ms/step - loss: 0.2006 - accuracy: 0.9297\n",
      "Epoch 5/10\n",
      "945/945 [==============================] - 1s 1ms/step - loss: 0.1929 - accuracy: 0.9351\n",
      "Epoch 6/10\n",
      "945/945 [==============================] - 1s 883us/step - loss: 0.1896 - accuracy: 0.9383\n",
      "Epoch 7/10\n",
      "945/945 [==============================] - 1s 887us/step - loss: 0.1883 - accuracy: 0.9368\n",
      "Epoch 8/10\n",
      "945/945 [==============================] - 1s 990us/step - loss: 0.1878 - accuracy: 0.9372\n",
      "Epoch 9/10\n",
      "945/945 [==============================] - 1s 869us/step - loss: 0.1853 - accuracy: 0.9419\n",
      "Epoch 10/10\n",
      "945/945 [==============================] - 1s 843us/step - loss: 0.1835 - accuracy: 0.9402\n",
      "Epoch 1/10\n"
     ]
    },
    {
     "name": "stderr",
     "output_type": "stream",
     "text": [
      "/Users/husni.zuhdi/Documents/Codes/1-Python-Workshop/retention-prediction-demo/retention-prediction/lib/python3.10/site-packages/tensorflow/python/keras/engine/sequential.py:454: UserWarning: `model.predict_classes()` is deprecated and will be removed after 2021-01-01. Please use instead:* `np.argmax(model.predict(x), axis=-1)`,   if your model does multi-class classification   (e.g. if it uses a `softmax` last-layer activation).* `(model.predict(x) > 0.5).astype(\"int32\")`,   if your model does binary classification   (e.g. if it uses a `sigmoid` last-layer activation).\n",
      "  warnings.warn('`model.predict_classes()` is deprecated and '\n"
     ]
    },
    {
     "name": "stdout",
     "output_type": "stream",
     "text": [
      "945/945 [==============================] - 1s 837us/step - loss: 0.4400 - accuracy: 0.7883\n",
      "Epoch 2/10\n",
      "945/945 [==============================] - 1s 931us/step - loss: 0.3007 - accuracy: 0.8331\n",
      "Epoch 3/10\n",
      "945/945 [==============================] - 1s 833us/step - loss: 0.2558 - accuracy: 0.8651\n",
      "Epoch 4/10\n",
      "945/945 [==============================] - 1s 1ms/step - loss: 0.2396 - accuracy: 0.9290\n",
      "Epoch 5/10\n",
      "945/945 [==============================] - 1s 941us/step - loss: 0.2241 - accuracy: 0.9386\n",
      "Epoch 6/10\n",
      "945/945 [==============================] - 1s 820us/step - loss: 0.2180 - accuracy: 0.9379\n",
      "Epoch 7/10\n",
      "945/945 [==============================] - 1s 829us/step - loss: 0.2073 - accuracy: 0.9404\n",
      "Epoch 8/10\n",
      "945/945 [==============================] - 1s 839us/step - loss: 0.2074 - accuracy: 0.9395\n",
      "Epoch 9/10\n",
      "945/945 [==============================] - 1s 819us/step - loss: 0.2029 - accuracy: 0.9394\n",
      "Epoch 10/10\n",
      "945/945 [==============================] - 1s 1ms/step - loss: 0.1995 - accuracy: 0.9398\n",
      "Epoch 1/10\n"
     ]
    },
    {
     "name": "stderr",
     "output_type": "stream",
     "text": [
      "/Users/husni.zuhdi/Documents/Codes/1-Python-Workshop/retention-prediction-demo/retention-prediction/lib/python3.10/site-packages/tensorflow/python/keras/engine/sequential.py:454: UserWarning: `model.predict_classes()` is deprecated and will be removed after 2021-01-01. Please use instead:* `np.argmax(model.predict(x), axis=-1)`,   if your model does multi-class classification   (e.g. if it uses a `softmax` last-layer activation).* `(model.predict(x) > 0.5).astype(\"int32\")`,   if your model does binary classification   (e.g. if it uses a `sigmoid` last-layer activation).\n",
      "  warnings.warn('`model.predict_classes()` is deprecated and '\n"
     ]
    },
    {
     "name": "stdout",
     "output_type": "stream",
     "text": [
      "945/945 [==============================] - 1s 1ms/step - loss: 0.4473 - accuracy: 0.7950\n",
      "Epoch 2/10\n",
      "945/945 [==============================] - 1s 1ms/step - loss: 0.2701 - accuracy: 0.8936\n",
      "Epoch 3/10\n",
      "945/945 [==============================] - 1s 1ms/step - loss: 0.2251 - accuracy: 0.9155\n",
      "Epoch 4/10\n",
      "945/945 [==============================] - 1s 1ms/step - loss: 0.2024 - accuracy: 0.9277\n",
      "Epoch 5/10\n",
      "945/945 [==============================] - 1s 1ms/step - loss: 0.1949 - accuracy: 0.9333\n",
      "Epoch 6/10\n",
      "945/945 [==============================] - 1s 1ms/step - loss: 0.1908 - accuracy: 0.9345\n",
      "Epoch 7/10\n",
      "945/945 [==============================] - 1s 1ms/step - loss: 0.1886 - accuracy: 0.9325\n",
      "Epoch 8/10\n",
      "945/945 [==============================] - 1s 1ms/step - loss: 0.1862 - accuracy: 0.9332\n",
      "Epoch 9/10\n",
      "945/945 [==============================] - 1s 1ms/step - loss: 0.1826 - accuracy: 0.9353\n",
      "Epoch 10/10\n",
      "945/945 [==============================] - 1s 1ms/step - loss: 0.1830 - accuracy: 0.9363\n",
      "Epoch 1/10\n"
     ]
    },
    {
     "name": "stderr",
     "output_type": "stream",
     "text": [
      "/Users/husni.zuhdi/Documents/Codes/1-Python-Workshop/retention-prediction-demo/retention-prediction/lib/python3.10/site-packages/tensorflow/python/keras/engine/sequential.py:454: UserWarning: `model.predict_classes()` is deprecated and will be removed after 2021-01-01. Please use instead:* `np.argmax(model.predict(x), axis=-1)`,   if your model does multi-class classification   (e.g. if it uses a `softmax` last-layer activation).* `(model.predict(x) > 0.5).astype(\"int32\")`,   if your model does binary classification   (e.g. if it uses a `sigmoid` last-layer activation).\n",
      "  warnings.warn('`model.predict_classes()` is deprecated and '\n"
     ]
    },
    {
     "name": "stdout",
     "output_type": "stream",
     "text": [
      "945/945 [==============================] - 1s 900us/step - loss: 0.4420 - accuracy: 0.7877\n",
      "Epoch 2/10\n",
      "945/945 [==============================] - 1s 892us/step - loss: 0.2977 - accuracy: 0.8304\n",
      "Epoch 3/10\n",
      "945/945 [==============================] - 1s 920us/step - loss: 0.2570 - accuracy: 0.8942\n",
      "Epoch 4/10\n",
      "945/945 [==============================] - 1s 1ms/step - loss: 0.2348 - accuracy: 0.9315\n",
      "Epoch 5/10\n",
      "945/945 [==============================] - 1s 894us/step - loss: 0.2237 - accuracy: 0.9345\n",
      "Epoch 6/10\n",
      "945/945 [==============================] - 1s 941us/step - loss: 0.2209 - accuracy: 0.9315\n",
      "Epoch 7/10\n",
      "945/945 [==============================] - 1s 964us/step - loss: 0.2133 - accuracy: 0.9340\n",
      "Epoch 8/10\n",
      "945/945 [==============================] - 1s 909us/step - loss: 0.2071 - accuracy: 0.9362\n",
      "Epoch 9/10\n",
      "945/945 [==============================] - 1s 1ms/step - loss: 0.2071 - accuracy: 0.9353\n",
      "Epoch 10/10\n",
      "945/945 [==============================] - 1s 1ms/step - loss: 0.2003 - accuracy: 0.9388\n",
      "Epoch 1/10\n"
     ]
    },
    {
     "name": "stderr",
     "output_type": "stream",
     "text": [
      "/Users/husni.zuhdi/Documents/Codes/1-Python-Workshop/retention-prediction-demo/retention-prediction/lib/python3.10/site-packages/tensorflow/python/keras/engine/sequential.py:454: UserWarning: `model.predict_classes()` is deprecated and will be removed after 2021-01-01. Please use instead:* `np.argmax(model.predict(x), axis=-1)`,   if your model does multi-class classification   (e.g. if it uses a `softmax` last-layer activation).* `(model.predict(x) > 0.5).astype(\"int32\")`,   if your model does binary classification   (e.g. if it uses a `sigmoid` last-layer activation).\n",
      "  warnings.warn('`model.predict_classes()` is deprecated and '\n"
     ]
    },
    {
     "name": "stdout",
     "output_type": "stream",
     "text": [
      "945/945 [==============================] - 1s 1ms/step - loss: 0.4670 - accuracy: 0.7889\n",
      "Epoch 2/10\n",
      "945/945 [==============================] - 1s 989us/step - loss: 0.3159 - accuracy: 0.8594\n",
      "Epoch 3/10\n",
      "945/945 [==============================] - 1s 1ms/step - loss: 0.2690 - accuracy: 0.8733\n",
      "Epoch 4/10\n",
      "945/945 [==============================] - 1s 1ms/step - loss: 0.2445 - accuracy: 0.8782\n",
      "Epoch 5/10\n",
      "945/945 [==============================] - 1s 993us/step - loss: 0.2300 - accuracy: 0.9020\n",
      "Epoch 6/10\n",
      "945/945 [==============================] - 1s 968us/step - loss: 0.2215 - accuracy: 0.9226\n",
      "Epoch 7/10\n",
      "945/945 [==============================] - 1s 1ms/step - loss: 0.2100 - accuracy: 0.9299\n",
      "Epoch 8/10\n",
      "945/945 [==============================] - 1s 1ms/step - loss: 0.1947 - accuracy: 0.9379\n",
      "Epoch 9/10\n",
      "945/945 [==============================] - 1s 1ms/step - loss: 0.1913 - accuracy: 0.9384\n",
      "Epoch 10/10\n",
      "945/945 [==============================] - 1s 1ms/step - loss: 0.1943 - accuracy: 0.9349\n"
     ]
    },
    {
     "name": "stderr",
     "output_type": "stream",
     "text": [
      "/Users/husni.zuhdi/Documents/Codes/1-Python-Workshop/retention-prediction-demo/retention-prediction/lib/python3.10/site-packages/tensorflow/python/keras/engine/sequential.py:454: UserWarning: `model.predict_classes()` is deprecated and will be removed after 2021-01-01. Please use instead:* `np.argmax(model.predict(x), axis=-1)`,   if your model does multi-class classification   (e.g. if it uses a `softmax` last-layer activation).* `(model.predict(x) > 0.5).astype(\"int32\")`,   if your model does binary classification   (e.g. if it uses a `sigmoid` last-layer activation).\n",
      "  warnings.warn('`model.predict_classes()` is deprecated and '\n"
     ]
    },
    {
     "name": "stdout",
     "output_type": "stream",
     "text": [
      "Epoch 1/10\n",
      "945/945 [==============================] - 2s 1ms/step - loss: 0.4544 - accuracy: 0.7895\n",
      "Epoch 2/10\n",
      "945/945 [==============================] - 1s 1ms/step - loss: 0.3020 - accuracy: 0.8802\n",
      "Epoch 3/10\n",
      "945/945 [==============================] - 1s 999us/step - loss: 0.2427 - accuracy: 0.9087\n",
      "Epoch 4/10\n",
      "945/945 [==============================] - 1s 982us/step - loss: 0.2214 - accuracy: 0.9187\n",
      "Epoch 5/10\n",
      "945/945 [==============================] - 1s 1ms/step - loss: 0.2023 - accuracy: 0.9262\n",
      "Epoch 6/10\n",
      "945/945 [==============================] - 1s 1ms/step - loss: 0.1982 - accuracy: 0.9290\n",
      "Epoch 7/10\n",
      "945/945 [==============================] - 1s 1ms/step - loss: 0.1957 - accuracy: 0.9287\n",
      "Epoch 8/10\n",
      "945/945 [==============================] - 1s 1ms/step - loss: 0.1904 - accuracy: 0.9329\n",
      "Epoch 9/10\n",
      "945/945 [==============================] - 1s 1ms/step - loss: 0.1943 - accuracy: 0.9330\n",
      "Epoch 10/10\n",
      "945/945 [==============================] - 1s 1ms/step - loss: 0.1965 - accuracy: 0.9300\n"
     ]
    },
    {
     "name": "stderr",
     "output_type": "stream",
     "text": [
      "/Users/husni.zuhdi/Documents/Codes/1-Python-Workshop/retention-prediction-demo/retention-prediction/lib/python3.10/site-packages/tensorflow/python/keras/engine/sequential.py:454: UserWarning: `model.predict_classes()` is deprecated and will be removed after 2021-01-01. Please use instead:* `np.argmax(model.predict(x), axis=-1)`,   if your model does multi-class classification   (e.g. if it uses a `softmax` last-layer activation).* `(model.predict(x) > 0.5).astype(\"int32\")`,   if your model does binary classification   (e.g. if it uses a `sigmoid` last-layer activation).\n",
      "  warnings.warn('`model.predict_classes()` is deprecated and '\n"
     ]
    },
    {
     "name": "stdout",
     "output_type": "stream",
     "text": [
      "Epoch 1/10\n",
      "945/945 [==============================] - 2s 1ms/step - loss: 0.4683 - accuracy: 0.7854\n",
      "Epoch 2/10\n",
      "945/945 [==============================] - 1s 1ms/step - loss: 0.2998 - accuracy: 0.8798\n",
      "Epoch 3/10\n",
      "945/945 [==============================] - 1s 978us/step - loss: 0.2429 - accuracy: 0.9090\n",
      "Epoch 4/10\n",
      "945/945 [==============================] - 1s 1ms/step - loss: 0.2228 - accuracy: 0.9132\n",
      "Epoch 5/10\n",
      "945/945 [==============================] - 1s 1ms/step - loss: 0.2129 - accuracy: 0.9203\n",
      "Epoch 6/10\n",
      "945/945 [==============================] - 1s 1ms/step - loss: 0.1964 - accuracy: 0.9311\n",
      "Epoch 7/10\n",
      "945/945 [==============================] - 1s 1ms/step - loss: 0.1992 - accuracy: 0.9272\n",
      "Epoch 8/10\n",
      "945/945 [==============================] - 1s 1ms/step - loss: 0.1977 - accuracy: 0.9291\n",
      "Epoch 9/10\n",
      "945/945 [==============================] - 1s 1ms/step - loss: 0.1935 - accuracy: 0.9316\n",
      "Epoch 10/10\n",
      "945/945 [==============================] - 1s 1ms/step - loss: 0.1898 - accuracy: 0.9341\n",
      "Epoch 1/10\n"
     ]
    },
    {
     "name": "stderr",
     "output_type": "stream",
     "text": [
      "/Users/husni.zuhdi/Documents/Codes/1-Python-Workshop/retention-prediction-demo/retention-prediction/lib/python3.10/site-packages/tensorflow/python/keras/engine/sequential.py:454: UserWarning: `model.predict_classes()` is deprecated and will be removed after 2021-01-01. Please use instead:* `np.argmax(model.predict(x), axis=-1)`,   if your model does multi-class classification   (e.g. if it uses a `softmax` last-layer activation).* `(model.predict(x) > 0.5).astype(\"int32\")`,   if your model does binary classification   (e.g. if it uses a `sigmoid` last-layer activation).\n",
      "  warnings.warn('`model.predict_classes()` is deprecated and '\n"
     ]
    },
    {
     "name": "stdout",
     "output_type": "stream",
     "text": [
      "945/945 [==============================] - 2s 1ms/step - loss: 0.4672 - accuracy: 0.7772\n",
      "Epoch 2/10\n",
      "945/945 [==============================] - 1s 1ms/step - loss: 0.3246 - accuracy: 0.8160\n",
      "Epoch 3/10\n",
      "945/945 [==============================] - 1s 1ms/step - loss: 0.2750 - accuracy: 0.8785\n",
      "Epoch 4/10\n",
      "945/945 [==============================] - 1s 1ms/step - loss: 0.2533 - accuracy: 0.9180\n",
      "Epoch 5/10\n",
      "945/945 [==============================] - 1s 1ms/step - loss: 0.2336 - accuracy: 0.9230\n",
      "Epoch 6/10\n",
      "945/945 [==============================] - 1s 1ms/step - loss: 0.2245 - accuracy: 0.9305\n",
      "Epoch 7/10\n",
      "945/945 [==============================] - 1s 1ms/step - loss: 0.2174 - accuracy: 0.9325\n",
      "Epoch 8/10\n",
      "945/945 [==============================] - 1s 1ms/step - loss: 0.2147 - accuracy: 0.9312\n",
      "Epoch 9/10\n",
      "945/945 [==============================] - 1s 1ms/step - loss: 0.2149 - accuracy: 0.9313\n",
      "Epoch 10/10\n",
      "945/945 [==============================] - 1s 1ms/step - loss: 0.2085 - accuracy: 0.9348\n",
      "Epoch 1/10\n"
     ]
    },
    {
     "name": "stderr",
     "output_type": "stream",
     "text": [
      "/Users/husni.zuhdi/Documents/Codes/1-Python-Workshop/retention-prediction-demo/retention-prediction/lib/python3.10/site-packages/tensorflow/python/keras/engine/sequential.py:454: UserWarning: `model.predict_classes()` is deprecated and will be removed after 2021-01-01. Please use instead:* `np.argmax(model.predict(x), axis=-1)`,   if your model does multi-class classification   (e.g. if it uses a `softmax` last-layer activation).* `(model.predict(x) > 0.5).astype(\"int32\")`,   if your model does binary classification   (e.g. if it uses a `sigmoid` last-layer activation).\n",
      "  warnings.warn('`model.predict_classes()` is deprecated and '\n"
     ]
    },
    {
     "name": "stdout",
     "output_type": "stream",
     "text": [
      "945/945 [==============================] - 2s 1ms/step - loss: 0.4726 - accuracy: 0.7794\n",
      "Epoch 2/10\n",
      "945/945 [==============================] - 1s 1ms/step - loss: 0.3295 - accuracy: 0.8504\n",
      "Epoch 3/10\n",
      "945/945 [==============================] - 1s 1ms/step - loss: 0.2805 - accuracy: 0.8669\n",
      "Epoch 4/10\n",
      "945/945 [==============================] - 1s 1ms/step - loss: 0.2517 - accuracy: 0.8825\n",
      "Epoch 5/10\n",
      "945/945 [==============================] - 1s 1ms/step - loss: 0.2395 - accuracy: 0.9093\n",
      "Epoch 6/10\n",
      "945/945 [==============================] - 1s 1ms/step - loss: 0.2304 - accuracy: 0.9189\n",
      "Epoch 7/10\n",
      "945/945 [==============================] - 1s 1ms/step - loss: 0.2269 - accuracy: 0.9224\n",
      "Epoch 8/10\n",
      "945/945 [==============================] - 1s 1ms/step - loss: 0.2241 - accuracy: 0.9280\n",
      "Epoch 9/10\n",
      "945/945 [==============================] - 1s 1ms/step - loss: 0.2158 - accuracy: 0.9312\n",
      "Epoch 10/10\n",
      "945/945 [==============================] - 1s 1ms/step - loss: 0.2190 - accuracy: 0.9327\n",
      "Epoch 1/10\n"
     ]
    },
    {
     "name": "stderr",
     "output_type": "stream",
     "text": [
      "/Users/husni.zuhdi/Documents/Codes/1-Python-Workshop/retention-prediction-demo/retention-prediction/lib/python3.10/site-packages/tensorflow/python/keras/engine/sequential.py:454: UserWarning: `model.predict_classes()` is deprecated and will be removed after 2021-01-01. Please use instead:* `np.argmax(model.predict(x), axis=-1)`,   if your model does multi-class classification   (e.g. if it uses a `softmax` last-layer activation).* `(model.predict(x) > 0.5).astype(\"int32\")`,   if your model does binary classification   (e.g. if it uses a `sigmoid` last-layer activation).\n",
      "  warnings.warn('`model.predict_classes()` is deprecated and '\n"
     ]
    },
    {
     "name": "stdout",
     "output_type": "stream",
     "text": [
      "945/945 [==============================] - 2s 1ms/step - loss: 0.4600 - accuracy: 0.7910\n",
      "Epoch 2/10\n",
      "945/945 [==============================] - 1s 1ms/step - loss: 0.2962 - accuracy: 0.8814\n",
      "Epoch 3/10\n",
      "945/945 [==============================] - 1s 1ms/step - loss: 0.2407 - accuracy: 0.9088\n",
      "Epoch 4/10\n",
      "945/945 [==============================] - 1s 1ms/step - loss: 0.2193 - accuracy: 0.9196\n",
      "Epoch 5/10\n",
      "945/945 [==============================] - 1s 1ms/step - loss: 0.2056 - accuracy: 0.9243\n",
      "Epoch 6/10\n",
      "945/945 [==============================] - 1s 1ms/step - loss: 0.2012 - accuracy: 0.9282\n",
      "Epoch 7/10\n",
      "945/945 [==============================] - 1s 1ms/step - loss: 0.1977 - accuracy: 0.9318\n",
      "Epoch 8/10\n",
      "945/945 [==============================] - 1s 1ms/step - loss: 0.1959 - accuracy: 0.9293\n",
      "Epoch 9/10\n",
      "945/945 [==============================] - 1s 1ms/step - loss: 0.1909 - accuracy: 0.9351\n",
      "Epoch 10/10\n",
      "945/945 [==============================] - 1s 1ms/step - loss: 0.1957 - accuracy: 0.9292\n",
      "Epoch 1/10\n"
     ]
    },
    {
     "name": "stderr",
     "output_type": "stream",
     "text": [
      "/Users/husni.zuhdi/Documents/Codes/1-Python-Workshop/retention-prediction-demo/retention-prediction/lib/python3.10/site-packages/tensorflow/python/keras/engine/sequential.py:454: UserWarning: `model.predict_classes()` is deprecated and will be removed after 2021-01-01. Please use instead:* `np.argmax(model.predict(x), axis=-1)`,   if your model does multi-class classification   (e.g. if it uses a `softmax` last-layer activation).* `(model.predict(x) > 0.5).astype(\"int32\")`,   if your model does binary classification   (e.g. if it uses a `sigmoid` last-layer activation).\n",
      "  warnings.warn('`model.predict_classes()` is deprecated and '\n"
     ]
    },
    {
     "name": "stdout",
     "output_type": "stream",
     "text": [
      "945/945 [==============================] - 2s 1ms/step - loss: 0.4682 - accuracy: 0.7762\n",
      "Epoch 2/10\n",
      "945/945 [==============================] - 1s 1ms/step - loss: 0.3258 - accuracy: 0.8178\n",
      "Epoch 3/10\n",
      "945/945 [==============================] - 1s 1ms/step - loss: 0.2797 - accuracy: 0.8809\n",
      "Epoch 4/10\n",
      "945/945 [==============================] - 1s 2ms/step - loss: 0.2587 - accuracy: 0.9089\n",
      "Epoch 5/10\n",
      "945/945 [==============================] - 1s 1ms/step - loss: 0.2450 - accuracy: 0.9204\n",
      "Epoch 6/10\n",
      "945/945 [==============================] - 1s 1ms/step - loss: 0.2330 - accuracy: 0.9224\n",
      "Epoch 7/10\n",
      "945/945 [==============================] - 1s 1ms/step - loss: 0.2335 - accuracy: 0.9263\n",
      "Epoch 8/10\n",
      "945/945 [==============================] - 1s 1ms/step - loss: 0.2267 - accuracy: 0.9257\n",
      "Epoch 9/10\n",
      "945/945 [==============================] - 1s 1ms/step - loss: 0.2198 - accuracy: 0.9291\n",
      "Epoch 10/10\n",
      "945/945 [==============================] - 1s 1ms/step - loss: 0.2170 - accuracy: 0.9306\n"
     ]
    },
    {
     "name": "stderr",
     "output_type": "stream",
     "text": [
      "/Users/husni.zuhdi/Documents/Codes/1-Python-Workshop/retention-prediction-demo/retention-prediction/lib/python3.10/site-packages/tensorflow/python/keras/engine/sequential.py:454: UserWarning: `model.predict_classes()` is deprecated and will be removed after 2021-01-01. Please use instead:* `np.argmax(model.predict(x), axis=-1)`,   if your model does multi-class classification   (e.g. if it uses a `softmax` last-layer activation).* `(model.predict(x) > 0.5).astype(\"int32\")`,   if your model does binary classification   (e.g. if it uses a `sigmoid` last-layer activation).\n",
      "  warnings.warn('`model.predict_classes()` is deprecated and '\n"
     ]
    },
    {
     "name": "stdout",
     "output_type": "stream",
     "text": [
      "Epoch 1/10\n",
      "945/945 [==============================] - 2s 1ms/step - loss: 0.4572 - accuracy: 0.7949\n",
      "Epoch 2/10\n",
      "945/945 [==============================] - 1s 1ms/step - loss: 0.2893 - accuracy: 0.8905\n",
      "Epoch 3/10\n",
      "945/945 [==============================] - 1s 1ms/step - loss: 0.2373 - accuracy: 0.9162\n",
      "Epoch 4/10\n",
      "945/945 [==============================] - 1s 1ms/step - loss: 0.2083 - accuracy: 0.9281\n",
      "Epoch 5/10\n",
      "945/945 [==============================] - 1s 1ms/step - loss: 0.2038 - accuracy: 0.9302\n",
      "Epoch 6/10\n",
      "945/945 [==============================] - 1s 1ms/step - loss: 0.1976 - accuracy: 0.9306\n",
      "Epoch 7/10\n",
      "945/945 [==============================] - 1s 1ms/step - loss: 0.1972 - accuracy: 0.9350\n",
      "Epoch 8/10\n",
      "945/945 [==============================] - 1s 1ms/step - loss: 0.1975 - accuracy: 0.9345\n",
      "Epoch 9/10\n",
      "945/945 [==============================] - 1s 1ms/step - loss: 0.1902 - accuracy: 0.9381\n",
      "Epoch 10/10\n",
      "945/945 [==============================] - 1s 1ms/step - loss: 0.1867 - accuracy: 0.9388\n",
      "Epoch 1/10\n"
     ]
    },
    {
     "name": "stderr",
     "output_type": "stream",
     "text": [
      "/Users/husni.zuhdi/Documents/Codes/1-Python-Workshop/retention-prediction-demo/retention-prediction/lib/python3.10/site-packages/tensorflow/python/keras/engine/sequential.py:454: UserWarning: `model.predict_classes()` is deprecated and will be removed after 2021-01-01. Please use instead:* `np.argmax(model.predict(x), axis=-1)`,   if your model does multi-class classification   (e.g. if it uses a `softmax` last-layer activation).* `(model.predict(x) > 0.5).astype(\"int32\")`,   if your model does binary classification   (e.g. if it uses a `sigmoid` last-layer activation).\n",
      "  warnings.warn('`model.predict_classes()` is deprecated and '\n"
     ]
    },
    {
     "name": "stdout",
     "output_type": "stream",
     "text": [
      "945/945 [==============================] - 2s 1ms/step - loss: 0.4702 - accuracy: 0.7783\n",
      "Epoch 2/10\n",
      "945/945 [==============================] - 1s 1ms/step - loss: 0.3252 - accuracy: 0.8216\n",
      "Epoch 3/10\n",
      "945/945 [==============================] - 1s 1ms/step - loss: 0.2857 - accuracy: 0.8519\n",
      "Epoch 4/10\n",
      "945/945 [==============================] - 1s 1ms/step - loss: 0.2605 - accuracy: 0.9012\n",
      "Epoch 5/10\n",
      "945/945 [==============================] - 1s 1ms/step - loss: 0.2479 - accuracy: 0.9113\n",
      "Epoch 6/10\n",
      "945/945 [==============================] - 1s 1ms/step - loss: 0.2394 - accuracy: 0.9184\n",
      "Epoch 7/10\n",
      "945/945 [==============================] - 1s 1ms/step - loss: 0.2299 - accuracy: 0.9222\n",
      "Epoch 8/10\n",
      "945/945 [==============================] - 1s 1ms/step - loss: 0.2247 - accuracy: 0.9261\n",
      "Epoch 9/10\n",
      "945/945 [==============================] - 1s 1ms/step - loss: 0.2202 - accuracy: 0.9263\n",
      "Epoch 10/10\n",
      "945/945 [==============================] - 1s 1ms/step - loss: 0.2169 - accuracy: 0.9298\n",
      "Epoch 1/10\n"
     ]
    },
    {
     "name": "stderr",
     "output_type": "stream",
     "text": [
      "/Users/husni.zuhdi/Documents/Codes/1-Python-Workshop/retention-prediction-demo/retention-prediction/lib/python3.10/site-packages/tensorflow/python/keras/engine/sequential.py:454: UserWarning: `model.predict_classes()` is deprecated and will be removed after 2021-01-01. Please use instead:* `np.argmax(model.predict(x), axis=-1)`,   if your model does multi-class classification   (e.g. if it uses a `softmax` last-layer activation).* `(model.predict(x) > 0.5).astype(\"int32\")`,   if your model does binary classification   (e.g. if it uses a `sigmoid` last-layer activation).\n",
      "  warnings.warn('`model.predict_classes()` is deprecated and '\n"
     ]
    },
    {
     "name": "stdout",
     "output_type": "stream",
     "text": [
      "945/945 [==============================] - 2s 1ms/step - loss: 0.4703 - accuracy: 0.7786\n",
      "Epoch 2/10\n",
      "945/945 [==============================] - 1s 1ms/step - loss: 0.3368 - accuracy: 0.8194\n",
      "Epoch 3/10\n",
      "945/945 [==============================] - 1s 1ms/step - loss: 0.2970 - accuracy: 0.8442\n",
      "Epoch 4/10\n",
      "945/945 [==============================] - 1s 1ms/step - loss: 0.2718 - accuracy: 0.8972\n",
      "Epoch 5/10\n",
      "945/945 [==============================] - 1s 1ms/step - loss: 0.2558 - accuracy: 0.9116\n",
      "Epoch 6/10\n",
      "945/945 [==============================] - 1s 1ms/step - loss: 0.2435 - accuracy: 0.9171\n",
      "Epoch 7/10\n",
      "945/945 [==============================] - 1s 1ms/step - loss: 0.2353 - accuracy: 0.9259\n",
      "Epoch 8/10\n",
      "945/945 [==============================] - 1s 1ms/step - loss: 0.2374 - accuracy: 0.9239\n",
      "Epoch 9/10\n",
      "945/945 [==============================] - 1s 982us/step - loss: 0.2269 - accuracy: 0.9254\n",
      "Epoch 10/10\n",
      "945/945 [==============================] - 1s 1ms/step - loss: 0.2274 - accuracy: 0.9254\n",
      "Epoch 1/2\n"
     ]
    },
    {
     "name": "stderr",
     "output_type": "stream",
     "text": [
      "/Users/husni.zuhdi/Documents/Codes/1-Python-Workshop/retention-prediction-demo/retention-prediction/lib/python3.10/site-packages/tensorflow/python/keras/engine/sequential.py:454: UserWarning: `model.predict_classes()` is deprecated and will be removed after 2021-01-01. Please use instead:* `np.argmax(model.predict(x), axis=-1)`,   if your model does multi-class classification   (e.g. if it uses a `softmax` last-layer activation).* `(model.predict(x) > 0.5).astype(\"int32\")`,   if your model does binary classification   (e.g. if it uses a `sigmoid` last-layer activation).\n",
      "  warnings.warn('`model.predict_classes()` is deprecated and '\n"
     ]
    },
    {
     "name": "stdout",
     "output_type": "stream",
     "text": [
      "473/473 [==============================] - 1s 1ms/step - loss: 0.5040 - accuracy: 0.7855\n",
      "Epoch 2/2\n",
      "473/473 [==============================] - 1s 1ms/step - loss: 0.3084 - accuracy: 0.8788\n",
      "Epoch 1/2\n"
     ]
    },
    {
     "name": "stderr",
     "output_type": "stream",
     "text": [
      "/Users/husni.zuhdi/Documents/Codes/1-Python-Workshop/retention-prediction-demo/retention-prediction/lib/python3.10/site-packages/tensorflow/python/keras/engine/sequential.py:454: UserWarning: `model.predict_classes()` is deprecated and will be removed after 2021-01-01. Please use instead:* `np.argmax(model.predict(x), axis=-1)`,   if your model does multi-class classification   (e.g. if it uses a `softmax` last-layer activation).* `(model.predict(x) > 0.5).astype(\"int32\")`,   if your model does binary classification   (e.g. if it uses a `sigmoid` last-layer activation).\n",
      "  warnings.warn('`model.predict_classes()` is deprecated and '\n"
     ]
    },
    {
     "name": "stdout",
     "output_type": "stream",
     "text": [
      "473/473 [==============================] - 1s 1ms/step - loss: 0.4919 - accuracy: 0.7898\n",
      "Epoch 2/2\n",
      "473/473 [==============================] - 1s 1ms/step - loss: 0.3189 - accuracy: 0.8676\n",
      "Epoch 1/2\n"
     ]
    },
    {
     "name": "stderr",
     "output_type": "stream",
     "text": [
      "/Users/husni.zuhdi/Documents/Codes/1-Python-Workshop/retention-prediction-demo/retention-prediction/lib/python3.10/site-packages/tensorflow/python/keras/engine/sequential.py:454: UserWarning: `model.predict_classes()` is deprecated and will be removed after 2021-01-01. Please use instead:* `np.argmax(model.predict(x), axis=-1)`,   if your model does multi-class classification   (e.g. if it uses a `softmax` last-layer activation).* `(model.predict(x) > 0.5).astype(\"int32\")`,   if your model does binary classification   (e.g. if it uses a `sigmoid` last-layer activation).\n",
      "  warnings.warn('`model.predict_classes()` is deprecated and '\n"
     ]
    },
    {
     "name": "stdout",
     "output_type": "stream",
     "text": [
      "473/473 [==============================] - 1s 1ms/step - loss: 0.5156 - accuracy: 0.7756\n",
      "Epoch 2/2\n",
      "473/473 [==============================] - 1s 1ms/step - loss: 0.3356 - accuracy: 0.8265\n",
      "Epoch 1/2\n"
     ]
    },
    {
     "name": "stderr",
     "output_type": "stream",
     "text": [
      "/Users/husni.zuhdi/Documents/Codes/1-Python-Workshop/retention-prediction-demo/retention-prediction/lib/python3.10/site-packages/tensorflow/python/keras/engine/sequential.py:454: UserWarning: `model.predict_classes()` is deprecated and will be removed after 2021-01-01. Please use instead:* `np.argmax(model.predict(x), axis=-1)`,   if your model does multi-class classification   (e.g. if it uses a `softmax` last-layer activation).* `(model.predict(x) > 0.5).astype(\"int32\")`,   if your model does binary classification   (e.g. if it uses a `sigmoid` last-layer activation).\n",
      "  warnings.warn('`model.predict_classes()` is deprecated and '\n"
     ]
    },
    {
     "name": "stdout",
     "output_type": "stream",
     "text": [
      "473/473 [==============================] - 1s 1ms/step - loss: 0.5038 - accuracy: 0.7770\n",
      "Epoch 2/2\n",
      "473/473 [==============================] - 1s 1ms/step - loss: 0.3380 - accuracy: 0.8196\n",
      "Epoch 1/2\n"
     ]
    },
    {
     "name": "stderr",
     "output_type": "stream",
     "text": [
      "/Users/husni.zuhdi/Documents/Codes/1-Python-Workshop/retention-prediction-demo/retention-prediction/lib/python3.10/site-packages/tensorflow/python/keras/engine/sequential.py:454: UserWarning: `model.predict_classes()` is deprecated and will be removed after 2021-01-01. Please use instead:* `np.argmax(model.predict(x), axis=-1)`,   if your model does multi-class classification   (e.g. if it uses a `softmax` last-layer activation).* `(model.predict(x) > 0.5).astype(\"int32\")`,   if your model does binary classification   (e.g. if it uses a `sigmoid` last-layer activation).\n",
      "  warnings.warn('`model.predict_classes()` is deprecated and '\n"
     ]
    },
    {
     "name": "stdout",
     "output_type": "stream",
     "text": [
      "473/473 [==============================] - 1s 1ms/step - loss: 0.5013 - accuracy: 0.7851\n",
      "Epoch 2/2\n",
      "473/473 [==============================] - 1s 1ms/step - loss: 0.3074 - accuracy: 0.8771\n",
      "Epoch 1/2\n"
     ]
    },
    {
     "name": "stderr",
     "output_type": "stream",
     "text": [
      "/Users/husni.zuhdi/Documents/Codes/1-Python-Workshop/retention-prediction-demo/retention-prediction/lib/python3.10/site-packages/tensorflow/python/keras/engine/sequential.py:454: UserWarning: `model.predict_classes()` is deprecated and will be removed after 2021-01-01. Please use instead:* `np.argmax(model.predict(x), axis=-1)`,   if your model does multi-class classification   (e.g. if it uses a `softmax` last-layer activation).* `(model.predict(x) > 0.5).astype(\"int32\")`,   if your model does binary classification   (e.g. if it uses a `sigmoid` last-layer activation).\n",
      "  warnings.warn('`model.predict_classes()` is deprecated and '\n"
     ]
    },
    {
     "name": "stdout",
     "output_type": "stream",
     "text": [
      "473/473 [==============================] - 1s 1ms/step - loss: 0.5124 - accuracy: 0.7772\n",
      "Epoch 2/2\n",
      "473/473 [==============================] - 1s 1ms/step - loss: 0.3135 - accuracy: 0.8719\n",
      "Epoch 1/2\n"
     ]
    },
    {
     "name": "stderr",
     "output_type": "stream",
     "text": [
      "/Users/husni.zuhdi/Documents/Codes/1-Python-Workshop/retention-prediction-demo/retention-prediction/lib/python3.10/site-packages/tensorflow/python/keras/engine/sequential.py:454: UserWarning: `model.predict_classes()` is deprecated and will be removed after 2021-01-01. Please use instead:* `np.argmax(model.predict(x), axis=-1)`,   if your model does multi-class classification   (e.g. if it uses a `softmax` last-layer activation).* `(model.predict(x) > 0.5).astype(\"int32\")`,   if your model does binary classification   (e.g. if it uses a `sigmoid` last-layer activation).\n",
      "  warnings.warn('`model.predict_classes()` is deprecated and '\n"
     ]
    },
    {
     "name": "stdout",
     "output_type": "stream",
     "text": [
      "473/473 [==============================] - 1s 1ms/step - loss: 0.5037 - accuracy: 0.7747\n",
      "Epoch 2/2\n",
      "473/473 [==============================] - 1s 1ms/step - loss: 0.3401 - accuracy: 0.8243\n",
      "Epoch 1/2\n"
     ]
    },
    {
     "name": "stderr",
     "output_type": "stream",
     "text": [
      "/Users/husni.zuhdi/Documents/Codes/1-Python-Workshop/retention-prediction-demo/retention-prediction/lib/python3.10/site-packages/tensorflow/python/keras/engine/sequential.py:454: UserWarning: `model.predict_classes()` is deprecated and will be removed after 2021-01-01. Please use instead:* `np.argmax(model.predict(x), axis=-1)`,   if your model does multi-class classification   (e.g. if it uses a `softmax` last-layer activation).* `(model.predict(x) > 0.5).astype(\"int32\")`,   if your model does binary classification   (e.g. if it uses a `sigmoid` last-layer activation).\n",
      "  warnings.warn('`model.predict_classes()` is deprecated and '\n"
     ]
    },
    {
     "name": "stdout",
     "output_type": "stream",
     "text": [
      "473/473 [==============================] - 1s 1ms/step - loss: 0.5012 - accuracy: 0.7753\n",
      "Epoch 2/2\n",
      "473/473 [==============================] - 1s 2ms/step - loss: 0.3151 - accuracy: 0.8694\n"
     ]
    },
    {
     "name": "stderr",
     "output_type": "stream",
     "text": [
      "/Users/husni.zuhdi/Documents/Codes/1-Python-Workshop/retention-prediction-demo/retention-prediction/lib/python3.10/site-packages/tensorflow/python/keras/engine/sequential.py:454: UserWarning: `model.predict_classes()` is deprecated and will be removed after 2021-01-01. Please use instead:* `np.argmax(model.predict(x), axis=-1)`,   if your model does multi-class classification   (e.g. if it uses a `softmax` last-layer activation).* `(model.predict(x) > 0.5).astype(\"int32\")`,   if your model does binary classification   (e.g. if it uses a `sigmoid` last-layer activation).\n",
      "  warnings.warn('`model.predict_classes()` is deprecated and '\n"
     ]
    },
    {
     "name": "stdout",
     "output_type": "stream",
     "text": [
      "Epoch 1/2\n",
      "473/473 [==============================] - 2s 1ms/step - loss: 0.5044 - accuracy: 0.7835\n",
      "Epoch 2/2\n",
      "473/473 [==============================] - 1s 1ms/step - loss: 0.3224 - accuracy: 0.8651\n",
      "Epoch 1/2\n"
     ]
    },
    {
     "name": "stderr",
     "output_type": "stream",
     "text": [
      "/Users/husni.zuhdi/Documents/Codes/1-Python-Workshop/retention-prediction-demo/retention-prediction/lib/python3.10/site-packages/tensorflow/python/keras/engine/sequential.py:454: UserWarning: `model.predict_classes()` is deprecated and will be removed after 2021-01-01. Please use instead:* `np.argmax(model.predict(x), axis=-1)`,   if your model does multi-class classification   (e.g. if it uses a `softmax` last-layer activation).* `(model.predict(x) > 0.5).astype(\"int32\")`,   if your model does binary classification   (e.g. if it uses a `sigmoid` last-layer activation).\n",
      "  warnings.warn('`model.predict_classes()` is deprecated and '\n"
     ]
    },
    {
     "name": "stdout",
     "output_type": "stream",
     "text": [
      "473/473 [==============================] - 1s 1ms/step - loss: 0.5042 - accuracy: 0.7619\n",
      "Epoch 2/2\n",
      "473/473 [==============================] - 1s 1ms/step - loss: 0.3715 - accuracy: 0.7633\n"
     ]
    },
    {
     "name": "stderr",
     "output_type": "stream",
     "text": [
      "/Users/husni.zuhdi/Documents/Codes/1-Python-Workshop/retention-prediction-demo/retention-prediction/lib/python3.10/site-packages/tensorflow/python/keras/engine/sequential.py:454: UserWarning: `model.predict_classes()` is deprecated and will be removed after 2021-01-01. Please use instead:* `np.argmax(model.predict(x), axis=-1)`,   if your model does multi-class classification   (e.g. if it uses a `softmax` last-layer activation).* `(model.predict(x) > 0.5).astype(\"int32\")`,   if your model does binary classification   (e.g. if it uses a `sigmoid` last-layer activation).\n",
      "  warnings.warn('`model.predict_classes()` is deprecated and '\n"
     ]
    },
    {
     "name": "stdout",
     "output_type": "stream",
     "text": [
      "Epoch 1/2\n",
      "473/473 [==============================] - 1s 1ms/step - loss: 0.5209 - accuracy: 0.7662\n",
      "Epoch 2/2\n",
      "473/473 [==============================] - 1s 1ms/step - loss: 0.3667 - accuracy: 0.8121\n"
     ]
    },
    {
     "name": "stderr",
     "output_type": "stream",
     "text": [
      "/Users/husni.zuhdi/Documents/Codes/1-Python-Workshop/retention-prediction-demo/retention-prediction/lib/python3.10/site-packages/tensorflow/python/keras/engine/sequential.py:454: UserWarning: `model.predict_classes()` is deprecated and will be removed after 2021-01-01. Please use instead:* `np.argmax(model.predict(x), axis=-1)`,   if your model does multi-class classification   (e.g. if it uses a `softmax` last-layer activation).* `(model.predict(x) > 0.5).astype(\"int32\")`,   if your model does binary classification   (e.g. if it uses a `sigmoid` last-layer activation).\n",
      "  warnings.warn('`model.predict_classes()` is deprecated and '\n"
     ]
    },
    {
     "name": "stdout",
     "output_type": "stream",
     "text": [
      "Epoch 1/2\n",
      "473/473 [==============================] - 1s 1ms/step - loss: 0.5221 - accuracy: 0.7689\n",
      "Epoch 2/2\n",
      "473/473 [==============================] - 1s 1ms/step - loss: 0.3593 - accuracy: 0.8207\n",
      "Epoch 1/2\n"
     ]
    },
    {
     "name": "stderr",
     "output_type": "stream",
     "text": [
      "/Users/husni.zuhdi/Documents/Codes/1-Python-Workshop/retention-prediction-demo/retention-prediction/lib/python3.10/site-packages/tensorflow/python/keras/engine/sequential.py:454: UserWarning: `model.predict_classes()` is deprecated and will be removed after 2021-01-01. Please use instead:* `np.argmax(model.predict(x), axis=-1)`,   if your model does multi-class classification   (e.g. if it uses a `softmax` last-layer activation).* `(model.predict(x) > 0.5).astype(\"int32\")`,   if your model does binary classification   (e.g. if it uses a `sigmoid` last-layer activation).\n",
      "  warnings.warn('`model.predict_classes()` is deprecated and '\n"
     ]
    },
    {
     "name": "stdout",
     "output_type": "stream",
     "text": [
      "473/473 [==============================] - 1s 1ms/step - loss: 0.5167 - accuracy: 0.7621\n",
      "Epoch 2/2\n",
      "473/473 [==============================] - 1s 1ms/step - loss: 0.3796 - accuracy: 0.7628\n",
      "Epoch 1/2\n"
     ]
    },
    {
     "name": "stderr",
     "output_type": "stream",
     "text": [
      "/Users/husni.zuhdi/Documents/Codes/1-Python-Workshop/retention-prediction-demo/retention-prediction/lib/python3.10/site-packages/tensorflow/python/keras/engine/sequential.py:454: UserWarning: `model.predict_classes()` is deprecated and will be removed after 2021-01-01. Please use instead:* `np.argmax(model.predict(x), axis=-1)`,   if your model does multi-class classification   (e.g. if it uses a `softmax` last-layer activation).* `(model.predict(x) > 0.5).astype(\"int32\")`,   if your model does binary classification   (e.g. if it uses a `sigmoid` last-layer activation).\n",
      "  warnings.warn('`model.predict_classes()` is deprecated and '\n"
     ]
    },
    {
     "name": "stdout",
     "output_type": "stream",
     "text": [
      "473/473 [==============================] - 1s 1ms/step - loss: 0.5108 - accuracy: 0.7675\n",
      "Epoch 2/2\n",
      "473/473 [==============================] - 1s 1ms/step - loss: 0.3653 - accuracy: 0.8020\n",
      "Epoch 1/2\n"
     ]
    },
    {
     "name": "stderr",
     "output_type": "stream",
     "text": [
      "/Users/husni.zuhdi/Documents/Codes/1-Python-Workshop/retention-prediction-demo/retention-prediction/lib/python3.10/site-packages/tensorflow/python/keras/engine/sequential.py:454: UserWarning: `model.predict_classes()` is deprecated and will be removed after 2021-01-01. Please use instead:* `np.argmax(model.predict(x), axis=-1)`,   if your model does multi-class classification   (e.g. if it uses a `softmax` last-layer activation).* `(model.predict(x) > 0.5).astype(\"int32\")`,   if your model does binary classification   (e.g. if it uses a `sigmoid` last-layer activation).\n",
      "  warnings.warn('`model.predict_classes()` is deprecated and '\n"
     ]
    },
    {
     "name": "stdout",
     "output_type": "stream",
     "text": [
      "473/473 [==============================] - 1s 1ms/step - loss: 0.5500 - accuracy: 0.7865\n",
      "Epoch 2/2\n",
      "473/473 [==============================] - 1s 1ms/step - loss: 0.3496 - accuracy: 0.8725\n",
      "Epoch 1/2\n"
     ]
    },
    {
     "name": "stderr",
     "output_type": "stream",
     "text": [
      "/Users/husni.zuhdi/Documents/Codes/1-Python-Workshop/retention-prediction-demo/retention-prediction/lib/python3.10/site-packages/tensorflow/python/keras/engine/sequential.py:454: UserWarning: `model.predict_classes()` is deprecated and will be removed after 2021-01-01. Please use instead:* `np.argmax(model.predict(x), axis=-1)`,   if your model does multi-class classification   (e.g. if it uses a `softmax` last-layer activation).* `(model.predict(x) > 0.5).astype(\"int32\")`,   if your model does binary classification   (e.g. if it uses a `sigmoid` last-layer activation).\n",
      "  warnings.warn('`model.predict_classes()` is deprecated and '\n"
     ]
    },
    {
     "name": "stdout",
     "output_type": "stream",
     "text": [
      "473/473 [==============================] - 1s 1ms/step - loss: 0.5227 - accuracy: 0.7767\n",
      "Epoch 2/2\n",
      "473/473 [==============================] - 1s 2ms/step - loss: 0.3337 - accuracy: 0.8618\n",
      "Epoch 1/2\n"
     ]
    },
    {
     "name": "stderr",
     "output_type": "stream",
     "text": [
      "/Users/husni.zuhdi/Documents/Codes/1-Python-Workshop/retention-prediction-demo/retention-prediction/lib/python3.10/site-packages/tensorflow/python/keras/engine/sequential.py:454: UserWarning: `model.predict_classes()` is deprecated and will be removed after 2021-01-01. Please use instead:* `np.argmax(model.predict(x), axis=-1)`,   if your model does multi-class classification   (e.g. if it uses a `softmax` last-layer activation).* `(model.predict(x) > 0.5).astype(\"int32\")`,   if your model does binary classification   (e.g. if it uses a `sigmoid` last-layer activation).\n",
      "  warnings.warn('`model.predict_classes()` is deprecated and '\n"
     ]
    },
    {
     "name": "stdout",
     "output_type": "stream",
     "text": [
      "473/473 [==============================] - 1s 1ms/step - loss: 0.5233 - accuracy: 0.7691\n",
      "Epoch 2/2\n",
      "473/473 [==============================] - 0s 1ms/step - loss: 0.3743 - accuracy: 0.7993\n",
      "Epoch 1/2\n"
     ]
    },
    {
     "name": "stderr",
     "output_type": "stream",
     "text": [
      "/Users/husni.zuhdi/Documents/Codes/1-Python-Workshop/retention-prediction-demo/retention-prediction/lib/python3.10/site-packages/tensorflow/python/keras/engine/sequential.py:454: UserWarning: `model.predict_classes()` is deprecated and will be removed after 2021-01-01. Please use instead:* `np.argmax(model.predict(x), axis=-1)`,   if your model does multi-class classification   (e.g. if it uses a `softmax` last-layer activation).* `(model.predict(x) > 0.5).astype(\"int32\")`,   if your model does binary classification   (e.g. if it uses a `sigmoid` last-layer activation).\n",
      "  warnings.warn('`model.predict_classes()` is deprecated and '\n"
     ]
    },
    {
     "name": "stdout",
     "output_type": "stream",
     "text": [
      "473/473 [==============================] - 1s 1ms/step - loss: 0.5280 - accuracy: 0.7646\n",
      "Epoch 2/2\n",
      "473/473 [==============================] - 0s 1ms/step - loss: 0.3690 - accuracy: 0.8131\n",
      "Epoch 1/2\n"
     ]
    },
    {
     "name": "stderr",
     "output_type": "stream",
     "text": [
      "/Users/husni.zuhdi/Documents/Codes/1-Python-Workshop/retention-prediction-demo/retention-prediction/lib/python3.10/site-packages/tensorflow/python/keras/engine/sequential.py:454: UserWarning: `model.predict_classes()` is deprecated and will be removed after 2021-01-01. Please use instead:* `np.argmax(model.predict(x), axis=-1)`,   if your model does multi-class classification   (e.g. if it uses a `softmax` last-layer activation).* `(model.predict(x) > 0.5).astype(\"int32\")`,   if your model does binary classification   (e.g. if it uses a `sigmoid` last-layer activation).\n",
      "  warnings.warn('`model.predict_classes()` is deprecated and '\n"
     ]
    },
    {
     "name": "stdout",
     "output_type": "stream",
     "text": [
      "473/473 [==============================] - 1s 1ms/step - loss: 0.5129 - accuracy: 0.7647\n",
      "Epoch 2/2\n",
      "473/473 [==============================] - 1s 1ms/step - loss: 0.3884 - accuracy: 0.7653\n",
      "Epoch 1/2\n"
     ]
    },
    {
     "name": "stderr",
     "output_type": "stream",
     "text": [
      "/Users/husni.zuhdi/Documents/Codes/1-Python-Workshop/retention-prediction-demo/retention-prediction/lib/python3.10/site-packages/tensorflow/python/keras/engine/sequential.py:454: UserWarning: `model.predict_classes()` is deprecated and will be removed after 2021-01-01. Please use instead:* `np.argmax(model.predict(x), axis=-1)`,   if your model does multi-class classification   (e.g. if it uses a `softmax` last-layer activation).* `(model.predict(x) > 0.5).astype(\"int32\")`,   if your model does binary classification   (e.g. if it uses a `sigmoid` last-layer activation).\n",
      "  warnings.warn('`model.predict_classes()` is deprecated and '\n"
     ]
    },
    {
     "name": "stdout",
     "output_type": "stream",
     "text": [
      "473/473 [==============================] - 1s 1ms/step - loss: 0.5361 - accuracy: 0.7697\n",
      "Epoch 2/2\n",
      "473/473 [==============================] - 1s 1ms/step - loss: 0.3720 - accuracy: 0.8309\n",
      "Epoch 1/4\n"
     ]
    },
    {
     "name": "stderr",
     "output_type": "stream",
     "text": [
      "/Users/husni.zuhdi/Documents/Codes/1-Python-Workshop/retention-prediction-demo/retention-prediction/lib/python3.10/site-packages/tensorflow/python/keras/engine/sequential.py:454: UserWarning: `model.predict_classes()` is deprecated and will be removed after 2021-01-01. Please use instead:* `np.argmax(model.predict(x), axis=-1)`,   if your model does multi-class classification   (e.g. if it uses a `softmax` last-layer activation).* `(model.predict(x) > 0.5).astype(\"int32\")`,   if your model does binary classification   (e.g. if it uses a `sigmoid` last-layer activation).\n",
      "  warnings.warn('`model.predict_classes()` is deprecated and '\n"
     ]
    },
    {
     "name": "stdout",
     "output_type": "stream",
     "text": [
      "473/473 [==============================] - 1s 1ms/step - loss: 0.5128 - accuracy: 0.7942\n",
      "Epoch 2/4\n",
      "473/473 [==============================] - 0s 992us/step - loss: 0.3012 - accuracy: 0.8892\n",
      "Epoch 3/4\n",
      "473/473 [==============================] - 1s 1ms/step - loss: 0.2387 - accuracy: 0.9166\n",
      "Epoch 4/4\n",
      "473/473 [==============================] - 1s 1ms/step - loss: 0.2119 - accuracy: 0.9284\n",
      "Epoch 1/4\n"
     ]
    },
    {
     "name": "stderr",
     "output_type": "stream",
     "text": [
      "/Users/husni.zuhdi/Documents/Codes/1-Python-Workshop/retention-prediction-demo/retention-prediction/lib/python3.10/site-packages/tensorflow/python/keras/engine/sequential.py:454: UserWarning: `model.predict_classes()` is deprecated and will be removed after 2021-01-01. Please use instead:* `np.argmax(model.predict(x), axis=-1)`,   if your model does multi-class classification   (e.g. if it uses a `softmax` last-layer activation).* `(model.predict(x) > 0.5).astype(\"int32\")`,   if your model does binary classification   (e.g. if it uses a `sigmoid` last-layer activation).\n",
      "  warnings.warn('`model.predict_classes()` is deprecated and '\n"
     ]
    },
    {
     "name": "stdout",
     "output_type": "stream",
     "text": [
      "473/473 [==============================] - 1s 1ms/step - loss: 0.5105 - accuracy: 0.7640\n",
      "Epoch 2/4\n",
      "473/473 [==============================] - 1s 1ms/step - loss: 0.3742 - accuracy: 0.7653\n",
      "Epoch 3/4\n",
      "473/473 [==============================] - 0s 1ms/step - loss: 0.3312 - accuracy: 0.8274\n",
      "Epoch 4/4\n",
      "473/473 [==============================] - 1s 1ms/step - loss: 0.3035 - accuracy: 0.8815\n",
      "Epoch 1/4\n"
     ]
    },
    {
     "name": "stderr",
     "output_type": "stream",
     "text": [
      "/Users/husni.zuhdi/Documents/Codes/1-Python-Workshop/retention-prediction-demo/retention-prediction/lib/python3.10/site-packages/tensorflow/python/keras/engine/sequential.py:454: UserWarning: `model.predict_classes()` is deprecated and will be removed after 2021-01-01. Please use instead:* `np.argmax(model.predict(x), axis=-1)`,   if your model does multi-class classification   (e.g. if it uses a `softmax` last-layer activation).* `(model.predict(x) > 0.5).astype(\"int32\")`,   if your model does binary classification   (e.g. if it uses a `sigmoid` last-layer activation).\n",
      "  warnings.warn('`model.predict_classes()` is deprecated and '\n"
     ]
    },
    {
     "name": "stdout",
     "output_type": "stream",
     "text": [
      "473/473 [==============================] - 1s 1ms/step - loss: 0.5061 - accuracy: 0.7764\n",
      "Epoch 2/4\n",
      "473/473 [==============================] - 1s 1ms/step - loss: 0.3498 - accuracy: 0.8077\n",
      "Epoch 3/4\n",
      "473/473 [==============================] - 1s 1ms/step - loss: 0.2928 - accuracy: 0.8356\n",
      "Epoch 4/4\n",
      "473/473 [==============================] - 0s 1ms/step - loss: 0.2623 - accuracy: 0.8603\n",
      "Epoch 1/4\n"
     ]
    },
    {
     "name": "stderr",
     "output_type": "stream",
     "text": [
      "/Users/husni.zuhdi/Documents/Codes/1-Python-Workshop/retention-prediction-demo/retention-prediction/lib/python3.10/site-packages/tensorflow/python/keras/engine/sequential.py:454: UserWarning: `model.predict_classes()` is deprecated and will be removed after 2021-01-01. Please use instead:* `np.argmax(model.predict(x), axis=-1)`,   if your model does multi-class classification   (e.g. if it uses a `softmax` last-layer activation).* `(model.predict(x) > 0.5).astype(\"int32\")`,   if your model does binary classification   (e.g. if it uses a `sigmoid` last-layer activation).\n",
      "  warnings.warn('`model.predict_classes()` is deprecated and '\n"
     ]
    },
    {
     "name": "stdout",
     "output_type": "stream",
     "text": [
      "473/473 [==============================] - 1s 1ms/step - loss: 0.5095 - accuracy: 0.7717\n",
      "Epoch 2/4\n",
      "473/473 [==============================] - 0s 997us/step - loss: 0.3485 - accuracy: 0.8082\n",
      "Epoch 3/4\n",
      "473/473 [==============================] - 1s 1ms/step - loss: 0.2946 - accuracy: 0.8315\n",
      "Epoch 4/4\n",
      "473/473 [==============================] - 1s 1ms/step - loss: 0.2619 - accuracy: 0.8706\n",
      "Epoch 1/4\n"
     ]
    },
    {
     "name": "stderr",
     "output_type": "stream",
     "text": [
      "/Users/husni.zuhdi/Documents/Codes/1-Python-Workshop/retention-prediction-demo/retention-prediction/lib/python3.10/site-packages/tensorflow/python/keras/engine/sequential.py:454: UserWarning: `model.predict_classes()` is deprecated and will be removed after 2021-01-01. Please use instead:* `np.argmax(model.predict(x), axis=-1)`,   if your model does multi-class classification   (e.g. if it uses a `softmax` last-layer activation).* `(model.predict(x) > 0.5).astype(\"int32\")`,   if your model does binary classification   (e.g. if it uses a `sigmoid` last-layer activation).\n",
      "  warnings.warn('`model.predict_classes()` is deprecated and '\n"
     ]
    },
    {
     "name": "stdout",
     "output_type": "stream",
     "text": [
      "473/473 [==============================] - 1s 1ms/step - loss: 0.5075 - accuracy: 0.7842\n",
      "Epoch 2/4\n",
      "473/473 [==============================] - 1s 1ms/step - loss: 0.3133 - accuracy: 0.8759\n",
      "Epoch 3/4\n",
      "473/473 [==============================] - 1s 1ms/step - loss: 0.2475 - accuracy: 0.9103\n",
      "Epoch 4/4\n",
      "473/473 [==============================] - 1s 1ms/step - loss: 0.2183 - accuracy: 0.9257\n",
      "Epoch 1/4\n"
     ]
    },
    {
     "name": "stderr",
     "output_type": "stream",
     "text": [
      "/Users/husni.zuhdi/Documents/Codes/1-Python-Workshop/retention-prediction-demo/retention-prediction/lib/python3.10/site-packages/tensorflow/python/keras/engine/sequential.py:454: UserWarning: `model.predict_classes()` is deprecated and will be removed after 2021-01-01. Please use instead:* `np.argmax(model.predict(x), axis=-1)`,   if your model does multi-class classification   (e.g. if it uses a `softmax` last-layer activation).* `(model.predict(x) > 0.5).astype(\"int32\")`,   if your model does binary classification   (e.g. if it uses a `sigmoid` last-layer activation).\n",
      "  warnings.warn('`model.predict_classes()` is deprecated and '\n"
     ]
    },
    {
     "name": "stdout",
     "output_type": "stream",
     "text": [
      "473/473 [==============================] - 1s 1ms/step - loss: 0.5069 - accuracy: 0.7781\n",
      "Epoch 2/4\n",
      "473/473 [==============================] - 0s 1ms/step - loss: 0.3147 - accuracy: 0.8710\n",
      "Epoch 3/4\n",
      "473/473 [==============================] - 1s 1ms/step - loss: 0.2507 - accuracy: 0.9099\n",
      "Epoch 4/4\n",
      "473/473 [==============================] - 1s 1ms/step - loss: 0.2174 - accuracy: 0.9255\n"
     ]
    },
    {
     "name": "stderr",
     "output_type": "stream",
     "text": [
      "/Users/husni.zuhdi/Documents/Codes/1-Python-Workshop/retention-prediction-demo/retention-prediction/lib/python3.10/site-packages/tensorflow/python/keras/engine/sequential.py:454: UserWarning: `model.predict_classes()` is deprecated and will be removed after 2021-01-01. Please use instead:* `np.argmax(model.predict(x), axis=-1)`,   if your model does multi-class classification   (e.g. if it uses a `softmax` last-layer activation).* `(model.predict(x) > 0.5).astype(\"int32\")`,   if your model does binary classification   (e.g. if it uses a `sigmoid` last-layer activation).\n",
      "  warnings.warn('`model.predict_classes()` is deprecated and '\n"
     ]
    },
    {
     "name": "stdout",
     "output_type": "stream",
     "text": [
      "Epoch 1/4\n",
      "473/473 [==============================] - 1s 1ms/step - loss: 0.5096 - accuracy: 0.7773\n",
      "Epoch 2/4\n",
      "473/473 [==============================] - 1s 1ms/step - loss: 0.3300 - accuracy: 0.8583\n",
      "Epoch 3/4\n",
      "473/473 [==============================] - 1s 1ms/step - loss: 0.2788 - accuracy: 0.8683\n",
      "Epoch 4/4\n",
      "473/473 [==============================] - 1s 1ms/step - loss: 0.2523 - accuracy: 0.8781\n",
      "Epoch 1/4\n"
     ]
    },
    {
     "name": "stderr",
     "output_type": "stream",
     "text": [
      "/Users/husni.zuhdi/Documents/Codes/1-Python-Workshop/retention-prediction-demo/retention-prediction/lib/python3.10/site-packages/tensorflow/python/keras/engine/sequential.py:454: UserWarning: `model.predict_classes()` is deprecated and will be removed after 2021-01-01. Please use instead:* `np.argmax(model.predict(x), axis=-1)`,   if your model does multi-class classification   (e.g. if it uses a `softmax` last-layer activation).* `(model.predict(x) > 0.5).astype(\"int32\")`,   if your model does binary classification   (e.g. if it uses a `sigmoid` last-layer activation).\n",
      "  warnings.warn('`model.predict_classes()` is deprecated and '\n"
     ]
    },
    {
     "name": "stdout",
     "output_type": "stream",
     "text": [
      "473/473 [==============================] - 2s 3ms/step - loss: 0.4944 - accuracy: 0.7835\n",
      "Epoch 2/4\n",
      "473/473 [==============================] - 1s 2ms/step - loss: 0.3360 - accuracy: 0.8168\n",
      "Epoch 3/4\n",
      "473/473 [==============================] - 1s 1ms/step - loss: 0.2897 - accuracy: 0.8410\n",
      "Epoch 4/4\n",
      "473/473 [==============================] - 1s 2ms/step - loss: 0.2648 - accuracy: 0.8480\n",
      "Epoch 1/4\n"
     ]
    },
    {
     "name": "stderr",
     "output_type": "stream",
     "text": [
      "/Users/husni.zuhdi/Documents/Codes/1-Python-Workshop/retention-prediction-demo/retention-prediction/lib/python3.10/site-packages/tensorflow/python/keras/engine/sequential.py:454: UserWarning: `model.predict_classes()` is deprecated and will be removed after 2021-01-01. Please use instead:* `np.argmax(model.predict(x), axis=-1)`,   if your model does multi-class classification   (e.g. if it uses a `softmax` last-layer activation).* `(model.predict(x) > 0.5).astype(\"int32\")`,   if your model does binary classification   (e.g. if it uses a `sigmoid` last-layer activation).\n",
      "  warnings.warn('`model.predict_classes()` is deprecated and '\n"
     ]
    },
    {
     "name": "stdout",
     "output_type": "stream",
     "text": [
      "473/473 [==============================] - 1s 1ms/step - loss: 0.4937 - accuracy: 0.7794\n",
      "Epoch 2/4\n",
      "473/473 [==============================] - 1s 1ms/step - loss: 0.3327 - accuracy: 0.8150\n",
      "Epoch 3/4\n",
      "473/473 [==============================] - 1s 1ms/step - loss: 0.2837 - accuracy: 0.8375\n",
      "Epoch 4/4\n",
      "473/473 [==============================] - 1s 1ms/step - loss: 0.2566 - accuracy: 0.8763\n"
     ]
    },
    {
     "name": "stderr",
     "output_type": "stream",
     "text": [
      "/Users/husni.zuhdi/Documents/Codes/1-Python-Workshop/retention-prediction-demo/retention-prediction/lib/python3.10/site-packages/tensorflow/python/keras/engine/sequential.py:454: UserWarning: `model.predict_classes()` is deprecated and will be removed after 2021-01-01. Please use instead:* `np.argmax(model.predict(x), axis=-1)`,   if your model does multi-class classification   (e.g. if it uses a `softmax` last-layer activation).* `(model.predict(x) > 0.5).astype(\"int32\")`,   if your model does binary classification   (e.g. if it uses a `sigmoid` last-layer activation).\n",
      "  warnings.warn('`model.predict_classes()` is deprecated and '\n"
     ]
    },
    {
     "name": "stdout",
     "output_type": "stream",
     "text": [
      "Epoch 1/4\n",
      "473/473 [==============================] - 1s 1ms/step - loss: 0.5095 - accuracy: 0.7623\n",
      "Epoch 2/4\n",
      "473/473 [==============================] - 1s 1ms/step - loss: 0.3714 - accuracy: 0.7633\n",
      "Epoch 3/4\n",
      "473/473 [==============================] - 1s 1ms/step - loss: 0.3252 - accuracy: 0.8361\n",
      "Epoch 4/4\n",
      "473/473 [==============================] - 1s 1ms/step - loss: 0.2955 - accuracy: 0.8917\n"
     ]
    },
    {
     "name": "stderr",
     "output_type": "stream",
     "text": [
      "/Users/husni.zuhdi/Documents/Codes/1-Python-Workshop/retention-prediction-demo/retention-prediction/lib/python3.10/site-packages/tensorflow/python/keras/engine/sequential.py:454: UserWarning: `model.predict_classes()` is deprecated and will be removed after 2021-01-01. Please use instead:* `np.argmax(model.predict(x), axis=-1)`,   if your model does multi-class classification   (e.g. if it uses a `softmax` last-layer activation).* `(model.predict(x) > 0.5).astype(\"int32\")`,   if your model does binary classification   (e.g. if it uses a `sigmoid` last-layer activation).\n",
      "  warnings.warn('`model.predict_classes()` is deprecated and '\n"
     ]
    },
    {
     "name": "stdout",
     "output_type": "stream",
     "text": [
      "Epoch 1/4\n",
      "473/473 [==============================] - 1s 2ms/step - loss: 0.5274 - accuracy: 0.7621\n",
      "Epoch 2/4\n",
      "473/473 [==============================] - 1s 2ms/step - loss: 0.3882 - accuracy: 0.7633\n",
      "Epoch 3/4\n",
      "473/473 [==============================] - 1s 1ms/step - loss: 0.3484 - accuracy: 0.8080\n",
      "Epoch 4/4\n",
      "473/473 [==============================] - 1s 1ms/step - loss: 0.3199 - accuracy: 0.8728\n"
     ]
    },
    {
     "name": "stderr",
     "output_type": "stream",
     "text": [
      "/Users/husni.zuhdi/Documents/Codes/1-Python-Workshop/retention-prediction-demo/retention-prediction/lib/python3.10/site-packages/tensorflow/python/keras/engine/sequential.py:454: UserWarning: `model.predict_classes()` is deprecated and will be removed after 2021-01-01. Please use instead:* `np.argmax(model.predict(x), axis=-1)`,   if your model does multi-class classification   (e.g. if it uses a `softmax` last-layer activation).* `(model.predict(x) > 0.5).astype(\"int32\")`,   if your model does binary classification   (e.g. if it uses a `sigmoid` last-layer activation).\n",
      "  warnings.warn('`model.predict_classes()` is deprecated and '\n"
     ]
    },
    {
     "name": "stdout",
     "output_type": "stream",
     "text": [
      "Epoch 1/4\n",
      "473/473 [==============================] - 1s 1ms/step - loss: 0.5208 - accuracy: 0.7649\n",
      "Epoch 2/4\n",
      "473/473 [==============================] - 1s 1ms/step - loss: 0.3814 - accuracy: 0.7840\n",
      "Epoch 3/4\n",
      "473/473 [==============================] - 1s 1ms/step - loss: 0.3328 - accuracy: 0.8044\n",
      "Epoch 4/4\n",
      "473/473 [==============================] - 1s 1ms/step - loss: 0.2994 - accuracy: 0.8560\n"
     ]
    },
    {
     "name": "stderr",
     "output_type": "stream",
     "text": [
      "/Users/husni.zuhdi/Documents/Codes/1-Python-Workshop/retention-prediction-demo/retention-prediction/lib/python3.10/site-packages/tensorflow/python/keras/engine/sequential.py:454: UserWarning: `model.predict_classes()` is deprecated and will be removed after 2021-01-01. Please use instead:* `np.argmax(model.predict(x), axis=-1)`,   if your model does multi-class classification   (e.g. if it uses a `softmax` last-layer activation).* `(model.predict(x) > 0.5).astype(\"int32\")`,   if your model does binary classification   (e.g. if it uses a `sigmoid` last-layer activation).\n",
      "  warnings.warn('`model.predict_classes()` is deprecated and '\n"
     ]
    },
    {
     "name": "stdout",
     "output_type": "stream",
     "text": [
      "Epoch 1/4\n",
      "473/473 [==============================] - 2s 2ms/step - loss: 0.5305 - accuracy: 0.7615\n",
      "Epoch 2/4\n",
      "473/473 [==============================] - 1s 1ms/step - loss: 0.3828 - accuracy: 0.8029\n",
      "Epoch 3/4\n",
      "473/473 [==============================] - 0s 1ms/step - loss: 0.3254 - accuracy: 0.8204\n",
      "Epoch 4/4\n",
      "473/473 [==============================] - 1s 2ms/step - loss: 0.2944 - accuracy: 0.8274\n",
      "Epoch 1/4\n"
     ]
    },
    {
     "name": "stderr",
     "output_type": "stream",
     "text": [
      "/Users/husni.zuhdi/Documents/Codes/1-Python-Workshop/retention-prediction-demo/retention-prediction/lib/python3.10/site-packages/tensorflow/python/keras/engine/sequential.py:454: UserWarning: `model.predict_classes()` is deprecated and will be removed after 2021-01-01. Please use instead:* `np.argmax(model.predict(x), axis=-1)`,   if your model does multi-class classification   (e.g. if it uses a `softmax` last-layer activation).* `(model.predict(x) > 0.5).astype(\"int32\")`,   if your model does binary classification   (e.g. if it uses a `sigmoid` last-layer activation).\n",
      "  warnings.warn('`model.predict_classes()` is deprecated and '\n"
     ]
    },
    {
     "name": "stdout",
     "output_type": "stream",
     "text": [
      "473/473 [==============================] - 1s 2ms/step - loss: 0.5155 - accuracy: 0.7730\n",
      "Epoch 2/4\n",
      "473/473 [==============================] - 1s 1ms/step - loss: 0.3440 - accuracy: 0.8540\n",
      "Epoch 3/4\n",
      "473/473 [==============================] - 1s 1ms/step - loss: 0.2800 - accuracy: 0.8964\n",
      "Epoch 4/4\n",
      "473/473 [==============================] - 1s 1ms/step - loss: 0.2474 - accuracy: 0.9127\n",
      "Epoch 1/4\n"
     ]
    },
    {
     "name": "stderr",
     "output_type": "stream",
     "text": [
      "/Users/husni.zuhdi/Documents/Codes/1-Python-Workshop/retention-prediction-demo/retention-prediction/lib/python3.10/site-packages/tensorflow/python/keras/engine/sequential.py:454: UserWarning: `model.predict_classes()` is deprecated and will be removed after 2021-01-01. Please use instead:* `np.argmax(model.predict(x), axis=-1)`,   if your model does multi-class classification   (e.g. if it uses a `softmax` last-layer activation).* `(model.predict(x) > 0.5).astype(\"int32\")`,   if your model does binary classification   (e.g. if it uses a `sigmoid` last-layer activation).\n",
      "  warnings.warn('`model.predict_classes()` is deprecated and '\n"
     ]
    },
    {
     "name": "stdout",
     "output_type": "stream",
     "text": [
      "473/473 [==============================] - 1s 1ms/step - loss: 0.5359 - accuracy: 0.7764\n",
      "Epoch 2/4\n",
      "473/473 [==============================] - 0s 1ms/step - loss: 0.3385 - accuracy: 0.8646\n",
      "Epoch 3/4\n",
      "473/473 [==============================] - 0s 1ms/step - loss: 0.2628 - accuracy: 0.9006\n",
      "Epoch 4/4\n",
      "473/473 [==============================] - 1s 1ms/step - loss: 0.2212 - accuracy: 0.9227\n",
      "Epoch 1/4\n"
     ]
    },
    {
     "name": "stderr",
     "output_type": "stream",
     "text": [
      "/Users/husni.zuhdi/Documents/Codes/1-Python-Workshop/retention-prediction-demo/retention-prediction/lib/python3.10/site-packages/tensorflow/python/keras/engine/sequential.py:454: UserWarning: `model.predict_classes()` is deprecated and will be removed after 2021-01-01. Please use instead:* `np.argmax(model.predict(x), axis=-1)`,   if your model does multi-class classification   (e.g. if it uses a `softmax` last-layer activation).* `(model.predict(x) > 0.5).astype(\"int32\")`,   if your model does binary classification   (e.g. if it uses a `sigmoid` last-layer activation).\n",
      "  warnings.warn('`model.predict_classes()` is deprecated and '\n"
     ]
    },
    {
     "name": "stdout",
     "output_type": "stream",
     "text": [
      "473/473 [==============================] - 1s 1ms/step - loss: 0.5210 - accuracy: 0.7621\n",
      "Epoch 2/4\n",
      "473/473 [==============================] - 1s 1ms/step - loss: 0.3865 - accuracy: 0.7629\n",
      "Epoch 3/4\n",
      "473/473 [==============================] - 1s 1ms/step - loss: 0.3506 - accuracy: 0.8033\n",
      "Epoch 4/4\n",
      "473/473 [==============================] - 1s 1ms/step - loss: 0.3229 - accuracy: 0.8686\n"
     ]
    },
    {
     "name": "stderr",
     "output_type": "stream",
     "text": [
      "/Users/husni.zuhdi/Documents/Codes/1-Python-Workshop/retention-prediction-demo/retention-prediction/lib/python3.10/site-packages/tensorflow/python/keras/engine/sequential.py:454: UserWarning: `model.predict_classes()` is deprecated and will be removed after 2021-01-01. Please use instead:* `np.argmax(model.predict(x), axis=-1)`,   if your model does multi-class classification   (e.g. if it uses a `softmax` last-layer activation).* `(model.predict(x) > 0.5).astype(\"int32\")`,   if your model does binary classification   (e.g. if it uses a `sigmoid` last-layer activation).\n",
      "  warnings.warn('`model.predict_classes()` is deprecated and '\n"
     ]
    },
    {
     "name": "stdout",
     "output_type": "stream",
     "text": [
      "Epoch 1/4\n",
      "473/473 [==============================] - 1s 2ms/step - loss: 0.5113 - accuracy: 0.7651\n",
      "Epoch 2/4\n",
      "473/473 [==============================] - 1s 1ms/step - loss: 0.3623 - accuracy: 0.8115\n",
      "Epoch 3/4\n",
      "473/473 [==============================] - 1s 1ms/step - loss: 0.3150 - accuracy: 0.8218\n",
      "Epoch 4/4\n",
      "473/473 [==============================] - 1s 1ms/step - loss: 0.2887 - accuracy: 0.8408\n",
      "Epoch 1/4\n"
     ]
    },
    {
     "name": "stderr",
     "output_type": "stream",
     "text": [
      "/Users/husni.zuhdi/Documents/Codes/1-Python-Workshop/retention-prediction-demo/retention-prediction/lib/python3.10/site-packages/tensorflow/python/keras/engine/sequential.py:454: UserWarning: `model.predict_classes()` is deprecated and will be removed after 2021-01-01. Please use instead:* `np.argmax(model.predict(x), axis=-1)`,   if your model does multi-class classification   (e.g. if it uses a `softmax` last-layer activation).* `(model.predict(x) > 0.5).astype(\"int32\")`,   if your model does binary classification   (e.g. if it uses a `sigmoid` last-layer activation).\n",
      "  warnings.warn('`model.predict_classes()` is deprecated and '\n"
     ]
    },
    {
     "name": "stdout",
     "output_type": "stream",
     "text": [
      "473/473 [==============================] - 1s 1ms/step - loss: 0.5166 - accuracy: 0.7615\n",
      "Epoch 2/4\n",
      "473/473 [==============================] - 1s 1ms/step - loss: 0.3811 - accuracy: 0.7614\n",
      "Epoch 3/4\n",
      "473/473 [==============================] - 1s 1ms/step - loss: 0.3436 - accuracy: 0.8280\n",
      "Epoch 4/4\n",
      "473/473 [==============================] - 1s 1ms/step - loss: 0.3193 - accuracy: 0.8671\n",
      "Epoch 1/4\n"
     ]
    },
    {
     "name": "stderr",
     "output_type": "stream",
     "text": [
      "/Users/husni.zuhdi/Documents/Codes/1-Python-Workshop/retention-prediction-demo/retention-prediction/lib/python3.10/site-packages/tensorflow/python/keras/engine/sequential.py:454: UserWarning: `model.predict_classes()` is deprecated and will be removed after 2021-01-01. Please use instead:* `np.argmax(model.predict(x), axis=-1)`,   if your model does multi-class classification   (e.g. if it uses a `softmax` last-layer activation).* `(model.predict(x) > 0.5).astype(\"int32\")`,   if your model does binary classification   (e.g. if it uses a `sigmoid` last-layer activation).\n",
      "  warnings.warn('`model.predict_classes()` is deprecated and '\n"
     ]
    },
    {
     "name": "stdout",
     "output_type": "stream",
     "text": [
      "473/473 [==============================] - 1s 1ms/step - loss: 0.5204 - accuracy: 0.7693\n",
      "Epoch 2/4\n",
      "473/473 [==============================] - 1s 1ms/step - loss: 0.3679 - accuracy: 0.8051\n",
      "Epoch 3/4\n",
      "473/473 [==============================] - 1s 1ms/step - loss: 0.3078 - accuracy: 0.8223\n",
      "Epoch 4/4\n",
      "473/473 [==============================] - 1s 1ms/step - loss: 0.2719 - accuracy: 0.8650\n"
     ]
    },
    {
     "name": "stderr",
     "output_type": "stream",
     "text": [
      "/Users/husni.zuhdi/Documents/Codes/1-Python-Workshop/retention-prediction-demo/retention-prediction/lib/python3.10/site-packages/tensorflow/python/keras/engine/sequential.py:454: UserWarning: `model.predict_classes()` is deprecated and will be removed after 2021-01-01. Please use instead:* `np.argmax(model.predict(x), axis=-1)`,   if your model does multi-class classification   (e.g. if it uses a `softmax` last-layer activation).* `(model.predict(x) > 0.5).astype(\"int32\")`,   if your model does binary classification   (e.g. if it uses a `sigmoid` last-layer activation).\n",
      "  warnings.warn('`model.predict_classes()` is deprecated and '\n"
     ]
    },
    {
     "name": "stdout",
     "output_type": "stream",
     "text": [
      "Epoch 1/4\n",
      "473/473 [==============================] - 1s 1ms/step - loss: 0.5153 - accuracy: 0.7696\n",
      "Epoch 2/4\n",
      "473/473 [==============================] - 1s 1ms/step - loss: 0.3706 - accuracy: 0.8041\n",
      "Epoch 3/4\n",
      "473/473 [==============================] - 1s 1ms/step - loss: 0.3180 - accuracy: 0.8216\n",
      "Epoch 4/4\n",
      "473/473 [==============================] - 0s 1ms/step - loss: 0.2845 - accuracy: 0.8522\n",
      "Epoch 1/6\n"
     ]
    },
    {
     "name": "stderr",
     "output_type": "stream",
     "text": [
      "/Users/husni.zuhdi/Documents/Codes/1-Python-Workshop/retention-prediction-demo/retention-prediction/lib/python3.10/site-packages/tensorflow/python/keras/engine/sequential.py:454: UserWarning: `model.predict_classes()` is deprecated and will be removed after 2021-01-01. Please use instead:* `np.argmax(model.predict(x), axis=-1)`,   if your model does multi-class classification   (e.g. if it uses a `softmax` last-layer activation).* `(model.predict(x) > 0.5).astype(\"int32\")`,   if your model does binary classification   (e.g. if it uses a `sigmoid` last-layer activation).\n",
      "  warnings.warn('`model.predict_classes()` is deprecated and '\n"
     ]
    },
    {
     "name": "stdout",
     "output_type": "stream",
     "text": [
      "473/473 [==============================] - 1s 1ms/step - loss: 0.5024 - accuracy: 0.7789\n",
      "Epoch 2/6\n",
      "473/473 [==============================] - 0s 1ms/step - loss: 0.3368 - accuracy: 0.8208\n",
      "Epoch 3/6\n",
      "473/473 [==============================] - 1s 1ms/step - loss: 0.2878 - accuracy: 0.8416\n",
      "Epoch 4/6\n",
      "473/473 [==============================] - 1s 1ms/step - loss: 0.2615 - accuracy: 0.8493\n",
      "Epoch 5/6\n",
      "473/473 [==============================] - 1s 1ms/step - loss: 0.2416 - accuracy: 0.8935\n",
      "Epoch 6/6\n",
      "473/473 [==============================] - 1s 1ms/step - loss: 0.2341 - accuracy: 0.9343\n"
     ]
    },
    {
     "name": "stderr",
     "output_type": "stream",
     "text": [
      "/Users/husni.zuhdi/Documents/Codes/1-Python-Workshop/retention-prediction-demo/retention-prediction/lib/python3.10/site-packages/tensorflow/python/keras/engine/sequential.py:454: UserWarning: `model.predict_classes()` is deprecated and will be removed after 2021-01-01. Please use instead:* `np.argmax(model.predict(x), axis=-1)`,   if your model does multi-class classification   (e.g. if it uses a `softmax` last-layer activation).* `(model.predict(x) > 0.5).astype(\"int32\")`,   if your model does binary classification   (e.g. if it uses a `sigmoid` last-layer activation).\n",
      "  warnings.warn('`model.predict_classes()` is deprecated and '\n"
     ]
    },
    {
     "name": "stdout",
     "output_type": "stream",
     "text": [
      "Epoch 1/6\n",
      "473/473 [==============================] - 1s 1ms/step - loss: 0.5033 - accuracy: 0.7647\n",
      "Epoch 2/6\n",
      "473/473 [==============================] - 1s 1ms/step - loss: 0.3755 - accuracy: 0.7653\n",
      "Epoch 3/6\n",
      "473/473 [==============================] - 1s 1ms/step - loss: 0.3323 - accuracy: 0.8272\n",
      "Epoch 4/6\n",
      "473/473 [==============================] - 1s 1ms/step - loss: 0.3031 - accuracy: 0.8840\n",
      "Epoch 5/6\n",
      "473/473 [==============================] - 1s 1ms/step - loss: 0.2846 - accuracy: 0.9024\n",
      "Epoch 6/6\n",
      "473/473 [==============================] - 1s 1ms/step - loss: 0.2709 - accuracy: 0.9090\n",
      "Epoch 1/6\n"
     ]
    },
    {
     "name": "stderr",
     "output_type": "stream",
     "text": [
      "/Users/husni.zuhdi/Documents/Codes/1-Python-Workshop/retention-prediction-demo/retention-prediction/lib/python3.10/site-packages/tensorflow/python/keras/engine/sequential.py:454: UserWarning: `model.predict_classes()` is deprecated and will be removed after 2021-01-01. Please use instead:* `np.argmax(model.predict(x), axis=-1)`,   if your model does multi-class classification   (e.g. if it uses a `softmax` last-layer activation).* `(model.predict(x) > 0.5).astype(\"int32\")`,   if your model does binary classification   (e.g. if it uses a `sigmoid` last-layer activation).\n",
      "  warnings.warn('`model.predict_classes()` is deprecated and '\n"
     ]
    },
    {
     "name": "stdout",
     "output_type": "stream",
     "text": [
      "473/473 [==============================] - 1s 1ms/step - loss: 0.5013 - accuracy: 0.7844\n",
      "Epoch 2/6\n",
      "473/473 [==============================] - 1s 1ms/step - loss: 0.3172 - accuracy: 0.8707\n",
      "Epoch 3/6\n",
      "473/473 [==============================] - 1s 1ms/step - loss: 0.2525 - accuracy: 0.9066\n",
      "Epoch 4/6\n",
      "473/473 [==============================] - 0s 1ms/step - loss: 0.2242 - accuracy: 0.9214\n",
      "Epoch 5/6\n",
      "473/473 [==============================] - 0s 1ms/step - loss: 0.2103 - accuracy: 0.9259\n",
      "Epoch 6/6\n",
      "473/473 [==============================] - 0s 1ms/step - loss: 0.2020 - accuracy: 0.9274\n",
      "Epoch 1/6\n"
     ]
    },
    {
     "name": "stderr",
     "output_type": "stream",
     "text": [
      "/Users/husni.zuhdi/Documents/Codes/1-Python-Workshop/retention-prediction-demo/retention-prediction/lib/python3.10/site-packages/tensorflow/python/keras/engine/sequential.py:454: UserWarning: `model.predict_classes()` is deprecated and will be removed after 2021-01-01. Please use instead:* `np.argmax(model.predict(x), axis=-1)`,   if your model does multi-class classification   (e.g. if it uses a `softmax` last-layer activation).* `(model.predict(x) > 0.5).astype(\"int32\")`,   if your model does binary classification   (e.g. if it uses a `sigmoid` last-layer activation).\n",
      "  warnings.warn('`model.predict_classes()` is deprecated and '\n"
     ]
    },
    {
     "name": "stdout",
     "output_type": "stream",
     "text": [
      "473/473 [==============================] - 1s 1ms/step - loss: 0.4994 - accuracy: 0.7908\n",
      "Epoch 2/6\n",
      "473/473 [==============================] - 1s 1ms/step - loss: 0.2976 - accuracy: 0.8835\n",
      "Epoch 3/6\n",
      "473/473 [==============================] - 1s 1ms/step - loss: 0.2359 - accuracy: 0.9123\n",
      "Epoch 4/6\n",
      "473/473 [==============================] - 1s 1ms/step - loss: 0.2136 - accuracy: 0.9255\n",
      "Epoch 5/6\n",
      "473/473 [==============================] - 0s 1ms/step - loss: 0.2028 - accuracy: 0.9288\n",
      "Epoch 6/6\n",
      "473/473 [==============================] - 1s 1ms/step - loss: 0.2000 - accuracy: 0.9303\n",
      "Epoch 1/6\n"
     ]
    },
    {
     "name": "stderr",
     "output_type": "stream",
     "text": [
      "/Users/husni.zuhdi/Documents/Codes/1-Python-Workshop/retention-prediction-demo/retention-prediction/lib/python3.10/site-packages/tensorflow/python/keras/engine/sequential.py:454: UserWarning: `model.predict_classes()` is deprecated and will be removed after 2021-01-01. Please use instead:* `np.argmax(model.predict(x), axis=-1)`,   if your model does multi-class classification   (e.g. if it uses a `softmax` last-layer activation).* `(model.predict(x) > 0.5).astype(\"int32\")`,   if your model does binary classification   (e.g. if it uses a `sigmoid` last-layer activation).\n",
      "  warnings.warn('`model.predict_classes()` is deprecated and '\n"
     ]
    },
    {
     "name": "stdout",
     "output_type": "stream",
     "text": [
      "473/473 [==============================] - 1s 1ms/step - loss: 0.5118 - accuracy: 0.7647\n",
      "Epoch 2/6\n",
      "473/473 [==============================] - 1s 1ms/step - loss: 0.3631 - accuracy: 0.8271\n",
      "Epoch 3/6\n",
      "473/473 [==============================] - 0s 1ms/step - loss: 0.3105 - accuracy: 0.8527\n",
      "Epoch 4/6\n",
      "473/473 [==============================] - 0s 1ms/step - loss: 0.2825 - accuracy: 0.8605\n",
      "Epoch 5/6\n",
      "473/473 [==============================] - 1s 1ms/step - loss: 0.2652 - accuracy: 0.8764\n",
      "Epoch 6/6\n",
      "473/473 [==============================] - 1s 1ms/step - loss: 0.2516 - accuracy: 0.8934\n",
      "Epoch 1/6\n"
     ]
    },
    {
     "name": "stderr",
     "output_type": "stream",
     "text": [
      "/Users/husni.zuhdi/Documents/Codes/1-Python-Workshop/retention-prediction-demo/retention-prediction/lib/python3.10/site-packages/tensorflow/python/keras/engine/sequential.py:454: UserWarning: `model.predict_classes()` is deprecated and will be removed after 2021-01-01. Please use instead:* `np.argmax(model.predict(x), axis=-1)`,   if your model does multi-class classification   (e.g. if it uses a `softmax` last-layer activation).* `(model.predict(x) > 0.5).astype(\"int32\")`,   if your model does binary classification   (e.g. if it uses a `sigmoid` last-layer activation).\n",
      "  warnings.warn('`model.predict_classes()` is deprecated and '\n"
     ]
    },
    {
     "name": "stdout",
     "output_type": "stream",
     "text": [
      "473/473 [==============================] - 1s 1ms/step - loss: 0.5116 - accuracy: 0.7878\n",
      "Epoch 2/6\n",
      "473/473 [==============================] - 0s 1ms/step - loss: 0.3320 - accuracy: 0.8256\n",
      "Epoch 3/6\n",
      "473/473 [==============================] - 0s 990us/step - loss: 0.2863 - accuracy: 0.8445\n",
      "Epoch 4/6\n",
      "473/473 [==============================] - 0s 1ms/step - loss: 0.2605 - accuracy: 0.8496\n",
      "Epoch 5/6\n",
      "473/473 [==============================] - 0s 1ms/step - loss: 0.2465 - accuracy: 0.8746\n",
      "Epoch 6/6\n",
      "473/473 [==============================] - 1s 1ms/step - loss: 0.2339 - accuracy: 0.9274\n",
      "Epoch 1/6\n"
     ]
    },
    {
     "name": "stderr",
     "output_type": "stream",
     "text": [
      "/Users/husni.zuhdi/Documents/Codes/1-Python-Workshop/retention-prediction-demo/retention-prediction/lib/python3.10/site-packages/tensorflow/python/keras/engine/sequential.py:454: UserWarning: `model.predict_classes()` is deprecated and will be removed after 2021-01-01. Please use instead:* `np.argmax(model.predict(x), axis=-1)`,   if your model does multi-class classification   (e.g. if it uses a `softmax` last-layer activation).* `(model.predict(x) > 0.5).astype(\"int32\")`,   if your model does binary classification   (e.g. if it uses a `sigmoid` last-layer activation).\n",
      "  warnings.warn('`model.predict_classes()` is deprecated and '\n"
     ]
    },
    {
     "name": "stdout",
     "output_type": "stream",
     "text": [
      "473/473 [==============================] - 1s 1ms/step - loss: 0.5128 - accuracy: 0.7693\n",
      "Epoch 2/6\n",
      "473/473 [==============================] - 1s 1ms/step - loss: 0.3600 - accuracy: 0.8129\n",
      "Epoch 3/6\n",
      "473/473 [==============================] - 1s 1ms/step - loss: 0.3117 - accuracy: 0.8260\n",
      "Epoch 4/6\n",
      "473/473 [==============================] - 1s 1ms/step - loss: 0.2852 - accuracy: 0.8337\n",
      "Epoch 5/6\n",
      "473/473 [==============================] - 1s 2ms/step - loss: 0.2675 - accuracy: 0.8963\n",
      "Epoch 6/6\n",
      "473/473 [==============================] - 1s 1ms/step - loss: 0.2565 - accuracy: 0.9118\n",
      "Epoch 1/6\n"
     ]
    },
    {
     "name": "stderr",
     "output_type": "stream",
     "text": [
      "/Users/husni.zuhdi/Documents/Codes/1-Python-Workshop/retention-prediction-demo/retention-prediction/lib/python3.10/site-packages/tensorflow/python/keras/engine/sequential.py:454: UserWarning: `model.predict_classes()` is deprecated and will be removed after 2021-01-01. Please use instead:* `np.argmax(model.predict(x), axis=-1)`,   if your model does multi-class classification   (e.g. if it uses a `softmax` last-layer activation).* `(model.predict(x) > 0.5).astype(\"int32\")`,   if your model does binary classification   (e.g. if it uses a `sigmoid` last-layer activation).\n",
      "  warnings.warn('`model.predict_classes()` is deprecated and '\n"
     ]
    },
    {
     "name": "stdout",
     "output_type": "stream",
     "text": [
      "473/473 [==============================] - 1s 1ms/step - loss: 0.5033 - accuracy: 0.7605\n",
      "Epoch 2/6\n",
      "473/473 [==============================] - 1s 1ms/step - loss: 0.3762 - accuracy: 0.7614\n",
      "Epoch 3/6\n",
      "473/473 [==============================] - 0s 989us/step - loss: 0.3311 - accuracy: 0.8306\n",
      "Epoch 4/6\n",
      "473/473 [==============================] - 1s 1ms/step - loss: 0.3008 - accuracy: 0.8859\n",
      "Epoch 5/6\n",
      "473/473 [==============================] - 0s 1ms/step - loss: 0.2835 - accuracy: 0.9006\n",
      "Epoch 6/6\n",
      "473/473 [==============================] - 0s 989us/step - loss: 0.2712 - accuracy: 0.9090\n",
      "Epoch 1/6\n"
     ]
    },
    {
     "name": "stderr",
     "output_type": "stream",
     "text": [
      "/Users/husni.zuhdi/Documents/Codes/1-Python-Workshop/retention-prediction-demo/retention-prediction/lib/python3.10/site-packages/tensorflow/python/keras/engine/sequential.py:454: UserWarning: `model.predict_classes()` is deprecated and will be removed after 2021-01-01. Please use instead:* `np.argmax(model.predict(x), axis=-1)`,   if your model does multi-class classification   (e.g. if it uses a `softmax` last-layer activation).* `(model.predict(x) > 0.5).astype(\"int32\")`,   if your model does binary classification   (e.g. if it uses a `sigmoid` last-layer activation).\n",
      "  warnings.warn('`model.predict_classes()` is deprecated and '\n"
     ]
    },
    {
     "name": "stdout",
     "output_type": "stream",
     "text": [
      "473/473 [==============================] - 1s 1ms/step - loss: 0.5020 - accuracy: 0.7829\n",
      "Epoch 2/6\n",
      "473/473 [==============================] - 0s 1ms/step - loss: 0.3134 - accuracy: 0.8711\n",
      "Epoch 3/6\n",
      "473/473 [==============================] - 1s 1ms/step - loss: 0.2420 - accuracy: 0.9084\n",
      "Epoch 4/6\n",
      "473/473 [==============================] - 1s 1ms/step - loss: 0.2164 - accuracy: 0.9230\n",
      "Epoch 5/6\n",
      "473/473 [==============================] - 1s 1ms/step - loss: 0.2012 - accuracy: 0.9284\n",
      "Epoch 6/6\n",
      "473/473 [==============================] - 1s 1ms/step - loss: 0.1961 - accuracy: 0.9313\n",
      "Epoch 1/6\n"
     ]
    },
    {
     "name": "stderr",
     "output_type": "stream",
     "text": [
      "/Users/husni.zuhdi/Documents/Codes/1-Python-Workshop/retention-prediction-demo/retention-prediction/lib/python3.10/site-packages/tensorflow/python/keras/engine/sequential.py:454: UserWarning: `model.predict_classes()` is deprecated and will be removed after 2021-01-01. Please use instead:* `np.argmax(model.predict(x), axis=-1)`,   if your model does multi-class classification   (e.g. if it uses a `softmax` last-layer activation).* `(model.predict(x) > 0.5).astype(\"int32\")`,   if your model does binary classification   (e.g. if it uses a `sigmoid` last-layer activation).\n",
      "  warnings.warn('`model.predict_classes()` is deprecated and '\n"
     ]
    },
    {
     "name": "stdout",
     "output_type": "stream",
     "text": [
      "473/473 [==============================] - 1s 1ms/step - loss: 0.5167 - accuracy: 0.7766\n",
      "Epoch 2/6\n",
      "473/473 [==============================] - 1s 1ms/step - loss: 0.3371 - accuracy: 0.8213\n",
      "Epoch 3/6\n",
      "473/473 [==============================] - 1s 1ms/step - loss: 0.2788 - accuracy: 0.8429\n",
      "Epoch 4/6\n",
      "473/473 [==============================] - 1s 1ms/step - loss: 0.2516 - accuracy: 0.8628\n",
      "Epoch 5/6\n",
      "473/473 [==============================] - 1s 1ms/step - loss: 0.2394 - accuracy: 0.9231\n",
      "Epoch 6/6\n",
      "473/473 [==============================] - 1s 1ms/step - loss: 0.2301 - accuracy: 0.9360\n",
      "Epoch 1/6\n"
     ]
    },
    {
     "name": "stderr",
     "output_type": "stream",
     "text": [
      "/Users/husni.zuhdi/Documents/Codes/1-Python-Workshop/retention-prediction-demo/retention-prediction/lib/python3.10/site-packages/tensorflow/python/keras/engine/sequential.py:454: UserWarning: `model.predict_classes()` is deprecated and will be removed after 2021-01-01. Please use instead:* `np.argmax(model.predict(x), axis=-1)`,   if your model does multi-class classification   (e.g. if it uses a `softmax` last-layer activation).* `(model.predict(x) > 0.5).astype(\"int32\")`,   if your model does binary classification   (e.g. if it uses a `sigmoid` last-layer activation).\n",
      "  warnings.warn('`model.predict_classes()` is deprecated and '\n"
     ]
    },
    {
     "name": "stdout",
     "output_type": "stream",
     "text": [
      "473/473 [==============================] - 1s 1ms/step - loss: 0.5151 - accuracy: 0.7640\n",
      "Epoch 2/6\n",
      "473/473 [==============================] - 1s 1ms/step - loss: 0.3669 - accuracy: 0.8096\n",
      "Epoch 3/6\n",
      "473/473 [==============================] - 1s 2ms/step - loss: 0.3158 - accuracy: 0.8211\n",
      "Epoch 4/6\n",
      "473/473 [==============================] - 1s 1ms/step - loss: 0.2818 - accuracy: 0.8526\n",
      "Epoch 5/6\n",
      "473/473 [==============================] - 1s 2ms/step - loss: 0.2690 - accuracy: 0.8988\n",
      "Epoch 6/6\n",
      "473/473 [==============================] - 1s 2ms/step - loss: 0.2551 - accuracy: 0.9123\n",
      "Epoch 1/6\n"
     ]
    },
    {
     "name": "stderr",
     "output_type": "stream",
     "text": [
      "/Users/husni.zuhdi/Documents/Codes/1-Python-Workshop/retention-prediction-demo/retention-prediction/lib/python3.10/site-packages/tensorflow/python/keras/engine/sequential.py:454: UserWarning: `model.predict_classes()` is deprecated and will be removed after 2021-01-01. Please use instead:* `np.argmax(model.predict(x), axis=-1)`,   if your model does multi-class classification   (e.g. if it uses a `softmax` last-layer activation).* `(model.predict(x) > 0.5).astype(\"int32\")`,   if your model does binary classification   (e.g. if it uses a `sigmoid` last-layer activation).\n",
      "  warnings.warn('`model.predict_classes()` is deprecated and '\n"
     ]
    },
    {
     "name": "stdout",
     "output_type": "stream",
     "text": [
      "473/473 [==============================] - 1s 1ms/step - loss: 0.5192 - accuracy: 0.7715\n",
      "Epoch 2/6\n",
      "473/473 [==============================] - 1s 1ms/step - loss: 0.3393 - accuracy: 0.8631\n",
      "Epoch 3/6\n",
      "473/473 [==============================] - 1s 2ms/step - loss: 0.2668 - accuracy: 0.8980\n",
      "Epoch 4/6\n",
      "473/473 [==============================] - 1s 2ms/step - loss: 0.2307 - accuracy: 0.9179\n",
      "Epoch 5/6\n",
      "473/473 [==============================] - 1s 2ms/step - loss: 0.2160 - accuracy: 0.9222\n",
      "Epoch 6/6\n",
      "473/473 [==============================] - 1s 2ms/step - loss: 0.2031 - accuracy: 0.9279\n"
     ]
    },
    {
     "name": "stderr",
     "output_type": "stream",
     "text": [
      "/Users/husni.zuhdi/Documents/Codes/1-Python-Workshop/retention-prediction-demo/retention-prediction/lib/python3.10/site-packages/tensorflow/python/keras/engine/sequential.py:454: UserWarning: `model.predict_classes()` is deprecated and will be removed after 2021-01-01. Please use instead:* `np.argmax(model.predict(x), axis=-1)`,   if your model does multi-class classification   (e.g. if it uses a `softmax` last-layer activation).* `(model.predict(x) > 0.5).astype(\"int32\")`,   if your model does binary classification   (e.g. if it uses a `sigmoid` last-layer activation).\n",
      "  warnings.warn('`model.predict_classes()` is deprecated and '\n"
     ]
    },
    {
     "name": "stdout",
     "output_type": "stream",
     "text": [
      "Epoch 1/6\n",
      "473/473 [==============================] - 2s 2ms/step - loss: 0.5166 - accuracy: 0.7690\n",
      "Epoch 2/6\n",
      "473/473 [==============================] - 1s 2ms/step - loss: 0.3659 - accuracy: 0.8052\n",
      "Epoch 3/6\n",
      "473/473 [==============================] - 1s 2ms/step - loss: 0.3087 - accuracy: 0.8257\n",
      "Epoch 4/6\n",
      "473/473 [==============================] - 1s 2ms/step - loss: 0.2793 - accuracy: 0.8491\n",
      "Epoch 5/6\n",
      "473/473 [==============================] - 1s 2ms/step - loss: 0.2589 - accuracy: 0.9081\n",
      "Epoch 6/6\n",
      "473/473 [==============================] - 1s 2ms/step - loss: 0.2464 - accuracy: 0.9196\n"
     ]
    },
    {
     "name": "stderr",
     "output_type": "stream",
     "text": [
      "/Users/husni.zuhdi/Documents/Codes/1-Python-Workshop/retention-prediction-demo/retention-prediction/lib/python3.10/site-packages/tensorflow/python/keras/engine/sequential.py:454: UserWarning: `model.predict_classes()` is deprecated and will be removed after 2021-01-01. Please use instead:* `np.argmax(model.predict(x), axis=-1)`,   if your model does multi-class classification   (e.g. if it uses a `softmax` last-layer activation).* `(model.predict(x) > 0.5).astype(\"int32\")`,   if your model does binary classification   (e.g. if it uses a `sigmoid` last-layer activation).\n",
      "  warnings.warn('`model.predict_classes()` is deprecated and '\n"
     ]
    },
    {
     "name": "stdout",
     "output_type": "stream",
     "text": [
      "Epoch 1/6\n",
      "473/473 [==============================] - 2s 2ms/step - loss: 0.5214 - accuracy: 0.7600\n",
      "Epoch 2/6\n",
      "473/473 [==============================] - 1s 3ms/step - loss: 0.3826 - accuracy: 0.8062\n",
      "Epoch 3/6\n",
      "473/473 [==============================] - 1s 2ms/step - loss: 0.3330 - accuracy: 0.8403\n",
      "Epoch 4/6\n",
      "473/473 [==============================] - 1s 2ms/step - loss: 0.3019 - accuracy: 0.8529\n",
      "Epoch 5/6\n",
      "473/473 [==============================] - 1s 2ms/step - loss: 0.2829 - accuracy: 0.8649\n",
      "Epoch 6/6\n",
      "473/473 [==============================] - 1s 2ms/step - loss: 0.2701 - accuracy: 0.8820\n"
     ]
    },
    {
     "name": "stderr",
     "output_type": "stream",
     "text": [
      "/Users/husni.zuhdi/Documents/Codes/1-Python-Workshop/retention-prediction-demo/retention-prediction/lib/python3.10/site-packages/tensorflow/python/keras/engine/sequential.py:454: UserWarning: `model.predict_classes()` is deprecated and will be removed after 2021-01-01. Please use instead:* `np.argmax(model.predict(x), axis=-1)`,   if your model does multi-class classification   (e.g. if it uses a `softmax` last-layer activation).* `(model.predict(x) > 0.5).astype(\"int32\")`,   if your model does binary classification   (e.g. if it uses a `sigmoid` last-layer activation).\n",
      "  warnings.warn('`model.predict_classes()` is deprecated and '\n"
     ]
    },
    {
     "name": "stdout",
     "output_type": "stream",
     "text": [
      "Epoch 1/6\n",
      "473/473 [==============================] - 2s 3ms/step - loss: 0.5079 - accuracy: 0.7730\n",
      "Epoch 2/6\n",
      "473/473 [==============================] - 1s 2ms/step - loss: 0.3432 - accuracy: 0.8525\n",
      "Epoch 3/6\n",
      "473/473 [==============================] - 1s 3ms/step - loss: 0.2769 - accuracy: 0.8928\n",
      "Epoch 4/6\n",
      "473/473 [==============================] - 1s 3ms/step - loss: 0.2411 - accuracy: 0.9110\n",
      "Epoch 5/6\n",
      "473/473 [==============================] - 1s 2ms/step - loss: 0.2236 - accuracy: 0.9198\n",
      "Epoch 6/6\n",
      "473/473 [==============================] - 1s 2ms/step - loss: 0.2088 - accuracy: 0.9248\n"
     ]
    },
    {
     "name": "stderr",
     "output_type": "stream",
     "text": [
      "/Users/husni.zuhdi/Documents/Codes/1-Python-Workshop/retention-prediction-demo/retention-prediction/lib/python3.10/site-packages/tensorflow/python/keras/engine/sequential.py:454: UserWarning: `model.predict_classes()` is deprecated and will be removed after 2021-01-01. Please use instead:* `np.argmax(model.predict(x), axis=-1)`,   if your model does multi-class classification   (e.g. if it uses a `softmax` last-layer activation).* `(model.predict(x) > 0.5).astype(\"int32\")`,   if your model does binary classification   (e.g. if it uses a `sigmoid` last-layer activation).\n",
      "  warnings.warn('`model.predict_classes()` is deprecated and '\n"
     ]
    },
    {
     "name": "stdout",
     "output_type": "stream",
     "text": [
      "Epoch 1/6\n",
      "473/473 [==============================] - 2s 2ms/step - loss: 0.5307 - accuracy: 0.7742\n",
      "Epoch 2/6\n",
      "473/473 [==============================] - 1s 1ms/step - loss: 0.3594 - accuracy: 0.8426\n",
      "Epoch 3/6\n",
      "473/473 [==============================] - 1s 1ms/step - loss: 0.2838 - accuracy: 0.8923\n",
      "Epoch 4/6\n",
      "473/473 [==============================] - 1s 1ms/step - loss: 0.2456 - accuracy: 0.9127\n",
      "Epoch 5/6\n",
      "473/473 [==============================] - 1s 1ms/step - loss: 0.2193 - accuracy: 0.9232\n",
      "Epoch 6/6\n",
      "473/473 [==============================] - 1s 1ms/step - loss: 0.2086 - accuracy: 0.9278\n",
      "Epoch 1/6\n"
     ]
    },
    {
     "name": "stderr",
     "output_type": "stream",
     "text": [
      "/Users/husni.zuhdi/Documents/Codes/1-Python-Workshop/retention-prediction-demo/retention-prediction/lib/python3.10/site-packages/tensorflow/python/keras/engine/sequential.py:454: UserWarning: `model.predict_classes()` is deprecated and will be removed after 2021-01-01. Please use instead:* `np.argmax(model.predict(x), axis=-1)`,   if your model does multi-class classification   (e.g. if it uses a `softmax` last-layer activation).* `(model.predict(x) > 0.5).astype(\"int32\")`,   if your model does binary classification   (e.g. if it uses a `sigmoid` last-layer activation).\n",
      "  warnings.warn('`model.predict_classes()` is deprecated and '\n"
     ]
    },
    {
     "name": "stdout",
     "output_type": "stream",
     "text": [
      "473/473 [==============================] - 1s 1ms/step - loss: 0.5449 - accuracy: 0.7681\n",
      "Epoch 2/6\n",
      "473/473 [==============================] - 1s 1ms/step - loss: 0.3459 - accuracy: 0.8528\n",
      "Epoch 3/6\n",
      "473/473 [==============================] - 1s 1ms/step - loss: 0.2620 - accuracy: 0.9046\n",
      "Epoch 4/6\n",
      "473/473 [==============================] - 1s 2ms/step - loss: 0.2250 - accuracy: 0.9221\n",
      "Epoch 5/6\n",
      "473/473 [==============================] - 1s 2ms/step - loss: 0.2083 - accuracy: 0.9287\n",
      "Epoch 6/6\n",
      "473/473 [==============================] - 1s 1ms/step - loss: 0.2010 - accuracy: 0.9341\n",
      "Epoch 1/6\n"
     ]
    },
    {
     "name": "stderr",
     "output_type": "stream",
     "text": [
      "/Users/husni.zuhdi/Documents/Codes/1-Python-Workshop/retention-prediction-demo/retention-prediction/lib/python3.10/site-packages/tensorflow/python/keras/engine/sequential.py:454: UserWarning: `model.predict_classes()` is deprecated and will be removed after 2021-01-01. Please use instead:* `np.argmax(model.predict(x), axis=-1)`,   if your model does multi-class classification   (e.g. if it uses a `softmax` last-layer activation).* `(model.predict(x) > 0.5).astype(\"int32\")`,   if your model does binary classification   (e.g. if it uses a `sigmoid` last-layer activation).\n",
      "  warnings.warn('`model.predict_classes()` is deprecated and '\n"
     ]
    },
    {
     "name": "stdout",
     "output_type": "stream",
     "text": [
      "473/473 [==============================] - 1s 1ms/step - loss: 0.5158 - accuracy: 0.7778\n",
      "Epoch 2/6\n",
      "473/473 [==============================] - 0s 1ms/step - loss: 0.3592 - accuracy: 0.8078\n",
      "Epoch 3/6\n",
      "473/473 [==============================] - 1s 1ms/step - loss: 0.3086 - accuracy: 0.8310\n",
      "Epoch 4/6\n",
      "473/473 [==============================] - 1s 1ms/step - loss: 0.2733 - accuracy: 0.8442\n",
      "Epoch 5/6\n",
      "473/473 [==============================] - 1s 1ms/step - loss: 0.2554 - accuracy: 0.9027\n",
      "Epoch 6/6\n",
      "473/473 [==============================] - 1s 1ms/step - loss: 0.2420 - accuracy: 0.9270\n",
      "Epoch 1/6\n"
     ]
    },
    {
     "name": "stderr",
     "output_type": "stream",
     "text": [
      "/Users/husni.zuhdi/Documents/Codes/1-Python-Workshop/retention-prediction-demo/retention-prediction/lib/python3.10/site-packages/tensorflow/python/keras/engine/sequential.py:454: UserWarning: `model.predict_classes()` is deprecated and will be removed after 2021-01-01. Please use instead:* `np.argmax(model.predict(x), axis=-1)`,   if your model does multi-class classification   (e.g. if it uses a `softmax` last-layer activation).* `(model.predict(x) > 0.5).astype(\"int32\")`,   if your model does binary classification   (e.g. if it uses a `sigmoid` last-layer activation).\n",
      "  warnings.warn('`model.predict_classes()` is deprecated and '\n"
     ]
    },
    {
     "name": "stdout",
     "output_type": "stream",
     "text": [
      "473/473 [==============================] - 1s 1ms/step - loss: 0.5184 - accuracy: 0.7706\n",
      "Epoch 2/6\n",
      "473/473 [==============================] - 0s 919us/step - loss: 0.3616 - accuracy: 0.8051\n",
      "Epoch 3/6\n",
      "473/473 [==============================] - 0s 897us/step - loss: 0.3050 - accuracy: 0.8262\n",
      "Epoch 4/6\n",
      "473/473 [==============================] - 0s 919us/step - loss: 0.2722 - accuracy: 0.8647\n",
      "Epoch 5/6\n",
      "473/473 [==============================] - 0s 872us/step - loss: 0.2514 - accuracy: 0.9136\n",
      "Epoch 6/6\n",
      "473/473 [==============================] - 0s 1ms/step - loss: 0.2385 - accuracy: 0.9234\n",
      "Epoch 1/6\n"
     ]
    },
    {
     "name": "stderr",
     "output_type": "stream",
     "text": [
      "/Users/husni.zuhdi/Documents/Codes/1-Python-Workshop/retention-prediction-demo/retention-prediction/lib/python3.10/site-packages/tensorflow/python/keras/engine/sequential.py:454: UserWarning: `model.predict_classes()` is deprecated and will be removed after 2021-01-01. Please use instead:* `np.argmax(model.predict(x), axis=-1)`,   if your model does multi-class classification   (e.g. if it uses a `softmax` last-layer activation).* `(model.predict(x) > 0.5).astype(\"int32\")`,   if your model does binary classification   (e.g. if it uses a `sigmoid` last-layer activation).\n",
      "  warnings.warn('`model.predict_classes()` is deprecated and '\n"
     ]
    },
    {
     "name": "stdout",
     "output_type": "stream",
     "text": [
      "473/473 [==============================] - 1s 1ms/step - loss: 0.5182 - accuracy: 0.7711\n",
      "Epoch 2/6\n",
      "473/473 [==============================] - 1s 1ms/step - loss: 0.3624 - accuracy: 0.8035\n",
      "Epoch 3/6\n",
      "473/473 [==============================] - 0s 935us/step - loss: 0.3082 - accuracy: 0.8243\n",
      "Epoch 4/6\n",
      "473/473 [==============================] - 1s 1ms/step - loss: 0.2749 - accuracy: 0.8764\n",
      "Epoch 5/6\n",
      "473/473 [==============================] - 0s 1ms/step - loss: 0.2544 - accuracy: 0.9221\n",
      "Epoch 6/6\n",
      "473/473 [==============================] - 0s 917us/step - loss: 0.2424 - accuracy: 0.9299\n",
      "Epoch 1/8\n"
     ]
    },
    {
     "name": "stderr",
     "output_type": "stream",
     "text": [
      "/Users/husni.zuhdi/Documents/Codes/1-Python-Workshop/retention-prediction-demo/retention-prediction/lib/python3.10/site-packages/tensorflow/python/keras/engine/sequential.py:454: UserWarning: `model.predict_classes()` is deprecated and will be removed after 2021-01-01. Please use instead:* `np.argmax(model.predict(x), axis=-1)`,   if your model does multi-class classification   (e.g. if it uses a `softmax` last-layer activation).* `(model.predict(x) > 0.5).astype(\"int32\")`,   if your model does binary classification   (e.g. if it uses a `sigmoid` last-layer activation).\n",
      "  warnings.warn('`model.predict_classes()` is deprecated and '\n"
     ]
    },
    {
     "name": "stdout",
     "output_type": "stream",
     "text": [
      "473/473 [==============================] - 2s 1ms/step - loss: 0.5210 - accuracy: 0.7757\n",
      "Epoch 2/8\n",
      "473/473 [==============================] - 0s 994us/step - loss: 0.3467 - accuracy: 0.8154\n",
      "Epoch 3/8\n",
      "473/473 [==============================] - 1s 1ms/step - loss: 0.2890 - accuracy: 0.8404\n",
      "Epoch 4/8\n",
      "473/473 [==============================] - 0s 964us/step - loss: 0.2565 - accuracy: 0.8529\n",
      "Epoch 5/8\n",
      "473/473 [==============================] - 0s 1ms/step - loss: 0.2390 - accuracy: 0.8929\n",
      "Epoch 6/8\n",
      "473/473 [==============================] - 1s 2ms/step - loss: 0.2299 - accuracy: 0.9370\n",
      "Epoch 7/8\n",
      "473/473 [==============================] - 1s 2ms/step - loss: 0.2168 - accuracy: 0.9416\n",
      "Epoch 8/8\n",
      "473/473 [==============================] - 1s 2ms/step - loss: 0.2148 - accuracy: 0.9403\n",
      "Epoch 1/8\n"
     ]
    },
    {
     "name": "stderr",
     "output_type": "stream",
     "text": [
      "/Users/husni.zuhdi/Documents/Codes/1-Python-Workshop/retention-prediction-demo/retention-prediction/lib/python3.10/site-packages/tensorflow/python/keras/engine/sequential.py:454: UserWarning: `model.predict_classes()` is deprecated and will be removed after 2021-01-01. Please use instead:* `np.argmax(model.predict(x), axis=-1)`,   if your model does multi-class classification   (e.g. if it uses a `softmax` last-layer activation).* `(model.predict(x) > 0.5).astype(\"int32\")`,   if your model does binary classification   (e.g. if it uses a `sigmoid` last-layer activation).\n",
      "  warnings.warn('`model.predict_classes()` is deprecated and '\n"
     ]
    },
    {
     "name": "stdout",
     "output_type": "stream",
     "text": [
      "473/473 [==============================] - 1s 1ms/step - loss: 0.5101 - accuracy: 0.7825\n",
      "Epoch 2/8\n",
      "473/473 [==============================] - 1s 1ms/step - loss: 0.3148 - accuracy: 0.8729\n",
      "Epoch 3/8\n",
      "473/473 [==============================] - 1s 1ms/step - loss: 0.2453 - accuracy: 0.9139\n",
      "Epoch 4/8\n",
      "473/473 [==============================] - 1s 1ms/step - loss: 0.2158 - accuracy: 0.9254\n",
      "Epoch 5/8\n",
      "473/473 [==============================] - 1s 2ms/step - loss: 0.2043 - accuracy: 0.9289\n",
      "Epoch 6/8\n",
      "473/473 [==============================] - 1s 2ms/step - loss: 0.1973 - accuracy: 0.9308\n",
      "Epoch 7/8\n",
      "473/473 [==============================] - 1s 2ms/step - loss: 0.1932 - accuracy: 0.9341\n",
      "Epoch 8/8\n",
      "473/473 [==============================] - 1s 2ms/step - loss: 0.1898 - accuracy: 0.9379\n"
     ]
    },
    {
     "name": "stderr",
     "output_type": "stream",
     "text": [
      "/Users/husni.zuhdi/Documents/Codes/1-Python-Workshop/retention-prediction-demo/retention-prediction/lib/python3.10/site-packages/tensorflow/python/keras/engine/sequential.py:454: UserWarning: `model.predict_classes()` is deprecated and will be removed after 2021-01-01. Please use instead:* `np.argmax(model.predict(x), axis=-1)`,   if your model does multi-class classification   (e.g. if it uses a `softmax` last-layer activation).* `(model.predict(x) > 0.5).astype(\"int32\")`,   if your model does binary classification   (e.g. if it uses a `sigmoid` last-layer activation).\n",
      "  warnings.warn('`model.predict_classes()` is deprecated and '\n"
     ]
    },
    {
     "name": "stdout",
     "output_type": "stream",
     "text": [
      "Epoch 1/8\n",
      "473/473 [==============================] - 1s 1ms/step - loss: 0.4973 - accuracy: 0.7661\n",
      "Epoch 2/8\n",
      "473/473 [==============================] - 1s 1ms/step - loss: 0.3471 - accuracy: 0.8389\n",
      "Epoch 3/8\n",
      "473/473 [==============================] - 1s 1ms/step - loss: 0.2998 - accuracy: 0.8549\n",
      "Epoch 4/8\n",
      "473/473 [==============================] - 1s 1ms/step - loss: 0.2769 - accuracy: 0.8594\n",
      "Epoch 5/8\n",
      "473/473 [==============================] - 1s 1ms/step - loss: 0.2610 - accuracy: 0.8864\n",
      "Epoch 6/8\n",
      "473/473 [==============================] - 1s 1ms/step - loss: 0.2526 - accuracy: 0.8954\n",
      "Epoch 7/8\n",
      "473/473 [==============================] - 1s 1ms/step - loss: 0.2463 - accuracy: 0.9066\n",
      "Epoch 8/8\n",
      "473/473 [==============================] - 1s 1ms/step - loss: 0.2412 - accuracy: 0.9100\n",
      "Epoch 1/8\n"
     ]
    },
    {
     "name": "stderr",
     "output_type": "stream",
     "text": [
      "/Users/husni.zuhdi/Documents/Codes/1-Python-Workshop/retention-prediction-demo/retention-prediction/lib/python3.10/site-packages/tensorflow/python/keras/engine/sequential.py:454: UserWarning: `model.predict_classes()` is deprecated and will be removed after 2021-01-01. Please use instead:* `np.argmax(model.predict(x), axis=-1)`,   if your model does multi-class classification   (e.g. if it uses a `softmax` last-layer activation).* `(model.predict(x) > 0.5).astype(\"int32\")`,   if your model does binary classification   (e.g. if it uses a `sigmoid` last-layer activation).\n",
      "  warnings.warn('`model.predict_classes()` is deprecated and '\n"
     ]
    },
    {
     "name": "stdout",
     "output_type": "stream",
     "text": [
      "473/473 [==============================] - 1s 1ms/step - loss: 0.5187 - accuracy: 0.7893\n",
      "Epoch 2/8\n",
      "473/473 [==============================] - 1s 1ms/step - loss: 0.2952 - accuracy: 0.8936\n",
      "Epoch 3/8\n",
      "473/473 [==============================] - 1s 1ms/step - loss: 0.2378 - accuracy: 0.9165\n",
      "Epoch 4/8\n",
      "473/473 [==============================] - 1s 1ms/step - loss: 0.2110 - accuracy: 0.9305\n",
      "Epoch 5/8\n",
      "473/473 [==============================] - 1s 1ms/step - loss: 0.2001 - accuracy: 0.9349\n",
      "Epoch 6/8\n",
      "473/473 [==============================] - 1s 1ms/step - loss: 0.1930 - accuracy: 0.9355\n",
      "Epoch 7/8\n",
      "473/473 [==============================] - 1s 1ms/step - loss: 0.1909 - accuracy: 0.9396\n",
      "Epoch 8/8\n",
      "473/473 [==============================] - 1s 1ms/step - loss: 0.1847 - accuracy: 0.9425\n",
      "Epoch 1/8\n"
     ]
    },
    {
     "name": "stderr",
     "output_type": "stream",
     "text": [
      "/Users/husni.zuhdi/Documents/Codes/1-Python-Workshop/retention-prediction-demo/retention-prediction/lib/python3.10/site-packages/tensorflow/python/keras/engine/sequential.py:454: UserWarning: `model.predict_classes()` is deprecated and will be removed after 2021-01-01. Please use instead:* `np.argmax(model.predict(x), axis=-1)`,   if your model does multi-class classification   (e.g. if it uses a `softmax` last-layer activation).* `(model.predict(x) > 0.5).astype(\"int32\")`,   if your model does binary classification   (e.g. if it uses a `sigmoid` last-layer activation).\n",
      "  warnings.warn('`model.predict_classes()` is deprecated and '\n"
     ]
    },
    {
     "name": "stdout",
     "output_type": "stream",
     "text": [
      "473/473 [==============================] - 1s 1ms/step - loss: 0.5212 - accuracy: 0.7748\n",
      "Epoch 2/8\n",
      "473/473 [==============================] - 1s 1ms/step - loss: 0.3273 - accuracy: 0.8599\n",
      "Epoch 3/8\n",
      "473/473 [==============================] - 1s 1ms/step - loss: 0.2575 - accuracy: 0.9059\n",
      "Epoch 4/8\n",
      "473/473 [==============================] - 1s 1ms/step - loss: 0.2284 - accuracy: 0.9158\n",
      "Epoch 5/8\n",
      "473/473 [==============================] - 1s 1ms/step - loss: 0.2097 - accuracy: 0.9253\n",
      "Epoch 6/8\n",
      "473/473 [==============================] - 1s 1ms/step - loss: 0.2043 - accuracy: 0.9271\n",
      "Epoch 7/8\n",
      "473/473 [==============================] - 1s 1ms/step - loss: 0.1950 - accuracy: 0.9326\n",
      "Epoch 8/8\n",
      "473/473 [==============================] - 0s 949us/step - loss: 0.1889 - accuracy: 0.9357\n",
      "Epoch 1/8\n"
     ]
    },
    {
     "name": "stderr",
     "output_type": "stream",
     "text": [
      "/Users/husni.zuhdi/Documents/Codes/1-Python-Workshop/retention-prediction-demo/retention-prediction/lib/python3.10/site-packages/tensorflow/python/keras/engine/sequential.py:454: UserWarning: `model.predict_classes()` is deprecated and will be removed after 2021-01-01. Please use instead:* `np.argmax(model.predict(x), axis=-1)`,   if your model does multi-class classification   (e.g. if it uses a `softmax` last-layer activation).* `(model.predict(x) > 0.5).astype(\"int32\")`,   if your model does binary classification   (e.g. if it uses a `sigmoid` last-layer activation).\n",
      "  warnings.warn('`model.predict_classes()` is deprecated and '\n"
     ]
    },
    {
     "name": "stdout",
     "output_type": "stream",
     "text": [
      "473/473 [==============================] - 1s 1ms/step - loss: 0.4986 - accuracy: 0.7775\n",
      "Epoch 2/8\n",
      "473/473 [==============================] - 1s 1ms/step - loss: 0.3367 - accuracy: 0.8136\n",
      "Epoch 3/8\n",
      "473/473 [==============================] - 1s 1ms/step - loss: 0.2913 - accuracy: 0.8351\n",
      "Epoch 4/8\n",
      "473/473 [==============================] - 1s 1ms/step - loss: 0.2642 - accuracy: 0.8583\n",
      "Epoch 5/8\n",
      "473/473 [==============================] - 1s 1ms/step - loss: 0.2487 - accuracy: 0.9150\n",
      "Epoch 6/8\n",
      "473/473 [==============================] - 1s 1ms/step - loss: 0.2381 - accuracy: 0.9276\n",
      "Epoch 7/8\n",
      "473/473 [==============================] - 0s 886us/step - loss: 0.2293 - accuracy: 0.9329\n",
      "Epoch 8/8\n",
      "473/473 [==============================] - 0s 842us/step - loss: 0.2219 - accuracy: 0.9331\n",
      "Epoch 1/8\n"
     ]
    },
    {
     "name": "stderr",
     "output_type": "stream",
     "text": [
      "/Users/husni.zuhdi/Documents/Codes/1-Python-Workshop/retention-prediction-demo/retention-prediction/lib/python3.10/site-packages/tensorflow/python/keras/engine/sequential.py:454: UserWarning: `model.predict_classes()` is deprecated and will be removed after 2021-01-01. Please use instead:* `np.argmax(model.predict(x), axis=-1)`,   if your model does multi-class classification   (e.g. if it uses a `softmax` last-layer activation).* `(model.predict(x) > 0.5).astype(\"int32\")`,   if your model does binary classification   (e.g. if it uses a `sigmoid` last-layer activation).\n",
      "  warnings.warn('`model.predict_classes()` is deprecated and '\n"
     ]
    },
    {
     "name": "stdout",
     "output_type": "stream",
     "text": [
      "473/473 [==============================] - 1s 933us/step - loss: 0.5030 - accuracy: 0.7745\n",
      "Epoch 2/8\n",
      "473/473 [==============================] - 0s 898us/step - loss: 0.3447 - accuracy: 0.8112\n",
      "Epoch 3/8\n",
      "473/473 [==============================] - 0s 914us/step - loss: 0.2965 - accuracy: 0.8341\n",
      "Epoch 4/8\n",
      "473/473 [==============================] - 0s 888us/step - loss: 0.2676 - accuracy: 0.8577\n",
      "Epoch 5/8\n",
      "473/473 [==============================] - 0s 868us/step - loss: 0.2529 - accuracy: 0.9095\n",
      "Epoch 6/8\n",
      "473/473 [==============================] - 0s 1ms/step - loss: 0.2387 - accuracy: 0.9237\n",
      "Epoch 7/8\n",
      "473/473 [==============================] - 0s 1ms/step - loss: 0.2322 - accuracy: 0.9315\n",
      "Epoch 8/8\n",
      "473/473 [==============================] - 1s 1ms/step - loss: 0.2243 - accuracy: 0.9365\n",
      "Epoch 1/8\n"
     ]
    },
    {
     "name": "stderr",
     "output_type": "stream",
     "text": [
      "/Users/husni.zuhdi/Documents/Codes/1-Python-Workshop/retention-prediction-demo/retention-prediction/lib/python3.10/site-packages/tensorflow/python/keras/engine/sequential.py:454: UserWarning: `model.predict_classes()` is deprecated and will be removed after 2021-01-01. Please use instead:* `np.argmax(model.predict(x), axis=-1)`,   if your model does multi-class classification   (e.g. if it uses a `softmax` last-layer activation).* `(model.predict(x) > 0.5).astype(\"int32\")`,   if your model does binary classification   (e.g. if it uses a `sigmoid` last-layer activation).\n",
      "  warnings.warn('`model.predict_classes()` is deprecated and '\n"
     ]
    },
    {
     "name": "stdout",
     "output_type": "stream",
     "text": [
      "473/473 [==============================] - 1s 992us/step - loss: 0.4966 - accuracy: 0.7780\n",
      "Epoch 2/8\n",
      "473/473 [==============================] - 0s 839us/step - loss: 0.3300 - accuracy: 0.8266\n",
      "Epoch 3/8\n",
      "473/473 [==============================] - 0s 935us/step - loss: 0.2912 - accuracy: 0.8334\n",
      "Epoch 4/8\n",
      "473/473 [==============================] - 0s 867us/step - loss: 0.2676 - accuracy: 0.8673\n",
      "Epoch 5/8\n",
      "473/473 [==============================] - 0s 898us/step - loss: 0.2494 - accuracy: 0.9152\n",
      "Epoch 6/8\n",
      "473/473 [==============================] - 0s 871us/step - loss: 0.2412 - accuracy: 0.9223\n",
      "Epoch 7/8\n",
      "473/473 [==============================] - 0s 961us/step - loss: 0.2309 - accuracy: 0.9310\n",
      "Epoch 8/8\n",
      "473/473 [==============================] - 1s 1ms/step - loss: 0.2278 - accuracy: 0.9316\n",
      "Epoch 1/8\n"
     ]
    },
    {
     "name": "stderr",
     "output_type": "stream",
     "text": [
      "/Users/husni.zuhdi/Documents/Codes/1-Python-Workshop/retention-prediction-demo/retention-prediction/lib/python3.10/site-packages/tensorflow/python/keras/engine/sequential.py:454: UserWarning: `model.predict_classes()` is deprecated and will be removed after 2021-01-01. Please use instead:* `np.argmax(model.predict(x), axis=-1)`,   if your model does multi-class classification   (e.g. if it uses a `softmax` last-layer activation).* `(model.predict(x) > 0.5).astype(\"int32\")`,   if your model does binary classification   (e.g. if it uses a `sigmoid` last-layer activation).\n",
      "  warnings.warn('`model.predict_classes()` is deprecated and '\n"
     ]
    },
    {
     "name": "stdout",
     "output_type": "stream",
     "text": [
      "473/473 [==============================] - 1s 1ms/step - loss: 0.5011 - accuracy: 0.7776\n",
      "Epoch 2/8\n",
      "473/473 [==============================] - 1s 1ms/step - loss: 0.3406 - accuracy: 0.8125\n",
      "Epoch 3/8\n",
      "473/473 [==============================] - 1s 1ms/step - loss: 0.2884 - accuracy: 0.8342\n",
      "Epoch 4/8\n",
      "473/473 [==============================] - 0s 1ms/step - loss: 0.2638 - accuracy: 0.8689\n",
      "Epoch 5/8\n",
      "473/473 [==============================] - 0s 1ms/step - loss: 0.2438 - accuracy: 0.9182\n",
      "Epoch 6/8\n",
      "473/473 [==============================] - 0s 929us/step - loss: 0.2362 - accuracy: 0.9257\n",
      "Epoch 7/8\n",
      "473/473 [==============================] - 0s 916us/step - loss: 0.2256 - accuracy: 0.9343\n",
      "Epoch 8/8\n",
      "473/473 [==============================] - 0s 1ms/step - loss: 0.2193 - accuracy: 0.9349\n",
      "Epoch 1/8\n"
     ]
    },
    {
     "name": "stderr",
     "output_type": "stream",
     "text": [
      "/Users/husni.zuhdi/Documents/Codes/1-Python-Workshop/retention-prediction-demo/retention-prediction/lib/python3.10/site-packages/tensorflow/python/keras/engine/sequential.py:454: UserWarning: `model.predict_classes()` is deprecated and will be removed after 2021-01-01. Please use instead:* `np.argmax(model.predict(x), axis=-1)`,   if your model does multi-class classification   (e.g. if it uses a `softmax` last-layer activation).* `(model.predict(x) > 0.5).astype(\"int32\")`,   if your model does binary classification   (e.g. if it uses a `sigmoid` last-layer activation).\n",
      "  warnings.warn('`model.predict_classes()` is deprecated and '\n"
     ]
    },
    {
     "name": "stdout",
     "output_type": "stream",
     "text": [
      "473/473 [==============================] - 1s 1ms/step - loss: 0.5095 - accuracy: 0.7729\n",
      "Epoch 2/8\n",
      "473/473 [==============================] - 1s 1ms/step - loss: 0.3510 - accuracy: 0.8071\n",
      "Epoch 3/8\n",
      "473/473 [==============================] - 1s 2ms/step - loss: 0.2969 - accuracy: 0.8334\n",
      "Epoch 4/8\n",
      "473/473 [==============================] - 1s 1ms/step - loss: 0.2660 - accuracy: 0.8674\n",
      "Epoch 5/8\n",
      "473/473 [==============================] - 0s 986us/step - loss: 0.2515 - accuracy: 0.9095\n",
      "Epoch 6/8\n",
      "473/473 [==============================] - 0s 944us/step - loss: 0.2361 - accuracy: 0.9296\n",
      "Epoch 7/8\n",
      "473/473 [==============================] - 1s 1ms/step - loss: 0.2268 - accuracy: 0.9358\n",
      "Epoch 8/8\n",
      "473/473 [==============================] - 1s 1ms/step - loss: 0.2195 - accuracy: 0.9366\n"
     ]
    },
    {
     "name": "stderr",
     "output_type": "stream",
     "text": [
      "/Users/husni.zuhdi/Documents/Codes/1-Python-Workshop/retention-prediction-demo/retention-prediction/lib/python3.10/site-packages/tensorflow/python/keras/engine/sequential.py:454: UserWarning: `model.predict_classes()` is deprecated and will be removed after 2021-01-01. Please use instead:* `np.argmax(model.predict(x), axis=-1)`,   if your model does multi-class classification   (e.g. if it uses a `softmax` last-layer activation).* `(model.predict(x) > 0.5).astype(\"int32\")`,   if your model does binary classification   (e.g. if it uses a `sigmoid` last-layer activation).\n",
      "  warnings.warn('`model.predict_classes()` is deprecated and '\n"
     ]
    },
    {
     "name": "stdout",
     "output_type": "stream",
     "text": [
      "Epoch 1/8\n",
      "473/473 [==============================] - 1s 1ms/step - loss: 0.5204 - accuracy: 0.7662\n",
      "Epoch 2/8\n",
      "473/473 [==============================] - 0s 1ms/step - loss: 0.3739 - accuracy: 0.7988\n",
      "Epoch 3/8\n",
      "473/473 [==============================] - 0s 980us/step - loss: 0.3222 - accuracy: 0.8182\n",
      "Epoch 4/8\n",
      "473/473 [==============================] - 0s 967us/step - loss: 0.2878 - accuracy: 0.8345\n",
      "Epoch 5/8\n",
      "473/473 [==============================] - 0s 992us/step - loss: 0.2687 - accuracy: 0.8940\n",
      "Epoch 6/8\n",
      "473/473 [==============================] - 1s 1ms/step - loss: 0.2516 - accuracy: 0.9148\n",
      "Epoch 7/8\n",
      "473/473 [==============================] - 1s 1ms/step - loss: 0.2393 - accuracy: 0.9217\n",
      "Epoch 8/8\n",
      "473/473 [==============================] - 1s 1ms/step - loss: 0.2325 - accuracy: 0.9282\n"
     ]
    },
    {
     "name": "stderr",
     "output_type": "stream",
     "text": [
      "/Users/husni.zuhdi/Documents/Codes/1-Python-Workshop/retention-prediction-demo/retention-prediction/lib/python3.10/site-packages/tensorflow/python/keras/engine/sequential.py:454: UserWarning: `model.predict_classes()` is deprecated and will be removed after 2021-01-01. Please use instead:* `np.argmax(model.predict(x), axis=-1)`,   if your model does multi-class classification   (e.g. if it uses a `softmax` last-layer activation).* `(model.predict(x) > 0.5).astype(\"int32\")`,   if your model does binary classification   (e.g. if it uses a `sigmoid` last-layer activation).\n",
      "  warnings.warn('`model.predict_classes()` is deprecated and '\n"
     ]
    },
    {
     "name": "stdout",
     "output_type": "stream",
     "text": [
      "Epoch 1/8\n",
      "473/473 [==============================] - 1s 1ms/step - loss: 0.5174 - accuracy: 0.7700\n",
      "Epoch 2/8\n",
      "473/473 [==============================] - 1s 1ms/step - loss: 0.3638 - accuracy: 0.8293\n",
      "Epoch 3/8\n",
      "473/473 [==============================] - 1s 1ms/step - loss: 0.3100 - accuracy: 0.8586\n",
      "Epoch 4/8\n",
      "473/473 [==============================] - 0s 1ms/step - loss: 0.2793 - accuracy: 0.8679\n",
      "Epoch 5/8\n",
      "473/473 [==============================] - 1s 1ms/step - loss: 0.2648 - accuracy: 0.8701\n",
      "Epoch 6/8\n",
      "473/473 [==============================] - 0s 1ms/step - loss: 0.2466 - accuracy: 0.8783\n",
      "Epoch 7/8\n",
      "473/473 [==============================] - 1s 1ms/step - loss: 0.2367 - accuracy: 0.9041\n",
      "Epoch 8/8\n",
      "473/473 [==============================] - 1s 1ms/step - loss: 0.2350 - accuracy: 0.9094\n",
      "Epoch 1/8\n"
     ]
    },
    {
     "name": "stderr",
     "output_type": "stream",
     "text": [
      "/Users/husni.zuhdi/Documents/Codes/1-Python-Workshop/retention-prediction-demo/retention-prediction/lib/python3.10/site-packages/tensorflow/python/keras/engine/sequential.py:454: UserWarning: `model.predict_classes()` is deprecated and will be removed after 2021-01-01. Please use instead:* `np.argmax(model.predict(x), axis=-1)`,   if your model does multi-class classification   (e.g. if it uses a `softmax` last-layer activation).* `(model.predict(x) > 0.5).astype(\"int32\")`,   if your model does binary classification   (e.g. if it uses a `sigmoid` last-layer activation).\n",
      "  warnings.warn('`model.predict_classes()` is deprecated and '\n"
     ]
    },
    {
     "name": "stdout",
     "output_type": "stream",
     "text": [
      "473/473 [==============================] - 1s 1ms/step - loss: 0.5199 - accuracy: 0.7626\n",
      "Epoch 2/8\n",
      "473/473 [==============================] - 1s 1ms/step - loss: 0.3930 - accuracy: 0.7628\n",
      "Epoch 3/8\n",
      "473/473 [==============================] - 0s 1ms/step - loss: 0.3503 - accuracy: 0.8088\n",
      "Epoch 4/8\n",
      "473/473 [==============================] - 0s 1ms/step - loss: 0.3221 - accuracy: 0.8671\n",
      "Epoch 5/8\n",
      "473/473 [==============================] - 0s 1ms/step - loss: 0.3006 - accuracy: 0.8804\n",
      "Epoch 6/8\n",
      "473/473 [==============================] - 1s 1ms/step - loss: 0.2853 - accuracy: 0.8974\n",
      "Epoch 7/8\n",
      "473/473 [==============================] - 1s 1ms/step - loss: 0.2729 - accuracy: 0.9084\n",
      "Epoch 8/8\n",
      "473/473 [==============================] - 1s 1ms/step - loss: 0.2623 - accuracy: 0.9142\n",
      "Epoch 1/8\n"
     ]
    },
    {
     "name": "stderr",
     "output_type": "stream",
     "text": [
      "/Users/husni.zuhdi/Documents/Codes/1-Python-Workshop/retention-prediction-demo/retention-prediction/lib/python3.10/site-packages/tensorflow/python/keras/engine/sequential.py:454: UserWarning: `model.predict_classes()` is deprecated and will be removed after 2021-01-01. Please use instead:* `np.argmax(model.predict(x), axis=-1)`,   if your model does multi-class classification   (e.g. if it uses a `softmax` last-layer activation).* `(model.predict(x) > 0.5).astype(\"int32\")`,   if your model does binary classification   (e.g. if it uses a `sigmoid` last-layer activation).\n",
      "  warnings.warn('`model.predict_classes()` is deprecated and '\n"
     ]
    },
    {
     "name": "stdout",
     "output_type": "stream",
     "text": [
      "473/473 [==============================] - 1s 1ms/step - loss: 0.5216 - accuracy: 0.7602\n",
      "Epoch 2/8\n",
      "473/473 [==============================] - 1s 1ms/step - loss: 0.3769 - accuracy: 0.8231\n",
      "Epoch 3/8\n",
      "473/473 [==============================] - 0s 1ms/step - loss: 0.3243 - accuracy: 0.8502\n",
      "Epoch 4/8\n",
      "473/473 [==============================] - 0s 1ms/step - loss: 0.2929 - accuracy: 0.8633\n",
      "Epoch 5/8\n",
      "473/473 [==============================] - 0s 1ms/step - loss: 0.2739 - accuracy: 0.8709\n",
      "Epoch 6/8\n",
      "473/473 [==============================] - 1s 1ms/step - loss: 0.2630 - accuracy: 0.8839\n",
      "Epoch 7/8\n",
      "473/473 [==============================] - 1s 1ms/step - loss: 0.2493 - accuracy: 0.9064\n",
      "Epoch 8/8\n",
      "473/473 [==============================] - 1s 1ms/step - loss: 0.2497 - accuracy: 0.9139\n",
      "Epoch 1/8\n"
     ]
    },
    {
     "name": "stderr",
     "output_type": "stream",
     "text": [
      "/Users/husni.zuhdi/Documents/Codes/1-Python-Workshop/retention-prediction-demo/retention-prediction/lib/python3.10/site-packages/tensorflow/python/keras/engine/sequential.py:454: UserWarning: `model.predict_classes()` is deprecated and will be removed after 2021-01-01. Please use instead:* `np.argmax(model.predict(x), axis=-1)`,   if your model does multi-class classification   (e.g. if it uses a `softmax` last-layer activation).* `(model.predict(x) > 0.5).astype(\"int32\")`,   if your model does binary classification   (e.g. if it uses a `sigmoid` last-layer activation).\n",
      "  warnings.warn('`model.predict_classes()` is deprecated and '\n"
     ]
    },
    {
     "name": "stdout",
     "output_type": "stream",
     "text": [
      "473/473 [==============================] - 1s 1ms/step - loss: 0.5177 - accuracy: 0.7701\n",
      "Epoch 2/8\n",
      "473/473 [==============================] - 1s 1ms/step - loss: 0.3638 - accuracy: 0.8056\n",
      "Epoch 3/8\n",
      "473/473 [==============================] - 0s 1ms/step - loss: 0.3066 - accuracy: 0.8256\n",
      "Epoch 4/8\n",
      "473/473 [==============================] - 0s 882us/step - loss: 0.2741 - accuracy: 0.8770\n",
      "Epoch 5/8\n",
      "473/473 [==============================] - 0s 990us/step - loss: 0.2525 - accuracy: 0.9145\n",
      "Epoch 6/8\n",
      "473/473 [==============================] - 0s 925us/step - loss: 0.2397 - accuracy: 0.9234\n",
      "Epoch 7/8\n",
      "473/473 [==============================] - 0s 925us/step - loss: 0.2299 - accuracy: 0.9281\n",
      "Epoch 8/8\n",
      "473/473 [==============================] - 1s 1ms/step - loss: 0.2230 - accuracy: 0.9302\n",
      "Epoch 1/8\n"
     ]
    },
    {
     "name": "stderr",
     "output_type": "stream",
     "text": [
      "/Users/husni.zuhdi/Documents/Codes/1-Python-Workshop/retention-prediction-demo/retention-prediction/lib/python3.10/site-packages/tensorflow/python/keras/engine/sequential.py:454: UserWarning: `model.predict_classes()` is deprecated and will be removed after 2021-01-01. Please use instead:* `np.argmax(model.predict(x), axis=-1)`,   if your model does multi-class classification   (e.g. if it uses a `softmax` last-layer activation).* `(model.predict(x) > 0.5).astype(\"int32\")`,   if your model does binary classification   (e.g. if it uses a `sigmoid` last-layer activation).\n",
      "  warnings.warn('`model.predict_classes()` is deprecated and '\n"
     ]
    },
    {
     "name": "stdout",
     "output_type": "stream",
     "text": [
      "473/473 [==============================] - 1s 1ms/step - loss: 0.5181 - accuracy: 0.7627\n",
      "Epoch 2/8\n",
      "473/473 [==============================] - 0s 880us/step - loss: 0.3789 - accuracy: 0.7629\n",
      "Epoch 3/8\n",
      "473/473 [==============================] - 0s 934us/step - loss: 0.3340 - accuracy: 0.8352\n",
      "Epoch 4/8\n",
      "473/473 [==============================] - 1s 1ms/step - loss: 0.3070 - accuracy: 0.8794\n",
      "Epoch 5/8\n",
      "473/473 [==============================] - 0s 914us/step - loss: 0.2838 - accuracy: 0.9008\n",
      "Epoch 6/8\n",
      "473/473 [==============================] - 0s 1ms/step - loss: 0.2698 - accuracy: 0.9119\n",
      "Epoch 7/8\n",
      "473/473 [==============================] - 0s 858us/step - loss: 0.2599 - accuracy: 0.9168\n",
      "Epoch 8/8\n",
      "473/473 [==============================] - 0s 946us/step - loss: 0.2542 - accuracy: 0.9187\n",
      "Epoch 1/8\n"
     ]
    },
    {
     "name": "stderr",
     "output_type": "stream",
     "text": [
      "/Users/husni.zuhdi/Documents/Codes/1-Python-Workshop/retention-prediction-demo/retention-prediction/lib/python3.10/site-packages/tensorflow/python/keras/engine/sequential.py:454: UserWarning: `model.predict_classes()` is deprecated and will be removed after 2021-01-01. Please use instead:* `np.argmax(model.predict(x), axis=-1)`,   if your model does multi-class classification   (e.g. if it uses a `softmax` last-layer activation).* `(model.predict(x) > 0.5).astype(\"int32\")`,   if your model does binary classification   (e.g. if it uses a `sigmoid` last-layer activation).\n",
      "  warnings.warn('`model.predict_classes()` is deprecated and '\n"
     ]
    },
    {
     "name": "stdout",
     "output_type": "stream",
     "text": [
      "473/473 [==============================] - 1s 1ms/step - loss: 0.5604 - accuracy: 0.7838\n",
      "Epoch 2/8\n",
      "473/473 [==============================] - 0s 925us/step - loss: 0.3682 - accuracy: 0.8371\n",
      "Epoch 3/8\n",
      "473/473 [==============================] - 0s 947us/step - loss: 0.2909 - accuracy: 0.8969\n",
      "Epoch 4/8\n",
      "473/473 [==============================] - 0s 845us/step - loss: 0.2503 - accuracy: 0.9119\n",
      "Epoch 5/8\n",
      "473/473 [==============================] - 0s 891us/step - loss: 0.2276 - accuracy: 0.9212\n",
      "Epoch 6/8\n",
      "473/473 [==============================] - 0s 1ms/step - loss: 0.2174 - accuracy: 0.9239\n",
      "Epoch 7/8\n",
      "473/473 [==============================] - 0s 905us/step - loss: 0.2077 - accuracy: 0.9299\n",
      "Epoch 8/8\n",
      "473/473 [==============================] - 0s 967us/step - loss: 0.1995 - accuracy: 0.9334\n",
      "Epoch 1/8\n"
     ]
    },
    {
     "name": "stderr",
     "output_type": "stream",
     "text": [
      "/Users/husni.zuhdi/Documents/Codes/1-Python-Workshop/retention-prediction-demo/retention-prediction/lib/python3.10/site-packages/tensorflow/python/keras/engine/sequential.py:454: UserWarning: `model.predict_classes()` is deprecated and will be removed after 2021-01-01. Please use instead:* `np.argmax(model.predict(x), axis=-1)`,   if your model does multi-class classification   (e.g. if it uses a `softmax` last-layer activation).* `(model.predict(x) > 0.5).astype(\"int32\")`,   if your model does binary classification   (e.g. if it uses a `sigmoid` last-layer activation).\n",
      "  warnings.warn('`model.predict_classes()` is deprecated and '\n"
     ]
    },
    {
     "name": "stdout",
     "output_type": "stream",
     "text": [
      "473/473 [==============================] - 1s 1ms/step - loss: 0.5239 - accuracy: 0.7747\n",
      "Epoch 2/8\n",
      "473/473 [==============================] - 1s 1ms/step - loss: 0.3577 - accuracy: 0.8089\n",
      "Epoch 3/8\n",
      "473/473 [==============================] - 0s 1ms/step - loss: 0.3021 - accuracy: 0.8327\n",
      "Epoch 4/8\n",
      "473/473 [==============================] - 0s 913us/step - loss: 0.2677 - accuracy: 0.8484\n",
      "Epoch 5/8\n",
      "473/473 [==============================] - 0s 971us/step - loss: 0.2511 - accuracy: 0.9167\n",
      "Epoch 6/8\n",
      "473/473 [==============================] - 0s 937us/step - loss: 0.2393 - accuracy: 0.9266\n",
      "Epoch 7/8\n",
      "473/473 [==============================] - 1s 1ms/step - loss: 0.2280 - accuracy: 0.9307\n",
      "Epoch 8/8\n",
      "473/473 [==============================] - 1s 2ms/step - loss: 0.2210 - accuracy: 0.9350\n"
     ]
    },
    {
     "name": "stderr",
     "output_type": "stream",
     "text": [
      "/Users/husni.zuhdi/Documents/Codes/1-Python-Workshop/retention-prediction-demo/retention-prediction/lib/python3.10/site-packages/tensorflow/python/keras/engine/sequential.py:454: UserWarning: `model.predict_classes()` is deprecated and will be removed after 2021-01-01. Please use instead:* `np.argmax(model.predict(x), axis=-1)`,   if your model does multi-class classification   (e.g. if it uses a `softmax` last-layer activation).* `(model.predict(x) > 0.5).astype(\"int32\")`,   if your model does binary classification   (e.g. if it uses a `sigmoid` last-layer activation).\n",
      "  warnings.warn('`model.predict_classes()` is deprecated and '\n"
     ]
    },
    {
     "name": "stdout",
     "output_type": "stream",
     "text": [
      "Epoch 1/8\n",
      "473/473 [==============================] - 1s 1ms/step - loss: 0.5126 - accuracy: 0.7702\n",
      "Epoch 2/8\n",
      "473/473 [==============================] - 0s 1ms/step - loss: 0.3435 - accuracy: 0.8528\n",
      "Epoch 3/8\n",
      "473/473 [==============================] - 0s 986us/step - loss: 0.2704 - accuracy: 0.8935\n",
      "Epoch 4/8\n",
      "473/473 [==============================] - 1s 1ms/step - loss: 0.2346 - accuracy: 0.9116\n",
      "Epoch 5/8\n",
      "473/473 [==============================] - 1s 1ms/step - loss: 0.2104 - accuracy: 0.9221\n",
      "Epoch 6/8\n",
      "473/473 [==============================] - 1s 1ms/step - loss: 0.2006 - accuracy: 0.9282\n",
      "Epoch 7/8\n",
      "473/473 [==============================] - 1s 2ms/step - loss: 0.2012 - accuracy: 0.9273\n",
      "Epoch 8/8\n",
      "473/473 [==============================] - 1s 1ms/step - loss: 0.1952 - accuracy: 0.9313\n"
     ]
    },
    {
     "name": "stderr",
     "output_type": "stream",
     "text": [
      "/Users/husni.zuhdi/Documents/Codes/1-Python-Workshop/retention-prediction-demo/retention-prediction/lib/python3.10/site-packages/tensorflow/python/keras/engine/sequential.py:454: UserWarning: `model.predict_classes()` is deprecated and will be removed after 2021-01-01. Please use instead:* `np.argmax(model.predict(x), axis=-1)`,   if your model does multi-class classification   (e.g. if it uses a `softmax` last-layer activation).* `(model.predict(x) > 0.5).astype(\"int32\")`,   if your model does binary classification   (e.g. if it uses a `sigmoid` last-layer activation).\n",
      "  warnings.warn('`model.predict_classes()` is deprecated and '\n"
     ]
    },
    {
     "name": "stdout",
     "output_type": "stream",
     "text": [
      "Epoch 1/8\n",
      "473/473 [==============================] - 1s 1ms/step - loss: 0.5340 - accuracy: 0.7656\n",
      "Epoch 2/8\n",
      "473/473 [==============================] - 1s 1ms/step - loss: 0.3725 - accuracy: 0.8140\n",
      "Epoch 3/8\n",
      "473/473 [==============================] - 1s 2ms/step - loss: 0.3210 - accuracy: 0.8296\n",
      "Epoch 4/8\n",
      "473/473 [==============================] - 1s 2ms/step - loss: 0.2939 - accuracy: 0.8361\n",
      "Epoch 5/8\n",
      "473/473 [==============================] - 1s 2ms/step - loss: 0.2698 - accuracy: 0.8647\n",
      "Epoch 6/8\n",
      "473/473 [==============================] - 1s 3ms/step - loss: 0.2570 - accuracy: 0.9109\n",
      "Epoch 7/8\n",
      "473/473 [==============================] - 1s 2ms/step - loss: 0.2432 - accuracy: 0.9216\n",
      "Epoch 8/8\n",
      "473/473 [==============================] - 1s 2ms/step - loss: 0.2345 - accuracy: 0.9269\n",
      "Epoch 1/10\n"
     ]
    },
    {
     "name": "stderr",
     "output_type": "stream",
     "text": [
      "/Users/husni.zuhdi/Documents/Codes/1-Python-Workshop/retention-prediction-demo/retention-prediction/lib/python3.10/site-packages/tensorflow/python/keras/engine/sequential.py:454: UserWarning: `model.predict_classes()` is deprecated and will be removed after 2021-01-01. Please use instead:* `np.argmax(model.predict(x), axis=-1)`,   if your model does multi-class classification   (e.g. if it uses a `softmax` last-layer activation).* `(model.predict(x) > 0.5).astype(\"int32\")`,   if your model does binary classification   (e.g. if it uses a `sigmoid` last-layer activation).\n",
      "  warnings.warn('`model.predict_classes()` is deprecated and '\n"
     ]
    },
    {
     "name": "stdout",
     "output_type": "stream",
     "text": [
      "473/473 [==============================] - 1s 1ms/step - loss: 0.5084 - accuracy: 0.7877\n",
      "Epoch 2/10\n",
      "473/473 [==============================] - 1s 1ms/step - loss: 0.3184 - accuracy: 0.8694\n",
      "Epoch 3/10\n",
      "473/473 [==============================] - 1s 1ms/step - loss: 0.2648 - accuracy: 0.8990\n",
      "Epoch 4/10\n",
      "473/473 [==============================] - 1s 1ms/step - loss: 0.2377 - accuracy: 0.9164\n",
      "Epoch 5/10\n",
      "473/473 [==============================] - 1s 1ms/step - loss: 0.2180 - accuracy: 0.9260\n",
      "Epoch 6/10\n",
      "473/473 [==============================] - 1s 1ms/step - loss: 0.2114 - accuracy: 0.9289\n",
      "Epoch 7/10\n",
      "473/473 [==============================] - 1s 1ms/step - loss: 0.1985 - accuracy: 0.9340\n",
      "Epoch 8/10\n",
      "473/473 [==============================] - 1s 1ms/step - loss: 0.1961 - accuracy: 0.9337\n",
      "Epoch 9/10\n",
      "473/473 [==============================] - 1s 1ms/step - loss: 0.1909 - accuracy: 0.9372\n",
      "Epoch 10/10\n",
      "473/473 [==============================] - 1s 1ms/step - loss: 0.1907 - accuracy: 0.9388\n",
      "Epoch 1/10\n"
     ]
    },
    {
     "name": "stderr",
     "output_type": "stream",
     "text": [
      "/Users/husni.zuhdi/Documents/Codes/1-Python-Workshop/retention-prediction-demo/retention-prediction/lib/python3.10/site-packages/tensorflow/python/keras/engine/sequential.py:454: UserWarning: `model.predict_classes()` is deprecated and will be removed after 2021-01-01. Please use instead:* `np.argmax(model.predict(x), axis=-1)`,   if your model does multi-class classification   (e.g. if it uses a `softmax` last-layer activation).* `(model.predict(x) > 0.5).astype(\"int32\")`,   if your model does binary classification   (e.g. if it uses a `sigmoid` last-layer activation).\n",
      "  warnings.warn('`model.predict_classes()` is deprecated and '\n"
     ]
    },
    {
     "name": "stdout",
     "output_type": "stream",
     "text": [
      "473/473 [==============================] - 1s 1ms/step - loss: 0.5194 - accuracy: 0.7580\n",
      "Epoch 2/10\n",
      "473/473 [==============================] - 1s 1ms/step - loss: 0.3782 - accuracy: 0.7653\n",
      "Epoch 3/10\n",
      "473/473 [==============================] - 1s 1ms/step - loss: 0.3348 - accuracy: 0.8030\n",
      "Epoch 4/10\n",
      "473/473 [==============================] - 1s 1ms/step - loss: 0.3096 - accuracy: 0.8715\n",
      "Epoch 5/10\n",
      "473/473 [==============================] - 1s 2ms/step - loss: 0.2903 - accuracy: 0.8934\n",
      "Epoch 6/10\n",
      "473/473 [==============================] - 1s 2ms/step - loss: 0.2760 - accuracy: 0.9062\n",
      "Epoch 7/10\n",
      "473/473 [==============================] - 1s 2ms/step - loss: 0.2638 - accuracy: 0.9125\n",
      "Epoch 8/10\n",
      "473/473 [==============================] - 1s 2ms/step - loss: 0.2567 - accuracy: 0.9169\n",
      "Epoch 9/10\n",
      "473/473 [==============================] - 1s 1ms/step - loss: 0.2483 - accuracy: 0.9203\n",
      "Epoch 10/10\n",
      "473/473 [==============================] - 1s 1ms/step - loss: 0.2403 - accuracy: 0.9218\n",
      "Epoch 1/10\n"
     ]
    },
    {
     "name": "stderr",
     "output_type": "stream",
     "text": [
      "/Users/husni.zuhdi/Documents/Codes/1-Python-Workshop/retention-prediction-demo/retention-prediction/lib/python3.10/site-packages/tensorflow/python/keras/engine/sequential.py:454: UserWarning: `model.predict_classes()` is deprecated and will be removed after 2021-01-01. Please use instead:* `np.argmax(model.predict(x), axis=-1)`,   if your model does multi-class classification   (e.g. if it uses a `softmax` last-layer activation).* `(model.predict(x) > 0.5).astype(\"int32\")`,   if your model does binary classification   (e.g. if it uses a `sigmoid` last-layer activation).\n",
      "  warnings.warn('`model.predict_classes()` is deprecated and '\n"
     ]
    },
    {
     "name": "stdout",
     "output_type": "stream",
     "text": [
      "473/473 [==============================] - 1s 1ms/step - loss: 0.4994 - accuracy: 0.7860\n",
      "Epoch 2/10\n",
      "473/473 [==============================] - 1s 1ms/step - loss: 0.3085 - accuracy: 0.8787\n",
      "Epoch 3/10\n",
      "473/473 [==============================] - 0s 1ms/step - loss: 0.2442 - accuracy: 0.9134\n",
      "Epoch 4/10\n",
      "473/473 [==============================] - 1s 1ms/step - loss: 0.2165 - accuracy: 0.9234\n",
      "Epoch 5/10\n",
      "473/473 [==============================] - 1s 1ms/step - loss: 0.2032 - accuracy: 0.9294\n",
      "Epoch 6/10\n",
      "473/473 [==============================] - 1s 1ms/step - loss: 0.1975 - accuracy: 0.9333\n",
      "Epoch 7/10\n",
      "473/473 [==============================] - 0s 1ms/step - loss: 0.1934 - accuracy: 0.9335\n",
      "Epoch 8/10\n",
      "473/473 [==============================] - 0s 1ms/step - loss: 0.1928 - accuracy: 0.9340\n",
      "Epoch 9/10\n",
      "473/473 [==============================] - 1s 1ms/step - loss: 0.1884 - accuracy: 0.9367\n",
      "Epoch 10/10\n",
      "473/473 [==============================] - 0s 955us/step - loss: 0.1853 - accuracy: 0.9372\n",
      "Epoch 1/10\n"
     ]
    },
    {
     "name": "stderr",
     "output_type": "stream",
     "text": [
      "/Users/husni.zuhdi/Documents/Codes/1-Python-Workshop/retention-prediction-demo/retention-prediction/lib/python3.10/site-packages/tensorflow/python/keras/engine/sequential.py:454: UserWarning: `model.predict_classes()` is deprecated and will be removed after 2021-01-01. Please use instead:* `np.argmax(model.predict(x), axis=-1)`,   if your model does multi-class classification   (e.g. if it uses a `softmax` last-layer activation).* `(model.predict(x) > 0.5).astype(\"int32\")`,   if your model does binary classification   (e.g. if it uses a `sigmoid` last-layer activation).\n",
      "  warnings.warn('`model.predict_classes()` is deprecated and '\n"
     ]
    },
    {
     "name": "stdout",
     "output_type": "stream",
     "text": [
      "473/473 [==============================] - 1s 1ms/step - loss: 0.5097 - accuracy: 0.7860\n",
      "Epoch 2/10\n",
      "473/473 [==============================] - 0s 981us/step - loss: 0.3168 - accuracy: 0.8698\n",
      "Epoch 3/10\n",
      "473/473 [==============================] - 0s 1ms/step - loss: 0.2530 - accuracy: 0.9064\n",
      "Epoch 4/10\n",
      "473/473 [==============================] - 1s 1ms/step - loss: 0.2244 - accuracy: 0.9178\n",
      "Epoch 5/10\n",
      "473/473 [==============================] - 1s 1ms/step - loss: 0.2113 - accuracy: 0.9262\n",
      "Epoch 6/10\n",
      "473/473 [==============================] - 0s 984us/step - loss: 0.2013 - accuracy: 0.9293\n",
      "Epoch 7/10\n",
      "473/473 [==============================] - 1s 2ms/step - loss: 0.1922 - accuracy: 0.9351\n",
      "Epoch 8/10\n",
      "473/473 [==============================] - 1s 1ms/step - loss: 0.1908 - accuracy: 0.9353\n",
      "Epoch 9/10\n",
      "473/473 [==============================] - 1s 1ms/step - loss: 0.1892 - accuracy: 0.9358\n",
      "Epoch 10/10\n",
      "473/473 [==============================] - 1s 1ms/step - loss: 0.1892 - accuracy: 0.9347\n",
      "Epoch 1/10\n"
     ]
    },
    {
     "name": "stderr",
     "output_type": "stream",
     "text": [
      "/Users/husni.zuhdi/Documents/Codes/1-Python-Workshop/retention-prediction-demo/retention-prediction/lib/python3.10/site-packages/tensorflow/python/keras/engine/sequential.py:454: UserWarning: `model.predict_classes()` is deprecated and will be removed after 2021-01-01. Please use instead:* `np.argmax(model.predict(x), axis=-1)`,   if your model does multi-class classification   (e.g. if it uses a `softmax` last-layer activation).* `(model.predict(x) > 0.5).astype(\"int32\")`,   if your model does binary classification   (e.g. if it uses a `sigmoid` last-layer activation).\n",
      "  warnings.warn('`model.predict_classes()` is deprecated and '\n"
     ]
    },
    {
     "name": "stdout",
     "output_type": "stream",
     "text": [
      "473/473 [==============================] - 1s 2ms/step - loss: 0.4923 - accuracy: 0.7793\n",
      "Epoch 2/10\n",
      "473/473 [==============================] - 1s 1ms/step - loss: 0.3341 - accuracy: 0.8147\n",
      "Epoch 3/10\n",
      "473/473 [==============================] - 1s 1ms/step - loss: 0.2848 - accuracy: 0.8385\n",
      "Epoch 4/10\n",
      "473/473 [==============================] - 1s 1ms/step - loss: 0.2600 - accuracy: 0.8671\n",
      "Epoch 5/10\n",
      "473/473 [==============================] - 1s 1ms/step - loss: 0.2443 - accuracy: 0.9250\n",
      "Epoch 6/10\n",
      "473/473 [==============================] - 1s 1ms/step - loss: 0.2347 - accuracy: 0.9293\n",
      "Epoch 7/10\n",
      "473/473 [==============================] - 1s 1ms/step - loss: 0.2278 - accuracy: 0.9346\n",
      "Epoch 8/10\n",
      "473/473 [==============================] - 0s 1ms/step - loss: 0.2196 - accuracy: 0.9342\n",
      "Epoch 9/10\n",
      "473/473 [==============================] - 1s 1ms/step - loss: 0.2159 - accuracy: 0.9355\n",
      "Epoch 10/10\n",
      "473/473 [==============================] - 1s 2ms/step - loss: 0.2138 - accuracy: 0.9366\n"
     ]
    },
    {
     "name": "stderr",
     "output_type": "stream",
     "text": [
      "/Users/husni.zuhdi/Documents/Codes/1-Python-Workshop/retention-prediction-demo/retention-prediction/lib/python3.10/site-packages/tensorflow/python/keras/engine/sequential.py:454: UserWarning: `model.predict_classes()` is deprecated and will be removed after 2021-01-01. Please use instead:* `np.argmax(model.predict(x), axis=-1)`,   if your model does multi-class classification   (e.g. if it uses a `softmax` last-layer activation).* `(model.predict(x) > 0.5).astype(\"int32\")`,   if your model does binary classification   (e.g. if it uses a `sigmoid` last-layer activation).\n",
      "  warnings.warn('`model.predict_classes()` is deprecated and '\n"
     ]
    },
    {
     "name": "stdout",
     "output_type": "stream",
     "text": [
      "Epoch 1/10\n",
      "473/473 [==============================] - 1s 1ms/step - loss: 0.5118 - accuracy: 0.7745\n",
      "Epoch 2/10\n",
      "473/473 [==============================] - 1s 2ms/step - loss: 0.3456 - accuracy: 0.8072\n",
      "Epoch 3/10\n",
      "473/473 [==============================] - 1s 2ms/step - loss: 0.2947 - accuracy: 0.8315\n",
      "Epoch 4/10\n",
      "473/473 [==============================] - 1s 1ms/step - loss: 0.2657 - accuracy: 0.8602\n",
      "Epoch 5/10\n",
      "473/473 [==============================] - 1s 2ms/step - loss: 0.2451 - accuracy: 0.9210\n",
      "Epoch 6/10\n",
      "473/473 [==============================] - 1s 2ms/step - loss: 0.2386 - accuracy: 0.9263\n",
      "Epoch 7/10\n",
      "473/473 [==============================] - 1s 1ms/step - loss: 0.2285 - accuracy: 0.9326\n",
      "Epoch 8/10\n",
      "473/473 [==============================] - 1s 1ms/step - loss: 0.2235 - accuracy: 0.9331\n",
      "Epoch 9/10\n",
      "473/473 [==============================] - 1s 1ms/step - loss: 0.2187 - accuracy: 0.9344\n",
      "Epoch 10/10\n",
      "473/473 [==============================] - 1s 1ms/step - loss: 0.2174 - accuracy: 0.9332\n",
      "Epoch 1/10\n"
     ]
    },
    {
     "name": "stderr",
     "output_type": "stream",
     "text": [
      "/Users/husni.zuhdi/Documents/Codes/1-Python-Workshop/retention-prediction-demo/retention-prediction/lib/python3.10/site-packages/tensorflow/python/keras/engine/sequential.py:454: UserWarning: `model.predict_classes()` is deprecated and will be removed after 2021-01-01. Please use instead:* `np.argmax(model.predict(x), axis=-1)`,   if your model does multi-class classification   (e.g. if it uses a `softmax` last-layer activation).* `(model.predict(x) > 0.5).astype(\"int32\")`,   if your model does binary classification   (e.g. if it uses a `sigmoid` last-layer activation).\n",
      "  warnings.warn('`model.predict_classes()` is deprecated and '\n"
     ]
    },
    {
     "name": "stdout",
     "output_type": "stream",
     "text": [
      "473/473 [==============================] - 2s 2ms/step - loss: 0.5091 - accuracy: 0.7638\n",
      "Epoch 2/10\n",
      "473/473 [==============================] - 1s 1ms/step - loss: 0.3635 - accuracy: 0.8287\n",
      "Epoch 3/10\n",
      "473/473 [==============================] - 1s 1ms/step - loss: 0.3101 - accuracy: 0.8523\n",
      "Epoch 4/10\n",
      "473/473 [==============================] - 1s 2ms/step - loss: 0.2818 - accuracy: 0.8614\n",
      "Epoch 5/10\n",
      "473/473 [==============================] - 1s 2ms/step - loss: 0.2640 - accuracy: 0.8809\n",
      "Epoch 6/10\n",
      "473/473 [==============================] - 1s 1ms/step - loss: 0.2564 - accuracy: 0.8948\n",
      "Epoch 7/10\n",
      "473/473 [==============================] - 1s 1ms/step - loss: 0.2490 - accuracy: 0.9082\n",
      "Epoch 8/10\n",
      "473/473 [==============================] - 1s 1ms/step - loss: 0.2452 - accuracy: 0.9114\n",
      "Epoch 9/10\n",
      "473/473 [==============================] - 1s 1ms/step - loss: 0.2369 - accuracy: 0.9181\n",
      "Epoch 10/10\n",
      "473/473 [==============================] - 1s 1ms/step - loss: 0.2370 - accuracy: 0.9202\n",
      "Epoch 1/10\n"
     ]
    },
    {
     "name": "stderr",
     "output_type": "stream",
     "text": [
      "/Users/husni.zuhdi/Documents/Codes/1-Python-Workshop/retention-prediction-demo/retention-prediction/lib/python3.10/site-packages/tensorflow/python/keras/engine/sequential.py:454: UserWarning: `model.predict_classes()` is deprecated and will be removed after 2021-01-01. Please use instead:* `np.argmax(model.predict(x), axis=-1)`,   if your model does multi-class classification   (e.g. if it uses a `softmax` last-layer activation).* `(model.predict(x) > 0.5).astype(\"int32\")`,   if your model does binary classification   (e.g. if it uses a `sigmoid` last-layer activation).\n",
      "  warnings.warn('`model.predict_classes()` is deprecated and '\n"
     ]
    },
    {
     "name": "stdout",
     "output_type": "stream",
     "text": [
      "473/473 [==============================] - 1s 985us/step - loss: 0.5054 - accuracy: 0.7844\n",
      "Epoch 2/10\n",
      "473/473 [==============================] - 0s 1ms/step - loss: 0.3146 - accuracy: 0.8720\n",
      "Epoch 3/10\n",
      "473/473 [==============================] - 1s 1ms/step - loss: 0.2568 - accuracy: 0.9048\n",
      "Epoch 4/10\n",
      "473/473 [==============================] - 0s 978us/step - loss: 0.2240 - accuracy: 0.9185\n",
      "Epoch 5/10\n",
      "473/473 [==============================] - 0s 1ms/step - loss: 0.2129 - accuracy: 0.9259\n",
      "Epoch 6/10\n",
      "473/473 [==============================] - 1s 2ms/step - loss: 0.2026 - accuracy: 0.9303\n",
      "Epoch 7/10\n",
      "473/473 [==============================] - 1s 2ms/step - loss: 0.1964 - accuracy: 0.9321\n",
      "Epoch 8/10\n",
      "473/473 [==============================] - 1s 1ms/step - loss: 0.1895 - accuracy: 0.9353\n",
      "Epoch 9/10\n",
      "473/473 [==============================] - 1s 1ms/step - loss: 0.1894 - accuracy: 0.9377\n",
      "Epoch 10/10\n",
      "473/473 [==============================] - 1s 2ms/step - loss: 0.1831 - accuracy: 0.9395\n"
     ]
    },
    {
     "name": "stderr",
     "output_type": "stream",
     "text": [
      "/Users/husni.zuhdi/Documents/Codes/1-Python-Workshop/retention-prediction-demo/retention-prediction/lib/python3.10/site-packages/tensorflow/python/keras/engine/sequential.py:454: UserWarning: `model.predict_classes()` is deprecated and will be removed after 2021-01-01. Please use instead:* `np.argmax(model.predict(x), axis=-1)`,   if your model does multi-class classification   (e.g. if it uses a `softmax` last-layer activation).* `(model.predict(x) > 0.5).astype(\"int32\")`,   if your model does binary classification   (e.g. if it uses a `sigmoid` last-layer activation).\n",
      "  warnings.warn('`model.predict_classes()` is deprecated and '\n"
     ]
    },
    {
     "name": "stdout",
     "output_type": "stream",
     "text": [
      "Epoch 1/10\n",
      "473/473 [==============================] - 1s 983us/step - loss: 0.5118 - accuracy: 0.7814\n",
      "Epoch 2/10\n",
      "473/473 [==============================] - 0s 1ms/step - loss: 0.3078 - accuracy: 0.8800\n",
      "Epoch 3/10\n",
      "473/473 [==============================] - 0s 936us/step - loss: 0.2457 - accuracy: 0.9122\n",
      "Epoch 4/10\n",
      "473/473 [==============================] - 1s 1ms/step - loss: 0.2174 - accuracy: 0.9238\n",
      "Epoch 5/10\n",
      "473/473 [==============================] - 1s 2ms/step - loss: 0.1985 - accuracy: 0.9322\n",
      "Epoch 6/10\n",
      "473/473 [==============================] - 1s 2ms/step - loss: 0.1928 - accuracy: 0.9352\n",
      "Epoch 7/10\n",
      "473/473 [==============================] - 1s 2ms/step - loss: 0.1927 - accuracy: 0.9340\n",
      "Epoch 8/10\n",
      "473/473 [==============================] - 1s 1ms/step - loss: 0.1880 - accuracy: 0.9360\n",
      "Epoch 9/10\n",
      "473/473 [==============================] - 1s 1ms/step - loss: 0.1868 - accuracy: 0.9359\n",
      "Epoch 10/10\n",
      "473/473 [==============================] - 1s 1ms/step - loss: 0.1798 - accuracy: 0.9411\n",
      "Epoch 1/10\n"
     ]
    },
    {
     "name": "stderr",
     "output_type": "stream",
     "text": [
      "/Users/husni.zuhdi/Documents/Codes/1-Python-Workshop/retention-prediction-demo/retention-prediction/lib/python3.10/site-packages/tensorflow/python/keras/engine/sequential.py:454: UserWarning: `model.predict_classes()` is deprecated and will be removed after 2021-01-01. Please use instead:* `np.argmax(model.predict(x), axis=-1)`,   if your model does multi-class classification   (e.g. if it uses a `softmax` last-layer activation).* `(model.predict(x) > 0.5).astype(\"int32\")`,   if your model does binary classification   (e.g. if it uses a `sigmoid` last-layer activation).\n",
      "  warnings.warn('`model.predict_classes()` is deprecated and '\n"
     ]
    },
    {
     "name": "stdout",
     "output_type": "stream",
     "text": [
      "473/473 [==============================] - 1s 2ms/step - loss: 0.5045 - accuracy: 0.7621\n",
      "Epoch 2/10\n",
      "473/473 [==============================] - 1s 2ms/step - loss: 0.3739 - accuracy: 0.7633\n",
      "Epoch 3/10\n",
      "473/473 [==============================] - 0s 926us/step - loss: 0.3334 - accuracy: 0.8298\n",
      "Epoch 4/10\n",
      "473/473 [==============================] - 1s 1ms/step - loss: 0.3056 - accuracy: 0.8782\n",
      "Epoch 5/10\n",
      "473/473 [==============================] - 1s 2ms/step - loss: 0.2867 - accuracy: 0.9006\n",
      "Epoch 6/10\n",
      "473/473 [==============================] - 1s 2ms/step - loss: 0.2711 - accuracy: 0.9119\n",
      "Epoch 7/10\n",
      "473/473 [==============================] - 1s 1ms/step - loss: 0.2595 - accuracy: 0.9165\n",
      "Epoch 8/10\n",
      "473/473 [==============================] - 0s 1ms/step - loss: 0.2529 - accuracy: 0.9178\n",
      "Epoch 9/10\n",
      "473/473 [==============================] - 0s 1ms/step - loss: 0.2467 - accuracy: 0.9193\n",
      "Epoch 10/10\n",
      "473/473 [==============================] - 1s 1ms/step - loss: 0.2425 - accuracy: 0.9210\n"
     ]
    },
    {
     "name": "stderr",
     "output_type": "stream",
     "text": [
      "/Users/husni.zuhdi/Documents/Codes/1-Python-Workshop/retention-prediction-demo/retention-prediction/lib/python3.10/site-packages/tensorflow/python/keras/engine/sequential.py:454: UserWarning: `model.predict_classes()` is deprecated and will be removed after 2021-01-01. Please use instead:* `np.argmax(model.predict(x), axis=-1)`,   if your model does multi-class classification   (e.g. if it uses a `softmax` last-layer activation).* `(model.predict(x) > 0.5).astype(\"int32\")`,   if your model does binary classification   (e.g. if it uses a `sigmoid` last-layer activation).\n",
      "  warnings.warn('`model.predict_classes()` is deprecated and '\n"
     ]
    },
    {
     "name": "stdout",
     "output_type": "stream",
     "text": [
      "Epoch 1/10\n",
      "473/473 [==============================] - 1s 1ms/step - loss: 0.5317 - accuracy: 0.7663\n",
      "Epoch 2/10\n",
      "473/473 [==============================] - 1s 1ms/step - loss: 0.3507 - accuracy: 0.8468\n",
      "Epoch 3/10\n",
      "473/473 [==============================] - 1s 1ms/step - loss: 0.2812 - accuracy: 0.8894\n",
      "Epoch 4/10\n",
      "473/473 [==============================] - 1s 1ms/step - loss: 0.2399 - accuracy: 0.9097\n",
      "Epoch 5/10\n",
      "473/473 [==============================] - 1s 1ms/step - loss: 0.2205 - accuracy: 0.9201\n",
      "Epoch 6/10\n",
      "473/473 [==============================] - 1s 1ms/step - loss: 0.2110 - accuracy: 0.9235\n",
      "Epoch 7/10\n",
      "473/473 [==============================] - 1s 2ms/step - loss: 0.2072 - accuracy: 0.9272\n",
      "Epoch 8/10\n",
      "473/473 [==============================] - 1s 2ms/step - loss: 0.2006 - accuracy: 0.9288\n",
      "Epoch 9/10\n",
      "473/473 [==============================] - 1s 2ms/step - loss: 0.2010 - accuracy: 0.9274\n",
      "Epoch 10/10\n",
      "473/473 [==============================] - 1s 1ms/step - loss: 0.1993 - accuracy: 0.9291\n",
      "Epoch 1/10\n"
     ]
    },
    {
     "name": "stderr",
     "output_type": "stream",
     "text": [
      "/Users/husni.zuhdi/Documents/Codes/1-Python-Workshop/retention-prediction-demo/retention-prediction/lib/python3.10/site-packages/tensorflow/python/keras/engine/sequential.py:454: UserWarning: `model.predict_classes()` is deprecated and will be removed after 2021-01-01. Please use instead:* `np.argmax(model.predict(x), axis=-1)`,   if your model does multi-class classification   (e.g. if it uses a `softmax` last-layer activation).* `(model.predict(x) > 0.5).astype(\"int32\")`,   if your model does binary classification   (e.g. if it uses a `sigmoid` last-layer activation).\n",
      "  warnings.warn('`model.predict_classes()` is deprecated and '\n"
     ]
    },
    {
     "name": "stdout",
     "output_type": "stream",
     "text": [
      "473/473 [==============================] - 1s 1ms/step - loss: 0.5217 - accuracy: 0.7678\n",
      "Epoch 2/10\n",
      "473/473 [==============================] - 1s 1ms/step - loss: 0.3630 - accuracy: 0.8468\n",
      "Epoch 3/10\n",
      "473/473 [==============================] - 1s 1ms/step - loss: 0.2989 - accuracy: 0.8804\n",
      "Epoch 4/10\n",
      "473/473 [==============================] - 1s 1ms/step - loss: 0.2616 - accuracy: 0.9026\n",
      "Epoch 5/10\n",
      "473/473 [==============================] - 0s 1ms/step - loss: 0.2437 - accuracy: 0.9122\n",
      "Epoch 6/10\n",
      "473/473 [==============================] - 1s 1ms/step - loss: 0.2255 - accuracy: 0.9207\n",
      "Epoch 7/10\n",
      "473/473 [==============================] - 1s 1ms/step - loss: 0.2121 - accuracy: 0.9268\n",
      "Epoch 8/10\n",
      "473/473 [==============================] - 1s 1ms/step - loss: 0.2097 - accuracy: 0.9225\n",
      "Epoch 9/10\n",
      "473/473 [==============================] - 1s 2ms/step - loss: 0.1983 - accuracy: 0.9292\n",
      "Epoch 10/10\n",
      "473/473 [==============================] - 1s 1ms/step - loss: 0.1990 - accuracy: 0.9290\n",
      "Epoch 1/10\n"
     ]
    },
    {
     "name": "stderr",
     "output_type": "stream",
     "text": [
      "/Users/husni.zuhdi/Documents/Codes/1-Python-Workshop/retention-prediction-demo/retention-prediction/lib/python3.10/site-packages/tensorflow/python/keras/engine/sequential.py:454: UserWarning: `model.predict_classes()` is deprecated and will be removed after 2021-01-01. Please use instead:* `np.argmax(model.predict(x), axis=-1)`,   if your model does multi-class classification   (e.g. if it uses a `softmax` last-layer activation).* `(model.predict(x) > 0.5).astype(\"int32\")`,   if your model does binary classification   (e.g. if it uses a `sigmoid` last-layer activation).\n",
      "  warnings.warn('`model.predict_classes()` is deprecated and '\n"
     ]
    },
    {
     "name": "stdout",
     "output_type": "stream",
     "text": [
      "473/473 [==============================] - 1s 1ms/step - loss: 0.5205 - accuracy: 0.7792\n",
      "Epoch 2/10\n",
      "473/473 [==============================] - 1s 2ms/step - loss: 0.3577 - accuracy: 0.8113\n",
      "Epoch 3/10\n",
      "473/473 [==============================] - 1s 1ms/step - loss: 0.2988 - accuracy: 0.8375\n",
      "Epoch 4/10\n",
      "473/473 [==============================] - 1s 2ms/step - loss: 0.2634 - accuracy: 0.8484\n",
      "Epoch 5/10\n",
      "473/473 [==============================] - 1s 1ms/step - loss: 0.2488 - accuracy: 0.9017\n",
      "Epoch 6/10\n",
      "473/473 [==============================] - 1s 1ms/step - loss: 0.2307 - accuracy: 0.9316\n",
      "Epoch 7/10\n",
      "473/473 [==============================] - 1s 1ms/step - loss: 0.2247 - accuracy: 0.9336\n",
      "Epoch 8/10\n",
      "473/473 [==============================] - 1s 1ms/step - loss: 0.2174 - accuracy: 0.9369\n",
      "Epoch 9/10\n",
      "473/473 [==============================] - 1s 1ms/step - loss: 0.2149 - accuracy: 0.9384\n",
      "Epoch 10/10\n",
      "473/473 [==============================] - 1s 1ms/step - loss: 0.2088 - accuracy: 0.9401\n",
      "Epoch 1/10\n"
     ]
    },
    {
     "name": "stderr",
     "output_type": "stream",
     "text": [
      "/Users/husni.zuhdi/Documents/Codes/1-Python-Workshop/retention-prediction-demo/retention-prediction/lib/python3.10/site-packages/tensorflow/python/keras/engine/sequential.py:454: UserWarning: `model.predict_classes()` is deprecated and will be removed after 2021-01-01. Please use instead:* `np.argmax(model.predict(x), axis=-1)`,   if your model does multi-class classification   (e.g. if it uses a `softmax` last-layer activation).* `(model.predict(x) > 0.5).astype(\"int32\")`,   if your model does binary classification   (e.g. if it uses a `sigmoid` last-layer activation).\n",
      "  warnings.warn('`model.predict_classes()` is deprecated and '\n"
     ]
    },
    {
     "name": "stdout",
     "output_type": "stream",
     "text": [
      "473/473 [==============================] - 1s 1ms/step - loss: 0.5257 - accuracy: 0.7715\n",
      "Epoch 2/10\n",
      "473/473 [==============================] - 1s 1ms/step - loss: 0.3418 - accuracy: 0.8584\n",
      "Epoch 3/10\n",
      "473/473 [==============================] - 1s 1ms/step - loss: 0.2719 - accuracy: 0.8937\n",
      "Epoch 4/10\n",
      "473/473 [==============================] - 1s 1ms/step - loss: 0.2341 - accuracy: 0.9170\n",
      "Epoch 5/10\n",
      "473/473 [==============================] - 1s 1ms/step - loss: 0.2139 - accuracy: 0.9240\n",
      "Epoch 6/10\n",
      "473/473 [==============================] - 1s 1ms/step - loss: 0.2043 - accuracy: 0.9289\n",
      "Epoch 7/10\n",
      "473/473 [==============================] - 1s 2ms/step - loss: 0.1995 - accuracy: 0.9298\n",
      "Epoch 8/10\n",
      "473/473 [==============================] - 1s 1ms/step - loss: 0.1910 - accuracy: 0.9363\n",
      "Epoch 9/10\n",
      "473/473 [==============================] - 1s 1ms/step - loss: 0.1893 - accuracy: 0.9364\n",
      "Epoch 10/10\n",
      "473/473 [==============================] - 1s 1ms/step - loss: 0.1844 - accuracy: 0.9389\n",
      "Epoch 1/10\n"
     ]
    },
    {
     "name": "stderr",
     "output_type": "stream",
     "text": [
      "/Users/husni.zuhdi/Documents/Codes/1-Python-Workshop/retention-prediction-demo/retention-prediction/lib/python3.10/site-packages/tensorflow/python/keras/engine/sequential.py:454: UserWarning: `model.predict_classes()` is deprecated and will be removed after 2021-01-01. Please use instead:* `np.argmax(model.predict(x), axis=-1)`,   if your model does multi-class classification   (e.g. if it uses a `softmax` last-layer activation).* `(model.predict(x) > 0.5).astype(\"int32\")`,   if your model does binary classification   (e.g. if it uses a `sigmoid` last-layer activation).\n",
      "  warnings.warn('`model.predict_classes()` is deprecated and '\n"
     ]
    },
    {
     "name": "stdout",
     "output_type": "stream",
     "text": [
      "473/473 [==============================] - 1s 1ms/step - loss: 0.5173 - accuracy: 0.7676\n",
      "Epoch 2/10\n",
      "473/473 [==============================] - 1s 1ms/step - loss: 0.3459 - accuracy: 0.8452\n",
      "Epoch 3/10\n",
      "473/473 [==============================] - 1s 1ms/step - loss: 0.2742 - accuracy: 0.8950\n",
      "Epoch 4/10\n",
      "473/473 [==============================] - 1s 1ms/step - loss: 0.2356 - accuracy: 0.9126\n",
      "Epoch 5/10\n",
      "473/473 [==============================] - 1s 1ms/step - loss: 0.2111 - accuracy: 0.9223\n",
      "Epoch 6/10\n",
      "473/473 [==============================] - 1s 1ms/step - loss: 0.2035 - accuracy: 0.9235\n",
      "Epoch 7/10\n",
      "473/473 [==============================] - 1s 1ms/step - loss: 0.1993 - accuracy: 0.9255\n",
      "Epoch 8/10\n",
      "473/473 [==============================] - 1s 1ms/step - loss: 0.1979 - accuracy: 0.9289\n",
      "Epoch 9/10\n",
      "473/473 [==============================] - 1s 1ms/step - loss: 0.1979 - accuracy: 0.9280\n",
      "Epoch 10/10\n",
      "473/473 [==============================] - 1s 1ms/step - loss: 0.1933 - accuracy: 0.9302\n",
      "Epoch 1/10\n"
     ]
    },
    {
     "name": "stderr",
     "output_type": "stream",
     "text": [
      "/Users/husni.zuhdi/Documents/Codes/1-Python-Workshop/retention-prediction-demo/retention-prediction/lib/python3.10/site-packages/tensorflow/python/keras/engine/sequential.py:454: UserWarning: `model.predict_classes()` is deprecated and will be removed after 2021-01-01. Please use instead:* `np.argmax(model.predict(x), axis=-1)`,   if your model does multi-class classification   (e.g. if it uses a `softmax` last-layer activation).* `(model.predict(x) > 0.5).astype(\"int32\")`,   if your model does binary classification   (e.g. if it uses a `sigmoid` last-layer activation).\n",
      "  warnings.warn('`model.predict_classes()` is deprecated and '\n"
     ]
    },
    {
     "name": "stdout",
     "output_type": "stream",
     "text": [
      "473/473 [==============================] - 1s 1ms/step - loss: 0.5202 - accuracy: 0.7682\n",
      "Epoch 2/10\n",
      "473/473 [==============================] - 1s 1ms/step - loss: 0.3554 - accuracy: 0.8441\n",
      "Epoch 3/10\n",
      "473/473 [==============================] - 0s 1ms/step - loss: 0.2822 - accuracy: 0.8872\n",
      "Epoch 4/10\n",
      "473/473 [==============================] - 1s 1ms/step - loss: 0.2473 - accuracy: 0.9068\n",
      "Epoch 5/10\n",
      "473/473 [==============================] - 1s 1ms/step - loss: 0.2234 - accuracy: 0.9177\n",
      "Epoch 6/10\n",
      "473/473 [==============================] - 1s 1ms/step - loss: 0.2090 - accuracy: 0.9234\n",
      "Epoch 7/10\n",
      "473/473 [==============================] - 1s 2ms/step - loss: 0.2034 - accuracy: 0.9266\n",
      "Epoch 8/10\n",
      "473/473 [==============================] - 1s 1ms/step - loss: 0.1978 - accuracy: 0.9291\n",
      "Epoch 9/10\n",
      "473/473 [==============================] - 1s 2ms/step - loss: 0.2000 - accuracy: 0.9281\n",
      "Epoch 10/10\n",
      "473/473 [==============================] - 1s 1ms/step - loss: 0.1914 - accuracy: 0.9325\n",
      "Epoch 1/10\n"
     ]
    },
    {
     "name": "stderr",
     "output_type": "stream",
     "text": [
      "/Users/husni.zuhdi/Documents/Codes/1-Python-Workshop/retention-prediction-demo/retention-prediction/lib/python3.10/site-packages/tensorflow/python/keras/engine/sequential.py:454: UserWarning: `model.predict_classes()` is deprecated and will be removed after 2021-01-01. Please use instead:* `np.argmax(model.predict(x), axis=-1)`,   if your model does multi-class classification   (e.g. if it uses a `softmax` last-layer activation).* `(model.predict(x) > 0.5).astype(\"int32\")`,   if your model does binary classification   (e.g. if it uses a `sigmoid` last-layer activation).\n",
      "  warnings.warn('`model.predict_classes()` is deprecated and '\n"
     ]
    },
    {
     "name": "stdout",
     "output_type": "stream",
     "text": [
      "473/473 [==============================] - 1s 1ms/step - loss: 0.5336 - accuracy: 0.7597\n",
      "Epoch 2/10\n",
      "473/473 [==============================] - 1s 1ms/step - loss: 0.4009 - accuracy: 0.7622\n",
      "Epoch 3/10\n",
      "473/473 [==============================] - 1s 1ms/step - loss: 0.3541 - accuracy: 0.8044\n",
      "Epoch 4/10\n",
      "473/473 [==============================] - 1s 1ms/step - loss: 0.3245 - accuracy: 0.8654\n",
      "Epoch 5/10\n",
      "473/473 [==============================] - 1s 1ms/step - loss: 0.3043 - accuracy: 0.8853\n",
      "Epoch 6/10\n",
      "473/473 [==============================] - 1s 1ms/step - loss: 0.2864 - accuracy: 0.9019\n",
      "Epoch 7/10\n",
      "473/473 [==============================] - 1s 1ms/step - loss: 0.2760 - accuracy: 0.9086\n",
      "Epoch 8/10\n",
      "473/473 [==============================] - 1s 1ms/step - loss: 0.2645 - accuracy: 0.9114\n",
      "Epoch 9/10\n",
      "473/473 [==============================] - 0s 1ms/step - loss: 0.2596 - accuracy: 0.9128\n",
      "Epoch 10/10\n",
      "473/473 [==============================] - 1s 1ms/step - loss: 0.2536 - accuracy: 0.9148\n",
      "Epoch 1/10\n"
     ]
    },
    {
     "name": "stderr",
     "output_type": "stream",
     "text": [
      "/Users/husni.zuhdi/Documents/Codes/1-Python-Workshop/retention-prediction-demo/retention-prediction/lib/python3.10/site-packages/tensorflow/python/keras/engine/sequential.py:454: UserWarning: `model.predict_classes()` is deprecated and will be removed after 2021-01-01. Please use instead:* `np.argmax(model.predict(x), axis=-1)`,   if your model does multi-class classification   (e.g. if it uses a `softmax` last-layer activation).* `(model.predict(x) > 0.5).astype(\"int32\")`,   if your model does binary classification   (e.g. if it uses a `sigmoid` last-layer activation).\n",
      "  warnings.warn('`model.predict_classes()` is deprecated and '\n"
     ]
    },
    {
     "name": "stdout",
     "output_type": "stream",
     "text": [
      "473/473 [==============================] - 1s 1ms/step - loss: 0.5338 - accuracy: 0.7808\n",
      "Epoch 2/10\n",
      "473/473 [==============================] - 1s 1ms/step - loss: 0.3525 - accuracy: 0.8502\n",
      "Epoch 3/10\n",
      "473/473 [==============================] - 1s 1ms/step - loss: 0.2834 - accuracy: 0.8962\n",
      "Epoch 4/10\n",
      "473/473 [==============================] - 1s 1ms/step - loss: 0.2474 - accuracy: 0.9133\n",
      "Epoch 5/10\n",
      "473/473 [==============================] - 1s 1ms/step - loss: 0.2247 - accuracy: 0.9216\n",
      "Epoch 6/10\n",
      "473/473 [==============================] - 1s 2ms/step - loss: 0.2136 - accuracy: 0.9244\n",
      "Epoch 7/10\n",
      "473/473 [==============================] - 1s 2ms/step - loss: 0.2037 - accuracy: 0.9309\n",
      "Epoch 8/10\n",
      "473/473 [==============================] - 1s 1ms/step - loss: 0.2013 - accuracy: 0.9312\n",
      "Epoch 9/10\n",
      "473/473 [==============================] - 1s 2ms/step - loss: 0.1954 - accuracy: 0.9353\n",
      "Epoch 10/10\n",
      "473/473 [==============================] - 1s 2ms/step - loss: 0.1926 - accuracy: 0.9346\n",
      "Epoch 1/10\n"
     ]
    },
    {
     "name": "stderr",
     "output_type": "stream",
     "text": [
      "/Users/husni.zuhdi/Documents/Codes/1-Python-Workshop/retention-prediction-demo/retention-prediction/lib/python3.10/site-packages/tensorflow/python/keras/engine/sequential.py:454: UserWarning: `model.predict_classes()` is deprecated and will be removed after 2021-01-01. Please use instead:* `np.argmax(model.predict(x), axis=-1)`,   if your model does multi-class classification   (e.g. if it uses a `softmax` last-layer activation).* `(model.predict(x) > 0.5).astype(\"int32\")`,   if your model does binary classification   (e.g. if it uses a `sigmoid` last-layer activation).\n",
      "  warnings.warn('`model.predict_classes()` is deprecated and '\n"
     ]
    },
    {
     "name": "stdout",
     "output_type": "stream",
     "text": [
      "473/473 [==============================] - 1s 1ms/step - loss: 0.5148 - accuracy: 0.7702\n",
      "Epoch 2/10\n",
      "473/473 [==============================] - 0s 949us/step - loss: 0.3586 - accuracy: 0.8034\n",
      "Epoch 3/10\n",
      "473/473 [==============================] - 1s 1ms/step - loss: 0.3025 - accuracy: 0.8268\n",
      "Epoch 4/10\n",
      "473/473 [==============================] - 0s 968us/step - loss: 0.2738 - accuracy: 0.8677\n",
      "Epoch 5/10\n",
      "473/473 [==============================] - 1s 1ms/step - loss: 0.2536 - accuracy: 0.9158\n",
      "Epoch 6/10\n",
      "473/473 [==============================] - 1s 2ms/step - loss: 0.2405 - accuracy: 0.9235\n",
      "Epoch 7/10\n",
      "473/473 [==============================] - 1s 1ms/step - loss: 0.2361 - accuracy: 0.9275\n",
      "Epoch 8/10\n",
      "473/473 [==============================] - 1s 1ms/step - loss: 0.2248 - accuracy: 0.9286\n",
      "Epoch 9/10\n",
      "473/473 [==============================] - 1s 1ms/step - loss: 0.2184 - accuracy: 0.9320\n",
      "Epoch 10/10\n",
      "473/473 [==============================] - 1s 1ms/step - loss: 0.2163 - accuracy: 0.9318\n",
      "Epoch 1/10\n"
     ]
    },
    {
     "name": "stderr",
     "output_type": "stream",
     "text": [
      "/Users/husni.zuhdi/Documents/Codes/1-Python-Workshop/retention-prediction-demo/retention-prediction/lib/python3.10/site-packages/tensorflow/python/keras/engine/sequential.py:454: UserWarning: `model.predict_classes()` is deprecated and will be removed after 2021-01-01. Please use instead:* `np.argmax(model.predict(x), axis=-1)`,   if your model does multi-class classification   (e.g. if it uses a `softmax` last-layer activation).* `(model.predict(x) > 0.5).astype(\"int32\")`,   if your model does binary classification   (e.g. if it uses a `sigmoid` last-layer activation).\n",
      "  warnings.warn('`model.predict_classes()` is deprecated and '\n"
     ]
    },
    {
     "name": "stdout",
     "output_type": "stream",
     "text": [
      "473/473 [==============================] - 1s 1ms/step - loss: 0.5197 - accuracy: 0.7687\n",
      "Epoch 2/10\n",
      "473/473 [==============================] - 1s 1ms/step - loss: 0.3544 - accuracy: 0.8414\n",
      "Epoch 3/10\n",
      "473/473 [==============================] - 1s 2ms/step - loss: 0.2817 - accuracy: 0.8870\n",
      "Epoch 4/10\n",
      "473/473 [==============================] - 1s 2ms/step - loss: 0.2458 - accuracy: 0.9051\n",
      "Epoch 5/10\n",
      "473/473 [==============================] - 1s 2ms/step - loss: 0.2201 - accuracy: 0.9207\n",
      "Epoch 6/10\n",
      "473/473 [==============================] - 0s 1ms/step - loss: 0.2105 - accuracy: 0.9223\n",
      "Epoch 7/10\n",
      "473/473 [==============================] - 1s 1ms/step - loss: 0.2071 - accuracy: 0.9255\n",
      "Epoch 8/10\n",
      "473/473 [==============================] - 0s 944us/step - loss: 0.2054 - accuracy: 0.9280\n",
      "Epoch 9/10\n",
      "473/473 [==============================] - 0s 983us/step - loss: 0.1967 - accuracy: 0.9299\n",
      "Epoch 10/10\n",
      "473/473 [==============================] - 0s 986us/step - loss: 0.1956 - accuracy: 0.9294\n",
      "Epoch 1/2\n"
     ]
    },
    {
     "name": "stderr",
     "output_type": "stream",
     "text": [
      "/Users/husni.zuhdi/Documents/Codes/1-Python-Workshop/retention-prediction-demo/retention-prediction/lib/python3.10/site-packages/tensorflow/python/keras/engine/sequential.py:454: UserWarning: `model.predict_classes()` is deprecated and will be removed after 2021-01-01. Please use instead:* `np.argmax(model.predict(x), axis=-1)`,   if your model does multi-class classification   (e.g. if it uses a `softmax` last-layer activation).* `(model.predict(x) > 0.5).astype(\"int32\")`,   if your model does binary classification   (e.g. if it uses a `sigmoid` last-layer activation).\n",
      "  warnings.warn('`model.predict_classes()` is deprecated and '\n"
     ]
    },
    {
     "name": "stdout",
     "output_type": "stream",
     "text": [
      "315/315 [==============================] - 1s 1ms/step - loss: 0.5397 - accuracy: 0.7624\n",
      "Epoch 2/2\n",
      "315/315 [==============================] - 0s 1ms/step - loss: 0.3953 - accuracy: 0.7633\n",
      "Epoch 1/2\n"
     ]
    },
    {
     "name": "stderr",
     "output_type": "stream",
     "text": [
      "/Users/husni.zuhdi/Documents/Codes/1-Python-Workshop/retention-prediction-demo/retention-prediction/lib/python3.10/site-packages/tensorflow/python/keras/engine/sequential.py:454: UserWarning: `model.predict_classes()` is deprecated and will be removed after 2021-01-01. Please use instead:* `np.argmax(model.predict(x), axis=-1)`,   if your model does multi-class classification   (e.g. if it uses a `softmax` last-layer activation).* `(model.predict(x) > 0.5).astype(\"int32\")`,   if your model does binary classification   (e.g. if it uses a `sigmoid` last-layer activation).\n",
      "  warnings.warn('`model.predict_classes()` is deprecated and '\n"
     ]
    },
    {
     "name": "stdout",
     "output_type": "stream",
     "text": [
      "315/315 [==============================] - 1s 1ms/step - loss: 0.5399 - accuracy: 0.7691\n",
      "Epoch 2/2\n",
      "315/315 [==============================] - 0s 990us/step - loss: 0.3600 - accuracy: 0.8375\n",
      "Epoch 1/2\n"
     ]
    },
    {
     "name": "stderr",
     "output_type": "stream",
     "text": [
      "/Users/husni.zuhdi/Documents/Codes/1-Python-Workshop/retention-prediction-demo/retention-prediction/lib/python3.10/site-packages/tensorflow/python/keras/engine/sequential.py:454: UserWarning: `model.predict_classes()` is deprecated and will be removed after 2021-01-01. Please use instead:* `np.argmax(model.predict(x), axis=-1)`,   if your model does multi-class classification   (e.g. if it uses a `softmax` last-layer activation).* `(model.predict(x) > 0.5).astype(\"int32\")`,   if your model does binary classification   (e.g. if it uses a `sigmoid` last-layer activation).\n",
      "  warnings.warn('`model.predict_classes()` is deprecated and '\n"
     ]
    },
    {
     "name": "stdout",
     "output_type": "stream",
     "text": [
      "315/315 [==============================] - 1s 876us/step - loss: 0.5435 - accuracy: 0.7611\n",
      "Epoch 2/2\n",
      "315/315 [==============================] - 0s 930us/step - loss: 0.3899 - accuracy: 0.8052\n",
      "Epoch 1/2\n"
     ]
    },
    {
     "name": "stderr",
     "output_type": "stream",
     "text": [
      "/Users/husni.zuhdi/Documents/Codes/1-Python-Workshop/retention-prediction-demo/retention-prediction/lib/python3.10/site-packages/tensorflow/python/keras/engine/sequential.py:454: UserWarning: `model.predict_classes()` is deprecated and will be removed after 2021-01-01. Please use instead:* `np.argmax(model.predict(x), axis=-1)`,   if your model does multi-class classification   (e.g. if it uses a `softmax` last-layer activation).* `(model.predict(x) > 0.5).astype(\"int32\")`,   if your model does binary classification   (e.g. if it uses a `sigmoid` last-layer activation).\n",
      "  warnings.warn('`model.predict_classes()` is deprecated and '\n"
     ]
    },
    {
     "name": "stdout",
     "output_type": "stream",
     "text": [
      "315/315 [==============================] - 1s 966us/step - loss: 0.5445 - accuracy: 0.7682\n",
      "Epoch 2/2\n",
      "315/315 [==============================] - 0s 995us/step - loss: 0.3787 - accuracy: 0.7975\n",
      "Epoch 1/2\n"
     ]
    },
    {
     "name": "stderr",
     "output_type": "stream",
     "text": [
      "/Users/husni.zuhdi/Documents/Codes/1-Python-Workshop/retention-prediction-demo/retention-prediction/lib/python3.10/site-packages/tensorflow/python/keras/engine/sequential.py:454: UserWarning: `model.predict_classes()` is deprecated and will be removed after 2021-01-01. Please use instead:* `np.argmax(model.predict(x), axis=-1)`,   if your model does multi-class classification   (e.g. if it uses a `softmax` last-layer activation).* `(model.predict(x) > 0.5).astype(\"int32\")`,   if your model does binary classification   (e.g. if it uses a `sigmoid` last-layer activation).\n",
      "  warnings.warn('`model.predict_classes()` is deprecated and '\n"
     ]
    },
    {
     "name": "stdout",
     "output_type": "stream",
     "text": [
      "315/315 [==============================] - 1s 1ms/step - loss: 0.5337 - accuracy: 0.7648\n",
      "Epoch 2/2\n",
      "315/315 [==============================] - 0s 1ms/step - loss: 0.3917 - accuracy: 0.7651\n",
      "Epoch 1/2\n"
     ]
    },
    {
     "name": "stderr",
     "output_type": "stream",
     "text": [
      "/Users/husni.zuhdi/Documents/Codes/1-Python-Workshop/retention-prediction-demo/retention-prediction/lib/python3.10/site-packages/tensorflow/python/keras/engine/sequential.py:454: UserWarning: `model.predict_classes()` is deprecated and will be removed after 2021-01-01. Please use instead:* `np.argmax(model.predict(x), axis=-1)`,   if your model does multi-class classification   (e.g. if it uses a `softmax` last-layer activation).* `(model.predict(x) > 0.5).astype(\"int32\")`,   if your model does binary classification   (e.g. if it uses a `sigmoid` last-layer activation).\n",
      "  warnings.warn('`model.predict_classes()` is deprecated and '\n"
     ]
    },
    {
     "name": "stdout",
     "output_type": "stream",
     "text": [
      "315/315 [==============================] - 1s 1ms/step - loss: 0.5588 - accuracy: 0.7679\n",
      "Epoch 2/2\n",
      "315/315 [==============================] - 0s 1ms/step - loss: 0.3778 - accuracy: 0.8187\n",
      "Epoch 1/2\n"
     ]
    },
    {
     "name": "stderr",
     "output_type": "stream",
     "text": [
      "/Users/husni.zuhdi/Documents/Codes/1-Python-Workshop/retention-prediction-demo/retention-prediction/lib/python3.10/site-packages/tensorflow/python/keras/engine/sequential.py:454: UserWarning: `model.predict_classes()` is deprecated and will be removed after 2021-01-01. Please use instead:* `np.argmax(model.predict(x), axis=-1)`,   if your model does multi-class classification   (e.g. if it uses a `softmax` last-layer activation).* `(model.predict(x) > 0.5).astype(\"int32\")`,   if your model does binary classification   (e.g. if it uses a `sigmoid` last-layer activation).\n",
      "  warnings.warn('`model.predict_classes()` is deprecated and '\n"
     ]
    },
    {
     "name": "stdout",
     "output_type": "stream",
     "text": [
      "315/315 [==============================] - 1s 1ms/step - loss: 0.5469 - accuracy: 0.7599\n",
      "Epoch 2/2\n",
      "315/315 [==============================] - 0s 887us/step - loss: 0.3919 - accuracy: 0.7622\n",
      "Epoch 1/2\n"
     ]
    },
    {
     "name": "stderr",
     "output_type": "stream",
     "text": [
      "/Users/husni.zuhdi/Documents/Codes/1-Python-Workshop/retention-prediction-demo/retention-prediction/lib/python3.10/site-packages/tensorflow/python/keras/engine/sequential.py:454: UserWarning: `model.predict_classes()` is deprecated and will be removed after 2021-01-01. Please use instead:* `np.argmax(model.predict(x), axis=-1)`,   if your model does multi-class classification   (e.g. if it uses a `softmax` last-layer activation).* `(model.predict(x) > 0.5).astype(\"int32\")`,   if your model does binary classification   (e.g. if it uses a `sigmoid` last-layer activation).\n",
      "  warnings.warn('`model.predict_classes()` is deprecated and '\n"
     ]
    },
    {
     "name": "stdout",
     "output_type": "stream",
     "text": [
      "315/315 [==============================] - 1s 940us/step - loss: 0.5468 - accuracy: 0.7679\n",
      "Epoch 2/2\n",
      "315/315 [==============================] - 0s 995us/step - loss: 0.3736 - accuracy: 0.8010\n",
      "Epoch 1/2\n"
     ]
    },
    {
     "name": "stderr",
     "output_type": "stream",
     "text": [
      "/Users/husni.zuhdi/Documents/Codes/1-Python-Workshop/retention-prediction-demo/retention-prediction/lib/python3.10/site-packages/tensorflow/python/keras/engine/sequential.py:454: UserWarning: `model.predict_classes()` is deprecated and will be removed after 2021-01-01. Please use instead:* `np.argmax(model.predict(x), axis=-1)`,   if your model does multi-class classification   (e.g. if it uses a `softmax` last-layer activation).* `(model.predict(x) > 0.5).astype(\"int32\")`,   if your model does binary classification   (e.g. if it uses a `sigmoid` last-layer activation).\n",
      "  warnings.warn('`model.predict_classes()` is deprecated and '\n"
     ]
    },
    {
     "name": "stdout",
     "output_type": "stream",
     "text": [
      "315/315 [==============================] - 1s 893us/step - loss: 0.5404 - accuracy: 0.7634\n",
      "Epoch 2/2\n",
      "315/315 [==============================] - 0s 951us/step - loss: 0.3794 - accuracy: 0.8061\n",
      "Epoch 1/2\n"
     ]
    },
    {
     "name": "stderr",
     "output_type": "stream",
     "text": [
      "/Users/husni.zuhdi/Documents/Codes/1-Python-Workshop/retention-prediction-demo/retention-prediction/lib/python3.10/site-packages/tensorflow/python/keras/engine/sequential.py:454: UserWarning: `model.predict_classes()` is deprecated and will be removed after 2021-01-01. Please use instead:* `np.argmax(model.predict(x), axis=-1)`,   if your model does multi-class classification   (e.g. if it uses a `softmax` last-layer activation).* `(model.predict(x) > 0.5).astype(\"int32\")`,   if your model does binary classification   (e.g. if it uses a `sigmoid` last-layer activation).\n",
      "  warnings.warn('`model.predict_classes()` is deprecated and '\n"
     ]
    },
    {
     "name": "stdout",
     "output_type": "stream",
     "text": [
      "315/315 [==============================] - 1s 1ms/step - loss: 0.5419 - accuracy: 0.7622\n",
      "Epoch 2/2\n",
      "315/315 [==============================] - 0s 1ms/step - loss: 0.3842 - accuracy: 0.8094\n",
      "Epoch 1/2\n"
     ]
    },
    {
     "name": "stderr",
     "output_type": "stream",
     "text": [
      "/Users/husni.zuhdi/Documents/Codes/1-Python-Workshop/retention-prediction-demo/retention-prediction/lib/python3.10/site-packages/tensorflow/python/keras/engine/sequential.py:454: UserWarning: `model.predict_classes()` is deprecated and will be removed after 2021-01-01. Please use instead:* `np.argmax(model.predict(x), axis=-1)`,   if your model does multi-class classification   (e.g. if it uses a `softmax` last-layer activation).* `(model.predict(x) > 0.5).astype(\"int32\")`,   if your model does binary classification   (e.g. if it uses a `sigmoid` last-layer activation).\n",
      "  warnings.warn('`model.predict_classes()` is deprecated and '\n"
     ]
    },
    {
     "name": "stdout",
     "output_type": "stream",
     "text": [
      "315/315 [==============================] - 1s 879us/step - loss: 0.5586 - accuracy: 0.7610\n",
      "Epoch 2/2\n",
      "315/315 [==============================] - 0s 841us/step - loss: 0.3995 - accuracy: 0.7969\n",
      "Epoch 1/2\n"
     ]
    },
    {
     "name": "stderr",
     "output_type": "stream",
     "text": [
      "/Users/husni.zuhdi/Documents/Codes/1-Python-Workshop/retention-prediction-demo/retention-prediction/lib/python3.10/site-packages/tensorflow/python/keras/engine/sequential.py:454: UserWarning: `model.predict_classes()` is deprecated and will be removed after 2021-01-01. Please use instead:* `np.argmax(model.predict(x), axis=-1)`,   if your model does multi-class classification   (e.g. if it uses a `softmax` last-layer activation).* `(model.predict(x) > 0.5).astype(\"int32\")`,   if your model does binary classification   (e.g. if it uses a `sigmoid` last-layer activation).\n",
      "  warnings.warn('`model.predict_classes()` is deprecated and '\n"
     ]
    },
    {
     "name": "stdout",
     "output_type": "stream",
     "text": [
      "315/315 [==============================] - 1s 874us/step - loss: 0.5570 - accuracy: 0.7635\n",
      "Epoch 2/2\n",
      "315/315 [==============================] - 0s 881us/step - loss: 0.3958 - accuracy: 0.7970\n",
      "Epoch 1/2\n"
     ]
    },
    {
     "name": "stderr",
     "output_type": "stream",
     "text": [
      "/Users/husni.zuhdi/Documents/Codes/1-Python-Workshop/retention-prediction-demo/retention-prediction/lib/python3.10/site-packages/tensorflow/python/keras/engine/sequential.py:454: UserWarning: `model.predict_classes()` is deprecated and will be removed after 2021-01-01. Please use instead:* `np.argmax(model.predict(x), axis=-1)`,   if your model does multi-class classification   (e.g. if it uses a `softmax` last-layer activation).* `(model.predict(x) > 0.5).astype(\"int32\")`,   if your model does binary classification   (e.g. if it uses a `sigmoid` last-layer activation).\n",
      "  warnings.warn('`model.predict_classes()` is deprecated and '\n"
     ]
    },
    {
     "name": "stdout",
     "output_type": "stream",
     "text": [
      "315/315 [==============================] - 1s 860us/step - loss: 0.5609 - accuracy: 0.7616\n",
      "Epoch 2/2\n",
      "315/315 [==============================] - 0s 1ms/step - loss: 0.3965 - accuracy: 0.7967\n",
      "Epoch 1/2\n"
     ]
    },
    {
     "name": "stderr",
     "output_type": "stream",
     "text": [
      "/Users/husni.zuhdi/Documents/Codes/1-Python-Workshop/retention-prediction-demo/retention-prediction/lib/python3.10/site-packages/tensorflow/python/keras/engine/sequential.py:454: UserWarning: `model.predict_classes()` is deprecated and will be removed after 2021-01-01. Please use instead:* `np.argmax(model.predict(x), axis=-1)`,   if your model does multi-class classification   (e.g. if it uses a `softmax` last-layer activation).* `(model.predict(x) > 0.5).astype(\"int32\")`,   if your model does binary classification   (e.g. if it uses a `sigmoid` last-layer activation).\n",
      "  warnings.warn('`model.predict_classes()` is deprecated and '\n"
     ]
    },
    {
     "name": "stdout",
     "output_type": "stream",
     "text": [
      "315/315 [==============================] - 1s 2ms/step - loss: 0.5856 - accuracy: 0.7649\n",
      "Epoch 2/2\n",
      "315/315 [==============================] - 0s 1ms/step - loss: 0.3995 - accuracy: 0.8340\n",
      "Epoch 1/2\n"
     ]
    },
    {
     "name": "stderr",
     "output_type": "stream",
     "text": [
      "/Users/husni.zuhdi/Documents/Codes/1-Python-Workshop/retention-prediction-demo/retention-prediction/lib/python3.10/site-packages/tensorflow/python/keras/engine/sequential.py:454: UserWarning: `model.predict_classes()` is deprecated and will be removed after 2021-01-01. Please use instead:* `np.argmax(model.predict(x), axis=-1)`,   if your model does multi-class classification   (e.g. if it uses a `softmax` last-layer activation).* `(model.predict(x) > 0.5).astype(\"int32\")`,   if your model does binary classification   (e.g. if it uses a `sigmoid` last-layer activation).\n",
      "  warnings.warn('`model.predict_classes()` is deprecated and '\n"
     ]
    },
    {
     "name": "stdout",
     "output_type": "stream",
     "text": [
      "315/315 [==============================] - 1s 1ms/step - loss: 0.5628 - accuracy: 0.7620\n",
      "Epoch 2/2\n",
      "315/315 [==============================] - 0s 1ms/step - loss: 0.3909 - accuracy: 0.8082\n",
      "Epoch 1/2\n"
     ]
    },
    {
     "name": "stderr",
     "output_type": "stream",
     "text": [
      "/Users/husni.zuhdi/Documents/Codes/1-Python-Workshop/retention-prediction-demo/retention-prediction/lib/python3.10/site-packages/tensorflow/python/keras/engine/sequential.py:454: UserWarning: `model.predict_classes()` is deprecated and will be removed after 2021-01-01. Please use instead:* `np.argmax(model.predict(x), axis=-1)`,   if your model does multi-class classification   (e.g. if it uses a `softmax` last-layer activation).* `(model.predict(x) > 0.5).astype(\"int32\")`,   if your model does binary classification   (e.g. if it uses a `sigmoid` last-layer activation).\n",
      "  warnings.warn('`model.predict_classes()` is deprecated and '\n"
     ]
    },
    {
     "name": "stdout",
     "output_type": "stream",
     "text": [
      "315/315 [==============================] - 1s 1ms/step - loss: 0.5499 - accuracy: 0.7622\n",
      "Epoch 2/2\n",
      "315/315 [==============================] - 0s 994us/step - loss: 0.3999 - accuracy: 0.7941\n",
      "Epoch 1/2\n"
     ]
    },
    {
     "name": "stderr",
     "output_type": "stream",
     "text": [
      "/Users/husni.zuhdi/Documents/Codes/1-Python-Workshop/retention-prediction-demo/retention-prediction/lib/python3.10/site-packages/tensorflow/python/keras/engine/sequential.py:454: UserWarning: `model.predict_classes()` is deprecated and will be removed after 2021-01-01. Please use instead:* `np.argmax(model.predict(x), axis=-1)`,   if your model does multi-class classification   (e.g. if it uses a `softmax` last-layer activation).* `(model.predict(x) > 0.5).astype(\"int32\")`,   if your model does binary classification   (e.g. if it uses a `sigmoid` last-layer activation).\n",
      "  warnings.warn('`model.predict_classes()` is deprecated and '\n"
     ]
    },
    {
     "name": "stdout",
     "output_type": "stream",
     "text": [
      "315/315 [==============================] - 1s 1ms/step - loss: 0.5644 - accuracy: 0.7617\n",
      "Epoch 2/2\n",
      "315/315 [==============================] - 0s 1ms/step - loss: 0.3976 - accuracy: 0.8062\n",
      "Epoch 1/2\n"
     ]
    },
    {
     "name": "stderr",
     "output_type": "stream",
     "text": [
      "/Users/husni.zuhdi/Documents/Codes/1-Python-Workshop/retention-prediction-demo/retention-prediction/lib/python3.10/site-packages/tensorflow/python/keras/engine/sequential.py:454: UserWarning: `model.predict_classes()` is deprecated and will be removed after 2021-01-01. Please use instead:* `np.argmax(model.predict(x), axis=-1)`,   if your model does multi-class classification   (e.g. if it uses a `softmax` last-layer activation).* `(model.predict(x) > 0.5).astype(\"int32\")`,   if your model does binary classification   (e.g. if it uses a `sigmoid` last-layer activation).\n",
      "  warnings.warn('`model.predict_classes()` is deprecated and '\n"
     ]
    },
    {
     "name": "stdout",
     "output_type": "stream",
     "text": [
      "315/315 [==============================] - 1s 1ms/step - loss: 0.5636 - accuracy: 0.7594\n",
      "Epoch 2/2\n",
      "315/315 [==============================] - 0s 1ms/step - loss: 0.4009 - accuracy: 0.7939\n",
      "Epoch 1/2\n"
     ]
    },
    {
     "name": "stderr",
     "output_type": "stream",
     "text": [
      "/Users/husni.zuhdi/Documents/Codes/1-Python-Workshop/retention-prediction-demo/retention-prediction/lib/python3.10/site-packages/tensorflow/python/keras/engine/sequential.py:454: UserWarning: `model.predict_classes()` is deprecated and will be removed after 2021-01-01. Please use instead:* `np.argmax(model.predict(x), axis=-1)`,   if your model does multi-class classification   (e.g. if it uses a `softmax` last-layer activation).* `(model.predict(x) > 0.5).astype(\"int32\")`,   if your model does binary classification   (e.g. if it uses a `sigmoid` last-layer activation).\n",
      "  warnings.warn('`model.predict_classes()` is deprecated and '\n"
     ]
    },
    {
     "name": "stdout",
     "output_type": "stream",
     "text": [
      "315/315 [==============================] - 1s 1ms/step - loss: 0.5700 - accuracy: 0.7637\n",
      "Epoch 2/2\n",
      "315/315 [==============================] - 1s 2ms/step - loss: 0.4018 - accuracy: 0.8028\n",
      "Epoch 1/2\n"
     ]
    },
    {
     "name": "stderr",
     "output_type": "stream",
     "text": [
      "/Users/husni.zuhdi/Documents/Codes/1-Python-Workshop/retention-prediction-demo/retention-prediction/lib/python3.10/site-packages/tensorflow/python/keras/engine/sequential.py:454: UserWarning: `model.predict_classes()` is deprecated and will be removed after 2021-01-01. Please use instead:* `np.argmax(model.predict(x), axis=-1)`,   if your model does multi-class classification   (e.g. if it uses a `softmax` last-layer activation).* `(model.predict(x) > 0.5).astype(\"int32\")`,   if your model does binary classification   (e.g. if it uses a `sigmoid` last-layer activation).\n",
      "  warnings.warn('`model.predict_classes()` is deprecated and '\n"
     ]
    },
    {
     "name": "stdout",
     "output_type": "stream",
     "text": [
      "315/315 [==============================] - 1s 880us/step - loss: 0.5700 - accuracy: 0.7697\n",
      "Epoch 2/2\n",
      "315/315 [==============================] - 0s 797us/step - loss: 0.3824 - accuracy: 0.8317\n",
      "Epoch 1/4\n"
     ]
    },
    {
     "name": "stderr",
     "output_type": "stream",
     "text": [
      "/Users/husni.zuhdi/Documents/Codes/1-Python-Workshop/retention-prediction-demo/retention-prediction/lib/python3.10/site-packages/tensorflow/python/keras/engine/sequential.py:454: UserWarning: `model.predict_classes()` is deprecated and will be removed after 2021-01-01. Please use instead:* `np.argmax(model.predict(x), axis=-1)`,   if your model does multi-class classification   (e.g. if it uses a `softmax` last-layer activation).* `(model.predict(x) > 0.5).astype(\"int32\")`,   if your model does binary classification   (e.g. if it uses a `sigmoid` last-layer activation).\n",
      "  warnings.warn('`model.predict_classes()` is deprecated and '\n"
     ]
    },
    {
     "name": "stdout",
     "output_type": "stream",
     "text": [
      "315/315 [==============================] - 1s 1ms/step - loss: 0.5357 - accuracy: 0.7756\n",
      "Epoch 2/4\n",
      "315/315 [==============================] - 0s 1ms/step - loss: 0.3598 - accuracy: 0.8084\n",
      "Epoch 3/4\n",
      "315/315 [==============================] - 0s 1ms/step - loss: 0.3079 - accuracy: 0.8324\n",
      "Epoch 4/4\n",
      "315/315 [==============================] - 0s 901us/step - loss: 0.2767 - accuracy: 0.8460\n",
      "Epoch 1/4\n"
     ]
    },
    {
     "name": "stderr",
     "output_type": "stream",
     "text": [
      "/Users/husni.zuhdi/Documents/Codes/1-Python-Workshop/retention-prediction-demo/retention-prediction/lib/python3.10/site-packages/tensorflow/python/keras/engine/sequential.py:454: UserWarning: `model.predict_classes()` is deprecated and will be removed after 2021-01-01. Please use instead:* `np.argmax(model.predict(x), axis=-1)`,   if your model does multi-class classification   (e.g. if it uses a `softmax` last-layer activation).* `(model.predict(x) > 0.5).astype(\"int32\")`,   if your model does binary classification   (e.g. if it uses a `sigmoid` last-layer activation).\n",
      "  warnings.warn('`model.predict_classes()` is deprecated and '\n"
     ]
    },
    {
     "name": "stdout",
     "output_type": "stream",
     "text": [
      "315/315 [==============================] - 1s 2ms/step - loss: 0.5478 - accuracy: 0.7820\n",
      "Epoch 2/4\n",
      "315/315 [==============================] - 0s 1ms/step - loss: 0.3718 - accuracy: 0.8083\n",
      "Epoch 3/4\n",
      "315/315 [==============================] - 0s 1ms/step - loss: 0.3150 - accuracy: 0.8327\n",
      "Epoch 4/4\n",
      "315/315 [==============================] - 0s 2ms/step - loss: 0.2813 - accuracy: 0.8433\n",
      "Epoch 1/4\n"
     ]
    },
    {
     "name": "stderr",
     "output_type": "stream",
     "text": [
      "/Users/husni.zuhdi/Documents/Codes/1-Python-Workshop/retention-prediction-demo/retention-prediction/lib/python3.10/site-packages/tensorflow/python/keras/engine/sequential.py:454: UserWarning: `model.predict_classes()` is deprecated and will be removed after 2021-01-01. Please use instead:* `np.argmax(model.predict(x), axis=-1)`,   if your model does multi-class classification   (e.g. if it uses a `softmax` last-layer activation).* `(model.predict(x) > 0.5).astype(\"int32\")`,   if your model does binary classification   (e.g. if it uses a `sigmoid` last-layer activation).\n",
      "  warnings.warn('`model.predict_classes()` is deprecated and '\n"
     ]
    },
    {
     "name": "stdout",
     "output_type": "stream",
     "text": [
      "315/315 [==============================] - 1s 1ms/step - loss: 0.5508 - accuracy: 0.7636\n",
      "Epoch 2/4\n",
      "315/315 [==============================] - 0s 1ms/step - loss: 0.3633 - accuracy: 0.8423\n",
      "Epoch 3/4\n",
      "315/315 [==============================] - 0s 1ms/step - loss: 0.2932 - accuracy: 0.8837\n",
      "Epoch 4/4\n",
      "315/315 [==============================] - 0s 1ms/step - loss: 0.2559 - accuracy: 0.9077\n",
      "Epoch 1/4\n"
     ]
    },
    {
     "name": "stderr",
     "output_type": "stream",
     "text": [
      "/Users/husni.zuhdi/Documents/Codes/1-Python-Workshop/retention-prediction-demo/retention-prediction/lib/python3.10/site-packages/tensorflow/python/keras/engine/sequential.py:454: UserWarning: `model.predict_classes()` is deprecated and will be removed after 2021-01-01. Please use instead:* `np.argmax(model.predict(x), axis=-1)`,   if your model does multi-class classification   (e.g. if it uses a `softmax` last-layer activation).* `(model.predict(x) > 0.5).astype(\"int32\")`,   if your model does binary classification   (e.g. if it uses a `sigmoid` last-layer activation).\n",
      "  warnings.warn('`model.predict_classes()` is deprecated and '\n"
     ]
    },
    {
     "name": "stdout",
     "output_type": "stream",
     "text": [
      "315/315 [==============================] - 1s 1ms/step - loss: 0.5445 - accuracy: 0.7682\n",
      "Epoch 2/4\n",
      "315/315 [==============================] - 0s 1ms/step - loss: 0.3646 - accuracy: 0.8172\n",
      "Epoch 3/4\n",
      "315/315 [==============================] - 0s 1ms/step - loss: 0.3166 - accuracy: 0.8274\n",
      "Epoch 4/4\n",
      "315/315 [==============================] - 0s 1ms/step - loss: 0.2881 - accuracy: 0.8348\n"
     ]
    },
    {
     "name": "stderr",
     "output_type": "stream",
     "text": [
      "/Users/husni.zuhdi/Documents/Codes/1-Python-Workshop/retention-prediction-demo/retention-prediction/lib/python3.10/site-packages/tensorflow/python/keras/engine/sequential.py:454: UserWarning: `model.predict_classes()` is deprecated and will be removed after 2021-01-01. Please use instead:* `np.argmax(model.predict(x), axis=-1)`,   if your model does multi-class classification   (e.g. if it uses a `softmax` last-layer activation).* `(model.predict(x) > 0.5).astype(\"int32\")`,   if your model does binary classification   (e.g. if it uses a `sigmoid` last-layer activation).\n",
      "  warnings.warn('`model.predict_classes()` is deprecated and '\n"
     ]
    },
    {
     "name": "stdout",
     "output_type": "stream",
     "text": [
      "Epoch 1/4\n",
      "315/315 [==============================] - 1s 1ms/step - loss: 0.5533 - accuracy: 0.7673\n",
      "Epoch 2/4\n",
      "315/315 [==============================] - 0s 1ms/step - loss: 0.3577 - accuracy: 0.8492\n",
      "Epoch 3/4\n",
      "315/315 [==============================] - 0s 1ms/step - loss: 0.2853 - accuracy: 0.8907\n",
      "Epoch 4/4\n",
      "315/315 [==============================] - 0s 1ms/step - loss: 0.2435 - accuracy: 0.9096\n",
      "Epoch 1/4\n"
     ]
    },
    {
     "name": "stderr",
     "output_type": "stream",
     "text": [
      "/Users/husni.zuhdi/Documents/Codes/1-Python-Workshop/retention-prediction-demo/retention-prediction/lib/python3.10/site-packages/tensorflow/python/keras/engine/sequential.py:454: UserWarning: `model.predict_classes()` is deprecated and will be removed after 2021-01-01. Please use instead:* `np.argmax(model.predict(x), axis=-1)`,   if your model does multi-class classification   (e.g. if it uses a `softmax` last-layer activation).* `(model.predict(x) > 0.5).astype(\"int32\")`,   if your model does binary classification   (e.g. if it uses a `sigmoid` last-layer activation).\n",
      "  warnings.warn('`model.predict_classes()` is deprecated and '\n"
     ]
    },
    {
     "name": "stdout",
     "output_type": "stream",
     "text": [
      "315/315 [==============================] - 1s 1ms/step - loss: 0.5499 - accuracy: 0.7766\n",
      "Epoch 2/4\n",
      "315/315 [==============================] - 0s 1ms/step - loss: 0.3517 - accuracy: 0.8526\n",
      "Epoch 3/4\n",
      "315/315 [==============================] - 0s 1ms/step - loss: 0.2801 - accuracy: 0.8979\n",
      "Epoch 4/4\n",
      "315/315 [==============================] - 1s 2ms/step - loss: 0.2447 - accuracy: 0.9141\n"
     ]
    },
    {
     "name": "stderr",
     "output_type": "stream",
     "text": [
      "/Users/husni.zuhdi/Documents/Codes/1-Python-Workshop/retention-prediction-demo/retention-prediction/lib/python3.10/site-packages/tensorflow/python/keras/engine/sequential.py:454: UserWarning: `model.predict_classes()` is deprecated and will be removed after 2021-01-01. Please use instead:* `np.argmax(model.predict(x), axis=-1)`,   if your model does multi-class classification   (e.g. if it uses a `softmax` last-layer activation).* `(model.predict(x) > 0.5).astype(\"int32\")`,   if your model does binary classification   (e.g. if it uses a `sigmoid` last-layer activation).\n",
      "  warnings.warn('`model.predict_classes()` is deprecated and '\n"
     ]
    },
    {
     "name": "stdout",
     "output_type": "stream",
     "text": [
      "Epoch 1/4\n",
      "315/315 [==============================] - 1s 907us/step - loss: 0.5451 - accuracy: 0.7607\n",
      "Epoch 2/4\n",
      "315/315 [==============================] - 0s 892us/step - loss: 0.3930 - accuracy: 0.7622\n",
      "Epoch 3/4\n",
      "315/315 [==============================] - 0s 876us/step - loss: 0.3512 - accuracy: 0.7622\n",
      "Epoch 4/4\n",
      "315/315 [==============================] - 0s 856us/step - loss: 0.3260 - accuracy: 0.8414\n",
      "Epoch 1/4\n"
     ]
    },
    {
     "name": "stderr",
     "output_type": "stream",
     "text": [
      "/Users/husni.zuhdi/Documents/Codes/1-Python-Workshop/retention-prediction-demo/retention-prediction/lib/python3.10/site-packages/tensorflow/python/keras/engine/sequential.py:454: UserWarning: `model.predict_classes()` is deprecated and will be removed after 2021-01-01. Please use instead:* `np.argmax(model.predict(x), axis=-1)`,   if your model does multi-class classification   (e.g. if it uses a `softmax` last-layer activation).* `(model.predict(x) > 0.5).astype(\"int32\")`,   if your model does binary classification   (e.g. if it uses a `sigmoid` last-layer activation).\n",
      "  warnings.warn('`model.predict_classes()` is deprecated and '\n"
     ]
    },
    {
     "name": "stdout",
     "output_type": "stream",
     "text": [
      "315/315 [==============================] - 1s 1000us/step - loss: 0.5406 - accuracy: 0.7610\n",
      "Epoch 2/4\n",
      "315/315 [==============================] - 0s 846us/step - loss: 0.3952 - accuracy: 0.7614\n",
      "Epoch 3/4\n",
      "315/315 [==============================] - 0s 829us/step - loss: 0.3469 - accuracy: 0.7643\n",
      "Epoch 4/4\n",
      "315/315 [==============================] - 0s 1ms/step - loss: 0.3175 - accuracy: 0.8681\n",
      "Epoch 1/4\n"
     ]
    },
    {
     "name": "stderr",
     "output_type": "stream",
     "text": [
      "/Users/husni.zuhdi/Documents/Codes/1-Python-Workshop/retention-prediction-demo/retention-prediction/lib/python3.10/site-packages/tensorflow/python/keras/engine/sequential.py:454: UserWarning: `model.predict_classes()` is deprecated and will be removed after 2021-01-01. Please use instead:* `np.argmax(model.predict(x), axis=-1)`,   if your model does multi-class classification   (e.g. if it uses a `softmax` last-layer activation).* `(model.predict(x) > 0.5).astype(\"int32\")`,   if your model does binary classification   (e.g. if it uses a `sigmoid` last-layer activation).\n",
      "  warnings.warn('`model.predict_classes()` is deprecated and '\n"
     ]
    },
    {
     "name": "stdout",
     "output_type": "stream",
     "text": [
      "315/315 [==============================] - 1s 1ms/step - loss: 0.5656 - accuracy: 0.7684\n",
      "Epoch 2/4\n",
      "315/315 [==============================] - 0s 996us/step - loss: 0.3627 - accuracy: 0.8420\n",
      "Epoch 3/4\n",
      "315/315 [==============================] - 0s 1ms/step - loss: 0.2816 - accuracy: 0.8929\n",
      "Epoch 4/4\n",
      "315/315 [==============================] - 0s 1ms/step - loss: 0.2442 - accuracy: 0.9139\n",
      "Epoch 1/4\n"
     ]
    },
    {
     "name": "stderr",
     "output_type": "stream",
     "text": [
      "/Users/husni.zuhdi/Documents/Codes/1-Python-Workshop/retention-prediction-demo/retention-prediction/lib/python3.10/site-packages/tensorflow/python/keras/engine/sequential.py:454: UserWarning: `model.predict_classes()` is deprecated and will be removed after 2021-01-01. Please use instead:* `np.argmax(model.predict(x), axis=-1)`,   if your model does multi-class classification   (e.g. if it uses a `softmax` last-layer activation).* `(model.predict(x) > 0.5).astype(\"int32\")`,   if your model does binary classification   (e.g. if it uses a `sigmoid` last-layer activation).\n",
      "  warnings.warn('`model.predict_classes()` is deprecated and '\n"
     ]
    },
    {
     "name": "stdout",
     "output_type": "stream",
     "text": [
      "315/315 [==============================] - 1s 2ms/step - loss: 0.5722 - accuracy: 0.7675\n",
      "Epoch 2/4\n",
      "315/315 [==============================] - 1s 2ms/step - loss: 0.3595 - accuracy: 0.8631\n",
      "Epoch 3/4\n",
      "315/315 [==============================] - 1s 2ms/step - loss: 0.2816 - accuracy: 0.8959\n",
      "Epoch 4/4\n",
      "315/315 [==============================] - 0s 1ms/step - loss: 0.2430 - accuracy: 0.9166\n"
     ]
    },
    {
     "name": "stderr",
     "output_type": "stream",
     "text": [
      "/Users/husni.zuhdi/Documents/Codes/1-Python-Workshop/retention-prediction-demo/retention-prediction/lib/python3.10/site-packages/tensorflow/python/keras/engine/sequential.py:454: UserWarning: `model.predict_classes()` is deprecated and will be removed after 2021-01-01. Please use instead:* `np.argmax(model.predict(x), axis=-1)`,   if your model does multi-class classification   (e.g. if it uses a `softmax` last-layer activation).* `(model.predict(x) > 0.5).astype(\"int32\")`,   if your model does binary classification   (e.g. if it uses a `sigmoid` last-layer activation).\n",
      "  warnings.warn('`model.predict_classes()` is deprecated and '\n"
     ]
    },
    {
     "name": "stdout",
     "output_type": "stream",
     "text": [
      "Epoch 1/4\n",
      "315/315 [==============================] - 1s 1ms/step - loss: 0.5603 - accuracy: 0.7612\n",
      "Epoch 2/4\n",
      "315/315 [==============================] - 0s 1ms/step - loss: 0.4022 - accuracy: 0.7961\n",
      "Epoch 3/4\n",
      "315/315 [==============================] - 1s 2ms/step - loss: 0.3393 - accuracy: 0.8095\n",
      "Epoch 4/4\n",
      "315/315 [==============================] - 0s 1ms/step - loss: 0.2992 - accuracy: 0.8286\n",
      "Epoch 1/4\n"
     ]
    },
    {
     "name": "stderr",
     "output_type": "stream",
     "text": [
      "/Users/husni.zuhdi/Documents/Codes/1-Python-Workshop/retention-prediction-demo/retention-prediction/lib/python3.10/site-packages/tensorflow/python/keras/engine/sequential.py:454: UserWarning: `model.predict_classes()` is deprecated and will be removed after 2021-01-01. Please use instead:* `np.argmax(model.predict(x), axis=-1)`,   if your model does multi-class classification   (e.g. if it uses a `softmax` last-layer activation).* `(model.predict(x) > 0.5).astype(\"int32\")`,   if your model does binary classification   (e.g. if it uses a `sigmoid` last-layer activation).\n",
      "  warnings.warn('`model.predict_classes()` is deprecated and '\n"
     ]
    },
    {
     "name": "stdout",
     "output_type": "stream",
     "text": [
      "315/315 [==============================] - 1s 1ms/step - loss: 0.5569 - accuracy: 0.7638\n",
      "Epoch 2/4\n",
      "315/315 [==============================] - 0s 1ms/step - loss: 0.3951 - accuracy: 0.7980\n",
      "Epoch 3/4\n",
      "315/315 [==============================] - 0s 1ms/step - loss: 0.3364 - accuracy: 0.8108\n",
      "Epoch 4/4\n",
      "315/315 [==============================] - 0s 1ms/step - loss: 0.2964 - accuracy: 0.8296\n",
      "Epoch 1/4\n"
     ]
    },
    {
     "name": "stderr",
     "output_type": "stream",
     "text": [
      "/Users/husni.zuhdi/Documents/Codes/1-Python-Workshop/retention-prediction-demo/retention-prediction/lib/python3.10/site-packages/tensorflow/python/keras/engine/sequential.py:454: UserWarning: `model.predict_classes()` is deprecated and will be removed after 2021-01-01. Please use instead:* `np.argmax(model.predict(x), axis=-1)`,   if your model does multi-class classification   (e.g. if it uses a `softmax` last-layer activation).* `(model.predict(x) > 0.5).astype(\"int32\")`,   if your model does binary classification   (e.g. if it uses a `sigmoid` last-layer activation).\n",
      "  warnings.warn('`model.predict_classes()` is deprecated and '\n"
     ]
    },
    {
     "name": "stdout",
     "output_type": "stream",
     "text": [
      "315/315 [==============================] - 1s 1ms/step - loss: 0.5557 - accuracy: 0.7612\n",
      "Epoch 2/4\n",
      "315/315 [==============================] - 0s 1ms/step - loss: 0.4084 - accuracy: 0.7772\n",
      "Epoch 3/4\n",
      "315/315 [==============================] - 0s 1ms/step - loss: 0.3532 - accuracy: 0.8326\n",
      "Epoch 4/4\n",
      "315/315 [==============================] - 1s 2ms/step - loss: 0.3164 - accuracy: 0.8495\n",
      "Epoch 1/4\n"
     ]
    },
    {
     "name": "stderr",
     "output_type": "stream",
     "text": [
      "/Users/husni.zuhdi/Documents/Codes/1-Python-Workshop/retention-prediction-demo/retention-prediction/lib/python3.10/site-packages/tensorflow/python/keras/engine/sequential.py:454: UserWarning: `model.predict_classes()` is deprecated and will be removed after 2021-01-01. Please use instead:* `np.argmax(model.predict(x), axis=-1)`,   if your model does multi-class classification   (e.g. if it uses a `softmax` last-layer activation).* `(model.predict(x) > 0.5).astype(\"int32\")`,   if your model does binary classification   (e.g. if it uses a `sigmoid` last-layer activation).\n",
      "  warnings.warn('`model.predict_classes()` is deprecated and '\n"
     ]
    },
    {
     "name": "stdout",
     "output_type": "stream",
     "text": [
      "315/315 [==============================] - 1s 2ms/step - loss: 0.5652 - accuracy: 0.7781\n",
      "Epoch 2/4\n",
      "315/315 [==============================] - 1s 2ms/step - loss: 0.3990 - accuracy: 0.8011\n",
      "Epoch 3/4\n",
      "315/315 [==============================] - 1s 2ms/step - loss: 0.3431 - accuracy: 0.8196\n",
      "Epoch 4/4\n",
      "315/315 [==============================] - 1s 2ms/step - loss: 0.3060 - accuracy: 0.8360\n"
     ]
    },
    {
     "name": "stderr",
     "output_type": "stream",
     "text": [
      "/Users/husni.zuhdi/Documents/Codes/1-Python-Workshop/retention-prediction-demo/retention-prediction/lib/python3.10/site-packages/tensorflow/python/keras/engine/sequential.py:454: UserWarning: `model.predict_classes()` is deprecated and will be removed after 2021-01-01. Please use instead:* `np.argmax(model.predict(x), axis=-1)`,   if your model does multi-class classification   (e.g. if it uses a `softmax` last-layer activation).* `(model.predict(x) > 0.5).astype(\"int32\")`,   if your model does binary classification   (e.g. if it uses a `sigmoid` last-layer activation).\n",
      "  warnings.warn('`model.predict_classes()` is deprecated and '\n"
     ]
    },
    {
     "name": "stdout",
     "output_type": "stream",
     "text": [
      "Epoch 1/4\n",
      "315/315 [==============================] - 1s 2ms/step - loss: 0.5581 - accuracy: 0.7644\n",
      "Epoch 2/4\n",
      "315/315 [==============================] - 0s 1ms/step - loss: 0.4096 - accuracy: 0.7875\n",
      "Epoch 3/4\n",
      "315/315 [==============================] - 0s 1ms/step - loss: 0.3514 - accuracy: 0.8056\n",
      "Epoch 4/4\n",
      "315/315 [==============================] - 0s 1ms/step - loss: 0.3100 - accuracy: 0.8237\n",
      "Epoch 1/4\n"
     ]
    },
    {
     "name": "stderr",
     "output_type": "stream",
     "text": [
      "/Users/husni.zuhdi/Documents/Codes/1-Python-Workshop/retention-prediction-demo/retention-prediction/lib/python3.10/site-packages/tensorflow/python/keras/engine/sequential.py:454: UserWarning: `model.predict_classes()` is deprecated and will be removed after 2021-01-01. Please use instead:* `np.argmax(model.predict(x), axis=-1)`,   if your model does multi-class classification   (e.g. if it uses a `softmax` last-layer activation).* `(model.predict(x) > 0.5).astype(\"int32\")`,   if your model does binary classification   (e.g. if it uses a `sigmoid` last-layer activation).\n",
      "  warnings.warn('`model.predict_classes()` is deprecated and '\n"
     ]
    },
    {
     "name": "stdout",
     "output_type": "stream",
     "text": [
      "315/315 [==============================] - 1s 2ms/step - loss: 0.5589 - accuracy: 0.7685\n",
      "Epoch 2/4\n",
      "315/315 [==============================] - 0s 1ms/step - loss: 0.3986 - accuracy: 0.7986\n",
      "Epoch 3/4\n",
      "315/315 [==============================] - 1s 2ms/step - loss: 0.3387 - accuracy: 0.8188\n",
      "Epoch 4/4\n",
      "315/315 [==============================] - 0s 1ms/step - loss: 0.3009 - accuracy: 0.8393\n"
     ]
    },
    {
     "name": "stderr",
     "output_type": "stream",
     "text": [
      "/Users/husni.zuhdi/Documents/Codes/1-Python-Workshop/retention-prediction-demo/retention-prediction/lib/python3.10/site-packages/tensorflow/python/keras/engine/sequential.py:454: UserWarning: `model.predict_classes()` is deprecated and will be removed after 2021-01-01. Please use instead:* `np.argmax(model.predict(x), axis=-1)`,   if your model does multi-class classification   (e.g. if it uses a `softmax` last-layer activation).* `(model.predict(x) > 0.5).astype(\"int32\")`,   if your model does binary classification   (e.g. if it uses a `sigmoid` last-layer activation).\n",
      "  warnings.warn('`model.predict_classes()` is deprecated and '\n"
     ]
    },
    {
     "name": "stdout",
     "output_type": "stream",
     "text": [
      "Epoch 1/4\n",
      "315/315 [==============================] - 1s 1ms/step - loss: 0.5793 - accuracy: 0.7751\n",
      "Epoch 2/4\n",
      "315/315 [==============================] - 0s 1ms/step - loss: 0.4049 - accuracy: 0.8028\n",
      "Epoch 3/4\n",
      "315/315 [==============================] - 0s 1ms/step - loss: 0.3429 - accuracy: 0.8224\n",
      "Epoch 4/4\n",
      "315/315 [==============================] - 0s 1ms/step - loss: 0.3120 - accuracy: 0.8383\n",
      "Epoch 1/4\n"
     ]
    },
    {
     "name": "stderr",
     "output_type": "stream",
     "text": [
      "/Users/husni.zuhdi/Documents/Codes/1-Python-Workshop/retention-prediction-demo/retention-prediction/lib/python3.10/site-packages/tensorflow/python/keras/engine/sequential.py:454: UserWarning: `model.predict_classes()` is deprecated and will be removed after 2021-01-01. Please use instead:* `np.argmax(model.predict(x), axis=-1)`,   if your model does multi-class classification   (e.g. if it uses a `softmax` last-layer activation).* `(model.predict(x) > 0.5).astype(\"int32\")`,   if your model does binary classification   (e.g. if it uses a `sigmoid` last-layer activation).\n",
      "  warnings.warn('`model.predict_classes()` is deprecated and '\n"
     ]
    },
    {
     "name": "stdout",
     "output_type": "stream",
     "text": [
      "315/315 [==============================] - 1s 1ms/step - loss: 0.5628 - accuracy: 0.7609\n",
      "Epoch 2/4\n",
      "315/315 [==============================] - 0s 1ms/step - loss: 0.3838 - accuracy: 0.8243\n",
      "Epoch 3/4\n",
      "315/315 [==============================] - 0s 1ms/step - loss: 0.3064 - accuracy: 0.8760\n",
      "Epoch 4/4\n",
      "315/315 [==============================] - 0s 1ms/step - loss: 0.2589 - accuracy: 0.9003\n",
      "Epoch 1/4\n"
     ]
    },
    {
     "name": "stderr",
     "output_type": "stream",
     "text": [
      "/Users/husni.zuhdi/Documents/Codes/1-Python-Workshop/retention-prediction-demo/retention-prediction/lib/python3.10/site-packages/tensorflow/python/keras/engine/sequential.py:454: UserWarning: `model.predict_classes()` is deprecated and will be removed after 2021-01-01. Please use instead:* `np.argmax(model.predict(x), axis=-1)`,   if your model does multi-class classification   (e.g. if it uses a `softmax` last-layer activation).* `(model.predict(x) > 0.5).astype(\"int32\")`,   if your model does binary classification   (e.g. if it uses a `sigmoid` last-layer activation).\n",
      "  warnings.warn('`model.predict_classes()` is deprecated and '\n"
     ]
    },
    {
     "name": "stdout",
     "output_type": "stream",
     "text": [
      "315/315 [==============================] - 1s 1ms/step - loss: 0.5538 - accuracy: 0.7633\n",
      "Epoch 2/4\n",
      "315/315 [==============================] - 0s 1ms/step - loss: 0.3966 - accuracy: 0.7979\n",
      "Epoch 3/4\n",
      "315/315 [==============================] - 0s 1ms/step - loss: 0.3408 - accuracy: 0.8095\n",
      "Epoch 4/4\n",
      "315/315 [==============================] - 0s 1ms/step - loss: 0.3041 - accuracy: 0.8305\n",
      "Epoch 1/4\n"
     ]
    },
    {
     "name": "stderr",
     "output_type": "stream",
     "text": [
      "/Users/husni.zuhdi/Documents/Codes/1-Python-Workshop/retention-prediction-demo/retention-prediction/lib/python3.10/site-packages/tensorflow/python/keras/engine/sequential.py:454: UserWarning: `model.predict_classes()` is deprecated and will be removed after 2021-01-01. Please use instead:* `np.argmax(model.predict(x), axis=-1)`,   if your model does multi-class classification   (e.g. if it uses a `softmax` last-layer activation).* `(model.predict(x) > 0.5).astype(\"int32\")`,   if your model does binary classification   (e.g. if it uses a `sigmoid` last-layer activation).\n",
      "  warnings.warn('`model.predict_classes()` is deprecated and '\n"
     ]
    },
    {
     "name": "stdout",
     "output_type": "stream",
     "text": [
      "315/315 [==============================] - 1s 1ms/step - loss: 0.5549 - accuracy: 0.7623\n",
      "Epoch 2/4\n",
      "315/315 [==============================] - 0s 2ms/step - loss: 0.3895 - accuracy: 0.8226\n",
      "Epoch 3/4\n",
      "315/315 [==============================] - 0s 1ms/step - loss: 0.3137 - accuracy: 0.8748\n",
      "Epoch 4/4\n",
      "315/315 [==============================] - 1s 2ms/step - loss: 0.2648 - accuracy: 0.8956\n"
     ]
    },
    {
     "name": "stderr",
     "output_type": "stream",
     "text": [
      "/Users/husni.zuhdi/Documents/Codes/1-Python-Workshop/retention-prediction-demo/retention-prediction/lib/python3.10/site-packages/tensorflow/python/keras/engine/sequential.py:454: UserWarning: `model.predict_classes()` is deprecated and will be removed after 2021-01-01. Please use instead:* `np.argmax(model.predict(x), axis=-1)`,   if your model does multi-class classification   (e.g. if it uses a `softmax` last-layer activation).* `(model.predict(x) > 0.5).astype(\"int32\")`,   if your model does binary classification   (e.g. if it uses a `sigmoid` last-layer activation).\n",
      "  warnings.warn('`model.predict_classes()` is deprecated and '\n"
     ]
    },
    {
     "name": "stdout",
     "output_type": "stream",
     "text": [
      "Epoch 1/6\n",
      "315/315 [==============================] - 1s 1ms/step - loss: 0.5601 - accuracy: 0.7634\n",
      "Epoch 2/6\n",
      "315/315 [==============================] - 0s 1ms/step - loss: 0.3548 - accuracy: 0.8513\n",
      "Epoch 3/6\n",
      "315/315 [==============================] - 0s 1ms/step - loss: 0.2804 - accuracy: 0.8909\n",
      "Epoch 4/6\n",
      "315/315 [==============================] - 0s 1ms/step - loss: 0.2356 - accuracy: 0.9150\n",
      "Epoch 5/6\n",
      "315/315 [==============================] - 0s 1ms/step - loss: 0.2174 - accuracy: 0.9237\n",
      "Epoch 6/6\n",
      "315/315 [==============================] - 0s 1ms/step - loss: 0.2038 - accuracy: 0.9287\n",
      "Epoch 1/6\n"
     ]
    },
    {
     "name": "stderr",
     "output_type": "stream",
     "text": [
      "/Users/husni.zuhdi/Documents/Codes/1-Python-Workshop/retention-prediction-demo/retention-prediction/lib/python3.10/site-packages/tensorflow/python/keras/engine/sequential.py:454: UserWarning: `model.predict_classes()` is deprecated and will be removed after 2021-01-01. Please use instead:* `np.argmax(model.predict(x), axis=-1)`,   if your model does multi-class classification   (e.g. if it uses a `softmax` last-layer activation).* `(model.predict(x) > 0.5).astype(\"int32\")`,   if your model does binary classification   (e.g. if it uses a `sigmoid` last-layer activation).\n",
      "  warnings.warn('`model.predict_classes()` is deprecated and '\n"
     ]
    },
    {
     "name": "stdout",
     "output_type": "stream",
     "text": [
      "315/315 [==============================] - 1s 1ms/step - loss: 0.5624 - accuracy: 0.7769\n",
      "Epoch 2/6\n",
      "315/315 [==============================] - 0s 1ms/step - loss: 0.3525 - accuracy: 0.8615\n",
      "Epoch 3/6\n",
      "315/315 [==============================] - 0s 1ms/step - loss: 0.2818 - accuracy: 0.8921\n",
      "Epoch 4/6\n",
      "315/315 [==============================] - 0s 1ms/step - loss: 0.2434 - accuracy: 0.9122\n",
      "Epoch 5/6\n",
      "315/315 [==============================] - 0s 1ms/step - loss: 0.2250 - accuracy: 0.9218\n",
      "Epoch 6/6\n",
      "315/315 [==============================] - 0s 1ms/step - loss: 0.2116 - accuracy: 0.9260\n",
      "Epoch 1/6\n"
     ]
    },
    {
     "name": "stderr",
     "output_type": "stream",
     "text": [
      "/Users/husni.zuhdi/Documents/Codes/1-Python-Workshop/retention-prediction-demo/retention-prediction/lib/python3.10/site-packages/tensorflow/python/keras/engine/sequential.py:454: UserWarning: `model.predict_classes()` is deprecated and will be removed after 2021-01-01. Please use instead:* `np.argmax(model.predict(x), axis=-1)`,   if your model does multi-class classification   (e.g. if it uses a `softmax` last-layer activation).* `(model.predict(x) > 0.5).astype(\"int32\")`,   if your model does binary classification   (e.g. if it uses a `sigmoid` last-layer activation).\n",
      "  warnings.warn('`model.predict_classes()` is deprecated and '\n"
     ]
    },
    {
     "name": "stdout",
     "output_type": "stream",
     "text": [
      "315/315 [==============================] - 1s 1ms/step - loss: 0.5481 - accuracy: 0.7670\n",
      "Epoch 2/6\n",
      "315/315 [==============================] - 0s 1ms/step - loss: 0.3812 - accuracy: 0.7974\n",
      "Epoch 3/6\n",
      "315/315 [==============================] - 0s 1ms/step - loss: 0.3287 - accuracy: 0.8173\n",
      "Epoch 4/6\n",
      "315/315 [==============================] - 0s 978us/step - loss: 0.2972 - accuracy: 0.8350\n",
      "Epoch 5/6\n",
      "315/315 [==============================] - 0s 986us/step - loss: 0.2739 - accuracy: 0.8443\n",
      "Epoch 6/6\n",
      "315/315 [==============================] - 0s 1ms/step - loss: 0.2561 - accuracy: 0.8858\n",
      "Epoch 1/6\n"
     ]
    },
    {
     "name": "stderr",
     "output_type": "stream",
     "text": [
      "/Users/husni.zuhdi/Documents/Codes/1-Python-Workshop/retention-prediction-demo/retention-prediction/lib/python3.10/site-packages/tensorflow/python/keras/engine/sequential.py:454: UserWarning: `model.predict_classes()` is deprecated and will be removed after 2021-01-01. Please use instead:* `np.argmax(model.predict(x), axis=-1)`,   if your model does multi-class classification   (e.g. if it uses a `softmax` last-layer activation).* `(model.predict(x) > 0.5).astype(\"int32\")`,   if your model does binary classification   (e.g. if it uses a `sigmoid` last-layer activation).\n",
      "  warnings.warn('`model.predict_classes()` is deprecated and '\n"
     ]
    },
    {
     "name": "stdout",
     "output_type": "stream",
     "text": [
      "315/315 [==============================] - 1s 1ms/step - loss: 0.5445 - accuracy: 0.7747\n",
      "Epoch 2/6\n",
      "315/315 [==============================] - 0s 1ms/step - loss: 0.3602 - accuracy: 0.8115\n",
      "Epoch 3/6\n",
      "315/315 [==============================] - 0s 962us/step - loss: 0.3080 - accuracy: 0.8346\n",
      "Epoch 4/6\n",
      "315/315 [==============================] - 0s 1ms/step - loss: 0.2765 - accuracy: 0.8452\n",
      "Epoch 5/6\n",
      "315/315 [==============================] - 0s 1ms/step - loss: 0.2572 - accuracy: 0.8512\n",
      "Epoch 6/6\n",
      "315/315 [==============================] - 0s 1ms/step - loss: 0.2430 - accuracy: 0.8727\n",
      "Epoch 1/6\n"
     ]
    },
    {
     "name": "stderr",
     "output_type": "stream",
     "text": [
      "/Users/husni.zuhdi/Documents/Codes/1-Python-Workshop/retention-prediction-demo/retention-prediction/lib/python3.10/site-packages/tensorflow/python/keras/engine/sequential.py:454: UserWarning: `model.predict_classes()` is deprecated and will be removed after 2021-01-01. Please use instead:* `np.argmax(model.predict(x), axis=-1)`,   if your model does multi-class classification   (e.g. if it uses a `softmax` last-layer activation).* `(model.predict(x) > 0.5).astype(\"int32\")`,   if your model does binary classification   (e.g. if it uses a `sigmoid` last-layer activation).\n",
      "  warnings.warn('`model.predict_classes()` is deprecated and '\n"
     ]
    },
    {
     "name": "stdout",
     "output_type": "stream",
     "text": [
      "315/315 [==============================] - 1s 1ms/step - loss: 0.5411 - accuracy: 0.7691\n",
      "Epoch 2/6\n",
      "315/315 [==============================] - 0s 1ms/step - loss: 0.3463 - accuracy: 0.8579\n",
      "Epoch 3/6\n",
      "315/315 [==============================] - 0s 1ms/step - loss: 0.2720 - accuracy: 0.8967\n",
      "Epoch 4/6\n",
      "315/315 [==============================] - 0s 1ms/step - loss: 0.2365 - accuracy: 0.9135\n",
      "Epoch 5/6\n",
      "315/315 [==============================] - 0s 1ms/step - loss: 0.2183 - accuracy: 0.9210\n",
      "Epoch 6/6\n",
      "315/315 [==============================] - 0s 1ms/step - loss: 0.2071 - accuracy: 0.9260\n",
      "Epoch 1/6\n"
     ]
    },
    {
     "name": "stderr",
     "output_type": "stream",
     "text": [
      "/Users/husni.zuhdi/Documents/Codes/1-Python-Workshop/retention-prediction-demo/retention-prediction/lib/python3.10/site-packages/tensorflow/python/keras/engine/sequential.py:454: UserWarning: `model.predict_classes()` is deprecated and will be removed after 2021-01-01. Please use instead:* `np.argmax(model.predict(x), axis=-1)`,   if your model does multi-class classification   (e.g. if it uses a `softmax` last-layer activation).* `(model.predict(x) > 0.5).astype(\"int32\")`,   if your model does binary classification   (e.g. if it uses a `sigmoid` last-layer activation).\n",
      "  warnings.warn('`model.predict_classes()` is deprecated and '\n"
     ]
    },
    {
     "name": "stdout",
     "output_type": "stream",
     "text": [
      "315/315 [==============================] - 1s 1ms/step - loss: 0.5623 - accuracy: 0.7681\n",
      "Epoch 2/6\n",
      "315/315 [==============================] - 0s 1ms/step - loss: 0.3602 - accuracy: 0.8481\n",
      "Epoch 3/6\n",
      "315/315 [==============================] - 0s 1ms/step - loss: 0.2827 - accuracy: 0.8979\n",
      "Epoch 4/6\n",
      "315/315 [==============================] - 0s 1ms/step - loss: 0.2419 - accuracy: 0.9143\n",
      "Epoch 5/6\n",
      "315/315 [==============================] - 0s 1ms/step - loss: 0.2214 - accuracy: 0.9200\n",
      "Epoch 6/6\n",
      "315/315 [==============================] - 0s 1ms/step - loss: 0.2075 - accuracy: 0.9270\n",
      "Epoch 1/6\n"
     ]
    },
    {
     "name": "stderr",
     "output_type": "stream",
     "text": [
      "/Users/husni.zuhdi/Documents/Codes/1-Python-Workshop/retention-prediction-demo/retention-prediction/lib/python3.10/site-packages/tensorflow/python/keras/engine/sequential.py:454: UserWarning: `model.predict_classes()` is deprecated and will be removed after 2021-01-01. Please use instead:* `np.argmax(model.predict(x), axis=-1)`,   if your model does multi-class classification   (e.g. if it uses a `softmax` last-layer activation).* `(model.predict(x) > 0.5).astype(\"int32\")`,   if your model does binary classification   (e.g. if it uses a `sigmoid` last-layer activation).\n",
      "  warnings.warn('`model.predict_classes()` is deprecated and '\n"
     ]
    },
    {
     "name": "stdout",
     "output_type": "stream",
     "text": [
      "315/315 [==============================] - 1s 1ms/step - loss: 0.5477 - accuracy: 0.7625\n",
      "Epoch 2/6\n",
      "315/315 [==============================] - 0s 1ms/step - loss: 0.3748 - accuracy: 0.8104\n",
      "Epoch 3/6\n",
      "315/315 [==============================] - 0s 1ms/step - loss: 0.3197 - accuracy: 0.8247\n",
      "Epoch 4/6\n",
      "315/315 [==============================] - 1s 2ms/step - loss: 0.2921 - accuracy: 0.8314\n",
      "Epoch 5/6\n",
      "315/315 [==============================] - 0s 1ms/step - loss: 0.2757 - accuracy: 0.8582\n",
      "Epoch 6/6\n",
      "315/315 [==============================] - 0s 1ms/step - loss: 0.2656 - accuracy: 0.9027\n",
      "Epoch 1/6\n"
     ]
    },
    {
     "name": "stderr",
     "output_type": "stream",
     "text": [
      "/Users/husni.zuhdi/Documents/Codes/1-Python-Workshop/retention-prediction-demo/retention-prediction/lib/python3.10/site-packages/tensorflow/python/keras/engine/sequential.py:454: UserWarning: `model.predict_classes()` is deprecated and will be removed after 2021-01-01. Please use instead:* `np.argmax(model.predict(x), axis=-1)`,   if your model does multi-class classification   (e.g. if it uses a `softmax` last-layer activation).* `(model.predict(x) > 0.5).astype(\"int32\")`,   if your model does binary classification   (e.g. if it uses a `sigmoid` last-layer activation).\n",
      "  warnings.warn('`model.predict_classes()` is deprecated and '\n"
     ]
    },
    {
     "name": "stdout",
     "output_type": "stream",
     "text": [
      "315/315 [==============================] - 1s 1ms/step - loss: 0.5493 - accuracy: 0.7611\n",
      "Epoch 2/6\n",
      "315/315 [==============================] - 0s 1ms/step - loss: 0.3857 - accuracy: 0.8089\n",
      "Epoch 3/6\n",
      "315/315 [==============================] - 0s 1ms/step - loss: 0.3304 - accuracy: 0.8242\n",
      "Epoch 4/6\n",
      "315/315 [==============================] - 0s 1ms/step - loss: 0.2934 - accuracy: 0.8299\n",
      "Epoch 5/6\n",
      "315/315 [==============================] - 0s 1ms/step - loss: 0.2739 - accuracy: 0.8546\n",
      "Epoch 6/6\n",
      "315/315 [==============================] - 0s 1ms/step - loss: 0.2593 - accuracy: 0.8972\n",
      "Epoch 1/6\n"
     ]
    },
    {
     "name": "stderr",
     "output_type": "stream",
     "text": [
      "/Users/husni.zuhdi/Documents/Codes/1-Python-Workshop/retention-prediction-demo/retention-prediction/lib/python3.10/site-packages/tensorflow/python/keras/engine/sequential.py:454: UserWarning: `model.predict_classes()` is deprecated and will be removed after 2021-01-01. Please use instead:* `np.argmax(model.predict(x), axis=-1)`,   if your model does multi-class classification   (e.g. if it uses a `softmax` last-layer activation).* `(model.predict(x) > 0.5).astype(\"int32\")`,   if your model does binary classification   (e.g. if it uses a `sigmoid` last-layer activation).\n",
      "  warnings.warn('`model.predict_classes()` is deprecated and '\n"
     ]
    },
    {
     "name": "stdout",
     "output_type": "stream",
     "text": [
      "315/315 [==============================] - 1s 1ms/step - loss: 0.5786 - accuracy: 0.7718\n",
      "Epoch 2/6\n",
      "315/315 [==============================] - 0s 975us/step - loss: 0.3606 - accuracy: 0.8663\n",
      "Epoch 3/6\n",
      "315/315 [==============================] - 0s 993us/step - loss: 0.2830 - accuracy: 0.8999\n",
      "Epoch 4/6\n",
      "315/315 [==============================] - 0s 1ms/step - loss: 0.2467 - accuracy: 0.9163\n",
      "Epoch 5/6\n",
      "315/315 [==============================] - 0s 1ms/step - loss: 0.2261 - accuracy: 0.9237\n",
      "Epoch 6/6\n",
      "315/315 [==============================] - 0s 1ms/step - loss: 0.2103 - accuracy: 0.9285\n",
      "Epoch 1/6\n"
     ]
    },
    {
     "name": "stderr",
     "output_type": "stream",
     "text": [
      "/Users/husni.zuhdi/Documents/Codes/1-Python-Workshop/retention-prediction-demo/retention-prediction/lib/python3.10/site-packages/tensorflow/python/keras/engine/sequential.py:454: UserWarning: `model.predict_classes()` is deprecated and will be removed after 2021-01-01. Please use instead:* `np.argmax(model.predict(x), axis=-1)`,   if your model does multi-class classification   (e.g. if it uses a `softmax` last-layer activation).* `(model.predict(x) > 0.5).astype(\"int32\")`,   if your model does binary classification   (e.g. if it uses a `sigmoid` last-layer activation).\n",
      "  warnings.warn('`model.predict_classes()` is deprecated and '\n"
     ]
    },
    {
     "name": "stdout",
     "output_type": "stream",
     "text": [
      "315/315 [==============================] - 1s 1ms/step - loss: 0.5449 - accuracy: 0.7715\n",
      "Epoch 2/6\n",
      "315/315 [==============================] - 0s 1ms/step - loss: 0.3528 - accuracy: 0.8506\n",
      "Epoch 3/6\n",
      "315/315 [==============================] - 0s 1ms/step - loss: 0.2831 - accuracy: 0.8893\n",
      "Epoch 4/6\n",
      "315/315 [==============================] - 0s 1ms/step - loss: 0.2458 - accuracy: 0.9097\n",
      "Epoch 5/6\n",
      "315/315 [==============================] - 0s 1ms/step - loss: 0.2227 - accuracy: 0.9178\n",
      "Epoch 6/6\n",
      "315/315 [==============================] - 0s 1ms/step - loss: 0.2120 - accuracy: 0.9230\n",
      "Epoch 1/6\n"
     ]
    },
    {
     "name": "stderr",
     "output_type": "stream",
     "text": [
      "/Users/husni.zuhdi/Documents/Codes/1-Python-Workshop/retention-prediction-demo/retention-prediction/lib/python3.10/site-packages/tensorflow/python/keras/engine/sequential.py:454: UserWarning: `model.predict_classes()` is deprecated and will be removed after 2021-01-01. Please use instead:* `np.argmax(model.predict(x), axis=-1)`,   if your model does multi-class classification   (e.g. if it uses a `softmax` last-layer activation).* `(model.predict(x) > 0.5).astype(\"int32\")`,   if your model does binary classification   (e.g. if it uses a `sigmoid` last-layer activation).\n",
      "  warnings.warn('`model.predict_classes()` is deprecated and '\n"
     ]
    },
    {
     "name": "stdout",
     "output_type": "stream",
     "text": [
      "315/315 [==============================] - 1s 1ms/step - loss: 0.5667 - accuracy: 0.7610\n",
      "Epoch 2/6\n",
      "315/315 [==============================] - 0s 1ms/step - loss: 0.3939 - accuracy: 0.8055\n",
      "Epoch 3/6\n",
      "315/315 [==============================] - 0s 1ms/step - loss: 0.3309 - accuracy: 0.8265\n",
      "Epoch 4/6\n",
      "315/315 [==============================] - 0s 1ms/step - loss: 0.2994 - accuracy: 0.8332\n",
      "Epoch 5/6\n",
      "315/315 [==============================] - 0s 1ms/step - loss: 0.2779 - accuracy: 0.8392\n",
      "Epoch 6/6\n",
      "315/315 [==============================] - 0s 1ms/step - loss: 0.2617 - accuracy: 0.8990\n",
      "Epoch 1/6\n"
     ]
    },
    {
     "name": "stderr",
     "output_type": "stream",
     "text": [
      "/Users/husni.zuhdi/Documents/Codes/1-Python-Workshop/retention-prediction-demo/retention-prediction/lib/python3.10/site-packages/tensorflow/python/keras/engine/sequential.py:454: UserWarning: `model.predict_classes()` is deprecated and will be removed after 2021-01-01. Please use instead:* `np.argmax(model.predict(x), axis=-1)`,   if your model does multi-class classification   (e.g. if it uses a `softmax` last-layer activation).* `(model.predict(x) > 0.5).astype(\"int32\")`,   if your model does binary classification   (e.g. if it uses a `sigmoid` last-layer activation).\n",
      "  warnings.warn('`model.predict_classes()` is deprecated and '\n"
     ]
    },
    {
     "name": "stdout",
     "output_type": "stream",
     "text": [
      "315/315 [==============================] - 1s 1ms/step - loss: 0.5448 - accuracy: 0.7642\n",
      "Epoch 2/6\n",
      "315/315 [==============================] - 0s 1ms/step - loss: 0.4012 - accuracy: 0.7653\n",
      "Epoch 3/6\n",
      "315/315 [==============================] - 0s 1ms/step - loss: 0.3588 - accuracy: 0.7663\n",
      "Epoch 4/6\n",
      "315/315 [==============================] - 0s 1ms/step - loss: 0.3311 - accuracy: 0.8499\n",
      "Epoch 5/6\n",
      "315/315 [==============================] - 0s 1ms/step - loss: 0.3109 - accuracy: 0.8749\n",
      "Epoch 6/6\n",
      "315/315 [==============================] - 0s 1ms/step - loss: 0.2952 - accuracy: 0.8859\n",
      "Epoch 1/6\n"
     ]
    },
    {
     "name": "stderr",
     "output_type": "stream",
     "text": [
      "/Users/husni.zuhdi/Documents/Codes/1-Python-Workshop/retention-prediction-demo/retention-prediction/lib/python3.10/site-packages/tensorflow/python/keras/engine/sequential.py:454: UserWarning: `model.predict_classes()` is deprecated and will be removed after 2021-01-01. Please use instead:* `np.argmax(model.predict(x), axis=-1)`,   if your model does multi-class classification   (e.g. if it uses a `softmax` last-layer activation).* `(model.predict(x) > 0.5).astype(\"int32\")`,   if your model does binary classification   (e.g. if it uses a `sigmoid` last-layer activation).\n",
      "  warnings.warn('`model.predict_classes()` is deprecated and '\n"
     ]
    },
    {
     "name": "stdout",
     "output_type": "stream",
     "text": [
      "315/315 [==============================] - 1s 1ms/step - loss: 0.5628 - accuracy: 0.7768\n",
      "Epoch 2/6\n",
      "315/315 [==============================] - 0s 1ms/step - loss: 0.3950 - accuracy: 0.7998\n",
      "Epoch 3/6\n",
      "315/315 [==============================] - 0s 1ms/step - loss: 0.3374 - accuracy: 0.8191\n",
      "Epoch 4/6\n",
      "315/315 [==============================] - 0s 1ms/step - loss: 0.3069 - accuracy: 0.8381\n",
      "Epoch 5/6\n",
      "315/315 [==============================] - 0s 1ms/step - loss: 0.2854 - accuracy: 0.8493\n",
      "Epoch 6/6\n",
      "315/315 [==============================] - 0s 1ms/step - loss: 0.2694 - accuracy: 0.8547\n",
      "Epoch 1/6\n"
     ]
    },
    {
     "name": "stderr",
     "output_type": "stream",
     "text": [
      "/Users/husni.zuhdi/Documents/Codes/1-Python-Workshop/retention-prediction-demo/retention-prediction/lib/python3.10/site-packages/tensorflow/python/keras/engine/sequential.py:454: UserWarning: `model.predict_classes()` is deprecated and will be removed after 2021-01-01. Please use instead:* `np.argmax(model.predict(x), axis=-1)`,   if your model does multi-class classification   (e.g. if it uses a `softmax` last-layer activation).* `(model.predict(x) > 0.5).astype(\"int32\")`,   if your model does binary classification   (e.g. if it uses a `sigmoid` last-layer activation).\n",
      "  warnings.warn('`model.predict_classes()` is deprecated and '\n"
     ]
    },
    {
     "name": "stdout",
     "output_type": "stream",
     "text": [
      "315/315 [==============================] - 1s 1ms/step - loss: 0.5613 - accuracy: 0.7603\n",
      "Epoch 2/6\n",
      "315/315 [==============================] - 0s 1ms/step - loss: 0.3887 - accuracy: 0.8205\n",
      "Epoch 3/6\n",
      "315/315 [==============================] - 1s 2ms/step - loss: 0.3169 - accuracy: 0.8692\n",
      "Epoch 4/6\n",
      "315/315 [==============================] - 0s 1ms/step - loss: 0.2748 - accuracy: 0.8944\n",
      "Epoch 5/6\n",
      "315/315 [==============================] - 0s 1ms/step - loss: 0.2469 - accuracy: 0.9067\n",
      "Epoch 6/6\n",
      "315/315 [==============================] - 0s 1ms/step - loss: 0.2250 - accuracy: 0.9157\n",
      "Epoch 1/6\n"
     ]
    },
    {
     "name": "stderr",
     "output_type": "stream",
     "text": [
      "/Users/husni.zuhdi/Documents/Codes/1-Python-Workshop/retention-prediction-demo/retention-prediction/lib/python3.10/site-packages/tensorflow/python/keras/engine/sequential.py:454: UserWarning: `model.predict_classes()` is deprecated and will be removed after 2021-01-01. Please use instead:* `np.argmax(model.predict(x), axis=-1)`,   if your model does multi-class classification   (e.g. if it uses a `softmax` last-layer activation).* `(model.predict(x) > 0.5).astype(\"int32\")`,   if your model does binary classification   (e.g. if it uses a `sigmoid` last-layer activation).\n",
      "  warnings.warn('`model.predict_classes()` is deprecated and '\n"
     ]
    },
    {
     "name": "stdout",
     "output_type": "stream",
     "text": [
      "315/315 [==============================] - 1s 1ms/step - loss: 0.5551 - accuracy: 0.7641\n",
      "Epoch 2/6\n",
      "315/315 [==============================] - 0s 1ms/step - loss: 0.3966 - accuracy: 0.7957\n",
      "Epoch 3/6\n",
      "315/315 [==============================] - 0s 2ms/step - loss: 0.3394 - accuracy: 0.8128\n",
      "Epoch 4/6\n",
      "315/315 [==============================] - 1s 2ms/step - loss: 0.3001 - accuracy: 0.8306\n",
      "Epoch 5/6\n",
      "315/315 [==============================] - 1s 2ms/step - loss: 0.2779 - accuracy: 0.8572\n",
      "Epoch 6/6\n",
      "315/315 [==============================] - 0s 1ms/step - loss: 0.2591 - accuracy: 0.9073\n",
      "Epoch 1/6\n"
     ]
    },
    {
     "name": "stderr",
     "output_type": "stream",
     "text": [
      "/Users/husni.zuhdi/Documents/Codes/1-Python-Workshop/retention-prediction-demo/retention-prediction/lib/python3.10/site-packages/tensorflow/python/keras/engine/sequential.py:454: UserWarning: `model.predict_classes()` is deprecated and will be removed after 2021-01-01. Please use instead:* `np.argmax(model.predict(x), axis=-1)`,   if your model does multi-class classification   (e.g. if it uses a `softmax` last-layer activation).* `(model.predict(x) > 0.5).astype(\"int32\")`,   if your model does binary classification   (e.g. if it uses a `sigmoid` last-layer activation).\n",
      "  warnings.warn('`model.predict_classes()` is deprecated and '\n"
     ]
    },
    {
     "name": "stdout",
     "output_type": "stream",
     "text": [
      "315/315 [==============================] - 1s 2ms/step - loss: 0.5527 - accuracy: 0.7631\n",
      "Epoch 2/6\n",
      "315/315 [==============================] - 0s 1ms/step - loss: 0.3926 - accuracy: 0.8233\n",
      "Epoch 3/6\n",
      "315/315 [==============================] - 1s 2ms/step - loss: 0.3204 - accuracy: 0.8693\n",
      "Epoch 4/6\n",
      "315/315 [==============================] - 1s 2ms/step - loss: 0.2689 - accuracy: 0.8999\n",
      "Epoch 5/6\n",
      "315/315 [==============================] - 1s 2ms/step - loss: 0.2412 - accuracy: 0.9107\n",
      "Epoch 6/6\n",
      "315/315 [==============================] - 1s 2ms/step - loss: 0.2233 - accuracy: 0.9178\n"
     ]
    },
    {
     "name": "stderr",
     "output_type": "stream",
     "text": [
      "/Users/husni.zuhdi/Documents/Codes/1-Python-Workshop/retention-prediction-demo/retention-prediction/lib/python3.10/site-packages/tensorflow/python/keras/engine/sequential.py:454: UserWarning: `model.predict_classes()` is deprecated and will be removed after 2021-01-01. Please use instead:* `np.argmax(model.predict(x), axis=-1)`,   if your model does multi-class classification   (e.g. if it uses a `softmax` last-layer activation).* `(model.predict(x) > 0.5).astype(\"int32\")`,   if your model does binary classification   (e.g. if it uses a `sigmoid` last-layer activation).\n",
      "  warnings.warn('`model.predict_classes()` is deprecated and '\n"
     ]
    },
    {
     "name": "stdout",
     "output_type": "stream",
     "text": [
      "Epoch 1/6\n",
      "315/315 [==============================] - 1s 2ms/step - loss: 0.5768 - accuracy: 0.7694\n",
      "Epoch 2/6\n",
      "315/315 [==============================] - 0s 1ms/step - loss: 0.3955 - accuracy: 0.8260\n",
      "Epoch 3/6\n",
      "315/315 [==============================] - 0s 1ms/step - loss: 0.3081 - accuracy: 0.8819\n",
      "Epoch 4/6\n",
      "315/315 [==============================] - 0s 1ms/step - loss: 0.2574 - accuracy: 0.9076\n",
      "Epoch 5/6\n",
      "315/315 [==============================] - 0s 1ms/step - loss: 0.2253 - accuracy: 0.9227\n",
      "Epoch 6/6\n",
      "315/315 [==============================] - 0s 1ms/step - loss: 0.2111 - accuracy: 0.9272\n",
      "Epoch 1/6\n"
     ]
    },
    {
     "name": "stderr",
     "output_type": "stream",
     "text": [
      "/Users/husni.zuhdi/Documents/Codes/1-Python-Workshop/retention-prediction-demo/retention-prediction/lib/python3.10/site-packages/tensorflow/python/keras/engine/sequential.py:454: UserWarning: `model.predict_classes()` is deprecated and will be removed after 2021-01-01. Please use instead:* `np.argmax(model.predict(x), axis=-1)`,   if your model does multi-class classification   (e.g. if it uses a `softmax` last-layer activation).* `(model.predict(x) > 0.5).astype(\"int32\")`,   if your model does binary classification   (e.g. if it uses a `sigmoid` last-layer activation).\n",
      "  warnings.warn('`model.predict_classes()` is deprecated and '\n"
     ]
    },
    {
     "name": "stdout",
     "output_type": "stream",
     "text": [
      "315/315 [==============================] - 1s 2ms/step - loss: 0.5620 - accuracy: 0.7599\n",
      "Epoch 2/6\n",
      "315/315 [==============================] - 1s 2ms/step - loss: 0.4162 - accuracy: 0.7614\n",
      "Epoch 3/6\n",
      "315/315 [==============================] - 0s 1ms/step - loss: 0.3691 - accuracy: 0.7614\n",
      "Epoch 4/6\n",
      "315/315 [==============================] - 0s 1ms/step - loss: 0.3391 - accuracy: 0.8453\n",
      "Epoch 5/6\n",
      "315/315 [==============================] - 0s 1ms/step - loss: 0.3194 - accuracy: 0.8651\n",
      "Epoch 6/6\n",
      "315/315 [==============================] - 0s 1ms/step - loss: 0.3056 - accuracy: 0.8782\n",
      "Epoch 1/6\n"
     ]
    },
    {
     "name": "stderr",
     "output_type": "stream",
     "text": [
      "/Users/husni.zuhdi/Documents/Codes/1-Python-Workshop/retention-prediction-demo/retention-prediction/lib/python3.10/site-packages/tensorflow/python/keras/engine/sequential.py:454: UserWarning: `model.predict_classes()` is deprecated and will be removed after 2021-01-01. Please use instead:* `np.argmax(model.predict(x), axis=-1)`,   if your model does multi-class classification   (e.g. if it uses a `softmax` last-layer activation).* `(model.predict(x) > 0.5).astype(\"int32\")`,   if your model does binary classification   (e.g. if it uses a `sigmoid` last-layer activation).\n",
      "  warnings.warn('`model.predict_classes()` is deprecated and '\n"
     ]
    },
    {
     "name": "stdout",
     "output_type": "stream",
     "text": [
      "315/315 [==============================] - 1s 1ms/step - loss: 0.5785 - accuracy: 0.7799\n",
      "Epoch 2/6\n",
      "315/315 [==============================] - 0s 1ms/step - loss: 0.3970 - accuracy: 0.8099\n",
      "Epoch 3/6\n",
      "315/315 [==============================] - 0s 1ms/step - loss: 0.3126 - accuracy: 0.8796\n",
      "Epoch 4/6\n",
      "315/315 [==============================] - 0s 2ms/step - loss: 0.2611 - accuracy: 0.9061\n",
      "Epoch 5/6\n",
      "315/315 [==============================] - 0s 2ms/step - loss: 0.2316 - accuracy: 0.9171\n",
      "Epoch 6/6\n",
      "315/315 [==============================] - 1s 2ms/step - loss: 0.2151 - accuracy: 0.9264\n",
      "Epoch 1/6\n"
     ]
    },
    {
     "name": "stderr",
     "output_type": "stream",
     "text": [
      "/Users/husni.zuhdi/Documents/Codes/1-Python-Workshop/retention-prediction-demo/retention-prediction/lib/python3.10/site-packages/tensorflow/python/keras/engine/sequential.py:454: UserWarning: `model.predict_classes()` is deprecated and will be removed after 2021-01-01. Please use instead:* `np.argmax(model.predict(x), axis=-1)`,   if your model does multi-class classification   (e.g. if it uses a `softmax` last-layer activation).* `(model.predict(x) > 0.5).astype(\"int32\")`,   if your model does binary classification   (e.g. if it uses a `sigmoid` last-layer activation).\n",
      "  warnings.warn('`model.predict_classes()` is deprecated and '\n"
     ]
    },
    {
     "name": "stdout",
     "output_type": "stream",
     "text": [
      "315/315 [==============================] - 1s 1ms/step - loss: 0.5656 - accuracy: 0.7643\n",
      "Epoch 2/6\n",
      "315/315 [==============================] - 0s 1ms/step - loss: 0.3986 - accuracy: 0.7968\n",
      "Epoch 3/6\n",
      "315/315 [==============================] - 0s 1ms/step - loss: 0.3377 - accuracy: 0.8152\n",
      "Epoch 4/6\n",
      "315/315 [==============================] - 0s 1ms/step - loss: 0.3020 - accuracy: 0.8343\n",
      "Epoch 5/6\n",
      "315/315 [==============================] - 0s 1ms/step - loss: 0.2745 - accuracy: 0.8429\n",
      "Epoch 6/6\n",
      "315/315 [==============================] - 0s 1ms/step - loss: 0.2556 - accuracy: 0.8876\n",
      "Epoch 1/8\n"
     ]
    },
    {
     "name": "stderr",
     "output_type": "stream",
     "text": [
      "/Users/husni.zuhdi/Documents/Codes/1-Python-Workshop/retention-prediction-demo/retention-prediction/lib/python3.10/site-packages/tensorflow/python/keras/engine/sequential.py:454: UserWarning: `model.predict_classes()` is deprecated and will be removed after 2021-01-01. Please use instead:* `np.argmax(model.predict(x), axis=-1)`,   if your model does multi-class classification   (e.g. if it uses a `softmax` last-layer activation).* `(model.predict(x) > 0.5).astype(\"int32\")`,   if your model does binary classification   (e.g. if it uses a `sigmoid` last-layer activation).\n",
      "  warnings.warn('`model.predict_classes()` is deprecated and '\n"
     ]
    },
    {
     "name": "stdout",
     "output_type": "stream",
     "text": [
      "315/315 [==============================] - 1s 1ms/step - loss: 0.5436 - accuracy: 0.7677\n",
      "Epoch 2/8\n",
      "315/315 [==============================] - 0s 1ms/step - loss: 0.3726 - accuracy: 0.8177\n",
      "Epoch 3/8\n",
      "315/315 [==============================] - 0s 1ms/step - loss: 0.3278 - accuracy: 0.8275\n",
      "Epoch 4/8\n",
      "315/315 [==============================] - 0s 1ms/step - loss: 0.3007 - accuracy: 0.8354\n",
      "Epoch 5/8\n",
      "315/315 [==============================] - 0s 1ms/step - loss: 0.2860 - accuracy: 0.8373\n",
      "Epoch 6/8\n",
      "315/315 [==============================] - 0s 1ms/step - loss: 0.2693 - accuracy: 0.8445\n",
      "Epoch 7/8\n",
      "315/315 [==============================] - 0s 1ms/step - loss: 0.2596 - accuracy: 0.9015\n",
      "Epoch 8/8\n",
      "315/315 [==============================] - 0s 1ms/step - loss: 0.2489 - accuracy: 0.9122\n",
      "Epoch 1/8\n"
     ]
    },
    {
     "name": "stderr",
     "output_type": "stream",
     "text": [
      "/Users/husni.zuhdi/Documents/Codes/1-Python-Workshop/retention-prediction-demo/retention-prediction/lib/python3.10/site-packages/tensorflow/python/keras/engine/sequential.py:454: UserWarning: `model.predict_classes()` is deprecated and will be removed after 2021-01-01. Please use instead:* `np.argmax(model.predict(x), axis=-1)`,   if your model does multi-class classification   (e.g. if it uses a `softmax` last-layer activation).* `(model.predict(x) > 0.5).astype(\"int32\")`,   if your model does binary classification   (e.g. if it uses a `sigmoid` last-layer activation).\n",
      "  warnings.warn('`model.predict_classes()` is deprecated and '\n"
     ]
    },
    {
     "name": "stdout",
     "output_type": "stream",
     "text": [
      "315/315 [==============================] - 2s 1ms/step - loss: 0.5386 - accuracy: 0.7660\n",
      "Epoch 2/8\n",
      "315/315 [==============================] - 0s 1ms/step - loss: 0.3677 - accuracy: 0.8162\n",
      "Epoch 3/8\n",
      "315/315 [==============================] - 0s 1ms/step - loss: 0.3152 - accuracy: 0.8273\n",
      "Epoch 4/8\n",
      "315/315 [==============================] - 0s 1ms/step - loss: 0.2894 - accuracy: 0.8317\n",
      "Epoch 5/8\n",
      "315/315 [==============================] - 0s 1ms/step - loss: 0.2713 - accuracy: 0.8475\n",
      "Epoch 6/8\n",
      "315/315 [==============================] - 0s 1ms/step - loss: 0.2601 - accuracy: 0.8996\n",
      "Epoch 7/8\n",
      "315/315 [==============================] - 0s 1ms/step - loss: 0.2532 - accuracy: 0.9039\n",
      "Epoch 8/8\n",
      "315/315 [==============================] - 0s 1ms/step - loss: 0.2479 - accuracy: 0.9085\n",
      "Epoch 1/8\n"
     ]
    },
    {
     "name": "stderr",
     "output_type": "stream",
     "text": [
      "/Users/husni.zuhdi/Documents/Codes/1-Python-Workshop/retention-prediction-demo/retention-prediction/lib/python3.10/site-packages/tensorflow/python/keras/engine/sequential.py:454: UserWarning: `model.predict_classes()` is deprecated and will be removed after 2021-01-01. Please use instead:* `np.argmax(model.predict(x), axis=-1)`,   if your model does multi-class classification   (e.g. if it uses a `softmax` last-layer activation).* `(model.predict(x) > 0.5).astype(\"int32\")`,   if your model does binary classification   (e.g. if it uses a `sigmoid` last-layer activation).\n",
      "  warnings.warn('`model.predict_classes()` is deprecated and '\n"
     ]
    },
    {
     "name": "stdout",
     "output_type": "stream",
     "text": [
      "315/315 [==============================] - 1s 1ms/step - loss: 0.5492 - accuracy: 0.7610\n",
      "Epoch 2/8\n",
      "315/315 [==============================] - 0s 1ms/step - loss: 0.3858 - accuracy: 0.8032\n",
      "Epoch 3/8\n",
      "315/315 [==============================] - 0s 1ms/step - loss: 0.3314 - accuracy: 0.8484\n",
      "Epoch 4/8\n",
      "315/315 [==============================] - 0s 1ms/step - loss: 0.3006 - accuracy: 0.8552\n",
      "Epoch 5/8\n",
      "315/315 [==============================] - 0s 1ms/step - loss: 0.2771 - accuracy: 0.8633\n",
      "Epoch 6/8\n",
      "315/315 [==============================] - 0s 1ms/step - loss: 0.2605 - accuracy: 0.8715\n",
      "Epoch 7/8\n",
      "315/315 [==============================] - 0s 1ms/step - loss: 0.2514 - accuracy: 0.8933\n",
      "Epoch 8/8\n",
      "315/315 [==============================] - 0s 1ms/step - loss: 0.2462 - accuracy: 0.9020\n",
      "Epoch 1/8\n"
     ]
    },
    {
     "name": "stderr",
     "output_type": "stream",
     "text": [
      "/Users/husni.zuhdi/Documents/Codes/1-Python-Workshop/retention-prediction-demo/retention-prediction/lib/python3.10/site-packages/tensorflow/python/keras/engine/sequential.py:454: UserWarning: `model.predict_classes()` is deprecated and will be removed after 2021-01-01. Please use instead:* `np.argmax(model.predict(x), axis=-1)`,   if your model does multi-class classification   (e.g. if it uses a `softmax` last-layer activation).* `(model.predict(x) > 0.5).astype(\"int32\")`,   if your model does binary classification   (e.g. if it uses a `sigmoid` last-layer activation).\n",
      "  warnings.warn('`model.predict_classes()` is deprecated and '\n"
     ]
    },
    {
     "name": "stdout",
     "output_type": "stream",
     "text": [
      "315/315 [==============================] - 1s 1ms/step - loss: 0.5640 - accuracy: 0.7651\n",
      "Epoch 2/8\n",
      "315/315 [==============================] - 0s 1ms/step - loss: 0.3686 - accuracy: 0.8078\n",
      "Epoch 3/8\n",
      "315/315 [==============================] - 0s 1ms/step - loss: 0.3067 - accuracy: 0.8354\n",
      "Epoch 4/8\n",
      "315/315 [==============================] - 0s 1ms/step - loss: 0.2730 - accuracy: 0.8468\n",
      "Epoch 5/8\n",
      "315/315 [==============================] - 0s 1ms/step - loss: 0.2508 - accuracy: 0.8534\n",
      "Epoch 6/8\n",
      "315/315 [==============================] - 0s 1ms/step - loss: 0.2387 - accuracy: 0.8742\n",
      "Epoch 7/8\n",
      "315/315 [==============================] - 0s 1ms/step - loss: 0.2290 - accuracy: 0.9296\n",
      "Epoch 8/8\n",
      "315/315 [==============================] - 0s 1ms/step - loss: 0.2249 - accuracy: 0.9332\n",
      "Epoch 1/8\n"
     ]
    },
    {
     "name": "stderr",
     "output_type": "stream",
     "text": [
      "/Users/husni.zuhdi/Documents/Codes/1-Python-Workshop/retention-prediction-demo/retention-prediction/lib/python3.10/site-packages/tensorflow/python/keras/engine/sequential.py:454: UserWarning: `model.predict_classes()` is deprecated and will be removed after 2021-01-01. Please use instead:* `np.argmax(model.predict(x), axis=-1)`,   if your model does multi-class classification   (e.g. if it uses a `softmax` last-layer activation).* `(model.predict(x) > 0.5).astype(\"int32\")`,   if your model does binary classification   (e.g. if it uses a `sigmoid` last-layer activation).\n",
      "  warnings.warn('`model.predict_classes()` is deprecated and '\n"
     ]
    },
    {
     "name": "stdout",
     "output_type": "stream",
     "text": [
      "315/315 [==============================] - 1s 1ms/step - loss: 0.5388 - accuracy: 0.7647\n",
      "Epoch 2/8\n",
      "315/315 [==============================] - 1s 2ms/step - loss: 0.3947 - accuracy: 0.7651\n",
      "Epoch 3/8\n",
      "315/315 [==============================] - 0s 1ms/step - loss: 0.3477 - accuracy: 0.7653\n",
      "Epoch 4/8\n",
      "315/315 [==============================] - 0s 1ms/step - loss: 0.3160 - accuracy: 0.8633\n",
      "Epoch 5/8\n",
      "315/315 [==============================] - 0s 1ms/step - loss: 0.2945 - accuracy: 0.8943\n",
      "Epoch 6/8\n",
      "315/315 [==============================] - 0s 1ms/step - loss: 0.2806 - accuracy: 0.9050\n",
      "Epoch 7/8\n",
      "315/315 [==============================] - 0s 1ms/step - loss: 0.2697 - accuracy: 0.9115\n",
      "Epoch 8/8\n",
      "315/315 [==============================] - 0s 1ms/step - loss: 0.2620 - accuracy: 0.9153\n",
      "Epoch 1/8\n"
     ]
    },
    {
     "name": "stderr",
     "output_type": "stream",
     "text": [
      "/Users/husni.zuhdi/Documents/Codes/1-Python-Workshop/retention-prediction-demo/retention-prediction/lib/python3.10/site-packages/tensorflow/python/keras/engine/sequential.py:454: UserWarning: `model.predict_classes()` is deprecated and will be removed after 2021-01-01. Please use instead:* `np.argmax(model.predict(x), axis=-1)`,   if your model does multi-class classification   (e.g. if it uses a `softmax` last-layer activation).* `(model.predict(x) > 0.5).astype(\"int32\")`,   if your model does binary classification   (e.g. if it uses a `sigmoid` last-layer activation).\n",
      "  warnings.warn('`model.predict_classes()` is deprecated and '\n"
     ]
    },
    {
     "name": "stdout",
     "output_type": "stream",
     "text": [
      "315/315 [==============================] - 1s 1ms/step - loss: 0.5636 - accuracy: 0.7620\n",
      "Epoch 2/8\n",
      "315/315 [==============================] - 0s 1ms/step - loss: 0.3615 - accuracy: 0.8311\n",
      "Epoch 3/8\n",
      "315/315 [==============================] - 0s 1ms/step - loss: 0.2884 - accuracy: 0.8860\n",
      "Epoch 4/8\n",
      "315/315 [==============================] - 0s 1ms/step - loss: 0.2495 - accuracy: 0.9072\n",
      "Epoch 5/8\n",
      "315/315 [==============================] - 0s 1ms/step - loss: 0.2284 - accuracy: 0.9162\n",
      "Epoch 6/8\n",
      "315/315 [==============================] - 0s 1ms/step - loss: 0.2125 - accuracy: 0.9256\n",
      "Epoch 7/8\n",
      "315/315 [==============================] - 0s 1ms/step - loss: 0.2083 - accuracy: 0.9256\n",
      "Epoch 8/8\n",
      "315/315 [==============================] - 0s 1ms/step - loss: 0.1963 - accuracy: 0.9312\n",
      "Epoch 1/8\n"
     ]
    },
    {
     "name": "stderr",
     "output_type": "stream",
     "text": [
      "/Users/husni.zuhdi/Documents/Codes/1-Python-Workshop/retention-prediction-demo/retention-prediction/lib/python3.10/site-packages/tensorflow/python/keras/engine/sequential.py:454: UserWarning: `model.predict_classes()` is deprecated and will be removed after 2021-01-01. Please use instead:* `np.argmax(model.predict(x), axis=-1)`,   if your model does multi-class classification   (e.g. if it uses a `softmax` last-layer activation).* `(model.predict(x) > 0.5).astype(\"int32\")`,   if your model does binary classification   (e.g. if it uses a `sigmoid` last-layer activation).\n",
      "  warnings.warn('`model.predict_classes()` is deprecated and '\n"
     ]
    },
    {
     "name": "stdout",
     "output_type": "stream",
     "text": [
      "315/315 [==============================] - 1s 1ms/step - loss: 0.5385 - accuracy: 0.7702\n",
      "Epoch 2/8\n",
      "315/315 [==============================] - 0s 1ms/step - loss: 0.3709 - accuracy: 0.8029\n",
      "Epoch 3/8\n",
      "315/315 [==============================] - 0s 1ms/step - loss: 0.3111 - accuracy: 0.8255\n",
      "Epoch 4/8\n",
      "315/315 [==============================] - 0s 1ms/step - loss: 0.2759 - accuracy: 0.8395\n",
      "Epoch 5/8\n",
      "315/315 [==============================] - 0s 1ms/step - loss: 0.2591 - accuracy: 0.8734\n",
      "Epoch 6/8\n",
      "315/315 [==============================] - 1s 2ms/step - loss: 0.2472 - accuracy: 0.9073\n",
      "Epoch 7/8\n",
      "315/315 [==============================] - 0s 1ms/step - loss: 0.2392 - accuracy: 0.9250\n",
      "Epoch 8/8\n",
      "315/315 [==============================] - 0s 1ms/step - loss: 0.2344 - accuracy: 0.9282\n",
      "Epoch 1/8\n"
     ]
    },
    {
     "name": "stderr",
     "output_type": "stream",
     "text": [
      "/Users/husni.zuhdi/Documents/Codes/1-Python-Workshop/retention-prediction-demo/retention-prediction/lib/python3.10/site-packages/tensorflow/python/keras/engine/sequential.py:454: UserWarning: `model.predict_classes()` is deprecated and will be removed after 2021-01-01. Please use instead:* `np.argmax(model.predict(x), axis=-1)`,   if your model does multi-class classification   (e.g. if it uses a `softmax` last-layer activation).* `(model.predict(x) > 0.5).astype(\"int32\")`,   if your model does binary classification   (e.g. if it uses a `sigmoid` last-layer activation).\n",
      "  warnings.warn('`model.predict_classes()` is deprecated and '\n"
     ]
    },
    {
     "name": "stdout",
     "output_type": "stream",
     "text": [
      "315/315 [==============================] - 1s 1ms/step - loss: 0.5582 - accuracy: 0.7700\n",
      "Epoch 2/8\n",
      "315/315 [==============================] - 0s 1ms/step - loss: 0.3516 - accuracy: 0.8558\n",
      "Epoch 3/8\n",
      "315/315 [==============================] - 0s 1ms/step - loss: 0.2773 - accuracy: 0.8996\n",
      "Epoch 4/8\n",
      "315/315 [==============================] - 0s 1ms/step - loss: 0.2394 - accuracy: 0.9139\n",
      "Epoch 5/8\n",
      "315/315 [==============================] - 0s 1ms/step - loss: 0.2214 - accuracy: 0.9230\n",
      "Epoch 6/8\n",
      "315/315 [==============================] - 0s 1ms/step - loss: 0.2093 - accuracy: 0.9263\n",
      "Epoch 7/8\n",
      "315/315 [==============================] - 0s 1ms/step - loss: 0.1990 - accuracy: 0.9314\n",
      "Epoch 8/8\n",
      "315/315 [==============================] - 0s 1ms/step - loss: 0.1972 - accuracy: 0.9334\n",
      "Epoch 1/8\n"
     ]
    },
    {
     "name": "stderr",
     "output_type": "stream",
     "text": [
      "/Users/husni.zuhdi/Documents/Codes/1-Python-Workshop/retention-prediction-demo/retention-prediction/lib/python3.10/site-packages/tensorflow/python/keras/engine/sequential.py:454: UserWarning: `model.predict_classes()` is deprecated and will be removed after 2021-01-01. Please use instead:* `np.argmax(model.predict(x), axis=-1)`,   if your model does multi-class classification   (e.g. if it uses a `softmax` last-layer activation).* `(model.predict(x) > 0.5).astype(\"int32\")`,   if your model does binary classification   (e.g. if it uses a `sigmoid` last-layer activation).\n",
      "  warnings.warn('`model.predict_classes()` is deprecated and '\n"
     ]
    },
    {
     "name": "stdout",
     "output_type": "stream",
     "text": [
      "315/315 [==============================] - 1s 1ms/step - loss: 0.5479 - accuracy: 0.7631\n",
      "Epoch 2/8\n",
      "315/315 [==============================] - 0s 1ms/step - loss: 0.3686 - accuracy: 0.8168\n",
      "Epoch 3/8\n",
      "315/315 [==============================] - 0s 1ms/step - loss: 0.3144 - accuracy: 0.8305\n",
      "Epoch 4/8\n",
      "315/315 [==============================] - 0s 1ms/step - loss: 0.2896 - accuracy: 0.8371\n",
      "Epoch 5/8\n",
      "315/315 [==============================] - 0s 1ms/step - loss: 0.2713 - accuracy: 0.8429\n",
      "Epoch 6/8\n",
      "315/315 [==============================] - 0s 1ms/step - loss: 0.2583 - accuracy: 0.8801\n",
      "Epoch 7/8\n",
      "315/315 [==============================] - 0s 1ms/step - loss: 0.2489 - accuracy: 0.9099\n",
      "Epoch 8/8\n",
      "315/315 [==============================] - 0s 1ms/step - loss: 0.2451 - accuracy: 0.9166\n"
     ]
    },
    {
     "name": "stderr",
     "output_type": "stream",
     "text": [
      "/Users/husni.zuhdi/Documents/Codes/1-Python-Workshop/retention-prediction-demo/retention-prediction/lib/python3.10/site-packages/tensorflow/python/keras/engine/sequential.py:454: UserWarning: `model.predict_classes()` is deprecated and will be removed after 2021-01-01. Please use instead:* `np.argmax(model.predict(x), axis=-1)`,   if your model does multi-class classification   (e.g. if it uses a `softmax` last-layer activation).* `(model.predict(x) > 0.5).astype(\"int32\")`,   if your model does binary classification   (e.g. if it uses a `sigmoid` last-layer activation).\n",
      "  warnings.warn('`model.predict_classes()` is deprecated and '\n"
     ]
    },
    {
     "name": "stdout",
     "output_type": "stream",
     "text": [
      "Epoch 1/8\n",
      "315/315 [==============================] - 1s 2ms/step - loss: 0.5428 - accuracy: 0.7694\n",
      "Epoch 2/8\n",
      "315/315 [==============================] - 0s 2ms/step - loss: 0.3759 - accuracy: 0.8018\n",
      "Epoch 3/8\n",
      "315/315 [==============================] - 1s 2ms/step - loss: 0.3194 - accuracy: 0.8213\n",
      "Epoch 4/8\n",
      "315/315 [==============================] - 0s 1ms/step - loss: 0.2872 - accuracy: 0.8366\n",
      "Epoch 5/8\n",
      "315/315 [==============================] - 0s 1ms/step - loss: 0.2683 - accuracy: 0.8563\n",
      "Epoch 6/8\n",
      "315/315 [==============================] - 0s 1ms/step - loss: 0.2527 - accuracy: 0.9063\n",
      "Epoch 7/8\n",
      "315/315 [==============================] - 0s 1ms/step - loss: 0.2396 - accuracy: 0.9251\n",
      "Epoch 8/8\n",
      "315/315 [==============================] - 0s 1ms/step - loss: 0.2311 - accuracy: 0.9348\n",
      "Epoch 1/8\n"
     ]
    },
    {
     "name": "stderr",
     "output_type": "stream",
     "text": [
      "/Users/husni.zuhdi/Documents/Codes/1-Python-Workshop/retention-prediction-demo/retention-prediction/lib/python3.10/site-packages/tensorflow/python/keras/engine/sequential.py:454: UserWarning: `model.predict_classes()` is deprecated and will be removed after 2021-01-01. Please use instead:* `np.argmax(model.predict(x), axis=-1)`,   if your model does multi-class classification   (e.g. if it uses a `softmax` last-layer activation).* `(model.predict(x) > 0.5).astype(\"int32\")`,   if your model does binary classification   (e.g. if it uses a `sigmoid` last-layer activation).\n",
      "  warnings.warn('`model.predict_classes()` is deprecated and '\n"
     ]
    },
    {
     "name": "stdout",
     "output_type": "stream",
     "text": [
      "315/315 [==============================] - 1s 1ms/step - loss: 0.5667 - accuracy: 0.7654\n",
      "Epoch 2/8\n",
      "315/315 [==============================] - 0s 1ms/step - loss: 0.3864 - accuracy: 0.8268\n",
      "Epoch 3/8\n",
      "315/315 [==============================] - 0s 1ms/step - loss: 0.3017 - accuracy: 0.8851\n",
      "Epoch 4/8\n",
      "315/315 [==============================] - 0s 1ms/step - loss: 0.2529 - accuracy: 0.9075\n",
      "Epoch 5/8\n",
      "315/315 [==============================] - 0s 1ms/step - loss: 0.2245 - accuracy: 0.9206\n",
      "Epoch 6/8\n",
      "315/315 [==============================] - 0s 1ms/step - loss: 0.2122 - accuracy: 0.9266\n",
      "Epoch 7/8\n",
      "315/315 [==============================] - 0s 1ms/step - loss: 0.2013 - accuracy: 0.9298\n",
      "Epoch 8/8\n",
      "315/315 [==============================] - 0s 1ms/step - loss: 0.1959 - accuracy: 0.9334\n",
      "Epoch 1/8\n"
     ]
    },
    {
     "name": "stderr",
     "output_type": "stream",
     "text": [
      "/Users/husni.zuhdi/Documents/Codes/1-Python-Workshop/retention-prediction-demo/retention-prediction/lib/python3.10/site-packages/tensorflow/python/keras/engine/sequential.py:454: UserWarning: `model.predict_classes()` is deprecated and will be removed after 2021-01-01. Please use instead:* `np.argmax(model.predict(x), axis=-1)`,   if your model does multi-class classification   (e.g. if it uses a `softmax` last-layer activation).* `(model.predict(x) > 0.5).astype(\"int32\")`,   if your model does binary classification   (e.g. if it uses a `sigmoid` last-layer activation).\n",
      "  warnings.warn('`model.predict_classes()` is deprecated and '\n"
     ]
    },
    {
     "name": "stdout",
     "output_type": "stream",
     "text": [
      "315/315 [==============================] - 1s 1ms/step - loss: 0.5520 - accuracy: 0.7701\n",
      "Epoch 2/8\n",
      "315/315 [==============================] - 0s 1ms/step - loss: 0.3874 - accuracy: 0.8047\n",
      "Epoch 3/8\n",
      "315/315 [==============================] - 0s 2ms/step - loss: 0.3280 - accuracy: 0.8204\n",
      "Epoch 4/8\n",
      "315/315 [==============================] - 0s 1ms/step - loss: 0.2933 - accuracy: 0.8399\n",
      "Epoch 5/8\n",
      "315/315 [==============================] - 0s 1ms/step - loss: 0.2713 - accuracy: 0.8480\n",
      "Epoch 6/8\n",
      "315/315 [==============================] - 0s 1ms/step - loss: 0.2568 - accuracy: 0.8754\n",
      "Epoch 7/8\n",
      "315/315 [==============================] - 0s 1ms/step - loss: 0.2443 - accuracy: 0.9169\n",
      "Epoch 8/8\n",
      "315/315 [==============================] - 0s 1ms/step - loss: 0.2339 - accuracy: 0.9327\n",
      "Epoch 1/8\n"
     ]
    },
    {
     "name": "stderr",
     "output_type": "stream",
     "text": [
      "/Users/husni.zuhdi/Documents/Codes/1-Python-Workshop/retention-prediction-demo/retention-prediction/lib/python3.10/site-packages/tensorflow/python/keras/engine/sequential.py:454: UserWarning: `model.predict_classes()` is deprecated and will be removed after 2021-01-01. Please use instead:* `np.argmax(model.predict(x), axis=-1)`,   if your model does multi-class classification   (e.g. if it uses a `softmax` last-layer activation).* `(model.predict(x) > 0.5).astype(\"int32\")`,   if your model does binary classification   (e.g. if it uses a `sigmoid` last-layer activation).\n",
      "  warnings.warn('`model.predict_classes()` is deprecated and '\n"
     ]
    },
    {
     "name": "stdout",
     "output_type": "stream",
     "text": [
      "315/315 [==============================] - 1s 1ms/step - loss: 0.5520 - accuracy: 0.7622\n",
      "Epoch 2/8\n",
      "315/315 [==============================] - 1s 2ms/step - loss: 0.4090 - accuracy: 0.7628\n",
      "Epoch 3/8\n",
      "315/315 [==============================] - 1s 2ms/step - loss: 0.3660 - accuracy: 0.7628\n",
      "Epoch 4/8\n",
      "315/315 [==============================] - 0s 1ms/step - loss: 0.3372 - accuracy: 0.8403\n",
      "Epoch 5/8\n",
      "315/315 [==============================] - 1s 2ms/step - loss: 0.3169 - accuracy: 0.8797\n",
      "Epoch 6/8\n",
      "315/315 [==============================] - 0s 1ms/step - loss: 0.2987 - accuracy: 0.8965\n",
      "Epoch 7/8\n",
      "315/315 [==============================] - 1s 2ms/step - loss: 0.2833 - accuracy: 0.9036\n",
      "Epoch 8/8\n",
      "315/315 [==============================] - 1s 2ms/step - loss: 0.2731 - accuracy: 0.9093\n",
      "Epoch 1/8\n"
     ]
    },
    {
     "name": "stderr",
     "output_type": "stream",
     "text": [
      "/Users/husni.zuhdi/Documents/Codes/1-Python-Workshop/retention-prediction-demo/retention-prediction/lib/python3.10/site-packages/tensorflow/python/keras/engine/sequential.py:454: UserWarning: `model.predict_classes()` is deprecated and will be removed after 2021-01-01. Please use instead:* `np.argmax(model.predict(x), axis=-1)`,   if your model does multi-class classification   (e.g. if it uses a `softmax` last-layer activation).* `(model.predict(x) > 0.5).astype(\"int32\")`,   if your model does binary classification   (e.g. if it uses a `sigmoid` last-layer activation).\n",
      "  warnings.warn('`model.predict_classes()` is deprecated and '\n"
     ]
    },
    {
     "name": "stdout",
     "output_type": "stream",
     "text": [
      "315/315 [==============================] - 1s 2ms/step - loss: 0.5700 - accuracy: 0.7581\n",
      "Epoch 2/8\n",
      "315/315 [==============================] - 0s 1ms/step - loss: 0.4043 - accuracy: 0.7999\n",
      "Epoch 3/8\n",
      "315/315 [==============================] - 0s 1ms/step - loss: 0.3391 - accuracy: 0.8517\n",
      "Epoch 4/8\n",
      "315/315 [==============================] - 1s 2ms/step - loss: 0.3026 - accuracy: 0.8637\n",
      "Epoch 5/8\n",
      "315/315 [==============================] - 1s 2ms/step - loss: 0.2776 - accuracy: 0.8681\n",
      "Epoch 6/8\n",
      "315/315 [==============================] - 0s 2ms/step - loss: 0.2607 - accuracy: 0.8734\n",
      "Epoch 7/8\n",
      "315/315 [==============================] - 1s 2ms/step - loss: 0.2451 - accuracy: 0.8806\n",
      "Epoch 8/8\n",
      "315/315 [==============================] - 1s 2ms/step - loss: 0.2372 - accuracy: 0.8814\n"
     ]
    },
    {
     "name": "stderr",
     "output_type": "stream",
     "text": [
      "/Users/husni.zuhdi/Documents/Codes/1-Python-Workshop/retention-prediction-demo/retention-prediction/lib/python3.10/site-packages/tensorflow/python/keras/engine/sequential.py:454: UserWarning: `model.predict_classes()` is deprecated and will be removed after 2021-01-01. Please use instead:* `np.argmax(model.predict(x), axis=-1)`,   if your model does multi-class classification   (e.g. if it uses a `softmax` last-layer activation).* `(model.predict(x) > 0.5).astype(\"int32\")`,   if your model does binary classification   (e.g. if it uses a `sigmoid` last-layer activation).\n",
      "  warnings.warn('`model.predict_classes()` is deprecated and '\n"
     ]
    },
    {
     "name": "stdout",
     "output_type": "stream",
     "text": [
      "Epoch 1/8\n",
      "315/315 [==============================] - 1s 2ms/step - loss: 0.5613 - accuracy: 0.7621\n",
      "Epoch 2/8\n",
      "315/315 [==============================] - 0s 1ms/step - loss: 0.4080 - accuracy: 0.7651\n",
      "Epoch 3/8\n",
      "315/315 [==============================] - 0s 1ms/step - loss: 0.3620 - accuracy: 0.7651\n",
      "Epoch 4/8\n",
      "315/315 [==============================] - 0s 1ms/step - loss: 0.3310 - accuracy: 0.8420\n",
      "Epoch 5/8\n",
      "315/315 [==============================] - 0s 1ms/step - loss: 0.3090 - accuracy: 0.8771\n",
      "Epoch 6/8\n",
      "315/315 [==============================] - 0s 1ms/step - loss: 0.2932 - accuracy: 0.8890\n",
      "Epoch 7/8\n",
      "315/315 [==============================] - 0s 1ms/step - loss: 0.2807 - accuracy: 0.9010\n",
      "Epoch 8/8\n",
      "315/315 [==============================] - 0s 1ms/step - loss: 0.2700 - accuracy: 0.9068\n",
      "Epoch 1/8\n"
     ]
    },
    {
     "name": "stderr",
     "output_type": "stream",
     "text": [
      "/Users/husni.zuhdi/Documents/Codes/1-Python-Workshop/retention-prediction-demo/retention-prediction/lib/python3.10/site-packages/tensorflow/python/keras/engine/sequential.py:454: UserWarning: `model.predict_classes()` is deprecated and will be removed after 2021-01-01. Please use instead:* `np.argmax(model.predict(x), axis=-1)`,   if your model does multi-class classification   (e.g. if it uses a `softmax` last-layer activation).* `(model.predict(x) > 0.5).astype(\"int32\")`,   if your model does binary classification   (e.g. if it uses a `sigmoid` last-layer activation).\n",
      "  warnings.warn('`model.predict_classes()` is deprecated and '\n"
     ]
    },
    {
     "name": "stdout",
     "output_type": "stream",
     "text": [
      "315/315 [==============================] - 1s 1ms/step - loss: 0.5641 - accuracy: 0.7612\n",
      "Epoch 2/8\n",
      "315/315 [==============================] - 0s 1ms/step - loss: 0.3853 - accuracy: 0.8319\n",
      "Epoch 3/8\n",
      "315/315 [==============================] - 0s 1ms/step - loss: 0.3111 - accuracy: 0.8706\n",
      "Epoch 4/8\n",
      "315/315 [==============================] - 0s 1ms/step - loss: 0.2624 - accuracy: 0.9012\n",
      "Epoch 5/8\n",
      "315/315 [==============================] - 0s 1ms/step - loss: 0.2359 - accuracy: 0.9175\n",
      "Epoch 6/8\n",
      "315/315 [==============================] - 1s 2ms/step - loss: 0.2204 - accuracy: 0.9225\n",
      "Epoch 7/8\n",
      "315/315 [==============================] - 0s 1ms/step - loss: 0.2099 - accuracy: 0.9257\n",
      "Epoch 8/8\n",
      "315/315 [==============================] - 0s 1ms/step - loss: 0.1995 - accuracy: 0.9293\n",
      "Epoch 1/8\n"
     ]
    },
    {
     "name": "stderr",
     "output_type": "stream",
     "text": [
      "/Users/husni.zuhdi/Documents/Codes/1-Python-Workshop/retention-prediction-demo/retention-prediction/lib/python3.10/site-packages/tensorflow/python/keras/engine/sequential.py:454: UserWarning: `model.predict_classes()` is deprecated and will be removed after 2021-01-01. Please use instead:* `np.argmax(model.predict(x), axis=-1)`,   if your model does multi-class classification   (e.g. if it uses a `softmax` last-layer activation).* `(model.predict(x) > 0.5).astype(\"int32\")`,   if your model does binary classification   (e.g. if it uses a `sigmoid` last-layer activation).\n",
      "  warnings.warn('`model.predict_classes()` is deprecated and '\n"
     ]
    },
    {
     "name": "stdout",
     "output_type": "stream",
     "text": [
      "315/315 [==============================] - 1s 1ms/step - loss: 0.5705 - accuracy: 0.7624\n",
      "Epoch 2/8\n",
      "315/315 [==============================] - 0s 1ms/step - loss: 0.3831 - accuracy: 0.8276\n",
      "Epoch 3/8\n",
      "315/315 [==============================] - 0s 1ms/step - loss: 0.2983 - accuracy: 0.8859\n",
      "Epoch 4/8\n",
      "315/315 [==============================] - 0s 1ms/step - loss: 0.2510 - accuracy: 0.9076\n",
      "Epoch 5/8\n",
      "315/315 [==============================] - 0s 1ms/step - loss: 0.2223 - accuracy: 0.9225\n",
      "Epoch 6/8\n",
      "315/315 [==============================] - 0s 1ms/step - loss: 0.2121 - accuracy: 0.9261\n",
      "Epoch 7/8\n",
      "315/315 [==============================] - 0s 1ms/step - loss: 0.2042 - accuracy: 0.9322\n",
      "Epoch 8/8\n",
      "315/315 [==============================] - 0s 1ms/step - loss: 0.1962 - accuracy: 0.9341\n",
      "Epoch 1/8\n"
     ]
    },
    {
     "name": "stderr",
     "output_type": "stream",
     "text": [
      "/Users/husni.zuhdi/Documents/Codes/1-Python-Workshop/retention-prediction-demo/retention-prediction/lib/python3.10/site-packages/tensorflow/python/keras/engine/sequential.py:454: UserWarning: `model.predict_classes()` is deprecated and will be removed after 2021-01-01. Please use instead:* `np.argmax(model.predict(x), axis=-1)`,   if your model does multi-class classification   (e.g. if it uses a `softmax` last-layer activation).* `(model.predict(x) > 0.5).astype(\"int32\")`,   if your model does binary classification   (e.g. if it uses a `sigmoid` last-layer activation).\n",
      "  warnings.warn('`model.predict_classes()` is deprecated and '\n"
     ]
    },
    {
     "name": "stdout",
     "output_type": "stream",
     "text": [
      "315/315 [==============================] - 1s 1ms/step - loss: 0.5489 - accuracy: 0.7658\n",
      "Epoch 2/8\n",
      "315/315 [==============================] - 0s 1ms/step - loss: 0.3864 - accuracy: 0.8004\n",
      "Epoch 3/8\n",
      "315/315 [==============================] - 0s 1ms/step - loss: 0.3308 - accuracy: 0.8214\n",
      "Epoch 4/8\n",
      "315/315 [==============================] - 0s 1ms/step - loss: 0.2984 - accuracy: 0.8367\n",
      "Epoch 5/8\n",
      "315/315 [==============================] - 0s 1ms/step - loss: 0.2755 - accuracy: 0.8449\n",
      "Epoch 6/8\n",
      "315/315 [==============================] - 0s 1ms/step - loss: 0.2606 - accuracy: 0.8671\n",
      "Epoch 7/8\n",
      "315/315 [==============================] - 0s 1ms/step - loss: 0.2486 - accuracy: 0.9175\n",
      "Epoch 8/8\n",
      "315/315 [==============================] - 0s 1ms/step - loss: 0.2358 - accuracy: 0.9266\n",
      "Epoch 1/8\n"
     ]
    },
    {
     "name": "stderr",
     "output_type": "stream",
     "text": [
      "/Users/husni.zuhdi/Documents/Codes/1-Python-Workshop/retention-prediction-demo/retention-prediction/lib/python3.10/site-packages/tensorflow/python/keras/engine/sequential.py:454: UserWarning: `model.predict_classes()` is deprecated and will be removed after 2021-01-01. Please use instead:* `np.argmax(model.predict(x), axis=-1)`,   if your model does multi-class classification   (e.g. if it uses a `softmax` last-layer activation).* `(model.predict(x) > 0.5).astype(\"int32\")`,   if your model does binary classification   (e.g. if it uses a `sigmoid` last-layer activation).\n",
      "  warnings.warn('`model.predict_classes()` is deprecated and '\n"
     ]
    },
    {
     "name": "stdout",
     "output_type": "stream",
     "text": [
      "315/315 [==============================] - 1s 1ms/step - loss: 0.5685 - accuracy: 0.7736\n",
      "Epoch 2/8\n",
      "315/315 [==============================] - 0s 1ms/step - loss: 0.3884 - accuracy: 0.8250\n",
      "Epoch 3/8\n",
      "315/315 [==============================] - 0s 1ms/step - loss: 0.3081 - accuracy: 0.8800\n",
      "Epoch 4/8\n",
      "315/315 [==============================] - 0s 1ms/step - loss: 0.2619 - accuracy: 0.9021\n",
      "Epoch 5/8\n",
      "315/315 [==============================] - 0s 1ms/step - loss: 0.2336 - accuracy: 0.9179\n",
      "Epoch 6/8\n",
      "315/315 [==============================] - 0s 1ms/step - loss: 0.2159 - accuracy: 0.9256\n",
      "Epoch 7/8\n",
      "315/315 [==============================] - 0s 1ms/step - loss: 0.2038 - accuracy: 0.9310\n",
      "Epoch 8/8\n",
      "315/315 [==============================] - 0s 1ms/step - loss: 0.1990 - accuracy: 0.9339\n",
      "Epoch 1/8\n"
     ]
    },
    {
     "name": "stderr",
     "output_type": "stream",
     "text": [
      "/Users/husni.zuhdi/Documents/Codes/1-Python-Workshop/retention-prediction-demo/retention-prediction/lib/python3.10/site-packages/tensorflow/python/keras/engine/sequential.py:454: UserWarning: `model.predict_classes()` is deprecated and will be removed after 2021-01-01. Please use instead:* `np.argmax(model.predict(x), axis=-1)`,   if your model does multi-class classification   (e.g. if it uses a `softmax` last-layer activation).* `(model.predict(x) > 0.5).astype(\"int32\")`,   if your model does binary classification   (e.g. if it uses a `sigmoid` last-layer activation).\n",
      "  warnings.warn('`model.predict_classes()` is deprecated and '\n"
     ]
    },
    {
     "name": "stdout",
     "output_type": "stream",
     "text": [
      "315/315 [==============================] - 1s 1ms/step - loss: 0.5462 - accuracy: 0.7644\n",
      "Epoch 2/8\n",
      "315/315 [==============================] - 0s 988us/step - loss: 0.3913 - accuracy: 0.7989\n",
      "Epoch 3/8\n",
      "315/315 [==============================] - 0s 1ms/step - loss: 0.3378 - accuracy: 0.8101\n",
      "Epoch 4/8\n",
      "315/315 [==============================] - 0s 957us/step - loss: 0.3063 - accuracy: 0.8268\n",
      "Epoch 5/8\n",
      "315/315 [==============================] - 0s 1ms/step - loss: 0.2836 - accuracy: 0.8488\n",
      "Epoch 6/8\n",
      "315/315 [==============================] - 0s 1ms/step - loss: 0.2658 - accuracy: 0.8962\n",
      "Epoch 7/8\n",
      "315/315 [==============================] - 0s 1ms/step - loss: 0.2586 - accuracy: 0.9092\n",
      "Epoch 8/8\n",
      "315/315 [==============================] - 0s 980us/step - loss: 0.2443 - accuracy: 0.9226\n",
      "Epoch 1/10\n"
     ]
    },
    {
     "name": "stderr",
     "output_type": "stream",
     "text": [
      "/Users/husni.zuhdi/Documents/Codes/1-Python-Workshop/retention-prediction-demo/retention-prediction/lib/python3.10/site-packages/tensorflow/python/keras/engine/sequential.py:454: UserWarning: `model.predict_classes()` is deprecated and will be removed after 2021-01-01. Please use instead:* `np.argmax(model.predict(x), axis=-1)`,   if your model does multi-class classification   (e.g. if it uses a `softmax` last-layer activation).* `(model.predict(x) > 0.5).astype(\"int32\")`,   if your model does binary classification   (e.g. if it uses a `sigmoid` last-layer activation).\n",
      "  warnings.warn('`model.predict_classes()` is deprecated and '\n"
     ]
    },
    {
     "name": "stdout",
     "output_type": "stream",
     "text": [
      "315/315 [==============================] - 1s 1ms/step - loss: 0.5618 - accuracy: 0.7585\n",
      "Epoch 2/10\n",
      "315/315 [==============================] - 0s 1ms/step - loss: 0.3551 - accuracy: 0.8476\n",
      "Epoch 3/10\n",
      "315/315 [==============================] - 0s 1ms/step - loss: 0.2873 - accuracy: 0.8898\n",
      "Epoch 4/10\n",
      "315/315 [==============================] - 0s 1ms/step - loss: 0.2505 - accuracy: 0.9075\n",
      "Epoch 5/10\n",
      "315/315 [==============================] - 0s 1ms/step - loss: 0.2275 - accuracy: 0.9189\n",
      "Epoch 6/10\n",
      "315/315 [==============================] - 0s 1ms/step - loss: 0.2102 - accuracy: 0.9271\n",
      "Epoch 7/10\n",
      "315/315 [==============================] - 1s 2ms/step - loss: 0.2083 - accuracy: 0.9238\n",
      "Epoch 8/10\n",
      "315/315 [==============================] - 0s 1ms/step - loss: 0.2042 - accuracy: 0.9276\n",
      "Epoch 9/10\n",
      "315/315 [==============================] - 0s 1ms/step - loss: 0.1978 - accuracy: 0.9332\n",
      "Epoch 10/10\n",
      "315/315 [==============================] - 0s 1ms/step - loss: 0.1929 - accuracy: 0.9322\n",
      "Epoch 1/10\n"
     ]
    },
    {
     "name": "stderr",
     "output_type": "stream",
     "text": [
      "/Users/husni.zuhdi/Documents/Codes/1-Python-Workshop/retention-prediction-demo/retention-prediction/lib/python3.10/site-packages/tensorflow/python/keras/engine/sequential.py:454: UserWarning: `model.predict_classes()` is deprecated and will be removed after 2021-01-01. Please use instead:* `np.argmax(model.predict(x), axis=-1)`,   if your model does multi-class classification   (e.g. if it uses a `softmax` last-layer activation).* `(model.predict(x) > 0.5).astype(\"int32\")`,   if your model does binary classification   (e.g. if it uses a `sigmoid` last-layer activation).\n",
      "  warnings.warn('`model.predict_classes()` is deprecated and '\n"
     ]
    },
    {
     "name": "stdout",
     "output_type": "stream",
     "text": [
      "315/315 [==============================] - 1s 1ms/step - loss: 0.5715 - accuracy: 0.7744\n",
      "Epoch 2/10\n",
      "315/315 [==============================] - 0s 1ms/step - loss: 0.3701 - accuracy: 0.8098\n",
      "Epoch 3/10\n",
      "315/315 [==============================] - 0s 1ms/step - loss: 0.3127 - accuracy: 0.8319\n",
      "Epoch 4/10\n",
      "315/315 [==============================] - 0s 1ms/step - loss: 0.2792 - accuracy: 0.8453\n",
      "Epoch 5/10\n",
      "315/315 [==============================] - 0s 1ms/step - loss: 0.2607 - accuracy: 0.8490\n",
      "Epoch 6/10\n",
      "315/315 [==============================] - 0s 1ms/step - loss: 0.2432 - accuracy: 0.8542\n",
      "Epoch 7/10\n",
      "315/315 [==============================] - 0s 1ms/step - loss: 0.2359 - accuracy: 0.9220\n",
      "Epoch 8/10\n",
      "315/315 [==============================] - 0s 1ms/step - loss: 0.2290 - accuracy: 0.9373\n",
      "Epoch 9/10\n",
      "315/315 [==============================] - 0s 1ms/step - loss: 0.2209 - accuracy: 0.9366\n",
      "Epoch 10/10\n",
      "315/315 [==============================] - 0s 1ms/step - loss: 0.2164 - accuracy: 0.9414\n",
      "Epoch 1/10\n"
     ]
    },
    {
     "name": "stderr",
     "output_type": "stream",
     "text": [
      "/Users/husni.zuhdi/Documents/Codes/1-Python-Workshop/retention-prediction-demo/retention-prediction/lib/python3.10/site-packages/tensorflow/python/keras/engine/sequential.py:454: UserWarning: `model.predict_classes()` is deprecated and will be removed after 2021-01-01. Please use instead:* `np.argmax(model.predict(x), axis=-1)`,   if your model does multi-class classification   (e.g. if it uses a `softmax` last-layer activation).* `(model.predict(x) > 0.5).astype(\"int32\")`,   if your model does binary classification   (e.g. if it uses a `sigmoid` last-layer activation).\n",
      "  warnings.warn('`model.predict_classes()` is deprecated and '\n"
     ]
    },
    {
     "name": "stdout",
     "output_type": "stream",
     "text": [
      "315/315 [==============================] - 1s 2ms/step - loss: 0.5381 - accuracy: 0.7628\n",
      "Epoch 2/10\n",
      "315/315 [==============================] - 1s 2ms/step - loss: 0.4020 - accuracy: 0.7628\n",
      "Epoch 3/10\n",
      "315/315 [==============================] - 0s 1ms/step - loss: 0.3605 - accuracy: 0.7628\n",
      "Epoch 4/10\n",
      "315/315 [==============================] - 0s 1ms/step - loss: 0.3313 - accuracy: 0.8311\n",
      "Epoch 5/10\n",
      "315/315 [==============================] - 0s 1ms/step - loss: 0.3103 - accuracy: 0.8760\n",
      "Epoch 6/10\n",
      "315/315 [==============================] - 0s 1ms/step - loss: 0.2926 - accuracy: 0.8973\n",
      "Epoch 7/10\n",
      "315/315 [==============================] - 0s 2ms/step - loss: 0.2784 - accuracy: 0.9072\n",
      "Epoch 8/10\n",
      "315/315 [==============================] - 0s 1ms/step - loss: 0.2663 - accuracy: 0.9129\n",
      "Epoch 9/10\n",
      "315/315 [==============================] - 0s 1ms/step - loss: 0.2590 - accuracy: 0.9177\n",
      "Epoch 10/10\n",
      "315/315 [==============================] - 0s 1ms/step - loss: 0.2477 - accuracy: 0.9239\n",
      "Epoch 1/10\n"
     ]
    },
    {
     "name": "stderr",
     "output_type": "stream",
     "text": [
      "/Users/husni.zuhdi/Documents/Codes/1-Python-Workshop/retention-prediction-demo/retention-prediction/lib/python3.10/site-packages/tensorflow/python/keras/engine/sequential.py:454: UserWarning: `model.predict_classes()` is deprecated and will be removed after 2021-01-01. Please use instead:* `np.argmax(model.predict(x), axis=-1)`,   if your model does multi-class classification   (e.g. if it uses a `softmax` last-layer activation).* `(model.predict(x) > 0.5).astype(\"int32\")`,   if your model does binary classification   (e.g. if it uses a `sigmoid` last-layer activation).\n",
      "  warnings.warn('`model.predict_classes()` is deprecated and '\n"
     ]
    },
    {
     "name": "stdout",
     "output_type": "stream",
     "text": [
      "315/315 [==============================] - 1s 1ms/step - loss: 0.5442 - accuracy: 0.7642\n",
      "Epoch 2/10\n",
      "315/315 [==============================] - 0s 1ms/step - loss: 0.3515 - accuracy: 0.8573\n",
      "Epoch 3/10\n",
      "315/315 [==============================] - 0s 1ms/step - loss: 0.2802 - accuracy: 0.8914\n",
      "Epoch 4/10\n",
      "315/315 [==============================] - 1s 2ms/step - loss: 0.2402 - accuracy: 0.9137\n",
      "Epoch 5/10\n",
      "315/315 [==============================] - 0s 2ms/step - loss: 0.2219 - accuracy: 0.9195\n",
      "Epoch 6/10\n",
      "315/315 [==============================] - 1s 2ms/step - loss: 0.2072 - accuracy: 0.9271\n",
      "Epoch 7/10\n",
      "315/315 [==============================] - 0s 1ms/step - loss: 0.2026 - accuracy: 0.9308\n",
      "Epoch 8/10\n",
      "315/315 [==============================] - 0s 1ms/step - loss: 0.1952 - accuracy: 0.9310\n",
      "Epoch 9/10\n",
      "315/315 [==============================] - 1s 2ms/step - loss: 0.1915 - accuracy: 0.9328\n",
      "Epoch 10/10\n",
      "315/315 [==============================] - 1s 2ms/step - loss: 0.1900 - accuracy: 0.9333\n",
      "Epoch 1/10\n"
     ]
    },
    {
     "name": "stderr",
     "output_type": "stream",
     "text": [
      "/Users/husni.zuhdi/Documents/Codes/1-Python-Workshop/retention-prediction-demo/retention-prediction/lib/python3.10/site-packages/tensorflow/python/keras/engine/sequential.py:454: UserWarning: `model.predict_classes()` is deprecated and will be removed after 2021-01-01. Please use instead:* `np.argmax(model.predict(x), axis=-1)`,   if your model does multi-class classification   (e.g. if it uses a `softmax` last-layer activation).* `(model.predict(x) > 0.5).astype(\"int32\")`,   if your model does binary classification   (e.g. if it uses a `sigmoid` last-layer activation).\n",
      "  warnings.warn('`model.predict_classes()` is deprecated and '\n"
     ]
    },
    {
     "name": "stdout",
     "output_type": "stream",
     "text": [
      "315/315 [==============================] - 1s 2ms/step - loss: 0.5485 - accuracy: 0.7656\n",
      "Epoch 2/10\n",
      "315/315 [==============================] - 1s 2ms/step - loss: 0.3777 - accuracy: 0.8034\n",
      "Epoch 3/10\n",
      "315/315 [==============================] - 1s 2ms/step - loss: 0.3183 - accuracy: 0.8236\n",
      "Epoch 4/10\n",
      "315/315 [==============================] - 0s 1ms/step - loss: 0.2837 - accuracy: 0.8396\n",
      "Epoch 5/10\n",
      "315/315 [==============================] - 1s 3ms/step - loss: 0.2607 - accuracy: 0.8546\n",
      "Epoch 6/10\n",
      "315/315 [==============================] - 1s 2ms/step - loss: 0.2490 - accuracy: 0.9085\n",
      "Epoch 7/10\n",
      "315/315 [==============================] - 0s 1ms/step - loss: 0.2365 - accuracy: 0.9203\n",
      "Epoch 8/10\n",
      "315/315 [==============================] - 0s 2ms/step - loss: 0.2302 - accuracy: 0.9326\n",
      "Epoch 9/10\n",
      "315/315 [==============================] - 1s 2ms/step - loss: 0.2255 - accuracy: 0.9328\n",
      "Epoch 10/10\n",
      "315/315 [==============================] - 1s 2ms/step - loss: 0.2187 - accuracy: 0.9345\n"
     ]
    },
    {
     "name": "stderr",
     "output_type": "stream",
     "text": [
      "/Users/husni.zuhdi/Documents/Codes/1-Python-Workshop/retention-prediction-demo/retention-prediction/lib/python3.10/site-packages/tensorflow/python/keras/engine/sequential.py:454: UserWarning: `model.predict_classes()` is deprecated and will be removed after 2021-01-01. Please use instead:* `np.argmax(model.predict(x), axis=-1)`,   if your model does multi-class classification   (e.g. if it uses a `softmax` last-layer activation).* `(model.predict(x) > 0.5).astype(\"int32\")`,   if your model does binary classification   (e.g. if it uses a `sigmoid` last-layer activation).\n",
      "  warnings.warn('`model.predict_classes()` is deprecated and '\n"
     ]
    },
    {
     "name": "stdout",
     "output_type": "stream",
     "text": [
      "Epoch 1/10\n",
      "315/315 [==============================] - 1s 1ms/step - loss: 0.5432 - accuracy: 0.7749\n",
      "Epoch 2/10\n",
      "315/315 [==============================] - 0s 1ms/step - loss: 0.3673 - accuracy: 0.8113\n",
      "Epoch 3/10\n",
      "315/315 [==============================] - 1s 2ms/step - loss: 0.3109 - accuracy: 0.8353\n",
      "Epoch 4/10\n",
      "315/315 [==============================] - 1s 2ms/step - loss: 0.2804 - accuracy: 0.8451\n",
      "Epoch 5/10\n",
      "315/315 [==============================] - 1s 2ms/step - loss: 0.2613 - accuracy: 0.8489\n",
      "Epoch 6/10\n",
      "315/315 [==============================] - 0s 1ms/step - loss: 0.2448 - accuracy: 0.8769\n",
      "Epoch 7/10\n",
      "315/315 [==============================] - 1s 2ms/step - loss: 0.2346 - accuracy: 0.9244\n",
      "Epoch 8/10\n",
      "315/315 [==============================] - 1s 2ms/step - loss: 0.2280 - accuracy: 0.9345\n",
      "Epoch 9/10\n",
      "315/315 [==============================] - 0s 2ms/step - loss: 0.2267 - accuracy: 0.9362\n",
      "Epoch 10/10\n",
      "315/315 [==============================] - 1s 2ms/step - loss: 0.2171 - accuracy: 0.9393\n",
      "Epoch 1/10\n"
     ]
    },
    {
     "name": "stderr",
     "output_type": "stream",
     "text": [
      "/Users/husni.zuhdi/Documents/Codes/1-Python-Workshop/retention-prediction-demo/retention-prediction/lib/python3.10/site-packages/tensorflow/python/keras/engine/sequential.py:454: UserWarning: `model.predict_classes()` is deprecated and will be removed after 2021-01-01. Please use instead:* `np.argmax(model.predict(x), axis=-1)`,   if your model does multi-class classification   (e.g. if it uses a `softmax` last-layer activation).* `(model.predict(x) > 0.5).astype(\"int32\")`,   if your model does binary classification   (e.g. if it uses a `sigmoid` last-layer activation).\n",
      "  warnings.warn('`model.predict_classes()` is deprecated and '\n"
     ]
    },
    {
     "name": "stdout",
     "output_type": "stream",
     "text": [
      "315/315 [==============================] - 1s 1ms/step - loss: 0.5433 - accuracy: 0.7682\n",
      "Epoch 2/10\n",
      "315/315 [==============================] - 0s 1ms/step - loss: 0.3679 - accuracy: 0.8181\n",
      "Epoch 3/10\n",
      "315/315 [==============================] - 0s 1ms/step - loss: 0.3165 - accuracy: 0.8293\n",
      "Epoch 4/10\n",
      "315/315 [==============================] - 0s 1ms/step - loss: 0.2867 - accuracy: 0.8374\n",
      "Epoch 5/10\n",
      "315/315 [==============================] - 0s 1ms/step - loss: 0.2702 - accuracy: 0.8459\n",
      "Epoch 6/10\n",
      "315/315 [==============================] - 0s 1ms/step - loss: 0.2576 - accuracy: 0.9045\n",
      "Epoch 7/10\n",
      "315/315 [==============================] - 0s 1ms/step - loss: 0.2469 - accuracy: 0.9177\n",
      "Epoch 8/10\n",
      "315/315 [==============================] - 0s 1ms/step - loss: 0.2389 - accuracy: 0.9252\n",
      "Epoch 9/10\n",
      "315/315 [==============================] - 0s 1ms/step - loss: 0.2341 - accuracy: 0.9282\n",
      "Epoch 10/10\n",
      "315/315 [==============================] - 0s 1ms/step - loss: 0.2297 - accuracy: 0.9289\n",
      "Epoch 1/10\n"
     ]
    },
    {
     "name": "stderr",
     "output_type": "stream",
     "text": [
      "/Users/husni.zuhdi/Documents/Codes/1-Python-Workshop/retention-prediction-demo/retention-prediction/lib/python3.10/site-packages/tensorflow/python/keras/engine/sequential.py:454: UserWarning: `model.predict_classes()` is deprecated and will be removed after 2021-01-01. Please use instead:* `np.argmax(model.predict(x), axis=-1)`,   if your model does multi-class classification   (e.g. if it uses a `softmax` last-layer activation).* `(model.predict(x) > 0.5).astype(\"int32\")`,   if your model does binary classification   (e.g. if it uses a `sigmoid` last-layer activation).\n",
      "  warnings.warn('`model.predict_classes()` is deprecated and '\n"
     ]
    },
    {
     "name": "stdout",
     "output_type": "stream",
     "text": [
      "315/315 [==============================] - 2s 1ms/step - loss: 0.5507 - accuracy: 0.7647\n",
      "Epoch 2/10\n",
      "315/315 [==============================] - 0s 1ms/step - loss: 0.3554 - accuracy: 0.8523\n",
      "Epoch 3/10\n",
      "315/315 [==============================] - 0s 1ms/step - loss: 0.2849 - accuracy: 0.8874\n",
      "Epoch 4/10\n",
      "315/315 [==============================] - 0s 1ms/step - loss: 0.2532 - accuracy: 0.9046\n",
      "Epoch 5/10\n",
      "315/315 [==============================] - 0s 1ms/step - loss: 0.2308 - accuracy: 0.9137\n",
      "Epoch 6/10\n",
      "315/315 [==============================] - 0s 2ms/step - loss: 0.2163 - accuracy: 0.9239\n",
      "Epoch 7/10\n",
      "315/315 [==============================] - 0s 1ms/step - loss: 0.2053 - accuracy: 0.9274\n",
      "Epoch 8/10\n",
      "315/315 [==============================] - 0s 1ms/step - loss: 0.2050 - accuracy: 0.9275\n",
      "Epoch 9/10\n",
      "315/315 [==============================] - 0s 1ms/step - loss: 0.2004 - accuracy: 0.9285\n",
      "Epoch 10/10\n",
      "315/315 [==============================] - 0s 1ms/step - loss: 0.1976 - accuracy: 0.9292\n",
      "Epoch 1/10\n"
     ]
    },
    {
     "name": "stderr",
     "output_type": "stream",
     "text": [
      "/Users/husni.zuhdi/Documents/Codes/1-Python-Workshop/retention-prediction-demo/retention-prediction/lib/python3.10/site-packages/tensorflow/python/keras/engine/sequential.py:454: UserWarning: `model.predict_classes()` is deprecated and will be removed after 2021-01-01. Please use instead:* `np.argmax(model.predict(x), axis=-1)`,   if your model does multi-class classification   (e.g. if it uses a `softmax` last-layer activation).* `(model.predict(x) > 0.5).astype(\"int32\")`,   if your model does binary classification   (e.g. if it uses a `sigmoid` last-layer activation).\n",
      "  warnings.warn('`model.predict_classes()` is deprecated and '\n"
     ]
    },
    {
     "name": "stdout",
     "output_type": "stream",
     "text": [
      "315/315 [==============================] - 1s 1ms/step - loss: 0.5382 - accuracy: 0.7754\n",
      "Epoch 2/10\n",
      "315/315 [==============================] - 0s 1ms/step - loss: 0.3480 - accuracy: 0.8540\n",
      "Epoch 3/10\n",
      "315/315 [==============================] - 0s 1ms/step - loss: 0.2865 - accuracy: 0.8839\n",
      "Epoch 4/10\n",
      "315/315 [==============================] - 0s 1ms/step - loss: 0.2536 - accuracy: 0.9046\n",
      "Epoch 5/10\n",
      "315/315 [==============================] - 0s 1ms/step - loss: 0.2302 - accuracy: 0.9168\n",
      "Epoch 6/10\n",
      "315/315 [==============================] - 0s 1ms/step - loss: 0.2155 - accuracy: 0.9216\n",
      "Epoch 7/10\n",
      "315/315 [==============================] - 0s 1ms/step - loss: 0.2091 - accuracy: 0.9257\n",
      "Epoch 8/10\n",
      "315/315 [==============================] - 0s 2ms/step - loss: 0.1998 - accuracy: 0.9325\n",
      "Epoch 9/10\n",
      "315/315 [==============================] - 0s 1ms/step - loss: 0.1969 - accuracy: 0.9302\n",
      "Epoch 10/10\n",
      "315/315 [==============================] - 0s 1ms/step - loss: 0.1927 - accuracy: 0.9335\n",
      "Epoch 1/10\n"
     ]
    },
    {
     "name": "stderr",
     "output_type": "stream",
     "text": [
      "/Users/husni.zuhdi/Documents/Codes/1-Python-Workshop/retention-prediction-demo/retention-prediction/lib/python3.10/site-packages/tensorflow/python/keras/engine/sequential.py:454: UserWarning: `model.predict_classes()` is deprecated and will be removed after 2021-01-01. Please use instead:* `np.argmax(model.predict(x), axis=-1)`,   if your model does multi-class classification   (e.g. if it uses a `softmax` last-layer activation).* `(model.predict(x) > 0.5).astype(\"int32\")`,   if your model does binary classification   (e.g. if it uses a `sigmoid` last-layer activation).\n",
      "  warnings.warn('`model.predict_classes()` is deprecated and '\n"
     ]
    },
    {
     "name": "stdout",
     "output_type": "stream",
     "text": [
      "315/315 [==============================] - 1s 1ms/step - loss: 0.5539 - accuracy: 0.7610\n",
      "Epoch 2/10\n",
      "315/315 [==============================] - 0s 1ms/step - loss: 0.3583 - accuracy: 0.8462\n",
      "Epoch 3/10\n",
      "315/315 [==============================] - 0s 1ms/step - loss: 0.2816 - accuracy: 0.8901\n",
      "Epoch 4/10\n",
      "315/315 [==============================] - 0s 939us/step - loss: 0.2487 - accuracy: 0.9061\n",
      "Epoch 5/10\n",
      "315/315 [==============================] - 0s 954us/step - loss: 0.2232 - accuracy: 0.9204\n",
      "Epoch 6/10\n",
      "315/315 [==============================] - 0s 955us/step - loss: 0.2109 - accuracy: 0.9251\n",
      "Epoch 7/10\n",
      "315/315 [==============================] - 0s 1ms/step - loss: 0.2073 - accuracy: 0.9255\n",
      "Epoch 8/10\n",
      "315/315 [==============================] - 0s 1ms/step - loss: 0.2065 - accuracy: 0.9259\n",
      "Epoch 9/10\n",
      "315/315 [==============================] - 0s 1ms/step - loss: 0.2029 - accuracy: 0.9273\n",
      "Epoch 10/10\n",
      "315/315 [==============================] - 0s 1ms/step - loss: 0.1961 - accuracy: 0.9309\n",
      "Epoch 1/10\n"
     ]
    },
    {
     "name": "stderr",
     "output_type": "stream",
     "text": [
      "/Users/husni.zuhdi/Documents/Codes/1-Python-Workshop/retention-prediction-demo/retention-prediction/lib/python3.10/site-packages/tensorflow/python/keras/engine/sequential.py:454: UserWarning: `model.predict_classes()` is deprecated and will be removed after 2021-01-01. Please use instead:* `np.argmax(model.predict(x), axis=-1)`,   if your model does multi-class classification   (e.g. if it uses a `softmax` last-layer activation).* `(model.predict(x) > 0.5).astype(\"int32\")`,   if your model does binary classification   (e.g. if it uses a `sigmoid` last-layer activation).\n",
      "  warnings.warn('`model.predict_classes()` is deprecated and '\n"
     ]
    },
    {
     "name": "stdout",
     "output_type": "stream",
     "text": [
      "315/315 [==============================] - 1s 1ms/step - loss: 0.5664 - accuracy: 0.7611\n",
      "Epoch 2/10\n",
      "315/315 [==============================] - 0s 2ms/step - loss: 0.3974 - accuracy: 0.8050\n",
      "Epoch 3/10\n",
      "315/315 [==============================] - 0s 1ms/step - loss: 0.3259 - accuracy: 0.8614\n",
      "Epoch 4/10\n",
      "315/315 [==============================] - 0s 1ms/step - loss: 0.2750 - accuracy: 0.8957\n",
      "Epoch 5/10\n",
      "315/315 [==============================] - 0s 1ms/step - loss: 0.2386 - accuracy: 0.9096\n",
      "Epoch 6/10\n",
      "315/315 [==============================] - 0s 1ms/step - loss: 0.2213 - accuracy: 0.9199\n",
      "Epoch 7/10\n",
      "315/315 [==============================] - 0s 1ms/step - loss: 0.2090 - accuracy: 0.9230\n",
      "Epoch 8/10\n",
      "315/315 [==============================] - 0s 1ms/step - loss: 0.2017 - accuracy: 0.9271\n",
      "Epoch 9/10\n",
      "315/315 [==============================] - 0s 1ms/step - loss: 0.2011 - accuracy: 0.9269\n",
      "Epoch 10/10\n",
      "315/315 [==============================] - 0s 1ms/step - loss: 0.2011 - accuracy: 0.9266\n",
      "Epoch 1/10\n"
     ]
    },
    {
     "name": "stderr",
     "output_type": "stream",
     "text": [
      "/Users/husni.zuhdi/Documents/Codes/1-Python-Workshop/retention-prediction-demo/retention-prediction/lib/python3.10/site-packages/tensorflow/python/keras/engine/sequential.py:454: UserWarning: `model.predict_classes()` is deprecated and will be removed after 2021-01-01. Please use instead:* `np.argmax(model.predict(x), axis=-1)`,   if your model does multi-class classification   (e.g. if it uses a `softmax` last-layer activation).* `(model.predict(x) > 0.5).astype(\"int32\")`,   if your model does binary classification   (e.g. if it uses a `sigmoid` last-layer activation).\n",
      "  warnings.warn('`model.predict_classes()` is deprecated and '\n"
     ]
    },
    {
     "name": "stdout",
     "output_type": "stream",
     "text": [
      "315/315 [==============================] - 1s 1ms/step - loss: 0.5522 - accuracy: 0.7730\n",
      "Epoch 2/10\n",
      "315/315 [==============================] - 0s 2ms/step - loss: 0.3862 - accuracy: 0.8018\n",
      "Epoch 3/10\n",
      "315/315 [==============================] - 0s 1ms/step - loss: 0.3335 - accuracy: 0.8200\n",
      "Epoch 4/10\n",
      "315/315 [==============================] - 0s 1ms/step - loss: 0.3013 - accuracy: 0.8388\n",
      "Epoch 5/10\n",
      "315/315 [==============================] - 0s 1ms/step - loss: 0.2803 - accuracy: 0.8453\n",
      "Epoch 6/10\n",
      "315/315 [==============================] - 0s 2ms/step - loss: 0.2653 - accuracy: 0.8499\n",
      "Epoch 7/10\n",
      "315/315 [==============================] - 0s 1ms/step - loss: 0.2543 - accuracy: 0.9023\n",
      "Epoch 8/10\n",
      "315/315 [==============================] - 0s 1ms/step - loss: 0.2454 - accuracy: 0.9219\n",
      "Epoch 9/10\n",
      "315/315 [==============================] - 0s 1ms/step - loss: 0.2403 - accuracy: 0.9264\n",
      "Epoch 10/10\n",
      "315/315 [==============================] - 0s 1ms/step - loss: 0.2359 - accuracy: 0.9308\n",
      "Epoch 1/10\n"
     ]
    },
    {
     "name": "stderr",
     "output_type": "stream",
     "text": [
      "/Users/husni.zuhdi/Documents/Codes/1-Python-Workshop/retention-prediction-demo/retention-prediction/lib/python3.10/site-packages/tensorflow/python/keras/engine/sequential.py:454: UserWarning: `model.predict_classes()` is deprecated and will be removed after 2021-01-01. Please use instead:* `np.argmax(model.predict(x), axis=-1)`,   if your model does multi-class classification   (e.g. if it uses a `softmax` last-layer activation).* `(model.predict(x) > 0.5).astype(\"int32\")`,   if your model does binary classification   (e.g. if it uses a `sigmoid` last-layer activation).\n",
      "  warnings.warn('`model.predict_classes()` is deprecated and '\n"
     ]
    },
    {
     "name": "stdout",
     "output_type": "stream",
     "text": [
      "315/315 [==============================] - 1s 2ms/step - loss: 0.5607 - accuracy: 0.7621\n",
      "Epoch 2/10\n",
      "315/315 [==============================] - 0s 1ms/step - loss: 0.3990 - accuracy: 0.7932\n",
      "Epoch 3/10\n",
      "315/315 [==============================] - 0s 1ms/step - loss: 0.3430 - accuracy: 0.8470\n",
      "Epoch 4/10\n",
      "315/315 [==============================] - 0s 1ms/step - loss: 0.3073 - accuracy: 0.8581\n",
      "Epoch 5/10\n",
      "315/315 [==============================] - 0s 1ms/step - loss: 0.2847 - accuracy: 0.8616\n",
      "Epoch 6/10\n",
      "315/315 [==============================] - 0s 1ms/step - loss: 0.2652 - accuracy: 0.8711\n",
      "Epoch 7/10\n",
      "315/315 [==============================] - 0s 2ms/step - loss: 0.2510 - accuracy: 0.8777\n",
      "Epoch 8/10\n",
      "315/315 [==============================] - 1s 2ms/step - loss: 0.2448 - accuracy: 0.8971\n",
      "Epoch 9/10\n",
      "315/315 [==============================] - 1s 2ms/step - loss: 0.2382 - accuracy: 0.9068\n",
      "Epoch 10/10\n",
      "315/315 [==============================] - 0s 1ms/step - loss: 0.2332 - accuracy: 0.9147\n"
     ]
    },
    {
     "name": "stderr",
     "output_type": "stream",
     "text": [
      "/Users/husni.zuhdi/Documents/Codes/1-Python-Workshop/retention-prediction-demo/retention-prediction/lib/python3.10/site-packages/tensorflow/python/keras/engine/sequential.py:454: UserWarning: `model.predict_classes()` is deprecated and will be removed after 2021-01-01. Please use instead:* `np.argmax(model.predict(x), axis=-1)`,   if your model does multi-class classification   (e.g. if it uses a `softmax` last-layer activation).* `(model.predict(x) > 0.5).astype(\"int32\")`,   if your model does binary classification   (e.g. if it uses a `sigmoid` last-layer activation).\n",
      "  warnings.warn('`model.predict_classes()` is deprecated and '\n"
     ]
    },
    {
     "name": "stdout",
     "output_type": "stream",
     "text": [
      "Epoch 1/10\n",
      "315/315 [==============================] - 1s 1ms/step - loss: 0.5544 - accuracy: 0.7597\n",
      "Epoch 2/10\n",
      "315/315 [==============================] - 0s 1ms/step - loss: 0.3982 - accuracy: 0.7902\n",
      "Epoch 3/10\n",
      "315/315 [==============================] - 0s 1ms/step - loss: 0.3410 - accuracy: 0.8048\n",
      "Epoch 4/10\n",
      "315/315 [==============================] - 0s 1ms/step - loss: 0.3050 - accuracy: 0.8250\n",
      "Epoch 5/10\n",
      "315/315 [==============================] - 0s 1ms/step - loss: 0.2808 - accuracy: 0.8562\n",
      "Epoch 6/10\n",
      "315/315 [==============================] - 0s 1ms/step - loss: 0.2617 - accuracy: 0.9039\n",
      "Epoch 7/10\n",
      "315/315 [==============================] - 0s 1ms/step - loss: 0.2494 - accuracy: 0.9195\n",
      "Epoch 8/10\n",
      "315/315 [==============================] - 1s 2ms/step - loss: 0.2409 - accuracy: 0.9243\n",
      "Epoch 9/10\n",
      "315/315 [==============================] - 1s 2ms/step - loss: 0.2319 - accuracy: 0.9326\n",
      "Epoch 10/10\n",
      "315/315 [==============================] - 0s 1ms/step - loss: 0.2272 - accuracy: 0.9324\n"
     ]
    },
    {
     "name": "stderr",
     "output_type": "stream",
     "text": [
      "/Users/husni.zuhdi/Documents/Codes/1-Python-Workshop/retention-prediction-demo/retention-prediction/lib/python3.10/site-packages/tensorflow/python/keras/engine/sequential.py:454: UserWarning: `model.predict_classes()` is deprecated and will be removed after 2021-01-01. Please use instead:* `np.argmax(model.predict(x), axis=-1)`,   if your model does multi-class classification   (e.g. if it uses a `softmax` last-layer activation).* `(model.predict(x) > 0.5).astype(\"int32\")`,   if your model does binary classification   (e.g. if it uses a `sigmoid` last-layer activation).\n",
      "  warnings.warn('`model.predict_classes()` is deprecated and '\n"
     ]
    },
    {
     "name": "stdout",
     "output_type": "stream",
     "text": [
      "Epoch 1/10\n",
      "315/315 [==============================] - 1s 1ms/step - loss: 0.5622 - accuracy: 0.7635\n",
      "Epoch 2/10\n",
      "315/315 [==============================] - 0s 1ms/step - loss: 0.4036 - accuracy: 0.7937\n",
      "Epoch 3/10\n",
      "315/315 [==============================] - 0s 1ms/step - loss: 0.3481 - accuracy: 0.8064\n",
      "Epoch 4/10\n",
      "315/315 [==============================] - 0s 1ms/step - loss: 0.3142 - accuracy: 0.8255\n",
      "Epoch 5/10\n",
      "315/315 [==============================] - 0s 1ms/step - loss: 0.2890 - accuracy: 0.8375\n",
      "Epoch 6/10\n",
      "315/315 [==============================] - 0s 1ms/step - loss: 0.2747 - accuracy: 0.8591\n",
      "Epoch 7/10\n",
      "315/315 [==============================] - 0s 1ms/step - loss: 0.2601 - accuracy: 0.8978\n",
      "Epoch 8/10\n",
      "315/315 [==============================] - 0s 1ms/step - loss: 0.2536 - accuracy: 0.9066\n",
      "Epoch 9/10\n",
      "315/315 [==============================] - 0s 1ms/step - loss: 0.2441 - accuracy: 0.9161\n",
      "Epoch 10/10\n",
      "315/315 [==============================] - 0s 1ms/step - loss: 0.2355 - accuracy: 0.9264\n",
      "Epoch 1/10\n"
     ]
    },
    {
     "name": "stderr",
     "output_type": "stream",
     "text": [
      "/Users/husni.zuhdi/Documents/Codes/1-Python-Workshop/retention-prediction-demo/retention-prediction/lib/python3.10/site-packages/tensorflow/python/keras/engine/sequential.py:454: UserWarning: `model.predict_classes()` is deprecated and will be removed after 2021-01-01. Please use instead:* `np.argmax(model.predict(x), axis=-1)`,   if your model does multi-class classification   (e.g. if it uses a `softmax` last-layer activation).* `(model.predict(x) > 0.5).astype(\"int32\")`,   if your model does binary classification   (e.g. if it uses a `sigmoid` last-layer activation).\n",
      "  warnings.warn('`model.predict_classes()` is deprecated and '\n"
     ]
    },
    {
     "name": "stdout",
     "output_type": "stream",
     "text": [
      "315/315 [==============================] - 1s 1ms/step - loss: 0.5663 - accuracy: 0.7675\n",
      "Epoch 2/10\n",
      "315/315 [==============================] - 0s 1ms/step - loss: 0.3746 - accuracy: 0.8478\n",
      "Epoch 3/10\n",
      "315/315 [==============================] - 0s 1ms/step - loss: 0.2919 - accuracy: 0.8948\n",
      "Epoch 4/10\n",
      "315/315 [==============================] - 0s 1ms/step - loss: 0.2549 - accuracy: 0.9101\n",
      "Epoch 5/10\n",
      "315/315 [==============================] - 0s 1ms/step - loss: 0.2321 - accuracy: 0.9250\n",
      "Epoch 6/10\n",
      "315/315 [==============================] - 0s 1ms/step - loss: 0.2165 - accuracy: 0.9312\n",
      "Epoch 7/10\n",
      "315/315 [==============================] - 0s 1ms/step - loss: 0.2039 - accuracy: 0.9333\n",
      "Epoch 8/10\n",
      "315/315 [==============================] - 0s 1ms/step - loss: 0.1975 - accuracy: 0.9359\n",
      "Epoch 9/10\n",
      "315/315 [==============================] - 0s 1ms/step - loss: 0.1916 - accuracy: 0.9402\n",
      "Epoch 10/10\n",
      "315/315 [==============================] - 0s 1ms/step - loss: 0.1898 - accuracy: 0.9403\n",
      "Epoch 1/10\n"
     ]
    },
    {
     "name": "stderr",
     "output_type": "stream",
     "text": [
      "/Users/husni.zuhdi/Documents/Codes/1-Python-Workshop/retention-prediction-demo/retention-prediction/lib/python3.10/site-packages/tensorflow/python/keras/engine/sequential.py:454: UserWarning: `model.predict_classes()` is deprecated and will be removed after 2021-01-01. Please use instead:* `np.argmax(model.predict(x), axis=-1)`,   if your model does multi-class classification   (e.g. if it uses a `softmax` last-layer activation).* `(model.predict(x) > 0.5).astype(\"int32\")`,   if your model does binary classification   (e.g. if it uses a `sigmoid` last-layer activation).\n",
      "  warnings.warn('`model.predict_classes()` is deprecated and '\n"
     ]
    },
    {
     "name": "stdout",
     "output_type": "stream",
     "text": [
      "315/315 [==============================] - 1s 1ms/step - loss: 0.5610 - accuracy: 0.7697\n",
      "Epoch 2/10\n",
      "315/315 [==============================] - 0s 1ms/step - loss: 0.3985 - accuracy: 0.8018\n",
      "Epoch 3/10\n",
      "315/315 [==============================] - 0s 1ms/step - loss: 0.3374 - accuracy: 0.8192\n",
      "Epoch 4/10\n",
      "315/315 [==============================] - 0s 1ms/step - loss: 0.2998 - accuracy: 0.8367\n",
      "Epoch 5/10\n",
      "315/315 [==============================] - 0s 1ms/step - loss: 0.2697 - accuracy: 0.8428\n",
      "Epoch 6/10\n",
      "315/315 [==============================] - 0s 1ms/step - loss: 0.2555 - accuracy: 0.9013\n",
      "Epoch 7/10\n",
      "315/315 [==============================] - 0s 1ms/step - loss: 0.2443 - accuracy: 0.9240\n",
      "Epoch 8/10\n",
      "315/315 [==============================] - 0s 1ms/step - loss: 0.2352 - accuracy: 0.9303\n",
      "Epoch 9/10\n",
      "315/315 [==============================] - 0s 1ms/step - loss: 0.2281 - accuracy: 0.9325\n",
      "Epoch 10/10\n",
      "315/315 [==============================] - 0s 1ms/step - loss: 0.2229 - accuracy: 0.9322\n",
      "Epoch 1/10\n"
     ]
    },
    {
     "name": "stderr",
     "output_type": "stream",
     "text": [
      "/Users/husni.zuhdi/Documents/Codes/1-Python-Workshop/retention-prediction-demo/retention-prediction/lib/python3.10/site-packages/tensorflow/python/keras/engine/sequential.py:454: UserWarning: `model.predict_classes()` is deprecated and will be removed after 2021-01-01. Please use instead:* `np.argmax(model.predict(x), axis=-1)`,   if your model does multi-class classification   (e.g. if it uses a `softmax` last-layer activation).* `(model.predict(x) > 0.5).astype(\"int32\")`,   if your model does binary classification   (e.g. if it uses a `sigmoid` last-layer activation).\n",
      "  warnings.warn('`model.predict_classes()` is deprecated and '\n"
     ]
    },
    {
     "name": "stdout",
     "output_type": "stream",
     "text": [
      "315/315 [==============================] - 1s 1ms/step - loss: 0.5542 - accuracy: 0.7614\n",
      "Epoch 2/10\n",
      "315/315 [==============================] - 0s 1ms/step - loss: 0.3876 - accuracy: 0.8184\n",
      "Epoch 3/10\n",
      "315/315 [==============================] - 0s 1ms/step - loss: 0.3151 - accuracy: 0.8711\n",
      "Epoch 4/10\n",
      "315/315 [==============================] - 0s 1ms/step - loss: 0.2721 - accuracy: 0.8948\n",
      "Epoch 5/10\n",
      "315/315 [==============================] - 0s 994us/step - loss: 0.2439 - accuracy: 0.9090\n",
      "Epoch 6/10\n",
      "315/315 [==============================] - 0s 1ms/step - loss: 0.2285 - accuracy: 0.9137\n",
      "Epoch 7/10\n",
      "315/315 [==============================] - 0s 1ms/step - loss: 0.2240 - accuracy: 0.9166\n",
      "Epoch 8/10\n",
      "315/315 [==============================] - 0s 1ms/step - loss: 0.2092 - accuracy: 0.9252\n",
      "Epoch 9/10\n",
      "315/315 [==============================] - 0s 1ms/step - loss: 0.2055 - accuracy: 0.9284\n",
      "Epoch 10/10\n",
      "315/315 [==============================] - 0s 992us/step - loss: 0.2066 - accuracy: 0.9259\n",
      "Epoch 1/10\n"
     ]
    },
    {
     "name": "stderr",
     "output_type": "stream",
     "text": [
      "/Users/husni.zuhdi/Documents/Codes/1-Python-Workshop/retention-prediction-demo/retention-prediction/lib/python3.10/site-packages/tensorflow/python/keras/engine/sequential.py:454: UserWarning: `model.predict_classes()` is deprecated and will be removed after 2021-01-01. Please use instead:* `np.argmax(model.predict(x), axis=-1)`,   if your model does multi-class classification   (e.g. if it uses a `softmax` last-layer activation).* `(model.predict(x) > 0.5).astype(\"int32\")`,   if your model does binary classification   (e.g. if it uses a `sigmoid` last-layer activation).\n",
      "  warnings.warn('`model.predict_classes()` is deprecated and '\n"
     ]
    },
    {
     "name": "stdout",
     "output_type": "stream",
     "text": [
      "315/315 [==============================] - 1s 1ms/step - loss: 0.5649 - accuracy: 0.7643\n",
      "Epoch 2/10\n",
      "315/315 [==============================] - 0s 1ms/step - loss: 0.3903 - accuracy: 0.8196\n",
      "Epoch 3/10\n",
      "315/315 [==============================] - 0s 1ms/step - loss: 0.3147 - accuracy: 0.8698\n",
      "Epoch 4/10\n",
      "315/315 [==============================] - 0s 985us/step - loss: 0.2671 - accuracy: 0.8995\n",
      "Epoch 5/10\n",
      "315/315 [==============================] - 0s 1ms/step - loss: 0.2331 - accuracy: 0.9133\n",
      "Epoch 6/10\n",
      "315/315 [==============================] - 0s 994us/step - loss: 0.2203 - accuracy: 0.9185\n",
      "Epoch 7/10\n",
      "315/315 [==============================] - 0s 1ms/step - loss: 0.2017 - accuracy: 0.9282\n",
      "Epoch 8/10\n",
      "315/315 [==============================] - 0s 1ms/step - loss: 0.2037 - accuracy: 0.9257\n",
      "Epoch 9/10\n",
      "315/315 [==============================] - 0s 1ms/step - loss: 0.1999 - accuracy: 0.9259\n",
      "Epoch 10/10\n",
      "315/315 [==============================] - 0s 1ms/step - loss: 0.1952 - accuracy: 0.9272\n",
      "Epoch 1/10\n"
     ]
    },
    {
     "name": "stderr",
     "output_type": "stream",
     "text": [
      "/Users/husni.zuhdi/Documents/Codes/1-Python-Workshop/retention-prediction-demo/retention-prediction/lib/python3.10/site-packages/tensorflow/python/keras/engine/sequential.py:454: UserWarning: `model.predict_classes()` is deprecated and will be removed after 2021-01-01. Please use instead:* `np.argmax(model.predict(x), axis=-1)`,   if your model does multi-class classification   (e.g. if it uses a `softmax` last-layer activation).* `(model.predict(x) > 0.5).astype(\"int32\")`,   if your model does binary classification   (e.g. if it uses a `sigmoid` last-layer activation).\n",
      "  warnings.warn('`model.predict_classes()` is deprecated and '\n"
     ]
    },
    {
     "name": "stdout",
     "output_type": "stream",
     "text": [
      "315/315 [==============================] - 1s 1ms/step - loss: 0.5577 - accuracy: 0.7620\n",
      "Epoch 2/10\n",
      "315/315 [==============================] - 0s 1ms/step - loss: 0.4003 - accuracy: 0.7942\n",
      "Epoch 3/10\n",
      "315/315 [==============================] - 0s 1ms/step - loss: 0.3431 - accuracy: 0.8081\n",
      "Epoch 4/10\n",
      "315/315 [==============================] - 0s 1ms/step - loss: 0.3090 - accuracy: 0.8230\n",
      "Epoch 5/10\n",
      "315/315 [==============================] - 0s 1ms/step - loss: 0.2851 - accuracy: 0.8442\n",
      "Epoch 6/10\n",
      "315/315 [==============================] - 0s 1ms/step - loss: 0.2661 - accuracy: 0.9020\n",
      "Epoch 7/10\n",
      "315/315 [==============================] - 0s 914us/step - loss: 0.2535 - accuracy: 0.9157\n",
      "Epoch 8/10\n",
      "315/315 [==============================] - 0s 940us/step - loss: 0.2411 - accuracy: 0.9256\n",
      "Epoch 9/10\n",
      "315/315 [==============================] - 0s 920us/step - loss: 0.2388 - accuracy: 0.9217\n",
      "Epoch 10/10\n",
      "315/315 [==============================] - 0s 1ms/step - loss: 0.2294 - accuracy: 0.9267\n",
      "Epoch 1/10\n"
     ]
    },
    {
     "name": "stderr",
     "output_type": "stream",
     "text": [
      "/Users/husni.zuhdi/Documents/Codes/1-Python-Workshop/retention-prediction-demo/retention-prediction/lib/python3.10/site-packages/tensorflow/python/keras/engine/sequential.py:454: UserWarning: `model.predict_classes()` is deprecated and will be removed after 2021-01-01. Please use instead:* `np.argmax(model.predict(x), axis=-1)`,   if your model does multi-class classification   (e.g. if it uses a `softmax` last-layer activation).* `(model.predict(x) > 0.5).astype(\"int32\")`,   if your model does binary classification   (e.g. if it uses a `sigmoid` last-layer activation).\n",
      "  warnings.warn('`model.predict_classes()` is deprecated and '\n"
     ]
    },
    {
     "name": "stdout",
     "output_type": "stream",
     "text": [
      "1050/1050 [==============================] - 2s 1ms/step - loss: 0.4367 - accuracy: 0.7924\n",
      "Epoch 2/10\n",
      "1050/1050 [==============================] - 1s 1ms/step - loss: 0.3024 - accuracy: 0.8287\n",
      "Epoch 3/10\n",
      "1050/1050 [==============================] - 1s 1ms/step - loss: 0.2725 - accuracy: 0.8850\n",
      "Epoch 4/10\n",
      "1050/1050 [==============================] - 1s 1ms/step - loss: 0.2476 - accuracy: 0.9154\n",
      "Epoch 5/10\n",
      "1050/1050 [==============================] - 1s 1ms/step - loss: 0.2413 - accuracy: 0.9183\n",
      "Epoch 6/10\n",
      "1050/1050 [==============================] - 1s 1ms/step - loss: 0.2289 - accuracy: 0.9269\n",
      "Epoch 7/10\n",
      "1050/1050 [==============================] - 1s 1ms/step - loss: 0.2272 - accuracy: 0.9285\n",
      "Epoch 8/10\n",
      "1050/1050 [==============================] - 1s 1ms/step - loss: 0.2173 - accuracy: 0.9311\n",
      "Epoch 9/10\n",
      "1050/1050 [==============================] - 1s 1ms/step - loss: 0.2112 - accuracy: 0.9337\n",
      "Epoch 10/10\n",
      "1050/1050 [==============================] - 2s 1ms/step - loss: 0.2079 - accuracy: 0.9338\n"
     ]
    }
   ],
   "source": [
    "grid_search = grid_search.fit(X_train,y_train)"
   ]
  },
  {
   "cell_type": "code",
   "execution_count": 66,
   "metadata": {},
   "outputs": [
    {
     "name": "stdout",
     "output_type": "stream",
     "text": [
      "{'batch_size': 10, 'epochs': 10, 'optimizer': 'adam'}\n",
      "0.9488515139134777\n"
     ]
    }
   ],
   "source": [
    "best_param = grid_search.best_params_\n",
    "best_accuracy = grid_search.best_score_\n",
    "print(best_param)\n",
    "print(best_accuracy)"
   ]
  },
  {
   "cell_type": "code",
   "execution_count": 67,
   "metadata": {},
   "outputs": [],
   "source": [
    "best_classifier = KerasClassifier(\n",
    "    build_fn = make_classifier,\n",
    "    batch_size=best_param.get('batch_size'),\n",
    "    nb_epoch=best_param.get('epochs'),\n",
    "    optimizer=best_param.get('optimizer')\n",
    "    )"
   ]
  },
  {
   "cell_type": "code",
   "execution_count": 68,
   "metadata": {},
   "outputs": [
    {
     "name": "stderr",
     "output_type": "stream",
     "text": [
      "2022-06-05 20:47:28.801189: I tensorflow/core/platform/cpu_feature_guard.cc:193] This TensorFlow binary is optimized with oneAPI Deep Neural Network Library (oneDNN) to use the following CPU instructions in performance-critical operations:  AVX2 AVX512F AVX512_VNNI FMA\n",
      "To enable them in other operations, rebuild TensorFlow with the appropriate compiler flags.\n",
      "2022-06-05 20:47:28.801189: I tensorflow/core/platform/cpu_feature_guard.cc:193] This TensorFlow binary is optimized with oneAPI Deep Neural Network Library (oneDNN) to use the following CPU instructions in performance-critical operations:  AVX2 AVX512F AVX512_VNNI FMA\n",
      "To enable them in other operations, rebuild TensorFlow with the appropriate compiler flags.\n",
      "2022-06-05 20:47:28.801574: I tensorflow/core/platform/cpu_feature_guard.cc:193] This TensorFlow binary is optimized with oneAPI Deep Neural Network Library (oneDNN) to use the following CPU instructions in performance-critical operations:  AVX2 AVX512F AVX512_VNNI FMA\n",
      "To enable them in other operations, rebuild TensorFlow with the appropriate compiler flags.\n",
      "2022-06-05 20:47:28.801574: I tensorflow/core/platform/cpu_feature_guard.cc:193] This TensorFlow binary is optimized with oneAPI Deep Neural Network Library (oneDNN) to use the following CPU instructions in performance-critical operations:  AVX2 AVX512F AVX512_VNNI FMA\n",
      "To enable them in other operations, rebuild TensorFlow with the appropriate compiler flags.\n",
      "2022-06-05 20:47:28.801936: I tensorflow/core/platform/cpu_feature_guard.cc:193] This TensorFlow binary is optimized with oneAPI Deep Neural Network Library (oneDNN) to use the following CPU instructions in performance-critical operations:  AVX2 AVX512F AVX512_VNNI FMA\n",
      "To enable them in other operations, rebuild TensorFlow with the appropriate compiler flags.\n",
      "2022-06-05 20:47:28.811820: I tensorflow/core/platform/cpu_feature_guard.cc:193] This TensorFlow binary is optimized with oneAPI Deep Neural Network Library (oneDNN) to use the following CPU instructions in performance-critical operations:  AVX2 AVX512F AVX512_VNNI FMA\n",
      "To enable them in other operations, rebuild TensorFlow with the appropriate compiler flags.\n",
      "2022-06-05 20:47:28.815459: I tensorflow/core/platform/cpu_feature_guard.cc:193] This TensorFlow binary is optimized with oneAPI Deep Neural Network Library (oneDNN) to use the following CPU instructions in performance-critical operations:  AVX2 AVX512F AVX512_VNNI FMA\n",
      "To enable them in other operations, rebuild TensorFlow with the appropriate compiler flags.\n",
      "2022-06-05 20:47:28.815459: I tensorflow/core/platform/cpu_feature_guard.cc:193] This TensorFlow binary is optimized with oneAPI Deep Neural Network Library (oneDNN) to use the following CPU instructions in performance-critical operations:  AVX2 AVX512F AVX512_VNNI FMA\n",
      "To enable them in other operations, rebuild TensorFlow with the appropriate compiler flags.\n"
     ]
    },
    {
     "name": "stdout",
     "output_type": "stream",
     "text": [
      "945/945 [==============================] - 4s 3ms/step - loss: 0.4571 - accuracy: 0.7601TA: 0s - loss: 0.4600 - accuracy: 0.78 ETA: 0s - loss: 0.4615 - accuracy: 0.7825 - ETA: 3s - loss: 0.\n",
      "945/945 [==============================] - 4s 3ms/step - loss: 0.4464 - accuracy: 0.7898\n",
      "945/945 [==============================] - 4s 3ms/step - loss: 0.4358 - accuracy: 0.7874\n",
      "945/945 [==============================] - 4s 3ms/step - loss: 0.4386 - accuracy: 0.8180\n",
      "945/945 [==============================] - 4s 3ms/step - loss: 0.4372 - accuracy: 0.8111\n",
      "945/945 [==============================] - 4s 3ms/step - loss: 0.4425 - accuracy: 0.8175\n",
      "945/945 [==============================] - 4s 3ms/step - loss: 0.4421 - accuracy: 0.7850\n",
      "945/945 [==============================] - 4s 3ms/step - loss: 0.4372 - accuracy: 0.8044\n",
      " 23/105 [=====>........................] - ETA: 0s - loss: 0.3588 - accuracy: 0.7826  - 0s 2ms/step - loss: 0.3498 - accuracy: 0.7857\n",
      "105/105 [==============================] - 1s 2ms/step - loss: 0.2758 - accuracy: 0.9038\n",
      "105/105 [==============================] - 1s 3ms/step - loss: 0.3261 - accuracy: 0.8190\n",
      "105/105 [==============================] - 1s 2ms/step - loss: 0.3275 - accuracy: 0.8181\n",
      "105/105 [==============================] - 1s 3ms/step - loss: 0.2768 - accuracy: 0.8971\n",
      "105/105 [==============================] - 1s 3ms/step - loss: 0.2943 - accuracy: 0.8981\n",
      "105/105 [==============================] - 1s 2ms/step - loss: 0.3463 - accuracy: 0.8124\n",
      "105/105 [==============================] - 1s 2ms/step - loss: 0.3521 - accuracy: 0.8457\n",
      "945/945 [==============================] - 2s 1ms/step - loss: 0.4400 - accuracy: 0.7909\n",
      "945/945 [==============================] - 2s 1ms/step - loss: 0.4617 - accuracy: 0.7830\n",
      "105/105 [==============================] - 0s 1ms/step - loss: 0.3122 - accuracy: 0.8284\n",
      "105/105 [==============================] - 0s 975us/step - loss: 0.3669 - accuracy: 0.7924\n"
     ]
    }
   ],
   "source": [
    "accuracies = cross_val_score(estimator = best_classifier,X = X_train,y = y_train,cv = 10,n_jobs = -1)"
   ]
  },
  {
   "cell_type": "code",
   "execution_count": 14,
   "metadata": {},
   "outputs": [
    {
     "name": "stdout",
     "output_type": "stream",
     "text": [
      "mean: 0.8362676441669464; variance: 0.002283102837360538\n"
     ]
    }
   ],
   "source": [
    "mean = accuracies.mean()\n",
    "variance = accuracies.var()\n",
    "print(f\"mean: {mean}; variance: {variance}\")"
   ]
  },
  {
   "cell_type": "code",
   "execution_count": 69,
   "metadata": {},
   "outputs": [
    {
     "name": "stdout",
     "output_type": "stream",
     "text": [
      "Epoch 1/10\n",
      "1050/1050 [==============================] - 2s 1ms/step - loss: 0.4177 - accuracy: 0.8200\n",
      "Epoch 2/10\n",
      "1050/1050 [==============================] - 1s 1ms/step - loss: 0.2577 - accuracy: 0.9028\n",
      "Epoch 3/10\n",
      "1050/1050 [==============================] - 1s 1ms/step - loss: 0.2165 - accuracy: 0.9224\n",
      "Epoch 4/10\n",
      "1050/1050 [==============================] - 1s 1ms/step - loss: 0.2062 - accuracy: 0.9257\n",
      "Epoch 5/10\n",
      "1050/1050 [==============================] - 1s 1ms/step - loss: 0.1986 - accuracy: 0.9281\n",
      "Epoch 6/10\n",
      "1050/1050 [==============================] - 1s 1ms/step - loss: 0.1897 - accuracy: 0.9328\n",
      "Epoch 7/10\n",
      "1050/1050 [==============================] - 1s 1ms/step - loss: 0.1889 - accuracy: 0.9334\n",
      "Epoch 8/10\n",
      "1050/1050 [==============================] - 1s 1ms/step - loss: 0.1833 - accuracy: 0.9371\n",
      "Epoch 9/10\n",
      "1050/1050 [==============================] - 1s 1ms/step - loss: 0.1826 - accuracy: 0.9352\n",
      "Epoch 10/10\n",
      "1050/1050 [==============================] - 1s 1ms/step - loss: 0.1813 - accuracy: 0.9353\n"
     ]
    },
    {
     "data": {
      "text/plain": [
       "<tensorflow.python.keras.callbacks.History at 0x16ad79420>"
      ]
     },
     "execution_count": 69,
     "metadata": {},
     "output_type": "execute_result"
    }
   ],
   "source": [
    "best_classifier.fit(X_train, y_train, batch_size = best_param.get('batch_size'), epochs = best_param.get('epochs'))"
   ]
  },
  {
   "cell_type": "code",
   "execution_count": 70,
   "metadata": {},
   "outputs": [
    {
     "name": "stderr",
     "output_type": "stream",
     "text": [
      "/Users/husni.zuhdi/Documents/Codes/1-Python-Workshop/retention-prediction-demo/retention-prediction/lib/python3.10/site-packages/tensorflow/python/keras/engine/sequential.py:454: UserWarning: `model.predict_classes()` is deprecated and will be removed after 2021-01-01. Please use instead:* `np.argmax(model.predict(x), axis=-1)`,   if your model does multi-class classification   (e.g. if it uses a `softmax` last-layer activation).* `(model.predict(x) > 0.5).astype(\"int32\")`,   if your model does binary classification   (e.g. if it uses a `sigmoid` last-layer activation).\n",
      "  warnings.warn('`model.predict_classes()` is deprecated and '\n"
     ]
    },
    {
     "data": {
      "text/plain": [
       "array([[False],\n",
       "       [False],\n",
       "       [False],\n",
       "       ...,\n",
       "       [False],\n",
       "       [False],\n",
       "       [False]])"
      ]
     },
     "execution_count": 70,
     "metadata": {},
     "output_type": "execute_result"
    }
   ],
   "source": [
    "y_pred = (best_classifier.predict(X_test) > 0.5).astype(\"bool\")\n",
    "y_pred"
   ]
  },
  {
   "cell_type": "markdown",
   "metadata": {},
   "source": [
    "# Confusion Matrix"
   ]
  },
  {
   "cell_type": "code",
   "execution_count": 71,
   "metadata": {},
   "outputs": [
    {
     "data": {
      "text/plain": [
       "array([[3323,   92],\n",
       "       [ 120,  965]])"
      ]
     },
     "execution_count": 71,
     "metadata": {},
     "output_type": "execute_result"
    }
   ],
   "source": [
    "from sklearn.metrics import confusion_matrix\n",
    "cm = confusion_matrix(y_test, y_pred)\n",
    "cm"
   ]
  },
  {
   "cell_type": "code",
   "execution_count": 72,
   "metadata": {},
   "outputs": [
    {
     "name": "stdout",
     "output_type": "stream",
     "text": [
      "[[False]]\n"
     ]
    },
    {
     "name": "stderr",
     "output_type": "stream",
     "text": [
      "/Users/husni.zuhdi/Documents/Codes/1-Python-Workshop/retention-prediction-demo/retention-prediction/lib/python3.10/site-packages/tensorflow/python/keras/engine/sequential.py:454: UserWarning: `model.predict_classes()` is deprecated and will be removed after 2021-01-01. Please use instead:* `np.argmax(model.predict(x), axis=-1)`,   if your model does multi-class classification   (e.g. if it uses a `softmax` last-layer activation).* `(model.predict(x) > 0.5).astype(\"int32\")`,   if your model does binary classification   (e.g. if it uses a `sigmoid` last-layer activation).\n",
      "  warnings.warn('`model.predict_classes()` is deprecated and '\n"
     ]
    }
   ],
   "source": [
    "new_pred = best_classifier.predict(sc.transform(np.array([[0.26,0.7 ,3., 238., 6., 0.,0.,0.,0.,0., 0.,0.,0.,0.,0.,1.,0., 0.,1.,0.]])))\n",
    "new_pred = (new_pred > 0.5)\n",
    "print(new_pred)"
   ]
  },
  {
   "cell_type": "markdown",
   "metadata": {},
   "source": [
    "# Save and Load model"
   ]
  },
  {
   "cell_type": "markdown",
   "metadata": {},
   "source": [
    "## Save into HDF5 format"
   ]
  },
  {
   "cell_type": "code",
   "execution_count": 81,
   "metadata": {},
   "outputs": [
    {
     "name": "stdout",
     "output_type": "stream",
     "text": [
      "mkdir: model/hdf5/v2/: File exists\n"
     ]
    }
   ],
   "source": [
    "# Create model folder\n",
    "folder = \"hdf5/v2/\"\n",
    "!mkdir model/hdf5/v2/\n",
    "# saving model\n",
    "json_model = best_classifier.model.to_json()\n",
    "open(f'model/{folder}retention_prediction_model.json', 'w').write(json_model)\n",
    "# saving weights\n",
    "best_classifier.model.save_weights(f'model/{folder}retention_prediction_weights.h5', overwrite=True)\n",
    "# saving standard scaler\n",
    "import pickle\n",
    "with open(f'model/{folder}standard_scaler.pkl', 'wb') as handler:\n",
    "    pickle.dump(sc, handler)"
   ]
  },
  {
   "cell_type": "code",
   "execution_count": 82,
   "metadata": {},
   "outputs": [],
   "source": [
    "# loading model\n",
    "from tensorflow.python.keras.models import model_from_json\n",
    "\n",
    "model = model_from_json(open(f'model/{folder}retention_prediction_model.json').read())\n",
    "model.load_weights(f'model/{folder}retention_prediction_weights.h5')\n",
    "\n",
    "# dont forget to compile your model\n",
    "model.compile(loss='binary_crossentropy', optimizer='adam')\n",
    "\n",
    "# and load standard_scaler\n",
    "with open(f'model/{folder}standard_scaler.pkl', 'rb') as handler:\n",
    "    sc = pickle.load(handler)"
   ]
  },
  {
   "cell_type": "code",
   "execution_count": 83,
   "metadata": {},
   "outputs": [
    {
     "name": "stdout",
     "output_type": "stream",
     "text": [
      "[[0.13725892]]\n"
     ]
    }
   ],
   "source": [
    "model_pred = model.predict(sc.transform(np.array([[0.26,0.7 ,3., 238., 6., 0.,0.,0.,0.,0., 0.,0.,0.,0.,0.,1.,0., 0.,1.,0.]])))\n",
    "print(model_pred)"
   ]
  },
  {
   "cell_type": "markdown",
   "metadata": {},
   "source": [
    "## Save into tensorflow js format"
   ]
  },
  {
   "cell_type": "code",
   "execution_count": 77,
   "metadata": {},
   "outputs": [],
   "source": [
    "import tensorflowjs as tfjs\n",
    "\n",
    "tfjs.converters.save_keras_model(model, \"model/tfjs/v2\")"
   ]
  },
  {
   "cell_type": "code",
   "execution_count": 78,
   "metadata": {},
   "outputs": [
    {
     "name": "stdout",
     "output_type": "stream",
     "text": [
      "[[-1.41689675 -0.0946757  -0.64363199  0.7440341   1.70989898 -0.41586244\n",
      "  -0.14561649 -0.29964341 -0.23148986 -0.23103277 -0.22781266 -0.21038296\n",
      "  -0.24922744 -0.25605427 -0.612466    2.39017062 -0.47262512 -0.2981308\n",
      "   1.02948488 -0.87370039]]\n"
     ]
    }
   ],
   "source": [
    "tes = sc.transform(np.array([[0.26,0.7 ,3., 238., 6., 0.,0.,0.,0.,0., 0.,0.,0.,0.,0.,1.,0., 0.,1.,0.]]))\n",
    "print(tes)"
   ]
  },
  {
   "cell_type": "code",
   "execution_count": null,
   "metadata": {},
   "outputs": [],
   "source": []
  }
 ],
 "metadata": {
  "interpreter": {
   "hash": "e7e0f8da691bef39f047a6ecce313123a5b7239f3e31c96f60216464a1606940"
  },
  "kernelspec": {
   "display_name": "Python 3.10.0 ('retention-prediction': venv)",
   "language": "python",
   "name": "python3"
  },
  "language_info": {
   "codemirror_mode": {
    "name": "ipython",
    "version": 3
   },
   "file_extension": ".py",
   "mimetype": "text/x-python",
   "name": "python",
   "nbconvert_exporter": "python",
   "pygments_lexer": "ipython3",
   "version": "3.10.0"
  },
  "orig_nbformat": 4
 },
 "nbformat": 4,
 "nbformat_minor": 2
}
