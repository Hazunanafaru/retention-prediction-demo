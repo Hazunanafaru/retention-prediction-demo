{
 "cells": [
  {
   "cell_type": "markdown",
   "metadata": {},
   "source": [
    "# Retention Prediction with Tensorflow\n",
    "Ref : https://www.digitalocean.com/community/tutorials/how-to-build-a-deep-learning-model-to-predict-employee-retention-using-keras-and-tensorflow"
   ]
  },
  {
   "cell_type": "markdown",
   "metadata": {},
   "source": [
    "# Load Dataset"
   ]
  },
  {
   "cell_type": "code",
   "execution_count": 19,
   "metadata": {},
   "outputs": [],
   "source": [
    "import pandas as pd\n",
    "import numpy as np\n",
    "from sklearn.model_selection import train_test_split\n",
    "from sklearn.preprocessing import StandardScaler\n",
    "df = pd.read_csv(\"https://raw.githubusercontent.com/mwitiderrick/kerasDO/master/HR_comma_sep.csv\")"
   ]
  },
  {
   "cell_type": "code",
   "execution_count": 2,
   "metadata": {},
   "outputs": [
    {
     "data": {
      "text/html": [
       "<div>\n",
       "<style scoped>\n",
       "    .dataframe tbody tr th:only-of-type {\n",
       "        vertical-align: middle;\n",
       "    }\n",
       "\n",
       "    .dataframe tbody tr th {\n",
       "        vertical-align: top;\n",
       "    }\n",
       "\n",
       "    .dataframe thead th {\n",
       "        text-align: right;\n",
       "    }\n",
       "</style>\n",
       "<table border=\"1\" class=\"dataframe\">\n",
       "  <thead>\n",
       "    <tr style=\"text-align: right;\">\n",
       "      <th></th>\n",
       "      <th>satisfaction_level</th>\n",
       "      <th>last_evaluation</th>\n",
       "      <th>number_project</th>\n",
       "      <th>average_montly_hours</th>\n",
       "      <th>time_spend_company</th>\n",
       "      <th>work_accident</th>\n",
       "      <th>left</th>\n",
       "      <th>promotion_last_5years</th>\n",
       "      <th>department</th>\n",
       "      <th>salary_level</th>\n",
       "    </tr>\n",
       "  </thead>\n",
       "  <tbody>\n",
       "    <tr>\n",
       "      <th>0</th>\n",
       "      <td>0.38</td>\n",
       "      <td>0.53</td>\n",
       "      <td>2</td>\n",
       "      <td>157</td>\n",
       "      <td>3</td>\n",
       "      <td>0</td>\n",
       "      <td>1</td>\n",
       "      <td>0</td>\n",
       "      <td>sales</td>\n",
       "      <td>low</td>\n",
       "    </tr>\n",
       "    <tr>\n",
       "      <th>1</th>\n",
       "      <td>0.80</td>\n",
       "      <td>0.86</td>\n",
       "      <td>5</td>\n",
       "      <td>262</td>\n",
       "      <td>6</td>\n",
       "      <td>0</td>\n",
       "      <td>1</td>\n",
       "      <td>0</td>\n",
       "      <td>sales</td>\n",
       "      <td>medium</td>\n",
       "    </tr>\n",
       "    <tr>\n",
       "      <th>2</th>\n",
       "      <td>0.11</td>\n",
       "      <td>0.88</td>\n",
       "      <td>7</td>\n",
       "      <td>272</td>\n",
       "      <td>4</td>\n",
       "      <td>0</td>\n",
       "      <td>1</td>\n",
       "      <td>0</td>\n",
       "      <td>sales</td>\n",
       "      <td>medium</td>\n",
       "    </tr>\n",
       "    <tr>\n",
       "      <th>3</th>\n",
       "      <td>0.72</td>\n",
       "      <td>0.87</td>\n",
       "      <td>5</td>\n",
       "      <td>223</td>\n",
       "      <td>5</td>\n",
       "      <td>0</td>\n",
       "      <td>1</td>\n",
       "      <td>0</td>\n",
       "      <td>sales</td>\n",
       "      <td>low</td>\n",
       "    </tr>\n",
       "    <tr>\n",
       "      <th>4</th>\n",
       "      <td>0.37</td>\n",
       "      <td>0.52</td>\n",
       "      <td>2</td>\n",
       "      <td>159</td>\n",
       "      <td>3</td>\n",
       "      <td>0</td>\n",
       "      <td>1</td>\n",
       "      <td>0</td>\n",
       "      <td>sales</td>\n",
       "      <td>low</td>\n",
       "    </tr>\n",
       "  </tbody>\n",
       "</table>\n",
       "</div>"
      ],
      "text/plain": [
       "   satisfaction_level  last_evaluation  number_project  average_montly_hours  \\\n",
       "0                0.38             0.53               2                   157   \n",
       "1                0.80             0.86               5                   262   \n",
       "2                0.11             0.88               7                   272   \n",
       "3                0.72             0.87               5                   223   \n",
       "4                0.37             0.52               2                   159   \n",
       "\n",
       "   time_spend_company  work_accident  left  promotion_last_5years department  \\\n",
       "0                   3              0     1                      0      sales   \n",
       "1                   6              0     1                      0      sales   \n",
       "2                   4              0     1                      0      sales   \n",
       "3                   5              0     1                      0      sales   \n",
       "4                   3              0     1                      0      sales   \n",
       "\n",
       "  salary_level  \n",
       "0          low  \n",
       "1       medium  \n",
       "2       medium  \n",
       "3          low  \n",
       "4          low  "
      ]
     },
     "execution_count": 2,
     "metadata": {},
     "output_type": "execute_result"
    }
   ],
   "source": [
    "df.rename(columns={\"Work_accident\": \"work_accident\", \"salary\": \"salary_level\"}, inplace=True)\n",
    "df.head()"
   ]
  },
  {
   "cell_type": "code",
   "execution_count": 3,
   "metadata": {},
   "outputs": [],
   "source": [
    "feats = ['department','salary_level']\n",
    "df_final = pd.get_dummies(df,columns=feats,drop_first=True)"
   ]
  },
  {
   "cell_type": "markdown",
   "metadata": {},
   "source": [
    "## Separating Train and Test Dataset"
   ]
  },
  {
   "cell_type": "code",
   "execution_count": 4,
   "metadata": {},
   "outputs": [],
   "source": [
    "X = df_final.drop(['left'],axis=1).values\n",
    "y = df_final['left'].values\n",
    "\n",
    "X_train, X_test, y_train, y_test = train_test_split(X, y, test_size=0.3)"
   ]
  },
  {
   "cell_type": "code",
   "execution_count": 5,
   "metadata": {},
   "outputs": [],
   "source": [
    "sc = StandardScaler()\n",
    "X_train = sc.fit_transform(X_train)\n",
    "X_test = sc.transform(X_test)"
   ]
  },
  {
   "cell_type": "markdown",
   "metadata": {},
   "source": [
    "# Train Model"
   ]
  },
  {
   "cell_type": "code",
   "execution_count": 6,
   "metadata": {},
   "outputs": [],
   "source": [
    "from tensorflow.python.keras.models import Sequential\n",
    "from tensorflow.python.keras.layers import Dense\n",
    "from tensorflow.python.keras.layers import Dropout\n",
    "from tensorflow.python.keras.wrappers.scikit_learn import KerasClassifier\n",
    "from sklearn.model_selection import GridSearchCV\n",
    "from sklearn.model_selection import cross_val_score\n",
    "\n",
    "def make_classifier(optimizer):\n",
    "    classifier = Sequential()\n",
    "    classifier.add(Dense(9, kernel_initializer = \"uniform\", activation = \"relu\", input_dim=18))\n",
    "    classifier.add(Dropout(rate = 0.1))\n",
    "    classifier.add(Dense(1, kernel_initializer = \"uniform\", activation = \"sigmoid\"))\n",
    "    classifier.compile(optimizer= optimizer,loss = \"binary_crossentropy\",metrics = [\"accuracy\"])\n",
    "    return classifier"
   ]
  },
  {
   "cell_type": "code",
   "execution_count": 7,
   "metadata": {},
   "outputs": [],
   "source": [
    "classifier = KerasClassifier(build_fn = make_classifier)"
   ]
  },
  {
   "cell_type": "code",
   "execution_count": 8,
   "metadata": {},
   "outputs": [],
   "source": [
    "params = {\n",
    "    'batch_size':[10,20,30],\n",
    "    'epochs':[2,4,6,8,10],\n",
    "    'optimizer':['adam','rmsprop']\n",
    "}"
   ]
  },
  {
   "cell_type": "code",
   "execution_count": 9,
   "metadata": {},
   "outputs": [],
   "source": [
    "grid_search = GridSearchCV(estimator=classifier,\n",
    "                           param_grid=params,\n",
    "                           scoring=\"accuracy\",\n",
    "                           cv=10)"
   ]
  },
  {
   "cell_type": "code",
   "execution_count": 10,
   "metadata": {},
   "outputs": [
    {
     "name": "stderr",
     "output_type": "stream",
     "text": [
      "2022-06-05 15:48:19.236918: I tensorflow/core/platform/cpu_feature_guard.cc:193] This TensorFlow binary is optimized with oneAPI Deep Neural Network Library (oneDNN) to use the following CPU instructions in performance-critical operations:  AVX2 AVX512F AVX512_VNNI FMA\n",
      "To enable them in other operations, rebuild TensorFlow with the appropriate compiler flags.\n"
     ]
    },
    {
     "name": "stdout",
     "output_type": "stream",
     "text": [
      "Epoch 1/2\n",
      "945/945 [==============================] - 2s 1ms/step - loss: 0.4417 - accuracy: 0.8082\n",
      "Epoch 2/2\n",
      "945/945 [==============================] - 1s 1ms/step - loss: 0.2687 - accuracy: 0.8985\n",
      "Epoch 1/2\n"
     ]
    },
    {
     "name": "stderr",
     "output_type": "stream",
     "text": [
      "/Users/husni.zuhdi/Documents/Codes/1-Python-Workshop/retention-prediction-demo/retention-prediction/lib/python3.10/site-packages/tensorflow/python/keras/engine/sequential.py:454: UserWarning: `model.predict_classes()` is deprecated and will be removed after 2021-01-01. Please use instead:* `np.argmax(model.predict(x), axis=-1)`,   if your model does multi-class classification   (e.g. if it uses a `softmax` last-layer activation).* `(model.predict(x) > 0.5).astype(\"int32\")`,   if your model does binary classification   (e.g. if it uses a `sigmoid` last-layer activation).\n",
      "  warnings.warn('`model.predict_classes()` is deprecated and '\n"
     ]
    },
    {
     "name": "stdout",
     "output_type": "stream",
     "text": [
      "945/945 [==============================] - 1s 1ms/step - loss: 0.4352 - accuracy: 0.8165\n",
      "Epoch 2/2\n",
      "945/945 [==============================] - 1s 1ms/step - loss: 0.2597 - accuracy: 0.9060\n",
      "Epoch 1/2\n"
     ]
    },
    {
     "name": "stderr",
     "output_type": "stream",
     "text": [
      "/Users/husni.zuhdi/Documents/Codes/1-Python-Workshop/retention-prediction-demo/retention-prediction/lib/python3.10/site-packages/tensorflow/python/keras/engine/sequential.py:454: UserWarning: `model.predict_classes()` is deprecated and will be removed after 2021-01-01. Please use instead:* `np.argmax(model.predict(x), axis=-1)`,   if your model does multi-class classification   (e.g. if it uses a `softmax` last-layer activation).* `(model.predict(x) > 0.5).astype(\"int32\")`,   if your model does binary classification   (e.g. if it uses a `sigmoid` last-layer activation).\n",
      "  warnings.warn('`model.predict_classes()` is deprecated and '\n"
     ]
    },
    {
     "name": "stdout",
     "output_type": "stream",
     "text": [
      "945/945 [==============================] - 1s 1ms/step - loss: 0.4425 - accuracy: 0.7865\n",
      "Epoch 2/2\n",
      "945/945 [==============================] - 1s 1ms/step - loss: 0.3004 - accuracy: 0.8281\n",
      "Epoch 1/2\n"
     ]
    },
    {
     "name": "stderr",
     "output_type": "stream",
     "text": [
      "/Users/husni.zuhdi/Documents/Codes/1-Python-Workshop/retention-prediction-demo/retention-prediction/lib/python3.10/site-packages/tensorflow/python/keras/engine/sequential.py:454: UserWarning: `model.predict_classes()` is deprecated and will be removed after 2021-01-01. Please use instead:* `np.argmax(model.predict(x), axis=-1)`,   if your model does multi-class classification   (e.g. if it uses a `softmax` last-layer activation).* `(model.predict(x) > 0.5).astype(\"int32\")`,   if your model does binary classification   (e.g. if it uses a `sigmoid` last-layer activation).\n",
      "  warnings.warn('`model.predict_classes()` is deprecated and '\n"
     ]
    },
    {
     "name": "stdout",
     "output_type": "stream",
     "text": [
      "945/945 [==============================] - 1s 997us/step - loss: 0.4399 - accuracy: 0.8102\n",
      "Epoch 2/2\n",
      "945/945 [==============================] - 1s 1ms/step - loss: 0.2720 - accuracy: 0.8958\n",
      "Epoch 1/2\n"
     ]
    },
    {
     "name": "stderr",
     "output_type": "stream",
     "text": [
      "/Users/husni.zuhdi/Documents/Codes/1-Python-Workshop/retention-prediction-demo/retention-prediction/lib/python3.10/site-packages/tensorflow/python/keras/engine/sequential.py:454: UserWarning: `model.predict_classes()` is deprecated and will be removed after 2021-01-01. Please use instead:* `np.argmax(model.predict(x), axis=-1)`,   if your model does multi-class classification   (e.g. if it uses a `softmax` last-layer activation).* `(model.predict(x) > 0.5).astype(\"int32\")`,   if your model does binary classification   (e.g. if it uses a `sigmoid` last-layer activation).\n",
      "  warnings.warn('`model.predict_classes()` is deprecated and '\n"
     ]
    },
    {
     "name": "stdout",
     "output_type": "stream",
     "text": [
      "945/945 [==============================] - 1s 1ms/step - loss: 0.4523 - accuracy: 0.7891\n",
      "Epoch 2/2\n",
      "945/945 [==============================] - 1s 1ms/step - loss: 0.3166 - accuracy: 0.8531\n",
      "Epoch 1/2\n"
     ]
    },
    {
     "name": "stderr",
     "output_type": "stream",
     "text": [
      "/Users/husni.zuhdi/Documents/Codes/1-Python-Workshop/retention-prediction-demo/retention-prediction/lib/python3.10/site-packages/tensorflow/python/keras/engine/sequential.py:454: UserWarning: `model.predict_classes()` is deprecated and will be removed after 2021-01-01. Please use instead:* `np.argmax(model.predict(x), axis=-1)`,   if your model does multi-class classification   (e.g. if it uses a `softmax` last-layer activation).* `(model.predict(x) > 0.5).astype(\"int32\")`,   if your model does binary classification   (e.g. if it uses a `sigmoid` last-layer activation).\n",
      "  warnings.warn('`model.predict_classes()` is deprecated and '\n"
     ]
    },
    {
     "name": "stdout",
     "output_type": "stream",
     "text": [
      "945/945 [==============================] - 1s 1ms/step - loss: 0.4590 - accuracy: 0.7616\n",
      "Epoch 2/2\n",
      "945/945 [==============================] - 1s 1ms/step - loss: 0.3274 - accuracy: 0.8258\n",
      "Epoch 1/2\n"
     ]
    },
    {
     "name": "stderr",
     "output_type": "stream",
     "text": [
      "/Users/husni.zuhdi/Documents/Codes/1-Python-Workshop/retention-prediction-demo/retention-prediction/lib/python3.10/site-packages/tensorflow/python/keras/engine/sequential.py:454: UserWarning: `model.predict_classes()` is deprecated and will be removed after 2021-01-01. Please use instead:* `np.argmax(model.predict(x), axis=-1)`,   if your model does multi-class classification   (e.g. if it uses a `softmax` last-layer activation).* `(model.predict(x) > 0.5).astype(\"int32\")`,   if your model does binary classification   (e.g. if it uses a `sigmoid` last-layer activation).\n",
      "  warnings.warn('`model.predict_classes()` is deprecated and '\n"
     ]
    },
    {
     "name": "stdout",
     "output_type": "stream",
     "text": [
      "945/945 [==============================] - 1s 997us/step - loss: 0.4483 - accuracy: 0.7644\n",
      "Epoch 2/2\n",
      "945/945 [==============================] - 1s 992us/step - loss: 0.3384 - accuracy: 0.8039\n",
      "Epoch 1/2\n"
     ]
    },
    {
     "name": "stderr",
     "output_type": "stream",
     "text": [
      "/Users/husni.zuhdi/Documents/Codes/1-Python-Workshop/retention-prediction-demo/retention-prediction/lib/python3.10/site-packages/tensorflow/python/keras/engine/sequential.py:454: UserWarning: `model.predict_classes()` is deprecated and will be removed after 2021-01-01. Please use instead:* `np.argmax(model.predict(x), axis=-1)`,   if your model does multi-class classification   (e.g. if it uses a `softmax` last-layer activation).* `(model.predict(x) > 0.5).astype(\"int32\")`,   if your model does binary classification   (e.g. if it uses a `sigmoid` last-layer activation).\n",
      "  warnings.warn('`model.predict_classes()` is deprecated and '\n"
     ]
    },
    {
     "name": "stdout",
     "output_type": "stream",
     "text": [
      "945/945 [==============================] - 1s 1ms/step - loss: 0.4542 - accuracy: 0.7828\n",
      "Epoch 2/2\n",
      "945/945 [==============================] - 1s 1ms/step - loss: 0.3001 - accuracy: 0.8302\n",
      "Epoch 1/2\n"
     ]
    },
    {
     "name": "stderr",
     "output_type": "stream",
     "text": [
      "/Users/husni.zuhdi/Documents/Codes/1-Python-Workshop/retention-prediction-demo/retention-prediction/lib/python3.10/site-packages/tensorflow/python/keras/engine/sequential.py:454: UserWarning: `model.predict_classes()` is deprecated and will be removed after 2021-01-01. Please use instead:* `np.argmax(model.predict(x), axis=-1)`,   if your model does multi-class classification   (e.g. if it uses a `softmax` last-layer activation).* `(model.predict(x) > 0.5).astype(\"int32\")`,   if your model does binary classification   (e.g. if it uses a `sigmoid` last-layer activation).\n",
      "  warnings.warn('`model.predict_classes()` is deprecated and '\n"
     ]
    },
    {
     "name": "stdout",
     "output_type": "stream",
     "text": [
      "945/945 [==============================] - 1s 1ms/step - loss: 0.4453 - accuracy: 0.7896\n",
      "Epoch 2/2\n",
      "945/945 [==============================] - 1s 1ms/step - loss: 0.3090 - accuracy: 0.8270\n",
      "Epoch 1/2\n"
     ]
    },
    {
     "name": "stderr",
     "output_type": "stream",
     "text": [
      "/Users/husni.zuhdi/Documents/Codes/1-Python-Workshop/retention-prediction-demo/retention-prediction/lib/python3.10/site-packages/tensorflow/python/keras/engine/sequential.py:454: UserWarning: `model.predict_classes()` is deprecated and will be removed after 2021-01-01. Please use instead:* `np.argmax(model.predict(x), axis=-1)`,   if your model does multi-class classification   (e.g. if it uses a `softmax` last-layer activation).* `(model.predict(x) > 0.5).astype(\"int32\")`,   if your model does binary classification   (e.g. if it uses a `sigmoid` last-layer activation).\n",
      "  warnings.warn('`model.predict_classes()` is deprecated and '\n"
     ]
    },
    {
     "name": "stdout",
     "output_type": "stream",
     "text": [
      "945/945 [==============================] - 1s 959us/step - loss: 0.4490 - accuracy: 0.8198\n",
      "Epoch 2/2\n",
      "945/945 [==============================] - 1s 967us/step - loss: 0.2694 - accuracy: 0.9008\n",
      "Epoch 1/2\n"
     ]
    },
    {
     "name": "stderr",
     "output_type": "stream",
     "text": [
      "/Users/husni.zuhdi/Documents/Codes/1-Python-Workshop/retention-prediction-demo/retention-prediction/lib/python3.10/site-packages/tensorflow/python/keras/engine/sequential.py:454: UserWarning: `model.predict_classes()` is deprecated and will be removed after 2021-01-01. Please use instead:* `np.argmax(model.predict(x), axis=-1)`,   if your model does multi-class classification   (e.g. if it uses a `softmax` last-layer activation).* `(model.predict(x) > 0.5).astype(\"int32\")`,   if your model does binary classification   (e.g. if it uses a `sigmoid` last-layer activation).\n",
      "  warnings.warn('`model.predict_classes()` is deprecated and '\n"
     ]
    },
    {
     "name": "stdout",
     "output_type": "stream",
     "text": [
      "945/945 [==============================] - 2s 1ms/step - loss: 0.4829 - accuracy: 0.7731\n",
      "Epoch 2/2\n",
      "945/945 [==============================] - 1s 1ms/step - loss: 0.3367 - accuracy: 0.8177\n",
      "Epoch 1/2\n"
     ]
    },
    {
     "name": "stderr",
     "output_type": "stream",
     "text": [
      "/Users/husni.zuhdi/Documents/Codes/1-Python-Workshop/retention-prediction-demo/retention-prediction/lib/python3.10/site-packages/tensorflow/python/keras/engine/sequential.py:454: UserWarning: `model.predict_classes()` is deprecated and will be removed after 2021-01-01. Please use instead:* `np.argmax(model.predict(x), axis=-1)`,   if your model does multi-class classification   (e.g. if it uses a `softmax` last-layer activation).* `(model.predict(x) > 0.5).astype(\"int32\")`,   if your model does binary classification   (e.g. if it uses a `sigmoid` last-layer activation).\n",
      "  warnings.warn('`model.predict_classes()` is deprecated and '\n"
     ]
    },
    {
     "name": "stdout",
     "output_type": "stream",
     "text": [
      "945/945 [==============================] - 2s 1ms/step - loss: 0.4713 - accuracy: 0.7736\n",
      "Epoch 2/2\n",
      "945/945 [==============================] - 1s 1ms/step - loss: 0.3369 - accuracy: 0.8197\n",
      "Epoch 1/2\n"
     ]
    },
    {
     "name": "stderr",
     "output_type": "stream",
     "text": [
      "/Users/husni.zuhdi/Documents/Codes/1-Python-Workshop/retention-prediction-demo/retention-prediction/lib/python3.10/site-packages/tensorflow/python/keras/engine/sequential.py:454: UserWarning: `model.predict_classes()` is deprecated and will be removed after 2021-01-01. Please use instead:* `np.argmax(model.predict(x), axis=-1)`,   if your model does multi-class classification   (e.g. if it uses a `softmax` last-layer activation).* `(model.predict(x) > 0.5).astype(\"int32\")`,   if your model does binary classification   (e.g. if it uses a `sigmoid` last-layer activation).\n",
      "  warnings.warn('`model.predict_classes()` is deprecated and '\n"
     ]
    },
    {
     "name": "stdout",
     "output_type": "stream",
     "text": [
      "945/945 [==============================] - 2s 987us/step - loss: 0.4665 - accuracy: 0.7616\n",
      "Epoch 2/2\n",
      "945/945 [==============================] - 1s 951us/step - loss: 0.3474 - accuracy: 0.8107\n"
     ]
    },
    {
     "name": "stderr",
     "output_type": "stream",
     "text": [
      "/Users/husni.zuhdi/Documents/Codes/1-Python-Workshop/retention-prediction-demo/retention-prediction/lib/python3.10/site-packages/tensorflow/python/keras/engine/sequential.py:454: UserWarning: `model.predict_classes()` is deprecated and will be removed after 2021-01-01. Please use instead:* `np.argmax(model.predict(x), axis=-1)`,   if your model does multi-class classification   (e.g. if it uses a `softmax` last-layer activation).* `(model.predict(x) > 0.5).astype(\"int32\")`,   if your model does binary classification   (e.g. if it uses a `sigmoid` last-layer activation).\n",
      "  warnings.warn('`model.predict_classes()` is deprecated and '\n"
     ]
    },
    {
     "name": "stdout",
     "output_type": "stream",
     "text": [
      "Epoch 1/2\n",
      "945/945 [==============================] - 2s 1ms/step - loss: 0.4752 - accuracy: 0.7772\n",
      "Epoch 2/2\n",
      "945/945 [==============================] - 1s 992us/step - loss: 0.3336 - accuracy: 0.8201\n",
      "Epoch 1/2\n"
     ]
    },
    {
     "name": "stderr",
     "output_type": "stream",
     "text": [
      "/Users/husni.zuhdi/Documents/Codes/1-Python-Workshop/retention-prediction-demo/retention-prediction/lib/python3.10/site-packages/tensorflow/python/keras/engine/sequential.py:454: UserWarning: `model.predict_classes()` is deprecated and will be removed after 2021-01-01. Please use instead:* `np.argmax(model.predict(x), axis=-1)`,   if your model does multi-class classification   (e.g. if it uses a `softmax` last-layer activation).* `(model.predict(x) > 0.5).astype(\"int32\")`,   if your model does binary classification   (e.g. if it uses a `sigmoid` last-layer activation).\n",
      "  warnings.warn('`model.predict_classes()` is deprecated and '\n"
     ]
    },
    {
     "name": "stdout",
     "output_type": "stream",
     "text": [
      "945/945 [==============================] - 1s 942us/step - loss: 0.4786 - accuracy: 0.7806\n",
      "Epoch 2/2\n",
      "945/945 [==============================] - 1s 1ms/step - loss: 0.3296 - accuracy: 0.8150\n",
      "Epoch 1/2\n"
     ]
    },
    {
     "name": "stderr",
     "output_type": "stream",
     "text": [
      "/Users/husni.zuhdi/Documents/Codes/1-Python-Workshop/retention-prediction-demo/retention-prediction/lib/python3.10/site-packages/tensorflow/python/keras/engine/sequential.py:454: UserWarning: `model.predict_classes()` is deprecated and will be removed after 2021-01-01. Please use instead:* `np.argmax(model.predict(x), axis=-1)`,   if your model does multi-class classification   (e.g. if it uses a `softmax` last-layer activation).* `(model.predict(x) > 0.5).astype(\"int32\")`,   if your model does binary classification   (e.g. if it uses a `sigmoid` last-layer activation).\n",
      "  warnings.warn('`model.predict_classes()` is deprecated and '\n"
     ]
    },
    {
     "name": "stdout",
     "output_type": "stream",
     "text": [
      "945/945 [==============================] - 2s 1ms/step - loss: 0.4682 - accuracy: 0.7626\n",
      "Epoch 2/2\n",
      "945/945 [==============================] - 1s 1ms/step - loss: 0.3572 - accuracy: 0.7968\n",
      "Epoch 1/2\n"
     ]
    },
    {
     "name": "stderr",
     "output_type": "stream",
     "text": [
      "/Users/husni.zuhdi/Documents/Codes/1-Python-Workshop/retention-prediction-demo/retention-prediction/lib/python3.10/site-packages/tensorflow/python/keras/engine/sequential.py:454: UserWarning: `model.predict_classes()` is deprecated and will be removed after 2021-01-01. Please use instead:* `np.argmax(model.predict(x), axis=-1)`,   if your model does multi-class classification   (e.g. if it uses a `softmax` last-layer activation).* `(model.predict(x) > 0.5).astype(\"int32\")`,   if your model does binary classification   (e.g. if it uses a `sigmoid` last-layer activation).\n",
      "  warnings.warn('`model.predict_classes()` is deprecated and '\n"
     ]
    },
    {
     "name": "stdout",
     "output_type": "stream",
     "text": [
      "945/945 [==============================] - 1s 956us/step - loss: 0.4552 - accuracy: 0.7856\n",
      "Epoch 2/2\n",
      "945/945 [==============================] - 1s 1ms/step - loss: 0.3187 - accuracy: 0.8226\n",
      "Epoch 1/2\n"
     ]
    },
    {
     "name": "stderr",
     "output_type": "stream",
     "text": [
      "/Users/husni.zuhdi/Documents/Codes/1-Python-Workshop/retention-prediction-demo/retention-prediction/lib/python3.10/site-packages/tensorflow/python/keras/engine/sequential.py:454: UserWarning: `model.predict_classes()` is deprecated and will be removed after 2021-01-01. Please use instead:* `np.argmax(model.predict(x), axis=-1)`,   if your model does multi-class classification   (e.g. if it uses a `softmax` last-layer activation).* `(model.predict(x) > 0.5).astype(\"int32\")`,   if your model does binary classification   (e.g. if it uses a `sigmoid` last-layer activation).\n",
      "  warnings.warn('`model.predict_classes()` is deprecated and '\n"
     ]
    },
    {
     "name": "stdout",
     "output_type": "stream",
     "text": [
      "945/945 [==============================] - 1s 1ms/step - loss: 0.4789 - accuracy: 0.7837\n",
      "Epoch 2/2\n",
      "945/945 [==============================] - 1s 1ms/step - loss: 0.3213 - accuracy: 0.8254\n",
      "Epoch 1/2\n"
     ]
    },
    {
     "name": "stderr",
     "output_type": "stream",
     "text": [
      "/Users/husni.zuhdi/Documents/Codes/1-Python-Workshop/retention-prediction-demo/retention-prediction/lib/python3.10/site-packages/tensorflow/python/keras/engine/sequential.py:454: UserWarning: `model.predict_classes()` is deprecated and will be removed after 2021-01-01. Please use instead:* `np.argmax(model.predict(x), axis=-1)`,   if your model does multi-class classification   (e.g. if it uses a `softmax` last-layer activation).* `(model.predict(x) > 0.5).astype(\"int32\")`,   if your model does binary classification   (e.g. if it uses a `sigmoid` last-layer activation).\n",
      "  warnings.warn('`model.predict_classes()` is deprecated and '\n"
     ]
    },
    {
     "name": "stdout",
     "output_type": "stream",
     "text": [
      "945/945 [==============================] - 1s 1ms/step - loss: 0.4689 - accuracy: 0.7751\n",
      "Epoch 2/2\n",
      "945/945 [==============================] - 1s 962us/step - loss: 0.3268 - accuracy: 0.8519\n",
      "Epoch 1/2\n"
     ]
    },
    {
     "name": "stderr",
     "output_type": "stream",
     "text": [
      "/Users/husni.zuhdi/Documents/Codes/1-Python-Workshop/retention-prediction-demo/retention-prediction/lib/python3.10/site-packages/tensorflow/python/keras/engine/sequential.py:454: UserWarning: `model.predict_classes()` is deprecated and will be removed after 2021-01-01. Please use instead:* `np.argmax(model.predict(x), axis=-1)`,   if your model does multi-class classification   (e.g. if it uses a `softmax` last-layer activation).* `(model.predict(x) > 0.5).astype(\"int32\")`,   if your model does binary classification   (e.g. if it uses a `sigmoid` last-layer activation).\n",
      "  warnings.warn('`model.predict_classes()` is deprecated and '\n"
     ]
    },
    {
     "name": "stdout",
     "output_type": "stream",
     "text": [
      "945/945 [==============================] - 1s 938us/step - loss: 0.4632 - accuracy: 0.7822\n",
      "Epoch 2/2\n",
      "945/945 [==============================] - 1s 944us/step - loss: 0.3252 - accuracy: 0.8192\n",
      "Epoch 1/4\n"
     ]
    },
    {
     "name": "stderr",
     "output_type": "stream",
     "text": [
      "/Users/husni.zuhdi/Documents/Codes/1-Python-Workshop/retention-prediction-demo/retention-prediction/lib/python3.10/site-packages/tensorflow/python/keras/engine/sequential.py:454: UserWarning: `model.predict_classes()` is deprecated and will be removed after 2021-01-01. Please use instead:* `np.argmax(model.predict(x), axis=-1)`,   if your model does multi-class classification   (e.g. if it uses a `softmax` last-layer activation).* `(model.predict(x) > 0.5).astype(\"int32\")`,   if your model does binary classification   (e.g. if it uses a `sigmoid` last-layer activation).\n",
      "  warnings.warn('`model.predict_classes()` is deprecated and '\n"
     ]
    },
    {
     "name": "stdout",
     "output_type": "stream",
     "text": [
      "945/945 [==============================] - 1s 1ms/step - loss: 0.4492 - accuracy: 0.8134\n",
      "Epoch 2/4\n",
      "945/945 [==============================] - 1s 1ms/step - loss: 0.2599 - accuracy: 0.9041\n",
      "Epoch 3/4\n",
      "945/945 [==============================] - 1s 1ms/step - loss: 0.2177 - accuracy: 0.9271\n",
      "Epoch 4/4\n",
      "945/945 [==============================] - 1s 1ms/step - loss: 0.2020 - accuracy: 0.9340\n",
      "Epoch 1/4\n"
     ]
    },
    {
     "name": "stderr",
     "output_type": "stream",
     "text": [
      "/Users/husni.zuhdi/Documents/Codes/1-Python-Workshop/retention-prediction-demo/retention-prediction/lib/python3.10/site-packages/tensorflow/python/keras/engine/sequential.py:454: UserWarning: `model.predict_classes()` is deprecated and will be removed after 2021-01-01. Please use instead:* `np.argmax(model.predict(x), axis=-1)`,   if your model does multi-class classification   (e.g. if it uses a `softmax` last-layer activation).* `(model.predict(x) > 0.5).astype(\"int32\")`,   if your model does binary classification   (e.g. if it uses a `sigmoid` last-layer activation).\n",
      "  warnings.warn('`model.predict_classes()` is deprecated and '\n"
     ]
    },
    {
     "name": "stdout",
     "output_type": "stream",
     "text": [
      "945/945 [==============================] - 1s 1ms/step - loss: 0.4353 - accuracy: 0.8135\n",
      "Epoch 2/4\n",
      "945/945 [==============================] - 1s 1ms/step - loss: 0.2603 - accuracy: 0.9071\n",
      "Epoch 3/4\n",
      "945/945 [==============================] - 1s 1ms/step - loss: 0.2215 - accuracy: 0.9234\n",
      "Epoch 4/4\n",
      "945/945 [==============================] - 1s 1ms/step - loss: 0.2111 - accuracy: 0.9290\n",
      "Epoch 1/4\n"
     ]
    },
    {
     "name": "stderr",
     "output_type": "stream",
     "text": [
      "/Users/husni.zuhdi/Documents/Codes/1-Python-Workshop/retention-prediction-demo/retention-prediction/lib/python3.10/site-packages/tensorflow/python/keras/engine/sequential.py:454: UserWarning: `model.predict_classes()` is deprecated and will be removed after 2021-01-01. Please use instead:* `np.argmax(model.predict(x), axis=-1)`,   if your model does multi-class classification   (e.g. if it uses a `softmax` last-layer activation).* `(model.predict(x) > 0.5).astype(\"int32\")`,   if your model does binary classification   (e.g. if it uses a `sigmoid` last-layer activation).\n",
      "  warnings.warn('`model.predict_classes()` is deprecated and '\n"
     ]
    },
    {
     "name": "stdout",
     "output_type": "stream",
     "text": [
      "945/945 [==============================] - 1s 1ms/step - loss: 0.4474 - accuracy: 0.7935\n",
      "Epoch 2/4\n",
      "945/945 [==============================] - 1s 1ms/step - loss: 0.2972 - accuracy: 0.8306\n",
      "Epoch 3/4\n",
      "945/945 [==============================] - 1s 1ms/step - loss: 0.2636 - accuracy: 0.8873\n",
      "Epoch 4/4\n",
      "945/945 [==============================] - 1s 1ms/step - loss: 0.2461 - accuracy: 0.9203\n"
     ]
    },
    {
     "name": "stderr",
     "output_type": "stream",
     "text": [
      "/Users/husni.zuhdi/Documents/Codes/1-Python-Workshop/retention-prediction-demo/retention-prediction/lib/python3.10/site-packages/tensorflow/python/keras/engine/sequential.py:454: UserWarning: `model.predict_classes()` is deprecated and will be removed after 2021-01-01. Please use instead:* `np.argmax(model.predict(x), axis=-1)`,   if your model does multi-class classification   (e.g. if it uses a `softmax` last-layer activation).* `(model.predict(x) > 0.5).astype(\"int32\")`,   if your model does binary classification   (e.g. if it uses a `sigmoid` last-layer activation).\n",
      "  warnings.warn('`model.predict_classes()` is deprecated and '\n"
     ]
    },
    {
     "name": "stdout",
     "output_type": "stream",
     "text": [
      "Epoch 1/4\n",
      "945/945 [==============================] - 1s 1ms/step - loss: 0.4419 - accuracy: 0.8068\n",
      "Epoch 2/4\n",
      "945/945 [==============================] - 1s 1ms/step - loss: 0.2649 - accuracy: 0.8983\n",
      "Epoch 3/4\n",
      "945/945 [==============================] - 1s 1ms/step - loss: 0.2256 - accuracy: 0.9162\n",
      "Epoch 4/4\n",
      "945/945 [==============================] - 1s 1ms/step - loss: 0.2102 - accuracy: 0.9233\n",
      "Epoch 1/4\n"
     ]
    },
    {
     "name": "stderr",
     "output_type": "stream",
     "text": [
      "/Users/husni.zuhdi/Documents/Codes/1-Python-Workshop/retention-prediction-demo/retention-prediction/lib/python3.10/site-packages/tensorflow/python/keras/engine/sequential.py:454: UserWarning: `model.predict_classes()` is deprecated and will be removed after 2021-01-01. Please use instead:* `np.argmax(model.predict(x), axis=-1)`,   if your model does multi-class classification   (e.g. if it uses a `softmax` last-layer activation).* `(model.predict(x) > 0.5).astype(\"int32\")`,   if your model does binary classification   (e.g. if it uses a `sigmoid` last-layer activation).\n",
      "  warnings.warn('`model.predict_classes()` is deprecated and '\n"
     ]
    },
    {
     "name": "stdout",
     "output_type": "stream",
     "text": [
      "945/945 [==============================] - 1s 1ms/step - loss: 0.4584 - accuracy: 0.7807\n",
      "Epoch 2/4\n",
      "945/945 [==============================] - 1s 1ms/step - loss: 0.3073 - accuracy: 0.8308\n",
      "Epoch 3/4\n",
      "945/945 [==============================] - 1s 976us/step - loss: 0.2744 - accuracy: 0.8816\n",
      "Epoch 4/4\n",
      "945/945 [==============================] - 1s 1ms/step - loss: 0.2530 - accuracy: 0.9096\n",
      "Epoch 1/4\n"
     ]
    },
    {
     "name": "stderr",
     "output_type": "stream",
     "text": [
      "/Users/husni.zuhdi/Documents/Codes/1-Python-Workshop/retention-prediction-demo/retention-prediction/lib/python3.10/site-packages/tensorflow/python/keras/engine/sequential.py:454: UserWarning: `model.predict_classes()` is deprecated and will be removed after 2021-01-01. Please use instead:* `np.argmax(model.predict(x), axis=-1)`,   if your model does multi-class classification   (e.g. if it uses a `softmax` last-layer activation).* `(model.predict(x) > 0.5).astype(\"int32\")`,   if your model does binary classification   (e.g. if it uses a `sigmoid` last-layer activation).\n",
      "  warnings.warn('`model.predict_classes()` is deprecated and '\n"
     ]
    },
    {
     "name": "stdout",
     "output_type": "stream",
     "text": [
      "945/945 [==============================] - 1s 1ms/step - loss: 0.4481 - accuracy: 0.7894\n",
      "Epoch 2/4\n",
      "945/945 [==============================] - 1s 1ms/step - loss: 0.2900 - accuracy: 0.8375\n",
      "Epoch 3/4\n",
      "945/945 [==============================] - 1s 901us/step - loss: 0.2493 - accuracy: 0.8835\n",
      "Epoch 4/4\n",
      "945/945 [==============================] - 1s 874us/step - loss: 0.2323 - accuracy: 0.9348\n"
     ]
    },
    {
     "name": "stderr",
     "output_type": "stream",
     "text": [
      "/Users/husni.zuhdi/Documents/Codes/1-Python-Workshop/retention-prediction-demo/retention-prediction/lib/python3.10/site-packages/tensorflow/python/keras/engine/sequential.py:454: UserWarning: `model.predict_classes()` is deprecated and will be removed after 2021-01-01. Please use instead:* `np.argmax(model.predict(x), axis=-1)`,   if your model does multi-class classification   (e.g. if it uses a `softmax` last-layer activation).* `(model.predict(x) > 0.5).astype(\"int32\")`,   if your model does binary classification   (e.g. if it uses a `sigmoid` last-layer activation).\n",
      "  warnings.warn('`model.predict_classes()` is deprecated and '\n"
     ]
    },
    {
     "name": "stdout",
     "output_type": "stream",
     "text": [
      "Epoch 1/4\n",
      "945/945 [==============================] - 2s 2ms/step - loss: 0.4373 - accuracy: 0.8196\n",
      "Epoch 2/4\n",
      "945/945 [==============================] - 1s 1ms/step - loss: 0.2536 - accuracy: 0.9114\n",
      "Epoch 3/4\n",
      "945/945 [==============================] - 1s 976us/step - loss: 0.2154 - accuracy: 0.9259\n",
      "Epoch 4/4\n",
      "945/945 [==============================] - 1s 967us/step - loss: 0.2002 - accuracy: 0.9309\n"
     ]
    },
    {
     "name": "stderr",
     "output_type": "stream",
     "text": [
      "/Users/husni.zuhdi/Documents/Codes/1-Python-Workshop/retention-prediction-demo/retention-prediction/lib/python3.10/site-packages/tensorflow/python/keras/engine/sequential.py:454: UserWarning: `model.predict_classes()` is deprecated and will be removed after 2021-01-01. Please use instead:* `np.argmax(model.predict(x), axis=-1)`,   if your model does multi-class classification   (e.g. if it uses a `softmax` last-layer activation).* `(model.predict(x) > 0.5).astype(\"int32\")`,   if your model does binary classification   (e.g. if it uses a `sigmoid` last-layer activation).\n",
      "  warnings.warn('`model.predict_classes()` is deprecated and '\n"
     ]
    },
    {
     "name": "stdout",
     "output_type": "stream",
     "text": [
      "Epoch 1/4\n",
      "945/945 [==============================] - 2s 2ms/step - loss: 0.4454 - accuracy: 0.7919\n",
      "Epoch 2/4\n",
      "945/945 [==============================] - 1s 1ms/step - loss: 0.2875 - accuracy: 0.8386\n",
      "Epoch 3/4\n",
      "945/945 [==============================] - 1s 1ms/step - loss: 0.2495 - accuracy: 0.8695\n",
      "Epoch 4/4\n",
      "945/945 [==============================] - 1s 973us/step - loss: 0.2344 - accuracy: 0.9335\n",
      "Epoch 1/4\n"
     ]
    },
    {
     "name": "stderr",
     "output_type": "stream",
     "text": [
      "/Users/husni.zuhdi/Documents/Codes/1-Python-Workshop/retention-prediction-demo/retention-prediction/lib/python3.10/site-packages/tensorflow/python/keras/engine/sequential.py:454: UserWarning: `model.predict_classes()` is deprecated and will be removed after 2021-01-01. Please use instead:* `np.argmax(model.predict(x), axis=-1)`,   if your model does multi-class classification   (e.g. if it uses a `softmax` last-layer activation).* `(model.predict(x) > 0.5).astype(\"int32\")`,   if your model does binary classification   (e.g. if it uses a `sigmoid` last-layer activation).\n",
      "  warnings.warn('`model.predict_classes()` is deprecated and '\n"
     ]
    },
    {
     "name": "stdout",
     "output_type": "stream",
     "text": [
      "945/945 [==============================] - 1s 973us/step - loss: 0.4349 - accuracy: 0.8185\n",
      "Epoch 2/4\n",
      "945/945 [==============================] - 1s 892us/step - loss: 0.2746 - accuracy: 0.9010\n",
      "Epoch 3/4\n",
      "945/945 [==============================] - 1s 1ms/step - loss: 0.2339 - accuracy: 0.9241\n",
      "Epoch 4/4\n",
      "945/945 [==============================] - 1s 875us/step - loss: 0.2150 - accuracy: 0.9310\n",
      "Epoch 1/4\n"
     ]
    },
    {
     "name": "stderr",
     "output_type": "stream",
     "text": [
      "/Users/husni.zuhdi/Documents/Codes/1-Python-Workshop/retention-prediction-demo/retention-prediction/lib/python3.10/site-packages/tensorflow/python/keras/engine/sequential.py:454: UserWarning: `model.predict_classes()` is deprecated and will be removed after 2021-01-01. Please use instead:* `np.argmax(model.predict(x), axis=-1)`,   if your model does multi-class classification   (e.g. if it uses a `softmax` last-layer activation).* `(model.predict(x) > 0.5).astype(\"int32\")`,   if your model does binary classification   (e.g. if it uses a `sigmoid` last-layer activation).\n",
      "  warnings.warn('`model.predict_classes()` is deprecated and '\n"
     ]
    },
    {
     "name": "stdout",
     "output_type": "stream",
     "text": [
      "945/945 [==============================] - 1s 838us/step - loss: 0.4483 - accuracy: 0.8078\n",
      "Epoch 2/4\n",
      "945/945 [==============================] - 1s 873us/step - loss: 0.2714 - accuracy: 0.8974\n",
      "Epoch 3/4\n",
      "945/945 [==============================] - 1s 914us/step - loss: 0.2265 - accuracy: 0.9182\n",
      "Epoch 4/4\n",
      "945/945 [==============================] - 1s 882us/step - loss: 0.2118 - accuracy: 0.9256\n",
      "Epoch 1/4\n"
     ]
    },
    {
     "name": "stderr",
     "output_type": "stream",
     "text": [
      "/Users/husni.zuhdi/Documents/Codes/1-Python-Workshop/retention-prediction-demo/retention-prediction/lib/python3.10/site-packages/tensorflow/python/keras/engine/sequential.py:454: UserWarning: `model.predict_classes()` is deprecated and will be removed after 2021-01-01. Please use instead:* `np.argmax(model.predict(x), axis=-1)`,   if your model does multi-class classification   (e.g. if it uses a `softmax` last-layer activation).* `(model.predict(x) > 0.5).astype(\"int32\")`,   if your model does binary classification   (e.g. if it uses a `sigmoid` last-layer activation).\n",
      "  warnings.warn('`model.predict_classes()` is deprecated and '\n"
     ]
    },
    {
     "name": "stdout",
     "output_type": "stream",
     "text": [
      "945/945 [==============================] - 1s 830us/step - loss: 0.4677 - accuracy: 0.7823\n",
      "Epoch 2/4\n",
      "945/945 [==============================] - 1s 857us/step - loss: 0.3215 - accuracy: 0.8258\n",
      "Epoch 3/4\n",
      "945/945 [==============================] - 1s 868us/step - loss: 0.2816 - accuracy: 0.8602\n",
      "Epoch 4/4\n",
      "945/945 [==============================] - 1s 851us/step - loss: 0.2622 - accuracy: 0.9070\n",
      "Epoch 1/4\n"
     ]
    },
    {
     "name": "stderr",
     "output_type": "stream",
     "text": [
      "/Users/husni.zuhdi/Documents/Codes/1-Python-Workshop/retention-prediction-demo/retention-prediction/lib/python3.10/site-packages/tensorflow/python/keras/engine/sequential.py:454: UserWarning: `model.predict_classes()` is deprecated and will be removed after 2021-01-01. Please use instead:* `np.argmax(model.predict(x), axis=-1)`,   if your model does multi-class classification   (e.g. if it uses a `softmax` last-layer activation).* `(model.predict(x) > 0.5).astype(\"int32\")`,   if your model does binary classification   (e.g. if it uses a `sigmoid` last-layer activation).\n",
      "  warnings.warn('`model.predict_classes()` is deprecated and '\n"
     ]
    },
    {
     "name": "stdout",
     "output_type": "stream",
     "text": [
      "945/945 [==============================] - 1s 825us/step - loss: 0.4755 - accuracy: 0.7893\n",
      "Epoch 2/4\n",
      "945/945 [==============================] - 1s 910us/step - loss: 0.3013 - accuracy: 0.8788\n",
      "Epoch 3/4\n",
      "945/945 [==============================] - 1s 813us/step - loss: 0.2449 - accuracy: 0.9104\n",
      "Epoch 4/4\n",
      "945/945 [==============================] - 1s 825us/step - loss: 0.2192 - accuracy: 0.9227\n",
      "Epoch 1/4\n"
     ]
    },
    {
     "name": "stderr",
     "output_type": "stream",
     "text": [
      "/Users/husni.zuhdi/Documents/Codes/1-Python-Workshop/retention-prediction-demo/retention-prediction/lib/python3.10/site-packages/tensorflow/python/keras/engine/sequential.py:454: UserWarning: `model.predict_classes()` is deprecated and will be removed after 2021-01-01. Please use instead:* `np.argmax(model.predict(x), axis=-1)`,   if your model does multi-class classification   (e.g. if it uses a `softmax` last-layer activation).* `(model.predict(x) > 0.5).astype(\"int32\")`,   if your model does binary classification   (e.g. if it uses a `sigmoid` last-layer activation).\n",
      "  warnings.warn('`model.predict_classes()` is deprecated and '\n"
     ]
    },
    {
     "name": "stdout",
     "output_type": "stream",
     "text": [
      "945/945 [==============================] - 1s 876us/step - loss: 0.4656 - accuracy: 0.7815\n",
      "Epoch 2/4\n",
      "945/945 [==============================] - 1s 804us/step - loss: 0.3161 - accuracy: 0.8223\n",
      "Epoch 3/4\n",
      "945/945 [==============================] - 1s 841us/step - loss: 0.2742 - accuracy: 0.8766\n",
      "Epoch 4/4\n",
      "945/945 [==============================] - 1s 937us/step - loss: 0.2562 - accuracy: 0.9144\n",
      "Epoch 1/4\n"
     ]
    },
    {
     "name": "stderr",
     "output_type": "stream",
     "text": [
      "/Users/husni.zuhdi/Documents/Codes/1-Python-Workshop/retention-prediction-demo/retention-prediction/lib/python3.10/site-packages/tensorflow/python/keras/engine/sequential.py:454: UserWarning: `model.predict_classes()` is deprecated and will be removed after 2021-01-01. Please use instead:* `np.argmax(model.predict(x), axis=-1)`,   if your model does multi-class classification   (e.g. if it uses a `softmax` last-layer activation).* `(model.predict(x) > 0.5).astype(\"int32\")`,   if your model does binary classification   (e.g. if it uses a `sigmoid` last-layer activation).\n",
      "  warnings.warn('`model.predict_classes()` is deprecated and '\n"
     ]
    },
    {
     "name": "stdout",
     "output_type": "stream",
     "text": [
      "945/945 [==============================] - 1s 912us/step - loss: 0.4687 - accuracy: 0.7859\n",
      "Epoch 2/4\n",
      "945/945 [==============================] - 1s 921us/step - loss: 0.3232 - accuracy: 0.8204\n",
      "Epoch 3/4\n",
      "945/945 [==============================] - 1s 880us/step - loss: 0.2806 - accuracy: 0.8451\n",
      "Epoch 4/4\n",
      "945/945 [==============================] - 1s 951us/step - loss: 0.2542 - accuracy: 0.9136\n",
      "Epoch 1/4\n"
     ]
    },
    {
     "name": "stderr",
     "output_type": "stream",
     "text": [
      "/Users/husni.zuhdi/Documents/Codes/1-Python-Workshop/retention-prediction-demo/retention-prediction/lib/python3.10/site-packages/tensorflow/python/keras/engine/sequential.py:454: UserWarning: `model.predict_classes()` is deprecated and will be removed after 2021-01-01. Please use instead:* `np.argmax(model.predict(x), axis=-1)`,   if your model does multi-class classification   (e.g. if it uses a `softmax` last-layer activation).* `(model.predict(x) > 0.5).astype(\"int32\")`,   if your model does binary classification   (e.g. if it uses a `sigmoid` last-layer activation).\n",
      "  warnings.warn('`model.predict_classes()` is deprecated and '\n"
     ]
    },
    {
     "name": "stdout",
     "output_type": "stream",
     "text": [
      "945/945 [==============================] - 1s 1ms/step - loss: 0.4716 - accuracy: 0.7858\n",
      "Epoch 2/4\n",
      "945/945 [==============================] - 1s 948us/step - loss: 0.3281 - accuracy: 0.8224\n",
      "Epoch 3/4\n",
      "945/945 [==============================] - 1s 814us/step - loss: 0.2850 - accuracy: 0.8457\n",
      "Epoch 4/4\n",
      "945/945 [==============================] - 1s 807us/step - loss: 0.2634 - accuracy: 0.8807\n",
      "Epoch 1/4\n"
     ]
    },
    {
     "name": "stderr",
     "output_type": "stream",
     "text": [
      "/Users/husni.zuhdi/Documents/Codes/1-Python-Workshop/retention-prediction-demo/retention-prediction/lib/python3.10/site-packages/tensorflow/python/keras/engine/sequential.py:454: UserWarning: `model.predict_classes()` is deprecated and will be removed after 2021-01-01. Please use instead:* `np.argmax(model.predict(x), axis=-1)`,   if your model does multi-class classification   (e.g. if it uses a `softmax` last-layer activation).* `(model.predict(x) > 0.5).astype(\"int32\")`,   if your model does binary classification   (e.g. if it uses a `sigmoid` last-layer activation).\n",
      "  warnings.warn('`model.predict_classes()` is deprecated and '\n"
     ]
    },
    {
     "name": "stdout",
     "output_type": "stream",
     "text": [
      "945/945 [==============================] - 1s 824us/step - loss: 0.4816 - accuracy: 0.7870\n",
      "Epoch 2/4\n",
      "945/945 [==============================] - 1s 912us/step - loss: 0.3055 - accuracy: 0.8737\n",
      "Epoch 3/4\n",
      "945/945 [==============================] - 1s 835us/step - loss: 0.2502 - accuracy: 0.9025\n",
      "Epoch 4/4\n",
      "945/945 [==============================] - 1s 948us/step - loss: 0.2330 - accuracy: 0.9133\n",
      "Epoch 1/4\n"
     ]
    },
    {
     "name": "stderr",
     "output_type": "stream",
     "text": [
      "/Users/husni.zuhdi/Documents/Codes/1-Python-Workshop/retention-prediction-demo/retention-prediction/lib/python3.10/site-packages/tensorflow/python/keras/engine/sequential.py:454: UserWarning: `model.predict_classes()` is deprecated and will be removed after 2021-01-01. Please use instead:* `np.argmax(model.predict(x), axis=-1)`,   if your model does multi-class classification   (e.g. if it uses a `softmax` last-layer activation).* `(model.predict(x) > 0.5).astype(\"int32\")`,   if your model does binary classification   (e.g. if it uses a `sigmoid` last-layer activation).\n",
      "  warnings.warn('`model.predict_classes()` is deprecated and '\n"
     ]
    },
    {
     "name": "stdout",
     "output_type": "stream",
     "text": [
      "945/945 [==============================] - 1s 818us/step - loss: 0.4720 - accuracy: 0.7815\n",
      "Epoch 2/4\n",
      "945/945 [==============================] - 1s 830us/step - loss: 0.3250 - accuracy: 0.8268\n",
      "Epoch 3/4\n",
      "945/945 [==============================] - 1s 812us/step - loss: 0.2820 - accuracy: 0.8389\n",
      "Epoch 4/4\n",
      "945/945 [==============================] - 1s 1ms/step - loss: 0.2582 - accuracy: 0.9075\n",
      "Epoch 1/4\n"
     ]
    },
    {
     "name": "stderr",
     "output_type": "stream",
     "text": [
      "/Users/husni.zuhdi/Documents/Codes/1-Python-Workshop/retention-prediction-demo/retention-prediction/lib/python3.10/site-packages/tensorflow/python/keras/engine/sequential.py:454: UserWarning: `model.predict_classes()` is deprecated and will be removed after 2021-01-01. Please use instead:* `np.argmax(model.predict(x), axis=-1)`,   if your model does multi-class classification   (e.g. if it uses a `softmax` last-layer activation).* `(model.predict(x) > 0.5).astype(\"int32\")`,   if your model does binary classification   (e.g. if it uses a `sigmoid` last-layer activation).\n",
      "  warnings.warn('`model.predict_classes()` is deprecated and '\n"
     ]
    },
    {
     "name": "stdout",
     "output_type": "stream",
     "text": [
      "945/945 [==============================] - 1s 954us/step - loss: 0.4669 - accuracy: 0.7844\n",
      "Epoch 2/4\n",
      "945/945 [==============================] - 1s 852us/step - loss: 0.3265 - accuracy: 0.8262\n",
      "Epoch 3/4\n",
      "945/945 [==============================] - 1s 942us/step - loss: 0.2877 - accuracy: 0.8346\n",
      "Epoch 4/4\n",
      "945/945 [==============================] - 1s 1ms/step - loss: 0.2676 - accuracy: 0.8928\n"
     ]
    },
    {
     "name": "stderr",
     "output_type": "stream",
     "text": [
      "/Users/husni.zuhdi/Documents/Codes/1-Python-Workshop/retention-prediction-demo/retention-prediction/lib/python3.10/site-packages/tensorflow/python/keras/engine/sequential.py:454: UserWarning: `model.predict_classes()` is deprecated and will be removed after 2021-01-01. Please use instead:* `np.argmax(model.predict(x), axis=-1)`,   if your model does multi-class classification   (e.g. if it uses a `softmax` last-layer activation).* `(model.predict(x) > 0.5).astype(\"int32\")`,   if your model does binary classification   (e.g. if it uses a `sigmoid` last-layer activation).\n",
      "  warnings.warn('`model.predict_classes()` is deprecated and '\n"
     ]
    },
    {
     "name": "stdout",
     "output_type": "stream",
     "text": [
      "Epoch 1/4\n",
      "945/945 [==============================] - 2s 1ms/step - loss: 0.4771 - accuracy: 0.7915\n",
      "Epoch 2/4\n",
      "945/945 [==============================] - 1s 1ms/step - loss: 0.3046 - accuracy: 0.8798\n",
      "Epoch 3/4\n",
      "945/945 [==============================] - 1s 811us/step - loss: 0.2424 - accuracy: 0.9094\n",
      "Epoch 4/4\n",
      "945/945 [==============================] - 1s 813us/step - loss: 0.2191 - accuracy: 0.9207\n",
      "Epoch 1/4\n"
     ]
    },
    {
     "name": "stderr",
     "output_type": "stream",
     "text": [
      "/Users/husni.zuhdi/Documents/Codes/1-Python-Workshop/retention-prediction-demo/retention-prediction/lib/python3.10/site-packages/tensorflow/python/keras/engine/sequential.py:454: UserWarning: `model.predict_classes()` is deprecated and will be removed after 2021-01-01. Please use instead:* `np.argmax(model.predict(x), axis=-1)`,   if your model does multi-class classification   (e.g. if it uses a `softmax` last-layer activation).* `(model.predict(x) > 0.5).astype(\"int32\")`,   if your model does binary classification   (e.g. if it uses a `sigmoid` last-layer activation).\n",
      "  warnings.warn('`model.predict_classes()` is deprecated and '\n"
     ]
    },
    {
     "name": "stdout",
     "output_type": "stream",
     "text": [
      "945/945 [==============================] - 1s 829us/step - loss: 0.4759 - accuracy: 0.7641\n",
      "Epoch 2/4\n",
      "945/945 [==============================] - 1s 835us/step - loss: 0.3608 - accuracy: 0.7914\n",
      "Epoch 3/4\n",
      "945/945 [==============================] - 1s 927us/step - loss: 0.3260 - accuracy: 0.8673\n",
      "Epoch 4/4\n",
      "945/945 [==============================] - 1s 986us/step - loss: 0.3046 - accuracy: 0.8850\n",
      "Epoch 1/6\n"
     ]
    },
    {
     "name": "stderr",
     "output_type": "stream",
     "text": [
      "/Users/husni.zuhdi/Documents/Codes/1-Python-Workshop/retention-prediction-demo/retention-prediction/lib/python3.10/site-packages/tensorflow/python/keras/engine/sequential.py:454: UserWarning: `model.predict_classes()` is deprecated and will be removed after 2021-01-01. Please use instead:* `np.argmax(model.predict(x), axis=-1)`,   if your model does multi-class classification   (e.g. if it uses a `softmax` last-layer activation).* `(model.predict(x) > 0.5).astype(\"int32\")`,   if your model does binary classification   (e.g. if it uses a `sigmoid` last-layer activation).\n",
      "  warnings.warn('`model.predict_classes()` is deprecated and '\n"
     ]
    },
    {
     "name": "stdout",
     "output_type": "stream",
     "text": [
      "945/945 [==============================] - 1s 913us/step - loss: 0.4546 - accuracy: 0.7643\n",
      "Epoch 2/6\n",
      "945/945 [==============================] - 1s 980us/step - loss: 0.3401 - accuracy: 0.8134\n",
      "Epoch 3/6\n",
      "945/945 [==============================] - 1s 894us/step - loss: 0.2999 - accuracy: 0.8849\n",
      "Epoch 4/6\n",
      "945/945 [==============================] - 1s 901us/step - loss: 0.2773 - accuracy: 0.9085\n",
      "Epoch 5/6\n",
      "945/945 [==============================] - 1s 878us/step - loss: 0.2643 - accuracy: 0.9131\n",
      "Epoch 6/6\n",
      "945/945 [==============================] - 1s 971us/step - loss: 0.2520 - accuracy: 0.9172\n",
      "Epoch 1/6\n"
     ]
    },
    {
     "name": "stderr",
     "output_type": "stream",
     "text": [
      "/Users/husni.zuhdi/Documents/Codes/1-Python-Workshop/retention-prediction-demo/retention-prediction/lib/python3.10/site-packages/tensorflow/python/keras/engine/sequential.py:454: UserWarning: `model.predict_classes()` is deprecated and will be removed after 2021-01-01. Please use instead:* `np.argmax(model.predict(x), axis=-1)`,   if your model does multi-class classification   (e.g. if it uses a `softmax` last-layer activation).* `(model.predict(x) > 0.5).astype(\"int32\")`,   if your model does binary classification   (e.g. if it uses a `sigmoid` last-layer activation).\n",
      "  warnings.warn('`model.predict_classes()` is deprecated and '\n"
     ]
    },
    {
     "name": "stdout",
     "output_type": "stream",
     "text": [
      "945/945 [==============================] - 1s 987us/step - loss: 0.4440 - accuracy: 0.8164\n",
      "Epoch 2/6\n",
      "945/945 [==============================] - 1s 906us/step - loss: 0.2695 - accuracy: 0.8984\n",
      "Epoch 3/6\n",
      "945/945 [==============================] - 1s 883us/step - loss: 0.2285 - accuracy: 0.9182\n",
      "Epoch 4/6\n",
      "945/945 [==============================] - 1s 898us/step - loss: 0.2137 - accuracy: 0.9250\n",
      "Epoch 5/6\n",
      "945/945 [==============================] - 1s 872us/step - loss: 0.2037 - accuracy: 0.9294\n",
      "Epoch 6/6\n",
      "945/945 [==============================] - 1s 881us/step - loss: 0.1997 - accuracy: 0.9337\n",
      "Epoch 1/6\n"
     ]
    },
    {
     "name": "stderr",
     "output_type": "stream",
     "text": [
      "/Users/husni.zuhdi/Documents/Codes/1-Python-Workshop/retention-prediction-demo/retention-prediction/lib/python3.10/site-packages/tensorflow/python/keras/engine/sequential.py:454: UserWarning: `model.predict_classes()` is deprecated and will be removed after 2021-01-01. Please use instead:* `np.argmax(model.predict(x), axis=-1)`,   if your model does multi-class classification   (e.g. if it uses a `softmax` last-layer activation).* `(model.predict(x) > 0.5).astype(\"int32\")`,   if your model does binary classification   (e.g. if it uses a `sigmoid` last-layer activation).\n",
      "  warnings.warn('`model.predict_classes()` is deprecated and '\n"
     ]
    },
    {
     "name": "stdout",
     "output_type": "stream",
     "text": [
      "945/945 [==============================] - 1s 1ms/step - loss: 0.4438 - accuracy: 0.8090\n",
      "Epoch 2/6\n",
      "945/945 [==============================] - 1s 910us/step - loss: 0.2772 - accuracy: 0.8936\n",
      "Epoch 3/6\n",
      "945/945 [==============================] - 1s 881us/step - loss: 0.2333 - accuracy: 0.9165\n",
      "Epoch 4/6\n",
      "945/945 [==============================] - 1s 1ms/step - loss: 0.2166 - accuracy: 0.9236\n",
      "Epoch 5/6\n",
      "945/945 [==============================] - 1s 959us/step - loss: 0.2052 - accuracy: 0.9305\n",
      "Epoch 6/6\n",
      "945/945 [==============================] - 1s 961us/step - loss: 0.2018 - accuracy: 0.9304\n",
      "Epoch 1/6\n"
     ]
    },
    {
     "name": "stderr",
     "output_type": "stream",
     "text": [
      "/Users/husni.zuhdi/Documents/Codes/1-Python-Workshop/retention-prediction-demo/retention-prediction/lib/python3.10/site-packages/tensorflow/python/keras/engine/sequential.py:454: UserWarning: `model.predict_classes()` is deprecated and will be removed after 2021-01-01. Please use instead:* `np.argmax(model.predict(x), axis=-1)`,   if your model does multi-class classification   (e.g. if it uses a `softmax` last-layer activation).* `(model.predict(x) > 0.5).astype(\"int32\")`,   if your model does binary classification   (e.g. if it uses a `sigmoid` last-layer activation).\n",
      "  warnings.warn('`model.predict_classes()` is deprecated and '\n"
     ]
    },
    {
     "name": "stdout",
     "output_type": "stream",
     "text": [
      "945/945 [==============================] - 1s 880us/step - loss: 0.4483 - accuracy: 0.7903\n",
      "Epoch 2/6\n",
      "945/945 [==============================] - 1s 876us/step - loss: 0.2973 - accuracy: 0.8363\n",
      "Epoch 3/6\n",
      "945/945 [==============================] - 1s 869us/step - loss: 0.2571 - accuracy: 0.8607\n",
      "Epoch 4/6\n",
      "945/945 [==============================] - 1s 880us/step - loss: 0.2346 - accuracy: 0.9311\n",
      "Epoch 5/6\n",
      "945/945 [==============================] - 1s 911us/step - loss: 0.2223 - accuracy: 0.9399\n",
      "Epoch 6/6\n",
      "945/945 [==============================] - 1s 952us/step - loss: 0.2174 - accuracy: 0.9385\n",
      "Epoch 1/6\n"
     ]
    },
    {
     "name": "stderr",
     "output_type": "stream",
     "text": [
      "/Users/husni.zuhdi/Documents/Codes/1-Python-Workshop/retention-prediction-demo/retention-prediction/lib/python3.10/site-packages/tensorflow/python/keras/engine/sequential.py:454: UserWarning: `model.predict_classes()` is deprecated and will be removed after 2021-01-01. Please use instead:* `np.argmax(model.predict(x), axis=-1)`,   if your model does multi-class classification   (e.g. if it uses a `softmax` last-layer activation).* `(model.predict(x) > 0.5).astype(\"int32\")`,   if your model does binary classification   (e.g. if it uses a `sigmoid` last-layer activation).\n",
      "  warnings.warn('`model.predict_classes()` is deprecated and '\n"
     ]
    },
    {
     "name": "stdout",
     "output_type": "stream",
     "text": [
      "945/945 [==============================] - 1s 904us/step - loss: 0.4501 - accuracy: 0.7879\n",
      "Epoch 2/6\n",
      "945/945 [==============================] - 1s 929us/step - loss: 0.2942 - accuracy: 0.8317\n",
      "Epoch 3/6\n",
      "945/945 [==============================] - 1s 1ms/step - loss: 0.2549 - accuracy: 0.8854\n",
      "Epoch 4/6\n",
      "945/945 [==============================] - 1s 1ms/step - loss: 0.2386 - accuracy: 0.9249\n",
      "Epoch 5/6\n",
      "945/945 [==============================] - 1s 1ms/step - loss: 0.2297 - accuracy: 0.9271\n",
      "Epoch 6/6\n",
      "945/945 [==============================] - 1s 1ms/step - loss: 0.2238 - accuracy: 0.9298\n",
      "Epoch 1/6\n"
     ]
    },
    {
     "name": "stderr",
     "output_type": "stream",
     "text": [
      "/Users/husni.zuhdi/Documents/Codes/1-Python-Workshop/retention-prediction-demo/retention-prediction/lib/python3.10/site-packages/tensorflow/python/keras/engine/sequential.py:454: UserWarning: `model.predict_classes()` is deprecated and will be removed after 2021-01-01. Please use instead:* `np.argmax(model.predict(x), axis=-1)`,   if your model does multi-class classification   (e.g. if it uses a `softmax` last-layer activation).* `(model.predict(x) > 0.5).astype(\"int32\")`,   if your model does binary classification   (e.g. if it uses a `sigmoid` last-layer activation).\n",
      "  warnings.warn('`model.predict_classes()` is deprecated and '\n"
     ]
    },
    {
     "name": "stdout",
     "output_type": "stream",
     "text": [
      "945/945 [==============================] - 1s 940us/step - loss: 0.4554 - accuracy: 0.7620\n",
      "Epoch 2/6\n",
      "945/945 [==============================] - 1s 972us/step - loss: 0.3396 - accuracy: 0.8062\n",
      "Epoch 3/6\n",
      "945/945 [==============================] - 1s 1ms/step - loss: 0.2985 - accuracy: 0.8888\n",
      "Epoch 4/6\n",
      "945/945 [==============================] - 1s 1ms/step - loss: 0.2756 - accuracy: 0.9106\n",
      "Epoch 5/6\n",
      "945/945 [==============================] - 1s 1ms/step - loss: 0.2581 - accuracy: 0.9182\n",
      "Epoch 6/6\n",
      "945/945 [==============================] - 1s 999us/step - loss: 0.2518 - accuracy: 0.9196\n",
      "Epoch 1/6\n"
     ]
    },
    {
     "name": "stderr",
     "output_type": "stream",
     "text": [
      "/Users/husni.zuhdi/Documents/Codes/1-Python-Workshop/retention-prediction-demo/retention-prediction/lib/python3.10/site-packages/tensorflow/python/keras/engine/sequential.py:454: UserWarning: `model.predict_classes()` is deprecated and will be removed after 2021-01-01. Please use instead:* `np.argmax(model.predict(x), axis=-1)`,   if your model does multi-class classification   (e.g. if it uses a `softmax` last-layer activation).* `(model.predict(x) > 0.5).astype(\"int32\")`,   if your model does binary classification   (e.g. if it uses a `sigmoid` last-layer activation).\n",
      "  warnings.warn('`model.predict_classes()` is deprecated and '\n"
     ]
    },
    {
     "name": "stdout",
     "output_type": "stream",
     "text": [
      "945/945 [==============================] - 1s 1ms/step - loss: 0.4438 - accuracy: 0.7896\n",
      "Epoch 2/6\n",
      "945/945 [==============================] - 1s 1ms/step - loss: 0.3030 - accuracy: 0.8319\n",
      "Epoch 3/6\n",
      "945/945 [==============================] - 1s 1ms/step - loss: 0.2670 - accuracy: 0.8802\n",
      "Epoch 4/6\n",
      "945/945 [==============================] - 1s 1ms/step - loss: 0.2480 - accuracy: 0.9155\n",
      "Epoch 5/6\n",
      "945/945 [==============================] - 1s 1ms/step - loss: 0.2363 - accuracy: 0.9253\n",
      "Epoch 6/6\n",
      "945/945 [==============================] - 1s 1ms/step - loss: 0.2284 - accuracy: 0.9295\n",
      "Epoch 1/6\n"
     ]
    },
    {
     "name": "stderr",
     "output_type": "stream",
     "text": [
      "/Users/husni.zuhdi/Documents/Codes/1-Python-Workshop/retention-prediction-demo/retention-prediction/lib/python3.10/site-packages/tensorflow/python/keras/engine/sequential.py:454: UserWarning: `model.predict_classes()` is deprecated and will be removed after 2021-01-01. Please use instead:* `np.argmax(model.predict(x), axis=-1)`,   if your model does multi-class classification   (e.g. if it uses a `softmax` last-layer activation).* `(model.predict(x) > 0.5).astype(\"int32\")`,   if your model does binary classification   (e.g. if it uses a `sigmoid` last-layer activation).\n",
      "  warnings.warn('`model.predict_classes()` is deprecated and '\n"
     ]
    },
    {
     "name": "stdout",
     "output_type": "stream",
     "text": [
      "945/945 [==============================] - 1s 1ms/step - loss: 0.4418 - accuracy: 0.7891\n",
      "Epoch 2/6\n",
      "945/945 [==============================] - 1s 1ms/step - loss: 0.3007 - accuracy: 0.8307\n",
      "Epoch 3/6\n",
      "945/945 [==============================] - 1s 1ms/step - loss: 0.2642 - accuracy: 0.8761\n",
      "Epoch 4/6\n",
      "945/945 [==============================] - 1s 1ms/step - loss: 0.2415 - accuracy: 0.9234\n",
      "Epoch 5/6\n",
      "945/945 [==============================] - 1s 1ms/step - loss: 0.2313 - accuracy: 0.9324\n",
      "Epoch 6/6\n",
      "945/945 [==============================] - 1s 1ms/step - loss: 0.2273 - accuracy: 0.9309\n",
      "Epoch 1/6\n"
     ]
    },
    {
     "name": "stderr",
     "output_type": "stream",
     "text": [
      "/Users/husni.zuhdi/Documents/Codes/1-Python-Workshop/retention-prediction-demo/retention-prediction/lib/python3.10/site-packages/tensorflow/python/keras/engine/sequential.py:454: UserWarning: `model.predict_classes()` is deprecated and will be removed after 2021-01-01. Please use instead:* `np.argmax(model.predict(x), axis=-1)`,   if your model does multi-class classification   (e.g. if it uses a `softmax` last-layer activation).* `(model.predict(x) > 0.5).astype(\"int32\")`,   if your model does binary classification   (e.g. if it uses a `sigmoid` last-layer activation).\n",
      "  warnings.warn('`model.predict_classes()` is deprecated and '\n"
     ]
    },
    {
     "name": "stdout",
     "output_type": "stream",
     "text": [
      "945/945 [==============================] - 1s 1ms/step - loss: 0.4493 - accuracy: 0.8077\n",
      "Epoch 2/6\n",
      "945/945 [==============================] - 1s 1ms/step - loss: 0.2620 - accuracy: 0.9050\n",
      "Epoch 3/6\n",
      "945/945 [==============================] - 1s 1ms/step - loss: 0.2197 - accuracy: 0.9227\n",
      "Epoch 4/6\n",
      "945/945 [==============================] - 1s 1ms/step - loss: 0.2088 - accuracy: 0.9237\n",
      "Epoch 5/6\n",
      "945/945 [==============================] - 1s 943us/step - loss: 0.2011 - accuracy: 0.9287\n",
      "Epoch 6/6\n",
      "945/945 [==============================] - 1s 1ms/step - loss: 0.1957 - accuracy: 0.9299\n",
      "Epoch 1/6\n"
     ]
    },
    {
     "name": "stderr",
     "output_type": "stream",
     "text": [
      "/Users/husni.zuhdi/Documents/Codes/1-Python-Workshop/retention-prediction-demo/retention-prediction/lib/python3.10/site-packages/tensorflow/python/keras/engine/sequential.py:454: UserWarning: `model.predict_classes()` is deprecated and will be removed after 2021-01-01. Please use instead:* `np.argmax(model.predict(x), axis=-1)`,   if your model does multi-class classification   (e.g. if it uses a `softmax` last-layer activation).* `(model.predict(x) > 0.5).astype(\"int32\")`,   if your model does binary classification   (e.g. if it uses a `sigmoid` last-layer activation).\n",
      "  warnings.warn('`model.predict_classes()` is deprecated and '\n"
     ]
    },
    {
     "name": "stdout",
     "output_type": "stream",
     "text": [
      "945/945 [==============================] - 1s 983us/step - loss: 0.4398 - accuracy: 0.7937\n",
      "Epoch 2/6\n",
      "945/945 [==============================] - 1s 858us/step - loss: 0.2976 - accuracy: 0.8371\n",
      "Epoch 3/6\n",
      "945/945 [==============================] - 1s 905us/step - loss: 0.2612 - accuracy: 0.8515\n",
      "Epoch 4/6\n",
      "945/945 [==============================] - 1s 970us/step - loss: 0.2404 - accuracy: 0.9169\n",
      "Epoch 5/6\n",
      "945/945 [==============================] - 1s 991us/step - loss: 0.2292 - accuracy: 0.9326\n",
      "Epoch 6/6\n",
      "945/945 [==============================] - 1s 973us/step - loss: 0.2208 - accuracy: 0.9323\n",
      "Epoch 1/6\n"
     ]
    },
    {
     "name": "stderr",
     "output_type": "stream",
     "text": [
      "/Users/husni.zuhdi/Documents/Codes/1-Python-Workshop/retention-prediction-demo/retention-prediction/lib/python3.10/site-packages/tensorflow/python/keras/engine/sequential.py:454: UserWarning: `model.predict_classes()` is deprecated and will be removed after 2021-01-01. Please use instead:* `np.argmax(model.predict(x), axis=-1)`,   if your model does multi-class classification   (e.g. if it uses a `softmax` last-layer activation).* `(model.predict(x) > 0.5).astype(\"int32\")`,   if your model does binary classification   (e.g. if it uses a `sigmoid` last-layer activation).\n",
      "  warnings.warn('`model.predict_classes()` is deprecated and '\n"
     ]
    },
    {
     "name": "stdout",
     "output_type": "stream",
     "text": [
      "945/945 [==============================] - 1s 894us/step - loss: 0.4854 - accuracy: 0.7779\n",
      "Epoch 2/6\n",
      "945/945 [==============================] - 1s 884us/step - loss: 0.3325 - accuracy: 0.8551\n",
      "Epoch 3/6\n",
      "945/945 [==============================] - 1s 877us/step - loss: 0.2829 - accuracy: 0.8665\n",
      "Epoch 4/6\n",
      "945/945 [==============================] - 1s 873us/step - loss: 0.2564 - accuracy: 0.8764\n",
      "Epoch 5/6\n",
      "945/945 [==============================] - 1s 920us/step - loss: 0.2443 - accuracy: 0.8876\n",
      "Epoch 6/6\n",
      "945/945 [==============================] - 1s 1ms/step - loss: 0.2342 - accuracy: 0.9130\n",
      "Epoch 1/6\n"
     ]
    },
    {
     "name": "stderr",
     "output_type": "stream",
     "text": [
      "/Users/husni.zuhdi/Documents/Codes/1-Python-Workshop/retention-prediction-demo/retention-prediction/lib/python3.10/site-packages/tensorflow/python/keras/engine/sequential.py:454: UserWarning: `model.predict_classes()` is deprecated and will be removed after 2021-01-01. Please use instead:* `np.argmax(model.predict(x), axis=-1)`,   if your model does multi-class classification   (e.g. if it uses a `softmax` last-layer activation).* `(model.predict(x) > 0.5).astype(\"int32\")`,   if your model does binary classification   (e.g. if it uses a `sigmoid` last-layer activation).\n",
      "  warnings.warn('`model.predict_classes()` is deprecated and '\n"
     ]
    },
    {
     "name": "stdout",
     "output_type": "stream",
     "text": [
      "945/945 [==============================] - 1s 883us/step - loss: 0.4753 - accuracy: 0.7848\n",
      "Epoch 2/6\n",
      "945/945 [==============================] - 1s 880us/step - loss: 0.3372 - accuracy: 0.8250\n",
      "Epoch 3/6\n",
      "945/945 [==============================] - 1s 874us/step - loss: 0.3020 - accuracy: 0.8327\n",
      "Epoch 4/6\n",
      "945/945 [==============================] - 1s 946us/step - loss: 0.2765 - accuracy: 0.8665\n",
      "Epoch 5/6\n",
      "945/945 [==============================] - 1s 897us/step - loss: 0.2574 - accuracy: 0.9134\n",
      "Epoch 6/6\n",
      "945/945 [==============================] - 1s 952us/step - loss: 0.2443 - accuracy: 0.9219\n",
      "Epoch 1/6\n"
     ]
    },
    {
     "name": "stderr",
     "output_type": "stream",
     "text": [
      "/Users/husni.zuhdi/Documents/Codes/1-Python-Workshop/retention-prediction-demo/retention-prediction/lib/python3.10/site-packages/tensorflow/python/keras/engine/sequential.py:454: UserWarning: `model.predict_classes()` is deprecated and will be removed after 2021-01-01. Please use instead:* `np.argmax(model.predict(x), axis=-1)`,   if your model does multi-class classification   (e.g. if it uses a `softmax` last-layer activation).* `(model.predict(x) > 0.5).astype(\"int32\")`,   if your model does binary classification   (e.g. if it uses a `sigmoid` last-layer activation).\n",
      "  warnings.warn('`model.predict_classes()` is deprecated and '\n"
     ]
    },
    {
     "name": "stdout",
     "output_type": "stream",
     "text": [
      "945/945 [==============================] - 1s 896us/step - loss: 0.4647 - accuracy: 0.7855\n",
      "Epoch 2/6\n",
      "945/945 [==============================] - 1s 864us/step - loss: 0.3324 - accuracy: 0.8243\n",
      "Epoch 3/6\n",
      "945/945 [==============================] - 1s 973us/step - loss: 0.3007 - accuracy: 0.8331\n",
      "Epoch 4/6\n",
      "945/945 [==============================] - 1s 945us/step - loss: 0.2787 - accuracy: 0.8663\n",
      "Epoch 5/6\n",
      "945/945 [==============================] - 1s 981us/step - loss: 0.2634 - accuracy: 0.9074\n",
      "Epoch 6/6\n",
      "945/945 [==============================] - 1s 972us/step - loss: 0.2556 - accuracy: 0.9153\n"
     ]
    },
    {
     "name": "stderr",
     "output_type": "stream",
     "text": [
      "/Users/husni.zuhdi/Documents/Codes/1-Python-Workshop/retention-prediction-demo/retention-prediction/lib/python3.10/site-packages/tensorflow/python/keras/engine/sequential.py:454: UserWarning: `model.predict_classes()` is deprecated and will be removed after 2021-01-01. Please use instead:* `np.argmax(model.predict(x), axis=-1)`,   if your model does multi-class classification   (e.g. if it uses a `softmax` last-layer activation).* `(model.predict(x) > 0.5).astype(\"int32\")`,   if your model does binary classification   (e.g. if it uses a `sigmoid` last-layer activation).\n",
      "  warnings.warn('`model.predict_classes()` is deprecated and '\n"
     ]
    },
    {
     "name": "stdout",
     "output_type": "stream",
     "text": [
      "Epoch 1/6\n",
      "945/945 [==============================] - 1s 950us/step - loss: 0.4665 - accuracy: 0.7932\n",
      "Epoch 2/6\n",
      "945/945 [==============================] - 1s 890us/step - loss: 0.2993 - accuracy: 0.8805\n",
      "Epoch 3/6\n",
      "945/945 [==============================] - 1s 835us/step - loss: 0.2410 - accuracy: 0.9121\n",
      "Epoch 4/6\n",
      "945/945 [==============================] - 1s 960us/step - loss: 0.2256 - accuracy: 0.9145\n",
      "Epoch 5/6\n",
      "945/945 [==============================] - 1s 850us/step - loss: 0.2152 - accuracy: 0.9253\n",
      "Epoch 6/6\n",
      "945/945 [==============================] - 1s 985us/step - loss: 0.2103 - accuracy: 0.9263\n"
     ]
    },
    {
     "name": "stderr",
     "output_type": "stream",
     "text": [
      "/Users/husni.zuhdi/Documents/Codes/1-Python-Workshop/retention-prediction-demo/retention-prediction/lib/python3.10/site-packages/tensorflow/python/keras/engine/sequential.py:454: UserWarning: `model.predict_classes()` is deprecated and will be removed after 2021-01-01. Please use instead:* `np.argmax(model.predict(x), axis=-1)`,   if your model does multi-class classification   (e.g. if it uses a `softmax` last-layer activation).* `(model.predict(x) > 0.5).astype(\"int32\")`,   if your model does binary classification   (e.g. if it uses a `sigmoid` last-layer activation).\n",
      "  warnings.warn('`model.predict_classes()` is deprecated and '\n"
     ]
    },
    {
     "name": "stdout",
     "output_type": "stream",
     "text": [
      "Epoch 1/6\n",
      "945/945 [==============================] - 2s 1ms/step - loss: 0.4605 - accuracy: 0.7870\n",
      "Epoch 2/6\n",
      "945/945 [==============================] - 1s 1ms/step - loss: 0.3053 - accuracy: 0.8312\n",
      "Epoch 3/6\n",
      "945/945 [==============================] - 1s 1ms/step - loss: 0.2690 - accuracy: 0.8616\n",
      "Epoch 4/6\n",
      "945/945 [==============================] - 1s 986us/step - loss: 0.2453 - accuracy: 0.9188\n",
      "Epoch 5/6\n",
      "945/945 [==============================] - 1s 1ms/step - loss: 0.2361 - accuracy: 0.9311\n",
      "Epoch 6/6\n",
      "945/945 [==============================] - 1s 1ms/step - loss: 0.2252 - accuracy: 0.9339\n",
      "Epoch 1/6\n"
     ]
    },
    {
     "name": "stderr",
     "output_type": "stream",
     "text": [
      "/Users/husni.zuhdi/Documents/Codes/1-Python-Workshop/retention-prediction-demo/retention-prediction/lib/python3.10/site-packages/tensorflow/python/keras/engine/sequential.py:454: UserWarning: `model.predict_classes()` is deprecated and will be removed after 2021-01-01. Please use instead:* `np.argmax(model.predict(x), axis=-1)`,   if your model does multi-class classification   (e.g. if it uses a `softmax` last-layer activation).* `(model.predict(x) > 0.5).astype(\"int32\")`,   if your model does binary classification   (e.g. if it uses a `sigmoid` last-layer activation).\n",
      "  warnings.warn('`model.predict_classes()` is deprecated and '\n"
     ]
    },
    {
     "name": "stdout",
     "output_type": "stream",
     "text": [
      "945/945 [==============================] - 1s 1ms/step - loss: 0.4766 - accuracy: 0.7986\n",
      "Epoch 2/6\n",
      "945/945 [==============================] - 1s 1ms/step - loss: 0.2945 - accuracy: 0.8824\n",
      "Epoch 3/6\n",
      "945/945 [==============================] - 1s 1ms/step - loss: 0.2400 - accuracy: 0.9113\n",
      "Epoch 4/6\n",
      "945/945 [==============================] - 1s 1ms/step - loss: 0.2196 - accuracy: 0.9223\n",
      "Epoch 5/6\n",
      "945/945 [==============================] - 1s 985us/step - loss: 0.2100 - accuracy: 0.9251\n",
      "Epoch 6/6\n",
      "945/945 [==============================] - 1s 979us/step - loss: 0.2088 - accuracy: 0.9281\n",
      "Epoch 1/6\n"
     ]
    },
    {
     "name": "stderr",
     "output_type": "stream",
     "text": [
      "/Users/husni.zuhdi/Documents/Codes/1-Python-Workshop/retention-prediction-demo/retention-prediction/lib/python3.10/site-packages/tensorflow/python/keras/engine/sequential.py:454: UserWarning: `model.predict_classes()` is deprecated and will be removed after 2021-01-01. Please use instead:* `np.argmax(model.predict(x), axis=-1)`,   if your model does multi-class classification   (e.g. if it uses a `softmax` last-layer activation).* `(model.predict(x) > 0.5).astype(\"int32\")`,   if your model does binary classification   (e.g. if it uses a `sigmoid` last-layer activation).\n",
      "  warnings.warn('`model.predict_classes()` is deprecated and '\n"
     ]
    },
    {
     "name": "stdout",
     "output_type": "stream",
     "text": [
      "945/945 [==============================] - 1s 1ms/step - loss: 0.4631 - accuracy: 0.7789\n",
      "Epoch 2/6\n",
      "945/945 [==============================] - 1s 1ms/step - loss: 0.3285 - accuracy: 0.8221\n",
      "Epoch 3/6\n",
      "945/945 [==============================] - 1s 1ms/step - loss: 0.2832 - accuracy: 0.8633\n",
      "Epoch 4/6\n",
      "945/945 [==============================] - 1s 1ms/step - loss: 0.2613 - accuracy: 0.9052\n",
      "Epoch 5/6\n",
      "945/945 [==============================] - 1s 899us/step - loss: 0.2495 - accuracy: 0.9157\n",
      "Epoch 6/6\n",
      "945/945 [==============================] - 1s 818us/step - loss: 0.2438 - accuracy: 0.9199\n",
      "Epoch 1/6\n"
     ]
    },
    {
     "name": "stderr",
     "output_type": "stream",
     "text": [
      "/Users/husni.zuhdi/Documents/Codes/1-Python-Workshop/retention-prediction-demo/retention-prediction/lib/python3.10/site-packages/tensorflow/python/keras/engine/sequential.py:454: UserWarning: `model.predict_classes()` is deprecated and will be removed after 2021-01-01. Please use instead:* `np.argmax(model.predict(x), axis=-1)`,   if your model does multi-class classification   (e.g. if it uses a `softmax` last-layer activation).* `(model.predict(x) > 0.5).astype(\"int32\")`,   if your model does binary classification   (e.g. if it uses a `sigmoid` last-layer activation).\n",
      "  warnings.warn('`model.predict_classes()` is deprecated and '\n"
     ]
    },
    {
     "name": "stdout",
     "output_type": "stream",
     "text": [
      "945/945 [==============================] - 1s 881us/step - loss: 0.4659 - accuracy: 0.7863\n",
      "Epoch 2/6\n",
      "945/945 [==============================] - 1s 833us/step - loss: 0.2943 - accuracy: 0.8820\n",
      "Epoch 3/6\n",
      "945/945 [==============================] - 1s 837us/step - loss: 0.2363 - accuracy: 0.9106\n",
      "Epoch 4/6\n",
      "945/945 [==============================] - 1s 920us/step - loss: 0.2150 - accuracy: 0.9228\n",
      "Epoch 5/6\n",
      "945/945 [==============================] - 1s 1ms/step - loss: 0.2083 - accuracy: 0.9222\n",
      "Epoch 6/6\n",
      "945/945 [==============================] - 1s 894us/step - loss: 0.2063 - accuracy: 0.9252\n",
      "Epoch 1/6\n"
     ]
    },
    {
     "name": "stderr",
     "output_type": "stream",
     "text": [
      "/Users/husni.zuhdi/Documents/Codes/1-Python-Workshop/retention-prediction-demo/retention-prediction/lib/python3.10/site-packages/tensorflow/python/keras/engine/sequential.py:454: UserWarning: `model.predict_classes()` is deprecated and will be removed after 2021-01-01. Please use instead:* `np.argmax(model.predict(x), axis=-1)`,   if your model does multi-class classification   (e.g. if it uses a `softmax` last-layer activation).* `(model.predict(x) > 0.5).astype(\"int32\")`,   if your model does binary classification   (e.g. if it uses a `sigmoid` last-layer activation).\n",
      "  warnings.warn('`model.predict_classes()` is deprecated and '\n"
     ]
    },
    {
     "name": "stdout",
     "output_type": "stream",
     "text": [
      "945/945 [==============================] - 1s 964us/step - loss: 0.4781 - accuracy: 0.7829\n",
      "Epoch 2/6\n",
      "945/945 [==============================] - 1s 994us/step - loss: 0.3256 - accuracy: 0.8214\n",
      "Epoch 3/6\n",
      "945/945 [==============================] - 1s 946us/step - loss: 0.2825 - accuracy: 0.8427\n",
      "Epoch 4/6\n",
      "945/945 [==============================] - 1s 917us/step - loss: 0.2593 - accuracy: 0.9073\n",
      "Epoch 5/6\n",
      "945/945 [==============================] - 1s 943us/step - loss: 0.2407 - accuracy: 0.9274\n",
      "Epoch 6/6\n",
      "945/945 [==============================] - 1s 906us/step - loss: 0.2379 - accuracy: 0.9293\n",
      "Epoch 1/6\n"
     ]
    },
    {
     "name": "stderr",
     "output_type": "stream",
     "text": [
      "/Users/husni.zuhdi/Documents/Codes/1-Python-Workshop/retention-prediction-demo/retention-prediction/lib/python3.10/site-packages/tensorflow/python/keras/engine/sequential.py:454: UserWarning: `model.predict_classes()` is deprecated and will be removed after 2021-01-01. Please use instead:* `np.argmax(model.predict(x), axis=-1)`,   if your model does multi-class classification   (e.g. if it uses a `softmax` last-layer activation).* `(model.predict(x) > 0.5).astype(\"int32\")`,   if your model does binary classification   (e.g. if it uses a `sigmoid` last-layer activation).\n",
      "  warnings.warn('`model.predict_classes()` is deprecated and '\n"
     ]
    },
    {
     "name": "stdout",
     "output_type": "stream",
     "text": [
      "945/945 [==============================] - 1s 794us/step - loss: 0.4707 - accuracy: 0.7831\n",
      "Epoch 2/6\n",
      "945/945 [==============================] - 1s 814us/step - loss: 0.3101 - accuracy: 0.8668\n",
      "Epoch 3/6\n",
      "945/945 [==============================] - 1s 885us/step - loss: 0.2445 - accuracy: 0.9066\n",
      "Epoch 4/6\n",
      "945/945 [==============================] - 1s 818us/step - loss: 0.2215 - accuracy: 0.9208\n",
      "Epoch 5/6\n",
      "945/945 [==============================] - 1s 939us/step - loss: 0.2112 - accuracy: 0.9217\n",
      "Epoch 6/6\n",
      "945/945 [==============================] - 1s 918us/step - loss: 0.2107 - accuracy: 0.9238\n",
      "Epoch 1/8\n"
     ]
    },
    {
     "name": "stderr",
     "output_type": "stream",
     "text": [
      "/Users/husni.zuhdi/Documents/Codes/1-Python-Workshop/retention-prediction-demo/retention-prediction/lib/python3.10/site-packages/tensorflow/python/keras/engine/sequential.py:454: UserWarning: `model.predict_classes()` is deprecated and will be removed after 2021-01-01. Please use instead:* `np.argmax(model.predict(x), axis=-1)`,   if your model does multi-class classification   (e.g. if it uses a `softmax` last-layer activation).* `(model.predict(x) > 0.5).astype(\"int32\")`,   if your model does binary classification   (e.g. if it uses a `sigmoid` last-layer activation).\n",
      "  warnings.warn('`model.predict_classes()` is deprecated and '\n"
     ]
    },
    {
     "name": "stdout",
     "output_type": "stream",
     "text": [
      "945/945 [==============================] - 2s 2ms/step - loss: 0.4513 - accuracy: 0.7892\n",
      "Epoch 2/8\n",
      "945/945 [==============================] - 1s 1ms/step - loss: 0.3129 - accuracy: 0.8279\n",
      "Epoch 3/8\n",
      "945/945 [==============================] - 1s 1ms/step - loss: 0.2781 - accuracy: 0.8549\n",
      "Epoch 4/8\n",
      "945/945 [==============================] - 1s 1ms/step - loss: 0.2580 - accuracy: 0.9097\n",
      "Epoch 5/8\n",
      "945/945 [==============================] - 1s 2ms/step - loss: 0.2463 - accuracy: 0.9190\n",
      "Epoch 6/8\n",
      "945/945 [==============================] - 1s 1ms/step - loss: 0.2387 - accuracy: 0.9239\n",
      "Epoch 7/8\n",
      "945/945 [==============================] - 1s 1ms/step - loss: 0.2325 - accuracy: 0.9276\n",
      "Epoch 8/8\n",
      "945/945 [==============================] - 1s 1ms/step - loss: 0.2226 - accuracy: 0.9298\n",
      "Epoch 1/8\n"
     ]
    },
    {
     "name": "stderr",
     "output_type": "stream",
     "text": [
      "/Users/husni.zuhdi/Documents/Codes/1-Python-Workshop/retention-prediction-demo/retention-prediction/lib/python3.10/site-packages/tensorflow/python/keras/engine/sequential.py:454: UserWarning: `model.predict_classes()` is deprecated and will be removed after 2021-01-01. Please use instead:* `np.argmax(model.predict(x), axis=-1)`,   if your model does multi-class classification   (e.g. if it uses a `softmax` last-layer activation).* `(model.predict(x) > 0.5).astype(\"int32\")`,   if your model does binary classification   (e.g. if it uses a `sigmoid` last-layer activation).\n",
      "  warnings.warn('`model.predict_classes()` is deprecated and '\n"
     ]
    },
    {
     "name": "stdout",
     "output_type": "stream",
     "text": [
      "945/945 [==============================] - 2s 1ms/step - loss: 0.4533 - accuracy: 0.7838\n",
      "Epoch 2/8\n",
      "945/945 [==============================] - 1s 1ms/step - loss: 0.3007 - accuracy: 0.8291\n",
      "Epoch 3/8\n",
      "945/945 [==============================] - 1s 1ms/step - loss: 0.2639 - accuracy: 0.8815\n",
      "Epoch 4/8\n",
      "945/945 [==============================] - 1s 1ms/step - loss: 0.2456 - accuracy: 0.9208\n",
      "Epoch 5/8\n",
      "945/945 [==============================] - 1s 1ms/step - loss: 0.2361 - accuracy: 0.9273\n",
      "Epoch 6/8\n",
      "945/945 [==============================] - 1s 1ms/step - loss: 0.2339 - accuracy: 0.9251\n",
      "Epoch 7/8\n",
      "945/945 [==============================] - 1s 1ms/step - loss: 0.2259 - accuracy: 0.9308\n",
      "Epoch 8/8\n",
      "945/945 [==============================] - 1s 997us/step - loss: 0.2215 - accuracy: 0.9323\n",
      "Epoch 1/8\n"
     ]
    },
    {
     "name": "stderr",
     "output_type": "stream",
     "text": [
      "/Users/husni.zuhdi/Documents/Codes/1-Python-Workshop/retention-prediction-demo/retention-prediction/lib/python3.10/site-packages/tensorflow/python/keras/engine/sequential.py:454: UserWarning: `model.predict_classes()` is deprecated and will be removed after 2021-01-01. Please use instead:* `np.argmax(model.predict(x), axis=-1)`,   if your model does multi-class classification   (e.g. if it uses a `softmax` last-layer activation).* `(model.predict(x) > 0.5).astype(\"int32\")`,   if your model does binary classification   (e.g. if it uses a `sigmoid` last-layer activation).\n",
      "  warnings.warn('`model.predict_classes()` is deprecated and '\n"
     ]
    },
    {
     "name": "stdout",
     "output_type": "stream",
     "text": [
      "945/945 [==============================] - 1s 906us/step - loss: 0.4473 - accuracy: 0.8142\n",
      "Epoch 2/8\n",
      "945/945 [==============================] - 1s 1ms/step - loss: 0.2607 - accuracy: 0.9074\n",
      "Epoch 3/8\n",
      "945/945 [==============================] - 1s 1ms/step - loss: 0.2199 - accuracy: 0.9248\n",
      "Epoch 4/8\n",
      "945/945 [==============================] - 1s 1ms/step - loss: 0.2070 - accuracy: 0.9311\n",
      "Epoch 5/8\n",
      "945/945 [==============================] - 1s 1ms/step - loss: 0.1986 - accuracy: 0.9371\n",
      "Epoch 6/8\n",
      "945/945 [==============================] - 1s 1ms/step - loss: 0.1963 - accuracy: 0.9377\n",
      "Epoch 7/8\n",
      "945/945 [==============================] - 1s 990us/step - loss: 0.1908 - accuracy: 0.9419\n",
      "Epoch 8/8\n",
      "945/945 [==============================] - 1s 1ms/step - loss: 0.1915 - accuracy: 0.9416\n",
      "Epoch 1/8\n"
     ]
    },
    {
     "name": "stderr",
     "output_type": "stream",
     "text": [
      "/Users/husni.zuhdi/Documents/Codes/1-Python-Workshop/retention-prediction-demo/retention-prediction/lib/python3.10/site-packages/tensorflow/python/keras/engine/sequential.py:454: UserWarning: `model.predict_classes()` is deprecated and will be removed after 2021-01-01. Please use instead:* `np.argmax(model.predict(x), axis=-1)`,   if your model does multi-class classification   (e.g. if it uses a `softmax` last-layer activation).* `(model.predict(x) > 0.5).astype(\"int32\")`,   if your model does binary classification   (e.g. if it uses a `sigmoid` last-layer activation).\n",
      "  warnings.warn('`model.predict_classes()` is deprecated and '\n"
     ]
    },
    {
     "name": "stdout",
     "output_type": "stream",
     "text": [
      "945/945 [==============================] - 1s 987us/step - loss: 0.4522 - accuracy: 0.7640\n",
      "Epoch 2/8\n",
      "945/945 [==============================] - 1s 892us/step - loss: 0.3413 - accuracy: 0.8027\n",
      "Epoch 3/8\n",
      "945/945 [==============================] - 1s 906us/step - loss: 0.3053 - accuracy: 0.8818\n",
      "Epoch 4/8\n",
      "945/945 [==============================] - 1s 958us/step - loss: 0.2811 - accuracy: 0.9027\n",
      "Epoch 5/8\n",
      "945/945 [==============================] - 1s 1ms/step - loss: 0.2640 - accuracy: 0.9118\n",
      "Epoch 6/8\n",
      "945/945 [==============================] - 1s 1ms/step - loss: 0.2530 - accuracy: 0.9216\n",
      "Epoch 7/8\n",
      "945/945 [==============================] - 1s 936us/step - loss: 0.2447 - accuracy: 0.9234\n",
      "Epoch 8/8\n",
      "945/945 [==============================] - 1s 921us/step - loss: 0.2363 - accuracy: 0.9267\n",
      "Epoch 1/8\n"
     ]
    },
    {
     "name": "stderr",
     "output_type": "stream",
     "text": [
      "/Users/husni.zuhdi/Documents/Codes/1-Python-Workshop/retention-prediction-demo/retention-prediction/lib/python3.10/site-packages/tensorflow/python/keras/engine/sequential.py:454: UserWarning: `model.predict_classes()` is deprecated and will be removed after 2021-01-01. Please use instead:* `np.argmax(model.predict(x), axis=-1)`,   if your model does multi-class classification   (e.g. if it uses a `softmax` last-layer activation).* `(model.predict(x) > 0.5).astype(\"int32\")`,   if your model does binary classification   (e.g. if it uses a `sigmoid` last-layer activation).\n",
      "  warnings.warn('`model.predict_classes()` is deprecated and '\n"
     ]
    },
    {
     "name": "stdout",
     "output_type": "stream",
     "text": [
      "945/945 [==============================] - 1s 1ms/step - loss: 0.4548 - accuracy: 0.7634\n",
      "Epoch 2/8\n",
      "945/945 [==============================] - 1s 1ms/step - loss: 0.3340 - accuracy: 0.8197\n",
      "Epoch 3/8\n",
      "945/945 [==============================] - 1s 1ms/step - loss: 0.3001 - accuracy: 0.8876\n",
      "Epoch 4/8\n",
      "945/945 [==============================] - 1s 1ms/step - loss: 0.2840 - accuracy: 0.9021\n",
      "Epoch 5/8\n",
      "945/945 [==============================] - 1s 2ms/step - loss: 0.2699 - accuracy: 0.9097\n",
      "Epoch 6/8\n",
      "945/945 [==============================] - 1s 1ms/step - loss: 0.2619 - accuracy: 0.9109\n",
      "Epoch 7/8\n",
      "945/945 [==============================] - 1s 1ms/step - loss: 0.2503 - accuracy: 0.9154\n",
      "Epoch 8/8\n",
      "945/945 [==============================] - 1s 1ms/step - loss: 0.2457 - accuracy: 0.9196\n",
      "Epoch 1/8\n"
     ]
    },
    {
     "name": "stderr",
     "output_type": "stream",
     "text": [
      "/Users/husni.zuhdi/Documents/Codes/1-Python-Workshop/retention-prediction-demo/retention-prediction/lib/python3.10/site-packages/tensorflow/python/keras/engine/sequential.py:454: UserWarning: `model.predict_classes()` is deprecated and will be removed after 2021-01-01. Please use instead:* `np.argmax(model.predict(x), axis=-1)`,   if your model does multi-class classification   (e.g. if it uses a `softmax` last-layer activation).* `(model.predict(x) > 0.5).astype(\"int32\")`,   if your model does binary classification   (e.g. if it uses a `sigmoid` last-layer activation).\n",
      "  warnings.warn('`model.predict_classes()` is deprecated and '\n"
     ]
    },
    {
     "name": "stdout",
     "output_type": "stream",
     "text": [
      "945/945 [==============================] - 1s 1ms/step - loss: 0.4669 - accuracy: 0.7625\n",
      "Epoch 2/8\n",
      "945/945 [==============================] - 1s 1ms/step - loss: 0.3353 - accuracy: 0.8114\n",
      "Epoch 3/8\n",
      "945/945 [==============================] - 1s 919us/step - loss: 0.2964 - accuracy: 0.8930\n",
      "Epoch 4/8\n",
      "945/945 [==============================] - 1s 864us/step - loss: 0.2724 - accuracy: 0.9059\n",
      "Epoch 5/8\n",
      "945/945 [==============================] - 1s 880us/step - loss: 0.2629 - accuracy: 0.9125\n",
      "Epoch 6/8\n",
      "945/945 [==============================] - 1s 908us/step - loss: 0.2541 - accuracy: 0.9152\n",
      "Epoch 7/8\n",
      "945/945 [==============================] - 1s 901us/step - loss: 0.2441 - accuracy: 0.9181\n",
      "Epoch 8/8\n",
      "945/945 [==============================] - 1s 987us/step - loss: 0.2395 - accuracy: 0.9220\n"
     ]
    },
    {
     "name": "stderr",
     "output_type": "stream",
     "text": [
      "/Users/husni.zuhdi/Documents/Codes/1-Python-Workshop/retention-prediction-demo/retention-prediction/lib/python3.10/site-packages/tensorflow/python/keras/engine/sequential.py:454: UserWarning: `model.predict_classes()` is deprecated and will be removed after 2021-01-01. Please use instead:* `np.argmax(model.predict(x), axis=-1)`,   if your model does multi-class classification   (e.g. if it uses a `softmax` last-layer activation).* `(model.predict(x) > 0.5).astype(\"int32\")`,   if your model does binary classification   (e.g. if it uses a `sigmoid` last-layer activation).\n",
      "  warnings.warn('`model.predict_classes()` is deprecated and '\n"
     ]
    },
    {
     "name": "stdout",
     "output_type": "stream",
     "text": [
      "Epoch 1/8\n",
      "945/945 [==============================] - 1s 909us/step - loss: 0.4481 - accuracy: 0.7637\n",
      "Epoch 2/8\n",
      "945/945 [==============================] - 1s 883us/step - loss: 0.3292 - accuracy: 0.8205\n",
      "Epoch 3/8\n",
      "945/945 [==============================] - 1s 900us/step - loss: 0.2936 - accuracy: 0.8924\n",
      "Epoch 4/8\n",
      "945/945 [==============================] - 1s 969us/step - loss: 0.2713 - accuracy: 0.9105\n",
      "Epoch 5/8\n",
      "945/945 [==============================] - 1s 1ms/step - loss: 0.2586 - accuracy: 0.9144\n",
      "Epoch 6/8\n",
      "945/945 [==============================] - 1s 902us/step - loss: 0.2508 - accuracy: 0.9185\n",
      "Epoch 7/8\n",
      "945/945 [==============================] - 1s 906us/step - loss: 0.2415 - accuracy: 0.9256\n",
      "Epoch 8/8\n",
      "945/945 [==============================] - 1s 952us/step - loss: 0.2330 - accuracy: 0.9266\n",
      "Epoch 1/8\n"
     ]
    },
    {
     "name": "stderr",
     "output_type": "stream",
     "text": [
      "/Users/husni.zuhdi/Documents/Codes/1-Python-Workshop/retention-prediction-demo/retention-prediction/lib/python3.10/site-packages/tensorflow/python/keras/engine/sequential.py:454: UserWarning: `model.predict_classes()` is deprecated and will be removed after 2021-01-01. Please use instead:* `np.argmax(model.predict(x), axis=-1)`,   if your model does multi-class classification   (e.g. if it uses a `softmax` last-layer activation).* `(model.predict(x) > 0.5).astype(\"int32\")`,   if your model does binary classification   (e.g. if it uses a `sigmoid` last-layer activation).\n",
      "  warnings.warn('`model.predict_classes()` is deprecated and '\n"
     ]
    },
    {
     "name": "stdout",
     "output_type": "stream",
     "text": [
      "945/945 [==============================] - 1s 995us/step - loss: 0.4376 - accuracy: 0.7929\n",
      "Epoch 2/8\n",
      "945/945 [==============================] - 1s 1ms/step - loss: 0.2829 - accuracy: 0.8361\n",
      "Epoch 3/8\n",
      "945/945 [==============================] - 1s 921us/step - loss: 0.2489 - accuracy: 0.9007\n",
      "Epoch 4/8\n",
      "945/945 [==============================] - 1s 890us/step - loss: 0.2349 - accuracy: 0.9289\n",
      "Epoch 5/8\n",
      "945/945 [==============================] - 1s 888us/step - loss: 0.2250 - accuracy: 0.9363\n",
      "Epoch 6/8\n",
      "945/945 [==============================] - 1s 1ms/step - loss: 0.2190 - accuracy: 0.9350\n",
      "Epoch 7/8\n",
      "945/945 [==============================] - 1s 962us/step - loss: 0.2107 - accuracy: 0.9368\n",
      "Epoch 8/8\n",
      "945/945 [==============================] - 1s 1ms/step - loss: 0.2097 - accuracy: 0.9383\n",
      "Epoch 1/8\n"
     ]
    },
    {
     "name": "stderr",
     "output_type": "stream",
     "text": [
      "/Users/husni.zuhdi/Documents/Codes/1-Python-Workshop/retention-prediction-demo/retention-prediction/lib/python3.10/site-packages/tensorflow/python/keras/engine/sequential.py:454: UserWarning: `model.predict_classes()` is deprecated and will be removed after 2021-01-01. Please use instead:* `np.argmax(model.predict(x), axis=-1)`,   if your model does multi-class classification   (e.g. if it uses a `softmax` last-layer activation).* `(model.predict(x) > 0.5).astype(\"int32\")`,   if your model does binary classification   (e.g. if it uses a `sigmoid` last-layer activation).\n",
      "  warnings.warn('`model.predict_classes()` is deprecated and '\n"
     ]
    },
    {
     "name": "stdout",
     "output_type": "stream",
     "text": [
      "945/945 [==============================] - 1s 931us/step - loss: 0.4516 - accuracy: 0.7896\n",
      "Epoch 2/8\n",
      "945/945 [==============================] - 1s 926us/step - loss: 0.2941 - accuracy: 0.8336\n",
      "Epoch 3/8\n",
      "945/945 [==============================] - 1s 950us/step - loss: 0.2538 - accuracy: 0.8934\n",
      "Epoch 4/8\n",
      "945/945 [==============================] - 1s 995us/step - loss: 0.2436 - accuracy: 0.9219\n",
      "Epoch 5/8\n",
      "945/945 [==============================] - 1s 1ms/step - loss: 0.2332 - accuracy: 0.9308\n",
      "Epoch 6/8\n",
      "945/945 [==============================] - 1s 911us/step - loss: 0.2201 - accuracy: 0.9350\n",
      "Epoch 7/8\n",
      "945/945 [==============================] - 1s 951us/step - loss: 0.2193 - accuracy: 0.9324\n",
      "Epoch 8/8\n",
      "945/945 [==============================] - 1s 906us/step - loss: 0.2125 - accuracy: 0.9373\n",
      "Epoch 1/8\n"
     ]
    },
    {
     "name": "stderr",
     "output_type": "stream",
     "text": [
      "/Users/husni.zuhdi/Documents/Codes/1-Python-Workshop/retention-prediction-demo/retention-prediction/lib/python3.10/site-packages/tensorflow/python/keras/engine/sequential.py:454: UserWarning: `model.predict_classes()` is deprecated and will be removed after 2021-01-01. Please use instead:* `np.argmax(model.predict(x), axis=-1)`,   if your model does multi-class classification   (e.g. if it uses a `softmax` last-layer activation).* `(model.predict(x) > 0.5).astype(\"int32\")`,   if your model does binary classification   (e.g. if it uses a `sigmoid` last-layer activation).\n",
      "  warnings.warn('`model.predict_classes()` is deprecated and '\n"
     ]
    },
    {
     "name": "stdout",
     "output_type": "stream",
     "text": [
      "945/945 [==============================] - 1s 1ms/step - loss: 0.4615 - accuracy: 0.7895\n",
      "Epoch 2/8\n",
      "945/945 [==============================] - 1s 1ms/step - loss: 0.3302 - accuracy: 0.8470\n",
      "Epoch 3/8\n",
      "945/945 [==============================] - 1s 918us/step - loss: 0.2914 - accuracy: 0.8610\n",
      "Epoch 4/8\n",
      "945/945 [==============================] - 1s 932us/step - loss: 0.2681 - accuracy: 0.8784\n",
      "Epoch 5/8\n",
      "945/945 [==============================] - 1s 1ms/step - loss: 0.2524 - accuracy: 0.8994\n",
      "Epoch 6/8\n",
      "945/945 [==============================] - 1s 985us/step - loss: 0.2447 - accuracy: 0.9097\n",
      "Epoch 7/8\n",
      "945/945 [==============================] - 1s 1ms/step - loss: 0.2360 - accuracy: 0.9167\n",
      "Epoch 8/8\n",
      "945/945 [==============================] - 1s 1ms/step - loss: 0.2299 - accuracy: 0.9233\n",
      "Epoch 1/8\n"
     ]
    },
    {
     "name": "stderr",
     "output_type": "stream",
     "text": [
      "/Users/husni.zuhdi/Documents/Codes/1-Python-Workshop/retention-prediction-demo/retention-prediction/lib/python3.10/site-packages/tensorflow/python/keras/engine/sequential.py:454: UserWarning: `model.predict_classes()` is deprecated and will be removed after 2021-01-01. Please use instead:* `np.argmax(model.predict(x), axis=-1)`,   if your model does multi-class classification   (e.g. if it uses a `softmax` last-layer activation).* `(model.predict(x) > 0.5).astype(\"int32\")`,   if your model does binary classification   (e.g. if it uses a `sigmoid` last-layer activation).\n",
      "  warnings.warn('`model.predict_classes()` is deprecated and '\n"
     ]
    },
    {
     "name": "stdout",
     "output_type": "stream",
     "text": [
      "945/945 [==============================] - 1s 869us/step - loss: 0.4729 - accuracy: 0.7912\n",
      "Epoch 2/8\n",
      "945/945 [==============================] - 1s 850us/step - loss: 0.3184 - accuracy: 0.8335\n",
      "Epoch 3/8\n",
      "945/945 [==============================] - 1s 856us/step - loss: 0.2714 - accuracy: 0.8516\n",
      "Epoch 4/8\n",
      "945/945 [==============================] - 1s 909us/step - loss: 0.2498 - accuracy: 0.8796\n",
      "Epoch 5/8\n",
      "945/945 [==============================] - 1s 871us/step - loss: 0.2389 - accuracy: 0.9264\n",
      "Epoch 6/8\n",
      "945/945 [==============================] - 1s 936us/step - loss: 0.2363 - accuracy: 0.9266\n",
      "Epoch 7/8\n",
      "945/945 [==============================] - 1s 814us/step - loss: 0.2355 - accuracy: 0.9293\n",
      "Epoch 8/8\n",
      "945/945 [==============================] - 1s 860us/step - loss: 0.2326 - accuracy: 0.9302\n",
      "Epoch 1/8\n"
     ]
    },
    {
     "name": "stderr",
     "output_type": "stream",
     "text": [
      "/Users/husni.zuhdi/Documents/Codes/1-Python-Workshop/retention-prediction-demo/retention-prediction/lib/python3.10/site-packages/tensorflow/python/keras/engine/sequential.py:454: UserWarning: `model.predict_classes()` is deprecated and will be removed after 2021-01-01. Please use instead:* `np.argmax(model.predict(x), axis=-1)`,   if your model does multi-class classification   (e.g. if it uses a `softmax` last-layer activation).* `(model.predict(x) > 0.5).astype(\"int32\")`,   if your model does binary classification   (e.g. if it uses a `sigmoid` last-layer activation).\n",
      "  warnings.warn('`model.predict_classes()` is deprecated and '\n"
     ]
    },
    {
     "name": "stdout",
     "output_type": "stream",
     "text": [
      "945/945 [==============================] - 2s 2ms/step - loss: 0.4680 - accuracy: 0.7954\n",
      "Epoch 2/8\n",
      "945/945 [==============================] - 1s 1ms/step - loss: 0.2884 - accuracy: 0.8876\n",
      "Epoch 3/8\n",
      "945/945 [==============================] - 1s 1ms/step - loss: 0.2359 - accuracy: 0.9115\n",
      "Epoch 4/8\n",
      "945/945 [==============================] - 1s 1ms/step - loss: 0.2155 - accuracy: 0.9237\n",
      "Epoch 5/8\n",
      "945/945 [==============================] - 1s 1ms/step - loss: 0.2095 - accuracy: 0.9276\n",
      "Epoch 6/8\n",
      "945/945 [==============================] - 1s 1ms/step - loss: 0.2061 - accuracy: 0.9303\n",
      "Epoch 7/8\n",
      "945/945 [==============================] - 1s 1ms/step - loss: 0.2036 - accuracy: 0.9324\n",
      "Epoch 8/8\n",
      "945/945 [==============================] - 1s 1ms/step - loss: 0.2070 - accuracy: 0.9307\n"
     ]
    },
    {
     "name": "stderr",
     "output_type": "stream",
     "text": [
      "/Users/husni.zuhdi/Documents/Codes/1-Python-Workshop/retention-prediction-demo/retention-prediction/lib/python3.10/site-packages/tensorflow/python/keras/engine/sequential.py:454: UserWarning: `model.predict_classes()` is deprecated and will be removed after 2021-01-01. Please use instead:* `np.argmax(model.predict(x), axis=-1)`,   if your model does multi-class classification   (e.g. if it uses a `softmax` last-layer activation).* `(model.predict(x) > 0.5).astype(\"int32\")`,   if your model does binary classification   (e.g. if it uses a `sigmoid` last-layer activation).\n",
      "  warnings.warn('`model.predict_classes()` is deprecated and '\n"
     ]
    },
    {
     "name": "stdout",
     "output_type": "stream",
     "text": [
      "Epoch 1/8\n",
      "945/945 [==============================] - 2s 1ms/step - loss: 0.4732 - accuracy: 0.7917\n",
      "Epoch 2/8\n",
      "945/945 [==============================] - 1s 1ms/step - loss: 0.2991 - accuracy: 0.8830\n",
      "Epoch 3/8\n",
      "945/945 [==============================] - 1s 984us/step - loss: 0.2463 - accuracy: 0.9099\n",
      "Epoch 4/8\n",
      "945/945 [==============================] - 1s 1ms/step - loss: 0.2228 - accuracy: 0.9238\n",
      "Epoch 5/8\n",
      "945/945 [==============================] - 1s 1ms/step - loss: 0.2162 - accuracy: 0.9253\n",
      "Epoch 6/8\n",
      "945/945 [==============================] - 1s 1ms/step - loss: 0.2057 - accuracy: 0.9311\n",
      "Epoch 7/8\n",
      "945/945 [==============================] - 1s 1ms/step - loss: 0.2054 - accuracy: 0.9325\n",
      "Epoch 8/8\n",
      "945/945 [==============================] - 1s 2ms/step - loss: 0.2051 - accuracy: 0.9342\n"
     ]
    },
    {
     "name": "stderr",
     "output_type": "stream",
     "text": [
      "/Users/husni.zuhdi/Documents/Codes/1-Python-Workshop/retention-prediction-demo/retention-prediction/lib/python3.10/site-packages/tensorflow/python/keras/engine/sequential.py:454: UserWarning: `model.predict_classes()` is deprecated and will be removed after 2021-01-01. Please use instead:* `np.argmax(model.predict(x), axis=-1)`,   if your model does multi-class classification   (e.g. if it uses a `softmax` last-layer activation).* `(model.predict(x) > 0.5).astype(\"int32\")`,   if your model does binary classification   (e.g. if it uses a `sigmoid` last-layer activation).\n",
      "  warnings.warn('`model.predict_classes()` is deprecated and '\n"
     ]
    },
    {
     "name": "stdout",
     "output_type": "stream",
     "text": [
      "Epoch 1/8\n",
      "945/945 [==============================] - 2s 1ms/step - loss: 0.4857 - accuracy: 0.7957\n",
      "Epoch 2/8\n",
      "945/945 [==============================] - 1s 1ms/step - loss: 0.2953 - accuracy: 0.8853\n",
      "Epoch 3/8\n",
      "945/945 [==============================] - 1s 1ms/step - loss: 0.2373 - accuracy: 0.9169\n",
      "Epoch 4/8\n",
      "945/945 [==============================] - 1s 1ms/step - loss: 0.2142 - accuracy: 0.9258\n",
      "Epoch 5/8\n",
      "945/945 [==============================] - 1s 992us/step - loss: 0.2031 - accuracy: 0.9325\n",
      "Epoch 6/8\n",
      "945/945 [==============================] - 1s 979us/step - loss: 0.1974 - accuracy: 0.9342\n",
      "Epoch 7/8\n",
      "945/945 [==============================] - 1s 1ms/step - loss: 0.1961 - accuracy: 0.9357\n",
      "Epoch 8/8\n",
      "945/945 [==============================] - 1s 950us/step - loss: 0.2005 - accuracy: 0.9354\n",
      "Epoch 1/8\n"
     ]
    },
    {
     "name": "stderr",
     "output_type": "stream",
     "text": [
      "/Users/husni.zuhdi/Documents/Codes/1-Python-Workshop/retention-prediction-demo/retention-prediction/lib/python3.10/site-packages/tensorflow/python/keras/engine/sequential.py:454: UserWarning: `model.predict_classes()` is deprecated and will be removed after 2021-01-01. Please use instead:* `np.argmax(model.predict(x), axis=-1)`,   if your model does multi-class classification   (e.g. if it uses a `softmax` last-layer activation).* `(model.predict(x) > 0.5).astype(\"int32\")`,   if your model does binary classification   (e.g. if it uses a `sigmoid` last-layer activation).\n",
      "  warnings.warn('`model.predict_classes()` is deprecated and '\n"
     ]
    },
    {
     "name": "stdout",
     "output_type": "stream",
     "text": [
      "945/945 [==============================] - 2s 1ms/step - loss: 0.4744 - accuracy: 0.7778\n",
      "Epoch 2/8\n",
      "945/945 [==============================] - 1s 1ms/step - loss: 0.3304 - accuracy: 0.8156\n",
      "Epoch 3/8\n",
      "945/945 [==============================] - 1s 950us/step - loss: 0.2847 - accuracy: 0.8662\n",
      "Epoch 4/8\n",
      "945/945 [==============================] - 1s 905us/step - loss: 0.2613 - accuracy: 0.9064\n",
      "Epoch 5/8\n",
      "945/945 [==============================] - 1s 1ms/step - loss: 0.2494 - accuracy: 0.9219\n",
      "Epoch 6/8\n",
      "945/945 [==============================] - 1s 1ms/step - loss: 0.2452 - accuracy: 0.9230\n",
      "Epoch 7/8\n",
      "945/945 [==============================] - 1s 1ms/step - loss: 0.2369 - accuracy: 0.9255\n",
      "Epoch 8/8\n",
      "945/945 [==============================] - 1s 1ms/step - loss: 0.2324 - accuracy: 0.9287\n",
      "Epoch 1/8\n"
     ]
    },
    {
     "name": "stderr",
     "output_type": "stream",
     "text": [
      "/Users/husni.zuhdi/Documents/Codes/1-Python-Workshop/retention-prediction-demo/retention-prediction/lib/python3.10/site-packages/tensorflow/python/keras/engine/sequential.py:454: UserWarning: `model.predict_classes()` is deprecated and will be removed after 2021-01-01. Please use instead:* `np.argmax(model.predict(x), axis=-1)`,   if your model does multi-class classification   (e.g. if it uses a `softmax` last-layer activation).* `(model.predict(x) > 0.5).astype(\"int32\")`,   if your model does binary classification   (e.g. if it uses a `sigmoid` last-layer activation).\n",
      "  warnings.warn('`model.predict_classes()` is deprecated and '\n"
     ]
    },
    {
     "name": "stdout",
     "output_type": "stream",
     "text": [
      "945/945 [==============================] - 1s 1ms/step - loss: 0.4763 - accuracy: 0.7625\n",
      "Epoch 2/8\n",
      "945/945 [==============================] - 1s 1ms/step - loss: 0.3605 - accuracy: 0.7946\n",
      "Epoch 3/8\n",
      "945/945 [==============================] - 1s 1ms/step - loss: 0.3206 - accuracy: 0.8723\n",
      "Epoch 4/8\n",
      "945/945 [==============================] - 1s 987us/step - loss: 0.2944 - accuracy: 0.8953\n",
      "Epoch 5/8\n",
      "945/945 [==============================] - 1s 965us/step - loss: 0.2787 - accuracy: 0.9020\n",
      "Epoch 6/8\n",
      "945/945 [==============================] - 1s 968us/step - loss: 0.2722 - accuracy: 0.9113\n",
      "Epoch 7/8\n",
      "945/945 [==============================] - 1s 996us/step - loss: 0.2664 - accuracy: 0.9095\n",
      "Epoch 8/8\n",
      "945/945 [==============================] - 1s 1ms/step - loss: 0.2569 - accuracy: 0.9115\n",
      "Epoch 1/8\n"
     ]
    },
    {
     "name": "stderr",
     "output_type": "stream",
     "text": [
      "/Users/husni.zuhdi/Documents/Codes/1-Python-Workshop/retention-prediction-demo/retention-prediction/lib/python3.10/site-packages/tensorflow/python/keras/engine/sequential.py:454: UserWarning: `model.predict_classes()` is deprecated and will be removed after 2021-01-01. Please use instead:* `np.argmax(model.predict(x), axis=-1)`,   if your model does multi-class classification   (e.g. if it uses a `softmax` last-layer activation).* `(model.predict(x) > 0.5).astype(\"int32\")`,   if your model does binary classification   (e.g. if it uses a `sigmoid` last-layer activation).\n",
      "  warnings.warn('`model.predict_classes()` is deprecated and '\n"
     ]
    },
    {
     "name": "stdout",
     "output_type": "stream",
     "text": [
      "945/945 [==============================] - 2s 1ms/step - loss: 0.4673 - accuracy: 0.8002\n",
      "Epoch 2/8\n",
      "945/945 [==============================] - 1s 1ms/step - loss: 0.2757 - accuracy: 0.8986\n",
      "Epoch 3/8\n",
      "945/945 [==============================] - 1s 1ms/step - loss: 0.2247 - accuracy: 0.9190\n",
      "Epoch 4/8\n",
      "945/945 [==============================] - 1s 1ms/step - loss: 0.1996 - accuracy: 0.9313\n",
      "Epoch 5/8\n",
      "945/945 [==============================] - 1s 955us/step - loss: 0.1998 - accuracy: 0.9327\n",
      "Epoch 6/8\n",
      "945/945 [==============================] - 1s 934us/step - loss: 0.1950 - accuracy: 0.9342\n",
      "Epoch 7/8\n",
      "945/945 [==============================] - 1s 970us/step - loss: 0.1934 - accuracy: 0.9351\n",
      "Epoch 8/8\n",
      "945/945 [==============================] - 1s 949us/step - loss: 0.1948 - accuracy: 0.9362\n",
      "Epoch 1/8\n"
     ]
    },
    {
     "name": "stderr",
     "output_type": "stream",
     "text": [
      "/Users/husni.zuhdi/Documents/Codes/1-Python-Workshop/retention-prediction-demo/retention-prediction/lib/python3.10/site-packages/tensorflow/python/keras/engine/sequential.py:454: UserWarning: `model.predict_classes()` is deprecated and will be removed after 2021-01-01. Please use instead:* `np.argmax(model.predict(x), axis=-1)`,   if your model does multi-class classification   (e.g. if it uses a `softmax` last-layer activation).* `(model.predict(x) > 0.5).astype(\"int32\")`,   if your model does binary classification   (e.g. if it uses a `sigmoid` last-layer activation).\n",
      "  warnings.warn('`model.predict_classes()` is deprecated and '\n"
     ]
    },
    {
     "name": "stdout",
     "output_type": "stream",
     "text": [
      "945/945 [==============================] - 1s 1ms/step - loss: 0.4717 - accuracy: 0.7627\n",
      "Epoch 2/8\n",
      "945/945 [==============================] - 1s 955us/step - loss: 0.3592 - accuracy: 0.7823\n",
      "Epoch 3/8\n",
      "945/945 [==============================] - 1s 960us/step - loss: 0.3272 - accuracy: 0.8652\n",
      "Epoch 4/8\n",
      "945/945 [==============================] - 1s 1ms/step - loss: 0.3008 - accuracy: 0.8916\n",
      "Epoch 5/8\n",
      "945/945 [==============================] - 1s 982us/step - loss: 0.2827 - accuracy: 0.9026\n",
      "Epoch 6/8\n",
      "945/945 [==============================] - 1s 991us/step - loss: 0.2740 - accuracy: 0.9051\n",
      "Epoch 7/8\n",
      "945/945 [==============================] - 1s 961us/step - loss: 0.2672 - accuracy: 0.9114\n",
      "Epoch 8/8\n",
      "945/945 [==============================] - 1s 956us/step - loss: 0.2569 - accuracy: 0.9168\n",
      "Epoch 1/8\n"
     ]
    },
    {
     "name": "stderr",
     "output_type": "stream",
     "text": [
      "/Users/husni.zuhdi/Documents/Codes/1-Python-Workshop/retention-prediction-demo/retention-prediction/lib/python3.10/site-packages/tensorflow/python/keras/engine/sequential.py:454: UserWarning: `model.predict_classes()` is deprecated and will be removed after 2021-01-01. Please use instead:* `np.argmax(model.predict(x), axis=-1)`,   if your model does multi-class classification   (e.g. if it uses a `softmax` last-layer activation).* `(model.predict(x) > 0.5).astype(\"int32\")`,   if your model does binary classification   (e.g. if it uses a `sigmoid` last-layer activation).\n",
      "  warnings.warn('`model.predict_classes()` is deprecated and '\n"
     ]
    },
    {
     "name": "stdout",
     "output_type": "stream",
     "text": [
      "945/945 [==============================] - 2s 1ms/step - loss: 0.4688 - accuracy: 0.7780\n",
      "Epoch 2/8\n",
      "945/945 [==============================] - 1s 1ms/step - loss: 0.3271 - accuracy: 0.8205\n",
      "Epoch 3/8\n",
      "945/945 [==============================] - 1s 1ms/step - loss: 0.2855 - accuracy: 0.8604\n",
      "Epoch 4/8\n",
      "945/945 [==============================] - 1s 973us/step - loss: 0.2601 - accuracy: 0.9144\n",
      "Epoch 5/8\n",
      "945/945 [==============================] - 1s 975us/step - loss: 0.2489 - accuracy: 0.9234\n",
      "Epoch 6/8\n",
      "945/945 [==============================] - 1s 990us/step - loss: 0.2407 - accuracy: 0.9264\n",
      "Epoch 7/8\n",
      "945/945 [==============================] - 1s 1ms/step - loss: 0.2370 - accuracy: 0.9267\n",
      "Epoch 8/8\n",
      "945/945 [==============================] - 1s 1ms/step - loss: 0.2317 - accuracy: 0.9258\n",
      "Epoch 1/8\n"
     ]
    },
    {
     "name": "stderr",
     "output_type": "stream",
     "text": [
      "/Users/husni.zuhdi/Documents/Codes/1-Python-Workshop/retention-prediction-demo/retention-prediction/lib/python3.10/site-packages/tensorflow/python/keras/engine/sequential.py:454: UserWarning: `model.predict_classes()` is deprecated and will be removed after 2021-01-01. Please use instead:* `np.argmax(model.predict(x), axis=-1)`,   if your model does multi-class classification   (e.g. if it uses a `softmax` last-layer activation).* `(model.predict(x) > 0.5).astype(\"int32\")`,   if your model does binary classification   (e.g. if it uses a `sigmoid` last-layer activation).\n",
      "  warnings.warn('`model.predict_classes()` is deprecated and '\n"
     ]
    },
    {
     "name": "stdout",
     "output_type": "stream",
     "text": [
      "945/945 [==============================] - 1s 893us/step - loss: 0.4704 - accuracy: 0.7808\n",
      "Epoch 2/8\n",
      "945/945 [==============================] - 1s 888us/step - loss: 0.3335 - accuracy: 0.8156\n",
      "Epoch 3/8\n",
      "945/945 [==============================] - 1s 899us/step - loss: 0.2917 - accuracy: 0.8357\n",
      "Epoch 4/8\n",
      "945/945 [==============================] - 1s 913us/step - loss: 0.2672 - accuracy: 0.8914\n",
      "Epoch 5/8\n",
      "945/945 [==============================] - 1s 951us/step - loss: 0.2526 - accuracy: 0.9168\n",
      "Epoch 6/8\n",
      "945/945 [==============================] - 1s 909us/step - loss: 0.2384 - accuracy: 0.9223\n",
      "Epoch 7/8\n",
      "945/945 [==============================] - 1s 902us/step - loss: 0.2380 - accuracy: 0.9223\n",
      "Epoch 8/8\n",
      "945/945 [==============================] - 1s 911us/step - loss: 0.2328 - accuracy: 0.9261\n",
      "Epoch 1/10\n"
     ]
    },
    {
     "name": "stderr",
     "output_type": "stream",
     "text": [
      "/Users/husni.zuhdi/Documents/Codes/1-Python-Workshop/retention-prediction-demo/retention-prediction/lib/python3.10/site-packages/tensorflow/python/keras/engine/sequential.py:454: UserWarning: `model.predict_classes()` is deprecated and will be removed after 2021-01-01. Please use instead:* `np.argmax(model.predict(x), axis=-1)`,   if your model does multi-class classification   (e.g. if it uses a `softmax` last-layer activation).* `(model.predict(x) > 0.5).astype(\"int32\")`,   if your model does binary classification   (e.g. if it uses a `sigmoid` last-layer activation).\n",
      "  warnings.warn('`model.predict_classes()` is deprecated and '\n"
     ]
    },
    {
     "name": "stdout",
     "output_type": "stream",
     "text": [
      "945/945 [==============================] - 1s 1ms/step - loss: 0.4472 - accuracy: 0.7890\n",
      "Epoch 2/10\n",
      "945/945 [==============================] - 1s 1ms/step - loss: 0.3068 - accuracy: 0.8350\n",
      "Epoch 3/10\n",
      "945/945 [==============================] - 1s 1ms/step - loss: 0.2616 - accuracy: 0.8534\n",
      "Epoch 4/10\n",
      "945/945 [==============================] - 1s 1ms/step - loss: 0.2406 - accuracy: 0.9236\n",
      "Epoch 5/10\n",
      "945/945 [==============================] - 1s 1ms/step - loss: 0.2300 - accuracy: 0.9327\n",
      "Epoch 6/10\n",
      "945/945 [==============================] - 1s 1ms/step - loss: 0.2192 - accuracy: 0.9381\n",
      "Epoch 7/10\n",
      "945/945 [==============================] - 1s 1ms/step - loss: 0.2175 - accuracy: 0.9381\n",
      "Epoch 8/10\n",
      "945/945 [==============================] - 1s 1ms/step - loss: 0.2103 - accuracy: 0.9384\n",
      "Epoch 9/10\n",
      "945/945 [==============================] - 1s 1ms/step - loss: 0.2067 - accuracy: 0.9438\n",
      "Epoch 10/10\n",
      "945/945 [==============================] - 1s 1ms/step - loss: 0.2053 - accuracy: 0.9405\n",
      "Epoch 1/10\n"
     ]
    },
    {
     "name": "stderr",
     "output_type": "stream",
     "text": [
      "/Users/husni.zuhdi/Documents/Codes/1-Python-Workshop/retention-prediction-demo/retention-prediction/lib/python3.10/site-packages/tensorflow/python/keras/engine/sequential.py:454: UserWarning: `model.predict_classes()` is deprecated and will be removed after 2021-01-01. Please use instead:* `np.argmax(model.predict(x), axis=-1)`,   if your model does multi-class classification   (e.g. if it uses a `softmax` last-layer activation).* `(model.predict(x) > 0.5).astype(\"int32\")`,   if your model does binary classification   (e.g. if it uses a `sigmoid` last-layer activation).\n",
      "  warnings.warn('`model.predict_classes()` is deprecated and '\n"
     ]
    },
    {
     "name": "stdout",
     "output_type": "stream",
     "text": [
      "945/945 [==============================] - 1s 1ms/step - loss: 0.4468 - accuracy: 0.7941\n",
      "Epoch 2/10\n",
      "945/945 [==============================] - 1s 1ms/step - loss: 0.3063 - accuracy: 0.8294\n",
      "Epoch 3/10\n",
      "945/945 [==============================] - 1s 1ms/step - loss: 0.2692 - accuracy: 0.8778\n",
      "Epoch 4/10\n",
      "945/945 [==============================] - 1s 1ms/step - loss: 0.2522 - accuracy: 0.9144\n",
      "Epoch 5/10\n",
      "945/945 [==============================] - 1s 1ms/step - loss: 0.2416 - accuracy: 0.9228\n",
      "Epoch 6/10\n",
      "945/945 [==============================] - 1s 1ms/step - loss: 0.2327 - accuracy: 0.9278\n",
      "Epoch 7/10\n",
      "945/945 [==============================] - 1s 1ms/step - loss: 0.2252 - accuracy: 0.9303\n",
      "Epoch 8/10\n",
      "945/945 [==============================] - 1s 1ms/step - loss: 0.2221 - accuracy: 0.9328\n",
      "Epoch 9/10\n",
      "945/945 [==============================] - 1s 1ms/step - loss: 0.2241 - accuracy: 0.9306\n",
      "Epoch 10/10\n",
      "945/945 [==============================] - 1s 1ms/step - loss: 0.2131 - accuracy: 0.9344\n",
      "Epoch 1/10\n"
     ]
    },
    {
     "name": "stderr",
     "output_type": "stream",
     "text": [
      "/Users/husni.zuhdi/Documents/Codes/1-Python-Workshop/retention-prediction-demo/retention-prediction/lib/python3.10/site-packages/tensorflow/python/keras/engine/sequential.py:454: UserWarning: `model.predict_classes()` is deprecated and will be removed after 2021-01-01. Please use instead:* `np.argmax(model.predict(x), axis=-1)`,   if your model does multi-class classification   (e.g. if it uses a `softmax` last-layer activation).* `(model.predict(x) > 0.5).astype(\"int32\")`,   if your model does binary classification   (e.g. if it uses a `sigmoid` last-layer activation).\n",
      "  warnings.warn('`model.predict_classes()` is deprecated and '\n"
     ]
    },
    {
     "name": "stdout",
     "output_type": "stream",
     "text": [
      "945/945 [==============================] - 1s 1ms/step - loss: 0.4510 - accuracy: 0.8135\n",
      "Epoch 2/10\n",
      "945/945 [==============================] - 1s 1ms/step - loss: 0.2814 - accuracy: 0.8928\n",
      "Epoch 3/10\n",
      "945/945 [==============================] - 1s 1ms/step - loss: 0.2365 - accuracy: 0.9194\n",
      "Epoch 4/10\n",
      "945/945 [==============================] - 1s 1ms/step - loss: 0.2188 - accuracy: 0.9244\n",
      "Epoch 5/10\n",
      "945/945 [==============================] - 1s 1ms/step - loss: 0.2082 - accuracy: 0.9320\n",
      "Epoch 6/10\n",
      "945/945 [==============================] - 1s 1ms/step - loss: 0.1996 - accuracy: 0.9351\n",
      "Epoch 7/10\n",
      "945/945 [==============================] - 1s 1ms/step - loss: 0.2012 - accuracy: 0.9331\n",
      "Epoch 8/10\n",
      "945/945 [==============================] - 1s 1ms/step - loss: 0.1935 - accuracy: 0.9378\n",
      "Epoch 9/10\n",
      "945/945 [==============================] - 1s 1ms/step - loss: 0.1930 - accuracy: 0.9364\n",
      "Epoch 10/10\n",
      "945/945 [==============================] - 1s 1ms/step - loss: 0.1957 - accuracy: 0.9357\n",
      "Epoch 1/10\n"
     ]
    },
    {
     "name": "stderr",
     "output_type": "stream",
     "text": [
      "/Users/husni.zuhdi/Documents/Codes/1-Python-Workshop/retention-prediction-demo/retention-prediction/lib/python3.10/site-packages/tensorflow/python/keras/engine/sequential.py:454: UserWarning: `model.predict_classes()` is deprecated and will be removed after 2021-01-01. Please use instead:* `np.argmax(model.predict(x), axis=-1)`,   if your model does multi-class classification   (e.g. if it uses a `softmax` last-layer activation).* `(model.predict(x) > 0.5).astype(\"int32\")`,   if your model does binary classification   (e.g. if it uses a `sigmoid` last-layer activation).\n",
      "  warnings.warn('`model.predict_classes()` is deprecated and '\n"
     ]
    },
    {
     "name": "stdout",
     "output_type": "stream",
     "text": [
      "945/945 [==============================] - 2s 1ms/step - loss: 0.4560 - accuracy: 0.7881\n",
      "Epoch 2/10\n",
      "945/945 [==============================] - 1s 2ms/step - loss: 0.3110 - accuracy: 0.8579\n",
      "Epoch 3/10\n",
      "945/945 [==============================] - 1s 1ms/step - loss: 0.2710 - accuracy: 0.8718\n",
      "Epoch 4/10\n",
      "945/945 [==============================] - 1s 1ms/step - loss: 0.2562 - accuracy: 0.8970\n",
      "Epoch 5/10\n",
      "945/945 [==============================] - 1s 1ms/step - loss: 0.2459 - accuracy: 0.9049\n",
      "Epoch 6/10\n",
      "945/945 [==============================] - 1s 1ms/step - loss: 0.2399 - accuracy: 0.9136\n",
      "Epoch 7/10\n",
      "945/945 [==============================] - 1s 1ms/step - loss: 0.2351 - accuracy: 0.9168\n",
      "Epoch 8/10\n",
      "945/945 [==============================] - 1s 1ms/step - loss: 0.2284 - accuracy: 0.9226\n",
      "Epoch 9/10\n",
      "945/945 [==============================] - 1s 1ms/step - loss: 0.2285 - accuracy: 0.9264\n",
      "Epoch 10/10\n",
      "945/945 [==============================] - 1s 1ms/step - loss: 0.2243 - accuracy: 0.9287\n",
      "Epoch 1/10\n"
     ]
    },
    {
     "name": "stderr",
     "output_type": "stream",
     "text": [
      "/Users/husni.zuhdi/Documents/Codes/1-Python-Workshop/retention-prediction-demo/retention-prediction/lib/python3.10/site-packages/tensorflow/python/keras/engine/sequential.py:454: UserWarning: `model.predict_classes()` is deprecated and will be removed after 2021-01-01. Please use instead:* `np.argmax(model.predict(x), axis=-1)`,   if your model does multi-class classification   (e.g. if it uses a `softmax` last-layer activation).* `(model.predict(x) > 0.5).astype(\"int32\")`,   if your model does binary classification   (e.g. if it uses a `sigmoid` last-layer activation).\n",
      "  warnings.warn('`model.predict_classes()` is deprecated and '\n"
     ]
    },
    {
     "name": "stdout",
     "output_type": "stream",
     "text": [
      "945/945 [==============================] - 1s 1ms/step - loss: 0.4666 - accuracy: 0.7612\n",
      "Epoch 2/10\n",
      "945/945 [==============================] - 1s 1ms/step - loss: 0.3346 - accuracy: 0.8200\n",
      "Epoch 3/10\n",
      "945/945 [==============================] - 1s 1ms/step - loss: 0.2940 - accuracy: 0.8959\n",
      "Epoch 4/10\n",
      "945/945 [==============================] - 1s 1ms/step - loss: 0.2752 - accuracy: 0.9097\n",
      "Epoch 5/10\n",
      "945/945 [==============================] - 1s 1ms/step - loss: 0.2626 - accuracy: 0.9142\n",
      "Epoch 6/10\n",
      "945/945 [==============================] - 1s 1ms/step - loss: 0.2542 - accuracy: 0.9152\n",
      "Epoch 7/10\n",
      "945/945 [==============================] - 1s 1ms/step - loss: 0.2457 - accuracy: 0.9207\n",
      "Epoch 8/10\n",
      "945/945 [==============================] - 1s 1ms/step - loss: 0.2392 - accuracy: 0.9225\n",
      "Epoch 9/10\n",
      "945/945 [==============================] - 1s 1ms/step - loss: 0.2352 - accuracy: 0.9221\n",
      "Epoch 10/10\n",
      "945/945 [==============================] - 1s 1ms/step - loss: 0.2313 - accuracy: 0.9238\n",
      "Epoch 1/10\n"
     ]
    },
    {
     "name": "stderr",
     "output_type": "stream",
     "text": [
      "/Users/husni.zuhdi/Documents/Codes/1-Python-Workshop/retention-prediction-demo/retention-prediction/lib/python3.10/site-packages/tensorflow/python/keras/engine/sequential.py:454: UserWarning: `model.predict_classes()` is deprecated and will be removed after 2021-01-01. Please use instead:* `np.argmax(model.predict(x), axis=-1)`,   if your model does multi-class classification   (e.g. if it uses a `softmax` last-layer activation).* `(model.predict(x) > 0.5).astype(\"int32\")`,   if your model does binary classification   (e.g. if it uses a `sigmoid` last-layer activation).\n",
      "  warnings.warn('`model.predict_classes()` is deprecated and '\n"
     ]
    },
    {
     "name": "stdout",
     "output_type": "stream",
     "text": [
      "945/945 [==============================] - 1s 1ms/step - loss: 0.4421 - accuracy: 0.8065\n",
      "Epoch 2/10\n",
      "945/945 [==============================] - 1s 1ms/step - loss: 0.2609 - accuracy: 0.9019\n",
      "Epoch 3/10\n",
      "945/945 [==============================] - 1s 1ms/step - loss: 0.2241 - accuracy: 0.9161\n",
      "Epoch 4/10\n",
      "945/945 [==============================] - 1s 1ms/step - loss: 0.2101 - accuracy: 0.9262\n",
      "Epoch 5/10\n",
      "945/945 [==============================] - 1s 1ms/step - loss: 0.2056 - accuracy: 0.9263\n",
      "Epoch 6/10\n",
      "945/945 [==============================] - 1s 1ms/step - loss: 0.1959 - accuracy: 0.9303\n",
      "Epoch 7/10\n",
      "945/945 [==============================] - 1s 1ms/step - loss: 0.1969 - accuracy: 0.9279\n",
      "Epoch 8/10\n",
      "945/945 [==============================] - 1s 1ms/step - loss: 0.1924 - accuracy: 0.9321\n",
      "Epoch 9/10\n",
      "945/945 [==============================] - 1s 1ms/step - loss: 0.1900 - accuracy: 0.9332\n",
      "Epoch 10/10\n",
      "945/945 [==============================] - 1s 1ms/step - loss: 0.1911 - accuracy: 0.9322\n",
      "Epoch 1/10\n"
     ]
    },
    {
     "name": "stderr",
     "output_type": "stream",
     "text": [
      "/Users/husni.zuhdi/Documents/Codes/1-Python-Workshop/retention-prediction-demo/retention-prediction/lib/python3.10/site-packages/tensorflow/python/keras/engine/sequential.py:454: UserWarning: `model.predict_classes()` is deprecated and will be removed after 2021-01-01. Please use instead:* `np.argmax(model.predict(x), axis=-1)`,   if your model does multi-class classification   (e.g. if it uses a `softmax` last-layer activation).* `(model.predict(x) > 0.5).astype(\"int32\")`,   if your model does binary classification   (e.g. if it uses a `sigmoid` last-layer activation).\n",
      "  warnings.warn('`model.predict_classes()` is deprecated and '\n"
     ]
    },
    {
     "name": "stdout",
     "output_type": "stream",
     "text": [
      "945/945 [==============================] - 1s 1ms/step - loss: 0.4559 - accuracy: 0.7882\n",
      "Epoch 2/10\n",
      "945/945 [==============================] - 1s 1ms/step - loss: 0.3153 - accuracy: 0.8254\n",
      "Epoch 3/10\n",
      "945/945 [==============================] - 1s 1ms/step - loss: 0.2749 - accuracy: 0.8629\n",
      "Epoch 4/10\n",
      "945/945 [==============================] - 1s 1ms/step - loss: 0.2549 - accuracy: 0.9078\n",
      "Epoch 5/10\n",
      "945/945 [==============================] - 1s 1ms/step - loss: 0.2495 - accuracy: 0.9151\n",
      "Epoch 6/10\n",
      "945/945 [==============================] - 1s 1ms/step - loss: 0.2375 - accuracy: 0.9235\n",
      "Epoch 7/10\n",
      "945/945 [==============================] - 1s 1ms/step - loss: 0.2297 - accuracy: 0.9272\n",
      "Epoch 8/10\n",
      "945/945 [==============================] - 1s 908us/step - loss: 0.2259 - accuracy: 0.9298\n",
      "Epoch 9/10\n",
      "945/945 [==============================] - 1s 900us/step - loss: 0.2185 - accuracy: 0.9322\n",
      "Epoch 10/10\n",
      "945/945 [==============================] - 1s 878us/step - loss: 0.2137 - accuracy: 0.9332\n",
      "Epoch 1/10\n"
     ]
    },
    {
     "name": "stderr",
     "output_type": "stream",
     "text": [
      "/Users/husni.zuhdi/Documents/Codes/1-Python-Workshop/retention-prediction-demo/retention-prediction/lib/python3.10/site-packages/tensorflow/python/keras/engine/sequential.py:454: UserWarning: `model.predict_classes()` is deprecated and will be removed after 2021-01-01. Please use instead:* `np.argmax(model.predict(x), axis=-1)`,   if your model does multi-class classification   (e.g. if it uses a `softmax` last-layer activation).* `(model.predict(x) > 0.5).astype(\"int32\")`,   if your model does binary classification   (e.g. if it uses a `sigmoid` last-layer activation).\n",
      "  warnings.warn('`model.predict_classes()` is deprecated and '\n"
     ]
    },
    {
     "name": "stdout",
     "output_type": "stream",
     "text": [
      "945/945 [==============================] - 1s 967us/step - loss: 0.4285 - accuracy: 0.8143\n",
      "Epoch 2/10\n",
      "945/945 [==============================] - 1s 923us/step - loss: 0.2667 - accuracy: 0.9044\n",
      "Epoch 3/10\n",
      "945/945 [==============================] - 1s 919us/step - loss: 0.2233 - accuracy: 0.9239\n",
      "Epoch 4/10\n",
      "945/945 [==============================] - 1s 887us/step - loss: 0.2040 - accuracy: 0.9305\n",
      "Epoch 5/10\n",
      "945/945 [==============================] - 1s 890us/step - loss: 0.1952 - accuracy: 0.9346\n",
      "Epoch 6/10\n",
      "945/945 [==============================] - 1s 921us/step - loss: 0.1939 - accuracy: 0.9371\n",
      "Epoch 7/10\n",
      "945/945 [==============================] - 1s 876us/step - loss: 0.1899 - accuracy: 0.9372\n",
      "Epoch 8/10\n",
      "945/945 [==============================] - 1s 859us/step - loss: 0.1889 - accuracy: 0.9383\n",
      "Epoch 9/10\n",
      "945/945 [==============================] - 1s 956us/step - loss: 0.1852 - accuracy: 0.9371\n",
      "Epoch 10/10\n",
      "945/945 [==============================] - 1s 907us/step - loss: 0.1847 - accuracy: 0.9391\n",
      "Epoch 1/10\n"
     ]
    },
    {
     "name": "stderr",
     "output_type": "stream",
     "text": [
      "/Users/husni.zuhdi/Documents/Codes/1-Python-Workshop/retention-prediction-demo/retention-prediction/lib/python3.10/site-packages/tensorflow/python/keras/engine/sequential.py:454: UserWarning: `model.predict_classes()` is deprecated and will be removed after 2021-01-01. Please use instead:* `np.argmax(model.predict(x), axis=-1)`,   if your model does multi-class classification   (e.g. if it uses a `softmax` last-layer activation).* `(model.predict(x) > 0.5).astype(\"int32\")`,   if your model does binary classification   (e.g. if it uses a `sigmoid` last-layer activation).\n",
      "  warnings.warn('`model.predict_classes()` is deprecated and '\n"
     ]
    },
    {
     "name": "stdout",
     "output_type": "stream",
     "text": [
      "945/945 [==============================] - 1s 961us/step - loss: 0.4543 - accuracy: 0.7852\n",
      "Epoch 2/10\n",
      "945/945 [==============================] - 1s 924us/step - loss: 0.3010 - accuracy: 0.8307\n",
      "Epoch 3/10\n",
      "945/945 [==============================] - 1s 886us/step - loss: 0.2624 - accuracy: 0.8842\n",
      "Epoch 4/10\n",
      "945/945 [==============================] - 1s 1ms/step - loss: 0.2459 - accuracy: 0.9244\n",
      "Epoch 5/10\n",
      "945/945 [==============================] - 1s 885us/step - loss: 0.2303 - accuracy: 0.9328\n",
      "Epoch 6/10\n",
      "945/945 [==============================] - 1s 887us/step - loss: 0.2248 - accuracy: 0.9332\n",
      "Epoch 7/10\n",
      "945/945 [==============================] - 1s 918us/step - loss: 0.2215 - accuracy: 0.9320\n",
      "Epoch 8/10\n",
      "945/945 [==============================] - 1s 960us/step - loss: 0.2172 - accuracy: 0.9324\n",
      "Epoch 9/10\n",
      "945/945 [==============================] - 1s 1ms/step - loss: 0.2135 - accuracy: 0.9340\n",
      "Epoch 10/10\n",
      "945/945 [==============================] - 1s 1ms/step - loss: 0.2110 - accuracy: 0.9351\n",
      "Epoch 1/10\n"
     ]
    },
    {
     "name": "stderr",
     "output_type": "stream",
     "text": [
      "/Users/husni.zuhdi/Documents/Codes/1-Python-Workshop/retention-prediction-demo/retention-prediction/lib/python3.10/site-packages/tensorflow/python/keras/engine/sequential.py:454: UserWarning: `model.predict_classes()` is deprecated and will be removed after 2021-01-01. Please use instead:* `np.argmax(model.predict(x), axis=-1)`,   if your model does multi-class classification   (e.g. if it uses a `softmax` last-layer activation).* `(model.predict(x) > 0.5).astype(\"int32\")`,   if your model does binary classification   (e.g. if it uses a `sigmoid` last-layer activation).\n",
      "  warnings.warn('`model.predict_classes()` is deprecated and '\n"
     ]
    },
    {
     "name": "stdout",
     "output_type": "stream",
     "text": [
      "945/945 [==============================] - 1s 839us/step - loss: 0.4581 - accuracy: 0.7825\n",
      "Epoch 2/10\n",
      "945/945 [==============================] - 1s 849us/step - loss: 0.3183 - accuracy: 0.8513\n",
      "Epoch 3/10\n",
      "945/945 [==============================] - 1s 835us/step - loss: 0.2761 - accuracy: 0.8642\n",
      "Epoch 4/10\n",
      "945/945 [==============================] - 1s 857us/step - loss: 0.2568 - accuracy: 0.8974\n",
      "Epoch 5/10\n",
      "945/945 [==============================] - 1s 813us/step - loss: 0.2443 - accuracy: 0.9125\n",
      "Epoch 6/10\n",
      "945/945 [==============================] - 1s 902us/step - loss: 0.2371 - accuracy: 0.9178\n",
      "Epoch 7/10\n",
      "945/945 [==============================] - 1s 829us/step - loss: 0.2302 - accuracy: 0.9228\n",
      "Epoch 8/10\n",
      "945/945 [==============================] - 1s 864us/step - loss: 0.2239 - accuracy: 0.9271\n",
      "Epoch 9/10\n",
      "945/945 [==============================] - 1s 876us/step - loss: 0.2253 - accuracy: 0.9278\n",
      "Epoch 10/10\n",
      "945/945 [==============================] - 1s 816us/step - loss: 0.2208 - accuracy: 0.9284\n",
      "Epoch 1/10\n"
     ]
    },
    {
     "name": "stderr",
     "output_type": "stream",
     "text": [
      "/Users/husni.zuhdi/Documents/Codes/1-Python-Workshop/retention-prediction-demo/retention-prediction/lib/python3.10/site-packages/tensorflow/python/keras/engine/sequential.py:454: UserWarning: `model.predict_classes()` is deprecated and will be removed after 2021-01-01. Please use instead:* `np.argmax(model.predict(x), axis=-1)`,   if your model does multi-class classification   (e.g. if it uses a `softmax` last-layer activation).* `(model.predict(x) > 0.5).astype(\"int32\")`,   if your model does binary classification   (e.g. if it uses a `sigmoid` last-layer activation).\n",
      "  warnings.warn('`model.predict_classes()` is deprecated and '\n"
     ]
    },
    {
     "name": "stdout",
     "output_type": "stream",
     "text": [
      "945/945 [==============================] - 1s 935us/step - loss: 0.4769 - accuracy: 0.7806\n",
      "Epoch 2/10\n",
      "945/945 [==============================] - 1s 887us/step - loss: 0.3337 - accuracy: 0.8166\n",
      "Epoch 3/10\n",
      "945/945 [==============================] - 1s 857us/step - loss: 0.2860 - accuracy: 0.8513\n",
      "Epoch 4/10\n",
      "945/945 [==============================] - 1s 932us/step - loss: 0.2616 - accuracy: 0.9123\n",
      "Epoch 5/10\n",
      "945/945 [==============================] - 1s 796us/step - loss: 0.2517 - accuracy: 0.9184\n",
      "Epoch 6/10\n",
      "945/945 [==============================] - 1s 791us/step - loss: 0.2431 - accuracy: 0.9230\n",
      "Epoch 7/10\n",
      "945/945 [==============================] - 1s 795us/step - loss: 0.2375 - accuracy: 0.9240\n",
      "Epoch 8/10\n",
      "945/945 [==============================] - 1s 877us/step - loss: 0.2305 - accuracy: 0.9285\n",
      "Epoch 9/10\n",
      "945/945 [==============================] - 1s 880us/step - loss: 0.2319 - accuracy: 0.9276\n",
      "Epoch 10/10\n",
      "945/945 [==============================] - 1s 866us/step - loss: 0.2268 - accuracy: 0.9314\n",
      "Epoch 1/10\n"
     ]
    },
    {
     "name": "stderr",
     "output_type": "stream",
     "text": [
      "/Users/husni.zuhdi/Documents/Codes/1-Python-Workshop/retention-prediction-demo/retention-prediction/lib/python3.10/site-packages/tensorflow/python/keras/engine/sequential.py:454: UserWarning: `model.predict_classes()` is deprecated and will be removed after 2021-01-01. Please use instead:* `np.argmax(model.predict(x), axis=-1)`,   if your model does multi-class classification   (e.g. if it uses a `softmax` last-layer activation).* `(model.predict(x) > 0.5).astype(\"int32\")`,   if your model does binary classification   (e.g. if it uses a `sigmoid` last-layer activation).\n",
      "  warnings.warn('`model.predict_classes()` is deprecated and '\n"
     ]
    },
    {
     "name": "stdout",
     "output_type": "stream",
     "text": [
      "945/945 [==============================] - 1s 814us/step - loss: 0.4768 - accuracy: 0.7778\n",
      "Epoch 2/10\n",
      "945/945 [==============================] - 1s 810us/step - loss: 0.3383 - accuracy: 0.8095\n",
      "Epoch 3/10\n",
      "945/945 [==============================] - 1s 890us/step - loss: 0.2949 - accuracy: 0.8384\n",
      "Epoch 4/10\n",
      "945/945 [==============================] - 1s 1ms/step - loss: 0.2732 - accuracy: 0.8939\n",
      "Epoch 5/10\n",
      "945/945 [==============================] - 1s 997us/step - loss: 0.2606 - accuracy: 0.9129\n",
      "Epoch 6/10\n",
      "945/945 [==============================] - 1s 988us/step - loss: 0.2543 - accuracy: 0.9150\n",
      "Epoch 7/10\n",
      "945/945 [==============================] - 1s 970us/step - loss: 0.2439 - accuracy: 0.9231\n",
      "Epoch 8/10\n",
      "945/945 [==============================] - 1s 1ms/step - loss: 0.2415 - accuracy: 0.9224\n",
      "Epoch 9/10\n",
      "945/945 [==============================] - 1s 1ms/step - loss: 0.2360 - accuracy: 0.9294\n",
      "Epoch 10/10\n",
      "945/945 [==============================] - 1s 1ms/step - loss: 0.2314 - accuracy: 0.9297\n",
      "Epoch 1/10\n"
     ]
    },
    {
     "name": "stderr",
     "output_type": "stream",
     "text": [
      "/Users/husni.zuhdi/Documents/Codes/1-Python-Workshop/retention-prediction-demo/retention-prediction/lib/python3.10/site-packages/tensorflow/python/keras/engine/sequential.py:454: UserWarning: `model.predict_classes()` is deprecated and will be removed after 2021-01-01. Please use instead:* `np.argmax(model.predict(x), axis=-1)`,   if your model does multi-class classification   (e.g. if it uses a `softmax` last-layer activation).* `(model.predict(x) > 0.5).astype(\"int32\")`,   if your model does binary classification   (e.g. if it uses a `sigmoid` last-layer activation).\n",
      "  warnings.warn('`model.predict_classes()` is deprecated and '\n"
     ]
    },
    {
     "name": "stdout",
     "output_type": "stream",
     "text": [
      "945/945 [==============================] - 2s 1ms/step - loss: 0.4765 - accuracy: 0.7820\n",
      "Epoch 2/10\n",
      "945/945 [==============================] - 1s 1ms/step - loss: 0.3355 - accuracy: 0.8177\n",
      "Epoch 3/10\n",
      "945/945 [==============================] - 1s 1ms/step - loss: 0.2883 - accuracy: 0.8380\n",
      "Epoch 4/10\n",
      "945/945 [==============================] - 1s 1ms/step - loss: 0.2639 - accuracy: 0.8990\n",
      "Epoch 5/10\n",
      "945/945 [==============================] - 1s 1ms/step - loss: 0.2421 - accuracy: 0.9297\n",
      "Epoch 6/10\n",
      "945/945 [==============================] - 1s 985us/step - loss: 0.2374 - accuracy: 0.9294\n",
      "Epoch 7/10\n",
      "945/945 [==============================] - 1s 1ms/step - loss: 0.2247 - accuracy: 0.9304\n",
      "Epoch 8/10\n",
      "945/945 [==============================] - 1s 986us/step - loss: 0.2241 - accuracy: 0.9305\n",
      "Epoch 9/10\n",
      "945/945 [==============================] - 1s 1ms/step - loss: 0.2214 - accuracy: 0.9321\n",
      "Epoch 10/10\n",
      "945/945 [==============================] - 1s 952us/step - loss: 0.2230 - accuracy: 0.9302\n"
     ]
    },
    {
     "name": "stderr",
     "output_type": "stream",
     "text": [
      "/Users/husni.zuhdi/Documents/Codes/1-Python-Workshop/retention-prediction-demo/retention-prediction/lib/python3.10/site-packages/tensorflow/python/keras/engine/sequential.py:454: UserWarning: `model.predict_classes()` is deprecated and will be removed after 2021-01-01. Please use instead:* `np.argmax(model.predict(x), axis=-1)`,   if your model does multi-class classification   (e.g. if it uses a `softmax` last-layer activation).* `(model.predict(x) > 0.5).astype(\"int32\")`,   if your model does binary classification   (e.g. if it uses a `sigmoid` last-layer activation).\n",
      "  warnings.warn('`model.predict_classes()` is deprecated and '\n"
     ]
    },
    {
     "name": "stdout",
     "output_type": "stream",
     "text": [
      "Epoch 1/10\n",
      "945/945 [==============================] - 2s 1ms/step - loss: 0.4667 - accuracy: 0.7642\n",
      "Epoch 2/10\n",
      "945/945 [==============================] - 1s 1ms/step - loss: 0.3487 - accuracy: 0.8068\n",
      "Epoch 3/10\n",
      "945/945 [==============================] - 1s 1ms/step - loss: 0.3143 - accuracy: 0.8755\n",
      "Epoch 4/10\n",
      "945/945 [==============================] - 1s 978us/step - loss: 0.2939 - accuracy: 0.8954\n",
      "Epoch 5/10\n",
      "945/945 [==============================] - 1s 983us/step - loss: 0.2801 - accuracy: 0.9034\n",
      "Epoch 6/10\n",
      "945/945 [==============================] - 1s 1ms/step - loss: 0.2724 - accuracy: 0.9084\n",
      "Epoch 7/10\n",
      "945/945 [==============================] - 1s 1ms/step - loss: 0.2608 - accuracy: 0.9149\n",
      "Epoch 8/10\n",
      "945/945 [==============================] - 1s 1ms/step - loss: 0.2591 - accuracy: 0.9132\n",
      "Epoch 9/10\n",
      "945/945 [==============================] - 1s 1000us/step - loss: 0.2558 - accuracy: 0.9182\n",
      "Epoch 10/10\n",
      "945/945 [==============================] - 1s 1ms/step - loss: 0.2528 - accuracy: 0.9186\n",
      "Epoch 1/10\n"
     ]
    },
    {
     "name": "stderr",
     "output_type": "stream",
     "text": [
      "/Users/husni.zuhdi/Documents/Codes/1-Python-Workshop/retention-prediction-demo/retention-prediction/lib/python3.10/site-packages/tensorflow/python/keras/engine/sequential.py:454: UserWarning: `model.predict_classes()` is deprecated and will be removed after 2021-01-01. Please use instead:* `np.argmax(model.predict(x), axis=-1)`,   if your model does multi-class classification   (e.g. if it uses a `softmax` last-layer activation).* `(model.predict(x) > 0.5).astype(\"int32\")`,   if your model does binary classification   (e.g. if it uses a `sigmoid` last-layer activation).\n",
      "  warnings.warn('`model.predict_classes()` is deprecated and '\n"
     ]
    },
    {
     "name": "stdout",
     "output_type": "stream",
     "text": [
      "945/945 [==============================] - 2s 1ms/step - loss: 0.4717 - accuracy: 0.7774\n",
      "Epoch 2/10\n",
      "945/945 [==============================] - 1s 1ms/step - loss: 0.3330 - accuracy: 0.8179\n",
      "Epoch 3/10\n",
      "945/945 [==============================] - 1s 1ms/step - loss: 0.2867 - accuracy: 0.8450\n",
      "Epoch 4/10\n",
      "945/945 [==============================] - 1s 1ms/step - loss: 0.2647 - accuracy: 0.9133\n",
      "Epoch 5/10\n",
      "945/945 [==============================] - 1s 1ms/step - loss: 0.2476 - accuracy: 0.9228\n",
      "Epoch 6/10\n",
      "945/945 [==============================] - 1s 1ms/step - loss: 0.2433 - accuracy: 0.9239\n",
      "Epoch 7/10\n",
      "945/945 [==============================] - 1s 1ms/step - loss: 0.2404 - accuracy: 0.9239\n",
      "Epoch 8/10\n",
      "945/945 [==============================] - 1s 1ms/step - loss: 0.2343 - accuracy: 0.9243\n",
      "Epoch 9/10\n",
      "945/945 [==============================] - 1s 976us/step - loss: 0.2303 - accuracy: 0.9270\n",
      "Epoch 10/10\n",
      "945/945 [==============================] - 1s 978us/step - loss: 0.2280 - accuracy: 0.9296\n",
      "Epoch 1/10\n"
     ]
    },
    {
     "name": "stderr",
     "output_type": "stream",
     "text": [
      "/Users/husni.zuhdi/Documents/Codes/1-Python-Workshop/retention-prediction-demo/retention-prediction/lib/python3.10/site-packages/tensorflow/python/keras/engine/sequential.py:454: UserWarning: `model.predict_classes()` is deprecated and will be removed after 2021-01-01. Please use instead:* `np.argmax(model.predict(x), axis=-1)`,   if your model does multi-class classification   (e.g. if it uses a `softmax` last-layer activation).* `(model.predict(x) > 0.5).astype(\"int32\")`,   if your model does binary classification   (e.g. if it uses a `sigmoid` last-layer activation).\n",
      "  warnings.warn('`model.predict_classes()` is deprecated and '\n"
     ]
    },
    {
     "name": "stdout",
     "output_type": "stream",
     "text": [
      "945/945 [==============================] - 1s 1ms/step - loss: 0.4694 - accuracy: 0.7882\n",
      "Epoch 2/10\n",
      "945/945 [==============================] - 1s 1ms/step - loss: 0.3264 - accuracy: 0.8282\n",
      "Epoch 3/10\n",
      "945/945 [==============================] - 1s 1ms/step - loss: 0.2939 - accuracy: 0.8359\n",
      "Epoch 4/10\n",
      "945/945 [==============================] - 1s 1ms/step - loss: 0.2712 - accuracy: 0.8609\n",
      "Epoch 5/10\n",
      "945/945 [==============================] - 1s 1ms/step - loss: 0.2596 - accuracy: 0.9092\n",
      "Epoch 6/10\n",
      "945/945 [==============================] - 1s 1ms/step - loss: 0.2493 - accuracy: 0.9160\n",
      "Epoch 7/10\n",
      "945/945 [==============================] - 1s 1ms/step - loss: 0.2387 - accuracy: 0.9230\n",
      "Epoch 8/10\n",
      "945/945 [==============================] - 1s 1ms/step - loss: 0.2418 - accuracy: 0.9243\n",
      "Epoch 9/10\n",
      "945/945 [==============================] - 1s 1ms/step - loss: 0.2327 - accuracy: 0.9299\n",
      "Epoch 10/10\n",
      "945/945 [==============================] - 1s 1ms/step - loss: 0.2273 - accuracy: 0.9291\n",
      "Epoch 1/10\n"
     ]
    },
    {
     "name": "stderr",
     "output_type": "stream",
     "text": [
      "/Users/husni.zuhdi/Documents/Codes/1-Python-Workshop/retention-prediction-demo/retention-prediction/lib/python3.10/site-packages/tensorflow/python/keras/engine/sequential.py:454: UserWarning: `model.predict_classes()` is deprecated and will be removed after 2021-01-01. Please use instead:* `np.argmax(model.predict(x), axis=-1)`,   if your model does multi-class classification   (e.g. if it uses a `softmax` last-layer activation).* `(model.predict(x) > 0.5).astype(\"int32\")`,   if your model does binary classification   (e.g. if it uses a `sigmoid` last-layer activation).\n",
      "  warnings.warn('`model.predict_classes()` is deprecated and '\n"
     ]
    },
    {
     "name": "stdout",
     "output_type": "stream",
     "text": [
      "945/945 [==============================] - 2s 1ms/step - loss: 0.4741 - accuracy: 0.7754\n",
      "Epoch 2/10\n",
      "945/945 [==============================] - 1s 1ms/step - loss: 0.3308 - accuracy: 0.8213\n",
      "Epoch 3/10\n",
      "945/945 [==============================] - 1s 1ms/step - loss: 0.2898 - accuracy: 0.8522\n",
      "Epoch 4/10\n",
      "945/945 [==============================] - 1s 1ms/step - loss: 0.2656 - accuracy: 0.8971\n",
      "Epoch 5/10\n",
      "945/945 [==============================] - 1s 1ms/step - loss: 0.2563 - accuracy: 0.9091\n",
      "Epoch 6/10\n",
      "945/945 [==============================] - 1s 1ms/step - loss: 0.2535 - accuracy: 0.9091\n",
      "Epoch 7/10\n",
      "945/945 [==============================] - 1s 1ms/step - loss: 0.2491 - accuracy: 0.9123\n",
      "Epoch 8/10\n",
      "945/945 [==============================] - 1s 1ms/step - loss: 0.2426 - accuracy: 0.9153\n",
      "Epoch 9/10\n",
      "945/945 [==============================] - 1s 1ms/step - loss: 0.2359 - accuracy: 0.9191\n",
      "Epoch 10/10\n",
      "945/945 [==============================] - 1s 1ms/step - loss: 0.2325 - accuracy: 0.9217\n",
      "Epoch 1/10\n"
     ]
    },
    {
     "name": "stderr",
     "output_type": "stream",
     "text": [
      "/Users/husni.zuhdi/Documents/Codes/1-Python-Workshop/retention-prediction-demo/retention-prediction/lib/python3.10/site-packages/tensorflow/python/keras/engine/sequential.py:454: UserWarning: `model.predict_classes()` is deprecated and will be removed after 2021-01-01. Please use instead:* `np.argmax(model.predict(x), axis=-1)`,   if your model does multi-class classification   (e.g. if it uses a `softmax` last-layer activation).* `(model.predict(x) > 0.5).astype(\"int32\")`,   if your model does binary classification   (e.g. if it uses a `sigmoid` last-layer activation).\n",
      "  warnings.warn('`model.predict_classes()` is deprecated and '\n"
     ]
    },
    {
     "name": "stdout",
     "output_type": "stream",
     "text": [
      "945/945 [==============================] - 1s 997us/step - loss: 0.4907 - accuracy: 0.7757\n",
      "Epoch 2/10\n",
      "945/945 [==============================] - 1s 981us/step - loss: 0.3486 - accuracy: 0.8084\n",
      "Epoch 3/10\n",
      "945/945 [==============================] - 1s 1ms/step - loss: 0.3003 - accuracy: 0.8315\n",
      "Epoch 4/10\n",
      "945/945 [==============================] - 1s 1ms/step - loss: 0.2712 - accuracy: 0.8923\n",
      "Epoch 5/10\n",
      "945/945 [==============================] - 1s 990us/step - loss: 0.2573 - accuracy: 0.9119\n",
      "Epoch 6/10\n",
      "945/945 [==============================] - 1s 993us/step - loss: 0.2491 - accuracy: 0.9206\n",
      "Epoch 7/10\n",
      "945/945 [==============================] - 1s 963us/step - loss: 0.2370 - accuracy: 0.9259\n",
      "Epoch 8/10\n",
      "945/945 [==============================] - 1s 1ms/step - loss: 0.2325 - accuracy: 0.9258\n",
      "Epoch 9/10\n",
      "945/945 [==============================] - 1s 1ms/step - loss: 0.2334 - accuracy: 0.9284\n",
      "Epoch 10/10\n",
      "945/945 [==============================] - 1s 1ms/step - loss: 0.2315 - accuracy: 0.9280\n"
     ]
    },
    {
     "name": "stderr",
     "output_type": "stream",
     "text": [
      "/Users/husni.zuhdi/Documents/Codes/1-Python-Workshop/retention-prediction-demo/retention-prediction/lib/python3.10/site-packages/tensorflow/python/keras/engine/sequential.py:454: UserWarning: `model.predict_classes()` is deprecated and will be removed after 2021-01-01. Please use instead:* `np.argmax(model.predict(x), axis=-1)`,   if your model does multi-class classification   (e.g. if it uses a `softmax` last-layer activation).* `(model.predict(x) > 0.5).astype(\"int32\")`,   if your model does binary classification   (e.g. if it uses a `sigmoid` last-layer activation).\n",
      "  warnings.warn('`model.predict_classes()` is deprecated and '\n"
     ]
    },
    {
     "name": "stdout",
     "output_type": "stream",
     "text": [
      "Epoch 1/10\n",
      "945/945 [==============================] - 1s 1ms/step - loss: 0.4730 - accuracy: 0.7765\n",
      "Epoch 2/10\n",
      "945/945 [==============================] - 1s 1ms/step - loss: 0.3389 - accuracy: 0.8126\n",
      "Epoch 3/10\n",
      "945/945 [==============================] - 1s 1ms/step - loss: 0.2960 - accuracy: 0.8392\n",
      "Epoch 4/10\n",
      "945/945 [==============================] - 1s 1ms/step - loss: 0.2659 - accuracy: 0.9017\n",
      "Epoch 5/10\n",
      "945/945 [==============================] - 1s 976us/step - loss: 0.2510 - accuracy: 0.9216\n",
      "Epoch 6/10\n",
      "945/945 [==============================] - 1s 1ms/step - loss: 0.2423 - accuracy: 0.9230\n",
      "Epoch 7/10\n",
      "945/945 [==============================] - 1s 981us/step - loss: 0.2372 - accuracy: 0.9256\n",
      "Epoch 8/10\n",
      "945/945 [==============================] - 1s 1ms/step - loss: 0.2291 - accuracy: 0.9293\n",
      "Epoch 9/10\n",
      "945/945 [==============================] - 1s 992us/step - loss: 0.2312 - accuracy: 0.9302\n",
      "Epoch 10/10\n",
      "945/945 [==============================] - 1s 1ms/step - loss: 0.2245 - accuracy: 0.9320\n",
      "Epoch 1/10\n"
     ]
    },
    {
     "name": "stderr",
     "output_type": "stream",
     "text": [
      "/Users/husni.zuhdi/Documents/Codes/1-Python-Workshop/retention-prediction-demo/retention-prediction/lib/python3.10/site-packages/tensorflow/python/keras/engine/sequential.py:454: UserWarning: `model.predict_classes()` is deprecated and will be removed after 2021-01-01. Please use instead:* `np.argmax(model.predict(x), axis=-1)`,   if your model does multi-class classification   (e.g. if it uses a `softmax` last-layer activation).* `(model.predict(x) > 0.5).astype(\"int32\")`,   if your model does binary classification   (e.g. if it uses a `sigmoid` last-layer activation).\n",
      "  warnings.warn('`model.predict_classes()` is deprecated and '\n"
     ]
    },
    {
     "name": "stdout",
     "output_type": "stream",
     "text": [
      "945/945 [==============================] - 1s 1ms/step - loss: 0.4750 - accuracy: 0.7899\n",
      "Epoch 2/10\n",
      "945/945 [==============================] - 1s 882us/step - loss: 0.2947 - accuracy: 0.8885\n",
      "Epoch 3/10\n",
      "945/945 [==============================] - 1s 922us/step - loss: 0.2339 - accuracy: 0.9152\n",
      "Epoch 4/10\n",
      "945/945 [==============================] - 1s 960us/step - loss: 0.2160 - accuracy: 0.9249\n",
      "Epoch 5/10\n",
      "945/945 [==============================] - 1s 894us/step - loss: 0.2041 - accuracy: 0.9310\n",
      "Epoch 6/10\n",
      "945/945 [==============================] - 1s 1ms/step - loss: 0.2009 - accuracy: 0.9338\n",
      "Epoch 7/10\n",
      "945/945 [==============================] - 1s 1ms/step - loss: 0.2018 - accuracy: 0.9335\n",
      "Epoch 8/10\n",
      "945/945 [==============================] - 1s 981us/step - loss: 0.1971 - accuracy: 0.9351\n",
      "Epoch 9/10\n",
      "945/945 [==============================] - 1s 2ms/step - loss: 0.1967 - accuracy: 0.9382\n",
      "Epoch 10/10\n",
      "945/945 [==============================] - 1s 953us/step - loss: 0.1968 - accuracy: 0.9382\n",
      "Epoch 1/2\n"
     ]
    },
    {
     "name": "stderr",
     "output_type": "stream",
     "text": [
      "/Users/husni.zuhdi/Documents/Codes/1-Python-Workshop/retention-prediction-demo/retention-prediction/lib/python3.10/site-packages/tensorflow/python/keras/engine/sequential.py:454: UserWarning: `model.predict_classes()` is deprecated and will be removed after 2021-01-01. Please use instead:* `np.argmax(model.predict(x), axis=-1)`,   if your model does multi-class classification   (e.g. if it uses a `softmax` last-layer activation).* `(model.predict(x) > 0.5).astype(\"int32\")`,   if your model does binary classification   (e.g. if it uses a `sigmoid` last-layer activation).\n",
      "  warnings.warn('`model.predict_classes()` is deprecated and '\n"
     ]
    },
    {
     "name": "stdout",
     "output_type": "stream",
     "text": [
      "473/473 [==============================] - 1s 1ms/step - loss: 0.5125 - accuracy: 0.7726\n",
      "Epoch 2/2\n",
      "473/473 [==============================] - 0s 1ms/step - loss: 0.3375 - accuracy: 0.8537\n",
      "Epoch 1/2\n"
     ]
    },
    {
     "name": "stderr",
     "output_type": "stream",
     "text": [
      "/Users/husni.zuhdi/Documents/Codes/1-Python-Workshop/retention-prediction-demo/retention-prediction/lib/python3.10/site-packages/tensorflow/python/keras/engine/sequential.py:454: UserWarning: `model.predict_classes()` is deprecated and will be removed after 2021-01-01. Please use instead:* `np.argmax(model.predict(x), axis=-1)`,   if your model does multi-class classification   (e.g. if it uses a `softmax` last-layer activation).* `(model.predict(x) > 0.5).astype(\"int32\")`,   if your model does binary classification   (e.g. if it uses a `sigmoid` last-layer activation).\n",
      "  warnings.warn('`model.predict_classes()` is deprecated and '\n"
     ]
    },
    {
     "name": "stdout",
     "output_type": "stream",
     "text": [
      "473/473 [==============================] - 1s 1ms/step - loss: 0.5160 - accuracy: 0.7937\n",
      "Epoch 2/2\n",
      "473/473 [==============================] - 1s 1ms/step - loss: 0.3233 - accuracy: 0.8709\n",
      "Epoch 1/2\n"
     ]
    },
    {
     "name": "stderr",
     "output_type": "stream",
     "text": [
      "/Users/husni.zuhdi/Documents/Codes/1-Python-Workshop/retention-prediction-demo/retention-prediction/lib/python3.10/site-packages/tensorflow/python/keras/engine/sequential.py:454: UserWarning: `model.predict_classes()` is deprecated and will be removed after 2021-01-01. Please use instead:* `np.argmax(model.predict(x), axis=-1)`,   if your model does multi-class classification   (e.g. if it uses a `softmax` last-layer activation).* `(model.predict(x) > 0.5).astype(\"int32\")`,   if your model does binary classification   (e.g. if it uses a `sigmoid` last-layer activation).\n",
      "  warnings.warn('`model.predict_classes()` is deprecated and '\n"
     ]
    },
    {
     "name": "stdout",
     "output_type": "stream",
     "text": [
      "473/473 [==============================] - 1s 1ms/step - loss: 0.5083 - accuracy: 0.7754\n",
      "Epoch 2/2\n",
      "473/473 [==============================] - 0s 971us/step - loss: 0.3466 - accuracy: 0.8261\n",
      "Epoch 1/2\n"
     ]
    },
    {
     "name": "stderr",
     "output_type": "stream",
     "text": [
      "/Users/husni.zuhdi/Documents/Codes/1-Python-Workshop/retention-prediction-demo/retention-prediction/lib/python3.10/site-packages/tensorflow/python/keras/engine/sequential.py:454: UserWarning: `model.predict_classes()` is deprecated and will be removed after 2021-01-01. Please use instead:* `np.argmax(model.predict(x), axis=-1)`,   if your model does multi-class classification   (e.g. if it uses a `softmax` last-layer activation).* `(model.predict(x) > 0.5).astype(\"int32\")`,   if your model does binary classification   (e.g. if it uses a `sigmoid` last-layer activation).\n",
      "  warnings.warn('`model.predict_classes()` is deprecated and '\n"
     ]
    },
    {
     "name": "stdout",
     "output_type": "stream",
     "text": [
      "473/473 [==============================] - 1s 936us/step - loss: 0.5119 - accuracy: 0.7622\n",
      "Epoch 2/2\n",
      "473/473 [==============================] - 0s 1ms/step - loss: 0.3665 - accuracy: 0.7643\n",
      "Epoch 1/2\n"
     ]
    },
    {
     "name": "stderr",
     "output_type": "stream",
     "text": [
      "/Users/husni.zuhdi/Documents/Codes/1-Python-Workshop/retention-prediction-demo/retention-prediction/lib/python3.10/site-packages/tensorflow/python/keras/engine/sequential.py:454: UserWarning: `model.predict_classes()` is deprecated and will be removed after 2021-01-01. Please use instead:* `np.argmax(model.predict(x), axis=-1)`,   if your model does multi-class classification   (e.g. if it uses a `softmax` last-layer activation).* `(model.predict(x) > 0.5).astype(\"int32\")`,   if your model does binary classification   (e.g. if it uses a `sigmoid` last-layer activation).\n",
      "  warnings.warn('`model.predict_classes()` is deprecated and '\n"
     ]
    },
    {
     "name": "stdout",
     "output_type": "stream",
     "text": [
      "473/473 [==============================] - 1s 1ms/step - loss: 0.5179 - accuracy: 0.7802\n",
      "Epoch 2/2\n",
      "473/473 [==============================] - 0s 934us/step - loss: 0.3224 - accuracy: 0.8657\n",
      "Epoch 1/2\n"
     ]
    },
    {
     "name": "stderr",
     "output_type": "stream",
     "text": [
      "/Users/husni.zuhdi/Documents/Codes/1-Python-Workshop/retention-prediction-demo/retention-prediction/lib/python3.10/site-packages/tensorflow/python/keras/engine/sequential.py:454: UserWarning: `model.predict_classes()` is deprecated and will be removed after 2021-01-01. Please use instead:* `np.argmax(model.predict(x), axis=-1)`,   if your model does multi-class classification   (e.g. if it uses a `softmax` last-layer activation).* `(model.predict(x) > 0.5).astype(\"int32\")`,   if your model does binary classification   (e.g. if it uses a `sigmoid` last-layer activation).\n",
      "  warnings.warn('`model.predict_classes()` is deprecated and '\n"
     ]
    },
    {
     "name": "stdout",
     "output_type": "stream",
     "text": [
      "473/473 [==============================] - 1s 937us/step - loss: 0.5080 - accuracy: 0.7713\n",
      "Epoch 2/2\n",
      "473/473 [==============================] - 0s 924us/step - loss: 0.3506 - accuracy: 0.8101\n"
     ]
    },
    {
     "name": "stderr",
     "output_type": "stream",
     "text": [
      "/Users/husni.zuhdi/Documents/Codes/1-Python-Workshop/retention-prediction-demo/retention-prediction/lib/python3.10/site-packages/tensorflow/python/keras/engine/sequential.py:454: UserWarning: `model.predict_classes()` is deprecated and will be removed after 2021-01-01. Please use instead:* `np.argmax(model.predict(x), axis=-1)`,   if your model does multi-class classification   (e.g. if it uses a `softmax` last-layer activation).* `(model.predict(x) > 0.5).astype(\"int32\")`,   if your model does binary classification   (e.g. if it uses a `sigmoid` last-layer activation).\n",
      "  warnings.warn('`model.predict_classes()` is deprecated and '\n"
     ]
    },
    {
     "name": "stdout",
     "output_type": "stream",
     "text": [
      "Epoch 1/2\n",
      "473/473 [==============================] - 1s 942us/step - loss: 0.5014 - accuracy: 0.7855\n",
      "Epoch 2/2\n",
      "473/473 [==============================] - 0s 991us/step - loss: 0.3106 - accuracy: 0.8737\n",
      "Epoch 1/2\n"
     ]
    },
    {
     "name": "stderr",
     "output_type": "stream",
     "text": [
      "/Users/husni.zuhdi/Documents/Codes/1-Python-Workshop/retention-prediction-demo/retention-prediction/lib/python3.10/site-packages/tensorflow/python/keras/engine/sequential.py:454: UserWarning: `model.predict_classes()` is deprecated and will be removed after 2021-01-01. Please use instead:* `np.argmax(model.predict(x), axis=-1)`,   if your model does multi-class classification   (e.g. if it uses a `softmax` last-layer activation).* `(model.predict(x) > 0.5).astype(\"int32\")`,   if your model does binary classification   (e.g. if it uses a `sigmoid` last-layer activation).\n",
      "  warnings.warn('`model.predict_classes()` is deprecated and '\n"
     ]
    },
    {
     "name": "stdout",
     "output_type": "stream",
     "text": [
      "473/473 [==============================] - 1s 1ms/step - loss: 0.5058 - accuracy: 0.7775\n",
      "Epoch 2/2\n",
      "473/473 [==============================] - 0s 1ms/step - loss: 0.3456 - accuracy: 0.8060\n",
      "Epoch 1/2\n"
     ]
    },
    {
     "name": "stderr",
     "output_type": "stream",
     "text": [
      "/Users/husni.zuhdi/Documents/Codes/1-Python-Workshop/retention-prediction-demo/retention-prediction/lib/python3.10/site-packages/tensorflow/python/keras/engine/sequential.py:454: UserWarning: `model.predict_classes()` is deprecated and will be removed after 2021-01-01. Please use instead:* `np.argmax(model.predict(x), axis=-1)`,   if your model does multi-class classification   (e.g. if it uses a `softmax` last-layer activation).* `(model.predict(x) > 0.5).astype(\"int32\")`,   if your model does binary classification   (e.g. if it uses a `sigmoid` last-layer activation).\n",
      "  warnings.warn('`model.predict_classes()` is deprecated and '\n"
     ]
    },
    {
     "name": "stdout",
     "output_type": "stream",
     "text": [
      "473/473 [==============================] - 1s 1ms/step - loss: 0.5131 - accuracy: 0.7769\n",
      "Epoch 2/2\n",
      "473/473 [==============================] - 0s 934us/step - loss: 0.3387 - accuracy: 0.8519\n",
      "Epoch 1/2\n"
     ]
    },
    {
     "name": "stderr",
     "output_type": "stream",
     "text": [
      "/Users/husni.zuhdi/Documents/Codes/1-Python-Workshop/retention-prediction-demo/retention-prediction/lib/python3.10/site-packages/tensorflow/python/keras/engine/sequential.py:454: UserWarning: `model.predict_classes()` is deprecated and will be removed after 2021-01-01. Please use instead:* `np.argmax(model.predict(x), axis=-1)`,   if your model does multi-class classification   (e.g. if it uses a `softmax` last-layer activation).* `(model.predict(x) > 0.5).astype(\"int32\")`,   if your model does binary classification   (e.g. if it uses a `sigmoid` last-layer activation).\n",
      "  warnings.warn('`model.predict_classes()` is deprecated and '\n"
     ]
    },
    {
     "name": "stdout",
     "output_type": "stream",
     "text": [
      "473/473 [==============================] - 1s 979us/step - loss: 0.5022 - accuracy: 0.7728\n",
      "Epoch 2/2\n",
      "473/473 [==============================] - 1s 1ms/step - loss: 0.3441 - accuracy: 0.8235\n",
      "Epoch 1/2\n"
     ]
    },
    {
     "name": "stderr",
     "output_type": "stream",
     "text": [
      "/Users/husni.zuhdi/Documents/Codes/1-Python-Workshop/retention-prediction-demo/retention-prediction/lib/python3.10/site-packages/tensorflow/python/keras/engine/sequential.py:454: UserWarning: `model.predict_classes()` is deprecated and will be removed after 2021-01-01. Please use instead:* `np.argmax(model.predict(x), axis=-1)`,   if your model does multi-class classification   (e.g. if it uses a `softmax` last-layer activation).* `(model.predict(x) > 0.5).astype(\"int32\")`,   if your model does binary classification   (e.g. if it uses a `sigmoid` last-layer activation).\n",
      "  warnings.warn('`model.predict_classes()` is deprecated and '\n"
     ]
    },
    {
     "name": "stdout",
     "output_type": "stream",
     "text": [
      "473/473 [==============================] - 1s 1ms/step - loss: 0.5279 - accuracy: 0.7782\n",
      "Epoch 2/2\n",
      "473/473 [==============================] - 0s 994us/step - loss: 0.3679 - accuracy: 0.8127\n",
      "Epoch 1/2\n"
     ]
    },
    {
     "name": "stderr",
     "output_type": "stream",
     "text": [
      "/Users/husni.zuhdi/Documents/Codes/1-Python-Workshop/retention-prediction-demo/retention-prediction/lib/python3.10/site-packages/tensorflow/python/keras/engine/sequential.py:454: UserWarning: `model.predict_classes()` is deprecated and will be removed after 2021-01-01. Please use instead:* `np.argmax(model.predict(x), axis=-1)`,   if your model does multi-class classification   (e.g. if it uses a `softmax` last-layer activation).* `(model.predict(x) > 0.5).astype(\"int32\")`,   if your model does binary classification   (e.g. if it uses a `sigmoid` last-layer activation).\n",
      "  warnings.warn('`model.predict_classes()` is deprecated and '\n"
     ]
    },
    {
     "name": "stdout",
     "output_type": "stream",
     "text": [
      "473/473 [==============================] - 1s 891us/step - loss: 0.5277 - accuracy: 0.7774\n",
      "Epoch 2/2\n",
      "473/473 [==============================] - 0s 850us/step - loss: 0.3441 - accuracy: 0.8479\n",
      "Epoch 1/2\n"
     ]
    },
    {
     "name": "stderr",
     "output_type": "stream",
     "text": [
      "/Users/husni.zuhdi/Documents/Codes/1-Python-Workshop/retention-prediction-demo/retention-prediction/lib/python3.10/site-packages/tensorflow/python/keras/engine/sequential.py:454: UserWarning: `model.predict_classes()` is deprecated and will be removed after 2021-01-01. Please use instead:* `np.argmax(model.predict(x), axis=-1)`,   if your model does multi-class classification   (e.g. if it uses a `softmax` last-layer activation).* `(model.predict(x) > 0.5).astype(\"int32\")`,   if your model does binary classification   (e.g. if it uses a `sigmoid` last-layer activation).\n",
      "  warnings.warn('`model.predict_classes()` is deprecated and '\n"
     ]
    },
    {
     "name": "stdout",
     "output_type": "stream",
     "text": [
      "473/473 [==============================] - 1s 951us/step - loss: 0.5307 - accuracy: 0.7692\n",
      "Epoch 2/2\n",
      "473/473 [==============================] - 0s 828us/step - loss: 0.3653 - accuracy: 0.8198\n",
      "Epoch 1/2\n"
     ]
    },
    {
     "name": "stderr",
     "output_type": "stream",
     "text": [
      "/Users/husni.zuhdi/Documents/Codes/1-Python-Workshop/retention-prediction-demo/retention-prediction/lib/python3.10/site-packages/tensorflow/python/keras/engine/sequential.py:454: UserWarning: `model.predict_classes()` is deprecated and will be removed after 2021-01-01. Please use instead:* `np.argmax(model.predict(x), axis=-1)`,   if your model does multi-class classification   (e.g. if it uses a `softmax` last-layer activation).* `(model.predict(x) > 0.5).astype(\"int32\")`,   if your model does binary classification   (e.g. if it uses a `sigmoid` last-layer activation).\n",
      "  warnings.warn('`model.predict_classes()` is deprecated and '\n"
     ]
    },
    {
     "name": "stdout",
     "output_type": "stream",
     "text": [
      "473/473 [==============================] - 1s 1ms/step - loss: 0.5383 - accuracy: 0.7839\n",
      "Epoch 2/2\n",
      "473/473 [==============================] - 0s 833us/step - loss: 0.3743 - accuracy: 0.8061\n",
      "Epoch 1/2\n"
     ]
    },
    {
     "name": "stderr",
     "output_type": "stream",
     "text": [
      "/Users/husni.zuhdi/Documents/Codes/1-Python-Workshop/retention-prediction-demo/retention-prediction/lib/python3.10/site-packages/tensorflow/python/keras/engine/sequential.py:454: UserWarning: `model.predict_classes()` is deprecated and will be removed after 2021-01-01. Please use instead:* `np.argmax(model.predict(x), axis=-1)`,   if your model does multi-class classification   (e.g. if it uses a `softmax` last-layer activation).* `(model.predict(x) > 0.5).astype(\"int32\")`,   if your model does binary classification   (e.g. if it uses a `sigmoid` last-layer activation).\n",
      "  warnings.warn('`model.predict_classes()` is deprecated and '\n"
     ]
    },
    {
     "name": "stdout",
     "output_type": "stream",
     "text": [
      "473/473 [==============================] - 1s 2ms/step - loss: 0.5325 - accuracy: 0.7768\n",
      "Epoch 2/2\n",
      "473/473 [==============================] - 1s 1ms/step - loss: 0.3723 - accuracy: 0.8029\n",
      "Epoch 1/2\n"
     ]
    },
    {
     "name": "stderr",
     "output_type": "stream",
     "text": [
      "/Users/husni.zuhdi/Documents/Codes/1-Python-Workshop/retention-prediction-demo/retention-prediction/lib/python3.10/site-packages/tensorflow/python/keras/engine/sequential.py:454: UserWarning: `model.predict_classes()` is deprecated and will be removed after 2021-01-01. Please use instead:* `np.argmax(model.predict(x), axis=-1)`,   if your model does multi-class classification   (e.g. if it uses a `softmax` last-layer activation).* `(model.predict(x) > 0.5).astype(\"int32\")`,   if your model does binary classification   (e.g. if it uses a `sigmoid` last-layer activation).\n",
      "  warnings.warn('`model.predict_classes()` is deprecated and '\n"
     ]
    },
    {
     "name": "stdout",
     "output_type": "stream",
     "text": [
      "473/473 [==============================] - 1s 1ms/step - loss: 0.5273 - accuracy: 0.7621\n",
      "Epoch 2/2\n",
      "473/473 [==============================] - 1s 1ms/step - loss: 0.3744 - accuracy: 0.8099\n"
     ]
    },
    {
     "name": "stderr",
     "output_type": "stream",
     "text": [
      "/Users/husni.zuhdi/Documents/Codes/1-Python-Workshop/retention-prediction-demo/retention-prediction/lib/python3.10/site-packages/tensorflow/python/keras/engine/sequential.py:454: UserWarning: `model.predict_classes()` is deprecated and will be removed after 2021-01-01. Please use instead:* `np.argmax(model.predict(x), axis=-1)`,   if your model does multi-class classification   (e.g. if it uses a `softmax` last-layer activation).* `(model.predict(x) > 0.5).astype(\"int32\")`,   if your model does binary classification   (e.g. if it uses a `sigmoid` last-layer activation).\n",
      "  warnings.warn('`model.predict_classes()` is deprecated and '\n"
     ]
    },
    {
     "name": "stdout",
     "output_type": "stream",
     "text": [
      "Epoch 1/2\n",
      "473/473 [==============================] - 1s 1ms/step - loss: 0.5178 - accuracy: 0.7679\n",
      "Epoch 2/2\n",
      "473/473 [==============================] - 0s 1ms/step - loss: 0.3605 - accuracy: 0.8191\n",
      "Epoch 1/2\n"
     ]
    },
    {
     "name": "stderr",
     "output_type": "stream",
     "text": [
      "/Users/husni.zuhdi/Documents/Codes/1-Python-Workshop/retention-prediction-demo/retention-prediction/lib/python3.10/site-packages/tensorflow/python/keras/engine/sequential.py:454: UserWarning: `model.predict_classes()` is deprecated and will be removed after 2021-01-01. Please use instead:* `np.argmax(model.predict(x), axis=-1)`,   if your model does multi-class classification   (e.g. if it uses a `softmax` last-layer activation).* `(model.predict(x) > 0.5).astype(\"int32\")`,   if your model does binary classification   (e.g. if it uses a `sigmoid` last-layer activation).\n",
      "  warnings.warn('`model.predict_classes()` is deprecated and '\n"
     ]
    },
    {
     "name": "stdout",
     "output_type": "stream",
     "text": [
      "473/473 [==============================] - 1s 1ms/step - loss: 0.5214 - accuracy: 0.7630\n",
      "Epoch 2/2\n",
      "473/473 [==============================] - 1s 1ms/step - loss: 0.3875 - accuracy: 0.7630\n",
      "Epoch 1/2\n"
     ]
    },
    {
     "name": "stderr",
     "output_type": "stream",
     "text": [
      "/Users/husni.zuhdi/Documents/Codes/1-Python-Workshop/retention-prediction-demo/retention-prediction/lib/python3.10/site-packages/tensorflow/python/keras/engine/sequential.py:454: UserWarning: `model.predict_classes()` is deprecated and will be removed after 2021-01-01. Please use instead:* `np.argmax(model.predict(x), axis=-1)`,   if your model does multi-class classification   (e.g. if it uses a `softmax` last-layer activation).* `(model.predict(x) > 0.5).astype(\"int32\")`,   if your model does binary classification   (e.g. if it uses a `sigmoid` last-layer activation).\n",
      "  warnings.warn('`model.predict_classes()` is deprecated and '\n"
     ]
    },
    {
     "name": "stdout",
     "output_type": "stream",
     "text": [
      "473/473 [==============================] - 1s 1ms/step - loss: 0.5428 - accuracy: 0.7756\n",
      "Epoch 2/2\n",
      "473/473 [==============================] - 1s 1ms/step - loss: 0.3543 - accuracy: 0.8456\n",
      "Epoch 1/2\n"
     ]
    },
    {
     "name": "stderr",
     "output_type": "stream",
     "text": [
      "/Users/husni.zuhdi/Documents/Codes/1-Python-Workshop/retention-prediction-demo/retention-prediction/lib/python3.10/site-packages/tensorflow/python/keras/engine/sequential.py:454: UserWarning: `model.predict_classes()` is deprecated and will be removed after 2021-01-01. Please use instead:* `np.argmax(model.predict(x), axis=-1)`,   if your model does multi-class classification   (e.g. if it uses a `softmax` last-layer activation).* `(model.predict(x) > 0.5).astype(\"int32\")`,   if your model does binary classification   (e.g. if it uses a `sigmoid` last-layer activation).\n",
      "  warnings.warn('`model.predict_classes()` is deprecated and '\n"
     ]
    },
    {
     "name": "stdout",
     "output_type": "stream",
     "text": [
      "473/473 [==============================] - 1s 1ms/step - loss: 0.5241 - accuracy: 0.7641\n",
      "Epoch 2/2\n",
      "473/473 [==============================] - 1s 1ms/step - loss: 0.3884 - accuracy: 0.7644\n",
      "Epoch 1/4\n"
     ]
    },
    {
     "name": "stderr",
     "output_type": "stream",
     "text": [
      "/Users/husni.zuhdi/Documents/Codes/1-Python-Workshop/retention-prediction-demo/retention-prediction/lib/python3.10/site-packages/tensorflow/python/keras/engine/sequential.py:454: UserWarning: `model.predict_classes()` is deprecated and will be removed after 2021-01-01. Please use instead:* `np.argmax(model.predict(x), axis=-1)`,   if your model does multi-class classification   (e.g. if it uses a `softmax` last-layer activation).* `(model.predict(x) > 0.5).astype(\"int32\")`,   if your model does binary classification   (e.g. if it uses a `sigmoid` last-layer activation).\n",
      "  warnings.warn('`model.predict_classes()` is deprecated and '\n"
     ]
    },
    {
     "name": "stdout",
     "output_type": "stream",
     "text": [
      "473/473 [==============================] - 1s 1ms/step - loss: 0.5035 - accuracy: 0.7867\n",
      "Epoch 2/4\n",
      "473/473 [==============================] - 1s 1ms/step - loss: 0.3374 - accuracy: 0.8214\n",
      "Epoch 3/4\n",
      "473/473 [==============================] - 1s 1ms/step - loss: 0.2839 - accuracy: 0.8432\n",
      "Epoch 4/4\n",
      "473/473 [==============================] - 1s 1ms/step - loss: 0.2567 - accuracy: 0.8533\n",
      "Epoch 1/4\n"
     ]
    },
    {
     "name": "stderr",
     "output_type": "stream",
     "text": [
      "/Users/husni.zuhdi/Documents/Codes/1-Python-Workshop/retention-prediction-demo/retention-prediction/lib/python3.10/site-packages/tensorflow/python/keras/engine/sequential.py:454: UserWarning: `model.predict_classes()` is deprecated and will be removed after 2021-01-01. Please use instead:* `np.argmax(model.predict(x), axis=-1)`,   if your model does multi-class classification   (e.g. if it uses a `softmax` last-layer activation).* `(model.predict(x) > 0.5).astype(\"int32\")`,   if your model does binary classification   (e.g. if it uses a `sigmoid` last-layer activation).\n",
      "  warnings.warn('`model.predict_classes()` is deprecated and '\n"
     ]
    },
    {
     "name": "stdout",
     "output_type": "stream",
     "text": [
      "473/473 [==============================] - 1s 1ms/step - loss: 0.5104 - accuracy: 0.7739\n",
      "Epoch 2/4\n",
      "473/473 [==============================] - 1s 1ms/step - loss: 0.3391 - accuracy: 0.8254\n",
      "Epoch 3/4\n",
      "473/473 [==============================] - 1s 2ms/step - loss: 0.2937 - accuracy: 0.8335\n",
      "Epoch 4/4\n",
      "473/473 [==============================] - 1s 1ms/step - loss: 0.2728 - accuracy: 0.8472\n",
      "Epoch 1/4\n"
     ]
    },
    {
     "name": "stderr",
     "output_type": "stream",
     "text": [
      "/Users/husni.zuhdi/Documents/Codes/1-Python-Workshop/retention-prediction-demo/retention-prediction/lib/python3.10/site-packages/tensorflow/python/keras/engine/sequential.py:454: UserWarning: `model.predict_classes()` is deprecated and will be removed after 2021-01-01. Please use instead:* `np.argmax(model.predict(x), axis=-1)`,   if your model does multi-class classification   (e.g. if it uses a `softmax` last-layer activation).* `(model.predict(x) > 0.5).astype(\"int32\")`,   if your model does binary classification   (e.g. if it uses a `sigmoid` last-layer activation).\n",
      "  warnings.warn('`model.predict_classes()` is deprecated and '\n"
     ]
    },
    {
     "name": "stdout",
     "output_type": "stream",
     "text": [
      "473/473 [==============================] - 1s 1ms/step - loss: 0.5114 - accuracy: 0.7688\n",
      "Epoch 2/4\n",
      "473/473 [==============================] - 1s 1ms/step - loss: 0.3575 - accuracy: 0.8216\n",
      "Epoch 3/4\n",
      "473/473 [==============================] - 1s 1ms/step - loss: 0.3118 - accuracy: 0.8264\n",
      "Epoch 4/4\n",
      "473/473 [==============================] - 1s 1ms/step - loss: 0.2840 - accuracy: 0.8453\n",
      "Epoch 1/4\n"
     ]
    },
    {
     "name": "stderr",
     "output_type": "stream",
     "text": [
      "/Users/husni.zuhdi/Documents/Codes/1-Python-Workshop/retention-prediction-demo/retention-prediction/lib/python3.10/site-packages/tensorflow/python/keras/engine/sequential.py:454: UserWarning: `model.predict_classes()` is deprecated and will be removed after 2021-01-01. Please use instead:* `np.argmax(model.predict(x), axis=-1)`,   if your model does multi-class classification   (e.g. if it uses a `softmax` last-layer activation).* `(model.predict(x) > 0.5).astype(\"int32\")`,   if your model does binary classification   (e.g. if it uses a `sigmoid` last-layer activation).\n",
      "  warnings.warn('`model.predict_classes()` is deprecated and '\n"
     ]
    },
    {
     "name": "stdout",
     "output_type": "stream",
     "text": [
      "473/473 [==============================] - 1s 1ms/step - loss: 0.5079 - accuracy: 0.7666\n",
      "Epoch 2/4\n",
      "473/473 [==============================] - 1s 1ms/step - loss: 0.3580 - accuracy: 0.8320\n",
      "Epoch 3/4\n",
      "473/473 [==============================] - 1s 1ms/step - loss: 0.3122 - accuracy: 0.8514\n",
      "Epoch 4/4\n",
      "473/473 [==============================] - 1s 1ms/step - loss: 0.2847 - accuracy: 0.8637\n",
      "Epoch 1/4\n"
     ]
    },
    {
     "name": "stderr",
     "output_type": "stream",
     "text": [
      "/Users/husni.zuhdi/Documents/Codes/1-Python-Workshop/retention-prediction-demo/retention-prediction/lib/python3.10/site-packages/tensorflow/python/keras/engine/sequential.py:454: UserWarning: `model.predict_classes()` is deprecated and will be removed after 2021-01-01. Please use instead:* `np.argmax(model.predict(x), axis=-1)`,   if your model does multi-class classification   (e.g. if it uses a `softmax` last-layer activation).* `(model.predict(x) > 0.5).astype(\"int32\")`,   if your model does binary classification   (e.g. if it uses a `sigmoid` last-layer activation).\n",
      "  warnings.warn('`model.predict_classes()` is deprecated and '\n"
     ]
    },
    {
     "name": "stdout",
     "output_type": "stream",
     "text": [
      "473/473 [==============================] - 1s 1ms/step - loss: 0.5037 - accuracy: 0.7782\n",
      "Epoch 2/4\n",
      "473/473 [==============================] - 1s 1ms/step - loss: 0.3452 - accuracy: 0.8079\n",
      "Epoch 3/4\n",
      "473/473 [==============================] - 1s 1ms/step - loss: 0.3018 - accuracy: 0.8307\n",
      "Epoch 4/4\n",
      "473/473 [==============================] - 1s 1ms/step - loss: 0.2745 - accuracy: 0.8429\n"
     ]
    },
    {
     "name": "stderr",
     "output_type": "stream",
     "text": [
      "/Users/husni.zuhdi/Documents/Codes/1-Python-Workshop/retention-prediction-demo/retention-prediction/lib/python3.10/site-packages/tensorflow/python/keras/engine/sequential.py:454: UserWarning: `model.predict_classes()` is deprecated and will be removed after 2021-01-01. Please use instead:* `np.argmax(model.predict(x), axis=-1)`,   if your model does multi-class classification   (e.g. if it uses a `softmax` last-layer activation).* `(model.predict(x) > 0.5).astype(\"int32\")`,   if your model does binary classification   (e.g. if it uses a `sigmoid` last-layer activation).\n",
      "  warnings.warn('`model.predict_classes()` is deprecated and '\n"
     ]
    },
    {
     "name": "stdout",
     "output_type": "stream",
     "text": [
      "Epoch 1/4\n",
      "473/473 [==============================] - 1s 2ms/step - loss: 0.5245 - accuracy: 0.7800\n",
      "Epoch 2/4\n",
      "473/473 [==============================] - 1s 2ms/step - loss: 0.3464 - accuracy: 0.8115\n",
      "Epoch 3/4\n",
      "473/473 [==============================] - 1s 1ms/step - loss: 0.2952 - accuracy: 0.8348\n",
      "Epoch 4/4\n",
      "473/473 [==============================] - 1s 1ms/step - loss: 0.2661 - accuracy: 0.8441\n",
      "Epoch 1/4\n"
     ]
    },
    {
     "name": "stderr",
     "output_type": "stream",
     "text": [
      "/Users/husni.zuhdi/Documents/Codes/1-Python-Workshop/retention-prediction-demo/retention-prediction/lib/python3.10/site-packages/tensorflow/python/keras/engine/sequential.py:454: UserWarning: `model.predict_classes()` is deprecated and will be removed after 2021-01-01. Please use instead:* `np.argmax(model.predict(x), axis=-1)`,   if your model does multi-class classification   (e.g. if it uses a `softmax` last-layer activation).* `(model.predict(x) > 0.5).astype(\"int32\")`,   if your model does binary classification   (e.g. if it uses a `sigmoid` last-layer activation).\n",
      "  warnings.warn('`model.predict_classes()` is deprecated and '\n"
     ]
    },
    {
     "name": "stdout",
     "output_type": "stream",
     "text": [
      "473/473 [==============================] - 1s 1ms/step - loss: 0.5268 - accuracy: 0.7812\n",
      "Epoch 2/4\n",
      "473/473 [==============================] - 1s 1ms/step - loss: 0.3231 - accuracy: 0.8699\n",
      "Epoch 3/4\n",
      "473/473 [==============================] - 1s 1ms/step - loss: 0.2561 - accuracy: 0.9043\n",
      "Epoch 4/4\n",
      "473/473 [==============================] - 1s 1ms/step - loss: 0.2237 - accuracy: 0.9218\n",
      "Epoch 1/4\n"
     ]
    },
    {
     "name": "stderr",
     "output_type": "stream",
     "text": [
      "/Users/husni.zuhdi/Documents/Codes/1-Python-Workshop/retention-prediction-demo/retention-prediction/lib/python3.10/site-packages/tensorflow/python/keras/engine/sequential.py:454: UserWarning: `model.predict_classes()` is deprecated and will be removed after 2021-01-01. Please use instead:* `np.argmax(model.predict(x), axis=-1)`,   if your model does multi-class classification   (e.g. if it uses a `softmax` last-layer activation).* `(model.predict(x) > 0.5).astype(\"int32\")`,   if your model does binary classification   (e.g. if it uses a `sigmoid` last-layer activation).\n",
      "  warnings.warn('`model.predict_classes()` is deprecated and '\n"
     ]
    },
    {
     "name": "stdout",
     "output_type": "stream",
     "text": [
      "473/473 [==============================] - 1s 1ms/step - loss: 0.5119 - accuracy: 0.7830\n",
      "Epoch 2/4\n",
      "473/473 [==============================] - 1s 1ms/step - loss: 0.3200 - accuracy: 0.8699\n",
      "Epoch 3/4\n",
      "473/473 [==============================] - 1s 1ms/step - loss: 0.2599 - accuracy: 0.9035\n",
      "Epoch 4/4\n",
      "473/473 [==============================] - 1s 1ms/step - loss: 0.2315 - accuracy: 0.9157\n"
     ]
    },
    {
     "name": "stderr",
     "output_type": "stream",
     "text": [
      "/Users/husni.zuhdi/Documents/Codes/1-Python-Workshop/retention-prediction-demo/retention-prediction/lib/python3.10/site-packages/tensorflow/python/keras/engine/sequential.py:454: UserWarning: `model.predict_classes()` is deprecated and will be removed after 2021-01-01. Please use instead:* `np.argmax(model.predict(x), axis=-1)`,   if your model does multi-class classification   (e.g. if it uses a `softmax` last-layer activation).* `(model.predict(x) > 0.5).astype(\"int32\")`,   if your model does binary classification   (e.g. if it uses a `sigmoid` last-layer activation).\n",
      "  warnings.warn('`model.predict_classes()` is deprecated and '\n"
     ]
    },
    {
     "name": "stdout",
     "output_type": "stream",
     "text": [
      "Epoch 1/4\n",
      "473/473 [==============================] - 1s 1ms/step - loss: 0.5006 - accuracy: 0.7858\n",
      "Epoch 2/4\n",
      "473/473 [==============================] - 1s 1ms/step - loss: 0.3171 - accuracy: 0.8712\n",
      "Epoch 3/4\n",
      "473/473 [==============================] - 1s 2ms/step - loss: 0.2613 - accuracy: 0.9057\n",
      "Epoch 4/4\n",
      "473/473 [==============================] - 1s 1ms/step - loss: 0.2325 - accuracy: 0.9167\n",
      "Epoch 1/4\n"
     ]
    },
    {
     "name": "stderr",
     "output_type": "stream",
     "text": [
      "/Users/husni.zuhdi/Documents/Codes/1-Python-Workshop/retention-prediction-demo/retention-prediction/lib/python3.10/site-packages/tensorflow/python/keras/engine/sequential.py:454: UserWarning: `model.predict_classes()` is deprecated and will be removed after 2021-01-01. Please use instead:* `np.argmax(model.predict(x), axis=-1)`,   if your model does multi-class classification   (e.g. if it uses a `softmax` last-layer activation).* `(model.predict(x) > 0.5).astype(\"int32\")`,   if your model does binary classification   (e.g. if it uses a `sigmoid` last-layer activation).\n",
      "  warnings.warn('`model.predict_classes()` is deprecated and '\n"
     ]
    },
    {
     "name": "stdout",
     "output_type": "stream",
     "text": [
      "473/473 [==============================] - 1s 1ms/step - loss: 0.5233 - accuracy: 0.7789\n",
      "Epoch 2/4\n",
      "473/473 [==============================] - 1s 1ms/step - loss: 0.3389 - accuracy: 0.8179\n",
      "Epoch 3/4\n",
      "473/473 [==============================] - 1s 1ms/step - loss: 0.2867 - accuracy: 0.8425\n",
      "Epoch 4/4\n",
      "473/473 [==============================] - 1s 1ms/step - loss: 0.2593 - accuracy: 0.8498\n",
      "Epoch 1/4\n"
     ]
    },
    {
     "name": "stderr",
     "output_type": "stream",
     "text": [
      "/Users/husni.zuhdi/Documents/Codes/1-Python-Workshop/retention-prediction-demo/retention-prediction/lib/python3.10/site-packages/tensorflow/python/keras/engine/sequential.py:454: UserWarning: `model.predict_classes()` is deprecated and will be removed after 2021-01-01. Please use instead:* `np.argmax(model.predict(x), axis=-1)`,   if your model does multi-class classification   (e.g. if it uses a `softmax` last-layer activation).* `(model.predict(x) > 0.5).astype(\"int32\")`,   if your model does binary classification   (e.g. if it uses a `sigmoid` last-layer activation).\n",
      "  warnings.warn('`model.predict_classes()` is deprecated and '\n"
     ]
    },
    {
     "name": "stdout",
     "output_type": "stream",
     "text": [
      "473/473 [==============================] - 1s 1ms/step - loss: 0.5260 - accuracy: 0.7642\n",
      "Epoch 2/4\n",
      "473/473 [==============================] - 0s 1ms/step - loss: 0.3758 - accuracy: 0.8073\n",
      "Epoch 3/4\n",
      "473/473 [==============================] - 1s 1ms/step - loss: 0.3219 - accuracy: 0.8222\n",
      "Epoch 4/4\n",
      "473/473 [==============================] - 1s 1ms/step - loss: 0.2944 - accuracy: 0.8490\n"
     ]
    },
    {
     "name": "stderr",
     "output_type": "stream",
     "text": [
      "/Users/husni.zuhdi/Documents/Codes/1-Python-Workshop/retention-prediction-demo/retention-prediction/lib/python3.10/site-packages/tensorflow/python/keras/engine/sequential.py:454: UserWarning: `model.predict_classes()` is deprecated and will be removed after 2021-01-01. Please use instead:* `np.argmax(model.predict(x), axis=-1)`,   if your model does multi-class classification   (e.g. if it uses a `softmax` last-layer activation).* `(model.predict(x) > 0.5).astype(\"int32\")`,   if your model does binary classification   (e.g. if it uses a `sigmoid` last-layer activation).\n",
      "  warnings.warn('`model.predict_classes()` is deprecated and '\n"
     ]
    },
    {
     "name": "stdout",
     "output_type": "stream",
     "text": [
      "Epoch 1/4\n",
      "473/473 [==============================] - 1s 2ms/step - loss: 0.5408 - accuracy: 0.7821\n",
      "Epoch 2/4\n",
      "473/473 [==============================] - 1s 1ms/step - loss: 0.3426 - accuracy: 0.8547\n",
      "Epoch 3/4\n",
      "473/473 [==============================] - 1s 2ms/step - loss: 0.2687 - accuracy: 0.9049\n",
      "Epoch 4/4\n",
      "473/473 [==============================] - 1s 1ms/step - loss: 0.2353 - accuracy: 0.9170\n",
      "Epoch 1/4\n"
     ]
    },
    {
     "name": "stderr",
     "output_type": "stream",
     "text": [
      "/Users/husni.zuhdi/Documents/Codes/1-Python-Workshop/retention-prediction-demo/retention-prediction/lib/python3.10/site-packages/tensorflow/python/keras/engine/sequential.py:454: UserWarning: `model.predict_classes()` is deprecated and will be removed after 2021-01-01. Please use instead:* `np.argmax(model.predict(x), axis=-1)`,   if your model does multi-class classification   (e.g. if it uses a `softmax` last-layer activation).* `(model.predict(x) > 0.5).astype(\"int32\")`,   if your model does binary classification   (e.g. if it uses a `sigmoid` last-layer activation).\n",
      "  warnings.warn('`model.predict_classes()` is deprecated and '\n"
     ]
    },
    {
     "name": "stdout",
     "output_type": "stream",
     "text": [
      "473/473 [==============================] - 1s 958us/step - loss: 0.5340 - accuracy: 0.7600\n",
      "Epoch 2/4\n",
      "473/473 [==============================] - 0s 992us/step - loss: 0.3979 - accuracy: 0.7617\n",
      "Epoch 3/4\n",
      "473/473 [==============================] - 1s 1ms/step - loss: 0.3562 - accuracy: 0.7972\n",
      "Epoch 4/4\n",
      "473/473 [==============================] - 0s 843us/step - loss: 0.3302 - accuracy: 0.8598\n",
      "Epoch 1/4\n"
     ]
    },
    {
     "name": "stderr",
     "output_type": "stream",
     "text": [
      "/Users/husni.zuhdi/Documents/Codes/1-Python-Workshop/retention-prediction-demo/retention-prediction/lib/python3.10/site-packages/tensorflow/python/keras/engine/sequential.py:454: UserWarning: `model.predict_classes()` is deprecated and will be removed after 2021-01-01. Please use instead:* `np.argmax(model.predict(x), axis=-1)`,   if your model does multi-class classification   (e.g. if it uses a `softmax` last-layer activation).* `(model.predict(x) > 0.5).astype(\"int32\")`,   if your model does binary classification   (e.g. if it uses a `sigmoid` last-layer activation).\n",
      "  warnings.warn('`model.predict_classes()` is deprecated and '\n"
     ]
    },
    {
     "name": "stdout",
     "output_type": "stream",
     "text": [
      "473/473 [==============================] - 1s 1ms/step - loss: 0.5260 - accuracy: 0.7701\n",
      "Epoch 2/4\n",
      "473/473 [==============================] - 1s 1ms/step - loss: 0.3568 - accuracy: 0.8484\n",
      "Epoch 3/4\n",
      "473/473 [==============================] - 0s 850us/step - loss: 0.2908 - accuracy: 0.8824\n",
      "Epoch 4/4\n",
      "473/473 [==============================] - 0s 872us/step - loss: 0.2514 - accuracy: 0.9095\n",
      "Epoch 1/4\n"
     ]
    },
    {
     "name": "stderr",
     "output_type": "stream",
     "text": [
      "/Users/husni.zuhdi/Documents/Codes/1-Python-Workshop/retention-prediction-demo/retention-prediction/lib/python3.10/site-packages/tensorflow/python/keras/engine/sequential.py:454: UserWarning: `model.predict_classes()` is deprecated and will be removed after 2021-01-01. Please use instead:* `np.argmax(model.predict(x), axis=-1)`,   if your model does multi-class classification   (e.g. if it uses a `softmax` last-layer activation).* `(model.predict(x) > 0.5).astype(\"int32\")`,   if your model does binary classification   (e.g. if it uses a `sigmoid` last-layer activation).\n",
      "  warnings.warn('`model.predict_classes()` is deprecated and '\n"
     ]
    },
    {
     "name": "stdout",
     "output_type": "stream",
     "text": [
      "473/473 [==============================] - 1s 939us/step - loss: 0.5199 - accuracy: 0.7628\n",
      "Epoch 2/4\n",
      "473/473 [==============================] - 0s 830us/step - loss: 0.3739 - accuracy: 0.8093\n",
      "Epoch 3/4\n",
      "473/473 [==============================] - 0s 865us/step - loss: 0.3302 - accuracy: 0.8442\n",
      "Epoch 4/4\n",
      "473/473 [==============================] - 0s 849us/step - loss: 0.3025 - accuracy: 0.8527\n",
      "Epoch 1/4\n"
     ]
    },
    {
     "name": "stderr",
     "output_type": "stream",
     "text": [
      "/Users/husni.zuhdi/Documents/Codes/1-Python-Workshop/retention-prediction-demo/retention-prediction/lib/python3.10/site-packages/tensorflow/python/keras/engine/sequential.py:454: UserWarning: `model.predict_classes()` is deprecated and will be removed after 2021-01-01. Please use instead:* `np.argmax(model.predict(x), axis=-1)`,   if your model does multi-class classification   (e.g. if it uses a `softmax` last-layer activation).* `(model.predict(x) > 0.5).astype(\"int32\")`,   if your model does binary classification   (e.g. if it uses a `sigmoid` last-layer activation).\n",
      "  warnings.warn('`model.predict_classes()` is deprecated and '\n"
     ]
    },
    {
     "name": "stdout",
     "output_type": "stream",
     "text": [
      "473/473 [==============================] - 1s 952us/step - loss: 0.5434 - accuracy: 0.7603\n",
      "Epoch 2/4\n",
      "473/473 [==============================] - 1s 1ms/step - loss: 0.4102 - accuracy: 0.7627\n",
      "Epoch 3/4\n",
      "473/473 [==============================] - 1s 1ms/step - loss: 0.3648 - accuracy: 0.7798\n",
      "Epoch 4/4\n",
      "473/473 [==============================] - 0s 980us/step - loss: 0.3343 - accuracy: 0.8566\n",
      "Epoch 1/4\n"
     ]
    },
    {
     "name": "stderr",
     "output_type": "stream",
     "text": [
      "/Users/husni.zuhdi/Documents/Codes/1-Python-Workshop/retention-prediction-demo/retention-prediction/lib/python3.10/site-packages/tensorflow/python/keras/engine/sequential.py:454: UserWarning: `model.predict_classes()` is deprecated and will be removed after 2021-01-01. Please use instead:* `np.argmax(model.predict(x), axis=-1)`,   if your model does multi-class classification   (e.g. if it uses a `softmax` last-layer activation).* `(model.predict(x) > 0.5).astype(\"int32\")`,   if your model does binary classification   (e.g. if it uses a `sigmoid` last-layer activation).\n",
      "  warnings.warn('`model.predict_classes()` is deprecated and '\n"
     ]
    },
    {
     "name": "stdout",
     "output_type": "stream",
     "text": [
      "473/473 [==============================] - 1s 1ms/step - loss: 0.5158 - accuracy: 0.7665\n",
      "Epoch 2/4\n",
      "473/473 [==============================] - 0s 1ms/step - loss: 0.3636 - accuracy: 0.8135\n",
      "Epoch 3/4\n",
      "473/473 [==============================] - 0s 848us/step - loss: 0.3152 - accuracy: 0.8239\n",
      "Epoch 4/4\n",
      "473/473 [==============================] - 0s 951us/step - loss: 0.2889 - accuracy: 0.8443\n",
      "Epoch 1/4\n"
     ]
    },
    {
     "name": "stderr",
     "output_type": "stream",
     "text": [
      "/Users/husni.zuhdi/Documents/Codes/1-Python-Workshop/retention-prediction-demo/retention-prediction/lib/python3.10/site-packages/tensorflow/python/keras/engine/sequential.py:454: UserWarning: `model.predict_classes()` is deprecated and will be removed after 2021-01-01. Please use instead:* `np.argmax(model.predict(x), axis=-1)`,   if your model does multi-class classification   (e.g. if it uses a `softmax` last-layer activation).* `(model.predict(x) > 0.5).astype(\"int32\")`,   if your model does binary classification   (e.g. if it uses a `sigmoid` last-layer activation).\n",
      "  warnings.warn('`model.predict_classes()` is deprecated and '\n"
     ]
    },
    {
     "name": "stdout",
     "output_type": "stream",
     "text": [
      "473/473 [==============================] - 1s 960us/step - loss: 0.5286 - accuracy: 0.7617\n",
      "Epoch 2/4\n",
      "473/473 [==============================] - 0s 974us/step - loss: 0.3714 - accuracy: 0.8107\n",
      "Epoch 3/4\n",
      "473/473 [==============================] - 0s 982us/step - loss: 0.3181 - accuracy: 0.8229\n",
      "Epoch 4/4\n",
      "473/473 [==============================] - 1s 1ms/step - loss: 0.2901 - accuracy: 0.8396\n"
     ]
    },
    {
     "name": "stderr",
     "output_type": "stream",
     "text": [
      "/Users/husni.zuhdi/Documents/Codes/1-Python-Workshop/retention-prediction-demo/retention-prediction/lib/python3.10/site-packages/tensorflow/python/keras/engine/sequential.py:454: UserWarning: `model.predict_classes()` is deprecated and will be removed after 2021-01-01. Please use instead:* `np.argmax(model.predict(x), axis=-1)`,   if your model does multi-class classification   (e.g. if it uses a `softmax` last-layer activation).* `(model.predict(x) > 0.5).astype(\"int32\")`,   if your model does binary classification   (e.g. if it uses a `sigmoid` last-layer activation).\n",
      "  warnings.warn('`model.predict_classes()` is deprecated and '\n"
     ]
    },
    {
     "name": "stdout",
     "output_type": "stream",
     "text": [
      "Epoch 1/4\n",
      "473/473 [==============================] - 1s 1ms/step - loss: 0.5384 - accuracy: 0.7663\n",
      "Epoch 2/4\n",
      "473/473 [==============================] - 0s 977us/step - loss: 0.3696 - accuracy: 0.8411\n",
      "Epoch 3/4\n",
      "473/473 [==============================] - 1s 1ms/step - loss: 0.2962 - accuracy: 0.8855\n",
      "Epoch 4/4\n",
      "473/473 [==============================] - 1s 1ms/step - loss: 0.2561 - accuracy: 0.9036\n",
      "Epoch 1/4\n"
     ]
    },
    {
     "name": "stderr",
     "output_type": "stream",
     "text": [
      "/Users/husni.zuhdi/Documents/Codes/1-Python-Workshop/retention-prediction-demo/retention-prediction/lib/python3.10/site-packages/tensorflow/python/keras/engine/sequential.py:454: UserWarning: `model.predict_classes()` is deprecated and will be removed after 2021-01-01. Please use instead:* `np.argmax(model.predict(x), axis=-1)`,   if your model does multi-class classification   (e.g. if it uses a `softmax` last-layer activation).* `(model.predict(x) > 0.5).astype(\"int32\")`,   if your model does binary classification   (e.g. if it uses a `sigmoid` last-layer activation).\n",
      "  warnings.warn('`model.predict_classes()` is deprecated and '\n"
     ]
    },
    {
     "name": "stdout",
     "output_type": "stream",
     "text": [
      "473/473 [==============================] - 1s 2ms/step - loss: 0.5181 - accuracy: 0.7792\n",
      "Epoch 2/4\n",
      "473/473 [==============================] - 1s 1ms/step - loss: 0.3575 - accuracy: 0.8101\n",
      "Epoch 3/4\n",
      "473/473 [==============================] - 0s 870us/step - loss: 0.3048 - accuracy: 0.8353\n",
      "Epoch 4/4\n",
      "473/473 [==============================] - 0s 868us/step - loss: 0.2733 - accuracy: 0.8441\n"
     ]
    },
    {
     "name": "stderr",
     "output_type": "stream",
     "text": [
      "/Users/husni.zuhdi/Documents/Codes/1-Python-Workshop/retention-prediction-demo/retention-prediction/lib/python3.10/site-packages/tensorflow/python/keras/engine/sequential.py:454: UserWarning: `model.predict_classes()` is deprecated and will be removed after 2021-01-01. Please use instead:* `np.argmax(model.predict(x), axis=-1)`,   if your model does multi-class classification   (e.g. if it uses a `softmax` last-layer activation).* `(model.predict(x) > 0.5).astype(\"int32\")`,   if your model does binary classification   (e.g. if it uses a `sigmoid` last-layer activation).\n",
      "  warnings.warn('`model.predict_classes()` is deprecated and '\n"
     ]
    },
    {
     "name": "stdout",
     "output_type": "stream",
     "text": [
      "Epoch 1/6\n",
      "473/473 [==============================] - 1s 1ms/step - loss: 0.5254 - accuracy: 0.7871\n",
      "Epoch 2/6\n",
      "473/473 [==============================] - 1s 1ms/step - loss: 0.3079 - accuracy: 0.8825\n",
      "Epoch 3/6\n",
      "473/473 [==============================] - 1s 1ms/step - loss: 0.2457 - accuracy: 0.9142\n",
      "Epoch 4/6\n",
      "473/473 [==============================] - 1s 1ms/step - loss: 0.2207 - accuracy: 0.9238\n",
      "Epoch 5/6\n",
      "473/473 [==============================] - 0s 1ms/step - loss: 0.2022 - accuracy: 0.9330\n",
      "Epoch 6/6\n",
      "473/473 [==============================] - 0s 1ms/step - loss: 0.2003 - accuracy: 0.9327\n",
      "Epoch 1/6\n"
     ]
    },
    {
     "name": "stderr",
     "output_type": "stream",
     "text": [
      "/Users/husni.zuhdi/Documents/Codes/1-Python-Workshop/retention-prediction-demo/retention-prediction/lib/python3.10/site-packages/tensorflow/python/keras/engine/sequential.py:454: UserWarning: `model.predict_classes()` is deprecated and will be removed after 2021-01-01. Please use instead:* `np.argmax(model.predict(x), axis=-1)`,   if your model does multi-class classification   (e.g. if it uses a `softmax` last-layer activation).* `(model.predict(x) > 0.5).astype(\"int32\")`,   if your model does binary classification   (e.g. if it uses a `sigmoid` last-layer activation).\n",
      "  warnings.warn('`model.predict_classes()` is deprecated and '\n"
     ]
    },
    {
     "name": "stdout",
     "output_type": "stream",
     "text": [
      "473/473 [==============================] - 1s 1ms/step - loss: 0.5191 - accuracy: 0.7828\n",
      "Epoch 2/6\n",
      "473/473 [==============================] - 1s 1ms/step - loss: 0.3179 - accuracy: 0.8716\n",
      "Epoch 3/6\n",
      "473/473 [==============================] - 1s 1ms/step - loss: 0.2510 - accuracy: 0.9094\n",
      "Epoch 4/6\n",
      "473/473 [==============================] - 1s 2ms/step - loss: 0.2277 - accuracy: 0.9210\n",
      "Epoch 5/6\n",
      "473/473 [==============================] - 1s 2ms/step - loss: 0.2101 - accuracy: 0.9306\n",
      "Epoch 6/6\n",
      "473/473 [==============================] - 1s 2ms/step - loss: 0.2057 - accuracy: 0.9274\n"
     ]
    },
    {
     "name": "stderr",
     "output_type": "stream",
     "text": [
      "/Users/husni.zuhdi/Documents/Codes/1-Python-Workshop/retention-prediction-demo/retention-prediction/lib/python3.10/site-packages/tensorflow/python/keras/engine/sequential.py:454: UserWarning: `model.predict_classes()` is deprecated and will be removed after 2021-01-01. Please use instead:* `np.argmax(model.predict(x), axis=-1)`,   if your model does multi-class classification   (e.g. if it uses a `softmax` last-layer activation).* `(model.predict(x) > 0.5).astype(\"int32\")`,   if your model does binary classification   (e.g. if it uses a `sigmoid` last-layer activation).\n",
      "  warnings.warn('`model.predict_classes()` is deprecated and '\n"
     ]
    },
    {
     "name": "stdout",
     "output_type": "stream",
     "text": [
      "Epoch 1/6\n",
      "473/473 [==============================] - 1s 2ms/step - loss: 0.5107 - accuracy: 0.7711\n",
      "Epoch 2/6\n",
      "473/473 [==============================] - 1s 2ms/step - loss: 0.3443 - accuracy: 0.8089\n",
      "Epoch 3/6\n",
      "473/473 [==============================] - 1s 2ms/step - loss: 0.3001 - accuracy: 0.8304\n",
      "Epoch 4/6\n",
      "473/473 [==============================] - 1s 1ms/step - loss: 0.2767 - accuracy: 0.8380\n",
      "Epoch 5/6\n",
      "473/473 [==============================] - 1s 1ms/step - loss: 0.2624 - accuracy: 0.8915\n",
      "Epoch 6/6\n",
      "473/473 [==============================] - 0s 1ms/step - loss: 0.2484 - accuracy: 0.9201\n",
      "Epoch 1/6\n"
     ]
    },
    {
     "name": "stderr",
     "output_type": "stream",
     "text": [
      "/Users/husni.zuhdi/Documents/Codes/1-Python-Workshop/retention-prediction-demo/retention-prediction/lib/python3.10/site-packages/tensorflow/python/keras/engine/sequential.py:454: UserWarning: `model.predict_classes()` is deprecated and will be removed after 2021-01-01. Please use instead:* `np.argmax(model.predict(x), axis=-1)`,   if your model does multi-class classification   (e.g. if it uses a `softmax` last-layer activation).* `(model.predict(x) > 0.5).astype(\"int32\")`,   if your model does binary classification   (e.g. if it uses a `sigmoid` last-layer activation).\n",
      "  warnings.warn('`model.predict_classes()` is deprecated and '\n"
     ]
    },
    {
     "name": "stdout",
     "output_type": "stream",
     "text": [
      "473/473 [==============================] - 1s 1ms/step - loss: 0.5136 - accuracy: 0.7736\n",
      "Epoch 2/6\n",
      "473/473 [==============================] - 1s 1ms/step - loss: 0.3438 - accuracy: 0.8099\n",
      "Epoch 3/6\n",
      "473/473 [==============================] - 1s 1ms/step - loss: 0.2900 - accuracy: 0.8367\n",
      "Epoch 4/6\n",
      "473/473 [==============================] - 1s 1ms/step - loss: 0.2633 - accuracy: 0.8560\n",
      "Epoch 5/6\n",
      "473/473 [==============================] - 1s 1ms/step - loss: 0.2474 - accuracy: 0.9067\n",
      "Epoch 6/6\n",
      "473/473 [==============================] - 1s 1ms/step - loss: 0.2356 - accuracy: 0.9270\n",
      "Epoch 1/6\n"
     ]
    },
    {
     "name": "stderr",
     "output_type": "stream",
     "text": [
      "/Users/husni.zuhdi/Documents/Codes/1-Python-Workshop/retention-prediction-demo/retention-prediction/lib/python3.10/site-packages/tensorflow/python/keras/engine/sequential.py:454: UserWarning: `model.predict_classes()` is deprecated and will be removed after 2021-01-01. Please use instead:* `np.argmax(model.predict(x), axis=-1)`,   if your model does multi-class classification   (e.g. if it uses a `softmax` last-layer activation).* `(model.predict(x) > 0.5).astype(\"int32\")`,   if your model does binary classification   (e.g. if it uses a `sigmoid` last-layer activation).\n",
      "  warnings.warn('`model.predict_classes()` is deprecated and '\n"
     ]
    },
    {
     "name": "stdout",
     "output_type": "stream",
     "text": [
      "473/473 [==============================] - 1s 1ms/step - loss: 0.5202 - accuracy: 0.7644\n",
      "Epoch 2/6\n",
      "473/473 [==============================] - 1s 1ms/step - loss: 0.3384 - accuracy: 0.8268\n",
      "Epoch 3/6\n",
      "473/473 [==============================] - 1s 1ms/step - loss: 0.2891 - accuracy: 0.8296\n",
      "Epoch 4/6\n",
      "473/473 [==============================] - 1s 1ms/step - loss: 0.2641 - accuracy: 0.8808\n",
      "Epoch 5/6\n",
      "473/473 [==============================] - 1s 1ms/step - loss: 0.2545 - accuracy: 0.9081\n",
      "Epoch 6/6\n",
      "473/473 [==============================] - 1s 1ms/step - loss: 0.2451 - accuracy: 0.9185\n",
      "Epoch 1/6\n"
     ]
    },
    {
     "name": "stderr",
     "output_type": "stream",
     "text": [
      "/Users/husni.zuhdi/Documents/Codes/1-Python-Workshop/retention-prediction-demo/retention-prediction/lib/python3.10/site-packages/tensorflow/python/keras/engine/sequential.py:454: UserWarning: `model.predict_classes()` is deprecated and will be removed after 2021-01-01. Please use instead:* `np.argmax(model.predict(x), axis=-1)`,   if your model does multi-class classification   (e.g. if it uses a `softmax` last-layer activation).* `(model.predict(x) > 0.5).astype(\"int32\")`,   if your model does binary classification   (e.g. if it uses a `sigmoid` last-layer activation).\n",
      "  warnings.warn('`model.predict_classes()` is deprecated and '\n"
     ]
    },
    {
     "name": "stdout",
     "output_type": "stream",
     "text": [
      "473/473 [==============================] - 2s 1ms/step - loss: 0.5012 - accuracy: 0.7627\n",
      "Epoch 2/6\n",
      "473/473 [==============================] - 1s 1ms/step - loss: 0.3717 - accuracy: 0.7627\n",
      "Epoch 3/6\n",
      "473/473 [==============================] - 1s 1ms/step - loss: 0.3336 - accuracy: 0.8199\n",
      "Epoch 4/6\n",
      "473/473 [==============================] - 0s 1ms/step - loss: 0.3073 - accuracy: 0.8762\n",
      "Epoch 5/6\n",
      "473/473 [==============================] - 1s 1ms/step - loss: 0.2879 - accuracy: 0.8996\n",
      "Epoch 6/6\n",
      "473/473 [==============================] - 1s 1ms/step - loss: 0.2749 - accuracy: 0.9071\n",
      "Epoch 1/6\n"
     ]
    },
    {
     "name": "stderr",
     "output_type": "stream",
     "text": [
      "/Users/husni.zuhdi/Documents/Codes/1-Python-Workshop/retention-prediction-demo/retention-prediction/lib/python3.10/site-packages/tensorflow/python/keras/engine/sequential.py:454: UserWarning: `model.predict_classes()` is deprecated and will be removed after 2021-01-01. Please use instead:* `np.argmax(model.predict(x), axis=-1)`,   if your model does multi-class classification   (e.g. if it uses a `softmax` last-layer activation).* `(model.predict(x) > 0.5).astype(\"int32\")`,   if your model does binary classification   (e.g. if it uses a `sigmoid` last-layer activation).\n",
      "  warnings.warn('`model.predict_classes()` is deprecated and '\n"
     ]
    },
    {
     "name": "stdout",
     "output_type": "stream",
     "text": [
      "473/473 [==============================] - 1s 1ms/step - loss: 0.5131 - accuracy: 0.7737\n",
      "Epoch 2/6\n",
      "473/473 [==============================] - 1s 1ms/step - loss: 0.3365 - accuracy: 0.8262\n",
      "Epoch 3/6\n",
      "473/473 [==============================] - 0s 1ms/step - loss: 0.2900 - accuracy: 0.8324\n",
      "Epoch 4/6\n",
      "473/473 [==============================] - 0s 989us/step - loss: 0.2685 - accuracy: 0.8525\n",
      "Epoch 5/6\n",
      "473/473 [==============================] - 0s 968us/step - loss: 0.2535 - accuracy: 0.8992\n",
      "Epoch 6/6\n",
      "473/473 [==============================] - 0s 1ms/step - loss: 0.2453 - accuracy: 0.9096\n",
      "Epoch 1/6\n"
     ]
    },
    {
     "name": "stderr",
     "output_type": "stream",
     "text": [
      "/Users/husni.zuhdi/Documents/Codes/1-Python-Workshop/retention-prediction-demo/retention-prediction/lib/python3.10/site-packages/tensorflow/python/keras/engine/sequential.py:454: UserWarning: `model.predict_classes()` is deprecated and will be removed after 2021-01-01. Please use instead:* `np.argmax(model.predict(x), axis=-1)`,   if your model does multi-class classification   (e.g. if it uses a `softmax` last-layer activation).* `(model.predict(x) > 0.5).astype(\"int32\")`,   if your model does binary classification   (e.g. if it uses a `sigmoid` last-layer activation).\n",
      "  warnings.warn('`model.predict_classes()` is deprecated and '\n"
     ]
    },
    {
     "name": "stdout",
     "output_type": "stream",
     "text": [
      "473/473 [==============================] - 1s 1ms/step - loss: 0.5159 - accuracy: 0.7627\n",
      "Epoch 2/6\n",
      "473/473 [==============================] - 1s 2ms/step - loss: 0.3689 - accuracy: 0.8229\n",
      "Epoch 3/6\n",
      "473/473 [==============================] - 1s 1ms/step - loss: 0.3261 - accuracy: 0.8498\n",
      "Epoch 4/6\n",
      "473/473 [==============================] - 1s 1ms/step - loss: 0.3020 - accuracy: 0.8587\n",
      "Epoch 5/6\n",
      "473/473 [==============================] - 1s 1ms/step - loss: 0.2813 - accuracy: 0.8624\n",
      "Epoch 6/6\n",
      "473/473 [==============================] - 1s 1ms/step - loss: 0.2650 - accuracy: 0.8695\n",
      "Epoch 1/6\n"
     ]
    },
    {
     "name": "stderr",
     "output_type": "stream",
     "text": [
      "/Users/husni.zuhdi/Documents/Codes/1-Python-Workshop/retention-prediction-demo/retention-prediction/lib/python3.10/site-packages/tensorflow/python/keras/engine/sequential.py:454: UserWarning: `model.predict_classes()` is deprecated and will be removed after 2021-01-01. Please use instead:* `np.argmax(model.predict(x), axis=-1)`,   if your model does multi-class classification   (e.g. if it uses a `softmax` last-layer activation).* `(model.predict(x) > 0.5).astype(\"int32\")`,   if your model does binary classification   (e.g. if it uses a `sigmoid` last-layer activation).\n",
      "  warnings.warn('`model.predict_classes()` is deprecated and '\n"
     ]
    },
    {
     "name": "stdout",
     "output_type": "stream",
     "text": [
      "473/473 [==============================] - 1s 1ms/step - loss: 0.5093 - accuracy: 0.7765\n",
      "Epoch 2/6\n",
      "473/473 [==============================] - 1s 1ms/step - loss: 0.3509 - accuracy: 0.8075\n",
      "Epoch 3/6\n",
      "473/473 [==============================] - 1s 1ms/step - loss: 0.3001 - accuracy: 0.8340\n",
      "Epoch 4/6\n",
      "473/473 [==============================] - 1s 1ms/step - loss: 0.2732 - accuracy: 0.8445\n",
      "Epoch 5/6\n",
      "473/473 [==============================] - 1s 1ms/step - loss: 0.2544 - accuracy: 0.9097\n",
      "Epoch 6/6\n",
      "473/473 [==============================] - 1s 1ms/step - loss: 0.2388 - accuracy: 0.9275\n",
      "Epoch 1/6\n"
     ]
    },
    {
     "name": "stderr",
     "output_type": "stream",
     "text": [
      "/Users/husni.zuhdi/Documents/Codes/1-Python-Workshop/retention-prediction-demo/retention-prediction/lib/python3.10/site-packages/tensorflow/python/keras/engine/sequential.py:454: UserWarning: `model.predict_classes()` is deprecated and will be removed after 2021-01-01. Please use instead:* `np.argmax(model.predict(x), axis=-1)`,   if your model does multi-class classification   (e.g. if it uses a `softmax` last-layer activation).* `(model.predict(x) > 0.5).astype(\"int32\")`,   if your model does binary classification   (e.g. if it uses a `sigmoid` last-layer activation).\n",
      "  warnings.warn('`model.predict_classes()` is deprecated and '\n"
     ]
    },
    {
     "name": "stdout",
     "output_type": "stream",
     "text": [
      "473/473 [==============================] - 1s 1ms/step - loss: 0.5181 - accuracy: 0.7833\n",
      "Epoch 2/6\n",
      "473/473 [==============================] - 1s 1ms/step - loss: 0.3030 - accuracy: 0.8874\n",
      "Epoch 3/6\n",
      "473/473 [==============================] - 1s 1ms/step - loss: 0.2399 - accuracy: 0.9153\n",
      "Epoch 4/6\n",
      "473/473 [==============================] - 1s 1ms/step - loss: 0.2141 - accuracy: 0.9265\n",
      "Epoch 5/6\n",
      "473/473 [==============================] - 1s 1ms/step - loss: 0.2042 - accuracy: 0.9289\n",
      "Epoch 6/6\n",
      "473/473 [==============================] - 1s 1ms/step - loss: 0.1992 - accuracy: 0.9319\n",
      "Epoch 1/6\n"
     ]
    },
    {
     "name": "stderr",
     "output_type": "stream",
     "text": [
      "/Users/husni.zuhdi/Documents/Codes/1-Python-Workshop/retention-prediction-demo/retention-prediction/lib/python3.10/site-packages/tensorflow/python/keras/engine/sequential.py:454: UserWarning: `model.predict_classes()` is deprecated and will be removed after 2021-01-01. Please use instead:* `np.argmax(model.predict(x), axis=-1)`,   if your model does multi-class classification   (e.g. if it uses a `softmax` last-layer activation).* `(model.predict(x) > 0.5).astype(\"int32\")`,   if your model does binary classification   (e.g. if it uses a `sigmoid` last-layer activation).\n",
      "  warnings.warn('`model.predict_classes()` is deprecated and '\n"
     ]
    },
    {
     "name": "stdout",
     "output_type": "stream",
     "text": [
      "473/473 [==============================] - 1s 983us/step - loss: 0.5300 - accuracy: 0.7638\n",
      "Epoch 2/6\n",
      "473/473 [==============================] - 0s 1ms/step - loss: 0.3947 - accuracy: 0.7644\n",
      "Epoch 3/6\n",
      "473/473 [==============================] - 0s 1ms/step - loss: 0.3531 - accuracy: 0.7945\n",
      "Epoch 4/6\n",
      "473/473 [==============================] - 1s 1ms/step - loss: 0.3279 - accuracy: 0.8579\n",
      "Epoch 5/6\n",
      "473/473 [==============================] - 1s 1ms/step - loss: 0.3107 - accuracy: 0.8736\n",
      "Epoch 6/6\n",
      "473/473 [==============================] - 1s 1ms/step - loss: 0.2921 - accuracy: 0.8976\n",
      "Epoch 1/6\n"
     ]
    },
    {
     "name": "stderr",
     "output_type": "stream",
     "text": [
      "/Users/husni.zuhdi/Documents/Codes/1-Python-Workshop/retention-prediction-demo/retention-prediction/lib/python3.10/site-packages/tensorflow/python/keras/engine/sequential.py:454: UserWarning: `model.predict_classes()` is deprecated and will be removed after 2021-01-01. Please use instead:* `np.argmax(model.predict(x), axis=-1)`,   if your model does multi-class classification   (e.g. if it uses a `softmax` last-layer activation).* `(model.predict(x) > 0.5).astype(\"int32\")`,   if your model does binary classification   (e.g. if it uses a `sigmoid` last-layer activation).\n",
      "  warnings.warn('`model.predict_classes()` is deprecated and '\n"
     ]
    },
    {
     "name": "stdout",
     "output_type": "stream",
     "text": [
      "473/473 [==============================] - 1s 1ms/step - loss: 0.5205 - accuracy: 0.7614\n",
      "Epoch 2/6\n",
      "473/473 [==============================] - 0s 1ms/step - loss: 0.3863 - accuracy: 0.7616\n",
      "Epoch 3/6\n",
      "473/473 [==============================] - 0s 1ms/step - loss: 0.3460 - accuracy: 0.8079\n",
      "Epoch 4/6\n",
      "473/473 [==============================] - 1s 1ms/step - loss: 0.3196 - accuracy: 0.8727\n",
      "Epoch 5/6\n",
      "473/473 [==============================] - 0s 1ms/step - loss: 0.3020 - accuracy: 0.8895\n",
      "Epoch 6/6\n",
      "473/473 [==============================] - 0s 1ms/step - loss: 0.2870 - accuracy: 0.9038\n",
      "Epoch 1/6\n"
     ]
    },
    {
     "name": "stderr",
     "output_type": "stream",
     "text": [
      "/Users/husni.zuhdi/Documents/Codes/1-Python-Workshop/retention-prediction-demo/retention-prediction/lib/python3.10/site-packages/tensorflow/python/keras/engine/sequential.py:454: UserWarning: `model.predict_classes()` is deprecated and will be removed after 2021-01-01. Please use instead:* `np.argmax(model.predict(x), axis=-1)`,   if your model does multi-class classification   (e.g. if it uses a `softmax` last-layer activation).* `(model.predict(x) > 0.5).astype(\"int32\")`,   if your model does binary classification   (e.g. if it uses a `sigmoid` last-layer activation).\n",
      "  warnings.warn('`model.predict_classes()` is deprecated and '\n"
     ]
    },
    {
     "name": "stdout",
     "output_type": "stream",
     "text": [
      "473/473 [==============================] - 1s 1ms/step - loss: 0.5216 - accuracy: 0.7618\n",
      "Epoch 2/6\n",
      "473/473 [==============================] - 1s 1ms/step - loss: 0.3722 - accuracy: 0.8065\n",
      "Epoch 3/6\n",
      "473/473 [==============================] - 1s 1ms/step - loss: 0.3192 - accuracy: 0.8224\n",
      "Epoch 4/6\n",
      "473/473 [==============================] - 1s 1ms/step - loss: 0.2905 - accuracy: 0.8444\n",
      "Epoch 5/6\n",
      "473/473 [==============================] - 1s 1ms/step - loss: 0.2739 - accuracy: 0.8915\n",
      "Epoch 6/6\n",
      "473/473 [==============================] - 0s 992us/step - loss: 0.2627 - accuracy: 0.9043\n",
      "Epoch 1/6\n"
     ]
    },
    {
     "name": "stderr",
     "output_type": "stream",
     "text": [
      "/Users/husni.zuhdi/Documents/Codes/1-Python-Workshop/retention-prediction-demo/retention-prediction/lib/python3.10/site-packages/tensorflow/python/keras/engine/sequential.py:454: UserWarning: `model.predict_classes()` is deprecated and will be removed after 2021-01-01. Please use instead:* `np.argmax(model.predict(x), axis=-1)`,   if your model does multi-class classification   (e.g. if it uses a `softmax` last-layer activation).* `(model.predict(x) > 0.5).astype(\"int32\")`,   if your model does binary classification   (e.g. if it uses a `sigmoid` last-layer activation).\n",
      "  warnings.warn('`model.predict_classes()` is deprecated and '\n"
     ]
    },
    {
     "name": "stdout",
     "output_type": "stream",
     "text": [
      "473/473 [==============================] - 1s 1ms/step - loss: 0.5215 - accuracy: 0.7688\n",
      "Epoch 2/6\n",
      "473/473 [==============================] - 1s 1ms/step - loss: 0.3712 - accuracy: 0.8040\n",
      "Epoch 3/6\n",
      "473/473 [==============================] - 1s 1ms/step - loss: 0.3160 - accuracy: 0.8257\n",
      "Epoch 4/6\n",
      "473/473 [==============================] - 1s 1ms/step - loss: 0.2823 - accuracy: 0.8428\n",
      "Epoch 5/6\n",
      "473/473 [==============================] - 0s 1ms/step - loss: 0.2618 - accuracy: 0.9061\n",
      "Epoch 6/6\n",
      "473/473 [==============================] - 0s 1ms/step - loss: 0.2489 - accuracy: 0.9235\n",
      "Epoch 1/6\n"
     ]
    },
    {
     "name": "stderr",
     "output_type": "stream",
     "text": [
      "/Users/husni.zuhdi/Documents/Codes/1-Python-Workshop/retention-prediction-demo/retention-prediction/lib/python3.10/site-packages/tensorflow/python/keras/engine/sequential.py:454: UserWarning: `model.predict_classes()` is deprecated and will be removed after 2021-01-01. Please use instead:* `np.argmax(model.predict(x), axis=-1)`,   if your model does multi-class classification   (e.g. if it uses a `softmax` last-layer activation).* `(model.predict(x) > 0.5).astype(\"int32\")`,   if your model does binary classification   (e.g. if it uses a `sigmoid` last-layer activation).\n",
      "  warnings.warn('`model.predict_classes()` is deprecated and '\n"
     ]
    },
    {
     "name": "stdout",
     "output_type": "stream",
     "text": [
      "473/473 [==============================] - 1s 2ms/step - loss: 0.5323 - accuracy: 0.7675\n",
      "Epoch 2/6\n",
      "473/473 [==============================] - 1s 1ms/step - loss: 0.3829 - accuracy: 0.8002\n",
      "Epoch 3/6\n",
      "473/473 [==============================] - 1s 1ms/step - loss: 0.3222 - accuracy: 0.8198\n",
      "Epoch 4/6\n",
      "473/473 [==============================] - 1s 1ms/step - loss: 0.2892 - accuracy: 0.8326\n",
      "Epoch 5/6\n",
      "473/473 [==============================] - 1s 1ms/step - loss: 0.2669 - accuracy: 0.8985\n",
      "Epoch 6/6\n",
      "473/473 [==============================] - 1s 1ms/step - loss: 0.2526 - accuracy: 0.9189\n",
      "Epoch 1/6\n"
     ]
    },
    {
     "name": "stderr",
     "output_type": "stream",
     "text": [
      "/Users/husni.zuhdi/Documents/Codes/1-Python-Workshop/retention-prediction-demo/retention-prediction/lib/python3.10/site-packages/tensorflow/python/keras/engine/sequential.py:454: UserWarning: `model.predict_classes()` is deprecated and will be removed after 2021-01-01. Please use instead:* `np.argmax(model.predict(x), axis=-1)`,   if your model does multi-class classification   (e.g. if it uses a `softmax` last-layer activation).* `(model.predict(x) > 0.5).astype(\"int32\")`,   if your model does binary classification   (e.g. if it uses a `sigmoid` last-layer activation).\n",
      "  warnings.warn('`model.predict_classes()` is deprecated and '\n"
     ]
    },
    {
     "name": "stdout",
     "output_type": "stream",
     "text": [
      "473/473 [==============================] - 1s 1ms/step - loss: 0.5287 - accuracy: 0.7617\n",
      "Epoch 2/6\n",
      "473/473 [==============================] - 1s 1ms/step - loss: 0.3925 - accuracy: 0.7627\n",
      "Epoch 3/6\n",
      "473/473 [==============================] - 0s 1ms/step - loss: 0.3462 - accuracy: 0.8095\n",
      "Epoch 4/6\n",
      "473/473 [==============================] - 0s 977us/step - loss: 0.3171 - accuracy: 0.8764\n",
      "Epoch 5/6\n",
      "473/473 [==============================] - 1s 1ms/step - loss: 0.2952 - accuracy: 0.8969\n",
      "Epoch 6/6\n",
      "473/473 [==============================] - 1s 2ms/step - loss: 0.2815 - accuracy: 0.9050\n"
     ]
    },
    {
     "name": "stderr",
     "output_type": "stream",
     "text": [
      "/Users/husni.zuhdi/Documents/Codes/1-Python-Workshop/retention-prediction-demo/retention-prediction/lib/python3.10/site-packages/tensorflow/python/keras/engine/sequential.py:454: UserWarning: `model.predict_classes()` is deprecated and will be removed after 2021-01-01. Please use instead:* `np.argmax(model.predict(x), axis=-1)`,   if your model does multi-class classification   (e.g. if it uses a `softmax` last-layer activation).* `(model.predict(x) > 0.5).astype(\"int32\")`,   if your model does binary classification   (e.g. if it uses a `sigmoid` last-layer activation).\n",
      "  warnings.warn('`model.predict_classes()` is deprecated and '\n"
     ]
    },
    {
     "name": "stdout",
     "output_type": "stream",
     "text": [
      "Epoch 1/6\n",
      "473/473 [==============================] - 1s 991us/step - loss: 0.5357 - accuracy: 0.7804\n",
      "Epoch 2/6\n",
      "473/473 [==============================] - 1s 1ms/step - loss: 0.3700 - accuracy: 0.8076\n",
      "Epoch 3/6\n",
      "473/473 [==============================] - 0s 905us/step - loss: 0.3182 - accuracy: 0.8307\n",
      "Epoch 4/6\n",
      "473/473 [==============================] - 0s 906us/step - loss: 0.2900 - accuracy: 0.8429\n",
      "Epoch 5/6\n",
      "473/473 [==============================] - 0s 913us/step - loss: 0.2650 - accuracy: 0.8483\n",
      "Epoch 6/6\n",
      "473/473 [==============================] - 0s 868us/step - loss: 0.2485 - accuracy: 0.8826\n",
      "Epoch 1/6\n"
     ]
    },
    {
     "name": "stderr",
     "output_type": "stream",
     "text": [
      "/Users/husni.zuhdi/Documents/Codes/1-Python-Workshop/retention-prediction-demo/retention-prediction/lib/python3.10/site-packages/tensorflow/python/keras/engine/sequential.py:454: UserWarning: `model.predict_classes()` is deprecated and will be removed after 2021-01-01. Please use instead:* `np.argmax(model.predict(x), axis=-1)`,   if your model does multi-class classification   (e.g. if it uses a `softmax` last-layer activation).* `(model.predict(x) > 0.5).astype(\"int32\")`,   if your model does binary classification   (e.g. if it uses a `sigmoid` last-layer activation).\n",
      "  warnings.warn('`model.predict_classes()` is deprecated and '\n"
     ]
    },
    {
     "name": "stdout",
     "output_type": "stream",
     "text": [
      "473/473 [==============================] - 1s 864us/step - loss: 0.5318 - accuracy: 0.7727\n",
      "Epoch 2/6\n",
      "473/473 [==============================] - 0s 871us/step - loss: 0.3471 - accuracy: 0.8563\n",
      "Epoch 3/6\n",
      "473/473 [==============================] - 0s 890us/step - loss: 0.2711 - accuracy: 0.8984\n",
      "Epoch 4/6\n",
      "473/473 [==============================] - 0s 960us/step - loss: 0.2287 - accuracy: 0.9186\n",
      "Epoch 5/6\n",
      "473/473 [==============================] - 1s 1ms/step - loss: 0.2147 - accuracy: 0.9225\n",
      "Epoch 6/6\n",
      "473/473 [==============================] - 0s 908us/step - loss: 0.2072 - accuracy: 0.9264\n",
      "Epoch 1/6\n"
     ]
    },
    {
     "name": "stderr",
     "output_type": "stream",
     "text": [
      "/Users/husni.zuhdi/Documents/Codes/1-Python-Workshop/retention-prediction-demo/retention-prediction/lib/python3.10/site-packages/tensorflow/python/keras/engine/sequential.py:454: UserWarning: `model.predict_classes()` is deprecated and will be removed after 2021-01-01. Please use instead:* `np.argmax(model.predict(x), axis=-1)`,   if your model does multi-class classification   (e.g. if it uses a `softmax` last-layer activation).* `(model.predict(x) > 0.5).astype(\"int32\")`,   if your model does binary classification   (e.g. if it uses a `sigmoid` last-layer activation).\n",
      "  warnings.warn('`model.predict_classes()` is deprecated and '\n"
     ]
    },
    {
     "name": "stdout",
     "output_type": "stream",
     "text": [
      "473/473 [==============================] - 2s 1ms/step - loss: 0.5336 - accuracy: 0.7682\n",
      "Epoch 2/6\n",
      "473/473 [==============================] - 1s 1ms/step - loss: 0.3674 - accuracy: 0.8174\n",
      "Epoch 3/6\n",
      "473/473 [==============================] - 1s 1ms/step - loss: 0.3179 - accuracy: 0.8301\n",
      "Epoch 4/6\n",
      "473/473 [==============================] - 1s 1ms/step - loss: 0.2891 - accuracy: 0.8373\n",
      "Epoch 5/6\n",
      "473/473 [==============================] - 1s 1ms/step - loss: 0.2707 - accuracy: 0.8633\n",
      "Epoch 6/6\n",
      "473/473 [==============================] - 1s 1ms/step - loss: 0.2582 - accuracy: 0.9099\n",
      "Epoch 1/6\n"
     ]
    },
    {
     "name": "stderr",
     "output_type": "stream",
     "text": [
      "/Users/husni.zuhdi/Documents/Codes/1-Python-Workshop/retention-prediction-demo/retention-prediction/lib/python3.10/site-packages/tensorflow/python/keras/engine/sequential.py:454: UserWarning: `model.predict_classes()` is deprecated and will be removed after 2021-01-01. Please use instead:* `np.argmax(model.predict(x), axis=-1)`,   if your model does multi-class classification   (e.g. if it uses a `softmax` last-layer activation).* `(model.predict(x) > 0.5).astype(\"int32\")`,   if your model does binary classification   (e.g. if it uses a `sigmoid` last-layer activation).\n",
      "  warnings.warn('`model.predict_classes()` is deprecated and '\n"
     ]
    },
    {
     "name": "stdout",
     "output_type": "stream",
     "text": [
      "473/473 [==============================] - 1s 1ms/step - loss: 0.5385 - accuracy: 0.7833\n",
      "Epoch 2/6\n",
      "473/473 [==============================] - 0s 1ms/step - loss: 0.3493 - accuracy: 0.8433\n",
      "Epoch 3/6\n",
      "473/473 [==============================] - 1s 1ms/step - loss: 0.2754 - accuracy: 0.9006\n",
      "Epoch 4/6\n",
      "473/473 [==============================] - 0s 1ms/step - loss: 0.2384 - accuracy: 0.9158\n",
      "Epoch 5/6\n",
      "473/473 [==============================] - 0s 1ms/step - loss: 0.2218 - accuracy: 0.9230\n",
      "Epoch 6/6\n",
      "473/473 [==============================] - 0s 1ms/step - loss: 0.2129 - accuracy: 0.9283\n",
      "Epoch 1/8\n"
     ]
    },
    {
     "name": "stderr",
     "output_type": "stream",
     "text": [
      "/Users/husni.zuhdi/Documents/Codes/1-Python-Workshop/retention-prediction-demo/retention-prediction/lib/python3.10/site-packages/tensorflow/python/keras/engine/sequential.py:454: UserWarning: `model.predict_classes()` is deprecated and will be removed after 2021-01-01. Please use instead:* `np.argmax(model.predict(x), axis=-1)`,   if your model does multi-class classification   (e.g. if it uses a `softmax` last-layer activation).* `(model.predict(x) > 0.5).astype(\"int32\")`,   if your model does binary classification   (e.g. if it uses a `sigmoid` last-layer activation).\n",
      "  warnings.warn('`model.predict_classes()` is deprecated and '\n"
     ]
    },
    {
     "name": "stdout",
     "output_type": "stream",
     "text": [
      "473/473 [==============================] - 1s 1ms/step - loss: 0.5062 - accuracy: 0.7793\n",
      "Epoch 2/8\n",
      "473/473 [==============================] - 1s 1ms/step - loss: 0.3375 - accuracy: 0.8154\n",
      "Epoch 3/8\n",
      "473/473 [==============================] - 1s 1ms/step - loss: 0.2884 - accuracy: 0.8384\n",
      "Epoch 4/8\n",
      "473/473 [==============================] - 0s 994us/step - loss: 0.2658 - accuracy: 0.8509\n",
      "Epoch 5/8\n",
      "473/473 [==============================] - 0s 1ms/step - loss: 0.2498 - accuracy: 0.9086\n",
      "Epoch 6/8\n",
      "473/473 [==============================] - 0s 1ms/step - loss: 0.2420 - accuracy: 0.9235\n",
      "Epoch 7/8\n",
      "473/473 [==============================] - 0s 1ms/step - loss: 0.2335 - accuracy: 0.9302\n",
      "Epoch 8/8\n",
      "473/473 [==============================] - 0s 1ms/step - loss: 0.2294 - accuracy: 0.9306\n",
      "Epoch 1/8\n"
     ]
    },
    {
     "name": "stderr",
     "output_type": "stream",
     "text": [
      "/Users/husni.zuhdi/Documents/Codes/1-Python-Workshop/retention-prediction-demo/retention-prediction/lib/python3.10/site-packages/tensorflow/python/keras/engine/sequential.py:454: UserWarning: `model.predict_classes()` is deprecated and will be removed after 2021-01-01. Please use instead:* `np.argmax(model.predict(x), axis=-1)`,   if your model does multi-class classification   (e.g. if it uses a `softmax` last-layer activation).* `(model.predict(x) > 0.5).astype(\"int32\")`,   if your model does binary classification   (e.g. if it uses a `sigmoid` last-layer activation).\n",
      "  warnings.warn('`model.predict_classes()` is deprecated and '\n"
     ]
    },
    {
     "name": "stdout",
     "output_type": "stream",
     "text": [
      "473/473 [==============================] - 1s 1ms/step - loss: 0.5045 - accuracy: 0.7762\n",
      "Epoch 2/8\n",
      "473/473 [==============================] - 1s 1ms/step - loss: 0.3513 - accuracy: 0.8057\n",
      "Epoch 3/8\n",
      "473/473 [==============================] - 0s 1ms/step - loss: 0.3059 - accuracy: 0.8306\n",
      "Epoch 4/8\n",
      "473/473 [==============================] - 0s 1ms/step - loss: 0.2815 - accuracy: 0.8393\n",
      "Epoch 5/8\n",
      "473/473 [==============================] - 0s 1ms/step - loss: 0.2632 - accuracy: 0.8714\n",
      "Epoch 6/8\n",
      "473/473 [==============================] - 1s 1ms/step - loss: 0.2522 - accuracy: 0.9071\n",
      "Epoch 7/8\n",
      "473/473 [==============================] - 0s 1ms/step - loss: 0.2456 - accuracy: 0.9173\n",
      "Epoch 8/8\n",
      "473/473 [==============================] - 0s 1ms/step - loss: 0.2385 - accuracy: 0.9268\n",
      "Epoch 1/8\n"
     ]
    },
    {
     "name": "stderr",
     "output_type": "stream",
     "text": [
      "/Users/husni.zuhdi/Documents/Codes/1-Python-Workshop/retention-prediction-demo/retention-prediction/lib/python3.10/site-packages/tensorflow/python/keras/engine/sequential.py:454: UserWarning: `model.predict_classes()` is deprecated and will be removed after 2021-01-01. Please use instead:* `np.argmax(model.predict(x), axis=-1)`,   if your model does multi-class classification   (e.g. if it uses a `softmax` last-layer activation).* `(model.predict(x) > 0.5).astype(\"int32\")`,   if your model does binary classification   (e.g. if it uses a `sigmoid` last-layer activation).\n",
      "  warnings.warn('`model.predict_classes()` is deprecated and '\n"
     ]
    },
    {
     "name": "stdout",
     "output_type": "stream",
     "text": [
      "473/473 [==============================] - 1s 1ms/step - loss: 0.5052 - accuracy: 0.7773\n",
      "Epoch 2/8\n",
      "473/473 [==============================] - 1s 1ms/step - loss: 0.3484 - accuracy: 0.8027\n",
      "Epoch 3/8\n",
      "473/473 [==============================] - 1s 1ms/step - loss: 0.3055 - accuracy: 0.8312\n",
      "Epoch 4/8\n",
      "473/473 [==============================] - 0s 1ms/step - loss: 0.2769 - accuracy: 0.8427\n",
      "Epoch 5/8\n",
      "473/473 [==============================] - 1s 1ms/step - loss: 0.2570 - accuracy: 0.9023\n",
      "Epoch 6/8\n",
      "473/473 [==============================] - 0s 1ms/step - loss: 0.2464 - accuracy: 0.9237\n",
      "Epoch 7/8\n",
      "473/473 [==============================] - 1s 1ms/step - loss: 0.2367 - accuracy: 0.9274\n",
      "Epoch 8/8\n",
      "473/473 [==============================] - 0s 1ms/step - loss: 0.2337 - accuracy: 0.9295\n",
      "Epoch 1/8\n"
     ]
    },
    {
     "name": "stderr",
     "output_type": "stream",
     "text": [
      "/Users/husni.zuhdi/Documents/Codes/1-Python-Workshop/retention-prediction-demo/retention-prediction/lib/python3.10/site-packages/tensorflow/python/keras/engine/sequential.py:454: UserWarning: `model.predict_classes()` is deprecated and will be removed after 2021-01-01. Please use instead:* `np.argmax(model.predict(x), axis=-1)`,   if your model does multi-class classification   (e.g. if it uses a `softmax` last-layer activation).* `(model.predict(x) > 0.5).astype(\"int32\")`,   if your model does binary classification   (e.g. if it uses a `sigmoid` last-layer activation).\n",
      "  warnings.warn('`model.predict_classes()` is deprecated and '\n"
     ]
    },
    {
     "name": "stdout",
     "output_type": "stream",
     "text": [
      "473/473 [==============================] - 1s 1ms/step - loss: 0.5102 - accuracy: 0.7670\n",
      "Epoch 2/8\n",
      "473/473 [==============================] - 1s 1ms/step - loss: 0.3624 - accuracy: 0.8302\n",
      "Epoch 3/8\n",
      "473/473 [==============================] - 1s 1ms/step - loss: 0.3117 - accuracy: 0.8535\n",
      "Epoch 4/8\n",
      "473/473 [==============================] - 1s 1ms/step - loss: 0.2816 - accuracy: 0.8649\n",
      "Epoch 5/8\n",
      "473/473 [==============================] - 1s 1ms/step - loss: 0.2665 - accuracy: 0.8688\n",
      "Epoch 6/8\n",
      "473/473 [==============================] - 1s 1ms/step - loss: 0.2544 - accuracy: 0.8942\n",
      "Epoch 7/8\n",
      "473/473 [==============================] - 1s 1ms/step - loss: 0.2483 - accuracy: 0.9036\n",
      "Epoch 8/8\n",
      "473/473 [==============================] - 1s 1ms/step - loss: 0.2413 - accuracy: 0.9113\n",
      "Epoch 1/8\n"
     ]
    },
    {
     "name": "stderr",
     "output_type": "stream",
     "text": [
      "/Users/husni.zuhdi/Documents/Codes/1-Python-Workshop/retention-prediction-demo/retention-prediction/lib/python3.10/site-packages/tensorflow/python/keras/engine/sequential.py:454: UserWarning: `model.predict_classes()` is deprecated and will be removed after 2021-01-01. Please use instead:* `np.argmax(model.predict(x), axis=-1)`,   if your model does multi-class classification   (e.g. if it uses a `softmax` last-layer activation).* `(model.predict(x) > 0.5).astype(\"int32\")`,   if your model does binary classification   (e.g. if it uses a `sigmoid` last-layer activation).\n",
      "  warnings.warn('`model.predict_classes()` is deprecated and '\n"
     ]
    },
    {
     "name": "stdout",
     "output_type": "stream",
     "text": [
      "473/473 [==============================] - 1s 1ms/step - loss: 0.5170 - accuracy: 0.7804\n",
      "Epoch 2/8\n",
      "473/473 [==============================] - 1s 2ms/step - loss: 0.3120 - accuracy: 0.8809\n",
      "Epoch 3/8\n",
      "473/473 [==============================] - 1s 2ms/step - loss: 0.2482 - accuracy: 0.9106\n",
      "Epoch 4/8\n",
      "473/473 [==============================] - 1s 2ms/step - loss: 0.2186 - accuracy: 0.9199\n",
      "Epoch 5/8\n",
      "473/473 [==============================] - 1s 2ms/step - loss: 0.2082 - accuracy: 0.9257\n",
      "Epoch 6/8\n",
      "473/473 [==============================] - 1s 2ms/step - loss: 0.2031 - accuracy: 0.9272\n",
      "Epoch 7/8\n",
      "473/473 [==============================] - 1s 2ms/step - loss: 0.1968 - accuracy: 0.9305\n",
      "Epoch 8/8\n",
      "473/473 [==============================] - 1s 2ms/step - loss: 0.1950 - accuracy: 0.9325\n"
     ]
    },
    {
     "name": "stderr",
     "output_type": "stream",
     "text": [
      "/Users/husni.zuhdi/Documents/Codes/1-Python-Workshop/retention-prediction-demo/retention-prediction/lib/python3.10/site-packages/tensorflow/python/keras/engine/sequential.py:454: UserWarning: `model.predict_classes()` is deprecated and will be removed after 2021-01-01. Please use instead:* `np.argmax(model.predict(x), axis=-1)`,   if your model does multi-class classification   (e.g. if it uses a `softmax` last-layer activation).* `(model.predict(x) > 0.5).astype(\"int32\")`,   if your model does binary classification   (e.g. if it uses a `sigmoid` last-layer activation).\n",
      "  warnings.warn('`model.predict_classes()` is deprecated and '\n"
     ]
    },
    {
     "name": "stdout",
     "output_type": "stream",
     "text": [
      "Epoch 1/8\n",
      "473/473 [==============================] - 1s 2ms/step - loss: 0.5102 - accuracy: 0.7924\n",
      "Epoch 2/8\n",
      "473/473 [==============================] - 1s 2ms/step - loss: 0.3111 - accuracy: 0.8776\n",
      "Epoch 3/8\n",
      "473/473 [==============================] - 1s 1ms/step - loss: 0.2544 - accuracy: 0.9030\n",
      "Epoch 4/8\n",
      "473/473 [==============================] - 1s 1ms/step - loss: 0.2280 - accuracy: 0.9191\n",
      "Epoch 5/8\n",
      "473/473 [==============================] - 1s 1ms/step - loss: 0.2108 - accuracy: 0.9270\n",
      "Epoch 6/8\n",
      "473/473 [==============================] - 1s 2ms/step - loss: 0.2026 - accuracy: 0.9306\n",
      "Epoch 7/8\n",
      "473/473 [==============================] - 1s 1ms/step - loss: 0.2014 - accuracy: 0.9300\n",
      "Epoch 8/8\n",
      "473/473 [==============================] - 0s 1ms/step - loss: 0.1946 - accuracy: 0.9337\n",
      "Epoch 1/8\n"
     ]
    },
    {
     "name": "stderr",
     "output_type": "stream",
     "text": [
      "/Users/husni.zuhdi/Documents/Codes/1-Python-Workshop/retention-prediction-demo/retention-prediction/lib/python3.10/site-packages/tensorflow/python/keras/engine/sequential.py:454: UserWarning: `model.predict_classes()` is deprecated and will be removed after 2021-01-01. Please use instead:* `np.argmax(model.predict(x), axis=-1)`,   if your model does multi-class classification   (e.g. if it uses a `softmax` last-layer activation).* `(model.predict(x) > 0.5).astype(\"int32\")`,   if your model does binary classification   (e.g. if it uses a `sigmoid` last-layer activation).\n",
      "  warnings.warn('`model.predict_classes()` is deprecated and '\n"
     ]
    },
    {
     "name": "stdout",
     "output_type": "stream",
     "text": [
      "473/473 [==============================] - 1s 1ms/step - loss: 0.5021 - accuracy: 0.7954\n",
      "Epoch 2/8\n",
      "473/473 [==============================] - 1s 1ms/step - loss: 0.2980 - accuracy: 0.8900\n",
      "Epoch 3/8\n",
      "473/473 [==============================] - 1s 1ms/step - loss: 0.2398 - accuracy: 0.9150\n",
      "Epoch 4/8\n",
      "473/473 [==============================] - 1s 1ms/step - loss: 0.2126 - accuracy: 0.9287\n",
      "Epoch 5/8\n",
      "473/473 [==============================] - 1s 1ms/step - loss: 0.1981 - accuracy: 0.9343\n",
      "Epoch 6/8\n",
      "473/473 [==============================] - 1s 1ms/step - loss: 0.1992 - accuracy: 0.9333\n",
      "Epoch 7/8\n",
      "473/473 [==============================] - 1s 1ms/step - loss: 0.1912 - accuracy: 0.9366\n",
      "Epoch 8/8\n",
      "473/473 [==============================] - 1s 1ms/step - loss: 0.1864 - accuracy: 0.9383\n",
      "Epoch 1/8\n"
     ]
    },
    {
     "name": "stderr",
     "output_type": "stream",
     "text": [
      "/Users/husni.zuhdi/Documents/Codes/1-Python-Workshop/retention-prediction-demo/retention-prediction/lib/python3.10/site-packages/tensorflow/python/keras/engine/sequential.py:454: UserWarning: `model.predict_classes()` is deprecated and will be removed after 2021-01-01. Please use instead:* `np.argmax(model.predict(x), axis=-1)`,   if your model does multi-class classification   (e.g. if it uses a `softmax` last-layer activation).* `(model.predict(x) > 0.5).astype(\"int32\")`,   if your model does binary classification   (e.g. if it uses a `sigmoid` last-layer activation).\n",
      "  warnings.warn('`model.predict_classes()` is deprecated and '\n"
     ]
    },
    {
     "name": "stdout",
     "output_type": "stream",
     "text": [
      "473/473 [==============================] - 1s 1ms/step - loss: 0.5085 - accuracy: 0.7845\n",
      "Epoch 2/8\n",
      "473/473 [==============================] - 1s 1ms/step - loss: 0.3221 - accuracy: 0.8647\n",
      "Epoch 3/8\n",
      "473/473 [==============================] - 1s 1ms/step - loss: 0.2573 - accuracy: 0.9038\n",
      "Epoch 4/8\n",
      "473/473 [==============================] - 1s 1ms/step - loss: 0.2296 - accuracy: 0.9143\n",
      "Epoch 5/8\n",
      "473/473 [==============================] - 1s 1ms/step - loss: 0.2163 - accuracy: 0.9239\n",
      "Epoch 6/8\n",
      "473/473 [==============================] - 1s 1ms/step - loss: 0.2073 - accuracy: 0.9279\n",
      "Epoch 7/8\n",
      "473/473 [==============================] - 1s 1ms/step - loss: 0.1997 - accuracy: 0.9292\n",
      "Epoch 8/8\n",
      "473/473 [==============================] - 1s 1ms/step - loss: 0.1991 - accuracy: 0.9326\n",
      "Epoch 1/8\n"
     ]
    },
    {
     "name": "stderr",
     "output_type": "stream",
     "text": [
      "/Users/husni.zuhdi/Documents/Codes/1-Python-Workshop/retention-prediction-demo/retention-prediction/lib/python3.10/site-packages/tensorflow/python/keras/engine/sequential.py:454: UserWarning: `model.predict_classes()` is deprecated and will be removed after 2021-01-01. Please use instead:* `np.argmax(model.predict(x), axis=-1)`,   if your model does multi-class classification   (e.g. if it uses a `softmax` last-layer activation).* `(model.predict(x) > 0.5).astype(\"int32\")`,   if your model does binary classification   (e.g. if it uses a `sigmoid` last-layer activation).\n",
      "  warnings.warn('`model.predict_classes()` is deprecated and '\n"
     ]
    },
    {
     "name": "stdout",
     "output_type": "stream",
     "text": [
      "473/473 [==============================] - 1s 1ms/step - loss: 0.5142 - accuracy: 0.7702\n",
      "Epoch 2/8\n",
      "473/473 [==============================] - 0s 1ms/step - loss: 0.3436 - accuracy: 0.8241\n",
      "Epoch 3/8\n",
      "473/473 [==============================] - 1s 1ms/step - loss: 0.2963 - accuracy: 0.8310\n",
      "Epoch 4/8\n",
      "473/473 [==============================] - 1s 1ms/step - loss: 0.2724 - accuracy: 0.8455\n",
      "Epoch 5/8\n",
      "473/473 [==============================] - 1s 1ms/step - loss: 0.2579 - accuracy: 0.9038\n",
      "Epoch 6/8\n",
      "473/473 [==============================] - 1s 1ms/step - loss: 0.2517 - accuracy: 0.9144\n",
      "Epoch 7/8\n",
      "473/473 [==============================] - 1s 1ms/step - loss: 0.2421 - accuracy: 0.9244\n",
      "Epoch 8/8\n",
      "473/473 [==============================] - 1s 1ms/step - loss: 0.2381 - accuracy: 0.9240\n",
      "Epoch 1/8\n"
     ]
    },
    {
     "name": "stderr",
     "output_type": "stream",
     "text": [
      "/Users/husni.zuhdi/Documents/Codes/1-Python-Workshop/retention-prediction-demo/retention-prediction/lib/python3.10/site-packages/tensorflow/python/keras/engine/sequential.py:454: UserWarning: `model.predict_classes()` is deprecated and will be removed after 2021-01-01. Please use instead:* `np.argmax(model.predict(x), axis=-1)`,   if your model does multi-class classification   (e.g. if it uses a `softmax` last-layer activation).* `(model.predict(x) > 0.5).astype(\"int32\")`,   if your model does binary classification   (e.g. if it uses a `sigmoid` last-layer activation).\n",
      "  warnings.warn('`model.predict_classes()` is deprecated and '\n"
     ]
    },
    {
     "name": "stdout",
     "output_type": "stream",
     "text": [
      "473/473 [==============================] - 1s 1ms/step - loss: 0.5104 - accuracy: 0.7770\n",
      "Epoch 2/8\n",
      "473/473 [==============================] - 0s 1ms/step - loss: 0.3388 - accuracy: 0.8147\n",
      "Epoch 3/8\n",
      "473/473 [==============================] - 0s 1ms/step - loss: 0.2855 - accuracy: 0.8377\n",
      "Epoch 4/8\n",
      "473/473 [==============================] - 1s 1ms/step - loss: 0.2604 - accuracy: 0.8610\n",
      "Epoch 5/8\n",
      "473/473 [==============================] - 1s 1ms/step - loss: 0.2480 - accuracy: 0.9177\n",
      "Epoch 6/8\n",
      "473/473 [==============================] - 1s 1ms/step - loss: 0.2390 - accuracy: 0.9268\n",
      "Epoch 7/8\n",
      "473/473 [==============================] - 1s 1ms/step - loss: 0.2315 - accuracy: 0.9274\n",
      "Epoch 8/8\n",
      "473/473 [==============================] - 1s 1ms/step - loss: 0.2237 - accuracy: 0.9313\n",
      "Epoch 1/8\n"
     ]
    },
    {
     "name": "stderr",
     "output_type": "stream",
     "text": [
      "/Users/husni.zuhdi/Documents/Codes/1-Python-Workshop/retention-prediction-demo/retention-prediction/lib/python3.10/site-packages/tensorflow/python/keras/engine/sequential.py:454: UserWarning: `model.predict_classes()` is deprecated and will be removed after 2021-01-01. Please use instead:* `np.argmax(model.predict(x), axis=-1)`,   if your model does multi-class classification   (e.g. if it uses a `softmax` last-layer activation).* `(model.predict(x) > 0.5).astype(\"int32\")`,   if your model does binary classification   (e.g. if it uses a `sigmoid` last-layer activation).\n",
      "  warnings.warn('`model.predict_classes()` is deprecated and '\n"
     ]
    },
    {
     "name": "stdout",
     "output_type": "stream",
     "text": [
      "473/473 [==============================] - 1s 1ms/step - loss: 0.5289 - accuracy: 0.7776\n",
      "Epoch 2/8\n",
      "473/473 [==============================] - 1s 1ms/step - loss: 0.3591 - accuracy: 0.8120\n",
      "Epoch 3/8\n",
      "473/473 [==============================] - 0s 1ms/step - loss: 0.3107 - accuracy: 0.8377\n",
      "Epoch 4/8\n",
      "473/473 [==============================] - 1s 2ms/step - loss: 0.2840 - accuracy: 0.8516\n",
      "Epoch 5/8\n",
      "473/473 [==============================] - 1s 2ms/step - loss: 0.2700 - accuracy: 0.8528\n",
      "Epoch 6/8\n",
      "473/473 [==============================] - 1s 2ms/step - loss: 0.2580 - accuracy: 0.8558\n",
      "Epoch 7/8\n",
      "473/473 [==============================] - 1s 1ms/step - loss: 0.2483 - accuracy: 0.8990\n",
      "Epoch 8/8\n",
      "473/473 [==============================] - 0s 950us/step - loss: 0.2406 - accuracy: 0.9220\n",
      "Epoch 1/8\n"
     ]
    },
    {
     "name": "stderr",
     "output_type": "stream",
     "text": [
      "/Users/husni.zuhdi/Documents/Codes/1-Python-Workshop/retention-prediction-demo/retention-prediction/lib/python3.10/site-packages/tensorflow/python/keras/engine/sequential.py:454: UserWarning: `model.predict_classes()` is deprecated and will be removed after 2021-01-01. Please use instead:* `np.argmax(model.predict(x), axis=-1)`,   if your model does multi-class classification   (e.g. if it uses a `softmax` last-layer activation).* `(model.predict(x) > 0.5).astype(\"int32\")`,   if your model does binary classification   (e.g. if it uses a `sigmoid` last-layer activation).\n",
      "  warnings.warn('`model.predict_classes()` is deprecated and '\n"
     ]
    },
    {
     "name": "stdout",
     "output_type": "stream",
     "text": [
      "473/473 [==============================] - 1s 1ms/step - loss: 0.5303 - accuracy: 0.7760\n",
      "Epoch 2/8\n",
      "473/473 [==============================] - 0s 990us/step - loss: 0.3518 - accuracy: 0.8488\n",
      "Epoch 3/8\n",
      "473/473 [==============================] - 1s 1ms/step - loss: 0.2788 - accuracy: 0.8940\n",
      "Epoch 4/8\n",
      "473/473 [==============================] - 1s 1ms/step - loss: 0.2450 - accuracy: 0.9123\n",
      "Epoch 5/8\n",
      "473/473 [==============================] - 1s 1ms/step - loss: 0.2243 - accuracy: 0.9221\n",
      "Epoch 6/8\n",
      "473/473 [==============================] - 1s 1ms/step - loss: 0.2170 - accuracy: 0.9270\n",
      "Epoch 7/8\n",
      "473/473 [==============================] - 1s 1ms/step - loss: 0.2056 - accuracy: 0.9344\n",
      "Epoch 8/8\n",
      "473/473 [==============================] - 1s 1ms/step - loss: 0.2064 - accuracy: 0.9308\n",
      "Epoch 1/8\n"
     ]
    },
    {
     "name": "stderr",
     "output_type": "stream",
     "text": [
      "/Users/husni.zuhdi/Documents/Codes/1-Python-Workshop/retention-prediction-demo/retention-prediction/lib/python3.10/site-packages/tensorflow/python/keras/engine/sequential.py:454: UserWarning: `model.predict_classes()` is deprecated and will be removed after 2021-01-01. Please use instead:* `np.argmax(model.predict(x), axis=-1)`,   if your model does multi-class classification   (e.g. if it uses a `softmax` last-layer activation).* `(model.predict(x) > 0.5).astype(\"int32\")`,   if your model does binary classification   (e.g. if it uses a `sigmoid` last-layer activation).\n",
      "  warnings.warn('`model.predict_classes()` is deprecated and '\n"
     ]
    },
    {
     "name": "stdout",
     "output_type": "stream",
     "text": [
      "473/473 [==============================] - 1s 1ms/step - loss: 0.5365 - accuracy: 0.7674\n",
      "Epoch 2/8\n",
      "473/473 [==============================] - 1s 1ms/step - loss: 0.3635 - accuracy: 0.8454\n",
      "Epoch 3/8\n",
      "473/473 [==============================] - 1s 1ms/step - loss: 0.2909 - accuracy: 0.8878\n",
      "Epoch 4/8\n",
      "473/473 [==============================] - 0s 949us/step - loss: 0.2526 - accuracy: 0.9094\n",
      "Epoch 5/8\n",
      "473/473 [==============================] - 0s 1ms/step - loss: 0.2348 - accuracy: 0.9115\n",
      "Epoch 6/8\n",
      "473/473 [==============================] - 1s 1ms/step - loss: 0.2188 - accuracy: 0.9204\n",
      "Epoch 7/8\n",
      "473/473 [==============================] - 1s 1ms/step - loss: 0.2101 - accuracy: 0.9264\n",
      "Epoch 8/8\n",
      "473/473 [==============================] - 0s 1ms/step - loss: 0.2066 - accuracy: 0.9260\n",
      "Epoch 1/8\n"
     ]
    },
    {
     "name": "stderr",
     "output_type": "stream",
     "text": [
      "/Users/husni.zuhdi/Documents/Codes/1-Python-Workshop/retention-prediction-demo/retention-prediction/lib/python3.10/site-packages/tensorflow/python/keras/engine/sequential.py:454: UserWarning: `model.predict_classes()` is deprecated and will be removed after 2021-01-01. Please use instead:* `np.argmax(model.predict(x), axis=-1)`,   if your model does multi-class classification   (e.g. if it uses a `softmax` last-layer activation).* `(model.predict(x) > 0.5).astype(\"int32\")`,   if your model does binary classification   (e.g. if it uses a `sigmoid` last-layer activation).\n",
      "  warnings.warn('`model.predict_classes()` is deprecated and '\n"
     ]
    },
    {
     "name": "stdout",
     "output_type": "stream",
     "text": [
      "473/473 [==============================] - 1s 1ms/step - loss: 0.5326 - accuracy: 0.7662\n",
      "Epoch 2/8\n",
      "473/473 [==============================] - 1s 1ms/step - loss: 0.3690 - accuracy: 0.8390\n",
      "Epoch 3/8\n",
      "473/473 [==============================] - 1s 1ms/step - loss: 0.2931 - accuracy: 0.8867\n",
      "Epoch 4/8\n",
      "473/473 [==============================] - 1s 1ms/step - loss: 0.2520 - accuracy: 0.9008\n",
      "Epoch 5/8\n",
      "473/473 [==============================] - 1s 1ms/step - loss: 0.2298 - accuracy: 0.9143\n",
      "Epoch 6/8\n",
      "473/473 [==============================] - 1s 1ms/step - loss: 0.2177 - accuracy: 0.9209\n",
      "Epoch 7/8\n",
      "473/473 [==============================] - 1s 1ms/step - loss: 0.2125 - accuracy: 0.9226\n",
      "Epoch 8/8\n",
      "473/473 [==============================] - 1s 2ms/step - loss: 0.2086 - accuracy: 0.9264\n"
     ]
    },
    {
     "name": "stderr",
     "output_type": "stream",
     "text": [
      "/Users/husni.zuhdi/Documents/Codes/1-Python-Workshop/retention-prediction-demo/retention-prediction/lib/python3.10/site-packages/tensorflow/python/keras/engine/sequential.py:454: UserWarning: `model.predict_classes()` is deprecated and will be removed after 2021-01-01. Please use instead:* `np.argmax(model.predict(x), axis=-1)`,   if your model does multi-class classification   (e.g. if it uses a `softmax` last-layer activation).* `(model.predict(x) > 0.5).astype(\"int32\")`,   if your model does binary classification   (e.g. if it uses a `sigmoid` last-layer activation).\n",
      "  warnings.warn('`model.predict_classes()` is deprecated and '\n"
     ]
    },
    {
     "name": "stdout",
     "output_type": "stream",
     "text": [
      "Epoch 1/8\n",
      "473/473 [==============================] - 1s 1ms/step - loss: 0.5224 - accuracy: 0.7714\n",
      "Epoch 2/8\n",
      "473/473 [==============================] - 1s 1ms/step - loss: 0.3686 - accuracy: 0.8006\n",
      "Epoch 3/8\n",
      "473/473 [==============================] - 1s 1ms/step - loss: 0.3165 - accuracy: 0.8220\n",
      "Epoch 4/8\n",
      "473/473 [==============================] - 1s 1ms/step - loss: 0.2839 - accuracy: 0.8396\n",
      "Epoch 5/8\n",
      "473/473 [==============================] - 1s 1ms/step - loss: 0.2660 - accuracy: 0.8987\n",
      "Epoch 6/8\n",
      "473/473 [==============================] - 1s 1ms/step - loss: 0.2529 - accuracy: 0.9204\n",
      "Epoch 7/8\n",
      "473/473 [==============================] - 1s 1ms/step - loss: 0.2431 - accuracy: 0.9266\n",
      "Epoch 8/8\n",
      "473/473 [==============================] - 1s 1ms/step - loss: 0.2370 - accuracy: 0.9309\n"
     ]
    },
    {
     "name": "stderr",
     "output_type": "stream",
     "text": [
      "/Users/husni.zuhdi/Documents/Codes/1-Python-Workshop/retention-prediction-demo/retention-prediction/lib/python3.10/site-packages/tensorflow/python/keras/engine/sequential.py:454: UserWarning: `model.predict_classes()` is deprecated and will be removed after 2021-01-01. Please use instead:* `np.argmax(model.predict(x), axis=-1)`,   if your model does multi-class classification   (e.g. if it uses a `softmax` last-layer activation).* `(model.predict(x) > 0.5).astype(\"int32\")`,   if your model does binary classification   (e.g. if it uses a `sigmoid` last-layer activation).\n",
      "  warnings.warn('`model.predict_classes()` is deprecated and '\n"
     ]
    },
    {
     "name": "stdout",
     "output_type": "stream",
     "text": [
      "Epoch 1/8\n",
      "473/473 [==============================] - 1s 1ms/step - loss: 0.5374 - accuracy: 0.7610\n",
      "Epoch 2/8\n",
      "473/473 [==============================] - 1s 1ms/step - loss: 0.3871 - accuracy: 0.8124\n",
      "Epoch 3/8\n",
      "473/473 [==============================] - 1s 1ms/step - loss: 0.3336 - accuracy: 0.8483\n",
      "Epoch 4/8\n",
      "473/473 [==============================] - 1s 1ms/step - loss: 0.3045 - accuracy: 0.8629\n",
      "Epoch 5/8\n",
      "473/473 [==============================] - 1s 2ms/step - loss: 0.2824 - accuracy: 0.8687\n",
      "Epoch 6/8\n",
      "473/473 [==============================] - 1s 2ms/step - loss: 0.2666 - accuracy: 0.8765\n",
      "Epoch 7/8\n",
      "473/473 [==============================] - 1s 2ms/step - loss: 0.2602 - accuracy: 0.8806\n",
      "Epoch 8/8\n",
      "473/473 [==============================] - 1s 2ms/step - loss: 0.2485 - accuracy: 0.9036\n"
     ]
    },
    {
     "name": "stderr",
     "output_type": "stream",
     "text": [
      "/Users/husni.zuhdi/Documents/Codes/1-Python-Workshop/retention-prediction-demo/retention-prediction/lib/python3.10/site-packages/tensorflow/python/keras/engine/sequential.py:454: UserWarning: `model.predict_classes()` is deprecated and will be removed after 2021-01-01. Please use instead:* `np.argmax(model.predict(x), axis=-1)`,   if your model does multi-class classification   (e.g. if it uses a `softmax` last-layer activation).* `(model.predict(x) > 0.5).astype(\"int32\")`,   if your model does binary classification   (e.g. if it uses a `sigmoid` last-layer activation).\n",
      "  warnings.warn('`model.predict_classes()` is deprecated and '\n"
     ]
    },
    {
     "name": "stdout",
     "output_type": "stream",
     "text": [
      "Epoch 1/8\n",
      "473/473 [==============================] - 1s 1ms/step - loss: 0.5231 - accuracy: 0.7676\n",
      "Epoch 2/8\n",
      "473/473 [==============================] - 1s 1ms/step - loss: 0.3515 - accuracy: 0.8494\n",
      "Epoch 3/8\n",
      "473/473 [==============================] - 1s 2ms/step - loss: 0.2769 - accuracy: 0.8937\n",
      "Epoch 4/8\n",
      "473/473 [==============================] - 1s 1ms/step - loss: 0.2439 - accuracy: 0.9068\n",
      "Epoch 5/8\n",
      "473/473 [==============================] - 1s 1ms/step - loss: 0.2207 - accuracy: 0.9200\n",
      "Epoch 6/8\n",
      "473/473 [==============================] - 0s 1ms/step - loss: 0.2138 - accuracy: 0.9230\n",
      "Epoch 7/8\n",
      "473/473 [==============================] - 1s 1ms/step - loss: 0.2065 - accuracy: 0.9259\n",
      "Epoch 8/8\n",
      "473/473 [==============================] - 0s 998us/step - loss: 0.2027 - accuracy: 0.9293\n",
      "Epoch 1/8\n"
     ]
    },
    {
     "name": "stderr",
     "output_type": "stream",
     "text": [
      "/Users/husni.zuhdi/Documents/Codes/1-Python-Workshop/retention-prediction-demo/retention-prediction/lib/python3.10/site-packages/tensorflow/python/keras/engine/sequential.py:454: UserWarning: `model.predict_classes()` is deprecated and will be removed after 2021-01-01. Please use instead:* `np.argmax(model.predict(x), axis=-1)`,   if your model does multi-class classification   (e.g. if it uses a `softmax` last-layer activation).* `(model.predict(x) > 0.5).astype(\"int32\")`,   if your model does binary classification   (e.g. if it uses a `sigmoid` last-layer activation).\n",
      "  warnings.warn('`model.predict_classes()` is deprecated and '\n"
     ]
    },
    {
     "name": "stdout",
     "output_type": "stream",
     "text": [
      "473/473 [==============================] - 1s 1ms/step - loss: 0.5232 - accuracy: 0.7656\n",
      "Epoch 2/8\n",
      "473/473 [==============================] - 1s 2ms/step - loss: 0.3749 - accuracy: 0.8036\n",
      "Epoch 3/8\n",
      "473/473 [==============================] - 1s 1ms/step - loss: 0.3237 - accuracy: 0.8209\n",
      "Epoch 4/8\n",
      "473/473 [==============================] - 0s 888us/step - loss: 0.2930 - accuracy: 0.8349\n",
      "Epoch 5/8\n",
      "473/473 [==============================] - 0s 858us/step - loss: 0.2703 - accuracy: 0.8877\n",
      "Epoch 6/8\n",
      "473/473 [==============================] - 0s 927us/step - loss: 0.2535 - accuracy: 0.9123\n",
      "Epoch 7/8\n",
      "473/473 [==============================] - 1s 1ms/step - loss: 0.2465 - accuracy: 0.9214\n",
      "Epoch 8/8\n",
      "473/473 [==============================] - 1s 1ms/step - loss: 0.2344 - accuracy: 0.9277\n",
      "Epoch 1/8\n"
     ]
    },
    {
     "name": "stderr",
     "output_type": "stream",
     "text": [
      "/Users/husni.zuhdi/Documents/Codes/1-Python-Workshop/retention-prediction-demo/retention-prediction/lib/python3.10/site-packages/tensorflow/python/keras/engine/sequential.py:454: UserWarning: `model.predict_classes()` is deprecated and will be removed after 2021-01-01. Please use instead:* `np.argmax(model.predict(x), axis=-1)`,   if your model does multi-class classification   (e.g. if it uses a `softmax` last-layer activation).* `(model.predict(x) > 0.5).astype(\"int32\")`,   if your model does binary classification   (e.g. if it uses a `sigmoid` last-layer activation).\n",
      "  warnings.warn('`model.predict_classes()` is deprecated and '\n"
     ]
    },
    {
     "name": "stdout",
     "output_type": "stream",
     "text": [
      "473/473 [==============================] - 1s 989us/step - loss: 0.5879 - accuracy: 0.7826\n",
      "Epoch 2/8\n",
      "473/473 [==============================] - 0s 828us/step - loss: 0.3853 - accuracy: 0.8604\n",
      "Epoch 3/8\n",
      "473/473 [==============================] - 0s 845us/step - loss: 0.3032 - accuracy: 0.8932\n",
      "Epoch 4/8\n",
      "473/473 [==============================] - 0s 863us/step - loss: 0.2632 - accuracy: 0.9085\n",
      "Epoch 5/8\n",
      "473/473 [==============================] - 0s 853us/step - loss: 0.2392 - accuracy: 0.9195\n",
      "Epoch 6/8\n",
      "473/473 [==============================] - 0s 839us/step - loss: 0.2209 - accuracy: 0.9278\n",
      "Epoch 7/8\n",
      "473/473 [==============================] - 0s 953us/step - loss: 0.2106 - accuracy: 0.9307\n",
      "Epoch 8/8\n",
      "473/473 [==============================] - 0s 931us/step - loss: 0.2063 - accuracy: 0.9336\n",
      "Epoch 1/8\n"
     ]
    },
    {
     "name": "stderr",
     "output_type": "stream",
     "text": [
      "/Users/husni.zuhdi/Documents/Codes/1-Python-Workshop/retention-prediction-demo/retention-prediction/lib/python3.10/site-packages/tensorflow/python/keras/engine/sequential.py:454: UserWarning: `model.predict_classes()` is deprecated and will be removed after 2021-01-01. Please use instead:* `np.argmax(model.predict(x), axis=-1)`,   if your model does multi-class classification   (e.g. if it uses a `softmax` last-layer activation).* `(model.predict(x) > 0.5).astype(\"int32\")`,   if your model does binary classification   (e.g. if it uses a `sigmoid` last-layer activation).\n",
      "  warnings.warn('`model.predict_classes()` is deprecated and '\n"
     ]
    },
    {
     "name": "stdout",
     "output_type": "stream",
     "text": [
      "473/473 [==============================] - 1s 866us/step - loss: 0.5371 - accuracy: 0.7666\n",
      "Epoch 2/8\n",
      "473/473 [==============================] - 0s 985us/step - loss: 0.3529 - accuracy: 0.8505\n",
      "Epoch 3/8\n",
      "473/473 [==============================] - 1s 1ms/step - loss: 0.2894 - accuracy: 0.8876\n",
      "Epoch 4/8\n",
      "473/473 [==============================] - 1s 1ms/step - loss: 0.2523 - accuracy: 0.9086\n",
      "Epoch 5/8\n",
      "473/473 [==============================] - 1s 1ms/step - loss: 0.2231 - accuracy: 0.9220\n",
      "Epoch 6/8\n",
      "473/473 [==============================] - 1s 1ms/step - loss: 0.2151 - accuracy: 0.9232\n",
      "Epoch 7/8\n",
      "473/473 [==============================] - 1s 2ms/step - loss: 0.2090 - accuracy: 0.9251\n",
      "Epoch 8/8\n",
      "473/473 [==============================] - 1s 1ms/step - loss: 0.2022 - accuracy: 0.9280\n",
      "Epoch 1/10\n"
     ]
    },
    {
     "name": "stderr",
     "output_type": "stream",
     "text": [
      "/Users/husni.zuhdi/Documents/Codes/1-Python-Workshop/retention-prediction-demo/retention-prediction/lib/python3.10/site-packages/tensorflow/python/keras/engine/sequential.py:454: UserWarning: `model.predict_classes()` is deprecated and will be removed after 2021-01-01. Please use instead:* `np.argmax(model.predict(x), axis=-1)`,   if your model does multi-class classification   (e.g. if it uses a `softmax` last-layer activation).* `(model.predict(x) > 0.5).astype(\"int32\")`,   if your model does binary classification   (e.g. if it uses a `sigmoid` last-layer activation).\n",
      "  warnings.warn('`model.predict_classes()` is deprecated and '\n"
     ]
    },
    {
     "name": "stdout",
     "output_type": "stream",
     "text": [
      "473/473 [==============================] - 1s 1ms/step - loss: 0.5081 - accuracy: 0.7819\n",
      "Epoch 2/10\n",
      "473/473 [==============================] - 1s 1ms/step - loss: 0.3442 - accuracy: 0.8162\n",
      "Epoch 3/10\n",
      "473/473 [==============================] - 1s 1ms/step - loss: 0.2934 - accuracy: 0.8404\n",
      "Epoch 4/10\n",
      "473/473 [==============================] - 1s 1ms/step - loss: 0.2636 - accuracy: 0.8516\n",
      "Epoch 5/10\n",
      "473/473 [==============================] - 1s 1ms/step - loss: 0.2465 - accuracy: 0.8820\n",
      "Epoch 6/10\n",
      "473/473 [==============================] - 1s 2ms/step - loss: 0.2346 - accuracy: 0.9291\n",
      "Epoch 7/10\n",
      "473/473 [==============================] - 1s 1ms/step - loss: 0.2259 - accuracy: 0.9393\n",
      "Epoch 8/10\n",
      "473/473 [==============================] - 1s 1ms/step - loss: 0.2201 - accuracy: 0.9365\n",
      "Epoch 9/10\n",
      "473/473 [==============================] - 1s 1ms/step - loss: 0.2131 - accuracy: 0.9416\n",
      "Epoch 10/10\n",
      "473/473 [==============================] - 1s 1ms/step - loss: 0.2121 - accuracy: 0.9391\n",
      "Epoch 1/10\n"
     ]
    },
    {
     "name": "stderr",
     "output_type": "stream",
     "text": [
      "/Users/husni.zuhdi/Documents/Codes/1-Python-Workshop/retention-prediction-demo/retention-prediction/lib/python3.10/site-packages/tensorflow/python/keras/engine/sequential.py:454: UserWarning: `model.predict_classes()` is deprecated and will be removed after 2021-01-01. Please use instead:* `np.argmax(model.predict(x), axis=-1)`,   if your model does multi-class classification   (e.g. if it uses a `softmax` last-layer activation).* `(model.predict(x) > 0.5).astype(\"int32\")`,   if your model does binary classification   (e.g. if it uses a `sigmoid` last-layer activation).\n",
      "  warnings.warn('`model.predict_classes()` is deprecated and '\n"
     ]
    },
    {
     "name": "stdout",
     "output_type": "stream",
     "text": [
      "473/473 [==============================] - 1s 1ms/step - loss: 0.5194 - accuracy: 0.7600\n",
      "Epoch 2/10\n",
      "473/473 [==============================] - 1s 2ms/step - loss: 0.3806 - accuracy: 0.7616\n",
      "Epoch 3/10\n",
      "473/473 [==============================] - 1s 1ms/step - loss: 0.3427 - accuracy: 0.8008\n",
      "Epoch 4/10\n",
      "473/473 [==============================] - 1s 1ms/step - loss: 0.3171 - accuracy: 0.8671\n",
      "Epoch 5/10\n",
      "473/473 [==============================] - 1s 2ms/step - loss: 0.2979 - accuracy: 0.8908\n",
      "Epoch 6/10\n",
      "473/473 [==============================] - 1s 1ms/step - loss: 0.2831 - accuracy: 0.9039\n",
      "Epoch 7/10\n",
      "473/473 [==============================] - 1s 1ms/step - loss: 0.2704 - accuracy: 0.9103\n",
      "Epoch 8/10\n",
      "473/473 [==============================] - 1s 1ms/step - loss: 0.2633 - accuracy: 0.9165\n",
      "Epoch 9/10\n",
      "473/473 [==============================] - 1s 1ms/step - loss: 0.2545 - accuracy: 0.9205\n",
      "Epoch 10/10\n",
      "473/473 [==============================] - 1s 1ms/step - loss: 0.2482 - accuracy: 0.9227\n",
      "Epoch 1/10\n"
     ]
    },
    {
     "name": "stderr",
     "output_type": "stream",
     "text": [
      "/Users/husni.zuhdi/Documents/Codes/1-Python-Workshop/retention-prediction-demo/retention-prediction/lib/python3.10/site-packages/tensorflow/python/keras/engine/sequential.py:454: UserWarning: `model.predict_classes()` is deprecated and will be removed after 2021-01-01. Please use instead:* `np.argmax(model.predict(x), axis=-1)`,   if your model does multi-class classification   (e.g. if it uses a `softmax` last-layer activation).* `(model.predict(x) > 0.5).astype(\"int32\")`,   if your model does binary classification   (e.g. if it uses a `sigmoid` last-layer activation).\n",
      "  warnings.warn('`model.predict_classes()` is deprecated and '\n"
     ]
    },
    {
     "name": "stdout",
     "output_type": "stream",
     "text": [
      "473/473 [==============================] - 1s 1ms/step - loss: 0.5171 - accuracy: 0.7600\n",
      "Epoch 2/10\n",
      "473/473 [==============================] - 0s 984us/step - loss: 0.3838 - accuracy: 0.7617\n",
      "Epoch 3/10\n",
      "473/473 [==============================] - 1s 1ms/step - loss: 0.3443 - accuracy: 0.8076\n",
      "Epoch 4/10\n",
      "473/473 [==============================] - 0s 1ms/step - loss: 0.3174 - accuracy: 0.8639\n",
      "Epoch 5/10\n",
      "473/473 [==============================] - 0s 1ms/step - loss: 0.2972 - accuracy: 0.8894\n",
      "Epoch 6/10\n",
      "473/473 [==============================] - 1s 1ms/step - loss: 0.2808 - accuracy: 0.9045\n",
      "Epoch 7/10\n",
      "473/473 [==============================] - 1s 1ms/step - loss: 0.2689 - accuracy: 0.9135\n",
      "Epoch 8/10\n",
      "473/473 [==============================] - 1s 1ms/step - loss: 0.2598 - accuracy: 0.9150\n",
      "Epoch 9/10\n",
      "473/473 [==============================] - 1s 1ms/step - loss: 0.2516 - accuracy: 0.9196\n",
      "Epoch 10/10\n",
      "473/473 [==============================] - 0s 1ms/step - loss: 0.2459 - accuracy: 0.9215\n",
      "Epoch 1/10\n"
     ]
    },
    {
     "name": "stderr",
     "output_type": "stream",
     "text": [
      "/Users/husni.zuhdi/Documents/Codes/1-Python-Workshop/retention-prediction-demo/retention-prediction/lib/python3.10/site-packages/tensorflow/python/keras/engine/sequential.py:454: UserWarning: `model.predict_classes()` is deprecated and will be removed after 2021-01-01. Please use instead:* `np.argmax(model.predict(x), axis=-1)`,   if your model does multi-class classification   (e.g. if it uses a `softmax` last-layer activation).* `(model.predict(x) > 0.5).astype(\"int32\")`,   if your model does binary classification   (e.g. if it uses a `sigmoid` last-layer activation).\n",
      "  warnings.warn('`model.predict_classes()` is deprecated and '\n"
     ]
    },
    {
     "name": "stdout",
     "output_type": "stream",
     "text": [
      "473/473 [==============================] - 1s 908us/step - loss: 0.5187 - accuracy: 0.7757\n",
      "Epoch 2/10\n",
      "473/473 [==============================] - 0s 916us/step - loss: 0.3398 - accuracy: 0.8477\n",
      "Epoch 3/10\n",
      "473/473 [==============================] - 0s 863us/step - loss: 0.2756 - accuracy: 0.8934\n",
      "Epoch 4/10\n",
      "473/473 [==============================] - 0s 1ms/step - loss: 0.2445 - accuracy: 0.9081\n",
      "Epoch 5/10\n",
      "473/473 [==============================] - 0s 928us/step - loss: 0.2271 - accuracy: 0.9163\n",
      "Epoch 6/10\n",
      "473/473 [==============================] - 0s 872us/step - loss: 0.2154 - accuracy: 0.9250\n",
      "Epoch 7/10\n",
      "473/473 [==============================] - 0s 910us/step - loss: 0.2081 - accuracy: 0.9276\n",
      "Epoch 8/10\n",
      "473/473 [==============================] - 0s 927us/step - loss: 0.2011 - accuracy: 0.9294\n",
      "Epoch 9/10\n",
      "473/473 [==============================] - 0s 918us/step - loss: 0.1928 - accuracy: 0.9331\n",
      "Epoch 10/10\n",
      "473/473 [==============================] - 0s 975us/step - loss: 0.1964 - accuracy: 0.9312\n",
      "Epoch 1/10\n"
     ]
    },
    {
     "name": "stderr",
     "output_type": "stream",
     "text": [
      "/Users/husni.zuhdi/Documents/Codes/1-Python-Workshop/retention-prediction-demo/retention-prediction/lib/python3.10/site-packages/tensorflow/python/keras/engine/sequential.py:454: UserWarning: `model.predict_classes()` is deprecated and will be removed after 2021-01-01. Please use instead:* `np.argmax(model.predict(x), axis=-1)`,   if your model does multi-class classification   (e.g. if it uses a `softmax` last-layer activation).* `(model.predict(x) > 0.5).astype(\"int32\")`,   if your model does binary classification   (e.g. if it uses a `sigmoid` last-layer activation).\n",
      "  warnings.warn('`model.predict_classes()` is deprecated and '\n"
     ]
    },
    {
     "name": "stdout",
     "output_type": "stream",
     "text": [
      "473/473 [==============================] - 1s 925us/step - loss: 0.5090 - accuracy: 0.7764\n",
      "Epoch 2/10\n",
      "473/473 [==============================] - 1s 1ms/step - loss: 0.3378 - accuracy: 0.8169\n",
      "Epoch 3/10\n",
      "473/473 [==============================] - 0s 976us/step - loss: 0.2872 - accuracy: 0.8413\n",
      "Epoch 4/10\n",
      "473/473 [==============================] - 0s 967us/step - loss: 0.2594 - accuracy: 0.8493\n",
      "Epoch 5/10\n",
      "473/473 [==============================] - 0s 891us/step - loss: 0.2492 - accuracy: 0.8896\n",
      "Epoch 6/10\n",
      "473/473 [==============================] - 0s 910us/step - loss: 0.2395 - accuracy: 0.9232\n",
      "Epoch 7/10\n",
      "473/473 [==============================] - 0s 915us/step - loss: 0.2325 - accuracy: 0.9313\n",
      "Epoch 8/10\n",
      "473/473 [==============================] - 0s 899us/step - loss: 0.2279 - accuracy: 0.9333\n",
      "Epoch 9/10\n",
      "473/473 [==============================] - 0s 929us/step - loss: 0.2253 - accuracy: 0.9328\n",
      "Epoch 10/10\n",
      "473/473 [==============================] - 0s 952us/step - loss: 0.2193 - accuracy: 0.9345\n",
      "Epoch 1/10\n"
     ]
    },
    {
     "name": "stderr",
     "output_type": "stream",
     "text": [
      "/Users/husni.zuhdi/Documents/Codes/1-Python-Workshop/retention-prediction-demo/retention-prediction/lib/python3.10/site-packages/tensorflow/python/keras/engine/sequential.py:454: UserWarning: `model.predict_classes()` is deprecated and will be removed after 2021-01-01. Please use instead:* `np.argmax(model.predict(x), axis=-1)`,   if your model does multi-class classification   (e.g. if it uses a `softmax` last-layer activation).* `(model.predict(x) > 0.5).astype(\"int32\")`,   if your model does binary classification   (e.g. if it uses a `sigmoid` last-layer activation).\n",
      "  warnings.warn('`model.predict_classes()` is deprecated and '\n"
     ]
    },
    {
     "name": "stdout",
     "output_type": "stream",
     "text": [
      "473/473 [==============================] - 1s 910us/step - loss: 0.5051 - accuracy: 0.7814\n",
      "Epoch 2/10\n",
      "473/473 [==============================] - 0s 898us/step - loss: 0.3326 - accuracy: 0.8223\n",
      "Epoch 3/10\n",
      "473/473 [==============================] - 0s 904us/step - loss: 0.2860 - accuracy: 0.8420\n",
      "Epoch 4/10\n",
      "473/473 [==============================] - 0s 979us/step - loss: 0.2613 - accuracy: 0.8454\n",
      "Epoch 5/10\n",
      "473/473 [==============================] - 0s 1ms/step - loss: 0.2455 - accuracy: 0.9090\n",
      "Epoch 6/10\n",
      "473/473 [==============================] - 0s 957us/step - loss: 0.2361 - accuracy: 0.9276\n",
      "Epoch 7/10\n",
      "473/473 [==============================] - 0s 994us/step - loss: 0.2307 - accuracy: 0.9343\n",
      "Epoch 8/10\n",
      "473/473 [==============================] - 0s 1ms/step - loss: 0.2243 - accuracy: 0.9349\n",
      "Epoch 9/10\n",
      "473/473 [==============================] - 0s 1ms/step - loss: 0.2190 - accuracy: 0.9354\n",
      "Epoch 10/10\n",
      "473/473 [==============================] - 0s 1ms/step - loss: 0.2149 - accuracy: 0.9390\n",
      "Epoch 1/10\n"
     ]
    },
    {
     "name": "stderr",
     "output_type": "stream",
     "text": [
      "/Users/husni.zuhdi/Documents/Codes/1-Python-Workshop/retention-prediction-demo/retention-prediction/lib/python3.10/site-packages/tensorflow/python/keras/engine/sequential.py:454: UserWarning: `model.predict_classes()` is deprecated and will be removed after 2021-01-01. Please use instead:* `np.argmax(model.predict(x), axis=-1)`,   if your model does multi-class classification   (e.g. if it uses a `softmax` last-layer activation).* `(model.predict(x) > 0.5).astype(\"int32\")`,   if your model does binary classification   (e.g. if it uses a `sigmoid` last-layer activation).\n",
      "  warnings.warn('`model.predict_classes()` is deprecated and '\n"
     ]
    },
    {
     "name": "stdout",
     "output_type": "stream",
     "text": [
      "473/473 [==============================] - 1s 1ms/step - loss: 0.5069 - accuracy: 0.7768\n",
      "Epoch 2/10\n",
      "473/473 [==============================] - 1s 1ms/step - loss: 0.3477 - accuracy: 0.8141\n",
      "Epoch 3/10\n",
      "473/473 [==============================] - 1s 1ms/step - loss: 0.3075 - accuracy: 0.8359\n",
      "Epoch 4/10\n",
      "473/473 [==============================] - 0s 1ms/step - loss: 0.2797 - accuracy: 0.8489\n",
      "Epoch 5/10\n",
      "473/473 [==============================] - 0s 928us/step - loss: 0.2626 - accuracy: 0.8500\n",
      "Epoch 6/10\n",
      "473/473 [==============================] - 0s 905us/step - loss: 0.2465 - accuracy: 0.8798\n",
      "Epoch 7/10\n",
      "473/473 [==============================] - 0s 944us/step - loss: 0.2385 - accuracy: 0.9230\n",
      "Epoch 8/10\n",
      "473/473 [==============================] - 0s 933us/step - loss: 0.2316 - accuracy: 0.9284\n",
      "Epoch 9/10\n",
      "473/473 [==============================] - 0s 929us/step - loss: 0.2242 - accuracy: 0.9281\n",
      "Epoch 10/10\n",
      "473/473 [==============================] - 0s 874us/step - loss: 0.2243 - accuracy: 0.9305\n",
      "Epoch 1/10\n"
     ]
    },
    {
     "name": "stderr",
     "output_type": "stream",
     "text": [
      "/Users/husni.zuhdi/Documents/Codes/1-Python-Workshop/retention-prediction-demo/retention-prediction/lib/python3.10/site-packages/tensorflow/python/keras/engine/sequential.py:454: UserWarning: `model.predict_classes()` is deprecated and will be removed after 2021-01-01. Please use instead:* `np.argmax(model.predict(x), axis=-1)`,   if your model does multi-class classification   (e.g. if it uses a `softmax` last-layer activation).* `(model.predict(x) > 0.5).astype(\"int32\")`,   if your model does binary classification   (e.g. if it uses a `sigmoid` last-layer activation).\n",
      "  warnings.warn('`model.predict_classes()` is deprecated and '\n"
     ]
    },
    {
     "name": "stdout",
     "output_type": "stream",
     "text": [
      "473/473 [==============================] - 1s 901us/step - loss: 0.5084 - accuracy: 0.7619\n",
      "Epoch 2/10\n",
      "473/473 [==============================] - 0s 887us/step - loss: 0.3732 - accuracy: 0.7630\n",
      "Epoch 3/10\n",
      "473/473 [==============================] - 0s 935us/step - loss: 0.3327 - accuracy: 0.8181\n",
      "Epoch 4/10\n",
      "473/473 [==============================] - 0s 945us/step - loss: 0.3073 - accuracy: 0.8755\n",
      "Epoch 5/10\n",
      "473/473 [==============================] - 0s 992us/step - loss: 0.2899 - accuracy: 0.8922\n",
      "Epoch 6/10\n",
      "473/473 [==============================] - 0s 938us/step - loss: 0.2761 - accuracy: 0.9049\n",
      "Epoch 7/10\n",
      "473/473 [==============================] - 0s 888us/step - loss: 0.2660 - accuracy: 0.9108\n",
      "Epoch 8/10\n",
      "473/473 [==============================] - 0s 934us/step - loss: 0.2605 - accuracy: 0.9125\n",
      "Epoch 9/10\n",
      "473/473 [==============================] - 1s 1ms/step - loss: 0.2534 - accuracy: 0.9163\n",
      "Epoch 10/10\n",
      "473/473 [==============================] - 1s 1ms/step - loss: 0.2458 - accuracy: 0.9185\n",
      "Epoch 1/10\n"
     ]
    },
    {
     "name": "stderr",
     "output_type": "stream",
     "text": [
      "/Users/husni.zuhdi/Documents/Codes/1-Python-Workshop/retention-prediction-demo/retention-prediction/lib/python3.10/site-packages/tensorflow/python/keras/engine/sequential.py:454: UserWarning: `model.predict_classes()` is deprecated and will be removed after 2021-01-01. Please use instead:* `np.argmax(model.predict(x), axis=-1)`,   if your model does multi-class classification   (e.g. if it uses a `softmax` last-layer activation).* `(model.predict(x) > 0.5).astype(\"int32\")`,   if your model does binary classification   (e.g. if it uses a `sigmoid` last-layer activation).\n",
      "  warnings.warn('`model.predict_classes()` is deprecated and '\n"
     ]
    },
    {
     "name": "stdout",
     "output_type": "stream",
     "text": [
      "473/473 [==============================] - 1s 1ms/step - loss: 0.5156 - accuracy: 0.7861\n",
      "Epoch 2/10\n",
      "473/473 [==============================] - 0s 957us/step - loss: 0.3204 - accuracy: 0.8699\n",
      "Epoch 3/10\n",
      "473/473 [==============================] - 0s 1ms/step - loss: 0.2571 - accuracy: 0.9036\n",
      "Epoch 4/10\n",
      "473/473 [==============================] - 0s 1ms/step - loss: 0.2266 - accuracy: 0.9191\n",
      "Epoch 5/10\n",
      "473/473 [==============================] - 0s 1ms/step - loss: 0.2163 - accuracy: 0.9246\n",
      "Epoch 6/10\n",
      "473/473 [==============================] - 0s 916us/step - loss: 0.2045 - accuracy: 0.9290\n",
      "Epoch 7/10\n",
      "473/473 [==============================] - 1s 1ms/step - loss: 0.2022 - accuracy: 0.9322\n",
      "Epoch 8/10\n",
      "473/473 [==============================] - 0s 983us/step - loss: 0.1929 - accuracy: 0.9369\n",
      "Epoch 9/10\n",
      "473/473 [==============================] - 0s 1ms/step - loss: 0.1922 - accuracy: 0.9368\n",
      "Epoch 10/10\n",
      "473/473 [==============================] - 0s 938us/step - loss: 0.1941 - accuracy: 0.9391\n",
      "Epoch 1/10\n"
     ]
    },
    {
     "name": "stderr",
     "output_type": "stream",
     "text": [
      "/Users/husni.zuhdi/Documents/Codes/1-Python-Workshop/retention-prediction-demo/retention-prediction/lib/python3.10/site-packages/tensorflow/python/keras/engine/sequential.py:454: UserWarning: `model.predict_classes()` is deprecated and will be removed after 2021-01-01. Please use instead:* `np.argmax(model.predict(x), axis=-1)`,   if your model does multi-class classification   (e.g. if it uses a `softmax` last-layer activation).* `(model.predict(x) > 0.5).astype(\"int32\")`,   if your model does binary classification   (e.g. if it uses a `sigmoid` last-layer activation).\n",
      "  warnings.warn('`model.predict_classes()` is deprecated and '\n"
     ]
    },
    {
     "name": "stdout",
     "output_type": "stream",
     "text": [
      "473/473 [==============================] - 1s 1ms/step - loss: 0.5176 - accuracy: 0.7722\n",
      "Epoch 2/10\n",
      "473/473 [==============================] - 0s 1ms/step - loss: 0.3610 - accuracy: 0.8179\n",
      "Epoch 3/10\n",
      "473/473 [==============================] - 1s 1ms/step - loss: 0.3202 - accuracy: 0.8276\n",
      "Epoch 4/10\n",
      "473/473 [==============================] - 1s 1ms/step - loss: 0.3011 - accuracy: 0.8325\n",
      "Epoch 5/10\n",
      "473/473 [==============================] - 1s 1ms/step - loss: 0.2830 - accuracy: 0.8494\n",
      "Epoch 6/10\n",
      "473/473 [==============================] - 0s 999us/step - loss: 0.2663 - accuracy: 0.9002\n",
      "Epoch 7/10\n",
      "473/473 [==============================] - 1s 1ms/step - loss: 0.2574 - accuracy: 0.9094\n",
      "Epoch 8/10\n",
      "473/473 [==============================] - 0s 978us/step - loss: 0.2491 - accuracy: 0.9176\n",
      "Epoch 9/10\n",
      "473/473 [==============================] - 0s 984us/step - loss: 0.2411 - accuracy: 0.9231\n",
      "Epoch 10/10\n",
      "473/473 [==============================] - 1s 1ms/step - loss: 0.2339 - accuracy: 0.9274\n",
      "Epoch 1/10\n"
     ]
    },
    {
     "name": "stderr",
     "output_type": "stream",
     "text": [
      "/Users/husni.zuhdi/Documents/Codes/1-Python-Workshop/retention-prediction-demo/retention-prediction/lib/python3.10/site-packages/tensorflow/python/keras/engine/sequential.py:454: UserWarning: `model.predict_classes()` is deprecated and will be removed after 2021-01-01. Please use instead:* `np.argmax(model.predict(x), axis=-1)`,   if your model does multi-class classification   (e.g. if it uses a `softmax` last-layer activation).* `(model.predict(x) > 0.5).astype(\"int32\")`,   if your model does binary classification   (e.g. if it uses a `sigmoid` last-layer activation).\n",
      "  warnings.warn('`model.predict_classes()` is deprecated and '\n"
     ]
    },
    {
     "name": "stdout",
     "output_type": "stream",
     "text": [
      "473/473 [==============================] - 1s 1ms/step - loss: 0.5152 - accuracy: 0.7644\n",
      "Epoch 2/10\n",
      "473/473 [==============================] - 0s 1ms/step - loss: 0.3821 - accuracy: 0.7644\n",
      "Epoch 3/10\n",
      "473/473 [==============================] - 1s 1ms/step - loss: 0.3450 - accuracy: 0.8059\n",
      "Epoch 4/10\n",
      "473/473 [==============================] - 1s 1ms/step - loss: 0.3233 - accuracy: 0.8655\n",
      "Epoch 5/10\n",
      "473/473 [==============================] - 1s 2ms/step - loss: 0.3066 - accuracy: 0.8802\n",
      "Epoch 6/10\n",
      "473/473 [==============================] - 1s 1ms/step - loss: 0.2932 - accuracy: 0.8933\n",
      "Epoch 7/10\n",
      "473/473 [==============================] - 1s 1ms/step - loss: 0.2827 - accuracy: 0.9021\n",
      "Epoch 8/10\n",
      "473/473 [==============================] - 1s 1ms/step - loss: 0.2735 - accuracy: 0.9058\n",
      "Epoch 9/10\n",
      "473/473 [==============================] - 0s 1ms/step - loss: 0.2658 - accuracy: 0.9084\n",
      "Epoch 10/10\n",
      "473/473 [==============================] - 1s 1ms/step - loss: 0.2595 - accuracy: 0.9119\n"
     ]
    },
    {
     "name": "stderr",
     "output_type": "stream",
     "text": [
      "/Users/husni.zuhdi/Documents/Codes/1-Python-Workshop/retention-prediction-demo/retention-prediction/lib/python3.10/site-packages/tensorflow/python/keras/engine/sequential.py:454: UserWarning: `model.predict_classes()` is deprecated and will be removed after 2021-01-01. Please use instead:* `np.argmax(model.predict(x), axis=-1)`,   if your model does multi-class classification   (e.g. if it uses a `softmax` last-layer activation).* `(model.predict(x) > 0.5).astype(\"int32\")`,   if your model does binary classification   (e.g. if it uses a `sigmoid` last-layer activation).\n",
      "  warnings.warn('`model.predict_classes()` is deprecated and '\n"
     ]
    },
    {
     "name": "stdout",
     "output_type": "stream",
     "text": [
      "Epoch 1/10\n",
      "473/473 [==============================] - 1s 1ms/step - loss: 0.5604 - accuracy: 0.7731\n",
      "Epoch 2/10\n",
      "473/473 [==============================] - 1s 1ms/step - loss: 0.3630 - accuracy: 0.8417\n",
      "Epoch 3/10\n",
      "473/473 [==============================] - 1s 1ms/step - loss: 0.2852 - accuracy: 0.8944\n",
      "Epoch 4/10\n",
      "473/473 [==============================] - 1s 1ms/step - loss: 0.2460 - accuracy: 0.9151\n",
      "Epoch 5/10\n",
      "473/473 [==============================] - 1s 1ms/step - loss: 0.2298 - accuracy: 0.9218\n",
      "Epoch 6/10\n",
      "473/473 [==============================] - 1s 1ms/step - loss: 0.2169 - accuracy: 0.9285\n",
      "Epoch 7/10\n",
      "473/473 [==============================] - 0s 926us/step - loss: 0.2106 - accuracy: 0.9293\n",
      "Epoch 8/10\n",
      "473/473 [==============================] - 0s 984us/step - loss: 0.2033 - accuracy: 0.9339\n",
      "Epoch 9/10\n",
      "473/473 [==============================] - 0s 1ms/step - loss: 0.2070 - accuracy: 0.9309\n",
      "Epoch 10/10\n",
      "473/473 [==============================] - 0s 978us/step - loss: 0.2000 - accuracy: 0.9346\n",
      "Epoch 1/10\n"
     ]
    },
    {
     "name": "stderr",
     "output_type": "stream",
     "text": [
      "/Users/husni.zuhdi/Documents/Codes/1-Python-Workshop/retention-prediction-demo/retention-prediction/lib/python3.10/site-packages/tensorflow/python/keras/engine/sequential.py:454: UserWarning: `model.predict_classes()` is deprecated and will be removed after 2021-01-01. Please use instead:* `np.argmax(model.predict(x), axis=-1)`,   if your model does multi-class classification   (e.g. if it uses a `softmax` last-layer activation).* `(model.predict(x) > 0.5).astype(\"int32\")`,   if your model does binary classification   (e.g. if it uses a `sigmoid` last-layer activation).\n",
      "  warnings.warn('`model.predict_classes()` is deprecated and '\n"
     ]
    },
    {
     "name": "stdout",
     "output_type": "stream",
     "text": [
      "473/473 [==============================] - 1s 953us/step - loss: 0.5353 - accuracy: 0.7660\n",
      "Epoch 2/10\n",
      "473/473 [==============================] - 0s 863us/step - loss: 0.3532 - accuracy: 0.8546\n",
      "Epoch 3/10\n",
      "473/473 [==============================] - 0s 818us/step - loss: 0.2807 - accuracy: 0.8910\n",
      "Epoch 4/10\n",
      "473/473 [==============================] - 0s 898us/step - loss: 0.2445 - accuracy: 0.9113\n",
      "Epoch 5/10\n",
      "473/473 [==============================] - 0s 901us/step - loss: 0.2258 - accuracy: 0.9200\n",
      "Epoch 6/10\n",
      "473/473 [==============================] - 0s 887us/step - loss: 0.2180 - accuracy: 0.9243\n",
      "Epoch 7/10\n",
      "473/473 [==============================] - 0s 842us/step - loss: 0.2053 - accuracy: 0.9323\n",
      "Epoch 8/10\n",
      "473/473 [==============================] - 0s 1ms/step - loss: 0.2073 - accuracy: 0.9276\n",
      "Epoch 9/10\n",
      "473/473 [==============================] - 0s 937us/step - loss: 0.2013 - accuracy: 0.9346\n",
      "Epoch 10/10\n",
      "473/473 [==============================] - 0s 929us/step - loss: 0.2004 - accuracy: 0.9332\n",
      "Epoch 1/10\n"
     ]
    },
    {
     "name": "stderr",
     "output_type": "stream",
     "text": [
      "/Users/husni.zuhdi/Documents/Codes/1-Python-Workshop/retention-prediction-demo/retention-prediction/lib/python3.10/site-packages/tensorflow/python/keras/engine/sequential.py:454: UserWarning: `model.predict_classes()` is deprecated and will be removed after 2021-01-01. Please use instead:* `np.argmax(model.predict(x), axis=-1)`,   if your model does multi-class classification   (e.g. if it uses a `softmax` last-layer activation).* `(model.predict(x) > 0.5).astype(\"int32\")`,   if your model does binary classification   (e.g. if it uses a `sigmoid` last-layer activation).\n",
      "  warnings.warn('`model.predict_classes()` is deprecated and '\n"
     ]
    },
    {
     "name": "stdout",
     "output_type": "stream",
     "text": [
      "473/473 [==============================] - 1s 1ms/step - loss: 0.5264 - accuracy: 0.7719\n",
      "Epoch 2/10\n",
      "473/473 [==============================] - 1s 1ms/step - loss: 0.3647 - accuracy: 0.8034\n",
      "Epoch 3/10\n",
      "473/473 [==============================] - 1s 1ms/step - loss: 0.3120 - accuracy: 0.8250\n",
      "Epoch 4/10\n",
      "473/473 [==============================] - 0s 1ms/step - loss: 0.2825 - accuracy: 0.8459\n",
      "Epoch 5/10\n",
      "473/473 [==============================] - 0s 881us/step - loss: 0.2635 - accuracy: 0.9060\n",
      "Epoch 6/10\n",
      "473/473 [==============================] - 0s 910us/step - loss: 0.2506 - accuracy: 0.9218\n",
      "Epoch 7/10\n",
      "473/473 [==============================] - 0s 902us/step - loss: 0.2416 - accuracy: 0.9253\n",
      "Epoch 8/10\n",
      "473/473 [==============================] - 0s 895us/step - loss: 0.2355 - accuracy: 0.9268\n",
      "Epoch 9/10\n",
      "473/473 [==============================] - 0s 884us/step - loss: 0.2318 - accuracy: 0.9279\n",
      "Epoch 10/10\n",
      "473/473 [==============================] - 0s 919us/step - loss: 0.2320 - accuracy: 0.9272\n",
      "Epoch 1/10\n"
     ]
    },
    {
     "name": "stderr",
     "output_type": "stream",
     "text": [
      "/Users/husni.zuhdi/Documents/Codes/1-Python-Workshop/retention-prediction-demo/retention-prediction/lib/python3.10/site-packages/tensorflow/python/keras/engine/sequential.py:454: UserWarning: `model.predict_classes()` is deprecated and will be removed after 2021-01-01. Please use instead:* `np.argmax(model.predict(x), axis=-1)`,   if your model does multi-class classification   (e.g. if it uses a `softmax` last-layer activation).* `(model.predict(x) > 0.5).astype(\"int32\")`,   if your model does binary classification   (e.g. if it uses a `sigmoid` last-layer activation).\n",
      "  warnings.warn('`model.predict_classes()` is deprecated and '\n"
     ]
    },
    {
     "name": "stdout",
     "output_type": "stream",
     "text": [
      "473/473 [==============================] - 1s 968us/step - loss: 0.5345 - accuracy: 0.7622\n",
      "Epoch 2/10\n",
      "473/473 [==============================] - 0s 1ms/step - loss: 0.3981 - accuracy: 0.7634\n",
      "Epoch 3/10\n",
      "473/473 [==============================] - 0s 1ms/step - loss: 0.3484 - accuracy: 0.8003\n",
      "Epoch 4/10\n",
      "473/473 [==============================] - 0s 991us/step - loss: 0.3154 - accuracy: 0.8728\n",
      "Epoch 5/10\n",
      "473/473 [==============================] - 0s 952us/step - loss: 0.2944 - accuracy: 0.8948\n",
      "Epoch 6/10\n",
      "473/473 [==============================] - 0s 1ms/step - loss: 0.2781 - accuracy: 0.9068\n",
      "Epoch 7/10\n",
      "473/473 [==============================] - 0s 931us/step - loss: 0.2701 - accuracy: 0.9135\n",
      "Epoch 8/10\n",
      "473/473 [==============================] - 0s 897us/step - loss: 0.2610 - accuracy: 0.9179\n",
      "Epoch 9/10\n",
      "473/473 [==============================] - 1s 1ms/step - loss: 0.2559 - accuracy: 0.9166\n",
      "Epoch 10/10\n",
      "473/473 [==============================] - 0s 986us/step - loss: 0.2486 - accuracy: 0.9221\n",
      "Epoch 1/10\n"
     ]
    },
    {
     "name": "stderr",
     "output_type": "stream",
     "text": [
      "/Users/husni.zuhdi/Documents/Codes/1-Python-Workshop/retention-prediction-demo/retention-prediction/lib/python3.10/site-packages/tensorflow/python/keras/engine/sequential.py:454: UserWarning: `model.predict_classes()` is deprecated and will be removed after 2021-01-01. Please use instead:* `np.argmax(model.predict(x), axis=-1)`,   if your model does multi-class classification   (e.g. if it uses a `softmax` last-layer activation).* `(model.predict(x) > 0.5).astype(\"int32\")`,   if your model does binary classification   (e.g. if it uses a `sigmoid` last-layer activation).\n",
      "  warnings.warn('`model.predict_classes()` is deprecated and '\n"
     ]
    },
    {
     "name": "stdout",
     "output_type": "stream",
     "text": [
      "473/473 [==============================] - 1s 935us/step - loss: 0.5212 - accuracy: 0.7702\n",
      "Epoch 2/10\n",
      "473/473 [==============================] - 0s 835us/step - loss: 0.3527 - accuracy: 0.8515\n",
      "Epoch 3/10\n",
      "473/473 [==============================] - 0s 833us/step - loss: 0.2839 - accuracy: 0.8915\n",
      "Epoch 4/10\n",
      "473/473 [==============================] - 0s 891us/step - loss: 0.2485 - accuracy: 0.9089\n",
      "Epoch 5/10\n",
      "473/473 [==============================] - 0s 819us/step - loss: 0.2277 - accuracy: 0.9175\n",
      "Epoch 6/10\n",
      "473/473 [==============================] - 0s 831us/step - loss: 0.2189 - accuracy: 0.9209\n",
      "Epoch 7/10\n",
      "473/473 [==============================] - 0s 848us/step - loss: 0.2137 - accuracy: 0.9224\n",
      "Epoch 8/10\n",
      "473/473 [==============================] - 0s 835us/step - loss: 0.2060 - accuracy: 0.9252\n",
      "Epoch 9/10\n",
      "473/473 [==============================] - 0s 926us/step - loss: 0.2058 - accuracy: 0.9274\n",
      "Epoch 10/10\n",
      "473/473 [==============================] - 0s 940us/step - loss: 0.2009 - accuracy: 0.9288\n",
      "Epoch 1/10\n"
     ]
    },
    {
     "name": "stderr",
     "output_type": "stream",
     "text": [
      "/Users/husni.zuhdi/Documents/Codes/1-Python-Workshop/retention-prediction-demo/retention-prediction/lib/python3.10/site-packages/tensorflow/python/keras/engine/sequential.py:454: UserWarning: `model.predict_classes()` is deprecated and will be removed after 2021-01-01. Please use instead:* `np.argmax(model.predict(x), axis=-1)`,   if your model does multi-class classification   (e.g. if it uses a `softmax` last-layer activation).* `(model.predict(x) > 0.5).astype(\"int32\")`,   if your model does binary classification   (e.g. if it uses a `sigmoid` last-layer activation).\n",
      "  warnings.warn('`model.predict_classes()` is deprecated and '\n"
     ]
    },
    {
     "name": "stdout",
     "output_type": "stream",
     "text": [
      "473/473 [==============================] - 1s 1ms/step - loss: 0.5325 - accuracy: 0.7687\n",
      "Epoch 2/10\n",
      "473/473 [==============================] - 0s 981us/step - loss: 0.3531 - accuracy: 0.8496\n",
      "Epoch 3/10\n",
      "473/473 [==============================] - 1s 1ms/step - loss: 0.2759 - accuracy: 0.8912\n",
      "Epoch 4/10\n",
      "473/473 [==============================] - 0s 979us/step - loss: 0.2385 - accuracy: 0.9123\n",
      "Epoch 5/10\n",
      "473/473 [==============================] - 0s 873us/step - loss: 0.2213 - accuracy: 0.9202\n",
      "Epoch 6/10\n",
      "473/473 [==============================] - 0s 863us/step - loss: 0.2083 - accuracy: 0.9295\n",
      "Epoch 7/10\n",
      "473/473 [==============================] - 0s 914us/step - loss: 0.2004 - accuracy: 0.9307\n",
      "Epoch 8/10\n",
      "473/473 [==============================] - 0s 941us/step - loss: 0.1993 - accuracy: 0.9300\n",
      "Epoch 9/10\n",
      "473/473 [==============================] - 0s 912us/step - loss: 0.1949 - accuracy: 0.9354\n",
      "Epoch 10/10\n",
      "473/473 [==============================] - 0s 882us/step - loss: 0.1886 - accuracy: 0.9380\n",
      "Epoch 1/10\n"
     ]
    },
    {
     "name": "stderr",
     "output_type": "stream",
     "text": [
      "/Users/husni.zuhdi/Documents/Codes/1-Python-Workshop/retention-prediction-demo/retention-prediction/lib/python3.10/site-packages/tensorflow/python/keras/engine/sequential.py:454: UserWarning: `model.predict_classes()` is deprecated and will be removed after 2021-01-01. Please use instead:* `np.argmax(model.predict(x), axis=-1)`,   if your model does multi-class classification   (e.g. if it uses a `softmax` last-layer activation).* `(model.predict(x) > 0.5).astype(\"int32\")`,   if your model does binary classification   (e.g. if it uses a `sigmoid` last-layer activation).\n",
      "  warnings.warn('`model.predict_classes()` is deprecated and '\n"
     ]
    },
    {
     "name": "stdout",
     "output_type": "stream",
     "text": [
      "473/473 [==============================] - 1s 1ms/step - loss: 0.5228 - accuracy: 0.7702\n",
      "Epoch 2/10\n",
      "473/473 [==============================] - 0s 950us/step - loss: 0.3635 - accuracy: 0.8068\n",
      "Epoch 3/10\n",
      "473/473 [==============================] - 0s 907us/step - loss: 0.3145 - accuracy: 0.8256\n",
      "Epoch 4/10\n",
      "473/473 [==============================] - 0s 950us/step - loss: 0.2865 - accuracy: 0.8383\n",
      "Epoch 5/10\n",
      "473/473 [==============================] - 0s 957us/step - loss: 0.2699 - accuracy: 0.8600\n",
      "Epoch 6/10\n",
      "473/473 [==============================] - 0s 1ms/step - loss: 0.2562 - accuracy: 0.9044\n",
      "Epoch 7/10\n",
      "473/473 [==============================] - 1s 1ms/step - loss: 0.2443 - accuracy: 0.9179\n",
      "Epoch 8/10\n",
      "473/473 [==============================] - 1s 1ms/step - loss: 0.2458 - accuracy: 0.9176\n",
      "Epoch 9/10\n",
      "473/473 [==============================] - 0s 1ms/step - loss: 0.2383 - accuracy: 0.9208\n",
      "Epoch 10/10\n",
      "473/473 [==============================] - 0s 940us/step - loss: 0.2359 - accuracy: 0.9234\n",
      "Epoch 1/10\n"
     ]
    },
    {
     "name": "stderr",
     "output_type": "stream",
     "text": [
      "/Users/husni.zuhdi/Documents/Codes/1-Python-Workshop/retention-prediction-demo/retention-prediction/lib/python3.10/site-packages/tensorflow/python/keras/engine/sequential.py:454: UserWarning: `model.predict_classes()` is deprecated and will be removed after 2021-01-01. Please use instead:* `np.argmax(model.predict(x), axis=-1)`,   if your model does multi-class classification   (e.g. if it uses a `softmax` last-layer activation).* `(model.predict(x) > 0.5).astype(\"int32\")`,   if your model does binary classification   (e.g. if it uses a `sigmoid` last-layer activation).\n",
      "  warnings.warn('`model.predict_classes()` is deprecated and '\n"
     ]
    },
    {
     "name": "stdout",
     "output_type": "stream",
     "text": [
      "473/473 [==============================] - 1s 1ms/step - loss: 0.5394 - accuracy: 0.7649\n",
      "Epoch 2/10\n",
      "473/473 [==============================] - 0s 939us/step - loss: 0.3595 - accuracy: 0.8533\n",
      "Epoch 3/10\n",
      "473/473 [==============================] - 0s 889us/step - loss: 0.2834 - accuracy: 0.8894\n",
      "Epoch 4/10\n",
      "473/473 [==============================] - 0s 976us/step - loss: 0.2461 - accuracy: 0.9108\n",
      "Epoch 5/10\n",
      "473/473 [==============================] - 0s 893us/step - loss: 0.2228 - accuracy: 0.9225\n",
      "Epoch 6/10\n",
      "473/473 [==============================] - 0s 994us/step - loss: 0.2170 - accuracy: 0.9228\n",
      "Epoch 7/10\n",
      "473/473 [==============================] - 0s 924us/step - loss: 0.2095 - accuracy: 0.9280\n",
      "Epoch 8/10\n",
      "473/473 [==============================] - 0s 940us/step - loss: 0.2043 - accuracy: 0.9305\n",
      "Epoch 9/10\n",
      "473/473 [==============================] - 0s 881us/step - loss: 0.2020 - accuracy: 0.9323\n",
      "Epoch 10/10\n",
      "473/473 [==============================] - 0s 985us/step - loss: 0.1966 - accuracy: 0.9337\n",
      "Epoch 1/10\n"
     ]
    },
    {
     "name": "stderr",
     "output_type": "stream",
     "text": [
      "/Users/husni.zuhdi/Documents/Codes/1-Python-Workshop/retention-prediction-demo/retention-prediction/lib/python3.10/site-packages/tensorflow/python/keras/engine/sequential.py:454: UserWarning: `model.predict_classes()` is deprecated and will be removed after 2021-01-01. Please use instead:* `np.argmax(model.predict(x), axis=-1)`,   if your model does multi-class classification   (e.g. if it uses a `softmax` last-layer activation).* `(model.predict(x) > 0.5).astype(\"int32\")`,   if your model does binary classification   (e.g. if it uses a `sigmoid` last-layer activation).\n",
      "  warnings.warn('`model.predict_classes()` is deprecated and '\n"
     ]
    },
    {
     "name": "stdout",
     "output_type": "stream",
     "text": [
      "473/473 [==============================] - 1s 1ms/step - loss: 0.5306 - accuracy: 0.7701\n",
      "Epoch 2/10\n",
      "473/473 [==============================] - 1s 1ms/step - loss: 0.3797 - accuracy: 0.8031\n",
      "Epoch 3/10\n",
      "473/473 [==============================] - 0s 888us/step - loss: 0.3237 - accuracy: 0.8185\n",
      "Epoch 4/10\n",
      "473/473 [==============================] - 0s 963us/step - loss: 0.2886 - accuracy: 0.8361\n",
      "Epoch 5/10\n",
      "473/473 [==============================] - 0s 924us/step - loss: 0.2673 - accuracy: 0.8829\n",
      "Epoch 6/10\n",
      "473/473 [==============================] - 0s 947us/step - loss: 0.2576 - accuracy: 0.9107\n",
      "Epoch 7/10\n",
      "473/473 [==============================] - 0s 1ms/step - loss: 0.2484 - accuracy: 0.9188\n",
      "Epoch 8/10\n",
      "473/473 [==============================] - 0s 936us/step - loss: 0.2393 - accuracy: 0.9241\n",
      "Epoch 9/10\n",
      "473/473 [==============================] - 1s 1ms/step - loss: 0.2379 - accuracy: 0.9241\n",
      "Epoch 10/10\n",
      "473/473 [==============================] - 1s 2ms/step - loss: 0.2329 - accuracy: 0.9274\n"
     ]
    },
    {
     "name": "stderr",
     "output_type": "stream",
     "text": [
      "/Users/husni.zuhdi/Documents/Codes/1-Python-Workshop/retention-prediction-demo/retention-prediction/lib/python3.10/site-packages/tensorflow/python/keras/engine/sequential.py:454: UserWarning: `model.predict_classes()` is deprecated and will be removed after 2021-01-01. Please use instead:* `np.argmax(model.predict(x), axis=-1)`,   if your model does multi-class classification   (e.g. if it uses a `softmax` last-layer activation).* `(model.predict(x) > 0.5).astype(\"int32\")`,   if your model does binary classification   (e.g. if it uses a `sigmoid` last-layer activation).\n",
      "  warnings.warn('`model.predict_classes()` is deprecated and '\n"
     ]
    },
    {
     "name": "stdout",
     "output_type": "stream",
     "text": [
      "Epoch 1/2\n",
      "315/315 [==============================] - 1s 1ms/step - loss: 0.5559 - accuracy: 0.7617\n",
      "Epoch 2/2\n",
      "315/315 [==============================] - 0s 1ms/step - loss: 0.3876 - accuracy: 0.8116\n",
      "Epoch 1/2\n"
     ]
    },
    {
     "name": "stderr",
     "output_type": "stream",
     "text": [
      "/Users/husni.zuhdi/Documents/Codes/1-Python-Workshop/retention-prediction-demo/retention-prediction/lib/python3.10/site-packages/tensorflow/python/keras/engine/sequential.py:454: UserWarning: `model.predict_classes()` is deprecated and will be removed after 2021-01-01. Please use instead:* `np.argmax(model.predict(x), axis=-1)`,   if your model does multi-class classification   (e.g. if it uses a `softmax` last-layer activation).* `(model.predict(x) > 0.5).astype(\"int32\")`,   if your model does binary classification   (e.g. if it uses a `sigmoid` last-layer activation).\n",
      "  warnings.warn('`model.predict_classes()` is deprecated and '\n"
     ]
    },
    {
     "name": "stdout",
     "output_type": "stream",
     "text": [
      "315/315 [==============================] - 1s 2ms/step - loss: 0.5563 - accuracy: 0.7584\n",
      "Epoch 2/2\n",
      "315/315 [==============================] - 0s 1ms/step - loss: 0.3978 - accuracy: 0.8040\n",
      "Epoch 1/2\n"
     ]
    },
    {
     "name": "stderr",
     "output_type": "stream",
     "text": [
      "/Users/husni.zuhdi/Documents/Codes/1-Python-Workshop/retention-prediction-demo/retention-prediction/lib/python3.10/site-packages/tensorflow/python/keras/engine/sequential.py:454: UserWarning: `model.predict_classes()` is deprecated and will be removed after 2021-01-01. Please use instead:* `np.argmax(model.predict(x), axis=-1)`,   if your model does multi-class classification   (e.g. if it uses a `softmax` last-layer activation).* `(model.predict(x) > 0.5).astype(\"int32\")`,   if your model does binary classification   (e.g. if it uses a `sigmoid` last-layer activation).\n",
      "  warnings.warn('`model.predict_classes()` is deprecated and '\n"
     ]
    },
    {
     "name": "stdout",
     "output_type": "stream",
     "text": [
      "315/315 [==============================] - 1s 2ms/step - loss: 0.5520 - accuracy: 0.7614\n",
      "Epoch 2/2\n",
      "315/315 [==============================] - 0s 1ms/step - loss: 0.3813 - accuracy: 0.8118\n",
      "Epoch 1/2\n"
     ]
    },
    {
     "name": "stderr",
     "output_type": "stream",
     "text": [
      "/Users/husni.zuhdi/Documents/Codes/1-Python-Workshop/retention-prediction-demo/retention-prediction/lib/python3.10/site-packages/tensorflow/python/keras/engine/sequential.py:454: UserWarning: `model.predict_classes()` is deprecated and will be removed after 2021-01-01. Please use instead:* `np.argmax(model.predict(x), axis=-1)`,   if your model does multi-class classification   (e.g. if it uses a `softmax` last-layer activation).* `(model.predict(x) > 0.5).astype(\"int32\")`,   if your model does binary classification   (e.g. if it uses a `sigmoid` last-layer activation).\n",
      "  warnings.warn('`model.predict_classes()` is deprecated and '\n"
     ]
    },
    {
     "name": "stdout",
     "output_type": "stream",
     "text": [
      "315/315 [==============================] - 1s 2ms/step - loss: 0.5534 - accuracy: 0.7619\n",
      "Epoch 2/2\n",
      "315/315 [==============================] - 0s 1ms/step - loss: 0.3880 - accuracy: 0.8144\n",
      "Epoch 1/2\n"
     ]
    },
    {
     "name": "stderr",
     "output_type": "stream",
     "text": [
      "/Users/husni.zuhdi/Documents/Codes/1-Python-Workshop/retention-prediction-demo/retention-prediction/lib/python3.10/site-packages/tensorflow/python/keras/engine/sequential.py:454: UserWarning: `model.predict_classes()` is deprecated and will be removed after 2021-01-01. Please use instead:* `np.argmax(model.predict(x), axis=-1)`,   if your model does multi-class classification   (e.g. if it uses a `softmax` last-layer activation).* `(model.predict(x) > 0.5).astype(\"int32\")`,   if your model does binary classification   (e.g. if it uses a `sigmoid` last-layer activation).\n",
      "  warnings.warn('`model.predict_classes()` is deprecated and '\n"
     ]
    },
    {
     "name": "stdout",
     "output_type": "stream",
     "text": [
      "315/315 [==============================] - 1s 1ms/step - loss: 0.5481 - accuracy: 0.7717\n",
      "Epoch 2/2\n",
      "315/315 [==============================] - 0s 1ms/step - loss: 0.3673 - accuracy: 0.8238\n"
     ]
    },
    {
     "name": "stderr",
     "output_type": "stream",
     "text": [
      "/Users/husni.zuhdi/Documents/Codes/1-Python-Workshop/retention-prediction-demo/retention-prediction/lib/python3.10/site-packages/tensorflow/python/keras/engine/sequential.py:454: UserWarning: `model.predict_classes()` is deprecated and will be removed after 2021-01-01. Please use instead:* `np.argmax(model.predict(x), axis=-1)`,   if your model does multi-class classification   (e.g. if it uses a `softmax` last-layer activation).* `(model.predict(x) > 0.5).astype(\"int32\")`,   if your model does binary classification   (e.g. if it uses a `sigmoid` last-layer activation).\n",
      "  warnings.warn('`model.predict_classes()` is deprecated and '\n"
     ]
    },
    {
     "name": "stdout",
     "output_type": "stream",
     "text": [
      "Epoch 1/2\n",
      "315/315 [==============================] - 1s 1ms/step - loss: 0.5541 - accuracy: 0.7617\n",
      "Epoch 2/2\n",
      "315/315 [==============================] - 0s 1ms/step - loss: 0.3872 - accuracy: 0.8078\n",
      "Epoch 1/2\n"
     ]
    },
    {
     "name": "stderr",
     "output_type": "stream",
     "text": [
      "/Users/husni.zuhdi/Documents/Codes/1-Python-Workshop/retention-prediction-demo/retention-prediction/lib/python3.10/site-packages/tensorflow/python/keras/engine/sequential.py:454: UserWarning: `model.predict_classes()` is deprecated and will be removed after 2021-01-01. Please use instead:* `np.argmax(model.predict(x), axis=-1)`,   if your model does multi-class classification   (e.g. if it uses a `softmax` last-layer activation).* `(model.predict(x) > 0.5).astype(\"int32\")`,   if your model does binary classification   (e.g. if it uses a `sigmoid` last-layer activation).\n",
      "  warnings.warn('`model.predict_classes()` is deprecated and '\n"
     ]
    },
    {
     "name": "stdout",
     "output_type": "stream",
     "text": [
      "315/315 [==============================] - 1s 1ms/step - loss: 0.5514 - accuracy: 0.7697\n",
      "Epoch 2/2\n",
      "315/315 [==============================] - 0s 1ms/step - loss: 0.3742 - accuracy: 0.8281\n",
      "Epoch 1/2\n"
     ]
    },
    {
     "name": "stderr",
     "output_type": "stream",
     "text": [
      "/Users/husni.zuhdi/Documents/Codes/1-Python-Workshop/retention-prediction-demo/retention-prediction/lib/python3.10/site-packages/tensorflow/python/keras/engine/sequential.py:454: UserWarning: `model.predict_classes()` is deprecated and will be removed after 2021-01-01. Please use instead:* `np.argmax(model.predict(x), axis=-1)`,   if your model does multi-class classification   (e.g. if it uses a `softmax` last-layer activation).* `(model.predict(x) > 0.5).astype(\"int32\")`,   if your model does binary classification   (e.g. if it uses a `sigmoid` last-layer activation).\n",
      "  warnings.warn('`model.predict_classes()` is deprecated and '\n"
     ]
    },
    {
     "name": "stdout",
     "output_type": "stream",
     "text": [
      "315/315 [==============================] - 1s 1ms/step - loss: 0.5459 - accuracy: 0.7811\n",
      "Epoch 2/2\n",
      "315/315 [==============================] - 0s 1ms/step - loss: 0.3490 - accuracy: 0.8574\n",
      "Epoch 1/2\n"
     ]
    },
    {
     "name": "stderr",
     "output_type": "stream",
     "text": [
      "/Users/husni.zuhdi/Documents/Codes/1-Python-Workshop/retention-prediction-demo/retention-prediction/lib/python3.10/site-packages/tensorflow/python/keras/engine/sequential.py:454: UserWarning: `model.predict_classes()` is deprecated and will be removed after 2021-01-01. Please use instead:* `np.argmax(model.predict(x), axis=-1)`,   if your model does multi-class classification   (e.g. if it uses a `softmax` last-layer activation).* `(model.predict(x) > 0.5).astype(\"int32\")`,   if your model does binary classification   (e.g. if it uses a `sigmoid` last-layer activation).\n",
      "  warnings.warn('`model.predict_classes()` is deprecated and '\n"
     ]
    },
    {
     "name": "stdout",
     "output_type": "stream",
     "text": [
      "315/315 [==============================] - 1s 1ms/step - loss: 0.5498 - accuracy: 0.7746\n",
      "Epoch 2/2\n",
      "315/315 [==============================] - 0s 1ms/step - loss: 0.3671 - accuracy: 0.8425\n",
      "Epoch 1/2\n"
     ]
    },
    {
     "name": "stderr",
     "output_type": "stream",
     "text": [
      "/Users/husni.zuhdi/Documents/Codes/1-Python-Workshop/retention-prediction-demo/retention-prediction/lib/python3.10/site-packages/tensorflow/python/keras/engine/sequential.py:454: UserWarning: `model.predict_classes()` is deprecated and will be removed after 2021-01-01. Please use instead:* `np.argmax(model.predict(x), axis=-1)`,   if your model does multi-class classification   (e.g. if it uses a `softmax` last-layer activation).* `(model.predict(x) > 0.5).astype(\"int32\")`,   if your model does binary classification   (e.g. if it uses a `sigmoid` last-layer activation).\n",
      "  warnings.warn('`model.predict_classes()` is deprecated and '\n"
     ]
    },
    {
     "name": "stdout",
     "output_type": "stream",
     "text": [
      "315/315 [==============================] - 1s 1ms/step - loss: 0.5679 - accuracy: 0.7681\n",
      "Epoch 2/2\n",
      "315/315 [==============================] - 0s 1ms/step - loss: 0.3640 - accuracy: 0.8426\n",
      "Epoch 1/2\n"
     ]
    },
    {
     "name": "stderr",
     "output_type": "stream",
     "text": [
      "/Users/husni.zuhdi/Documents/Codes/1-Python-Workshop/retention-prediction-demo/retention-prediction/lib/python3.10/site-packages/tensorflow/python/keras/engine/sequential.py:454: UserWarning: `model.predict_classes()` is deprecated and will be removed after 2021-01-01. Please use instead:* `np.argmax(model.predict(x), axis=-1)`,   if your model does multi-class classification   (e.g. if it uses a `softmax` last-layer activation).* `(model.predict(x) > 0.5).astype(\"int32\")`,   if your model does binary classification   (e.g. if it uses a `sigmoid` last-layer activation).\n",
      "  warnings.warn('`model.predict_classes()` is deprecated and '\n"
     ]
    },
    {
     "name": "stdout",
     "output_type": "stream",
     "text": [
      "315/315 [==============================] - 1s 1ms/step - loss: 0.5633 - accuracy: 0.7647\n",
      "Epoch 2/2\n",
      "315/315 [==============================] - 0s 1ms/step - loss: 0.4057 - accuracy: 0.7999\n",
      "Epoch 1/2\n"
     ]
    },
    {
     "name": "stderr",
     "output_type": "stream",
     "text": [
      "/Users/husni.zuhdi/Documents/Codes/1-Python-Workshop/retention-prediction-demo/retention-prediction/lib/python3.10/site-packages/tensorflow/python/keras/engine/sequential.py:454: UserWarning: `model.predict_classes()` is deprecated and will be removed after 2021-01-01. Please use instead:* `np.argmax(model.predict(x), axis=-1)`,   if your model does multi-class classification   (e.g. if it uses a `softmax` last-layer activation).* `(model.predict(x) > 0.5).astype(\"int32\")`,   if your model does binary classification   (e.g. if it uses a `sigmoid` last-layer activation).\n",
      "  warnings.warn('`model.predict_classes()` is deprecated and '\n"
     ]
    },
    {
     "name": "stdout",
     "output_type": "stream",
     "text": [
      "315/315 [==============================] - 1s 2ms/step - loss: 0.5650 - accuracy: 0.7710\n",
      "Epoch 2/2\n",
      "315/315 [==============================] - 0s 1ms/step - loss: 0.3928 - accuracy: 0.8218\n",
      "Epoch 1/2\n"
     ]
    },
    {
     "name": "stderr",
     "output_type": "stream",
     "text": [
      "/Users/husni.zuhdi/Documents/Codes/1-Python-Workshop/retention-prediction-demo/retention-prediction/lib/python3.10/site-packages/tensorflow/python/keras/engine/sequential.py:454: UserWarning: `model.predict_classes()` is deprecated and will be removed after 2021-01-01. Please use instead:* `np.argmax(model.predict(x), axis=-1)`,   if your model does multi-class classification   (e.g. if it uses a `softmax` last-layer activation).* `(model.predict(x) > 0.5).astype(\"int32\")`,   if your model does binary classification   (e.g. if it uses a `sigmoid` last-layer activation).\n",
      "  warnings.warn('`model.predict_classes()` is deprecated and '\n"
     ]
    },
    {
     "name": "stdout",
     "output_type": "stream",
     "text": [
      "315/315 [==============================] - 1s 1ms/step - loss: 0.5611 - accuracy: 0.7615\n",
      "Epoch 2/2\n",
      "315/315 [==============================] - 0s 1ms/step - loss: 0.3947 - accuracy: 0.8225\n",
      "Epoch 1/2\n"
     ]
    },
    {
     "name": "stderr",
     "output_type": "stream",
     "text": [
      "/Users/husni.zuhdi/Documents/Codes/1-Python-Workshop/retention-prediction-demo/retention-prediction/lib/python3.10/site-packages/tensorflow/python/keras/engine/sequential.py:454: UserWarning: `model.predict_classes()` is deprecated and will be removed after 2021-01-01. Please use instead:* `np.argmax(model.predict(x), axis=-1)`,   if your model does multi-class classification   (e.g. if it uses a `softmax` last-layer activation).* `(model.predict(x) > 0.5).astype(\"int32\")`,   if your model does binary classification   (e.g. if it uses a `sigmoid` last-layer activation).\n",
      "  warnings.warn('`model.predict_classes()` is deprecated and '\n"
     ]
    },
    {
     "name": "stdout",
     "output_type": "stream",
     "text": [
      "315/315 [==============================] - 1s 1ms/step - loss: 0.5684 - accuracy: 0.7631\n",
      "Epoch 2/2\n",
      "315/315 [==============================] - 0s 1ms/step - loss: 0.4079 - accuracy: 0.7996\n",
      "Epoch 1/2\n"
     ]
    },
    {
     "name": "stderr",
     "output_type": "stream",
     "text": [
      "/Users/husni.zuhdi/Documents/Codes/1-Python-Workshop/retention-prediction-demo/retention-prediction/lib/python3.10/site-packages/tensorflow/python/keras/engine/sequential.py:454: UserWarning: `model.predict_classes()` is deprecated and will be removed after 2021-01-01. Please use instead:* `np.argmax(model.predict(x), axis=-1)`,   if your model does multi-class classification   (e.g. if it uses a `softmax` last-layer activation).* `(model.predict(x) > 0.5).astype(\"int32\")`,   if your model does binary classification   (e.g. if it uses a `sigmoid` last-layer activation).\n",
      "  warnings.warn('`model.predict_classes()` is deprecated and '\n"
     ]
    },
    {
     "name": "stdout",
     "output_type": "stream",
     "text": [
      "315/315 [==============================] - 1s 1ms/step - loss: 0.5670 - accuracy: 0.7620\n",
      "Epoch 2/2\n",
      "315/315 [==============================] - 0s 1ms/step - loss: 0.4083 - accuracy: 0.7923\n",
      "Epoch 1/2\n"
     ]
    },
    {
     "name": "stderr",
     "output_type": "stream",
     "text": [
      "/Users/husni.zuhdi/Documents/Codes/1-Python-Workshop/retention-prediction-demo/retention-prediction/lib/python3.10/site-packages/tensorflow/python/keras/engine/sequential.py:454: UserWarning: `model.predict_classes()` is deprecated and will be removed after 2021-01-01. Please use instead:* `np.argmax(model.predict(x), axis=-1)`,   if your model does multi-class classification   (e.g. if it uses a `softmax` last-layer activation).* `(model.predict(x) > 0.5).astype(\"int32\")`,   if your model does binary classification   (e.g. if it uses a `sigmoid` last-layer activation).\n",
      "  warnings.warn('`model.predict_classes()` is deprecated and '\n"
     ]
    },
    {
     "name": "stdout",
     "output_type": "stream",
     "text": [
      "315/315 [==============================] - 1s 985us/step - loss: 0.5677 - accuracy: 0.7664\n",
      "Epoch 2/2\n",
      "315/315 [==============================] - 0s 1ms/step - loss: 0.3903 - accuracy: 0.8223\n",
      "Epoch 1/2\n"
     ]
    },
    {
     "name": "stderr",
     "output_type": "stream",
     "text": [
      "/Users/husni.zuhdi/Documents/Codes/1-Python-Workshop/retention-prediction-demo/retention-prediction/lib/python3.10/site-packages/tensorflow/python/keras/engine/sequential.py:454: UserWarning: `model.predict_classes()` is deprecated and will be removed after 2021-01-01. Please use instead:* `np.argmax(model.predict(x), axis=-1)`,   if your model does multi-class classification   (e.g. if it uses a `softmax` last-layer activation).* `(model.predict(x) > 0.5).astype(\"int32\")`,   if your model does binary classification   (e.g. if it uses a `sigmoid` last-layer activation).\n",
      "  warnings.warn('`model.predict_classes()` is deprecated and '\n"
     ]
    },
    {
     "name": "stdout",
     "output_type": "stream",
     "text": [
      "315/315 [==============================] - 1s 1ms/step - loss: 0.5662 - accuracy: 0.7639\n",
      "Epoch 2/2\n",
      "315/315 [==============================] - 0s 1ms/step - loss: 0.4107 - accuracy: 0.7866\n",
      "Epoch 1/2\n"
     ]
    },
    {
     "name": "stderr",
     "output_type": "stream",
     "text": [
      "/Users/husni.zuhdi/Documents/Codes/1-Python-Workshop/retention-prediction-demo/retention-prediction/lib/python3.10/site-packages/tensorflow/python/keras/engine/sequential.py:454: UserWarning: `model.predict_classes()` is deprecated and will be removed after 2021-01-01. Please use instead:* `np.argmax(model.predict(x), axis=-1)`,   if your model does multi-class classification   (e.g. if it uses a `softmax` last-layer activation).* `(model.predict(x) > 0.5).astype(\"int32\")`,   if your model does binary classification   (e.g. if it uses a `sigmoid` last-layer activation).\n",
      "  warnings.warn('`model.predict_classes()` is deprecated and '\n"
     ]
    },
    {
     "name": "stdout",
     "output_type": "stream",
     "text": [
      "315/315 [==============================] - 1s 1ms/step - loss: 0.5645 - accuracy: 0.7619\n",
      "Epoch 2/2\n",
      "315/315 [==============================] - 0s 1ms/step - loss: 0.3910 - accuracy: 0.8155\n",
      "Epoch 1/2\n"
     ]
    },
    {
     "name": "stderr",
     "output_type": "stream",
     "text": [
      "/Users/husni.zuhdi/Documents/Codes/1-Python-Workshop/retention-prediction-demo/retention-prediction/lib/python3.10/site-packages/tensorflow/python/keras/engine/sequential.py:454: UserWarning: `model.predict_classes()` is deprecated and will be removed after 2021-01-01. Please use instead:* `np.argmax(model.predict(x), axis=-1)`,   if your model does multi-class classification   (e.g. if it uses a `softmax` last-layer activation).* `(model.predict(x) > 0.5).astype(\"int32\")`,   if your model does binary classification   (e.g. if it uses a `sigmoid` last-layer activation).\n",
      "  warnings.warn('`model.predict_classes()` is deprecated and '\n"
     ]
    },
    {
     "name": "stdout",
     "output_type": "stream",
     "text": [
      "315/315 [==============================] - 1s 1ms/step - loss: 0.5758 - accuracy: 0.7589\n",
      "Epoch 2/2\n",
      "315/315 [==============================] - 0s 1ms/step - loss: 0.4145 - accuracy: 0.7888\n",
      "Epoch 1/2\n"
     ]
    },
    {
     "name": "stderr",
     "output_type": "stream",
     "text": [
      "/Users/husni.zuhdi/Documents/Codes/1-Python-Workshop/retention-prediction-demo/retention-prediction/lib/python3.10/site-packages/tensorflow/python/keras/engine/sequential.py:454: UserWarning: `model.predict_classes()` is deprecated and will be removed after 2021-01-01. Please use instead:* `np.argmax(model.predict(x), axis=-1)`,   if your model does multi-class classification   (e.g. if it uses a `softmax` last-layer activation).* `(model.predict(x) > 0.5).astype(\"int32\")`,   if your model does binary classification   (e.g. if it uses a `sigmoid` last-layer activation).\n",
      "  warnings.warn('`model.predict_classes()` is deprecated and '\n"
     ]
    },
    {
     "name": "stdout",
     "output_type": "stream",
     "text": [
      "315/315 [==============================] - 1s 978us/step - loss: 0.5793 - accuracy: 0.7614\n",
      "Epoch 2/2\n",
      "315/315 [==============================] - 0s 855us/step - loss: 0.4129 - accuracy: 0.7999\n",
      "Epoch 1/4\n"
     ]
    },
    {
     "name": "stderr",
     "output_type": "stream",
     "text": [
      "/Users/husni.zuhdi/Documents/Codes/1-Python-Workshop/retention-prediction-demo/retention-prediction/lib/python3.10/site-packages/tensorflow/python/keras/engine/sequential.py:454: UserWarning: `model.predict_classes()` is deprecated and will be removed after 2021-01-01. Please use instead:* `np.argmax(model.predict(x), axis=-1)`,   if your model does multi-class classification   (e.g. if it uses a `softmax` last-layer activation).* `(model.predict(x) > 0.5).astype(\"int32\")`,   if your model does binary classification   (e.g. if it uses a `sigmoid` last-layer activation).\n",
      "  warnings.warn('`model.predict_classes()` is deprecated and '\n"
     ]
    },
    {
     "name": "stdout",
     "output_type": "stream",
     "text": [
      "315/315 [==============================] - 1s 1ms/step - loss: 0.5436 - accuracy: 0.7636\n",
      "Epoch 2/4\n",
      "315/315 [==============================] - 0s 949us/step - loss: 0.3763 - accuracy: 0.8098\n",
      "Epoch 3/4\n",
      "315/315 [==============================] - 0s 1ms/step - loss: 0.3235 - accuracy: 0.8246\n",
      "Epoch 4/4\n",
      "315/315 [==============================] - 0s 1ms/step - loss: 0.2967 - accuracy: 0.8294\n",
      "Epoch 1/4\n"
     ]
    },
    {
     "name": "stderr",
     "output_type": "stream",
     "text": [
      "/Users/husni.zuhdi/Documents/Codes/1-Python-Workshop/retention-prediction-demo/retention-prediction/lib/python3.10/site-packages/tensorflow/python/keras/engine/sequential.py:454: UserWarning: `model.predict_classes()` is deprecated and will be removed after 2021-01-01. Please use instead:* `np.argmax(model.predict(x), axis=-1)`,   if your model does multi-class classification   (e.g. if it uses a `softmax` last-layer activation).* `(model.predict(x) > 0.5).astype(\"int32\")`,   if your model does binary classification   (e.g. if it uses a `sigmoid` last-layer activation).\n",
      "  warnings.warn('`model.predict_classes()` is deprecated and '\n"
     ]
    },
    {
     "name": "stdout",
     "output_type": "stream",
     "text": [
      "315/315 [==============================] - 1s 1ms/step - loss: 0.5627 - accuracy: 0.7672\n",
      "Epoch 2/4\n",
      "315/315 [==============================] - 0s 1ms/step - loss: 0.3545 - accuracy: 0.8594\n",
      "Epoch 3/4\n",
      "315/315 [==============================] - 0s 1ms/step - loss: 0.2770 - accuracy: 0.8992\n",
      "Epoch 4/4\n",
      "315/315 [==============================] - 0s 1ms/step - loss: 0.2411 - accuracy: 0.9155\n",
      "Epoch 1/4\n"
     ]
    },
    {
     "name": "stderr",
     "output_type": "stream",
     "text": [
      "/Users/husni.zuhdi/Documents/Codes/1-Python-Workshop/retention-prediction-demo/retention-prediction/lib/python3.10/site-packages/tensorflow/python/keras/engine/sequential.py:454: UserWarning: `model.predict_classes()` is deprecated and will be removed after 2021-01-01. Please use instead:* `np.argmax(model.predict(x), axis=-1)`,   if your model does multi-class classification   (e.g. if it uses a `softmax` last-layer activation).* `(model.predict(x) > 0.5).astype(\"int32\")`,   if your model does binary classification   (e.g. if it uses a `sigmoid` last-layer activation).\n",
      "  warnings.warn('`model.predict_classes()` is deprecated and '\n"
     ]
    },
    {
     "name": "stdout",
     "output_type": "stream",
     "text": [
      "315/315 [==============================] - 1s 1ms/step - loss: 0.5607 - accuracy: 0.7688\n",
      "Epoch 2/4\n",
      "315/315 [==============================] - 0s 1ms/step - loss: 0.3799 - accuracy: 0.7947\n",
      "Epoch 3/4\n",
      "315/315 [==============================] - 0s 1ms/step - loss: 0.3284 - accuracy: 0.8142\n",
      "Epoch 4/4\n",
      "315/315 [==============================] - 1s 2ms/step - loss: 0.2992 - accuracy: 0.8295\n",
      "Epoch 1/4\n"
     ]
    },
    {
     "name": "stderr",
     "output_type": "stream",
     "text": [
      "/Users/husni.zuhdi/Documents/Codes/1-Python-Workshop/retention-prediction-demo/retention-prediction/lib/python3.10/site-packages/tensorflow/python/keras/engine/sequential.py:454: UserWarning: `model.predict_classes()` is deprecated and will be removed after 2021-01-01. Please use instead:* `np.argmax(model.predict(x), axis=-1)`,   if your model does multi-class classification   (e.g. if it uses a `softmax` last-layer activation).* `(model.predict(x) > 0.5).astype(\"int32\")`,   if your model does binary classification   (e.g. if it uses a `sigmoid` last-layer activation).\n",
      "  warnings.warn('`model.predict_classes()` is deprecated and '\n"
     ]
    },
    {
     "name": "stdout",
     "output_type": "stream",
     "text": [
      "315/315 [==============================] - 2s 2ms/step - loss: 0.5454 - accuracy: 0.7700\n",
      "Epoch 2/4\n",
      "315/315 [==============================] - 1s 2ms/step - loss: 0.3815 - accuracy: 0.8156\n",
      "Epoch 3/4\n",
      "315/315 [==============================] - 1s 2ms/step - loss: 0.3326 - accuracy: 0.8243\n",
      "Epoch 4/4\n",
      "315/315 [==============================] - 1s 2ms/step - loss: 0.3031 - accuracy: 0.8336\n",
      "Epoch 1/4"
     ]
    },
    {
     "name": "stderr",
     "output_type": "stream",
     "text": [
      "/Users/husni.zuhdi/Documents/Codes/1-Python-Workshop/retention-prediction-demo/retention-prediction/lib/python3.10/site-packages/tensorflow/python/keras/engine/sequential.py:454: UserWarning: `model.predict_classes()` is deprecated and will be removed after 2021-01-01. Please use instead:* `np.argmax(model.predict(x), axis=-1)`,   if your model does multi-class classification   (e.g. if it uses a `softmax` last-layer activation).* `(model.predict(x) > 0.5).astype(\"int32\")`,   if your model does binary classification   (e.g. if it uses a `sigmoid` last-layer activation).\n",
      "  warnings.warn('`model.predict_classes()` is deprecated and '\n"
     ]
    },
    {
     "name": "stdout",
     "output_type": "stream",
     "text": [
      "\n",
      "315/315 [==============================] - 1s 1ms/step - loss: 0.5550 - accuracy: 0.7617\n",
      "Epoch 2/4\n",
      "315/315 [==============================] - 0s 1ms/step - loss: 0.3870 - accuracy: 0.7954\n",
      "Epoch 3/4\n",
      "315/315 [==============================] - 0s 1ms/step - loss: 0.3258 - accuracy: 0.8261\n",
      "Epoch 4/4\n",
      "315/315 [==============================] - 0s 1ms/step - loss: 0.2954 - accuracy: 0.8310\n",
      "Epoch 1/4\n"
     ]
    },
    {
     "name": "stderr",
     "output_type": "stream",
     "text": [
      "/Users/husni.zuhdi/Documents/Codes/1-Python-Workshop/retention-prediction-demo/retention-prediction/lib/python3.10/site-packages/tensorflow/python/keras/engine/sequential.py:454: UserWarning: `model.predict_classes()` is deprecated and will be removed after 2021-01-01. Please use instead:* `np.argmax(model.predict(x), axis=-1)`,   if your model does multi-class classification   (e.g. if it uses a `softmax` last-layer activation).* `(model.predict(x) > 0.5).astype(\"int32\")`,   if your model does binary classification   (e.g. if it uses a `sigmoid` last-layer activation).\n",
      "  warnings.warn('`model.predict_classes()` is deprecated and '\n"
     ]
    },
    {
     "name": "stdout",
     "output_type": "stream",
     "text": [
      "315/315 [==============================] - 1s 1ms/step - loss: 0.5519 - accuracy: 0.7617\n",
      "Epoch 2/4\n",
      "315/315 [==============================] - 0s 1ms/step - loss: 0.4021 - accuracy: 0.7627\n",
      "Epoch 3/4\n",
      "315/315 [==============================] - 0s 1ms/step - loss: 0.3577 - accuracy: 0.7627\n",
      "Epoch 4/4\n",
      "315/315 [==============================] - 0s 1ms/step - loss: 0.3347 - accuracy: 0.8155\n",
      "Epoch 1/4\n"
     ]
    },
    {
     "name": "stderr",
     "output_type": "stream",
     "text": [
      "/Users/husni.zuhdi/Documents/Codes/1-Python-Workshop/retention-prediction-demo/retention-prediction/lib/python3.10/site-packages/tensorflow/python/keras/engine/sequential.py:454: UserWarning: `model.predict_classes()` is deprecated and will be removed after 2021-01-01. Please use instead:* `np.argmax(model.predict(x), axis=-1)`,   if your model does multi-class classification   (e.g. if it uses a `softmax` last-layer activation).* `(model.predict(x) > 0.5).astype(\"int32\")`,   if your model does binary classification   (e.g. if it uses a `sigmoid` last-layer activation).\n",
      "  warnings.warn('`model.predict_classes()` is deprecated and '\n"
     ]
    },
    {
     "name": "stdout",
     "output_type": "stream",
     "text": [
      "315/315 [==============================] - 1s 2ms/step - loss: 0.5554 - accuracy: 0.7618\n",
      "Epoch 2/4\n",
      "315/315 [==============================] - 0s 2ms/step - loss: 0.3859 - accuracy: 0.8102\n",
      "Epoch 3/4\n",
      "315/315 [==============================] - 1s 2ms/step - loss: 0.3283 - accuracy: 0.8480\n",
      "Epoch 4/4\n",
      "315/315 [==============================] - 0s 1ms/step - loss: 0.2957 - accuracy: 0.8590\n",
      "Epoch 1/4\n"
     ]
    },
    {
     "name": "stderr",
     "output_type": "stream",
     "text": [
      "/Users/husni.zuhdi/Documents/Codes/1-Python-Workshop/retention-prediction-demo/retention-prediction/lib/python3.10/site-packages/tensorflow/python/keras/engine/sequential.py:454: UserWarning: `model.predict_classes()` is deprecated and will be removed after 2021-01-01. Please use instead:* `np.argmax(model.predict(x), axis=-1)`,   if your model does multi-class classification   (e.g. if it uses a `softmax` last-layer activation).* `(model.predict(x) > 0.5).astype(\"int32\")`,   if your model does binary classification   (e.g. if it uses a `sigmoid` last-layer activation).\n",
      "  warnings.warn('`model.predict_classes()` is deprecated and '\n"
     ]
    },
    {
     "name": "stdout",
     "output_type": "stream",
     "text": [
      "315/315 [==============================] - 1s 1ms/step - loss: 0.5611 - accuracy: 0.7739\n",
      "Epoch 2/4\n",
      "315/315 [==============================] - 0s 1ms/step - loss: 0.3658 - accuracy: 0.8119\n",
      "Epoch 3/4\n",
      "315/315 [==============================] - 0s 1ms/step - loss: 0.3129 - accuracy: 0.8314\n",
      "Epoch 4/4\n",
      "315/315 [==============================] - 0s 1ms/step - loss: 0.2784 - accuracy: 0.8459\n",
      "Epoch 1/4\n"
     ]
    },
    {
     "name": "stderr",
     "output_type": "stream",
     "text": [
      "/Users/husni.zuhdi/Documents/Codes/1-Python-Workshop/retention-prediction-demo/retention-prediction/lib/python3.10/site-packages/tensorflow/python/keras/engine/sequential.py:454: UserWarning: `model.predict_classes()` is deprecated and will be removed after 2021-01-01. Please use instead:* `np.argmax(model.predict(x), axis=-1)`,   if your model does multi-class classification   (e.g. if it uses a `softmax` last-layer activation).* `(model.predict(x) > 0.5).astype(\"int32\")`,   if your model does binary classification   (e.g. if it uses a `sigmoid` last-layer activation).\n",
      "  warnings.warn('`model.predict_classes()` is deprecated and '\n"
     ]
    },
    {
     "name": "stdout",
     "output_type": "stream",
     "text": [
      "315/315 [==============================] - 1s 1ms/step - loss: 0.5599 - accuracy: 0.7680\n",
      "Epoch 2/4\n",
      "315/315 [==============================] - 0s 1ms/step - loss: 0.3843 - accuracy: 0.7984\n",
      "Epoch 3/4\n",
      "315/315 [==============================] - 1s 2ms/step - loss: 0.3252 - accuracy: 0.8208\n",
      "Epoch 4/4\n",
      "315/315 [==============================] - 0s 1ms/step - loss: 0.2915 - accuracy: 0.8351\n",
      "Epoch 1/4\n"
     ]
    },
    {
     "name": "stderr",
     "output_type": "stream",
     "text": [
      "/Users/husni.zuhdi/Documents/Codes/1-Python-Workshop/retention-prediction-demo/retention-prediction/lib/python3.10/site-packages/tensorflow/python/keras/engine/sequential.py:454: UserWarning: `model.predict_classes()` is deprecated and will be removed after 2021-01-01. Please use instead:* `np.argmax(model.predict(x), axis=-1)`,   if your model does multi-class classification   (e.g. if it uses a `softmax` last-layer activation).* `(model.predict(x) > 0.5).astype(\"int32\")`,   if your model does binary classification   (e.g. if it uses a `sigmoid` last-layer activation).\n",
      "  warnings.warn('`model.predict_classes()` is deprecated and '\n"
     ]
    },
    {
     "name": "stdout",
     "output_type": "stream",
     "text": [
      "315/315 [==============================] - 1s 937us/step - loss: 0.5570 - accuracy: 0.7767\n",
      "Epoch 2/4\n",
      "315/315 [==============================] - 0s 927us/step - loss: 0.3763 - accuracy: 0.8040\n",
      "Epoch 3/4\n",
      "315/315 [==============================] - 0s 959us/step - loss: 0.3225 - accuracy: 0.8250\n",
      "Epoch 4/4\n",
      "315/315 [==============================] - 0s 891us/step - loss: 0.2907 - accuracy: 0.8381\n",
      "Epoch 1/4\n"
     ]
    },
    {
     "name": "stderr",
     "output_type": "stream",
     "text": [
      "/Users/husni.zuhdi/Documents/Codes/1-Python-Workshop/retention-prediction-demo/retention-prediction/lib/python3.10/site-packages/tensorflow/python/keras/engine/sequential.py:454: UserWarning: `model.predict_classes()` is deprecated and will be removed after 2021-01-01. Please use instead:* `np.argmax(model.predict(x), axis=-1)`,   if your model does multi-class classification   (e.g. if it uses a `softmax` last-layer activation).* `(model.predict(x) > 0.5).astype(\"int32\")`,   if your model does binary classification   (e.g. if it uses a `sigmoid` last-layer activation).\n",
      "  warnings.warn('`model.predict_classes()` is deprecated and '\n"
     ]
    },
    {
     "name": "stdout",
     "output_type": "stream",
     "text": [
      "315/315 [==============================] - 1s 922us/step - loss: 0.5640 - accuracy: 0.7623\n",
      "Epoch 2/4\n",
      "315/315 [==============================] - 0s 880us/step - loss: 0.4047 - accuracy: 0.7866\n",
      "Epoch 3/4\n",
      "315/315 [==============================] - 0s 889us/step - loss: 0.3468 - accuracy: 0.8216\n",
      "Epoch 4/4\n",
      "315/315 [==============================] - 0s 912us/step - loss: 0.3161 - accuracy: 0.8220\n",
      "Epoch 1/4\n"
     ]
    },
    {
     "name": "stderr",
     "output_type": "stream",
     "text": [
      "/Users/husni.zuhdi/Documents/Codes/1-Python-Workshop/retention-prediction-demo/retention-prediction/lib/python3.10/site-packages/tensorflow/python/keras/engine/sequential.py:454: UserWarning: `model.predict_classes()` is deprecated and will be removed after 2021-01-01. Please use instead:* `np.argmax(model.predict(x), axis=-1)`,   if your model does multi-class classification   (e.g. if it uses a `softmax` last-layer activation).* `(model.predict(x) > 0.5).astype(\"int32\")`,   if your model does binary classification   (e.g. if it uses a `sigmoid` last-layer activation).\n",
      "  warnings.warn('`model.predict_classes()` is deprecated and '\n"
     ]
    },
    {
     "name": "stdout",
     "output_type": "stream",
     "text": [
      "315/315 [==============================] - 1s 921us/step - loss: 0.5551 - accuracy: 0.7616\n",
      "Epoch 2/4\n",
      "315/315 [==============================] - 0s 1ms/step - loss: 0.4193 - accuracy: 0.7616\n",
      "Epoch 3/4\n",
      "315/315 [==============================] - 0s 1ms/step - loss: 0.3782 - accuracy: 0.7616\n",
      "Epoch 4/4\n",
      "315/315 [==============================] - 0s 959us/step - loss: 0.3502 - accuracy: 0.8196\n",
      "Epoch 1/4\n"
     ]
    },
    {
     "name": "stderr",
     "output_type": "stream",
     "text": [
      "/Users/husni.zuhdi/Documents/Codes/1-Python-Workshop/retention-prediction-demo/retention-prediction/lib/python3.10/site-packages/tensorflow/python/keras/engine/sequential.py:454: UserWarning: `model.predict_classes()` is deprecated and will be removed after 2021-01-01. Please use instead:* `np.argmax(model.predict(x), axis=-1)`,   if your model does multi-class classification   (e.g. if it uses a `softmax` last-layer activation).* `(model.predict(x) > 0.5).astype(\"int32\")`,   if your model does binary classification   (e.g. if it uses a `sigmoid` last-layer activation).\n",
      "  warnings.warn('`model.predict_classes()` is deprecated and '\n"
     ]
    },
    {
     "name": "stdout",
     "output_type": "stream",
     "text": [
      "315/315 [==============================] - 1s 945us/step - loss: 0.5765 - accuracy: 0.7602\n",
      "Epoch 2/4\n",
      "315/315 [==============================] - 0s 884us/step - loss: 0.3988 - accuracy: 0.8201\n",
      "Epoch 3/4\n",
      "315/315 [==============================] - 0s 868us/step - loss: 0.3179 - accuracy: 0.8650\n",
      "Epoch 4/4\n",
      "315/315 [==============================] - 0s 906us/step - loss: 0.2721 - accuracy: 0.8947\n",
      "Epoch 1/4\n"
     ]
    },
    {
     "name": "stderr",
     "output_type": "stream",
     "text": [
      "/Users/husni.zuhdi/Documents/Codes/1-Python-Workshop/retention-prediction-demo/retention-prediction/lib/python3.10/site-packages/tensorflow/python/keras/engine/sequential.py:454: UserWarning: `model.predict_classes()` is deprecated and will be removed after 2021-01-01. Please use instead:* `np.argmax(model.predict(x), axis=-1)`,   if your model does multi-class classification   (e.g. if it uses a `softmax` last-layer activation).* `(model.predict(x) > 0.5).astype(\"int32\")`,   if your model does binary classification   (e.g. if it uses a `sigmoid` last-layer activation).\n",
      "  warnings.warn('`model.predict_classes()` is deprecated and '\n"
     ]
    },
    {
     "name": "stdout",
     "output_type": "stream",
     "text": [
      "315/315 [==============================] - 1s 901us/step - loss: 0.5568 - accuracy: 0.7631\n",
      "Epoch 2/4\n",
      "315/315 [==============================] - 0s 926us/step - loss: 0.4080 - accuracy: 0.7643\n",
      "Epoch 3/4\n",
      "315/315 [==============================] - 0s 882us/step - loss: 0.3657 - accuracy: 0.7643\n",
      "Epoch 4/4\n",
      "315/315 [==============================] - 0s 867us/step - loss: 0.3427 - accuracy: 0.8221\n",
      "Epoch 1/4\n"
     ]
    },
    {
     "name": "stderr",
     "output_type": "stream",
     "text": [
      "/Users/husni.zuhdi/Documents/Codes/1-Python-Workshop/retention-prediction-demo/retention-prediction/lib/python3.10/site-packages/tensorflow/python/keras/engine/sequential.py:454: UserWarning: `model.predict_classes()` is deprecated and will be removed after 2021-01-01. Please use instead:* `np.argmax(model.predict(x), axis=-1)`,   if your model does multi-class classification   (e.g. if it uses a `softmax` last-layer activation).* `(model.predict(x) > 0.5).astype(\"int32\")`,   if your model does binary classification   (e.g. if it uses a `sigmoid` last-layer activation).\n",
      "  warnings.warn('`model.predict_classes()` is deprecated and '\n"
     ]
    },
    {
     "name": "stdout",
     "output_type": "stream",
     "text": [
      "315/315 [==============================] - 1s 1ms/step - loss: 0.5851 - accuracy: 0.7735\n",
      "Epoch 2/4\n",
      "315/315 [==============================] - 0s 1ms/step - loss: 0.4079 - accuracy: 0.8021\n",
      "Epoch 3/4\n",
      "315/315 [==============================] - 0s 1000us/step - loss: 0.3286 - accuracy: 0.8641\n",
      "Epoch 4/4\n",
      "315/315 [==============================] - 0s 995us/step - loss: 0.2824 - accuracy: 0.8936\n",
      "Epoch 1/4\n"
     ]
    },
    {
     "name": "stderr",
     "output_type": "stream",
     "text": [
      "/Users/husni.zuhdi/Documents/Codes/1-Python-Workshop/retention-prediction-demo/retention-prediction/lib/python3.10/site-packages/tensorflow/python/keras/engine/sequential.py:454: UserWarning: `model.predict_classes()` is deprecated and will be removed after 2021-01-01. Please use instead:* `np.argmax(model.predict(x), axis=-1)`,   if your model does multi-class classification   (e.g. if it uses a `softmax` last-layer activation).* `(model.predict(x) > 0.5).astype(\"int32\")`,   if your model does binary classification   (e.g. if it uses a `sigmoid` last-layer activation).\n",
      "  warnings.warn('`model.predict_classes()` is deprecated and '\n"
     ]
    },
    {
     "name": "stdout",
     "output_type": "stream",
     "text": [
      "315/315 [==============================] - 1s 898us/step - loss: 0.5611 - accuracy: 0.7681\n",
      "Epoch 2/4\n",
      "315/315 [==============================] - 0s 884us/step - loss: 0.3956 - accuracy: 0.8022\n",
      "Epoch 3/4\n",
      "315/315 [==============================] - 0s 1ms/step - loss: 0.3342 - accuracy: 0.8216\n",
      "Epoch 4/4\n",
      "315/315 [==============================] - 0s 931us/step - loss: 0.3029 - accuracy: 0.8368\n",
      "Epoch 1/4\n"
     ]
    },
    {
     "name": "stderr",
     "output_type": "stream",
     "text": [
      "/Users/husni.zuhdi/Documents/Codes/1-Python-Workshop/retention-prediction-demo/retention-prediction/lib/python3.10/site-packages/tensorflow/python/keras/engine/sequential.py:454: UserWarning: `model.predict_classes()` is deprecated and will be removed after 2021-01-01. Please use instead:* `np.argmax(model.predict(x), axis=-1)`,   if your model does multi-class classification   (e.g. if it uses a `softmax` last-layer activation).* `(model.predict(x) > 0.5).astype(\"int32\")`,   if your model does binary classification   (e.g. if it uses a `sigmoid` last-layer activation).\n",
      "  warnings.warn('`model.predict_classes()` is deprecated and '\n"
     ]
    },
    {
     "name": "stdout",
     "output_type": "stream",
     "text": [
      "315/315 [==============================] - 1s 932us/step - loss: 0.5578 - accuracy: 0.7636\n",
      "Epoch 2/4\n",
      "315/315 [==============================] - 0s 871us/step - loss: 0.4049 - accuracy: 0.7986\n",
      "Epoch 3/4\n",
      "315/315 [==============================] - 0s 902us/step - loss: 0.3457 - accuracy: 0.8090\n",
      "Epoch 4/4\n",
      "315/315 [==============================] - 0s 898us/step - loss: 0.3070 - accuracy: 0.8272\n",
      "Epoch 1/4\n"
     ]
    },
    {
     "name": "stderr",
     "output_type": "stream",
     "text": [
      "/Users/husni.zuhdi/Documents/Codes/1-Python-Workshop/retention-prediction-demo/retention-prediction/lib/python3.10/site-packages/tensorflow/python/keras/engine/sequential.py:454: UserWarning: `model.predict_classes()` is deprecated and will be removed after 2021-01-01. Please use instead:* `np.argmax(model.predict(x), axis=-1)`,   if your model does multi-class classification   (e.g. if it uses a `softmax` last-layer activation).* `(model.predict(x) > 0.5).astype(\"int32\")`,   if your model does binary classification   (e.g. if it uses a `sigmoid` last-layer activation).\n",
      "  warnings.warn('`model.predict_classes()` is deprecated and '\n"
     ]
    },
    {
     "name": "stdout",
     "output_type": "stream",
     "text": [
      "315/315 [==============================] - 1s 882us/step - loss: 0.5643 - accuracy: 0.7615\n",
      "Epoch 2/4\n",
      "315/315 [==============================] - 0s 1ms/step - loss: 0.3910 - accuracy: 0.8170\n",
      "Epoch 3/4\n",
      "315/315 [==============================] - 0s 1ms/step - loss: 0.3199 - accuracy: 0.8672\n",
      "Epoch 4/4\n",
      "315/315 [==============================] - 0s 877us/step - loss: 0.2751 - accuracy: 0.8951\n",
      "Epoch 1/4\n"
     ]
    },
    {
     "name": "stderr",
     "output_type": "stream",
     "text": [
      "/Users/husni.zuhdi/Documents/Codes/1-Python-Workshop/retention-prediction-demo/retention-prediction/lib/python3.10/site-packages/tensorflow/python/keras/engine/sequential.py:454: UserWarning: `model.predict_classes()` is deprecated and will be removed after 2021-01-01. Please use instead:* `np.argmax(model.predict(x), axis=-1)`,   if your model does multi-class classification   (e.g. if it uses a `softmax` last-layer activation).* `(model.predict(x) > 0.5).astype(\"int32\")`,   if your model does binary classification   (e.g. if it uses a `sigmoid` last-layer activation).\n",
      "  warnings.warn('`model.predict_classes()` is deprecated and '\n"
     ]
    },
    {
     "name": "stdout",
     "output_type": "stream",
     "text": [
      "315/315 [==============================] - 1s 960us/step - loss: 0.5741 - accuracy: 0.7644\n",
      "Epoch 2/4\n",
      "315/315 [==============================] - 0s 1ms/step - loss: 0.4035 - accuracy: 0.8001\n",
      "Epoch 3/4\n",
      "315/315 [==============================] - 0s 1ms/step - loss: 0.3405 - accuracy: 0.8169\n",
      "Epoch 4/4\n",
      "315/315 [==============================] - 0s 921us/step - loss: 0.3068 - accuracy: 0.8363\n",
      "Epoch 1/4\n"
     ]
    },
    {
     "name": "stderr",
     "output_type": "stream",
     "text": [
      "/Users/husni.zuhdi/Documents/Codes/1-Python-Workshop/retention-prediction-demo/retention-prediction/lib/python3.10/site-packages/tensorflow/python/keras/engine/sequential.py:454: UserWarning: `model.predict_classes()` is deprecated and will be removed after 2021-01-01. Please use instead:* `np.argmax(model.predict(x), axis=-1)`,   if your model does multi-class classification   (e.g. if it uses a `softmax` last-layer activation).* `(model.predict(x) > 0.5).astype(\"int32\")`,   if your model does binary classification   (e.g. if it uses a `sigmoid` last-layer activation).\n",
      "  warnings.warn('`model.predict_classes()` is deprecated and '\n"
     ]
    },
    {
     "name": "stdout",
     "output_type": "stream",
     "text": [
      "315/315 [==============================] - 1s 873us/step - loss: 0.5622 - accuracy: 0.7647\n",
      "Epoch 2/4\n",
      "315/315 [==============================] - 0s 862us/step - loss: 0.4029 - accuracy: 0.7993\n",
      "Epoch 3/4\n",
      "315/315 [==============================] - 0s 819us/step - loss: 0.3424 - accuracy: 0.8119\n",
      "Epoch 4/4\n",
      "315/315 [==============================] - 0s 824us/step - loss: 0.3043 - accuracy: 0.8275\n",
      "Epoch 1/6\n"
     ]
    },
    {
     "name": "stderr",
     "output_type": "stream",
     "text": [
      "/Users/husni.zuhdi/Documents/Codes/1-Python-Workshop/retention-prediction-demo/retention-prediction/lib/python3.10/site-packages/tensorflow/python/keras/engine/sequential.py:454: UserWarning: `model.predict_classes()` is deprecated and will be removed after 2021-01-01. Please use instead:* `np.argmax(model.predict(x), axis=-1)`,   if your model does multi-class classification   (e.g. if it uses a `softmax` last-layer activation).* `(model.predict(x) > 0.5).astype(\"int32\")`,   if your model does binary classification   (e.g. if it uses a `sigmoid` last-layer activation).\n",
      "  warnings.warn('`model.predict_classes()` is deprecated and '\n"
     ]
    },
    {
     "name": "stdout",
     "output_type": "stream",
     "text": [
      "315/315 [==============================] - 1s 1ms/step - loss: 0.5546 - accuracy: 0.7743\n",
      "Epoch 2/6\n",
      "315/315 [==============================] - 0s 1ms/step - loss: 0.3614 - accuracy: 0.8402\n",
      "Epoch 3/6\n",
      "315/315 [==============================] - 0s 936us/step - loss: 0.2859 - accuracy: 0.8936\n",
      "Epoch 4/6\n",
      "315/315 [==============================] - 0s 957us/step - loss: 0.2517 - accuracy: 0.9106\n",
      "Epoch 5/6\n",
      "315/315 [==============================] - 0s 1ms/step - loss: 0.2321 - accuracy: 0.9193\n",
      "Epoch 6/6\n",
      "315/315 [==============================] - 0s 1ms/step - loss: 0.2186 - accuracy: 0.9254\n",
      "Epoch 1/6\n"
     ]
    },
    {
     "name": "stderr",
     "output_type": "stream",
     "text": [
      "/Users/husni.zuhdi/Documents/Codes/1-Python-Workshop/retention-prediction-demo/retention-prediction/lib/python3.10/site-packages/tensorflow/python/keras/engine/sequential.py:454: UserWarning: `model.predict_classes()` is deprecated and will be removed after 2021-01-01. Please use instead:* `np.argmax(model.predict(x), axis=-1)`,   if your model does multi-class classification   (e.g. if it uses a `softmax` last-layer activation).* `(model.predict(x) > 0.5).astype(\"int32\")`,   if your model does binary classification   (e.g. if it uses a `sigmoid` last-layer activation).\n",
      "  warnings.warn('`model.predict_classes()` is deprecated and '\n"
     ]
    },
    {
     "name": "stdout",
     "output_type": "stream",
     "text": [
      "315/315 [==============================] - 1s 1ms/step - loss: 0.5420 - accuracy: 0.7723\n",
      "Epoch 2/6\n",
      "315/315 [==============================] - 0s 928us/step - loss: 0.3695 - accuracy: 0.8034\n",
      "Epoch 3/6\n",
      "315/315 [==============================] - 0s 1ms/step - loss: 0.3164 - accuracy: 0.8253\n",
      "Epoch 4/6\n",
      "315/315 [==============================] - 0s 914us/step - loss: 0.2838 - accuracy: 0.8369\n",
      "Epoch 5/6\n",
      "315/315 [==============================] - 0s 920us/step - loss: 0.2651 - accuracy: 0.8504\n",
      "Epoch 6/6\n",
      "315/315 [==============================] - 0s 949us/step - loss: 0.2559 - accuracy: 0.9006\n",
      "Epoch 1/6\n"
     ]
    },
    {
     "name": "stderr",
     "output_type": "stream",
     "text": [
      "/Users/husni.zuhdi/Documents/Codes/1-Python-Workshop/retention-prediction-demo/retention-prediction/lib/python3.10/site-packages/tensorflow/python/keras/engine/sequential.py:454: UserWarning: `model.predict_classes()` is deprecated and will be removed after 2021-01-01. Please use instead:* `np.argmax(model.predict(x), axis=-1)`,   if your model does multi-class classification   (e.g. if it uses a `softmax` last-layer activation).* `(model.predict(x) > 0.5).astype(\"int32\")`,   if your model does binary classification   (e.g. if it uses a `sigmoid` last-layer activation).\n",
      "  warnings.warn('`model.predict_classes()` is deprecated and '\n"
     ]
    },
    {
     "name": "stdout",
     "output_type": "stream",
     "text": [
      "315/315 [==============================] - 1s 1ms/step - loss: 0.5392 - accuracy: 0.7706\n",
      "Epoch 2/6\n",
      "315/315 [==============================] - 0s 933us/step - loss: 0.3799 - accuracy: 0.8009\n",
      "Epoch 3/6\n",
      "315/315 [==============================] - 0s 1ms/step - loss: 0.3232 - accuracy: 0.8210\n",
      "Epoch 4/6\n",
      "315/315 [==============================] - 0s 1ms/step - loss: 0.2900 - accuracy: 0.8350\n",
      "Epoch 5/6\n",
      "315/315 [==============================] - 0s 1ms/step - loss: 0.2736 - accuracy: 0.8395\n",
      "Epoch 6/6\n",
      "315/315 [==============================] - 0s 913us/step - loss: 0.2602 - accuracy: 0.8894\n",
      "Epoch 1/6\n"
     ]
    },
    {
     "name": "stderr",
     "output_type": "stream",
     "text": [
      "/Users/husni.zuhdi/Documents/Codes/1-Python-Workshop/retention-prediction-demo/retention-prediction/lib/python3.10/site-packages/tensorflow/python/keras/engine/sequential.py:454: UserWarning: `model.predict_classes()` is deprecated and will be removed after 2021-01-01. Please use instead:* `np.argmax(model.predict(x), axis=-1)`,   if your model does multi-class classification   (e.g. if it uses a `softmax` last-layer activation).* `(model.predict(x) > 0.5).astype(\"int32\")`,   if your model does binary classification   (e.g. if it uses a `sigmoid` last-layer activation).\n",
      "  warnings.warn('`model.predict_classes()` is deprecated and '\n"
     ]
    },
    {
     "name": "stdout",
     "output_type": "stream",
     "text": [
      "315/315 [==============================] - 1s 947us/step - loss: 0.5460 - accuracy: 0.7653\n",
      "Epoch 2/6\n",
      "315/315 [==============================] - 0s 924us/step - loss: 0.3876 - accuracy: 0.8060\n",
      "Epoch 3/6\n",
      "315/315 [==============================] - 0s 908us/step - loss: 0.3411 - accuracy: 0.8250\n",
      "Epoch 4/6\n",
      "315/315 [==============================] - 0s 1ms/step - loss: 0.3090 - accuracy: 0.8307\n",
      "Epoch 5/6\n",
      "315/315 [==============================] - 0s 895us/step - loss: 0.2922 - accuracy: 0.8333\n",
      "Epoch 6/6\n",
      "315/315 [==============================] - 0s 918us/step - loss: 0.2755 - accuracy: 0.8474\n",
      "Epoch 1/6\n"
     ]
    },
    {
     "name": "stderr",
     "output_type": "stream",
     "text": [
      "/Users/husni.zuhdi/Documents/Codes/1-Python-Workshop/retention-prediction-demo/retention-prediction/lib/python3.10/site-packages/tensorflow/python/keras/engine/sequential.py:454: UserWarning: `model.predict_classes()` is deprecated and will be removed after 2021-01-01. Please use instead:* `np.argmax(model.predict(x), axis=-1)`,   if your model does multi-class classification   (e.g. if it uses a `softmax` last-layer activation).* `(model.predict(x) > 0.5).astype(\"int32\")`,   if your model does binary classification   (e.g. if it uses a `sigmoid` last-layer activation).\n",
      "  warnings.warn('`model.predict_classes()` is deprecated and '\n"
     ]
    },
    {
     "name": "stdout",
     "output_type": "stream",
     "text": [
      "315/315 [==============================] - 1s 988us/step - loss: 0.5439 - accuracy: 0.7726\n",
      "Epoch 2/6\n",
      "315/315 [==============================] - 0s 995us/step - loss: 0.3754 - accuracy: 0.8020\n",
      "Epoch 3/6\n",
      "315/315 [==============================] - 0s 932us/step - loss: 0.3227 - accuracy: 0.8207\n",
      "Epoch 4/6\n",
      "315/315 [==============================] - 0s 905us/step - loss: 0.2929 - accuracy: 0.8344\n",
      "Epoch 5/6\n",
      "315/315 [==============================] - 0s 1ms/step - loss: 0.2722 - accuracy: 0.8424\n",
      "Epoch 6/6\n",
      "315/315 [==============================] - 0s 1ms/step - loss: 0.2613 - accuracy: 0.8834\n",
      "Epoch 1/6\n"
     ]
    },
    {
     "name": "stderr",
     "output_type": "stream",
     "text": [
      "/Users/husni.zuhdi/Documents/Codes/1-Python-Workshop/retention-prediction-demo/retention-prediction/lib/python3.10/site-packages/tensorflow/python/keras/engine/sequential.py:454: UserWarning: `model.predict_classes()` is deprecated and will be removed after 2021-01-01. Please use instead:* `np.argmax(model.predict(x), axis=-1)`,   if your model does multi-class classification   (e.g. if it uses a `softmax` last-layer activation).* `(model.predict(x) > 0.5).astype(\"int32\")`,   if your model does binary classification   (e.g. if it uses a `sigmoid` last-layer activation).\n",
      "  warnings.warn('`model.predict_classes()` is deprecated and '\n"
     ]
    },
    {
     "name": "stdout",
     "output_type": "stream",
     "text": [
      "315/315 [==============================] - 1s 920us/step - loss: 0.5553 - accuracy: 0.7646\n",
      "Epoch 2/6\n",
      "315/315 [==============================] - 0s 911us/step - loss: 0.3627 - accuracy: 0.8488\n",
      "Epoch 3/6\n",
      "315/315 [==============================] - 0s 896us/step - loss: 0.2887 - accuracy: 0.8874\n",
      "Epoch 4/6\n",
      "315/315 [==============================] - 0s 914us/step - loss: 0.2497 - accuracy: 0.9096\n",
      "Epoch 5/6\n",
      "315/315 [==============================] - 0s 906us/step - loss: 0.2327 - accuracy: 0.9158\n",
      "Epoch 6/6\n",
      "315/315 [==============================] - 0s 959us/step - loss: 0.2204 - accuracy: 0.9208\n",
      "Epoch 1/6\n"
     ]
    },
    {
     "name": "stderr",
     "output_type": "stream",
     "text": [
      "/Users/husni.zuhdi/Documents/Codes/1-Python-Workshop/retention-prediction-demo/retention-prediction/lib/python3.10/site-packages/tensorflow/python/keras/engine/sequential.py:454: UserWarning: `model.predict_classes()` is deprecated and will be removed after 2021-01-01. Please use instead:* `np.argmax(model.predict(x), axis=-1)`,   if your model does multi-class classification   (e.g. if it uses a `softmax` last-layer activation).* `(model.predict(x) > 0.5).astype(\"int32\")`,   if your model does binary classification   (e.g. if it uses a `sigmoid` last-layer activation).\n",
      "  warnings.warn('`model.predict_classes()` is deprecated and '\n"
     ]
    },
    {
     "name": "stdout",
     "output_type": "stream",
     "text": [
      "315/315 [==============================] - 1s 1ms/step - loss: 0.5363 - accuracy: 0.7644\n",
      "Epoch 2/6\n",
      "315/315 [==============================] - 0s 934us/step - loss: 0.3977 - accuracy: 0.7644\n",
      "Epoch 3/6\n",
      "315/315 [==============================] - 0s 949us/step - loss: 0.3603 - accuracy: 0.7644\n",
      "Epoch 4/6\n",
      "315/315 [==============================] - 0s 910us/step - loss: 0.3359 - accuracy: 0.8081\n",
      "Epoch 5/6\n",
      "315/315 [==============================] - 0s 958us/step - loss: 0.3127 - accuracy: 0.8705\n",
      "Epoch 6/6\n",
      "315/315 [==============================] - 0s 1ms/step - loss: 0.2960 - accuracy: 0.8910\n",
      "Epoch 1/6\n"
     ]
    },
    {
     "name": "stderr",
     "output_type": "stream",
     "text": [
      "/Users/husni.zuhdi/Documents/Codes/1-Python-Workshop/retention-prediction-demo/retention-prediction/lib/python3.10/site-packages/tensorflow/python/keras/engine/sequential.py:454: UserWarning: `model.predict_classes()` is deprecated and will be removed after 2021-01-01. Please use instead:* `np.argmax(model.predict(x), axis=-1)`,   if your model does multi-class classification   (e.g. if it uses a `softmax` last-layer activation).* `(model.predict(x) > 0.5).astype(\"int32\")`,   if your model does binary classification   (e.g. if it uses a `sigmoid` last-layer activation).\n",
      "  warnings.warn('`model.predict_classes()` is deprecated and '\n"
     ]
    },
    {
     "name": "stdout",
     "output_type": "stream",
     "text": [
      "315/315 [==============================] - 1s 1ms/step - loss: 0.5540 - accuracy: 0.7617\n",
      "Epoch 2/6\n",
      "315/315 [==============================] - 0s 1ms/step - loss: 0.3832 - accuracy: 0.8119\n",
      "Epoch 3/6\n",
      "315/315 [==============================] - 0s 1ms/step - loss: 0.3274 - accuracy: 0.8488\n",
      "Epoch 4/6\n",
      "315/315 [==============================] - 0s 1ms/step - loss: 0.2951 - accuracy: 0.8604\n",
      "Epoch 5/6\n",
      "315/315 [==============================] - 0s 1ms/step - loss: 0.2769 - accuracy: 0.8656\n",
      "Epoch 6/6\n",
      "315/315 [==============================] - 0s 904us/step - loss: 0.2648 - accuracy: 0.8706\n",
      "Epoch 1/6\n"
     ]
    },
    {
     "name": "stderr",
     "output_type": "stream",
     "text": [
      "/Users/husni.zuhdi/Documents/Codes/1-Python-Workshop/retention-prediction-demo/retention-prediction/lib/python3.10/site-packages/tensorflow/python/keras/engine/sequential.py:454: UserWarning: `model.predict_classes()` is deprecated and will be removed after 2021-01-01. Please use instead:* `np.argmax(model.predict(x), axis=-1)`,   if your model does multi-class classification   (e.g. if it uses a `softmax` last-layer activation).* `(model.predict(x) > 0.5).astype(\"int32\")`,   if your model does binary classification   (e.g. if it uses a `sigmoid` last-layer activation).\n",
      "  warnings.warn('`model.predict_classes()` is deprecated and '\n"
     ]
    },
    {
     "name": "stdout",
     "output_type": "stream",
     "text": [
      "315/315 [==============================] - 1s 1ms/step - loss: 0.5723 - accuracy: 0.7744\n",
      "Epoch 2/6\n",
      "315/315 [==============================] - 0s 932us/step - loss: 0.3549 - accuracy: 0.8599\n",
      "Epoch 3/6\n",
      "315/315 [==============================] - 0s 929us/step - loss: 0.2838 - accuracy: 0.9015\n",
      "Epoch 4/6\n",
      "315/315 [==============================] - 0s 902us/step - loss: 0.2567 - accuracy: 0.9151\n",
      "Epoch 5/6\n",
      "315/315 [==============================] - 0s 937us/step - loss: 0.2399 - accuracy: 0.9235\n",
      "Epoch 6/6\n",
      "315/315 [==============================] - 0s 970us/step - loss: 0.2300 - accuracy: 0.9255\n",
      "Epoch 1/6\n"
     ]
    },
    {
     "name": "stderr",
     "output_type": "stream",
     "text": [
      "/Users/husni.zuhdi/Documents/Codes/1-Python-Workshop/retention-prediction-demo/retention-prediction/lib/python3.10/site-packages/tensorflow/python/keras/engine/sequential.py:454: UserWarning: `model.predict_classes()` is deprecated and will be removed after 2021-01-01. Please use instead:* `np.argmax(model.predict(x), axis=-1)`,   if your model does multi-class classification   (e.g. if it uses a `softmax` last-layer activation).* `(model.predict(x) > 0.5).astype(\"int32\")`,   if your model does binary classification   (e.g. if it uses a `sigmoid` last-layer activation).\n",
      "  warnings.warn('`model.predict_classes()` is deprecated and '\n"
     ]
    },
    {
     "name": "stdout",
     "output_type": "stream",
     "text": [
      "315/315 [==============================] - 1s 918us/step - loss: 0.5715 - accuracy: 0.7761\n",
      "Epoch 2/6\n",
      "315/315 [==============================] - 0s 1ms/step - loss: 0.3558 - accuracy: 0.8635\n",
      "Epoch 3/6\n",
      "315/315 [==============================] - 0s 913us/step - loss: 0.2793 - accuracy: 0.9054\n",
      "Epoch 4/6\n",
      "315/315 [==============================] - 0s 931us/step - loss: 0.2492 - accuracy: 0.9219\n",
      "Epoch 5/6\n",
      "315/315 [==============================] - 0s 911us/step - loss: 0.2304 - accuracy: 0.9304\n",
      "Epoch 6/6\n",
      "315/315 [==============================] - 0s 882us/step - loss: 0.2196 - accuracy: 0.9356\n"
     ]
    },
    {
     "name": "stderr",
     "output_type": "stream",
     "text": [
      "/Users/husni.zuhdi/Documents/Codes/1-Python-Workshop/retention-prediction-demo/retention-prediction/lib/python3.10/site-packages/tensorflow/python/keras/engine/sequential.py:454: UserWarning: `model.predict_classes()` is deprecated and will be removed after 2021-01-01. Please use instead:* `np.argmax(model.predict(x), axis=-1)`,   if your model does multi-class classification   (e.g. if it uses a `softmax` last-layer activation).* `(model.predict(x) > 0.5).astype(\"int32\")`,   if your model does binary classification   (e.g. if it uses a `sigmoid` last-layer activation).\n",
      "  warnings.warn('`model.predict_classes()` is deprecated and '\n"
     ]
    },
    {
     "name": "stdout",
     "output_type": "stream",
     "text": [
      "Epoch 1/6\n",
      "315/315 [==============================] - 1s 881us/step - loss: 0.5721 - accuracy: 0.7620\n",
      "Epoch 2/6\n",
      "315/315 [==============================] - 0s 836us/step - loss: 0.4167 - accuracy: 0.7644\n",
      "Epoch 3/6\n",
      "315/315 [==============================] - 0s 839us/step - loss: 0.3662 - accuracy: 0.7644\n",
      "Epoch 4/6\n",
      "315/315 [==============================] - 0s 898us/step - loss: 0.3351 - accuracy: 0.8274\n",
      "Epoch 5/6\n",
      "315/315 [==============================] - 0s 886us/step - loss: 0.3139 - accuracy: 0.8774\n",
      "Epoch 6/6\n",
      "315/315 [==============================] - 0s 857us/step - loss: 0.2963 - accuracy: 0.8953\n",
      "Epoch 1/6\n"
     ]
    },
    {
     "name": "stderr",
     "output_type": "stream",
     "text": [
      "/Users/husni.zuhdi/Documents/Codes/1-Python-Workshop/retention-prediction-demo/retention-prediction/lib/python3.10/site-packages/tensorflow/python/keras/engine/sequential.py:454: UserWarning: `model.predict_classes()` is deprecated and will be removed after 2021-01-01. Please use instead:* `np.argmax(model.predict(x), axis=-1)`,   if your model does multi-class classification   (e.g. if it uses a `softmax` last-layer activation).* `(model.predict(x) > 0.5).astype(\"int32\")`,   if your model does binary classification   (e.g. if it uses a `sigmoid` last-layer activation).\n",
      "  warnings.warn('`model.predict_classes()` is deprecated and '\n"
     ]
    },
    {
     "name": "stdout",
     "output_type": "stream",
     "text": [
      "315/315 [==============================] - 1s 894us/step - loss: 0.5558 - accuracy: 0.7608\n",
      "Epoch 2/6\n",
      "315/315 [==============================] - 0s 825us/step - loss: 0.4157 - accuracy: 0.7616\n",
      "Epoch 3/6\n",
      "315/315 [==============================] - 0s 964us/step - loss: 0.3752 - accuracy: 0.7616\n",
      "Epoch 4/6\n",
      "315/315 [==============================] - 0s 1ms/step - loss: 0.3494 - accuracy: 0.8060\n",
      "Epoch 5/6\n",
      "315/315 [==============================] - 0s 932us/step - loss: 0.3283 - accuracy: 0.8547\n",
      "Epoch 6/6\n",
      "315/315 [==============================] - 0s 915us/step - loss: 0.3133 - accuracy: 0.8678\n",
      "Epoch 1/6\n"
     ]
    },
    {
     "name": "stderr",
     "output_type": "stream",
     "text": [
      "/Users/husni.zuhdi/Documents/Codes/1-Python-Workshop/retention-prediction-demo/retention-prediction/lib/python3.10/site-packages/tensorflow/python/keras/engine/sequential.py:454: UserWarning: `model.predict_classes()` is deprecated and will be removed after 2021-01-01. Please use instead:* `np.argmax(model.predict(x), axis=-1)`,   if your model does multi-class classification   (e.g. if it uses a `softmax` last-layer activation).* `(model.predict(x) > 0.5).astype(\"int32\")`,   if your model does binary classification   (e.g. if it uses a `sigmoid` last-layer activation).\n",
      "  warnings.warn('`model.predict_classes()` is deprecated and '\n"
     ]
    },
    {
     "name": "stdout",
     "output_type": "stream",
     "text": [
      "315/315 [==============================] - 1s 922us/step - loss: 0.5660 - accuracy: 0.7605\n",
      "Epoch 2/6\n",
      "315/315 [==============================] - 0s 841us/step - loss: 0.3998 - accuracy: 0.7981\n",
      "Epoch 3/6\n",
      "315/315 [==============================] - 0s 976us/step - loss: 0.3438 - accuracy: 0.8080\n",
      "Epoch 4/6\n",
      "315/315 [==============================] - 0s 827us/step - loss: 0.3109 - accuracy: 0.8255\n",
      "Epoch 5/6\n",
      "315/315 [==============================] - 0s 846us/step - loss: 0.2878 - accuracy: 0.8348\n",
      "Epoch 6/6\n",
      "315/315 [==============================] - 0s 886us/step - loss: 0.2746 - accuracy: 0.8737\n",
      "Epoch 1/6\n"
     ]
    },
    {
     "name": "stderr",
     "output_type": "stream",
     "text": [
      "/Users/husni.zuhdi/Documents/Codes/1-Python-Workshop/retention-prediction-demo/retention-prediction/lib/python3.10/site-packages/tensorflow/python/keras/engine/sequential.py:454: UserWarning: `model.predict_classes()` is deprecated and will be removed after 2021-01-01. Please use instead:* `np.argmax(model.predict(x), axis=-1)`,   if your model does multi-class classification   (e.g. if it uses a `softmax` last-layer activation).* `(model.predict(x) > 0.5).astype(\"int32\")`,   if your model does binary classification   (e.g. if it uses a `sigmoid` last-layer activation).\n",
      "  warnings.warn('`model.predict_classes()` is deprecated and '\n"
     ]
    },
    {
     "name": "stdout",
     "output_type": "stream",
     "text": [
      "315/315 [==============================] - 1s 879us/step - loss: 0.5996 - accuracy: 0.7713\n",
      "Epoch 2/6\n",
      "315/315 [==============================] - 0s 931us/step - loss: 0.4048 - accuracy: 0.8167\n",
      "Epoch 3/6\n",
      "315/315 [==============================] - 0s 996us/step - loss: 0.3158 - accuracy: 0.8804\n",
      "Epoch 4/6\n",
      "315/315 [==============================] - 0s 1ms/step - loss: 0.2695 - accuracy: 0.9064\n",
      "Epoch 5/6\n",
      "315/315 [==============================] - 0s 933us/step - loss: 0.2358 - accuracy: 0.9208\n",
      "Epoch 6/6\n",
      "315/315 [==============================] - 0s 968us/step - loss: 0.2247 - accuracy: 0.9218\n",
      "Epoch 1/6\n"
     ]
    },
    {
     "name": "stderr",
     "output_type": "stream",
     "text": [
      "/Users/husni.zuhdi/Documents/Codes/1-Python-Workshop/retention-prediction-demo/retention-prediction/lib/python3.10/site-packages/tensorflow/python/keras/engine/sequential.py:454: UserWarning: `model.predict_classes()` is deprecated and will be removed after 2021-01-01. Please use instead:* `np.argmax(model.predict(x), axis=-1)`,   if your model does multi-class classification   (e.g. if it uses a `softmax` last-layer activation).* `(model.predict(x) > 0.5).astype(\"int32\")`,   if your model does binary classification   (e.g. if it uses a `sigmoid` last-layer activation).\n",
      "  warnings.warn('`model.predict_classes()` is deprecated and '\n"
     ]
    },
    {
     "name": "stdout",
     "output_type": "stream",
     "text": [
      "315/315 [==============================] - 1s 1ms/step - loss: 0.5529 - accuracy: 0.7631\n",
      "Epoch 2/6\n",
      "315/315 [==============================] - 0s 936us/step - loss: 0.4161 - accuracy: 0.7634\n",
      "Epoch 3/6\n",
      "315/315 [==============================] - 0s 845us/step - loss: 0.3719 - accuracy: 0.7634\n",
      "Epoch 4/6\n",
      "315/315 [==============================] - 0s 906us/step - loss: 0.3439 - accuracy: 0.8262\n",
      "Epoch 5/6\n",
      "315/315 [==============================] - 0s 1ms/step - loss: 0.3233 - accuracy: 0.8582\n",
      "Epoch 6/6\n",
      "315/315 [==============================] - 0s 1ms/step - loss: 0.3047 - accuracy: 0.8785\n",
      "Epoch 1/6\n"
     ]
    },
    {
     "name": "stderr",
     "output_type": "stream",
     "text": [
      "/Users/husni.zuhdi/Documents/Codes/1-Python-Workshop/retention-prediction-demo/retention-prediction/lib/python3.10/site-packages/tensorflow/python/keras/engine/sequential.py:454: UserWarning: `model.predict_classes()` is deprecated and will be removed after 2021-01-01. Please use instead:* `np.argmax(model.predict(x), axis=-1)`,   if your model does multi-class classification   (e.g. if it uses a `softmax` last-layer activation).* `(model.predict(x) > 0.5).astype(\"int32\")`,   if your model does binary classification   (e.g. if it uses a `sigmoid` last-layer activation).\n",
      "  warnings.warn('`model.predict_classes()` is deprecated and '\n"
     ]
    },
    {
     "name": "stdout",
     "output_type": "stream",
     "text": [
      "315/315 [==============================] - 1s 1ms/step - loss: 0.5686 - accuracy: 0.7679\n",
      "Epoch 2/6\n",
      "315/315 [==============================] - 0s 1ms/step - loss: 0.3998 - accuracy: 0.8003\n",
      "Epoch 3/6\n",
      "315/315 [==============================] - 0s 1ms/step - loss: 0.3416 - accuracy: 0.8177\n",
      "Epoch 4/6\n",
      "315/315 [==============================] - 0s 870us/step - loss: 0.3133 - accuracy: 0.8319\n",
      "Epoch 5/6\n",
      "315/315 [==============================] - 0s 1ms/step - loss: 0.2914 - accuracy: 0.8433\n",
      "Epoch 6/6\n",
      "315/315 [==============================] - 0s 1ms/step - loss: 0.2742 - accuracy: 0.8480\n",
      "Epoch 1/6\n"
     ]
    },
    {
     "name": "stderr",
     "output_type": "stream",
     "text": [
      "/Users/husni.zuhdi/Documents/Codes/1-Python-Workshop/retention-prediction-demo/retention-prediction/lib/python3.10/site-packages/tensorflow/python/keras/engine/sequential.py:454: UserWarning: `model.predict_classes()` is deprecated and will be removed after 2021-01-01. Please use instead:* `np.argmax(model.predict(x), axis=-1)`,   if your model does multi-class classification   (e.g. if it uses a `softmax` last-layer activation).* `(model.predict(x) > 0.5).astype(\"int32\")`,   if your model does binary classification   (e.g. if it uses a `sigmoid` last-layer activation).\n",
      "  warnings.warn('`model.predict_classes()` is deprecated and '\n"
     ]
    },
    {
     "name": "stdout",
     "output_type": "stream",
     "text": [
      "315/315 [==============================] - 1s 1ms/step - loss: 0.5723 - accuracy: 0.7770\n",
      "Epoch 2/6\n",
      "315/315 [==============================] - 0s 913us/step - loss: 0.3944 - accuracy: 0.8047\n",
      "Epoch 3/6\n",
      "315/315 [==============================] - 0s 844us/step - loss: 0.3326 - accuracy: 0.8221\n",
      "Epoch 4/6\n",
      "315/315 [==============================] - 0s 825us/step - loss: 0.2957 - accuracy: 0.8429\n",
      "Epoch 5/6\n",
      "315/315 [==============================] - 0s 990us/step - loss: 0.2691 - accuracy: 0.8495\n",
      "Epoch 6/6\n",
      "315/315 [==============================] - 0s 1ms/step - loss: 0.2500 - accuracy: 0.8547\n",
      "Epoch 1/6\n"
     ]
    },
    {
     "name": "stderr",
     "output_type": "stream",
     "text": [
      "/Users/husni.zuhdi/Documents/Codes/1-Python-Workshop/retention-prediction-demo/retention-prediction/lib/python3.10/site-packages/tensorflow/python/keras/engine/sequential.py:454: UserWarning: `model.predict_classes()` is deprecated and will be removed after 2021-01-01. Please use instead:* `np.argmax(model.predict(x), axis=-1)`,   if your model does multi-class classification   (e.g. if it uses a `softmax` last-layer activation).* `(model.predict(x) > 0.5).astype(\"int32\")`,   if your model does binary classification   (e.g. if it uses a `sigmoid` last-layer activation).\n",
      "  warnings.warn('`model.predict_classes()` is deprecated and '\n"
     ]
    },
    {
     "name": "stdout",
     "output_type": "stream",
     "text": [
      "315/315 [==============================] - 1s 1ms/step - loss: 0.5704 - accuracy: 0.7629\n",
      "Epoch 2/6\n",
      "315/315 [==============================] - 0s 899us/step - loss: 0.4042 - accuracy: 0.8041\n",
      "Epoch 3/6\n",
      "315/315 [==============================] - 0s 1ms/step - loss: 0.3305 - accuracy: 0.8537\n",
      "Epoch 4/6\n",
      "315/315 [==============================] - 0s 995us/step - loss: 0.2799 - accuracy: 0.8913\n",
      "Epoch 5/6\n",
      "315/315 [==============================] - 0s 956us/step - loss: 0.2505 - accuracy: 0.9017\n",
      "Epoch 6/6\n",
      "315/315 [==============================] - 0s 1ms/step - loss: 0.2306 - accuracy: 0.9151\n",
      "Epoch 1/6\n"
     ]
    },
    {
     "name": "stderr",
     "output_type": "stream",
     "text": [
      "/Users/husni.zuhdi/Documents/Codes/1-Python-Workshop/retention-prediction-demo/retention-prediction/lib/python3.10/site-packages/tensorflow/python/keras/engine/sequential.py:454: UserWarning: `model.predict_classes()` is deprecated and will be removed after 2021-01-01. Please use instead:* `np.argmax(model.predict(x), axis=-1)`,   if your model does multi-class classification   (e.g. if it uses a `softmax` last-layer activation).* `(model.predict(x) > 0.5).astype(\"int32\")`,   if your model does binary classification   (e.g. if it uses a `sigmoid` last-layer activation).\n",
      "  warnings.warn('`model.predict_classes()` is deprecated and '\n"
     ]
    },
    {
     "name": "stdout",
     "output_type": "stream",
     "text": [
      "315/315 [==============================] - 1s 850us/step - loss: 0.5677 - accuracy: 0.7601\n",
      "Epoch 2/6\n",
      "315/315 [==============================] - 0s 844us/step - loss: 0.4137 - accuracy: 0.7954\n",
      "Epoch 3/6\n",
      "315/315 [==============================] - 0s 829us/step - loss: 0.3531 - accuracy: 0.8055\n",
      "Epoch 4/6\n",
      "315/315 [==============================] - 0s 943us/step - loss: 0.3155 - accuracy: 0.8239\n",
      "Epoch 5/6\n",
      "315/315 [==============================] - 0s 1ms/step - loss: 0.2903 - accuracy: 0.8369\n",
      "Epoch 6/6\n",
      "315/315 [==============================] - 0s 883us/step - loss: 0.2703 - accuracy: 0.8804\n",
      "Epoch 1/6\n"
     ]
    },
    {
     "name": "stderr",
     "output_type": "stream",
     "text": [
      "/Users/husni.zuhdi/Documents/Codes/1-Python-Workshop/retention-prediction-demo/retention-prediction/lib/python3.10/site-packages/tensorflow/python/keras/engine/sequential.py:454: UserWarning: `model.predict_classes()` is deprecated and will be removed after 2021-01-01. Please use instead:* `np.argmax(model.predict(x), axis=-1)`,   if your model does multi-class classification   (e.g. if it uses a `softmax` last-layer activation).* `(model.predict(x) > 0.5).astype(\"int32\")`,   if your model does binary classification   (e.g. if it uses a `sigmoid` last-layer activation).\n",
      "  warnings.warn('`model.predict_classes()` is deprecated and '\n"
     ]
    },
    {
     "name": "stdout",
     "output_type": "stream",
     "text": [
      "315/315 [==============================] - 1s 1ms/step - loss: 0.5826 - accuracy: 0.7761\n",
      "Epoch 2/6\n",
      "315/315 [==============================] - 0s 942us/step - loss: 0.4028 - accuracy: 0.8075\n",
      "Epoch 3/6\n",
      "315/315 [==============================] - 0s 1ms/step - loss: 0.3266 - accuracy: 0.8679\n",
      "Epoch 4/6\n",
      "315/315 [==============================] - 0s 878us/step - loss: 0.2802 - accuracy: 0.8937\n",
      "Epoch 5/6\n",
      "315/315 [==============================] - 0s 861us/step - loss: 0.2525 - accuracy: 0.9119\n",
      "Epoch 6/6\n",
      "315/315 [==============================] - 0s 808us/step - loss: 0.2337 - accuracy: 0.9204\n",
      "Epoch 1/8\n"
     ]
    },
    {
     "name": "stderr",
     "output_type": "stream",
     "text": [
      "/Users/husni.zuhdi/Documents/Codes/1-Python-Workshop/retention-prediction-demo/retention-prediction/lib/python3.10/site-packages/tensorflow/python/keras/engine/sequential.py:454: UserWarning: `model.predict_classes()` is deprecated and will be removed after 2021-01-01. Please use instead:* `np.argmax(model.predict(x), axis=-1)`,   if your model does multi-class classification   (e.g. if it uses a `softmax` last-layer activation).* `(model.predict(x) > 0.5).astype(\"int32\")`,   if your model does binary classification   (e.g. if it uses a `sigmoid` last-layer activation).\n",
      "  warnings.warn('`model.predict_classes()` is deprecated and '\n"
     ]
    },
    {
     "name": "stdout",
     "output_type": "stream",
     "text": [
      "315/315 [==============================] - 1s 991us/step - loss: 0.5721 - accuracy: 0.7646\n",
      "Epoch 2/8\n",
      "315/315 [==============================] - 0s 1ms/step - loss: 0.3618 - accuracy: 0.8488\n",
      "Epoch 3/8\n",
      "315/315 [==============================] - 0s 1ms/step - loss: 0.2803 - accuracy: 0.8953\n",
      "Epoch 4/8\n",
      "315/315 [==============================] - 0s 903us/step - loss: 0.2462 - accuracy: 0.9099\n",
      "Epoch 5/8\n",
      "315/315 [==============================] - 0s 967us/step - loss: 0.2239 - accuracy: 0.9214\n",
      "Epoch 6/8\n",
      "315/315 [==============================] - 0s 906us/step - loss: 0.2113 - accuracy: 0.9269\n",
      "Epoch 7/8\n",
      "315/315 [==============================] - 0s 914us/step - loss: 0.2047 - accuracy: 0.9303\n",
      "Epoch 8/8\n",
      "315/315 [==============================] - 0s 986us/step - loss: 0.2005 - accuracy: 0.9290\n",
      "Epoch 1/8\n"
     ]
    },
    {
     "name": "stderr",
     "output_type": "stream",
     "text": [
      "/Users/husni.zuhdi/Documents/Codes/1-Python-Workshop/retention-prediction-demo/retention-prediction/lib/python3.10/site-packages/tensorflow/python/keras/engine/sequential.py:454: UserWarning: `model.predict_classes()` is deprecated and will be removed after 2021-01-01. Please use instead:* `np.argmax(model.predict(x), axis=-1)`,   if your model does multi-class classification   (e.g. if it uses a `softmax` last-layer activation).* `(model.predict(x) > 0.5).astype(\"int32\")`,   if your model does binary classification   (e.g. if it uses a `sigmoid` last-layer activation).\n",
      "  warnings.warn('`model.predict_classes()` is deprecated and '\n"
     ]
    },
    {
     "name": "stdout",
     "output_type": "stream",
     "text": [
      "315/315 [==============================] - 1s 1ms/step - loss: 0.5524 - accuracy: 0.7674\n",
      "Epoch 2/8\n",
      "315/315 [==============================] - 0s 903us/step - loss: 0.3885 - accuracy: 0.7978\n",
      "Epoch 3/8\n",
      "315/315 [==============================] - 0s 988us/step - loss: 0.3365 - accuracy: 0.8134\n",
      "Epoch 4/8\n",
      "315/315 [==============================] - 0s 900us/step - loss: 0.3036 - accuracy: 0.8324\n",
      "Epoch 5/8\n",
      "315/315 [==============================] - 0s 1ms/step - loss: 0.2833 - accuracy: 0.8380\n",
      "Epoch 6/8\n",
      "315/315 [==============================] - 0s 1ms/step - loss: 0.2639 - accuracy: 0.8732\n",
      "Epoch 7/8\n",
      "315/315 [==============================] - 0s 1ms/step - loss: 0.2552 - accuracy: 0.9085\n",
      "Epoch 8/8\n",
      "315/315 [==============================] - 0s 987us/step - loss: 0.2493 - accuracy: 0.9196\n",
      "Epoch 1/8\n"
     ]
    },
    {
     "name": "stderr",
     "output_type": "stream",
     "text": [
      "/Users/husni.zuhdi/Documents/Codes/1-Python-Workshop/retention-prediction-demo/retention-prediction/lib/python3.10/site-packages/tensorflow/python/keras/engine/sequential.py:454: UserWarning: `model.predict_classes()` is deprecated and will be removed after 2021-01-01. Please use instead:* `np.argmax(model.predict(x), axis=-1)`,   if your model does multi-class classification   (e.g. if it uses a `softmax` last-layer activation).* `(model.predict(x) > 0.5).astype(\"int32\")`,   if your model does binary classification   (e.g. if it uses a `sigmoid` last-layer activation).\n",
      "  warnings.warn('`model.predict_classes()` is deprecated and '\n"
     ]
    },
    {
     "name": "stdout",
     "output_type": "stream",
     "text": [
      "315/315 [==============================] - 1s 976us/step - loss: 0.5512 - accuracy: 0.7618\n",
      "Epoch 2/8\n",
      "315/315 [==============================] - 0s 891us/step - loss: 0.3921 - accuracy: 0.8065\n",
      "Epoch 3/8\n",
      "315/315 [==============================] - 0s 890us/step - loss: 0.3450 - accuracy: 0.8411\n",
      "Epoch 4/8\n",
      "315/315 [==============================] - 0s 944us/step - loss: 0.3138 - accuracy: 0.8547\n",
      "Epoch 5/8\n",
      "315/315 [==============================] - 0s 976us/step - loss: 0.2937 - accuracy: 0.8628\n",
      "Epoch 6/8\n",
      "315/315 [==============================] - 0s 1ms/step - loss: 0.2823 - accuracy: 0.8625\n",
      "Epoch 7/8\n",
      "315/315 [==============================] - 0s 983us/step - loss: 0.2693 - accuracy: 0.8689\n",
      "Epoch 8/8\n",
      "315/315 [==============================] - 0s 887us/step - loss: 0.2615 - accuracy: 0.8863\n"
     ]
    },
    {
     "name": "stderr",
     "output_type": "stream",
     "text": [
      "/Users/husni.zuhdi/Documents/Codes/1-Python-Workshop/retention-prediction-demo/retention-prediction/lib/python3.10/site-packages/tensorflow/python/keras/engine/sequential.py:454: UserWarning: `model.predict_classes()` is deprecated and will be removed after 2021-01-01. Please use instead:* `np.argmax(model.predict(x), axis=-1)`,   if your model does multi-class classification   (e.g. if it uses a `softmax` last-layer activation).* `(model.predict(x) > 0.5).astype(\"int32\")`,   if your model does binary classification   (e.g. if it uses a `sigmoid` last-layer activation).\n",
      "  warnings.warn('`model.predict_classes()` is deprecated and '\n"
     ]
    },
    {
     "name": "stdout",
     "output_type": "stream",
     "text": [
      "Epoch 1/8\n",
      "315/315 [==============================] - 1s 962us/step - loss: 0.5623 - accuracy: 0.7798\n",
      "Epoch 2/8\n",
      "315/315 [==============================] - 0s 1ms/step - loss: 0.3536 - accuracy: 0.8567\n",
      "Epoch 3/8\n",
      "315/315 [==============================] - 0s 1ms/step - loss: 0.2779 - accuracy: 0.8989\n",
      "Epoch 4/8\n",
      "315/315 [==============================] - 0s 942us/step - loss: 0.2431 - accuracy: 0.9151\n",
      "Epoch 5/8\n",
      "315/315 [==============================] - 0s 935us/step - loss: 0.2178 - accuracy: 0.9256\n",
      "Epoch 6/8\n",
      "315/315 [==============================] - 0s 917us/step - loss: 0.2076 - accuracy: 0.9295\n",
      "Epoch 7/8\n",
      "315/315 [==============================] - 0s 953us/step - loss: 0.2019 - accuracy: 0.9305\n",
      "Epoch 8/8\n",
      "315/315 [==============================] - 0s 933us/step - loss: 0.1990 - accuracy: 0.9320\n",
      "Epoch 1/8\n"
     ]
    },
    {
     "name": "stderr",
     "output_type": "stream",
     "text": [
      "/Users/husni.zuhdi/Documents/Codes/1-Python-Workshop/retention-prediction-demo/retention-prediction/lib/python3.10/site-packages/tensorflow/python/keras/engine/sequential.py:454: UserWarning: `model.predict_classes()` is deprecated and will be removed after 2021-01-01. Please use instead:* `np.argmax(model.predict(x), axis=-1)`,   if your model does multi-class classification   (e.g. if it uses a `softmax` last-layer activation).* `(model.predict(x) > 0.5).astype(\"int32\")`,   if your model does binary classification   (e.g. if it uses a `sigmoid` last-layer activation).\n",
      "  warnings.warn('`model.predict_classes()` is deprecated and '\n"
     ]
    },
    {
     "name": "stdout",
     "output_type": "stream",
     "text": [
      "315/315 [==============================] - 1s 1ms/step - loss: 0.5548 - accuracy: 0.7657\n",
      "Epoch 2/8\n",
      "315/315 [==============================] - 0s 933us/step - loss: 0.3693 - accuracy: 0.8335\n",
      "Epoch 3/8\n",
      "315/315 [==============================] - 0s 934us/step - loss: 0.2881 - accuracy: 0.8862\n",
      "Epoch 4/8\n",
      "315/315 [==============================] - 0s 884us/step - loss: 0.2472 - accuracy: 0.9080\n",
      "Epoch 5/8\n",
      "315/315 [==============================] - 0s 1ms/step - loss: 0.2262 - accuracy: 0.9184\n",
      "Epoch 6/8\n",
      "315/315 [==============================] - 0s 929us/step - loss: 0.2144 - accuracy: 0.9221\n",
      "Epoch 7/8\n",
      "315/315 [==============================] - 0s 1ms/step - loss: 0.2079 - accuracy: 0.9273\n",
      "Epoch 8/8\n",
      "315/315 [==============================] - 0s 1ms/step - loss: 0.1999 - accuracy: 0.9321\n",
      "Epoch 1/8\n"
     ]
    },
    {
     "name": "stderr",
     "output_type": "stream",
     "text": [
      "/Users/husni.zuhdi/Documents/Codes/1-Python-Workshop/retention-prediction-demo/retention-prediction/lib/python3.10/site-packages/tensorflow/python/keras/engine/sequential.py:454: UserWarning: `model.predict_classes()` is deprecated and will be removed after 2021-01-01. Please use instead:* `np.argmax(model.predict(x), axis=-1)`,   if your model does multi-class classification   (e.g. if it uses a `softmax` last-layer activation).* `(model.predict(x) > 0.5).astype(\"int32\")`,   if your model does binary classification   (e.g. if it uses a `sigmoid` last-layer activation).\n",
      "  warnings.warn('`model.predict_classes()` is deprecated and '\n"
     ]
    },
    {
     "name": "stdout",
     "output_type": "stream",
     "text": [
      "315/315 [==============================] - 1s 1ms/step - loss: 0.5491 - accuracy: 0.7697\n",
      "Epoch 2/8\n",
      "315/315 [==============================] - 0s 913us/step - loss: 0.3800 - accuracy: 0.7986\n",
      "Epoch 3/8\n",
      "315/315 [==============================] - 0s 1ms/step - loss: 0.3291 - accuracy: 0.8159\n",
      "Epoch 4/8\n",
      "315/315 [==============================] - 0s 932us/step - loss: 0.2961 - accuracy: 0.8312\n",
      "Epoch 5/8\n",
      "315/315 [==============================] - 0s 909us/step - loss: 0.2718 - accuracy: 0.8414\n",
      "Epoch 6/8\n",
      "315/315 [==============================] - 0s 970us/step - loss: 0.2573 - accuracy: 0.8900\n",
      "Epoch 7/8\n",
      "315/315 [==============================] - 0s 953us/step - loss: 0.2538 - accuracy: 0.9133\n",
      "Epoch 8/8\n",
      "315/315 [==============================] - 0s 924us/step - loss: 0.2393 - accuracy: 0.9264\n",
      "Epoch 1/8\n"
     ]
    },
    {
     "name": "stderr",
     "output_type": "stream",
     "text": [
      "/Users/husni.zuhdi/Documents/Codes/1-Python-Workshop/retention-prediction-demo/retention-prediction/lib/python3.10/site-packages/tensorflow/python/keras/engine/sequential.py:454: UserWarning: `model.predict_classes()` is deprecated and will be removed after 2021-01-01. Please use instead:* `np.argmax(model.predict(x), axis=-1)`,   if your model does multi-class classification   (e.g. if it uses a `softmax` last-layer activation).* `(model.predict(x) > 0.5).astype(\"int32\")`,   if your model does binary classification   (e.g. if it uses a `sigmoid` last-layer activation).\n",
      "  warnings.warn('`model.predict_classes()` is deprecated and '\n"
     ]
    },
    {
     "name": "stdout",
     "output_type": "stream",
     "text": [
      "315/315 [==============================] - 1s 1ms/step - loss: 0.5569 - accuracy: 0.7716\n",
      "Epoch 2/8\n",
      "315/315 [==============================] - 0s 1ms/step - loss: 0.3631 - accuracy: 0.8363\n",
      "Epoch 3/8\n",
      "315/315 [==============================] - 0s 955us/step - loss: 0.2868 - accuracy: 0.8971\n",
      "Epoch 4/8\n",
      "315/315 [==============================] - 0s 900us/step - loss: 0.2500 - accuracy: 0.9135\n",
      "Epoch 5/8\n",
      "315/315 [==============================] - 0s 1ms/step - loss: 0.2233 - accuracy: 0.9236\n",
      "Epoch 6/8\n",
      "315/315 [==============================] - 0s 1ms/step - loss: 0.2089 - accuracy: 0.9297\n",
      "Epoch 7/8\n",
      "315/315 [==============================] - 0s 1ms/step - loss: 0.2044 - accuracy: 0.9304\n",
      "Epoch 8/8\n",
      "315/315 [==============================] - 0s 1ms/step - loss: 0.1952 - accuracy: 0.9355\n",
      "Epoch 1/8\n"
     ]
    },
    {
     "name": "stderr",
     "output_type": "stream",
     "text": [
      "/Users/husni.zuhdi/Documents/Codes/1-Python-Workshop/retention-prediction-demo/retention-prediction/lib/python3.10/site-packages/tensorflow/python/keras/engine/sequential.py:454: UserWarning: `model.predict_classes()` is deprecated and will be removed after 2021-01-01. Please use instead:* `np.argmax(model.predict(x), axis=-1)`,   if your model does multi-class classification   (e.g. if it uses a `softmax` last-layer activation).* `(model.predict(x) > 0.5).astype(\"int32\")`,   if your model does binary classification   (e.g. if it uses a `sigmoid` last-layer activation).\n",
      "  warnings.warn('`model.predict_classes()` is deprecated and '\n"
     ]
    },
    {
     "name": "stdout",
     "output_type": "stream",
     "text": [
      "315/315 [==============================] - 1s 1ms/step - loss: 0.5587 - accuracy: 0.7665\n",
      "Epoch 2/8\n",
      "315/315 [==============================] - 0s 1ms/step - loss: 0.3599 - accuracy: 0.8478\n",
      "Epoch 3/8\n",
      "315/315 [==============================] - 0s 1ms/step - loss: 0.2844 - accuracy: 0.8889\n",
      "Epoch 4/8\n",
      "315/315 [==============================] - 0s 1ms/step - loss: 0.2476 - accuracy: 0.9064\n",
      "Epoch 5/8\n",
      "315/315 [==============================] - 0s 949us/step - loss: 0.2316 - accuracy: 0.9125\n",
      "Epoch 6/8\n",
      "315/315 [==============================] - 0s 928us/step - loss: 0.2161 - accuracy: 0.9233\n",
      "Epoch 7/8\n",
      "315/315 [==============================] - 0s 959us/step - loss: 0.2099 - accuracy: 0.9257\n",
      "Epoch 8/8\n",
      "315/315 [==============================] - 0s 930us/step - loss: 0.2056 - accuracy: 0.9266\n",
      "Epoch 1/8\n"
     ]
    },
    {
     "name": "stderr",
     "output_type": "stream",
     "text": [
      "/Users/husni.zuhdi/Documents/Codes/1-Python-Workshop/retention-prediction-demo/retention-prediction/lib/python3.10/site-packages/tensorflow/python/keras/engine/sequential.py:454: UserWarning: `model.predict_classes()` is deprecated and will be removed after 2021-01-01. Please use instead:* `np.argmax(model.predict(x), axis=-1)`,   if your model does multi-class classification   (e.g. if it uses a `softmax` last-layer activation).* `(model.predict(x) > 0.5).astype(\"int32\")`,   if your model does binary classification   (e.g. if it uses a `sigmoid` last-layer activation).\n",
      "  warnings.warn('`model.predict_classes()` is deprecated and '\n"
     ]
    },
    {
     "name": "stdout",
     "output_type": "stream",
     "text": [
      "315/315 [==============================] - 1s 922us/step - loss: 0.5433 - accuracy: 0.7608\n",
      "Epoch 2/8\n",
      "315/315 [==============================] - 0s 1ms/step - loss: 0.4046 - accuracy: 0.7612\n",
      "Epoch 3/8\n",
      "315/315 [==============================] - 0s 1ms/step - loss: 0.3648 - accuracy: 0.7612\n",
      "Epoch 4/8\n",
      "315/315 [==============================] - 0s 990us/step - loss: 0.3350 - accuracy: 0.8205\n",
      "Epoch 5/8\n",
      "315/315 [==============================] - 0s 985us/step - loss: 0.3154 - accuracy: 0.8690\n",
      "Epoch 6/8\n",
      "315/315 [==============================] - 0s 892us/step - loss: 0.2998 - accuracy: 0.8849\n",
      "Epoch 7/8\n",
      "315/315 [==============================] - 0s 1ms/step - loss: 0.2893 - accuracy: 0.8973\n",
      "Epoch 8/8\n",
      "315/315 [==============================] - 0s 917us/step - loss: 0.2814 - accuracy: 0.9079\n",
      "Epoch 1/8\n"
     ]
    },
    {
     "name": "stderr",
     "output_type": "stream",
     "text": [
      "/Users/husni.zuhdi/Documents/Codes/1-Python-Workshop/retention-prediction-demo/retention-prediction/lib/python3.10/site-packages/tensorflow/python/keras/engine/sequential.py:454: UserWarning: `model.predict_classes()` is deprecated and will be removed after 2021-01-01. Please use instead:* `np.argmax(model.predict(x), axis=-1)`,   if your model does multi-class classification   (e.g. if it uses a `softmax` last-layer activation).* `(model.predict(x) > 0.5).astype(\"int32\")`,   if your model does binary classification   (e.g. if it uses a `sigmoid` last-layer activation).\n",
      "  warnings.warn('`model.predict_classes()` is deprecated and '\n"
     ]
    },
    {
     "name": "stdout",
     "output_type": "stream",
     "text": [
      "315/315 [==============================] - 1s 1ms/step - loss: 0.5414 - accuracy: 0.7642\n",
      "Epoch 2/8\n",
      "315/315 [==============================] - 0s 947us/step - loss: 0.3993 - accuracy: 0.7644\n",
      "Epoch 3/8\n",
      "315/315 [==============================] - 0s 866us/step - loss: 0.3571 - accuracy: 0.7644\n",
      "Epoch 4/8\n",
      "315/315 [==============================] - 0s 919us/step - loss: 0.3300 - accuracy: 0.8296\n",
      "Epoch 5/8\n",
      "315/315 [==============================] - 0s 851us/step - loss: 0.3089 - accuracy: 0.8734\n",
      "Epoch 6/8\n",
      "315/315 [==============================] - 0s 844us/step - loss: 0.2930 - accuracy: 0.8969\n",
      "Epoch 7/8\n",
      "315/315 [==============================] - 0s 893us/step - loss: 0.2793 - accuracy: 0.9063\n",
      "Epoch 8/8\n",
      "315/315 [==============================] - 0s 833us/step - loss: 0.2705 - accuracy: 0.9133\n",
      "Epoch 1/8\n"
     ]
    },
    {
     "name": "stderr",
     "output_type": "stream",
     "text": [
      "/Users/husni.zuhdi/Documents/Codes/1-Python-Workshop/retention-prediction-demo/retention-prediction/lib/python3.10/site-packages/tensorflow/python/keras/engine/sequential.py:454: UserWarning: `model.predict_classes()` is deprecated and will be removed after 2021-01-01. Please use instead:* `np.argmax(model.predict(x), axis=-1)`,   if your model does multi-class classification   (e.g. if it uses a `softmax` last-layer activation).* `(model.predict(x) > 0.5).astype(\"int32\")`,   if your model does binary classification   (e.g. if it uses a `sigmoid` last-layer activation).\n",
      "  warnings.warn('`model.predict_classes()` is deprecated and '\n"
     ]
    },
    {
     "name": "stdout",
     "output_type": "stream",
     "text": [
      "315/315 [==============================] - 1s 1ms/step - loss: 0.5623 - accuracy: 0.7640\n",
      "Epoch 2/8\n",
      "315/315 [==============================] - 0s 1ms/step - loss: 0.4004 - accuracy: 0.7857\n",
      "Epoch 3/8\n",
      "315/315 [==============================] - 0s 1ms/step - loss: 0.3416 - accuracy: 0.8193\n",
      "Epoch 4/8\n",
      "315/315 [==============================] - 0s 983us/step - loss: 0.3094 - accuracy: 0.8255\n",
      "Epoch 5/8\n",
      "315/315 [==============================] - 0s 880us/step - loss: 0.2878 - accuracy: 0.8535\n",
      "Epoch 6/8\n",
      "315/315 [==============================] - 0s 1ms/step - loss: 0.2761 - accuracy: 0.8914\n",
      "Epoch 7/8\n",
      "315/315 [==============================] - 0s 943us/step - loss: 0.2619 - accuracy: 0.9017\n",
      "Epoch 8/8\n",
      "315/315 [==============================] - 0s 954us/step - loss: 0.2532 - accuracy: 0.9126\n",
      "Epoch 1/8\n"
     ]
    },
    {
     "name": "stderr",
     "output_type": "stream",
     "text": [
      "/Users/husni.zuhdi/Documents/Codes/1-Python-Workshop/retention-prediction-demo/retention-prediction/lib/python3.10/site-packages/tensorflow/python/keras/engine/sequential.py:454: UserWarning: `model.predict_classes()` is deprecated and will be removed after 2021-01-01. Please use instead:* `np.argmax(model.predict(x), axis=-1)`,   if your model does multi-class classification   (e.g. if it uses a `softmax` last-layer activation).* `(model.predict(x) > 0.5).astype(\"int32\")`,   if your model does binary classification   (e.g. if it uses a `sigmoid` last-layer activation).\n",
      "  warnings.warn('`model.predict_classes()` is deprecated and '\n"
     ]
    },
    {
     "name": "stdout",
     "output_type": "stream",
     "text": [
      "315/315 [==============================] - 1s 981us/step - loss: 0.5769 - accuracy: 0.7573\n",
      "Epoch 2/8\n",
      "315/315 [==============================] - 0s 839us/step - loss: 0.4091 - accuracy: 0.7858\n",
      "Epoch 3/8\n",
      "315/315 [==============================] - 0s 1ms/step - loss: 0.3510 - accuracy: 0.8210\n",
      "Epoch 4/8\n",
      "315/315 [==============================] - 0s 1ms/step - loss: 0.3215 - accuracy: 0.8191\n",
      "Epoch 5/8\n",
      "315/315 [==============================] - 0s 887us/step - loss: 0.2986 - accuracy: 0.8276\n",
      "Epoch 6/8\n",
      "315/315 [==============================] - 0s 939us/step - loss: 0.2825 - accuracy: 0.8649\n",
      "Epoch 7/8\n",
      "315/315 [==============================] - 0s 991us/step - loss: 0.2718 - accuracy: 0.8991\n",
      "Epoch 8/8\n",
      "315/315 [==============================] - 0s 1ms/step - loss: 0.2631 - accuracy: 0.9046\n",
      "Epoch 1/8\n"
     ]
    },
    {
     "name": "stderr",
     "output_type": "stream",
     "text": [
      "/Users/husni.zuhdi/Documents/Codes/1-Python-Workshop/retention-prediction-demo/retention-prediction/lib/python3.10/site-packages/tensorflow/python/keras/engine/sequential.py:454: UserWarning: `model.predict_classes()` is deprecated and will be removed after 2021-01-01. Please use instead:* `np.argmax(model.predict(x), axis=-1)`,   if your model does multi-class classification   (e.g. if it uses a `softmax` last-layer activation).* `(model.predict(x) > 0.5).astype(\"int32\")`,   if your model does binary classification   (e.g. if it uses a `sigmoid` last-layer activation).\n",
      "  warnings.warn('`model.predict_classes()` is deprecated and '\n"
     ]
    },
    {
     "name": "stdout",
     "output_type": "stream",
     "text": [
      "315/315 [==============================] - 1s 922us/step - loss: 0.5723 - accuracy: 0.7665\n",
      "Epoch 2/8\n",
      "315/315 [==============================] - 0s 910us/step - loss: 0.4001 - accuracy: 0.8011\n",
      "Epoch 3/8\n",
      "315/315 [==============================] - 0s 888us/step - loss: 0.3401 - accuracy: 0.8135\n",
      "Epoch 4/8\n",
      "315/315 [==============================] - 0s 928us/step - loss: 0.3021 - accuracy: 0.8328\n",
      "Epoch 5/8\n",
      "315/315 [==============================] - 0s 829us/step - loss: 0.2740 - accuracy: 0.8443\n",
      "Epoch 6/8\n",
      "315/315 [==============================] - 0s 824us/step - loss: 0.2594 - accuracy: 0.8681\n",
      "Epoch 7/8\n",
      "315/315 [==============================] - 0s 821us/step - loss: 0.2448 - accuracy: 0.9201\n",
      "Epoch 8/8\n",
      "315/315 [==============================] - 0s 937us/step - loss: 0.2400 - accuracy: 0.9280\n",
      "Epoch 1/8\n"
     ]
    },
    {
     "name": "stderr",
     "output_type": "stream",
     "text": [
      "/Users/husni.zuhdi/Documents/Codes/1-Python-Workshop/retention-prediction-demo/retention-prediction/lib/python3.10/site-packages/tensorflow/python/keras/engine/sequential.py:454: UserWarning: `model.predict_classes()` is deprecated and will be removed after 2021-01-01. Please use instead:* `np.argmax(model.predict(x), axis=-1)`,   if your model does multi-class classification   (e.g. if it uses a `softmax` last-layer activation).* `(model.predict(x) > 0.5).astype(\"int32\")`,   if your model does binary classification   (e.g. if it uses a `sigmoid` last-layer activation).\n",
      "  warnings.warn('`model.predict_classes()` is deprecated and '\n"
     ]
    },
    {
     "name": "stdout",
     "output_type": "stream",
     "text": [
      "315/315 [==============================] - 1s 883us/step - loss: 0.5594 - accuracy: 0.7640\n",
      "Epoch 2/8\n",
      "315/315 [==============================] - 0s 816us/step - loss: 0.4020 - accuracy: 0.7988\n",
      "Epoch 3/8\n",
      "315/315 [==============================] - 0s 868us/step - loss: 0.3464 - accuracy: 0.8041\n",
      "Epoch 4/8\n",
      "315/315 [==============================] - 0s 835us/step - loss: 0.3098 - accuracy: 0.8258\n",
      "Epoch 5/8\n",
      "315/315 [==============================] - 0s 1ms/step - loss: 0.2831 - accuracy: 0.8372\n",
      "Epoch 6/8\n",
      "315/315 [==============================] - 0s 1ms/step - loss: 0.2670 - accuracy: 0.8823\n",
      "Epoch 7/8\n",
      "315/315 [==============================] - 0s 887us/step - loss: 0.2553 - accuracy: 0.9071\n",
      "Epoch 8/8\n",
      "315/315 [==============================] - 0s 892us/step - loss: 0.2446 - accuracy: 0.9198\n",
      "Epoch 1/8\n"
     ]
    },
    {
     "name": "stderr",
     "output_type": "stream",
     "text": [
      "/Users/husni.zuhdi/Documents/Codes/1-Python-Workshop/retention-prediction-demo/retention-prediction/lib/python3.10/site-packages/tensorflow/python/keras/engine/sequential.py:454: UserWarning: `model.predict_classes()` is deprecated and will be removed after 2021-01-01. Please use instead:* `np.argmax(model.predict(x), axis=-1)`,   if your model does multi-class classification   (e.g. if it uses a `softmax` last-layer activation).* `(model.predict(x) > 0.5).astype(\"int32\")`,   if your model does binary classification   (e.g. if it uses a `sigmoid` last-layer activation).\n",
      "  warnings.warn('`model.predict_classes()` is deprecated and '\n"
     ]
    },
    {
     "name": "stdout",
     "output_type": "stream",
     "text": [
      "315/315 [==============================] - 1s 909us/step - loss: 0.5633 - accuracy: 0.7625\n",
      "Epoch 2/8\n",
      "315/315 [==============================] - 0s 894us/step - loss: 0.4074 - accuracy: 0.7855\n",
      "Epoch 3/8\n",
      "315/315 [==============================] - 0s 958us/step - loss: 0.3522 - accuracy: 0.8197\n",
      "Epoch 4/8\n",
      "315/315 [==============================] - 0s 910us/step - loss: 0.3251 - accuracy: 0.8198\n",
      "Epoch 5/8\n",
      "315/315 [==============================] - 0s 808us/step - loss: 0.3058 - accuracy: 0.8274\n",
      "Epoch 6/8\n",
      "315/315 [==============================] - 0s 828us/step - loss: 0.2937 - accuracy: 0.8306\n",
      "Epoch 7/8\n",
      "315/315 [==============================] - 0s 855us/step - loss: 0.2799 - accuracy: 0.8722\n",
      "Epoch 8/8\n",
      "315/315 [==============================] - 0s 819us/step - loss: 0.2711 - accuracy: 0.8949\n",
      "Epoch 1/8\n"
     ]
    },
    {
     "name": "stderr",
     "output_type": "stream",
     "text": [
      "/Users/husni.zuhdi/Documents/Codes/1-Python-Workshop/retention-prediction-demo/retention-prediction/lib/python3.10/site-packages/tensorflow/python/keras/engine/sequential.py:454: UserWarning: `model.predict_classes()` is deprecated and will be removed after 2021-01-01. Please use instead:* `np.argmax(model.predict(x), axis=-1)`,   if your model does multi-class classification   (e.g. if it uses a `softmax` last-layer activation).* `(model.predict(x) > 0.5).astype(\"int32\")`,   if your model does binary classification   (e.g. if it uses a `sigmoid` last-layer activation).\n",
      "  warnings.warn('`model.predict_classes()` is deprecated and '\n"
     ]
    },
    {
     "name": "stdout",
     "output_type": "stream",
     "text": [
      "315/315 [==============================] - 1s 863us/step - loss: 0.5557 - accuracy: 0.7634\n",
      "Epoch 2/8\n",
      "315/315 [==============================] - 0s 847us/step - loss: 0.3934 - accuracy: 0.8010\n",
      "Epoch 3/8\n",
      "315/315 [==============================] - 0s 979us/step - loss: 0.3315 - accuracy: 0.8156\n",
      "Epoch 4/8\n",
      "315/315 [==============================] - 0s 1ms/step - loss: 0.2957 - accuracy: 0.8295\n",
      "Epoch 5/8\n",
      "315/315 [==============================] - 0s 828us/step - loss: 0.2770 - accuracy: 0.8546\n",
      "Epoch 6/8\n",
      "315/315 [==============================] - 0s 830us/step - loss: 0.2634 - accuracy: 0.9004\n",
      "Epoch 7/8\n",
      "315/315 [==============================] - 0s 1ms/step - loss: 0.2546 - accuracy: 0.9164\n",
      "Epoch 8/8\n",
      "315/315 [==============================] - 0s 871us/step - loss: 0.2482 - accuracy: 0.9198\n"
     ]
    },
    {
     "name": "stderr",
     "output_type": "stream",
     "text": [
      "/Users/husni.zuhdi/Documents/Codes/1-Python-Workshop/retention-prediction-demo/retention-prediction/lib/python3.10/site-packages/tensorflow/python/keras/engine/sequential.py:454: UserWarning: `model.predict_classes()` is deprecated and will be removed after 2021-01-01. Please use instead:* `np.argmax(model.predict(x), axis=-1)`,   if your model does multi-class classification   (e.g. if it uses a `softmax` last-layer activation).* `(model.predict(x) > 0.5).astype(\"int32\")`,   if your model does binary classification   (e.g. if it uses a `sigmoid` last-layer activation).\n",
      "  warnings.warn('`model.predict_classes()` is deprecated and '\n"
     ]
    },
    {
     "name": "stdout",
     "output_type": "stream",
     "text": [
      "Epoch 1/8\n",
      "315/315 [==============================] - 1s 953us/step - loss: 0.5640 - accuracy: 0.7629\n",
      "Epoch 2/8\n",
      "315/315 [==============================] - 0s 941us/step - loss: 0.3986 - accuracy: 0.7967\n",
      "Epoch 3/8\n",
      "315/315 [==============================] - 0s 930us/step - loss: 0.3365 - accuracy: 0.8118\n",
      "Epoch 4/8\n",
      "315/315 [==============================] - 0s 875us/step - loss: 0.3003 - accuracy: 0.8298\n",
      "Epoch 5/8\n",
      "315/315 [==============================] - 0s 895us/step - loss: 0.2780 - accuracy: 0.8413\n",
      "Epoch 6/8\n",
      "315/315 [==============================] - 0s 848us/step - loss: 0.2633 - accuracy: 0.8986\n",
      "Epoch 7/8\n",
      "315/315 [==============================] - 0s 1ms/step - loss: 0.2529 - accuracy: 0.9137\n",
      "Epoch 8/8\n",
      "315/315 [==============================] - 0s 900us/step - loss: 0.2449 - accuracy: 0.9198\n",
      "Epoch 1/8\n"
     ]
    },
    {
     "name": "stderr",
     "output_type": "stream",
     "text": [
      "/Users/husni.zuhdi/Documents/Codes/1-Python-Workshop/retention-prediction-demo/retention-prediction/lib/python3.10/site-packages/tensorflow/python/keras/engine/sequential.py:454: UserWarning: `model.predict_classes()` is deprecated and will be removed after 2021-01-01. Please use instead:* `np.argmax(model.predict(x), axis=-1)`,   if your model does multi-class classification   (e.g. if it uses a `softmax` last-layer activation).* `(model.predict(x) > 0.5).astype(\"int32\")`,   if your model does binary classification   (e.g. if it uses a `sigmoid` last-layer activation).\n",
      "  warnings.warn('`model.predict_classes()` is deprecated and '\n"
     ]
    },
    {
     "name": "stdout",
     "output_type": "stream",
     "text": [
      "315/315 [==============================] - 1s 1ms/step - loss: 0.5716 - accuracy: 0.7679\n",
      "Epoch 2/8\n",
      "315/315 [==============================] - 0s 903us/step - loss: 0.3935 - accuracy: 0.8043\n",
      "Epoch 3/8\n",
      "315/315 [==============================] - 0s 902us/step - loss: 0.3293 - accuracy: 0.8222\n",
      "Epoch 4/8\n",
      "315/315 [==============================] - 0s 959us/step - loss: 0.2965 - accuracy: 0.8399\n",
      "Epoch 5/8\n",
      "315/315 [==============================] - 0s 874us/step - loss: 0.2749 - accuracy: 0.8462\n",
      "Epoch 6/8\n",
      "315/315 [==============================] - 0s 833us/step - loss: 0.2583 - accuracy: 0.8563\n",
      "Epoch 7/8\n",
      "315/315 [==============================] - 0s 844us/step - loss: 0.2481 - accuracy: 0.9153\n",
      "Epoch 8/8\n",
      "315/315 [==============================] - 0s 829us/step - loss: 0.2425 - accuracy: 0.9207\n",
      "Epoch 1/8\n"
     ]
    },
    {
     "name": "stderr",
     "output_type": "stream",
     "text": [
      "/Users/husni.zuhdi/Documents/Codes/1-Python-Workshop/retention-prediction-demo/retention-prediction/lib/python3.10/site-packages/tensorflow/python/keras/engine/sequential.py:454: UserWarning: `model.predict_classes()` is deprecated and will be removed after 2021-01-01. Please use instead:* `np.argmax(model.predict(x), axis=-1)`,   if your model does multi-class classification   (e.g. if it uses a `softmax` last-layer activation).* `(model.predict(x) > 0.5).astype(\"int32\")`,   if your model does binary classification   (e.g. if it uses a `sigmoid` last-layer activation).\n",
      "  warnings.warn('`model.predict_classes()` is deprecated and '\n"
     ]
    },
    {
     "name": "stdout",
     "output_type": "stream",
     "text": [
      "315/315 [==============================] - 1s 890us/step - loss: 0.5630 - accuracy: 0.7621\n",
      "Epoch 2/8\n",
      "315/315 [==============================] - 0s 826us/step - loss: 0.4101 - accuracy: 0.7947\n",
      "Epoch 3/8\n",
      "315/315 [==============================] - 0s 955us/step - loss: 0.3503 - accuracy: 0.8081\n",
      "Epoch 4/8\n",
      "315/315 [==============================] - 0s 901us/step - loss: 0.3113 - accuracy: 0.8286\n",
      "Epoch 5/8\n",
      "315/315 [==============================] - 0s 917us/step - loss: 0.2853 - accuracy: 0.8396\n",
      "Epoch 6/8\n",
      "315/315 [==============================] - 0s 921us/step - loss: 0.2746 - accuracy: 0.8573\n",
      "Epoch 7/8\n",
      "315/315 [==============================] - 0s 835us/step - loss: 0.2617 - accuracy: 0.9027\n",
      "Epoch 8/8\n",
      "315/315 [==============================] - 0s 1ms/step - loss: 0.2478 - accuracy: 0.9209\n",
      "Epoch 1/8\n"
     ]
    },
    {
     "name": "stderr",
     "output_type": "stream",
     "text": [
      "/Users/husni.zuhdi/Documents/Codes/1-Python-Workshop/retention-prediction-demo/retention-prediction/lib/python3.10/site-packages/tensorflow/python/keras/engine/sequential.py:454: UserWarning: `model.predict_classes()` is deprecated and will be removed after 2021-01-01. Please use instead:* `np.argmax(model.predict(x), axis=-1)`,   if your model does multi-class classification   (e.g. if it uses a `softmax` last-layer activation).* `(model.predict(x) > 0.5).astype(\"int32\")`,   if your model does binary classification   (e.g. if it uses a `sigmoid` last-layer activation).\n",
      "  warnings.warn('`model.predict_classes()` is deprecated and '\n"
     ]
    },
    {
     "name": "stdout",
     "output_type": "stream",
     "text": [
      "315/315 [==============================] - 1s 976us/step - loss: 0.5584 - accuracy: 0.7641\n",
      "Epoch 2/8\n",
      "315/315 [==============================] - 0s 842us/step - loss: 0.4010 - accuracy: 0.7963\n",
      "Epoch 3/8\n",
      "315/315 [==============================] - 0s 900us/step - loss: 0.3462 - accuracy: 0.8079\n",
      "Epoch 4/8\n",
      "315/315 [==============================] - 0s 823us/step - loss: 0.3136 - accuracy: 0.8242\n",
      "Epoch 5/8\n",
      "315/315 [==============================] - 0s 766us/step - loss: 0.2904 - accuracy: 0.8374\n",
      "Epoch 6/8\n",
      "315/315 [==============================] - 0s 844us/step - loss: 0.2749 - accuracy: 0.8510\n",
      "Epoch 7/8\n",
      "315/315 [==============================] - 0s 785us/step - loss: 0.2632 - accuracy: 0.9029\n",
      "Epoch 8/8\n",
      "315/315 [==============================] - 0s 778us/step - loss: 0.2529 - accuracy: 0.9170\n",
      "Epoch 1/10\n"
     ]
    },
    {
     "name": "stderr",
     "output_type": "stream",
     "text": [
      "/Users/husni.zuhdi/Documents/Codes/1-Python-Workshop/retention-prediction-demo/retention-prediction/lib/python3.10/site-packages/tensorflow/python/keras/engine/sequential.py:454: UserWarning: `model.predict_classes()` is deprecated and will be removed after 2021-01-01. Please use instead:* `np.argmax(model.predict(x), axis=-1)`,   if your model does multi-class classification   (e.g. if it uses a `softmax` last-layer activation).* `(model.predict(x) > 0.5).astype(\"int32\")`,   if your model does binary classification   (e.g. if it uses a `sigmoid` last-layer activation).\n",
      "  warnings.warn('`model.predict_classes()` is deprecated and '\n"
     ]
    },
    {
     "name": "stdout",
     "output_type": "stream",
     "text": [
      "315/315 [==============================] - 1s 1ms/step - loss: 0.5560 - accuracy: 0.7682\n",
      "Epoch 2/10\n",
      "315/315 [==============================] - 0s 1ms/step - loss: 0.3614 - accuracy: 0.8486\n",
      "Epoch 3/10\n",
      "315/315 [==============================] - 0s 1ms/step - loss: 0.2923 - accuracy: 0.8859\n",
      "Epoch 4/10\n",
      "315/315 [==============================] - 0s 1ms/step - loss: 0.2593 - accuracy: 0.9046\n",
      "Epoch 5/10\n",
      "315/315 [==============================] - 0s 1000us/step - loss: 0.2381 - accuracy: 0.9140\n",
      "Epoch 6/10\n",
      "315/315 [==============================] - 0s 1ms/step - loss: 0.2246 - accuracy: 0.9212\n",
      "Epoch 7/10\n",
      "315/315 [==============================] - 0s 1ms/step - loss: 0.2156 - accuracy: 0.9256\n",
      "Epoch 8/10\n",
      "315/315 [==============================] - 0s 1ms/step - loss: 0.2098 - accuracy: 0.9259\n",
      "Epoch 9/10\n",
      "315/315 [==============================] - 0s 1ms/step - loss: 0.2078 - accuracy: 0.9254\n",
      "Epoch 10/10\n",
      "315/315 [==============================] - 0s 1ms/step - loss: 0.1992 - accuracy: 0.9318\n",
      "Epoch 1/10\n"
     ]
    },
    {
     "name": "stderr",
     "output_type": "stream",
     "text": [
      "/Users/husni.zuhdi/Documents/Codes/1-Python-Workshop/retention-prediction-demo/retention-prediction/lib/python3.10/site-packages/tensorflow/python/keras/engine/sequential.py:454: UserWarning: `model.predict_classes()` is deprecated and will be removed after 2021-01-01. Please use instead:* `np.argmax(model.predict(x), axis=-1)`,   if your model does multi-class classification   (e.g. if it uses a `softmax` last-layer activation).* `(model.predict(x) > 0.5).astype(\"int32\")`,   if your model does binary classification   (e.g. if it uses a `sigmoid` last-layer activation).\n",
      "  warnings.warn('`model.predict_classes()` is deprecated and '\n"
     ]
    },
    {
     "name": "stdout",
     "output_type": "stream",
     "text": [
      "315/315 [==============================] - 1s 1ms/step - loss: 0.5452 - accuracy: 0.7618\n",
      "Epoch 2/10\n",
      "315/315 [==============================] - 0s 1ms/step - loss: 0.4013 - accuracy: 0.7616\n",
      "Epoch 3/10\n",
      "315/315 [==============================] - 0s 916us/step - loss: 0.3629 - accuracy: 0.7616\n",
      "Epoch 4/10\n",
      "315/315 [==============================] - 0s 1ms/step - loss: 0.3372 - accuracy: 0.8127\n",
      "Epoch 5/10\n",
      "315/315 [==============================] - 0s 1ms/step - loss: 0.3160 - accuracy: 0.8653\n",
      "Epoch 6/10\n",
      "315/315 [==============================] - 0s 1ms/step - loss: 0.3011 - accuracy: 0.8911\n",
      "Epoch 7/10\n",
      "315/315 [==============================] - 0s 1ms/step - loss: 0.2905 - accuracy: 0.8999\n",
      "Epoch 8/10\n",
      "315/315 [==============================] - 0s 939us/step - loss: 0.2822 - accuracy: 0.9041\n",
      "Epoch 9/10\n",
      "315/315 [==============================] - 0s 1ms/step - loss: 0.2745 - accuracy: 0.9090\n",
      "Epoch 10/10\n",
      "315/315 [==============================] - 0s 1ms/step - loss: 0.2697 - accuracy: 0.9112\n",
      "Epoch 1/10\n"
     ]
    },
    {
     "name": "stderr",
     "output_type": "stream",
     "text": [
      "/Users/husni.zuhdi/Documents/Codes/1-Python-Workshop/retention-prediction-demo/retention-prediction/lib/python3.10/site-packages/tensorflow/python/keras/engine/sequential.py:454: UserWarning: `model.predict_classes()` is deprecated and will be removed after 2021-01-01. Please use instead:* `np.argmax(model.predict(x), axis=-1)`,   if your model does multi-class classification   (e.g. if it uses a `softmax` last-layer activation).* `(model.predict(x) > 0.5).astype(\"int32\")`,   if your model does binary classification   (e.g. if it uses a `sigmoid` last-layer activation).\n",
      "  warnings.warn('`model.predict_classes()` is deprecated and '\n"
     ]
    },
    {
     "name": "stdout",
     "output_type": "stream",
     "text": [
      "315/315 [==============================] - 1s 939us/step - loss: 0.5482 - accuracy: 0.7603\n",
      "Epoch 2/10\n",
      "315/315 [==============================] - 0s 931us/step - loss: 0.4004 - accuracy: 0.7617\n",
      "Epoch 3/10\n",
      "315/315 [==============================] - 0s 923us/step - loss: 0.3578 - accuracy: 0.7617\n",
      "Epoch 4/10\n",
      "315/315 [==============================] - 0s 922us/step - loss: 0.3314 - accuracy: 0.8315\n",
      "Epoch 5/10\n",
      "315/315 [==============================] - 0s 914us/step - loss: 0.3107 - accuracy: 0.8743\n",
      "Epoch 6/10\n",
      "315/315 [==============================] - 0s 919us/step - loss: 0.2941 - accuracy: 0.8966\n",
      "Epoch 7/10\n",
      "315/315 [==============================] - 0s 950us/step - loss: 0.2832 - accuracy: 0.9101\n",
      "Epoch 8/10\n",
      "315/315 [==============================] - 0s 962us/step - loss: 0.2687 - accuracy: 0.9187\n",
      "Epoch 9/10\n",
      "315/315 [==============================] - 0s 915us/step - loss: 0.2640 - accuracy: 0.9183\n",
      "Epoch 10/10\n",
      "315/315 [==============================] - 0s 955us/step - loss: 0.2564 - accuracy: 0.9212\n",
      "Epoch 1/10\n"
     ]
    },
    {
     "name": "stderr",
     "output_type": "stream",
     "text": [
      "/Users/husni.zuhdi/Documents/Codes/1-Python-Workshop/retention-prediction-demo/retention-prediction/lib/python3.10/site-packages/tensorflow/python/keras/engine/sequential.py:454: UserWarning: `model.predict_classes()` is deprecated and will be removed after 2021-01-01. Please use instead:* `np.argmax(model.predict(x), axis=-1)`,   if your model does multi-class classification   (e.g. if it uses a `softmax` last-layer activation).* `(model.predict(x) > 0.5).astype(\"int32\")`,   if your model does binary classification   (e.g. if it uses a `sigmoid` last-layer activation).\n",
      "  warnings.warn('`model.predict_classes()` is deprecated and '\n"
     ]
    },
    {
     "name": "stdout",
     "output_type": "stream",
     "text": [
      "315/315 [==============================] - 1s 986us/step - loss: 0.5509 - accuracy: 0.7625\n",
      "Epoch 2/10\n",
      "315/315 [==============================] - 0s 1ms/step - loss: 0.4009 - accuracy: 0.7643\n",
      "Epoch 3/10\n",
      "315/315 [==============================] - 0s 1ms/step - loss: 0.3578 - accuracy: 0.7643\n",
      "Epoch 4/10\n",
      "315/315 [==============================] - 0s 1ms/step - loss: 0.3289 - accuracy: 0.8160\n",
      "Epoch 5/10\n",
      "315/315 [==============================] - 0s 916us/step - loss: 0.3081 - accuracy: 0.8758\n",
      "Epoch 6/10\n",
      "315/315 [==============================] - 0s 997us/step - loss: 0.2905 - accuracy: 0.8999\n",
      "Epoch 7/10\n",
      "315/315 [==============================] - 0s 1ms/step - loss: 0.2773 - accuracy: 0.9115\n",
      "Epoch 8/10\n",
      "315/315 [==============================] - 0s 927us/step - loss: 0.2698 - accuracy: 0.9132\n",
      "Epoch 9/10\n",
      "315/315 [==============================] - 0s 954us/step - loss: 0.2643 - accuracy: 0.9175\n",
      "Epoch 10/10\n",
      "315/315 [==============================] - 0s 957us/step - loss: 0.2569 - accuracy: 0.9183\n",
      "Epoch 1/10\n"
     ]
    },
    {
     "name": "stderr",
     "output_type": "stream",
     "text": [
      "/Users/husni.zuhdi/Documents/Codes/1-Python-Workshop/retention-prediction-demo/retention-prediction/lib/python3.10/site-packages/tensorflow/python/keras/engine/sequential.py:454: UserWarning: `model.predict_classes()` is deprecated and will be removed after 2021-01-01. Please use instead:* `np.argmax(model.predict(x), axis=-1)`,   if your model does multi-class classification   (e.g. if it uses a `softmax` last-layer activation).* `(model.predict(x) > 0.5).astype(\"int32\")`,   if your model does binary classification   (e.g. if it uses a `sigmoid` last-layer activation).\n",
      "  warnings.warn('`model.predict_classes()` is deprecated and '\n"
     ]
    },
    {
     "name": "stdout",
     "output_type": "stream",
     "text": [
      "315/315 [==============================] - 1s 1ms/step - loss: 0.5585 - accuracy: 0.7607\n",
      "Epoch 2/10\n",
      "315/315 [==============================] - 0s 1ms/step - loss: 0.3813 - accuracy: 0.8121\n",
      "Epoch 3/10\n",
      "315/315 [==============================] - 0s 951us/step - loss: 0.3277 - accuracy: 0.8281\n",
      "Epoch 4/10\n",
      "315/315 [==============================] - 0s 982us/step - loss: 0.3021 - accuracy: 0.8304\n",
      "Epoch 5/10\n",
      "315/315 [==============================] - 0s 995us/step - loss: 0.2826 - accuracy: 0.8347\n",
      "Epoch 6/10\n",
      "315/315 [==============================] - 0s 975us/step - loss: 0.2730 - accuracy: 0.8837\n",
      "Epoch 7/10\n",
      "315/315 [==============================] - 0s 1ms/step - loss: 0.2622 - accuracy: 0.9039\n",
      "Epoch 8/10\n",
      "315/315 [==============================] - 0s 1ms/step - loss: 0.2574 - accuracy: 0.9106\n",
      "Epoch 9/10\n",
      "315/315 [==============================] - 0s 950us/step - loss: 0.2502 - accuracy: 0.9142\n",
      "Epoch 10/10\n",
      "315/315 [==============================] - 0s 1ms/step - loss: 0.2452 - accuracy: 0.9187\n",
      "Epoch 1/10\n"
     ]
    },
    {
     "name": "stderr",
     "output_type": "stream",
     "text": [
      "/Users/husni.zuhdi/Documents/Codes/1-Python-Workshop/retention-prediction-demo/retention-prediction/lib/python3.10/site-packages/tensorflow/python/keras/engine/sequential.py:454: UserWarning: `model.predict_classes()` is deprecated and will be removed after 2021-01-01. Please use instead:* `np.argmax(model.predict(x), axis=-1)`,   if your model does multi-class classification   (e.g. if it uses a `softmax` last-layer activation).* `(model.predict(x) > 0.5).astype(\"int32\")`,   if your model does binary classification   (e.g. if it uses a `sigmoid` last-layer activation).\n",
      "  warnings.warn('`model.predict_classes()` is deprecated and '\n"
     ]
    },
    {
     "name": "stdout",
     "output_type": "stream",
     "text": [
      "315/315 [==============================] - 1s 938us/step - loss: 0.5547 - accuracy: 0.7610\n",
      "Epoch 2/10\n",
      "315/315 [==============================] - 0s 972us/step - loss: 0.3800 - accuracy: 0.7965\n",
      "Epoch 3/10\n",
      "315/315 [==============================] - 0s 1ms/step - loss: 0.3266 - accuracy: 0.8165\n",
      "Epoch 4/10\n",
      "315/315 [==============================] - 0s 913us/step - loss: 0.2971 - accuracy: 0.8335\n",
      "Epoch 5/10\n",
      "315/315 [==============================] - 0s 975us/step - loss: 0.2783 - accuracy: 0.8403\n",
      "Epoch 6/10\n",
      "315/315 [==============================] - 0s 957us/step - loss: 0.2606 - accuracy: 0.8744\n",
      "Epoch 7/10\n",
      "315/315 [==============================] - 0s 984us/step - loss: 0.2519 - accuracy: 0.9158\n",
      "Epoch 8/10\n",
      "315/315 [==============================] - 0s 973us/step - loss: 0.2445 - accuracy: 0.9269\n",
      "Epoch 9/10\n",
      "315/315 [==============================] - 0s 947us/step - loss: 0.2365 - accuracy: 0.9295\n",
      "Epoch 10/10\n",
      "315/315 [==============================] - 0s 955us/step - loss: 0.2276 - accuracy: 0.9326\n",
      "Epoch 1/10\n"
     ]
    },
    {
     "name": "stderr",
     "output_type": "stream",
     "text": [
      "/Users/husni.zuhdi/Documents/Codes/1-Python-Workshop/retention-prediction-demo/retention-prediction/lib/python3.10/site-packages/tensorflow/python/keras/engine/sequential.py:454: UserWarning: `model.predict_classes()` is deprecated and will be removed after 2021-01-01. Please use instead:* `np.argmax(model.predict(x), axis=-1)`,   if your model does multi-class classification   (e.g. if it uses a `softmax` last-layer activation).* `(model.predict(x) > 0.5).astype(\"int32\")`,   if your model does binary classification   (e.g. if it uses a `sigmoid` last-layer activation).\n",
      "  warnings.warn('`model.predict_classes()` is deprecated and '\n"
     ]
    },
    {
     "name": "stdout",
     "output_type": "stream",
     "text": [
      "315/315 [==============================] - 1s 1ms/step - loss: 0.5630 - accuracy: 0.7761\n",
      "Epoch 2/10\n",
      "315/315 [==============================] - 0s 960us/step - loss: 0.3532 - accuracy: 0.8595\n",
      "Epoch 3/10\n",
      "315/315 [==============================] - 0s 974us/step - loss: 0.2741 - accuracy: 0.9004\n",
      "Epoch 4/10\n",
      "315/315 [==============================] - 0s 961us/step - loss: 0.2364 - accuracy: 0.9190\n",
      "Epoch 5/10\n",
      "315/315 [==============================] - 0s 948us/step - loss: 0.2173 - accuracy: 0.9262\n",
      "Epoch 6/10\n",
      "315/315 [==============================] - 0s 967us/step - loss: 0.2035 - accuracy: 0.9347\n",
      "Epoch 7/10\n",
      "315/315 [==============================] - 0s 976us/step - loss: 0.1953 - accuracy: 0.9381\n",
      "Epoch 8/10\n",
      "315/315 [==============================] - 0s 972us/step - loss: 0.1909 - accuracy: 0.9373\n",
      "Epoch 9/10\n",
      "315/315 [==============================] - 0s 973us/step - loss: 0.1876 - accuracy: 0.9418\n",
      "Epoch 10/10\n",
      "315/315 [==============================] - 0s 1ms/step - loss: 0.1855 - accuracy: 0.9424\n",
      "Epoch 1/10\n"
     ]
    },
    {
     "name": "stderr",
     "output_type": "stream",
     "text": [
      "/Users/husni.zuhdi/Documents/Codes/1-Python-Workshop/retention-prediction-demo/retention-prediction/lib/python3.10/site-packages/tensorflow/python/keras/engine/sequential.py:454: UserWarning: `model.predict_classes()` is deprecated and will be removed after 2021-01-01. Please use instead:* `np.argmax(model.predict(x), axis=-1)`,   if your model does multi-class classification   (e.g. if it uses a `softmax` last-layer activation).* `(model.predict(x) > 0.5).astype(\"int32\")`,   if your model does binary classification   (e.g. if it uses a `sigmoid` last-layer activation).\n",
      "  warnings.warn('`model.predict_classes()` is deprecated and '\n"
     ]
    },
    {
     "name": "stdout",
     "output_type": "stream",
     "text": [
      "315/315 [==============================] - 1s 953us/step - loss: 0.5510 - accuracy: 0.7706\n",
      "Epoch 2/10\n",
      "315/315 [==============================] - 0s 1ms/step - loss: 0.3659 - accuracy: 0.8091\n",
      "Epoch 3/10\n",
      "315/315 [==============================] - 0s 1ms/step - loss: 0.3139 - accuracy: 0.8326\n",
      "Epoch 4/10\n",
      "315/315 [==============================] - 0s 1ms/step - loss: 0.2861 - accuracy: 0.8439\n",
      "Epoch 5/10\n",
      "315/315 [==============================] - 0s 969us/step - loss: 0.2640 - accuracy: 0.8500\n",
      "Epoch 6/10\n",
      "315/315 [==============================] - 0s 1ms/step - loss: 0.2536 - accuracy: 0.8532\n",
      "Epoch 7/10\n",
      "315/315 [==============================] - 0s 1ms/step - loss: 0.2411 - accuracy: 0.9213\n",
      "Epoch 8/10\n",
      "315/315 [==============================] - 0s 944us/step - loss: 0.2350 - accuracy: 0.9298\n",
      "Epoch 9/10\n",
      "315/315 [==============================] - 0s 958us/step - loss: 0.2256 - accuracy: 0.9362\n",
      "Epoch 10/10\n",
      "315/315 [==============================] - 0s 1ms/step - loss: 0.2220 - accuracy: 0.9371\n",
      "Epoch 1/10\n"
     ]
    },
    {
     "name": "stderr",
     "output_type": "stream",
     "text": [
      "/Users/husni.zuhdi/Documents/Codes/1-Python-Workshop/retention-prediction-demo/retention-prediction/lib/python3.10/site-packages/tensorflow/python/keras/engine/sequential.py:454: UserWarning: `model.predict_classes()` is deprecated and will be removed after 2021-01-01. Please use instead:* `np.argmax(model.predict(x), axis=-1)`,   if your model does multi-class classification   (e.g. if it uses a `softmax` last-layer activation).* `(model.predict(x) > 0.5).astype(\"int32\")`,   if your model does binary classification   (e.g. if it uses a `sigmoid` last-layer activation).\n",
      "  warnings.warn('`model.predict_classes()` is deprecated and '\n"
     ]
    },
    {
     "name": "stdout",
     "output_type": "stream",
     "text": [
      "315/315 [==============================] - 1s 1ms/step - loss: 0.5542 - accuracy: 0.7660\n",
      "Epoch 2/10\n",
      "315/315 [==============================] - 0s 957us/step - loss: 0.3608 - accuracy: 0.8544\n",
      "Epoch 3/10\n",
      "315/315 [==============================] - 0s 1ms/step - loss: 0.2842 - accuracy: 0.8914\n",
      "Epoch 4/10\n",
      "315/315 [==============================] - 0s 941us/step - loss: 0.2437 - accuracy: 0.9130\n",
      "Epoch 5/10\n",
      "315/315 [==============================] - 0s 1ms/step - loss: 0.2232 - accuracy: 0.9213\n",
      "Epoch 6/10\n",
      "315/315 [==============================] - 0s 1ms/step - loss: 0.2156 - accuracy: 0.9262\n",
      "Epoch 7/10\n",
      "315/315 [==============================] - 0s 1ms/step - loss: 0.2046 - accuracy: 0.9311\n",
      "Epoch 8/10\n",
      "315/315 [==============================] - 0s 1ms/step - loss: 0.2004 - accuracy: 0.9333\n",
      "Epoch 9/10\n",
      "315/315 [==============================] - 0s 1ms/step - loss: 0.1954 - accuracy: 0.9348\n",
      "Epoch 10/10\n",
      "315/315 [==============================] - 0s 1ms/step - loss: 0.1948 - accuracy: 0.9364\n"
     ]
    },
    {
     "name": "stderr",
     "output_type": "stream",
     "text": [
      "/Users/husni.zuhdi/Documents/Codes/1-Python-Workshop/retention-prediction-demo/retention-prediction/lib/python3.10/site-packages/tensorflow/python/keras/engine/sequential.py:454: UserWarning: `model.predict_classes()` is deprecated and will be removed after 2021-01-01. Please use instead:* `np.argmax(model.predict(x), axis=-1)`,   if your model does multi-class classification   (e.g. if it uses a `softmax` last-layer activation).* `(model.predict(x) > 0.5).astype(\"int32\")`,   if your model does binary classification   (e.g. if it uses a `sigmoid` last-layer activation).\n",
      "  warnings.warn('`model.predict_classes()` is deprecated and '\n"
     ]
    },
    {
     "name": "stdout",
     "output_type": "stream",
     "text": [
      "Epoch 1/10\n",
      "315/315 [==============================] - 1s 1ms/step - loss: 0.5553 - accuracy: 0.7677\n",
      "Epoch 2/10\n",
      "315/315 [==============================] - 0s 1ms/step - loss: 0.3762 - accuracy: 0.8026\n",
      "Epoch 3/10\n",
      "315/315 [==============================] - 0s 1ms/step - loss: 0.3196 - accuracy: 0.8183\n",
      "Epoch 4/10\n",
      "315/315 [==============================] - 0s 1ms/step - loss: 0.2872 - accuracy: 0.8378\n",
      "Epoch 5/10\n",
      "315/315 [==============================] - 0s 1ms/step - loss: 0.2676 - accuracy: 0.8418\n",
      "Epoch 6/10\n",
      "315/315 [==============================] - 0s 1ms/step - loss: 0.2521 - accuracy: 0.8915\n",
      "Epoch 7/10\n",
      "315/315 [==============================] - 0s 1ms/step - loss: 0.2445 - accuracy: 0.9177\n",
      "Epoch 8/10\n",
      "315/315 [==============================] - 0s 1ms/step - loss: 0.2359 - accuracy: 0.9304\n",
      "Epoch 9/10\n",
      "315/315 [==============================] - 0s 1ms/step - loss: 0.2366 - accuracy: 0.9291\n",
      "Epoch 10/10\n",
      "315/315 [==============================] - 0s 1ms/step - loss: 0.2299 - accuracy: 0.9297\n",
      "Epoch 1/10\n"
     ]
    },
    {
     "name": "stderr",
     "output_type": "stream",
     "text": [
      "/Users/husni.zuhdi/Documents/Codes/1-Python-Workshop/retention-prediction-demo/retention-prediction/lib/python3.10/site-packages/tensorflow/python/keras/engine/sequential.py:454: UserWarning: `model.predict_classes()` is deprecated and will be removed after 2021-01-01. Please use instead:* `np.argmax(model.predict(x), axis=-1)`,   if your model does multi-class classification   (e.g. if it uses a `softmax` last-layer activation).* `(model.predict(x) > 0.5).astype(\"int32\")`,   if your model does binary classification   (e.g. if it uses a `sigmoid` last-layer activation).\n",
      "  warnings.warn('`model.predict_classes()` is deprecated and '\n"
     ]
    },
    {
     "name": "stdout",
     "output_type": "stream",
     "text": [
      "315/315 [==============================] - 1s 1ms/step - loss: 0.5628 - accuracy: 0.7625\n",
      "Epoch 2/10\n",
      "315/315 [==============================] - 0s 1ms/step - loss: 0.3939 - accuracy: 0.8179\n",
      "Epoch 3/10\n",
      "315/315 [==============================] - 0s 1ms/step - loss: 0.3144 - accuracy: 0.8762\n",
      "Epoch 4/10\n",
      "315/315 [==============================] - 0s 1ms/step - loss: 0.2728 - accuracy: 0.8925\n",
      "Epoch 5/10\n",
      "315/315 [==============================] - 0s 1ms/step - loss: 0.2455 - accuracy: 0.9116\n",
      "Epoch 6/10\n",
      "315/315 [==============================] - 0s 1ms/step - loss: 0.2294 - accuracy: 0.9168\n",
      "Epoch 7/10\n",
      "315/315 [==============================] - 0s 1ms/step - loss: 0.2169 - accuracy: 0.9217\n",
      "Epoch 8/10\n",
      "315/315 [==============================] - 0s 1ms/step - loss: 0.2125 - accuracy: 0.9258\n",
      "Epoch 9/10\n",
      "315/315 [==============================] - 0s 1ms/step - loss: 0.2083 - accuracy: 0.9261\n",
      "Epoch 10/10\n",
      "315/315 [==============================] - 0s 1ms/step - loss: 0.2070 - accuracy: 0.9268\n",
      "Epoch 1/10\n"
     ]
    },
    {
     "name": "stderr",
     "output_type": "stream",
     "text": [
      "/Users/husni.zuhdi/Documents/Codes/1-Python-Workshop/retention-prediction-demo/retention-prediction/lib/python3.10/site-packages/tensorflow/python/keras/engine/sequential.py:454: UserWarning: `model.predict_classes()` is deprecated and will be removed after 2021-01-01. Please use instead:* `np.argmax(model.predict(x), axis=-1)`,   if your model does multi-class classification   (e.g. if it uses a `softmax` last-layer activation).* `(model.predict(x) > 0.5).astype(\"int32\")`,   if your model does binary classification   (e.g. if it uses a `sigmoid` last-layer activation).\n",
      "  warnings.warn('`model.predict_classes()` is deprecated and '\n"
     ]
    },
    {
     "name": "stdout",
     "output_type": "stream",
     "text": [
      "315/315 [==============================] - 1s 1ms/step - loss: 0.5686 - accuracy: 0.7604\n",
      "Epoch 2/10\n",
      "315/315 [==============================] - 0s 1ms/step - loss: 0.4215 - accuracy: 0.7696\n",
      "Epoch 3/10\n",
      "315/315 [==============================] - 0s 1ms/step - loss: 0.3692 - accuracy: 0.8260\n",
      "Epoch 4/10\n",
      "315/315 [==============================] - 0s 1ms/step - loss: 0.3353 - accuracy: 0.8422\n",
      "Epoch 5/10\n",
      "315/315 [==============================] - 0s 1ms/step - loss: 0.3140 - accuracy: 0.8493\n",
      "Epoch 6/10\n",
      "315/315 [==============================] - 0s 1ms/step - loss: 0.2942 - accuracy: 0.8551\n",
      "Epoch 7/10\n",
      "315/315 [==============================] - 0s 1ms/step - loss: 0.2800 - accuracy: 0.8652\n",
      "Epoch 8/10\n",
      "315/315 [==============================] - 0s 1ms/step - loss: 0.2701 - accuracy: 0.8863\n",
      "Epoch 9/10\n",
      "315/315 [==============================] - 0s 1ms/step - loss: 0.2607 - accuracy: 0.8939\n",
      "Epoch 10/10\n",
      "315/315 [==============================] - 0s 1ms/step - loss: 0.2536 - accuracy: 0.9030\n",
      "Epoch 1/10\n"
     ]
    },
    {
     "name": "stderr",
     "output_type": "stream",
     "text": [
      "/Users/husni.zuhdi/Documents/Codes/1-Python-Workshop/retention-prediction-demo/retention-prediction/lib/python3.10/site-packages/tensorflow/python/keras/engine/sequential.py:454: UserWarning: `model.predict_classes()` is deprecated and will be removed after 2021-01-01. Please use instead:* `np.argmax(model.predict(x), axis=-1)`,   if your model does multi-class classification   (e.g. if it uses a `softmax` last-layer activation).* `(model.predict(x) > 0.5).astype(\"int32\")`,   if your model does binary classification   (e.g. if it uses a `sigmoid` last-layer activation).\n",
      "  warnings.warn('`model.predict_classes()` is deprecated and '\n"
     ]
    },
    {
     "name": "stdout",
     "output_type": "stream",
     "text": [
      "315/315 [==============================] - 1s 988us/step - loss: 0.5511 - accuracy: 0.7616\n",
      "Epoch 2/10\n",
      "315/315 [==============================] - 0s 972us/step - loss: 0.4086 - accuracy: 0.7617\n",
      "Epoch 3/10\n",
      "315/315 [==============================] - 0s 910us/step - loss: 0.3639 - accuracy: 0.7635\n",
      "Epoch 4/10\n",
      "315/315 [==============================] - 0s 859us/step - loss: 0.3373 - accuracy: 0.8436\n",
      "Epoch 5/10\n",
      "315/315 [==============================] - 0s 847us/step - loss: 0.3149 - accuracy: 0.8719\n",
      "Epoch 6/10\n",
      "315/315 [==============================] - 0s 845us/step - loss: 0.2987 - accuracy: 0.8907\n",
      "Epoch 7/10\n",
      "315/315 [==============================] - 0s 1ms/step - loss: 0.2850 - accuracy: 0.9024\n",
      "Epoch 8/10\n",
      "315/315 [==============================] - 0s 1ms/step - loss: 0.2772 - accuracy: 0.9076\n",
      "Epoch 9/10\n",
      "315/315 [==============================] - 0s 922us/step - loss: 0.2697 - accuracy: 0.9130\n",
      "Epoch 10/10\n",
      "315/315 [==============================] - 0s 846us/step - loss: 0.2620 - accuracy: 0.9139\n",
      "Epoch 1/10\n"
     ]
    },
    {
     "name": "stderr",
     "output_type": "stream",
     "text": [
      "/Users/husni.zuhdi/Documents/Codes/1-Python-Workshop/retention-prediction-demo/retention-prediction/lib/python3.10/site-packages/tensorflow/python/keras/engine/sequential.py:454: UserWarning: `model.predict_classes()` is deprecated and will be removed after 2021-01-01. Please use instead:* `np.argmax(model.predict(x), axis=-1)`,   if your model does multi-class classification   (e.g. if it uses a `softmax` last-layer activation).* `(model.predict(x) > 0.5).astype(\"int32\")`,   if your model does binary classification   (e.g. if it uses a `sigmoid` last-layer activation).\n",
      "  warnings.warn('`model.predict_classes()` is deprecated and '\n"
     ]
    },
    {
     "name": "stdout",
     "output_type": "stream",
     "text": [
      "315/315 [==============================] - 1s 1ms/step - loss: 0.5668 - accuracy: 0.7646\n",
      "Epoch 2/10\n",
      "315/315 [==============================] - 0s 849us/step - loss: 0.4011 - accuracy: 0.8030\n",
      "Epoch 3/10\n",
      "315/315 [==============================] - 0s 875us/step - loss: 0.3278 - accuracy: 0.8598\n",
      "Epoch 4/10\n",
      "315/315 [==============================] - 0s 889us/step - loss: 0.2785 - accuracy: 0.8921\n",
      "Epoch 5/10\n",
      "315/315 [==============================] - 0s 1ms/step - loss: 0.2416 - accuracy: 0.9127\n",
      "Epoch 6/10\n",
      "315/315 [==============================] - 0s 991us/step - loss: 0.2245 - accuracy: 0.9167\n",
      "Epoch 7/10\n",
      "315/315 [==============================] - 0s 891us/step - loss: 0.2160 - accuracy: 0.9191\n",
      "Epoch 8/10\n",
      "315/315 [==============================] - 0s 842us/step - loss: 0.2097 - accuracy: 0.9257\n",
      "Epoch 9/10\n",
      "315/315 [==============================] - 0s 866us/step - loss: 0.2056 - accuracy: 0.9248\n",
      "Epoch 10/10\n",
      "315/315 [==============================] - 0s 852us/step - loss: 0.2003 - accuracy: 0.9261\n",
      "Epoch 1/10\n"
     ]
    },
    {
     "name": "stderr",
     "output_type": "stream",
     "text": [
      "/Users/husni.zuhdi/Documents/Codes/1-Python-Workshop/retention-prediction-demo/retention-prediction/lib/python3.10/site-packages/tensorflow/python/keras/engine/sequential.py:454: UserWarning: `model.predict_classes()` is deprecated and will be removed after 2021-01-01. Please use instead:* `np.argmax(model.predict(x), axis=-1)`,   if your model does multi-class classification   (e.g. if it uses a `softmax` last-layer activation).* `(model.predict(x) > 0.5).astype(\"int32\")`,   if your model does binary classification   (e.g. if it uses a `sigmoid` last-layer activation).\n",
      "  warnings.warn('`model.predict_classes()` is deprecated and '\n"
     ]
    },
    {
     "name": "stdout",
     "output_type": "stream",
     "text": [
      "315/315 [==============================] - 1s 1ms/step - loss: 0.5720 - accuracy: 0.7630\n",
      "Epoch 2/10\n",
      "315/315 [==============================] - 0s 936us/step - loss: 0.4014 - accuracy: 0.8160\n",
      "Epoch 3/10\n",
      "315/315 [==============================] - 0s 883us/step - loss: 0.3298 - accuracy: 0.8603\n",
      "Epoch 4/10\n",
      "315/315 [==============================] - 0s 864us/step - loss: 0.2888 - accuracy: 0.8852\n",
      "Epoch 5/10\n",
      "315/315 [==============================] - 0s 851us/step - loss: 0.2622 - accuracy: 0.8997\n",
      "Epoch 6/10\n",
      "315/315 [==============================] - 0s 851us/step - loss: 0.2417 - accuracy: 0.9132\n",
      "Epoch 7/10\n",
      "315/315 [==============================] - 0s 897us/step - loss: 0.2275 - accuracy: 0.9181\n",
      "Epoch 8/10\n",
      "315/315 [==============================] - 0s 886us/step - loss: 0.2154 - accuracy: 0.9262\n",
      "Epoch 9/10\n",
      "315/315 [==============================] - 0s 1ms/step - loss: 0.2124 - accuracy: 0.9251\n",
      "Epoch 10/10\n",
      "315/315 [==============================] - 0s 947us/step - loss: 0.2077 - accuracy: 0.9289\n",
      "Epoch 1/10\n"
     ]
    },
    {
     "name": "stderr",
     "output_type": "stream",
     "text": [
      "/Users/husni.zuhdi/Documents/Codes/1-Python-Workshop/retention-prediction-demo/retention-prediction/lib/python3.10/site-packages/tensorflow/python/keras/engine/sequential.py:454: UserWarning: `model.predict_classes()` is deprecated and will be removed after 2021-01-01. Please use instead:* `np.argmax(model.predict(x), axis=-1)`,   if your model does multi-class classification   (e.g. if it uses a `softmax` last-layer activation).* `(model.predict(x) > 0.5).astype(\"int32\")`,   if your model does binary classification   (e.g. if it uses a `sigmoid` last-layer activation).\n",
      "  warnings.warn('`model.predict_classes()` is deprecated and '\n"
     ]
    },
    {
     "name": "stdout",
     "output_type": "stream",
     "text": [
      "315/315 [==============================] - 1s 909us/step - loss: 0.5786 - accuracy: 0.7604\n",
      "Epoch 2/10\n",
      "315/315 [==============================] - 0s 882us/step - loss: 0.3926 - accuracy: 0.8290\n",
      "Epoch 3/10\n",
      "315/315 [==============================] - 0s 919us/step - loss: 0.3134 - accuracy: 0.8704\n",
      "Epoch 4/10\n",
      "315/315 [==============================] - 0s 864us/step - loss: 0.2689 - accuracy: 0.8977\n",
      "Epoch 5/10\n",
      "315/315 [==============================] - 0s 866us/step - loss: 0.2409 - accuracy: 0.9125\n",
      "Epoch 6/10\n",
      "315/315 [==============================] - 0s 882us/step - loss: 0.2202 - accuracy: 0.9220\n",
      "Epoch 7/10\n",
      "315/315 [==============================] - 0s 913us/step - loss: 0.2142 - accuracy: 0.9236\n",
      "Epoch 8/10\n",
      "315/315 [==============================] - 0s 985us/step - loss: 0.2080 - accuracy: 0.9274\n",
      "Epoch 9/10\n",
      "315/315 [==============================] - 0s 939us/step - loss: 0.2008 - accuracy: 0.9307\n",
      "Epoch 10/10\n",
      "315/315 [==============================] - 0s 827us/step - loss: 0.1987 - accuracy: 0.9303\n",
      "Epoch 1/10\n"
     ]
    },
    {
     "name": "stderr",
     "output_type": "stream",
     "text": [
      "/Users/husni.zuhdi/Documents/Codes/1-Python-Workshop/retention-prediction-demo/retention-prediction/lib/python3.10/site-packages/tensorflow/python/keras/engine/sequential.py:454: UserWarning: `model.predict_classes()` is deprecated and will be removed after 2021-01-01. Please use instead:* `np.argmax(model.predict(x), axis=-1)`,   if your model does multi-class classification   (e.g. if it uses a `softmax` last-layer activation).* `(model.predict(x) > 0.5).astype(\"int32\")`,   if your model does binary classification   (e.g. if it uses a `sigmoid` last-layer activation).\n",
      "  warnings.warn('`model.predict_classes()` is deprecated and '\n"
     ]
    },
    {
     "name": "stdout",
     "output_type": "stream",
     "text": [
      "315/315 [==============================] - 1s 992us/step - loss: 0.5804 - accuracy: 0.7738\n",
      "Epoch 2/10\n",
      "315/315 [==============================] - 0s 937us/step - loss: 0.4023 - accuracy: 0.8083\n",
      "Epoch 3/10\n",
      "315/315 [==============================] - 0s 912us/step - loss: 0.3233 - accuracy: 0.8735\n",
      "Epoch 4/10\n",
      "315/315 [==============================] - 0s 1ms/step - loss: 0.2730 - accuracy: 0.9034\n",
      "Epoch 5/10\n",
      "315/315 [==============================] - 0s 846us/step - loss: 0.2504 - accuracy: 0.9127\n",
      "Epoch 6/10\n",
      "315/315 [==============================] - 0s 839us/step - loss: 0.2308 - accuracy: 0.9232\n",
      "Epoch 7/10\n",
      "315/315 [==============================] - 0s 1ms/step - loss: 0.2195 - accuracy: 0.9315\n",
      "Epoch 8/10\n",
      "315/315 [==============================] - 0s 855us/step - loss: 0.2085 - accuracy: 0.9346\n",
      "Epoch 9/10\n",
      "315/315 [==============================] - 0s 834us/step - loss: 0.2050 - accuracy: 0.9354\n",
      "Epoch 10/10\n",
      "315/315 [==============================] - 0s 840us/step - loss: 0.1979 - accuracy: 0.9389\n",
      "Epoch 1/10\n"
     ]
    },
    {
     "name": "stderr",
     "output_type": "stream",
     "text": [
      "/Users/husni.zuhdi/Documents/Codes/1-Python-Workshop/retention-prediction-demo/retention-prediction/lib/python3.10/site-packages/tensorflow/python/keras/engine/sequential.py:454: UserWarning: `model.predict_classes()` is deprecated and will be removed after 2021-01-01. Please use instead:* `np.argmax(model.predict(x), axis=-1)`,   if your model does multi-class classification   (e.g. if it uses a `softmax` last-layer activation).* `(model.predict(x) > 0.5).astype(\"int32\")`,   if your model does binary classification   (e.g. if it uses a `sigmoid` last-layer activation).\n",
      "  warnings.warn('`model.predict_classes()` is deprecated and '\n"
     ]
    },
    {
     "name": "stdout",
     "output_type": "stream",
     "text": [
      "315/315 [==============================] - 1s 938us/step - loss: 0.5727 - accuracy: 0.7633\n",
      "Epoch 2/10\n",
      "315/315 [==============================] - 0s 1ms/step - loss: 0.4021 - accuracy: 0.8114\n",
      "Epoch 3/10\n",
      "315/315 [==============================] - 0s 968us/step - loss: 0.3331 - accuracy: 0.8549\n",
      "Epoch 4/10\n",
      "315/315 [==============================] - 0s 1ms/step - loss: 0.2808 - accuracy: 0.8904\n",
      "Epoch 5/10\n",
      "315/315 [==============================] - 0s 842us/step - loss: 0.2525 - accuracy: 0.9075\n",
      "Epoch 6/10\n",
      "315/315 [==============================] - 0s 872us/step - loss: 0.2351 - accuracy: 0.9178\n",
      "Epoch 7/10\n",
      "315/315 [==============================] - 0s 842us/step - loss: 0.2169 - accuracy: 0.9254\n",
      "Epoch 8/10\n",
      "315/315 [==============================] - 0s 922us/step - loss: 0.2106 - accuracy: 0.9302\n",
      "Epoch 9/10\n",
      "315/315 [==============================] - 0s 920us/step - loss: 0.2064 - accuracy: 0.9288\n",
      "Epoch 10/10\n",
      "315/315 [==============================] - 0s 928us/step - loss: 0.1978 - accuracy: 0.9334\n",
      "Epoch 1/10\n"
     ]
    },
    {
     "name": "stderr",
     "output_type": "stream",
     "text": [
      "/Users/husni.zuhdi/Documents/Codes/1-Python-Workshop/retention-prediction-demo/retention-prediction/lib/python3.10/site-packages/tensorflow/python/keras/engine/sequential.py:454: UserWarning: `model.predict_classes()` is deprecated and will be removed after 2021-01-01. Please use instead:* `np.argmax(model.predict(x), axis=-1)`,   if your model does multi-class classification   (e.g. if it uses a `softmax` last-layer activation).* `(model.predict(x) > 0.5).astype(\"int32\")`,   if your model does binary classification   (e.g. if it uses a `sigmoid` last-layer activation).\n",
      "  warnings.warn('`model.predict_classes()` is deprecated and '\n"
     ]
    },
    {
     "name": "stdout",
     "output_type": "stream",
     "text": [
      "315/315 [==============================] - 1s 980us/step - loss: 0.5866 - accuracy: 0.7830\n",
      "Epoch 2/10\n",
      "315/315 [==============================] - 0s 846us/step - loss: 0.4057 - accuracy: 0.8058\n",
      "Epoch 3/10\n",
      "315/315 [==============================] - 0s 868us/step - loss: 0.3389 - accuracy: 0.8250\n",
      "Epoch 4/10\n",
      "315/315 [==============================] - 0s 887us/step - loss: 0.3052 - accuracy: 0.8420\n",
      "Epoch 5/10\n",
      "315/315 [==============================] - 0s 892us/step - loss: 0.2848 - accuracy: 0.8480\n",
      "Epoch 6/10\n",
      "315/315 [==============================] - 0s 877us/step - loss: 0.2664 - accuracy: 0.8548\n",
      "Epoch 7/10\n",
      "315/315 [==============================] - 0s 1ms/step - loss: 0.2539 - accuracy: 0.8553\n",
      "Epoch 8/10\n",
      "315/315 [==============================] - 0s 1ms/step - loss: 0.2450 - accuracy: 0.8812\n",
      "Epoch 9/10\n",
      "315/315 [==============================] - 0s 997us/step - loss: 0.2382 - accuracy: 0.9274\n",
      "Epoch 10/10\n",
      "315/315 [==============================] - 0s 885us/step - loss: 0.2344 - accuracy: 0.9287\n",
      "Epoch 1/10\n"
     ]
    },
    {
     "name": "stderr",
     "output_type": "stream",
     "text": [
      "/Users/husni.zuhdi/Documents/Codes/1-Python-Workshop/retention-prediction-demo/retention-prediction/lib/python3.10/site-packages/tensorflow/python/keras/engine/sequential.py:454: UserWarning: `model.predict_classes()` is deprecated and will be removed after 2021-01-01. Please use instead:* `np.argmax(model.predict(x), axis=-1)`,   if your model does multi-class classification   (e.g. if it uses a `softmax` last-layer activation).* `(model.predict(x) > 0.5).astype(\"int32\")`,   if your model does binary classification   (e.g. if it uses a `sigmoid` last-layer activation).\n",
      "  warnings.warn('`model.predict_classes()` is deprecated and '\n"
     ]
    },
    {
     "name": "stdout",
     "output_type": "stream",
     "text": [
      "315/315 [==============================] - 1s 959us/step - loss: 0.5881 - accuracy: 0.7778\n",
      "Epoch 2/10\n",
      "315/315 [==============================] - 0s 834us/step - loss: 0.4107 - accuracy: 0.8068\n",
      "Epoch 3/10\n",
      "315/315 [==============================] - 0s 849us/step - loss: 0.3469 - accuracy: 0.8193\n",
      "Epoch 4/10\n",
      "315/315 [==============================] - 0s 957us/step - loss: 0.3141 - accuracy: 0.8359\n",
      "Epoch 5/10\n",
      "315/315 [==============================] - 0s 806us/step - loss: 0.2922 - accuracy: 0.8487\n",
      "Epoch 6/10\n",
      "315/315 [==============================] - 0s 852us/step - loss: 0.2767 - accuracy: 0.8512\n",
      "Epoch 7/10\n",
      "315/315 [==============================] - 0s 846us/step - loss: 0.2643 - accuracy: 0.8529\n",
      "Epoch 8/10\n",
      "315/315 [==============================] - 0s 1ms/step - loss: 0.2557 - accuracy: 0.8541\n",
      "Epoch 9/10\n",
      "315/315 [==============================] - 0s 928us/step - loss: 0.2499 - accuracy: 0.8771\n",
      "Epoch 10/10\n",
      "315/315 [==============================] - 0s 997us/step - loss: 0.2431 - accuracy: 0.9167\n",
      "Epoch 1/10\n"
     ]
    },
    {
     "name": "stderr",
     "output_type": "stream",
     "text": [
      "/Users/husni.zuhdi/Documents/Codes/1-Python-Workshop/retention-prediction-demo/retention-prediction/lib/python3.10/site-packages/tensorflow/python/keras/engine/sequential.py:454: UserWarning: `model.predict_classes()` is deprecated and will be removed after 2021-01-01. Please use instead:* `np.argmax(model.predict(x), axis=-1)`,   if your model does multi-class classification   (e.g. if it uses a `softmax` last-layer activation).* `(model.predict(x) > 0.5).astype(\"int32\")`,   if your model does binary classification   (e.g. if it uses a `sigmoid` last-layer activation).\n",
      "  warnings.warn('`model.predict_classes()` is deprecated and '\n"
     ]
    },
    {
     "name": "stdout",
     "output_type": "stream",
     "text": [
      "1050/1050 [==============================] - 1s 1ms/step - loss: 0.4209 - accuracy: 0.8210\n",
      "Epoch 2/10\n",
      "1050/1050 [==============================] - 1s 1ms/step - loss: 0.2481 - accuracy: 0.9090\n",
      "Epoch 3/10\n",
      "1050/1050 [==============================] - 1s 1ms/step - loss: 0.2152 - accuracy: 0.9235\n",
      "Epoch 4/10\n",
      "1050/1050 [==============================] - 1s 1ms/step - loss: 0.2069 - accuracy: 0.9245\n",
      "Epoch 5/10\n",
      "1050/1050 [==============================] - 2s 2ms/step - loss: 0.2030 - accuracy: 0.9289\n",
      "Epoch 6/10\n",
      "1050/1050 [==============================] - 1s 1ms/step - loss: 0.2001 - accuracy: 0.9293\n",
      "Epoch 7/10\n",
      "1050/1050 [==============================] - 1s 1ms/step - loss: 0.1908 - accuracy: 0.9326\n",
      "Epoch 8/10\n",
      "1050/1050 [==============================] - 1s 1ms/step - loss: 0.1905 - accuracy: 0.9321\n",
      "Epoch 9/10\n",
      "1050/1050 [==============================] - 2s 2ms/step - loss: 0.1911 - accuracy: 0.9293\n",
      "Epoch 10/10\n",
      "1050/1050 [==============================] - 2s 2ms/step - loss: 0.1878 - accuracy: 0.9309\n"
     ]
    }
   ],
   "source": [
    "grid_search = grid_search.fit(X_train,y_train)"
   ]
  },
  {
   "cell_type": "code",
   "execution_count": 11,
   "metadata": {},
   "outputs": [
    {
     "name": "stdout",
     "output_type": "stream",
     "text": [
      "{'batch_size': 10, 'epochs': 10, 'optimizer': 'adam'}\n",
      "0.9473277043896682\n"
     ]
    }
   ],
   "source": [
    "best_param = grid_search.best_params_\n",
    "best_accuracy = grid_search.best_score_\n",
    "print(best_param)\n",
    "print(best_accuracy)"
   ]
  },
  {
   "cell_type": "code",
   "execution_count": 12,
   "metadata": {},
   "outputs": [],
   "source": [
    "best_classifier = KerasClassifier(\n",
    "    build_fn = make_classifier,\n",
    "    batch_size=best_param.get('batch_size'),\n",
    "    nb_epoch=best_param.get('epochs'),\n",
    "    optimizer=best_param.get('optimizer')\n",
    "    )"
   ]
  },
  {
   "cell_type": "code",
   "execution_count": 13,
   "metadata": {},
   "outputs": [
    {
     "name": "stderr",
     "output_type": "stream",
     "text": [
      "2022-06-05 16:10:56.362185: I tensorflow/core/platform/cpu_feature_guard.cc:193] This TensorFlow binary is optimized with oneAPI Deep Neural Network Library (oneDNN) to use the following CPU instructions in performance-critical operations:  AVX2 AVX512F AVX512_VNNI FMA\n",
      "To enable them in other operations, rebuild TensorFlow with the appropriate compiler flags.\n",
      "2022-06-05 16:10:56.362240: I tensorflow/core/platform/cpu_feature_guard.cc:193] This TensorFlow binary is optimized with oneAPI Deep Neural Network Library (oneDNN) to use the following CPU instructions in performance-critical operations:  AVX2 AVX512F AVX512_VNNI FMA\n",
      "To enable them in other operations, rebuild TensorFlow with the appropriate compiler flags.\n",
      "2022-06-05 16:10:56.362257: I tensorflow/core/platform/cpu_feature_guard.cc:193] This TensorFlow binary is optimized with oneAPI Deep Neural Network Library (oneDNN) to use the following CPU instructions in performance-critical operations:  AVX2 AVX512F AVX512_VNNI FMA\n",
      "To enable them in other operations, rebuild TensorFlow with the appropriate compiler flags.\n",
      "2022-06-05 16:10:56.363342: I tensorflow/core/platform/cpu_feature_guard.cc:193] This TensorFlow binary is optimized with oneAPI Deep Neural Network Library (oneDNN) to use the following CPU instructions in performance-critical operations:  AVX2 AVX512F AVX512_VNNI FMA\n",
      "To enable them in other operations, rebuild TensorFlow with the appropriate compiler flags.\n",
      "2022-06-05 16:10:56.364362: I tensorflow/core/platform/cpu_feature_guard.cc:193] This TensorFlow binary is optimized with oneAPI Deep Neural Network Library (oneDNN) to use the following CPU instructions in performance-critical operations:  AVX2 AVX512F AVX512_VNNI FMA\n",
      "To enable them in other operations, rebuild TensorFlow with the appropriate compiler flags.\n",
      "2022-06-05 16:10:56.364388: I tensorflow/core/platform/cpu_feature_guard.cc:193] This TensorFlow binary is optimized with oneAPI Deep Neural Network Library (oneDNN) to use the following CPU instructions in performance-critical operations:  AVX2 AVX512F AVX512_VNNI FMA\n",
      "To enable them in other operations, rebuild TensorFlow with the appropriate compiler flags.\n",
      "2022-06-05 16:10:56.364391: I tensorflow/core/platform/cpu_feature_guard.cc:193] This TensorFlow binary is optimized with oneAPI Deep Neural Network Library (oneDNN) to use the following CPU instructions in performance-critical operations:  AVX2 AVX512F AVX512_VNNI FMA\n",
      "To enable them in other operations, rebuild TensorFlow with the appropriate compiler flags.\n",
      "2022-06-05 16:10:56.365423: I tensorflow/core/platform/cpu_feature_guard.cc:193] This TensorFlow binary is optimized with oneAPI Deep Neural Network Library (oneDNN) to use the following CPU instructions in performance-critical operations:  AVX2 AVX512F AVX512_VNNI FMA\n",
      "To enable them in other operations, rebuild TensorFlow with the appropriate compiler flags.\n"
     ]
    },
    {
     "name": "stdout",
     "output_type": "stream",
     "text": [
      "945/945 [==============================] - 5s 4ms/step - loss: 0.4551 - accuracy: 0.7644TA: 0s - loss: 0.4531 - accuracy: 0.78 ETA: 0s - loss: 0.4807 - accuracy: \n",
      "945/945 [==============================] - 5s 4ms/step - loss: 0.4486 - accuracy: 0.7994TA: 0s - loss: 0.4472 - accuracy: 0.78\n",
      "945/945 [==============================] - 5s 4ms/step - loss: 0.4505 - accuracy: 0.7873\n",
      "945/945 [==============================] - 5s 4ms/step - loss: 0.4590 - accuracy: 0.7615\n",
      "945/945 [==============================] - 5s 4ms/step - loss: 0.4463 - accuracy: 0.7946\n",
      "945/945 [==============================] - 5s 4ms/step - loss: 0.4489 - accuracy: 0.8028\n",
      "945/945 [==============================] - 5s 4ms/step - loss: 0.4449 - accuracy: 0.7870\n",
      "945/945 [==============================] - 5s 4ms/step - loss: 0.4290 - accuracy: 0.8211\n",
      "105/105 [==============================] - 1s 2ms/step - loss: 0.3645 - accuracy: 0.7514ETA: 35s - loss: 0.1848 - accuracy: 1.000\n",
      "105/105 [==============================] - 1s 2ms/step - loss: 0.3384 - accuracy: 0.8771\n",
      "105/105 [==============================] - 1s 2ms/step - loss: 0.3306 - accuracy: 0.8667\n",
      "105/105 [==============================] - 1s 2ms/step - loss: 0.3280 - accuracy: 0.8219\n",
      "105/105 [==============================] - 1s 2ms/step - loss: 0.3370 - accuracy: 0.8248\n",
      "105/105 [==============================] - 1s 2ms/step - loss: 0.3060 - accuracy: 0.9000\n",
      "105/105 [==============================] - 0s 3ms/step - loss: 0.3502 - accuracy: 0.7771\n",
      "105/105 [==============================] - 0s 2ms/step - loss: 0.3211 - accuracy: 0.8305\n",
      "945/945 [==============================] - 2s 2ms/step - loss: 0.4531 - accuracy: 0.7844\n",
      "945/945 [==============================] - 2s 2ms/step - loss: 0.4429 - accuracy: 0.8038\n",
      "105/105 [==============================] - 0s 1ms/step - loss: 0.3451 - accuracy: 0.8103\n",
      "105/105 [==============================] - 0s 790us/step - loss: 0.2785 - accuracy: 0.9029\n"
     ]
    }
   ],
   "source": [
    "accuracies = cross_val_score(estimator = best_classifier,X = X_train,y = y_train,cv = 10,n_jobs = -1)"
   ]
  },
  {
   "cell_type": "code",
   "execution_count": 14,
   "metadata": {},
   "outputs": [
    {
     "name": "stdout",
     "output_type": "stream",
     "text": [
      "mean: 0.8362676441669464; variance: 0.002283102837360538\n"
     ]
    }
   ],
   "source": [
    "mean = accuracies.mean()\n",
    "variance = accuracies.var()\n",
    "print(f\"mean: {mean}; variance: {variance}\")"
   ]
  },
  {
   "cell_type": "code",
   "execution_count": 15,
   "metadata": {},
   "outputs": [
    {
     "name": "stdout",
     "output_type": "stream",
     "text": [
      "Epoch 1/10\n",
      "1050/1050 [==============================] - 2s 1ms/step - loss: 0.4288 - accuracy: 0.7995\n",
      "Epoch 2/10\n",
      "1050/1050 [==============================] - 1s 1ms/step - loss: 0.2847 - accuracy: 0.8360\n",
      "Epoch 3/10\n",
      "1050/1050 [==============================] - 1s 1ms/step - loss: 0.2581 - accuracy: 0.8995\n",
      "Epoch 4/10\n",
      "1050/1050 [==============================] - 1s 1ms/step - loss: 0.2446 - accuracy: 0.9203\n",
      "Epoch 5/10\n",
      "1050/1050 [==============================] - 1s 1ms/step - loss: 0.2329 - accuracy: 0.9282\n",
      "Epoch 6/10\n",
      "1050/1050 [==============================] - 1s 1ms/step - loss: 0.2237 - accuracy: 0.9318\n",
      "Epoch 7/10\n",
      "1050/1050 [==============================] - 1s 1ms/step - loss: 0.2203 - accuracy: 0.9353\n",
      "Epoch 8/10\n",
      "1050/1050 [==============================] - 1s 1ms/step - loss: 0.2169 - accuracy: 0.9347\n",
      "Epoch 9/10\n",
      "1050/1050 [==============================] - 1s 1ms/step - loss: 0.2129 - accuracy: 0.9355\n",
      "Epoch 10/10\n",
      "1050/1050 [==============================] - 2s 1ms/step - loss: 0.2072 - accuracy: 0.9371\n"
     ]
    },
    {
     "data": {
      "text/plain": [
       "<tensorflow.python.keras.callbacks.History at 0x160149300>"
      ]
     },
     "execution_count": 15,
     "metadata": {},
     "output_type": "execute_result"
    }
   ],
   "source": [
    "best_classifier.fit(X_train, y_train, batch_size = best_param.get('batch_size'), epochs = best_param.get('epochs'))"
   ]
  },
  {
   "cell_type": "code",
   "execution_count": 16,
   "metadata": {},
   "outputs": [
    {
     "name": "stderr",
     "output_type": "stream",
     "text": [
      "/Users/husni.zuhdi/Documents/Codes/1-Python-Workshop/retention-prediction-demo/retention-prediction/lib/python3.10/site-packages/tensorflow/python/keras/engine/sequential.py:454: UserWarning: `model.predict_classes()` is deprecated and will be removed after 2021-01-01. Please use instead:* `np.argmax(model.predict(x), axis=-1)`,   if your model does multi-class classification   (e.g. if it uses a `softmax` last-layer activation).* `(model.predict(x) > 0.5).astype(\"int32\")`,   if your model does binary classification   (e.g. if it uses a `sigmoid` last-layer activation).\n",
      "  warnings.warn('`model.predict_classes()` is deprecated and '\n"
     ]
    },
    {
     "data": {
      "text/plain": [
       "array([[False],\n",
       "       [False],\n",
       "       [False],\n",
       "       ...,\n",
       "       [False],\n",
       "       [ True],\n",
       "       [ True]])"
      ]
     },
     "execution_count": 16,
     "metadata": {},
     "output_type": "execute_result"
    }
   ],
   "source": [
    "y_pred = (best_classifier.predict(X_test) > 0.5).astype(\"bool\")\n",
    "y_pred"
   ]
  },
  {
   "cell_type": "markdown",
   "metadata": {},
   "source": [
    "# Confusion Matrix"
   ]
  },
  {
   "cell_type": "code",
   "execution_count": 17,
   "metadata": {},
   "outputs": [
    {
     "data": {
      "text/plain": [
       "array([[3289,  127],\n",
       "       [ 118,  966]])"
      ]
     },
     "execution_count": 17,
     "metadata": {},
     "output_type": "execute_result"
    }
   ],
   "source": [
    "from sklearn.metrics import confusion_matrix\n",
    "cm = confusion_matrix(y_test, y_pred)\n",
    "cm"
   ]
  },
  {
   "cell_type": "code",
   "execution_count": 20,
   "metadata": {},
   "outputs": [
    {
     "name": "stdout",
     "output_type": "stream",
     "text": [
      "[[False]]\n"
     ]
    },
    {
     "name": "stderr",
     "output_type": "stream",
     "text": [
      "/Users/husni.zuhdi/Documents/Codes/1-Python-Workshop/retention-prediction-demo/retention-prediction/lib/python3.10/site-packages/tensorflow/python/keras/engine/sequential.py:454: UserWarning: `model.predict_classes()` is deprecated and will be removed after 2021-01-01. Please use instead:* `np.argmax(model.predict(x), axis=-1)`,   if your model does multi-class classification   (e.g. if it uses a `softmax` last-layer activation).* `(model.predict(x) > 0.5).astype(\"int32\")`,   if your model does binary classification   (e.g. if it uses a `sigmoid` last-layer activation).\n",
      "  warnings.warn('`model.predict_classes()` is deprecated and '\n"
     ]
    }
   ],
   "source": [
    "new_pred = best_classifier.predict(sc.transform(np.array([[0.26,0.7 ,3., 238., 6., 0.,0.,0.,0., 0.,0.,0.,0.,0.,1.,0., 0.,1.]])))\n",
    "new_pred = (new_pred > 0.5)\n",
    "print(new_pred)"
   ]
  },
  {
   "cell_type": "markdown",
   "metadata": {},
   "source": [
    "# Save and Load model"
   ]
  },
  {
   "cell_type": "markdown",
   "metadata": {},
   "source": [
    "## Save into HDF5 format"
   ]
  },
  {
   "cell_type": "code",
   "execution_count": 21,
   "metadata": {},
   "outputs": [
    {
     "name": "stdout",
     "output_type": "stream",
     "text": [
      "mkdir: model/: File exists\n"
     ]
    }
   ],
   "source": [
    "# Create model folder\n",
    "!mkdir model/\n",
    "# saving model\n",
    "json_model = best_classifier.model.to_json()\n",
    "open('model/retention_prediction_model.json', 'w').write(json_model)\n",
    "# saving weights\n",
    "best_classifier.model.save_weights('model/retention_prediction_weights.h5', overwrite=True)"
   ]
  },
  {
   "cell_type": "code",
   "execution_count": 22,
   "metadata": {},
   "outputs": [],
   "source": [
    "# loading model\n",
    "from tensorflow.python.keras.models import model_from_json\n",
    "\n",
    "model = model_from_json(open('model/retention_prediction_model.json').read())\n",
    "model.load_weights('model/retention_prediction_weights.h5')\n",
    "\n",
    "# dont forget to compile your model\n",
    "model.compile(loss='binary_crossentropy', optimizer='adam')"
   ]
  },
  {
   "cell_type": "code",
   "execution_count": 23,
   "metadata": {},
   "outputs": [
    {
     "name": "stdout",
     "output_type": "stream",
     "text": [
      "[[0.13277882]]\n"
     ]
    }
   ],
   "source": [
    "model_pred = model.predict(sc.transform(np.array([[0.26,0.7 ,3., 238., 6., 0.,0.,0.,0., 0.,0.,0.,0.,0.,1.,0., 0.,1.]])))\n",
    "print(model_pred)"
   ]
  },
  {
   "cell_type": "markdown",
   "metadata": {},
   "source": [
    "## Save into tensorflow js format"
   ]
  },
  {
   "cell_type": "code",
   "execution_count": 25,
   "metadata": {},
   "outputs": [],
   "source": [
    "import tensorflowjs as tfjs\n",
    "\n",
    "\n",
    "tfjs.converters.save_keras_model(model, \"model/retention_prediction_tfjs\")"
   ]
  }
 ],
 "metadata": {
  "interpreter": {
   "hash": "e7e0f8da691bef39f047a6ecce313123a5b7239f3e31c96f60216464a1606940"
  },
  "kernelspec": {
   "display_name": "Python 3.10.0 ('retention-prediction': venv)",
   "language": "python",
   "name": "python3"
  },
  "language_info": {
   "codemirror_mode": {
    "name": "ipython",
    "version": 3
   },
   "file_extension": ".py",
   "mimetype": "text/x-python",
   "name": "python",
   "nbconvert_exporter": "python",
   "pygments_lexer": "ipython3",
   "version": "3.10.0"
  },
  "orig_nbformat": 4
 },
 "nbformat": 4,
 "nbformat_minor": 2
}
