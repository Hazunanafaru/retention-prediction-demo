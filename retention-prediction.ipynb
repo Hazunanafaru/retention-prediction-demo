{
 "cells": [
  {
   "cell_type": "markdown",
   "metadata": {},
   "source": [
    "# Retention Prediction with Tensorflow\n",
    "Ref : https://www.digitalocean.com/community/tutorials/how-to-build-a-deep-learning-model-to-predict-employee-retention-using-keras-and-tensorflow"
   ]
  },
  {
   "cell_type": "code",
   "execution_count": 4,
   "metadata": {},
   "outputs": [],
   "source": [
    "import pandas as pd\n",
    "import numpy as np\n",
    "df = pd.read_csv(\"https://raw.githubusercontent.com/mwitiderrick/kerasDO/master/HR_comma_sep.csv\")"
   ]
  },
  {
   "cell_type": "code",
   "execution_count": 14,
   "metadata": {},
   "outputs": [
    {
     "data": {
      "text/plain": [
       "Index(['satisfaction_level', 'last_evaluation', 'number_project',\n",
       "       'average_montly_hours', 'time_spend_company', 'Work_accident', 'left',\n",
       "       'promotion_last_5years', 'department', 'salary'],\n",
       "      dtype='object')"
      ]
     },
     "execution_count": 14,
     "metadata": {},
     "output_type": "execute_result"
    }
   ],
   "source": [
    "df.columns"
   ]
  },
  {
   "cell_type": "code",
   "execution_count": 16,
   "metadata": {},
   "outputs": [
    {
     "data": {
      "text/html": [
       "<div>\n",
       "<style scoped>\n",
       "    .dataframe tbody tr th:only-of-type {\n",
       "        vertical-align: middle;\n",
       "    }\n",
       "\n",
       "    .dataframe tbody tr th {\n",
       "        vertical-align: top;\n",
       "    }\n",
       "\n",
       "    .dataframe thead th {\n",
       "        text-align: right;\n",
       "    }\n",
       "</style>\n",
       "<table border=\"1\" class=\"dataframe\">\n",
       "  <thead>\n",
       "    <tr style=\"text-align: right;\">\n",
       "      <th></th>\n",
       "      <th>satisfaction_level</th>\n",
       "      <th>last_evaluation</th>\n",
       "      <th>number_project</th>\n",
       "      <th>average_montly_hours</th>\n",
       "      <th>time_spend_company</th>\n",
       "      <th>work_accident</th>\n",
       "      <th>left</th>\n",
       "      <th>promotion_last_5years</th>\n",
       "      <th>department</th>\n",
       "      <th>salary_level</th>\n",
       "    </tr>\n",
       "  </thead>\n",
       "  <tbody>\n",
       "    <tr>\n",
       "      <th>0</th>\n",
       "      <td>0.38</td>\n",
       "      <td>0.53</td>\n",
       "      <td>2</td>\n",
       "      <td>157</td>\n",
       "      <td>3</td>\n",
       "      <td>0</td>\n",
       "      <td>1</td>\n",
       "      <td>0</td>\n",
       "      <td>sales</td>\n",
       "      <td>low</td>\n",
       "    </tr>\n",
       "    <tr>\n",
       "      <th>1</th>\n",
       "      <td>0.80</td>\n",
       "      <td>0.86</td>\n",
       "      <td>5</td>\n",
       "      <td>262</td>\n",
       "      <td>6</td>\n",
       "      <td>0</td>\n",
       "      <td>1</td>\n",
       "      <td>0</td>\n",
       "      <td>sales</td>\n",
       "      <td>medium</td>\n",
       "    </tr>\n",
       "    <tr>\n",
       "      <th>2</th>\n",
       "      <td>0.11</td>\n",
       "      <td>0.88</td>\n",
       "      <td>7</td>\n",
       "      <td>272</td>\n",
       "      <td>4</td>\n",
       "      <td>0</td>\n",
       "      <td>1</td>\n",
       "      <td>0</td>\n",
       "      <td>sales</td>\n",
       "      <td>medium</td>\n",
       "    </tr>\n",
       "    <tr>\n",
       "      <th>3</th>\n",
       "      <td>0.72</td>\n",
       "      <td>0.87</td>\n",
       "      <td>5</td>\n",
       "      <td>223</td>\n",
       "      <td>5</td>\n",
       "      <td>0</td>\n",
       "      <td>1</td>\n",
       "      <td>0</td>\n",
       "      <td>sales</td>\n",
       "      <td>low</td>\n",
       "    </tr>\n",
       "    <tr>\n",
       "      <th>4</th>\n",
       "      <td>0.37</td>\n",
       "      <td>0.52</td>\n",
       "      <td>2</td>\n",
       "      <td>159</td>\n",
       "      <td>3</td>\n",
       "      <td>0</td>\n",
       "      <td>1</td>\n",
       "      <td>0</td>\n",
       "      <td>sales</td>\n",
       "      <td>low</td>\n",
       "    </tr>\n",
       "  </tbody>\n",
       "</table>\n",
       "</div>"
      ],
      "text/plain": [
       "   satisfaction_level  last_evaluation  number_project  average_montly_hours  \\\n",
       "0                0.38             0.53               2                   157   \n",
       "1                0.80             0.86               5                   262   \n",
       "2                0.11             0.88               7                   272   \n",
       "3                0.72             0.87               5                   223   \n",
       "4                0.37             0.52               2                   159   \n",
       "\n",
       "   time_spend_company  work_accident  left  promotion_last_5years department  \\\n",
       "0                   3              0     1                      0      sales   \n",
       "1                   6              0     1                      0      sales   \n",
       "2                   4              0     1                      0      sales   \n",
       "3                   5              0     1                      0      sales   \n",
       "4                   3              0     1                      0      sales   \n",
       "\n",
       "  salary_level  \n",
       "0          low  \n",
       "1       medium  \n",
       "2       medium  \n",
       "3          low  \n",
       "4          low  "
      ]
     },
     "execution_count": 16,
     "metadata": {},
     "output_type": "execute_result"
    }
   ],
   "source": [
    "df.rename(columns={\"Work_accident\": \"work_accident\", \"salary\": \"salary_level\"}, inplace=True)\n",
    "df.head()"
   ]
  },
  {
   "cell_type": "code",
   "execution_count": 18,
   "metadata": {},
   "outputs": [
    {
     "data": {
      "text/plain": [
       "array(['low', 'medium', 'high'], dtype=object)"
      ]
     },
     "execution_count": 18,
     "metadata": {},
     "output_type": "execute_result"
    }
   ],
   "source": [
    "df[\"salary_level\"].unique()"
   ]
  },
  {
   "cell_type": "code",
   "execution_count": 21,
   "metadata": {},
   "outputs": [],
   "source": [
    "feats = ['department','salary_level']\n",
    "df_final = pd.get_dummies(df,columns=feats,drop_first=True)"
   ]
  },
  {
   "cell_type": "markdown",
   "metadata": {},
   "source": [
    "## Separating Train and Test Dataset"
   ]
  },
  {
   "cell_type": "code",
   "execution_count": 22,
   "metadata": {},
   "outputs": [],
   "source": [
    "from sklearn.model_selection import train_test_split"
   ]
  },
  {
   "cell_type": "code",
   "execution_count": 23,
   "metadata": {},
   "outputs": [],
   "source": [
    "X = df_final.drop(['left'],axis=1).values\n",
    "y = df_final['left'].values"
   ]
  },
  {
   "cell_type": "code",
   "execution_count": 24,
   "metadata": {},
   "outputs": [],
   "source": [
    "X_train, X_test, y_train, y_test = train_test_split(X, y, test_size=0.3)"
   ]
  },
  {
   "cell_type": "code",
   "execution_count": 25,
   "metadata": {},
   "outputs": [],
   "source": [
    "from sklearn.preprocessing import StandardScaler\n",
    "sc = StandardScaler()\n",
    "X_train = sc.fit_transform(X_train)\n",
    "X_test = sc.transform(X_test)"
   ]
  },
  {
   "cell_type": "code",
   "execution_count": 26,
   "metadata": {},
   "outputs": [
    {
     "ename": "TypeError",
     "evalue": "Descriptors cannot not be created directly.\nIf this call came from a _pb2.py file, your generated code is out of date and must be regenerated with protoc >= 3.19.0.\nIf you cannot immediately regenerate your protos, some other possible workarounds are:\n 1. Downgrade the protobuf package to 3.20.x or lower.\n 2. Set PROTOCOL_BUFFERS_PYTHON_IMPLEMENTATION=python (but this will use pure-Python parsing and will be much slower).\n\nMore information: https://developers.google.com/protocol-buffers/docs/news/2022-05-06#python-updates",
     "output_type": "error",
     "traceback": [
      "\u001b[0;31m---------------------------------------------------------------------------\u001b[0m",
      "\u001b[0;31mTypeError\u001b[0m                                 Traceback (most recent call last)",
      "\u001b[1;32m/Users/husni.zuhdi/Documents/Codes/1-Python-Workshop/retention-prediction-demo/retention-prediction.ipynb Cell 12'\u001b[0m in \u001b[0;36m<cell line: 1>\u001b[0;34m()\u001b[0m\n\u001b[0;32m----> <a href='vscode-notebook-cell:/Users/husni.zuhdi/Documents/Codes/1-Python-Workshop/retention-prediction-demo/retention-prediction.ipynb#ch0000011?line=0'>1</a>\u001b[0m \u001b[39mimport\u001b[39;00m \u001b[39mtensorflow\u001b[39;00m \u001b[39mas\u001b[39;00m \u001b[39mtf\u001b[39;00m\n\u001b[1;32m      <a href='vscode-notebook-cell:/Users/husni.zuhdi/Documents/Codes/1-Python-Workshop/retention-prediction-demo/retention-prediction.ipynb#ch0000011?line=1'>2</a>\u001b[0m \u001b[39mfrom\u001b[39;00m \u001b[39mtensorflow\u001b[39;00m\u001b[39m.\u001b[39;00m\u001b[39mkeras\u001b[39;00m\u001b[39m.\u001b[39;00m\u001b[39mmodels\u001b[39;00m \u001b[39mimport\u001b[39;00m Sequential\n\u001b[1;32m      <a href='vscode-notebook-cell:/Users/husni.zuhdi/Documents/Codes/1-Python-Workshop/retention-prediction-demo/retention-prediction.ipynb#ch0000011?line=2'>3</a>\u001b[0m \u001b[39mfrom\u001b[39;00m \u001b[39mtensorflow\u001b[39;00m\u001b[39m.\u001b[39;00m\u001b[39mkeras\u001b[39;00m\u001b[39m.\u001b[39;00m\u001b[39mlayers\u001b[39;00m \u001b[39mimport\u001b[39;00m Dense\n",
      "File \u001b[0;32m~/Documents/Codes/1-Python-Workshop/retention-prediction-demo/retention-prediction/lib/python3.10/site-packages/tensorflow/__init__.py:37\u001b[0m, in \u001b[0;36m<module>\u001b[0;34m\u001b[0m\n\u001b[1;32m     <a href='file:///Users/husni.zuhdi/Documents/Codes/1-Python-Workshop/retention-prediction-demo/retention-prediction/lib/python3.10/site-packages/tensorflow/__init__.py?line=33'>34</a>\u001b[0m \u001b[39mimport\u001b[39;00m \u001b[39msys\u001b[39;00m \u001b[39mas\u001b[39;00m \u001b[39m_sys\u001b[39;00m\n\u001b[1;32m     <a href='file:///Users/husni.zuhdi/Documents/Codes/1-Python-Workshop/retention-prediction-demo/retention-prediction/lib/python3.10/site-packages/tensorflow/__init__.py?line=34'>35</a>\u001b[0m \u001b[39mimport\u001b[39;00m \u001b[39mtyping\u001b[39;00m \u001b[39mas\u001b[39;00m \u001b[39m_typing\u001b[39;00m\n\u001b[0;32m---> <a href='file:///Users/husni.zuhdi/Documents/Codes/1-Python-Workshop/retention-prediction-demo/retention-prediction/lib/python3.10/site-packages/tensorflow/__init__.py?line=36'>37</a>\u001b[0m \u001b[39mfrom\u001b[39;00m \u001b[39mtensorflow\u001b[39;00m\u001b[39m.\u001b[39;00m\u001b[39mpython\u001b[39;00m\u001b[39m.\u001b[39;00m\u001b[39mtools\u001b[39;00m \u001b[39mimport\u001b[39;00m module_util \u001b[39mas\u001b[39;00m _module_util\n\u001b[1;32m     <a href='file:///Users/husni.zuhdi/Documents/Codes/1-Python-Workshop/retention-prediction-demo/retention-prediction/lib/python3.10/site-packages/tensorflow/__init__.py?line=37'>38</a>\u001b[0m \u001b[39mfrom\u001b[39;00m \u001b[39mtensorflow\u001b[39;00m\u001b[39m.\u001b[39;00m\u001b[39mpython\u001b[39;00m\u001b[39m.\u001b[39;00m\u001b[39mutil\u001b[39;00m\u001b[39m.\u001b[39;00m\u001b[39mlazy_loader\u001b[39;00m \u001b[39mimport\u001b[39;00m LazyLoader \u001b[39mas\u001b[39;00m _LazyLoader\n\u001b[1;32m     <a href='file:///Users/husni.zuhdi/Documents/Codes/1-Python-Workshop/retention-prediction-demo/retention-prediction/lib/python3.10/site-packages/tensorflow/__init__.py?line=39'>40</a>\u001b[0m \u001b[39m# Make sure code inside the TensorFlow codebase can use tf2.enabled() at import.\u001b[39;00m\n",
      "File \u001b[0;32m~/Documents/Codes/1-Python-Workshop/retention-prediction-demo/retention-prediction/lib/python3.10/site-packages/tensorflow/python/__init__.py:37\u001b[0m, in \u001b[0;36m<module>\u001b[0;34m\u001b[0m\n\u001b[1;32m     <a href='file:///Users/husni.zuhdi/Documents/Codes/1-Python-Workshop/retention-prediction-demo/retention-prediction/lib/python3.10/site-packages/tensorflow/python/__init__.py?line=28'>29</a>\u001b[0m \u001b[39m# We aim to keep this file minimal and ideally remove completely.\u001b[39;00m\n\u001b[1;32m     <a href='file:///Users/husni.zuhdi/Documents/Codes/1-Python-Workshop/retention-prediction-demo/retention-prediction/lib/python3.10/site-packages/tensorflow/python/__init__.py?line=29'>30</a>\u001b[0m \u001b[39m# If you are adding a new file with @tf_export decorators,\u001b[39;00m\n\u001b[1;32m     <a href='file:///Users/husni.zuhdi/Documents/Codes/1-Python-Workshop/retention-prediction-demo/retention-prediction/lib/python3.10/site-packages/tensorflow/python/__init__.py?line=30'>31</a>\u001b[0m \u001b[39m# import it in modules_with_exports.py instead.\u001b[39;00m\n\u001b[1;32m     <a href='file:///Users/husni.zuhdi/Documents/Codes/1-Python-Workshop/retention-prediction-demo/retention-prediction/lib/python3.10/site-packages/tensorflow/python/__init__.py?line=31'>32</a>\u001b[0m \n\u001b[1;32m     <a href='file:///Users/husni.zuhdi/Documents/Codes/1-Python-Workshop/retention-prediction-demo/retention-prediction/lib/python3.10/site-packages/tensorflow/python/__init__.py?line=32'>33</a>\u001b[0m \u001b[39m# go/tf-wildcard-import\u001b[39;00m\n\u001b[1;32m     <a href='file:///Users/husni.zuhdi/Documents/Codes/1-Python-Workshop/retention-prediction-demo/retention-prediction/lib/python3.10/site-packages/tensorflow/python/__init__.py?line=33'>34</a>\u001b[0m \u001b[39m# pylint: disable=wildcard-import,g-bad-import-order,g-import-not-at-top\u001b[39;00m\n\u001b[1;32m     <a href='file:///Users/husni.zuhdi/Documents/Codes/1-Python-Workshop/retention-prediction-demo/retention-prediction/lib/python3.10/site-packages/tensorflow/python/__init__.py?line=35'>36</a>\u001b[0m \u001b[39mfrom\u001b[39;00m \u001b[39mtensorflow\u001b[39;00m\u001b[39m.\u001b[39;00m\u001b[39mpython\u001b[39;00m \u001b[39mimport\u001b[39;00m pywrap_tensorflow \u001b[39mas\u001b[39;00m _pywrap_tensorflow\n\u001b[0;32m---> <a href='file:///Users/husni.zuhdi/Documents/Codes/1-Python-Workshop/retention-prediction-demo/retention-prediction/lib/python3.10/site-packages/tensorflow/python/__init__.py?line=36'>37</a>\u001b[0m \u001b[39mfrom\u001b[39;00m \u001b[39mtensorflow\u001b[39;00m\u001b[39m.\u001b[39;00m\u001b[39mpython\u001b[39;00m\u001b[39m.\u001b[39;00m\u001b[39meager\u001b[39;00m \u001b[39mimport\u001b[39;00m context\n\u001b[1;32m     <a href='file:///Users/husni.zuhdi/Documents/Codes/1-Python-Workshop/retention-prediction-demo/retention-prediction/lib/python3.10/site-packages/tensorflow/python/__init__.py?line=38'>39</a>\u001b[0m \u001b[39m# pylint: enable=wildcard-import\u001b[39;00m\n\u001b[1;32m     <a href='file:///Users/husni.zuhdi/Documents/Codes/1-Python-Workshop/retention-prediction-demo/retention-prediction/lib/python3.10/site-packages/tensorflow/python/__init__.py?line=39'>40</a>\u001b[0m \n\u001b[1;32m     <a href='file:///Users/husni.zuhdi/Documents/Codes/1-Python-Workshop/retention-prediction-demo/retention-prediction/lib/python3.10/site-packages/tensorflow/python/__init__.py?line=40'>41</a>\u001b[0m \u001b[39m# Bring in subpackages.\u001b[39;00m\n\u001b[1;32m     <a href='file:///Users/husni.zuhdi/Documents/Codes/1-Python-Workshop/retention-prediction-demo/retention-prediction/lib/python3.10/site-packages/tensorflow/python/__init__.py?line=41'>42</a>\u001b[0m \u001b[39mfrom\u001b[39;00m \u001b[39mtensorflow\u001b[39;00m\u001b[39m.\u001b[39;00m\u001b[39mpython\u001b[39;00m \u001b[39mimport\u001b[39;00m data\n",
      "File \u001b[0;32m~/Documents/Codes/1-Python-Workshop/retention-prediction-demo/retention-prediction/lib/python3.10/site-packages/tensorflow/python/eager/context.py:29\u001b[0m, in \u001b[0;36m<module>\u001b[0;34m\u001b[0m\n\u001b[1;32m     <a href='file:///Users/husni.zuhdi/Documents/Codes/1-Python-Workshop/retention-prediction-demo/retention-prediction/lib/python3.10/site-packages/tensorflow/python/eager/context.py?line=25'>26</a>\u001b[0m \u001b[39mimport\u001b[39;00m \u001b[39mnumpy\u001b[39;00m \u001b[39mas\u001b[39;00m \u001b[39mnp\u001b[39;00m\n\u001b[1;32m     <a href='file:///Users/husni.zuhdi/Documents/Codes/1-Python-Workshop/retention-prediction-demo/retention-prediction/lib/python3.10/site-packages/tensorflow/python/eager/context.py?line=26'>27</a>\u001b[0m \u001b[39mimport\u001b[39;00m \u001b[39msix\u001b[39;00m\n\u001b[0;32m---> <a href='file:///Users/husni.zuhdi/Documents/Codes/1-Python-Workshop/retention-prediction-demo/retention-prediction/lib/python3.10/site-packages/tensorflow/python/eager/context.py?line=28'>29</a>\u001b[0m \u001b[39mfrom\u001b[39;00m \u001b[39mtensorflow\u001b[39;00m\u001b[39m.\u001b[39;00m\u001b[39mcore\u001b[39;00m\u001b[39m.\u001b[39;00m\u001b[39mframework\u001b[39;00m \u001b[39mimport\u001b[39;00m function_pb2\n\u001b[1;32m     <a href='file:///Users/husni.zuhdi/Documents/Codes/1-Python-Workshop/retention-prediction-demo/retention-prediction/lib/python3.10/site-packages/tensorflow/python/eager/context.py?line=29'>30</a>\u001b[0m \u001b[39mfrom\u001b[39;00m \u001b[39mtensorflow\u001b[39;00m\u001b[39m.\u001b[39;00m\u001b[39mcore\u001b[39;00m\u001b[39m.\u001b[39;00m\u001b[39mprotobuf\u001b[39;00m \u001b[39mimport\u001b[39;00m config_pb2\n\u001b[1;32m     <a href='file:///Users/husni.zuhdi/Documents/Codes/1-Python-Workshop/retention-prediction-demo/retention-prediction/lib/python3.10/site-packages/tensorflow/python/eager/context.py?line=30'>31</a>\u001b[0m \u001b[39mfrom\u001b[39;00m \u001b[39mtensorflow\u001b[39;00m\u001b[39m.\u001b[39;00m\u001b[39mcore\u001b[39;00m\u001b[39m.\u001b[39;00m\u001b[39mprotobuf\u001b[39;00m \u001b[39mimport\u001b[39;00m coordination_config_pb2\n",
      "File \u001b[0;32m~/Documents/Codes/1-Python-Workshop/retention-prediction-demo/retention-prediction/lib/python3.10/site-packages/tensorflow/core/framework/function_pb2.py:16\u001b[0m, in \u001b[0;36m<module>\u001b[0;34m\u001b[0m\n\u001b[1;32m     <a href='file:///Users/husni.zuhdi/Documents/Codes/1-Python-Workshop/retention-prediction-demo/retention-prediction/lib/python3.10/site-packages/tensorflow/core/framework/function_pb2.py?line=10'>11</a>\u001b[0m \u001b[39m# @@protoc_insertion_point(imports)\u001b[39;00m\n\u001b[1;32m     <a href='file:///Users/husni.zuhdi/Documents/Codes/1-Python-Workshop/retention-prediction-demo/retention-prediction/lib/python3.10/site-packages/tensorflow/core/framework/function_pb2.py?line=12'>13</a>\u001b[0m _sym_db \u001b[39m=\u001b[39m _symbol_database\u001b[39m.\u001b[39mDefault()\n\u001b[0;32m---> <a href='file:///Users/husni.zuhdi/Documents/Codes/1-Python-Workshop/retention-prediction-demo/retention-prediction/lib/python3.10/site-packages/tensorflow/core/framework/function_pb2.py?line=15'>16</a>\u001b[0m \u001b[39mfrom\u001b[39;00m \u001b[39mtensorflow\u001b[39;00m\u001b[39m.\u001b[39;00m\u001b[39mcore\u001b[39;00m\u001b[39m.\u001b[39;00m\u001b[39mframework\u001b[39;00m \u001b[39mimport\u001b[39;00m attr_value_pb2 \u001b[39mas\u001b[39;00m tensorflow_dot_core_dot_framework_dot_attr__value__pb2\n\u001b[1;32m     <a href='file:///Users/husni.zuhdi/Documents/Codes/1-Python-Workshop/retention-prediction-demo/retention-prediction/lib/python3.10/site-packages/tensorflow/core/framework/function_pb2.py?line=16'>17</a>\u001b[0m \u001b[39mfrom\u001b[39;00m \u001b[39mtensorflow\u001b[39;00m\u001b[39m.\u001b[39;00m\u001b[39mcore\u001b[39;00m\u001b[39m.\u001b[39;00m\u001b[39mframework\u001b[39;00m \u001b[39mimport\u001b[39;00m node_def_pb2 \u001b[39mas\u001b[39;00m tensorflow_dot_core_dot_framework_dot_node__def__pb2\n\u001b[1;32m     <a href='file:///Users/husni.zuhdi/Documents/Codes/1-Python-Workshop/retention-prediction-demo/retention-prediction/lib/python3.10/site-packages/tensorflow/core/framework/function_pb2.py?line=17'>18</a>\u001b[0m \u001b[39mfrom\u001b[39;00m \u001b[39mtensorflow\u001b[39;00m\u001b[39m.\u001b[39;00m\u001b[39mcore\u001b[39;00m\u001b[39m.\u001b[39;00m\u001b[39mframework\u001b[39;00m \u001b[39mimport\u001b[39;00m op_def_pb2 \u001b[39mas\u001b[39;00m tensorflow_dot_core_dot_framework_dot_op__def__pb2\n",
      "File \u001b[0;32m~/Documents/Codes/1-Python-Workshop/retention-prediction-demo/retention-prediction/lib/python3.10/site-packages/tensorflow/core/framework/attr_value_pb2.py:16\u001b[0m, in \u001b[0;36m<module>\u001b[0;34m\u001b[0m\n\u001b[1;32m     <a href='file:///Users/husni.zuhdi/Documents/Codes/1-Python-Workshop/retention-prediction-demo/retention-prediction/lib/python3.10/site-packages/tensorflow/core/framework/attr_value_pb2.py?line=10'>11</a>\u001b[0m \u001b[39m# @@protoc_insertion_point(imports)\u001b[39;00m\n\u001b[1;32m     <a href='file:///Users/husni.zuhdi/Documents/Codes/1-Python-Workshop/retention-prediction-demo/retention-prediction/lib/python3.10/site-packages/tensorflow/core/framework/attr_value_pb2.py?line=12'>13</a>\u001b[0m _sym_db \u001b[39m=\u001b[39m _symbol_database\u001b[39m.\u001b[39mDefault()\n\u001b[0;32m---> <a href='file:///Users/husni.zuhdi/Documents/Codes/1-Python-Workshop/retention-prediction-demo/retention-prediction/lib/python3.10/site-packages/tensorflow/core/framework/attr_value_pb2.py?line=15'>16</a>\u001b[0m \u001b[39mfrom\u001b[39;00m \u001b[39mtensorflow\u001b[39;00m\u001b[39m.\u001b[39;00m\u001b[39mcore\u001b[39;00m\u001b[39m.\u001b[39;00m\u001b[39mframework\u001b[39;00m \u001b[39mimport\u001b[39;00m tensor_pb2 \u001b[39mas\u001b[39;00m tensorflow_dot_core_dot_framework_dot_tensor__pb2\n\u001b[1;32m     <a href='file:///Users/husni.zuhdi/Documents/Codes/1-Python-Workshop/retention-prediction-demo/retention-prediction/lib/python3.10/site-packages/tensorflow/core/framework/attr_value_pb2.py?line=16'>17</a>\u001b[0m \u001b[39mfrom\u001b[39;00m \u001b[39mtensorflow\u001b[39;00m\u001b[39m.\u001b[39;00m\u001b[39mcore\u001b[39;00m\u001b[39m.\u001b[39;00m\u001b[39mframework\u001b[39;00m \u001b[39mimport\u001b[39;00m tensor_shape_pb2 \u001b[39mas\u001b[39;00m tensorflow_dot_core_dot_framework_dot_tensor__shape__pb2\n\u001b[1;32m     <a href='file:///Users/husni.zuhdi/Documents/Codes/1-Python-Workshop/retention-prediction-demo/retention-prediction/lib/python3.10/site-packages/tensorflow/core/framework/attr_value_pb2.py?line=17'>18</a>\u001b[0m \u001b[39mfrom\u001b[39;00m \u001b[39mtensorflow\u001b[39;00m\u001b[39m.\u001b[39;00m\u001b[39mcore\u001b[39;00m\u001b[39m.\u001b[39;00m\u001b[39mframework\u001b[39;00m \u001b[39mimport\u001b[39;00m types_pb2 \u001b[39mas\u001b[39;00m tensorflow_dot_core_dot_framework_dot_types__pb2\n",
      "File \u001b[0;32m~/Documents/Codes/1-Python-Workshop/retention-prediction-demo/retention-prediction/lib/python3.10/site-packages/tensorflow/core/framework/tensor_pb2.py:16\u001b[0m, in \u001b[0;36m<module>\u001b[0;34m\u001b[0m\n\u001b[1;32m     <a href='file:///Users/husni.zuhdi/Documents/Codes/1-Python-Workshop/retention-prediction-demo/retention-prediction/lib/python3.10/site-packages/tensorflow/core/framework/tensor_pb2.py?line=10'>11</a>\u001b[0m \u001b[39m# @@protoc_insertion_point(imports)\u001b[39;00m\n\u001b[1;32m     <a href='file:///Users/husni.zuhdi/Documents/Codes/1-Python-Workshop/retention-prediction-demo/retention-prediction/lib/python3.10/site-packages/tensorflow/core/framework/tensor_pb2.py?line=12'>13</a>\u001b[0m _sym_db \u001b[39m=\u001b[39m _symbol_database\u001b[39m.\u001b[39mDefault()\n\u001b[0;32m---> <a href='file:///Users/husni.zuhdi/Documents/Codes/1-Python-Workshop/retention-prediction-demo/retention-prediction/lib/python3.10/site-packages/tensorflow/core/framework/tensor_pb2.py?line=15'>16</a>\u001b[0m \u001b[39mfrom\u001b[39;00m \u001b[39mtensorflow\u001b[39;00m\u001b[39m.\u001b[39;00m\u001b[39mcore\u001b[39;00m\u001b[39m.\u001b[39;00m\u001b[39mframework\u001b[39;00m \u001b[39mimport\u001b[39;00m resource_handle_pb2 \u001b[39mas\u001b[39;00m tensorflow_dot_core_dot_framework_dot_resource__handle__pb2\n\u001b[1;32m     <a href='file:///Users/husni.zuhdi/Documents/Codes/1-Python-Workshop/retention-prediction-demo/retention-prediction/lib/python3.10/site-packages/tensorflow/core/framework/tensor_pb2.py?line=16'>17</a>\u001b[0m \u001b[39mfrom\u001b[39;00m \u001b[39mtensorflow\u001b[39;00m\u001b[39m.\u001b[39;00m\u001b[39mcore\u001b[39;00m\u001b[39m.\u001b[39;00m\u001b[39mframework\u001b[39;00m \u001b[39mimport\u001b[39;00m tensor_shape_pb2 \u001b[39mas\u001b[39;00m tensorflow_dot_core_dot_framework_dot_tensor__shape__pb2\n\u001b[1;32m     <a href='file:///Users/husni.zuhdi/Documents/Codes/1-Python-Workshop/retention-prediction-demo/retention-prediction/lib/python3.10/site-packages/tensorflow/core/framework/tensor_pb2.py?line=17'>18</a>\u001b[0m \u001b[39mfrom\u001b[39;00m \u001b[39mtensorflow\u001b[39;00m\u001b[39m.\u001b[39;00m\u001b[39mcore\u001b[39;00m\u001b[39m.\u001b[39;00m\u001b[39mframework\u001b[39;00m \u001b[39mimport\u001b[39;00m types_pb2 \u001b[39mas\u001b[39;00m tensorflow_dot_core_dot_framework_dot_types__pb2\n",
      "File \u001b[0;32m~/Documents/Codes/1-Python-Workshop/retention-prediction-demo/retention-prediction/lib/python3.10/site-packages/tensorflow/core/framework/resource_handle_pb2.py:16\u001b[0m, in \u001b[0;36m<module>\u001b[0;34m\u001b[0m\n\u001b[1;32m     <a href='file:///Users/husni.zuhdi/Documents/Codes/1-Python-Workshop/retention-prediction-demo/retention-prediction/lib/python3.10/site-packages/tensorflow/core/framework/resource_handle_pb2.py?line=10'>11</a>\u001b[0m \u001b[39m# @@protoc_insertion_point(imports)\u001b[39;00m\n\u001b[1;32m     <a href='file:///Users/husni.zuhdi/Documents/Codes/1-Python-Workshop/retention-prediction-demo/retention-prediction/lib/python3.10/site-packages/tensorflow/core/framework/resource_handle_pb2.py?line=12'>13</a>\u001b[0m _sym_db \u001b[39m=\u001b[39m _symbol_database\u001b[39m.\u001b[39mDefault()\n\u001b[0;32m---> <a href='file:///Users/husni.zuhdi/Documents/Codes/1-Python-Workshop/retention-prediction-demo/retention-prediction/lib/python3.10/site-packages/tensorflow/core/framework/resource_handle_pb2.py?line=15'>16</a>\u001b[0m \u001b[39mfrom\u001b[39;00m \u001b[39mtensorflow\u001b[39;00m\u001b[39m.\u001b[39;00m\u001b[39mcore\u001b[39;00m\u001b[39m.\u001b[39;00m\u001b[39mframework\u001b[39;00m \u001b[39mimport\u001b[39;00m tensor_shape_pb2 \u001b[39mas\u001b[39;00m tensorflow_dot_core_dot_framework_dot_tensor__shape__pb2\n\u001b[1;32m     <a href='file:///Users/husni.zuhdi/Documents/Codes/1-Python-Workshop/retention-prediction-demo/retention-prediction/lib/python3.10/site-packages/tensorflow/core/framework/resource_handle_pb2.py?line=16'>17</a>\u001b[0m \u001b[39mfrom\u001b[39;00m \u001b[39mtensorflow\u001b[39;00m\u001b[39m.\u001b[39;00m\u001b[39mcore\u001b[39;00m\u001b[39m.\u001b[39;00m\u001b[39mframework\u001b[39;00m \u001b[39mimport\u001b[39;00m types_pb2 \u001b[39mas\u001b[39;00m tensorflow_dot_core_dot_framework_dot_types__pb2\n\u001b[1;32m     <a href='file:///Users/husni.zuhdi/Documents/Codes/1-Python-Workshop/retention-prediction-demo/retention-prediction/lib/python3.10/site-packages/tensorflow/core/framework/resource_handle_pb2.py?line=19'>20</a>\u001b[0m DESCRIPTOR \u001b[39m=\u001b[39m _descriptor\u001b[39m.\u001b[39mFileDescriptor(\n\u001b[1;32m     <a href='file:///Users/husni.zuhdi/Documents/Codes/1-Python-Workshop/retention-prediction-demo/retention-prediction/lib/python3.10/site-packages/tensorflow/core/framework/resource_handle_pb2.py?line=20'>21</a>\u001b[0m   name\u001b[39m=\u001b[39m\u001b[39m'\u001b[39m\u001b[39mtensorflow/core/framework/resource_handle.proto\u001b[39m\u001b[39m'\u001b[39m,\n\u001b[1;32m     <a href='file:///Users/husni.zuhdi/Documents/Codes/1-Python-Workshop/retention-prediction-demo/retention-prediction/lib/python3.10/site-packages/tensorflow/core/framework/resource_handle_pb2.py?line=21'>22</a>\u001b[0m   package\u001b[39m=\u001b[39m\u001b[39m'\u001b[39m\u001b[39mtensorflow\u001b[39m\u001b[39m'\u001b[39m,\n\u001b[0;32m   (...)\u001b[0m\n\u001b[1;32m     <a href='file:///Users/husni.zuhdi/Documents/Codes/1-Python-Workshop/retention-prediction-demo/retention-prediction/lib/python3.10/site-packages/tensorflow/core/framework/resource_handle_pb2.py?line=25'>26</a>\u001b[0m   ,\n\u001b[1;32m     <a href='file:///Users/husni.zuhdi/Documents/Codes/1-Python-Workshop/retention-prediction-demo/retention-prediction/lib/python3.10/site-packages/tensorflow/core/framework/resource_handle_pb2.py?line=26'>27</a>\u001b[0m   dependencies\u001b[39m=\u001b[39m[tensorflow_dot_core_dot_framework_dot_tensor__shape__pb2\u001b[39m.\u001b[39mDESCRIPTOR,tensorflow_dot_core_dot_framework_dot_types__pb2\u001b[39m.\u001b[39mDESCRIPTOR,])\n",
      "File \u001b[0;32m~/Documents/Codes/1-Python-Workshop/retention-prediction-demo/retention-prediction/lib/python3.10/site-packages/tensorflow/core/framework/tensor_shape_pb2.py:36\u001b[0m, in \u001b[0;36m<module>\u001b[0;34m\u001b[0m\n\u001b[1;32m     <a href='file:///Users/husni.zuhdi/Documents/Codes/1-Python-Workshop/retention-prediction-demo/retention-prediction/lib/python3.10/site-packages/tensorflow/core/framework/tensor_shape_pb2.py?line=12'>13</a>\u001b[0m _sym_db \u001b[39m=\u001b[39m _symbol_database\u001b[39m.\u001b[39mDefault()\n\u001b[1;32m     <a href='file:///Users/husni.zuhdi/Documents/Codes/1-Python-Workshop/retention-prediction-demo/retention-prediction/lib/python3.10/site-packages/tensorflow/core/framework/tensor_shape_pb2.py?line=17'>18</a>\u001b[0m DESCRIPTOR \u001b[39m=\u001b[39m _descriptor\u001b[39m.\u001b[39mFileDescriptor(\n\u001b[1;32m     <a href='file:///Users/husni.zuhdi/Documents/Codes/1-Python-Workshop/retention-prediction-demo/retention-prediction/lib/python3.10/site-packages/tensorflow/core/framework/tensor_shape_pb2.py?line=18'>19</a>\u001b[0m   name\u001b[39m=\u001b[39m\u001b[39m'\u001b[39m\u001b[39mtensorflow/core/framework/tensor_shape.proto\u001b[39m\u001b[39m'\u001b[39m,\n\u001b[1;32m     <a href='file:///Users/husni.zuhdi/Documents/Codes/1-Python-Workshop/retention-prediction-demo/retention-prediction/lib/python3.10/site-packages/tensorflow/core/framework/tensor_shape_pb2.py?line=19'>20</a>\u001b[0m   package\u001b[39m=\u001b[39m\u001b[39m'\u001b[39m\u001b[39mtensorflow\u001b[39m\u001b[39m'\u001b[39m,\n\u001b[0;32m   (...)\u001b[0m\n\u001b[1;32m     <a href='file:///Users/husni.zuhdi/Documents/Codes/1-Python-Workshop/retention-prediction-demo/retention-prediction/lib/python3.10/site-packages/tensorflow/core/framework/tensor_shape_pb2.py?line=22'>23</a>\u001b[0m   serialized_pb\u001b[39m=\u001b[39m_b(\u001b[39m'\u001b[39m\u001b[39m\\n\u001b[39;00m\u001b[39m,tensorflow/core/framework/tensor_shape.proto\u001b[39m\u001b[39m\\x12\u001b[39;00m\u001b[39m\\n\u001b[39;00m\u001b[39mtensorflow\u001b[39m\u001b[39m\\\"\u001b[39;00m\u001b[39mz\u001b[39m\u001b[39m\\n\u001b[39;00m\u001b[39m\\x10\u001b[39;00m\u001b[39mTensorShapeProto\u001b[39m\u001b[39m\\x12\u001b[39;00m\u001b[39m-\u001b[39m\u001b[39m\\n\u001b[39;00m\u001b[39m\\x03\u001b[39;00m\u001b[39m\\x64\u001b[39;00m\u001b[39mim\u001b[39m\u001b[39m\\x18\u001b[39;00m\u001b[39m\\x02\u001b[39;00m\u001b[39m \u001b[39m\u001b[39m\\x03\u001b[39;00m\u001b[39m(\u001b[39m\u001b[39m\\x0b\u001b[39;00m\u001b[39m\\x32\u001b[39;00m\u001b[39m .tensorflow.TensorShapeProto.Dim\u001b[39m\u001b[39m\\x12\u001b[39;00m\u001b[39m\\x14\u001b[39;00m\u001b[39m\\n\u001b[39;00m\u001b[39m\\x0c\u001b[39;00m\u001b[39munknown_rank\u001b[39m\u001b[39m\\x18\u001b[39;00m\u001b[39m\\x03\u001b[39;00m\u001b[39m \u001b[39m\u001b[39m\\x01\u001b[39;00m\u001b[39m(\u001b[39m\u001b[39m\\x08\u001b[39;00m\u001b[39m\\x1a\u001b[39;00m\u001b[39m!\u001b[39m\u001b[39m\\n\u001b[39;00m\u001b[39m\\x03\u001b[39;00m\u001b[39m\\x44\u001b[39;00m\u001b[39mim\u001b[39m\u001b[39m\\x12\u001b[39;00m\u001b[39m\\x0c\u001b[39;00m\u001b[39m\\n\u001b[39;00m\u001b[39m\\x04\u001b[39;00m\u001b[39msize\u001b[39m\u001b[39m\\x18\u001b[39;00m\u001b[39m\\x01\u001b[39;00m\u001b[39m \u001b[39m\u001b[39m\\x01\u001b[39;00m\u001b[39m(\u001b[39m\u001b[39m\\x03\u001b[39;00m\u001b[39m\\x12\u001b[39;00m\u001b[39m\\x0c\u001b[39;00m\u001b[39m\\n\u001b[39;00m\u001b[39m\\x04\u001b[39;00m\u001b[39mname\u001b[39m\u001b[39m\\x18\u001b[39;00m\u001b[39m\\x02\u001b[39;00m\u001b[39m \u001b[39m\u001b[39m\\x01\u001b[39;00m\u001b[39m(\u001b[39m\u001b[39m\\t\u001b[39;00m\u001b[39mB\u001b[39m\u001b[39m\\x87\u001b[39;00m\u001b[39m\\x01\u001b[39;00m\u001b[39m\\n\u001b[39;00m\u001b[39m\\x18\u001b[39;00m\u001b[39morg.tensorflow.frameworkB\u001b[39m\u001b[39m\\x11\u001b[39;00m\u001b[39mTensorShapeProtosP\u001b[39m\u001b[39m\\x01\u001b[39;00m\u001b[39mZSgithub.com/tensorflow/tensorflow/tensorflow/go/core/framework/tensor_shape_go_proto\u001b[39m\u001b[39m\\xf8\u001b[39;00m\u001b[39m\\x01\u001b[39;00m\u001b[39m\\x01\u001b[39;00m\u001b[39m\\x62\u001b[39;00m\u001b[39m\\x06\u001b[39;00m\u001b[39mproto3\u001b[39m\u001b[39m'\u001b[39m)\n\u001b[1;32m     <a href='file:///Users/husni.zuhdi/Documents/Codes/1-Python-Workshop/retention-prediction-demo/retention-prediction/lib/python3.10/site-packages/tensorflow/core/framework/tensor_shape_pb2.py?line=23'>24</a>\u001b[0m )\n\u001b[1;32m     <a href='file:///Users/husni.zuhdi/Documents/Codes/1-Python-Workshop/retention-prediction-demo/retention-prediction/lib/python3.10/site-packages/tensorflow/core/framework/tensor_shape_pb2.py?line=28'>29</a>\u001b[0m _TENSORSHAPEPROTO_DIM \u001b[39m=\u001b[39m _descriptor\u001b[39m.\u001b[39mDescriptor(\n\u001b[1;32m     <a href='file:///Users/husni.zuhdi/Documents/Codes/1-Python-Workshop/retention-prediction-demo/retention-prediction/lib/python3.10/site-packages/tensorflow/core/framework/tensor_shape_pb2.py?line=29'>30</a>\u001b[0m   name\u001b[39m=\u001b[39m\u001b[39m'\u001b[39m\u001b[39mDim\u001b[39m\u001b[39m'\u001b[39m,\n\u001b[1;32m     <a href='file:///Users/husni.zuhdi/Documents/Codes/1-Python-Workshop/retention-prediction-demo/retention-prediction/lib/python3.10/site-packages/tensorflow/core/framework/tensor_shape_pb2.py?line=30'>31</a>\u001b[0m   full_name\u001b[39m=\u001b[39m\u001b[39m'\u001b[39m\u001b[39mtensorflow.TensorShapeProto.Dim\u001b[39m\u001b[39m'\u001b[39m,\n\u001b[1;32m     <a href='file:///Users/husni.zuhdi/Documents/Codes/1-Python-Workshop/retention-prediction-demo/retention-prediction/lib/python3.10/site-packages/tensorflow/core/framework/tensor_shape_pb2.py?line=31'>32</a>\u001b[0m   filename\u001b[39m=\u001b[39m\u001b[39mNone\u001b[39;00m,\n\u001b[1;32m     <a href='file:///Users/husni.zuhdi/Documents/Codes/1-Python-Workshop/retention-prediction-demo/retention-prediction/lib/python3.10/site-packages/tensorflow/core/framework/tensor_shape_pb2.py?line=32'>33</a>\u001b[0m   file\u001b[39m=\u001b[39mDESCRIPTOR,\n\u001b[1;32m     <a href='file:///Users/husni.zuhdi/Documents/Codes/1-Python-Workshop/retention-prediction-demo/retention-prediction/lib/python3.10/site-packages/tensorflow/core/framework/tensor_shape_pb2.py?line=33'>34</a>\u001b[0m   containing_type\u001b[39m=\u001b[39m\u001b[39mNone\u001b[39;00m,\n\u001b[1;32m     <a href='file:///Users/husni.zuhdi/Documents/Codes/1-Python-Workshop/retention-prediction-demo/retention-prediction/lib/python3.10/site-packages/tensorflow/core/framework/tensor_shape_pb2.py?line=34'>35</a>\u001b[0m   fields\u001b[39m=\u001b[39m[\n\u001b[0;32m---> <a href='file:///Users/husni.zuhdi/Documents/Codes/1-Python-Workshop/retention-prediction-demo/retention-prediction/lib/python3.10/site-packages/tensorflow/core/framework/tensor_shape_pb2.py?line=35'>36</a>\u001b[0m     _descriptor\u001b[39m.\u001b[39;49mFieldDescriptor(\n\u001b[1;32m     <a href='file:///Users/husni.zuhdi/Documents/Codes/1-Python-Workshop/retention-prediction-demo/retention-prediction/lib/python3.10/site-packages/tensorflow/core/framework/tensor_shape_pb2.py?line=36'>37</a>\u001b[0m       name\u001b[39m=\u001b[39;49m\u001b[39m'\u001b[39;49m\u001b[39msize\u001b[39;49m\u001b[39m'\u001b[39;49m, full_name\u001b[39m=\u001b[39;49m\u001b[39m'\u001b[39;49m\u001b[39mtensorflow.TensorShapeProto.Dim.size\u001b[39;49m\u001b[39m'\u001b[39;49m, index\u001b[39m=\u001b[39;49m\u001b[39m0\u001b[39;49m,\n\u001b[1;32m     <a href='file:///Users/husni.zuhdi/Documents/Codes/1-Python-Workshop/retention-prediction-demo/retention-prediction/lib/python3.10/site-packages/tensorflow/core/framework/tensor_shape_pb2.py?line=37'>38</a>\u001b[0m       number\u001b[39m=\u001b[39;49m\u001b[39m1\u001b[39;49m, \u001b[39mtype\u001b[39;49m\u001b[39m=\u001b[39;49m\u001b[39m3\u001b[39;49m, cpp_type\u001b[39m=\u001b[39;49m\u001b[39m2\u001b[39;49m, label\u001b[39m=\u001b[39;49m\u001b[39m1\u001b[39;49m,\n\u001b[1;32m     <a href='file:///Users/husni.zuhdi/Documents/Codes/1-Python-Workshop/retention-prediction-demo/retention-prediction/lib/python3.10/site-packages/tensorflow/core/framework/tensor_shape_pb2.py?line=38'>39</a>\u001b[0m       has_default_value\u001b[39m=\u001b[39;49m\u001b[39mFalse\u001b[39;49;00m, default_value\u001b[39m=\u001b[39;49m\u001b[39m0\u001b[39;49m,\n\u001b[1;32m     <a href='file:///Users/husni.zuhdi/Documents/Codes/1-Python-Workshop/retention-prediction-demo/retention-prediction/lib/python3.10/site-packages/tensorflow/core/framework/tensor_shape_pb2.py?line=39'>40</a>\u001b[0m       message_type\u001b[39m=\u001b[39;49m\u001b[39mNone\u001b[39;49;00m, enum_type\u001b[39m=\u001b[39;49m\u001b[39mNone\u001b[39;49;00m, containing_type\u001b[39m=\u001b[39;49m\u001b[39mNone\u001b[39;49;00m,\n\u001b[1;32m     <a href='file:///Users/husni.zuhdi/Documents/Codes/1-Python-Workshop/retention-prediction-demo/retention-prediction/lib/python3.10/site-packages/tensorflow/core/framework/tensor_shape_pb2.py?line=40'>41</a>\u001b[0m       is_extension\u001b[39m=\u001b[39;49m\u001b[39mFalse\u001b[39;49;00m, extension_scope\u001b[39m=\u001b[39;49m\u001b[39mNone\u001b[39;49;00m,\n\u001b[1;32m     <a href='file:///Users/husni.zuhdi/Documents/Codes/1-Python-Workshop/retention-prediction-demo/retention-prediction/lib/python3.10/site-packages/tensorflow/core/framework/tensor_shape_pb2.py?line=41'>42</a>\u001b[0m       serialized_options\u001b[39m=\u001b[39;49m\u001b[39mNone\u001b[39;49;00m, file\u001b[39m=\u001b[39;49mDESCRIPTOR),\n\u001b[1;32m     <a href='file:///Users/husni.zuhdi/Documents/Codes/1-Python-Workshop/retention-prediction-demo/retention-prediction/lib/python3.10/site-packages/tensorflow/core/framework/tensor_shape_pb2.py?line=42'>43</a>\u001b[0m     _descriptor\u001b[39m.\u001b[39mFieldDescriptor(\n\u001b[1;32m     <a href='file:///Users/husni.zuhdi/Documents/Codes/1-Python-Workshop/retention-prediction-demo/retention-prediction/lib/python3.10/site-packages/tensorflow/core/framework/tensor_shape_pb2.py?line=43'>44</a>\u001b[0m       name\u001b[39m=\u001b[39m\u001b[39m'\u001b[39m\u001b[39mname\u001b[39m\u001b[39m'\u001b[39m, full_name\u001b[39m=\u001b[39m\u001b[39m'\u001b[39m\u001b[39mtensorflow.TensorShapeProto.Dim.name\u001b[39m\u001b[39m'\u001b[39m, index\u001b[39m=\u001b[39m\u001b[39m1\u001b[39m,\n\u001b[1;32m     <a href='file:///Users/husni.zuhdi/Documents/Codes/1-Python-Workshop/retention-prediction-demo/retention-prediction/lib/python3.10/site-packages/tensorflow/core/framework/tensor_shape_pb2.py?line=44'>45</a>\u001b[0m       number\u001b[39m=\u001b[39m\u001b[39m2\u001b[39m, \u001b[39mtype\u001b[39m\u001b[39m=\u001b[39m\u001b[39m9\u001b[39m, cpp_type\u001b[39m=\u001b[39m\u001b[39m9\u001b[39m, label\u001b[39m=\u001b[39m\u001b[39m1\u001b[39m,\n\u001b[1;32m     <a href='file:///Users/husni.zuhdi/Documents/Codes/1-Python-Workshop/retention-prediction-demo/retention-prediction/lib/python3.10/site-packages/tensorflow/core/framework/tensor_shape_pb2.py?line=45'>46</a>\u001b[0m       has_default_value\u001b[39m=\u001b[39m\u001b[39mFalse\u001b[39;00m, default_value\u001b[39m=\u001b[39m_b(\u001b[39m\"\u001b[39m\u001b[39m\"\u001b[39m)\u001b[39m.\u001b[39mdecode(\u001b[39m'\u001b[39m\u001b[39mutf-8\u001b[39m\u001b[39m'\u001b[39m),\n\u001b[1;32m     <a href='file:///Users/husni.zuhdi/Documents/Codes/1-Python-Workshop/retention-prediction-demo/retention-prediction/lib/python3.10/site-packages/tensorflow/core/framework/tensor_shape_pb2.py?line=46'>47</a>\u001b[0m       message_type\u001b[39m=\u001b[39m\u001b[39mNone\u001b[39;00m, enum_type\u001b[39m=\u001b[39m\u001b[39mNone\u001b[39;00m, containing_type\u001b[39m=\u001b[39m\u001b[39mNone\u001b[39;00m,\n\u001b[1;32m     <a href='file:///Users/husni.zuhdi/Documents/Codes/1-Python-Workshop/retention-prediction-demo/retention-prediction/lib/python3.10/site-packages/tensorflow/core/framework/tensor_shape_pb2.py?line=47'>48</a>\u001b[0m       is_extension\u001b[39m=\u001b[39m\u001b[39mFalse\u001b[39;00m, extension_scope\u001b[39m=\u001b[39m\u001b[39mNone\u001b[39;00m,\n\u001b[1;32m     <a href='file:///Users/husni.zuhdi/Documents/Codes/1-Python-Workshop/retention-prediction-demo/retention-prediction/lib/python3.10/site-packages/tensorflow/core/framework/tensor_shape_pb2.py?line=48'>49</a>\u001b[0m       serialized_options\u001b[39m=\u001b[39m\u001b[39mNone\u001b[39;00m, file\u001b[39m=\u001b[39mDESCRIPTOR),\n\u001b[1;32m     <a href='file:///Users/husni.zuhdi/Documents/Codes/1-Python-Workshop/retention-prediction-demo/retention-prediction/lib/python3.10/site-packages/tensorflow/core/framework/tensor_shape_pb2.py?line=49'>50</a>\u001b[0m   ],\n\u001b[1;32m     <a href='file:///Users/husni.zuhdi/Documents/Codes/1-Python-Workshop/retention-prediction-demo/retention-prediction/lib/python3.10/site-packages/tensorflow/core/framework/tensor_shape_pb2.py?line=50'>51</a>\u001b[0m   extensions\u001b[39m=\u001b[39m[\n\u001b[1;32m     <a href='file:///Users/husni.zuhdi/Documents/Codes/1-Python-Workshop/retention-prediction-demo/retention-prediction/lib/python3.10/site-packages/tensorflow/core/framework/tensor_shape_pb2.py?line=51'>52</a>\u001b[0m   ],\n\u001b[1;32m     <a href='file:///Users/husni.zuhdi/Documents/Codes/1-Python-Workshop/retention-prediction-demo/retention-prediction/lib/python3.10/site-packages/tensorflow/core/framework/tensor_shape_pb2.py?line=52'>53</a>\u001b[0m   nested_types\u001b[39m=\u001b[39m[],\n\u001b[1;32m     <a href='file:///Users/husni.zuhdi/Documents/Codes/1-Python-Workshop/retention-prediction-demo/retention-prediction/lib/python3.10/site-packages/tensorflow/core/framework/tensor_shape_pb2.py?line=53'>54</a>\u001b[0m   enum_types\u001b[39m=\u001b[39m[\n\u001b[1;32m     <a href='file:///Users/husni.zuhdi/Documents/Codes/1-Python-Workshop/retention-prediction-demo/retention-prediction/lib/python3.10/site-packages/tensorflow/core/framework/tensor_shape_pb2.py?line=54'>55</a>\u001b[0m   ],\n\u001b[1;32m     <a href='file:///Users/husni.zuhdi/Documents/Codes/1-Python-Workshop/retention-prediction-demo/retention-prediction/lib/python3.10/site-packages/tensorflow/core/framework/tensor_shape_pb2.py?line=55'>56</a>\u001b[0m   serialized_options\u001b[39m=\u001b[39m\u001b[39mNone\u001b[39;00m,\n\u001b[1;32m     <a href='file:///Users/husni.zuhdi/Documents/Codes/1-Python-Workshop/retention-prediction-demo/retention-prediction/lib/python3.10/site-packages/tensorflow/core/framework/tensor_shape_pb2.py?line=56'>57</a>\u001b[0m   is_extendable\u001b[39m=\u001b[39m\u001b[39mFalse\u001b[39;00m,\n\u001b[1;32m     <a href='file:///Users/husni.zuhdi/Documents/Codes/1-Python-Workshop/retention-prediction-demo/retention-prediction/lib/python3.10/site-packages/tensorflow/core/framework/tensor_shape_pb2.py?line=57'>58</a>\u001b[0m   syntax\u001b[39m=\u001b[39m\u001b[39m'\u001b[39m\u001b[39mproto3\u001b[39m\u001b[39m'\u001b[39m,\n\u001b[1;32m     <a href='file:///Users/husni.zuhdi/Documents/Codes/1-Python-Workshop/retention-prediction-demo/retention-prediction/lib/python3.10/site-packages/tensorflow/core/framework/tensor_shape_pb2.py?line=58'>59</a>\u001b[0m   extension_ranges\u001b[39m=\u001b[39m[],\n\u001b[1;32m     <a href='file:///Users/husni.zuhdi/Documents/Codes/1-Python-Workshop/retention-prediction-demo/retention-prediction/lib/python3.10/site-packages/tensorflow/core/framework/tensor_shape_pb2.py?line=59'>60</a>\u001b[0m   oneofs\u001b[39m=\u001b[39m[\n\u001b[1;32m     <a href='file:///Users/husni.zuhdi/Documents/Codes/1-Python-Workshop/retention-prediction-demo/retention-prediction/lib/python3.10/site-packages/tensorflow/core/framework/tensor_shape_pb2.py?line=60'>61</a>\u001b[0m   ],\n\u001b[1;32m     <a href='file:///Users/husni.zuhdi/Documents/Codes/1-Python-Workshop/retention-prediction-demo/retention-prediction/lib/python3.10/site-packages/tensorflow/core/framework/tensor_shape_pb2.py?line=61'>62</a>\u001b[0m   serialized_start\u001b[39m=\u001b[39m\u001b[39m149\u001b[39m,\n\u001b[1;32m     <a href='file:///Users/husni.zuhdi/Documents/Codes/1-Python-Workshop/retention-prediction-demo/retention-prediction/lib/python3.10/site-packages/tensorflow/core/framework/tensor_shape_pb2.py?line=62'>63</a>\u001b[0m   serialized_end\u001b[39m=\u001b[39m\u001b[39m182\u001b[39m,\n\u001b[1;32m     <a href='file:///Users/husni.zuhdi/Documents/Codes/1-Python-Workshop/retention-prediction-demo/retention-prediction/lib/python3.10/site-packages/tensorflow/core/framework/tensor_shape_pb2.py?line=63'>64</a>\u001b[0m )\n\u001b[1;32m     <a href='file:///Users/husni.zuhdi/Documents/Codes/1-Python-Workshop/retention-prediction-demo/retention-prediction/lib/python3.10/site-packages/tensorflow/core/framework/tensor_shape_pb2.py?line=65'>66</a>\u001b[0m _TENSORSHAPEPROTO \u001b[39m=\u001b[39m _descriptor\u001b[39m.\u001b[39mDescriptor(\n\u001b[1;32m     <a href='file:///Users/husni.zuhdi/Documents/Codes/1-Python-Workshop/retention-prediction-demo/retention-prediction/lib/python3.10/site-packages/tensorflow/core/framework/tensor_shape_pb2.py?line=66'>67</a>\u001b[0m   name\u001b[39m=\u001b[39m\u001b[39m'\u001b[39m\u001b[39mTensorShapeProto\u001b[39m\u001b[39m'\u001b[39m,\n\u001b[1;32m     <a href='file:///Users/husni.zuhdi/Documents/Codes/1-Python-Workshop/retention-prediction-demo/retention-prediction/lib/python3.10/site-packages/tensorflow/core/framework/tensor_shape_pb2.py?line=67'>68</a>\u001b[0m   full_name\u001b[39m=\u001b[39m\u001b[39m'\u001b[39m\u001b[39mtensorflow.TensorShapeProto\u001b[39m\u001b[39m'\u001b[39m,\n\u001b[0;32m   (...)\u001b[0m\n\u001b[1;32m    <a href='file:///Users/husni.zuhdi/Documents/Codes/1-Python-Workshop/retention-prediction-demo/retention-prediction/lib/python3.10/site-packages/tensorflow/core/framework/tensor_shape_pb2.py?line=99'>100</a>\u001b[0m   serialized_end\u001b[39m=\u001b[39m\u001b[39m182\u001b[39m,\n\u001b[1;32m    <a href='file:///Users/husni.zuhdi/Documents/Codes/1-Python-Workshop/retention-prediction-demo/retention-prediction/lib/python3.10/site-packages/tensorflow/core/framework/tensor_shape_pb2.py?line=100'>101</a>\u001b[0m )\n\u001b[1;32m    <a href='file:///Users/husni.zuhdi/Documents/Codes/1-Python-Workshop/retention-prediction-demo/retention-prediction/lib/python3.10/site-packages/tensorflow/core/framework/tensor_shape_pb2.py?line=102'>103</a>\u001b[0m _TENSORSHAPEPROTO_DIM\u001b[39m.\u001b[39mcontaining_type \u001b[39m=\u001b[39m _TENSORSHAPEPROTO\n",
      "File \u001b[0;32m~/Documents/Codes/1-Python-Workshop/retention-prediction-demo/retention-prediction/lib/python3.10/site-packages/google/protobuf/descriptor.py:560\u001b[0m, in \u001b[0;36mFieldDescriptor.__new__\u001b[0;34m(cls, name, full_name, index, number, type, cpp_type, label, default_value, message_type, enum_type, containing_type, is_extension, extension_scope, options, serialized_options, has_default_value, containing_oneof, json_name, file, create_key)\u001b[0m\n\u001b[1;32m    <a href='file:///Users/husni.zuhdi/Documents/Codes/1-Python-Workshop/retention-prediction-demo/retention-prediction/lib/python3.10/site-packages/google/protobuf/descriptor.py?line=553'>554</a>\u001b[0m \u001b[39mdef\u001b[39;00m \u001b[39m__new__\u001b[39m(\u001b[39mcls\u001b[39m, name, full_name, index, number, \u001b[39mtype\u001b[39m, cpp_type, label,\n\u001b[1;32m    <a href='file:///Users/husni.zuhdi/Documents/Codes/1-Python-Workshop/retention-prediction-demo/retention-prediction/lib/python3.10/site-packages/google/protobuf/descriptor.py?line=554'>555</a>\u001b[0m             default_value, message_type, enum_type, containing_type,\n\u001b[1;32m    <a href='file:///Users/husni.zuhdi/Documents/Codes/1-Python-Workshop/retention-prediction-demo/retention-prediction/lib/python3.10/site-packages/google/protobuf/descriptor.py?line=555'>556</a>\u001b[0m             is_extension, extension_scope, options\u001b[39m=\u001b[39m\u001b[39mNone\u001b[39;00m,\n\u001b[1;32m    <a href='file:///Users/husni.zuhdi/Documents/Codes/1-Python-Workshop/retention-prediction-demo/retention-prediction/lib/python3.10/site-packages/google/protobuf/descriptor.py?line=556'>557</a>\u001b[0m             serialized_options\u001b[39m=\u001b[39m\u001b[39mNone\u001b[39;00m,\n\u001b[1;32m    <a href='file:///Users/husni.zuhdi/Documents/Codes/1-Python-Workshop/retention-prediction-demo/retention-prediction/lib/python3.10/site-packages/google/protobuf/descriptor.py?line=557'>558</a>\u001b[0m             has_default_value\u001b[39m=\u001b[39m\u001b[39mTrue\u001b[39;00m, containing_oneof\u001b[39m=\u001b[39m\u001b[39mNone\u001b[39;00m, json_name\u001b[39m=\u001b[39m\u001b[39mNone\u001b[39;00m,\n\u001b[1;32m    <a href='file:///Users/husni.zuhdi/Documents/Codes/1-Python-Workshop/retention-prediction-demo/retention-prediction/lib/python3.10/site-packages/google/protobuf/descriptor.py?line=558'>559</a>\u001b[0m             file\u001b[39m=\u001b[39m\u001b[39mNone\u001b[39;00m, create_key\u001b[39m=\u001b[39m\u001b[39mNone\u001b[39;00m):  \u001b[39m# pylint: disable=redefined-builtin\u001b[39;00m\n\u001b[0;32m--> <a href='file:///Users/husni.zuhdi/Documents/Codes/1-Python-Workshop/retention-prediction-demo/retention-prediction/lib/python3.10/site-packages/google/protobuf/descriptor.py?line=559'>560</a>\u001b[0m   _message\u001b[39m.\u001b[39;49mMessage\u001b[39m.\u001b[39;49m_CheckCalledFromGeneratedFile()\n\u001b[1;32m    <a href='file:///Users/husni.zuhdi/Documents/Codes/1-Python-Workshop/retention-prediction-demo/retention-prediction/lib/python3.10/site-packages/google/protobuf/descriptor.py?line=560'>561</a>\u001b[0m   \u001b[39mif\u001b[39;00m is_extension:\n\u001b[1;32m    <a href='file:///Users/husni.zuhdi/Documents/Codes/1-Python-Workshop/retention-prediction-demo/retention-prediction/lib/python3.10/site-packages/google/protobuf/descriptor.py?line=561'>562</a>\u001b[0m     \u001b[39mreturn\u001b[39;00m _message\u001b[39m.\u001b[39mdefault_pool\u001b[39m.\u001b[39mFindExtensionByName(full_name)\n",
      "\u001b[0;31mTypeError\u001b[0m: Descriptors cannot not be created directly.\nIf this call came from a _pb2.py file, your generated code is out of date and must be regenerated with protoc >= 3.19.0.\nIf you cannot immediately regenerate your protos, some other possible workarounds are:\n 1. Downgrade the protobuf package to 3.20.x or lower.\n 2. Set PROTOCOL_BUFFERS_PYTHON_IMPLEMENTATION=python (but this will use pure-Python parsing and will be much slower).\n\nMore information: https://developers.google.com/protocol-buffers/docs/news/2022-05-06#python-updates"
     ]
    }
   ],
   "source": [
    "import tensorflow as tf\n",
    "from tensorflow.keras.models import Sequential\n",
    "from tensorflow.keras.layers import Dense\n",
    "# from keras.models import Sequential\n",
    "# from keras.layers import Dense"
   ]
  },
  {
   "cell_type": "code",
   "execution_count": null,
   "metadata": {},
   "outputs": [],
   "source": []
  }
 ],
 "metadata": {
  "interpreter": {
   "hash": "e7e0f8da691bef39f047a6ecce313123a5b7239f3e31c96f60216464a1606940"
  },
  "kernelspec": {
   "display_name": "Python 3.10.0 ('retention-prediction': venv)",
   "language": "python",
   "name": "python3"
  },
  "language_info": {
   "codemirror_mode": {
    "name": "ipython",
    "version": 3
   },
   "file_extension": ".py",
   "mimetype": "text/x-python",
   "name": "python",
   "nbconvert_exporter": "python",
   "pygments_lexer": "ipython3",
   "version": "3.10.0"
  },
  "orig_nbformat": 4
 },
 "nbformat": 4,
 "nbformat_minor": 2
}
